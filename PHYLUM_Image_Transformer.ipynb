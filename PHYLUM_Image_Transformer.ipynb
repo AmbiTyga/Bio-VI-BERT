{
  "nbformat": 4,
  "nbformat_minor": 0,
  "metadata": {
    "colab": {
      "name": "Pre-trained Image Transformer",
      "provenance": [],
      "collapsed_sections": [],
      "machine_shape": "hm",
      "include_colab_link": true
    },
    "kernelspec": {
      "name": "python3",
      "display_name": "Python 3"
    },
    "accelerator": "GPU"
  },
  "cells": [
    {
      "cell_type": "markdown",
      "metadata": {
        "id": "view-in-github",
        "colab_type": "text"
      },
      "source": [
        "<a href=\"https://colab.research.google.com/github/AmbiTyga/Bio-VI-BERT/blob/main/PHYLUM_Image_Transformer.ipynb\" target=\"_parent\"><img src=\"https://colab.research.google.com/assets/colab-badge.svg\" alt=\"Open In Colab\"/></a>"
      ]
    },
    {
      "cell_type": "code",
      "metadata": {
        "id": "lK7qSJkK8HBe",
        "colab": {
          "base_uri": "https://localhost:8080/"
        },
        "outputId": "1e97f28b-a0ce-46f3-85e7-99a9b508c164"
      },
      "source": [
        "!pip install timm==0.4.5 -q"
      ],
      "execution_count": 1,
      "outputs": [
        {
          "output_type": "stream",
          "text": [
            "\u001b[?25l\r\u001b[K     |█▏                              | 10kB 24.6MB/s eta 0:00:01\r\u001b[K     |██▎                             | 20kB 31.6MB/s eta 0:00:01\r\u001b[K     |███▍                            | 30kB 36.5MB/s eta 0:00:01\r\u001b[K     |████▋                           | 40kB 27.3MB/s eta 0:00:01\r\u001b[K     |█████▊                          | 51kB 28.8MB/s eta 0:00:01\r\u001b[K     |██████▉                         | 61kB 30.5MB/s eta 0:00:01\r\u001b[K     |████████                        | 71kB 21.9MB/s eta 0:00:01\r\u001b[K     |█████████▏                      | 81kB 22.6MB/s eta 0:00:01\r\u001b[K     |██████████▎                     | 92kB 21.3MB/s eta 0:00:01\r\u001b[K     |███████████▍                    | 102kB 22.6MB/s eta 0:00:01\r\u001b[K     |████████████▌                   | 112kB 22.6MB/s eta 0:00:01\r\u001b[K     |█████████████▊                  | 122kB 22.6MB/s eta 0:00:01\r\u001b[K     |██████████████▉                 | 133kB 22.6MB/s eta 0:00:01\r\u001b[K     |████████████████                | 143kB 22.6MB/s eta 0:00:01\r\u001b[K     |█████████████████               | 153kB 22.6MB/s eta 0:00:01\r\u001b[K     |██████████████████▎             | 163kB 22.6MB/s eta 0:00:01\r\u001b[K     |███████████████████▍            | 174kB 22.6MB/s eta 0:00:01\r\u001b[K     |████████████████████▌           | 184kB 22.6MB/s eta 0:00:01\r\u001b[K     |█████████████████████▋          | 194kB 22.6MB/s eta 0:00:01\r\u001b[K     |██████████████████████▉         | 204kB 22.6MB/s eta 0:00:01\r\u001b[K     |████████████████████████        | 215kB 22.6MB/s eta 0:00:01\r\u001b[K     |█████████████████████████       | 225kB 22.6MB/s eta 0:00:01\r\u001b[K     |██████████████████████████▏     | 235kB 22.6MB/s eta 0:00:01\r\u001b[K     |███████████████████████████▍    | 245kB 22.6MB/s eta 0:00:01\r\u001b[K     |████████████████████████████▌   | 256kB 22.6MB/s eta 0:00:01\r\u001b[K     |█████████████████████████████▋  | 266kB 22.6MB/s eta 0:00:01\r\u001b[K     |██████████████████████████████▉ | 276kB 22.6MB/s eta 0:00:01\r\u001b[K     |████████████████████████████████| 286kB 22.6MB/s eta 0:00:01\r\u001b[K     |████████████████████████████████| 296kB 22.6MB/s \n",
            "\u001b[?25h"
          ],
          "name": "stdout"
        }
      ]
    },
    {
      "cell_type": "code",
      "metadata": {
        "id": "iMtiu3EASowt",
        "colab": {
          "base_uri": "https://localhost:8080/"
        },
        "outputId": "da432299-a277-4264-ad95-ab38e55b1317"
      },
      "source": [
        "!rm train val -r"
      ],
      "execution_count": 20,
      "outputs": [
        {
          "output_type": "stream",
          "text": [
            "rm: cannot remove 'train': No such file or directory\n",
            "rm: cannot remove 'val': No such file or directory\n"
          ],
          "name": "stdout"
        }
      ]
    },
    {
      "cell_type": "code",
      "metadata": {
        "colab": {
          "base_uri": "https://localhost:8080/"
        },
        "id": "eVjc4Kju84S5",
        "outputId": "45cf4bf2-a780-428f-a62d-a4398f2c2d3f"
      },
      "source": [
        "# !wget https://raw.githubusercontent.com/AmbiTyga/Bio-VI-BERT/main/Train.7z\n",
        "!7z x /content/Train.7z"
      ],
      "execution_count": 21,
      "outputs": [
        {
          "output_type": "stream",
          "text": [
            "\n",
            "7-Zip [64] 16.02 : Copyright (c) 1999-2016 Igor Pavlov : 2016-05-21\n",
            "p7zip Version 16.02 (locale=en_US.UTF-8,Utf16=on,HugeFiles=on,64 bits,2 CPUs Intel(R) Xeon(R) CPU @ 2.20GHz (406F0),ASM,AES-NI)\n",
            "\n",
            "Scanning the drive for archives:\n",
            "  0M Scan /content/\b\b\b\b\b\b\b\b\b\b\b\b\b\b\b\b\b\b\b                   \b\b\b\b\b\b\b\b\b\b\b\b\b\b\b\b\b\b\b1 file, 13524763 bytes (13 MiB)\n",
            "\n",
            "Extracting archive: /content/Train.7z\n",
            "--\n",
            "Path = /content/Train.7z\n",
            "Type = 7z\n",
            "Physical Size = 13524763\n",
            "Headers Size = 13084\n",
            "Method = LZMA2:24\n",
            "Solid = +\n",
            "Blocks = 1\n",
            "\n",
            "  0%\b\b\b\b    \b\b\b\b 22% 17 - train/Ancyclostoma sp./Aduodenale_head_A_0_12.jpg\b\b\b\b\b\b\b\b\b\b\b\b\b\b\b\b\b\b\b\b\b\b\b\b\b\b\b\b\b\b\b\b\b\b\b\b\b\b\b\b\b\b\b\b\b\b\b\b\b\b\b\b\b\b\b\b\b\b\b                                                           \b\b\b\b\b\b\b\b\b\b\b\b\b\b\b\b\b\b\b\b\b\b\b\b\b\b\b\b\b\b\b\b\b\b\b\b\b\b\b\b\b\b\b\b\b\b\b\b\b\b\b\b\b\b\b\b\b\b\b 52% 377 - train/Dibothriocephalus latus/Diph_egg_2_0_99.jpg\b\b\b\b\b\b\b\b\b\b\b\b\b\b\b\b\b\b\b\b\b\b\b\b\b\b\b\b\b\b\b\b\b\b\b\b\b\b\b\b\b\b\b\b\b\b\b\b\b\b\b\b\b\b\b\b\b\b\b\b                                                            \b\b\b\b\b\b\b\b\b\b\b\b\b\b\b\b\b\b\b\b\b\b\b\b\b\b\b\b\b\b\b\b\b\b\b\b\b\b\b\b\b\b\b\b\b\b\b\b\b\b\b\b\b\b\b\b\b\b\b\b 76% 771 - train/Hymenolepis spp/H_nana_egg_wtmt4_4_193.jpg\b\b\b\b\b\b\b\b\b\b\b\b\b\b\b\b\b\b\b\b\b\b\b\b\b\b\b\b\b\b\b\b\b\b\b\b\b\b\b\b\b\b\b\b\b\b\b\b\b\b\b\b\b\b\b\b\b\b\b                                                           \b\b\b\b\b\b\b\b\b\b\b\b\b\b\b\b\b\b\b\b\b\b\b\b\b\b\b\b\b\b\b\b\b\b\b\b\b\b\b\b\b\b\b\b\b\b\b\b\b\b\b\b\b\b\b\b\b\b\b 92% 1263 - train/Plasmodium vivax/Pv_troph_thinE_1_309.jpg\b\b\b\b\b\b\b\b\b\b\b\b\b\b\b\b\b\b\b\b\b\b\b\b\b\b\b\b\b\b\b\b\b\b\b\b\b\b\b\b\b\b\b\b\b\b\b\b\b\b\b\b\b\b\b\b\b\b\b                                                           \b\b\b\b\b\b\b\b\b\b\b\b\b\b\b\b\b\b\b\b\b\b\b\b\b\b\b\b\b\b\b\b\b\b\b\b\b\b\b\b\b\b\b\b\b\b\b\b\b\b\b\b\b\b\b\b\b\b\bEverything is Ok\n",
            "\n",
            "Folders: 17\n",
            "Files: 1451\n",
            "Size:       15238342\n",
            "Compressed: 13524763\n"
          ],
          "name": "stdout"
        }
      ]
    },
    {
      "cell_type": "code",
      "metadata": {
        "id": "CweK-BHdaa-4",
        "colab": {
          "base_uri": "https://localhost:8080/"
        },
        "outputId": "23ebad3f-532d-489e-a55a-0df7d2747c4d"
      },
      "source": [
        "# !wget https://raw.githubusercontent.com/AmbiTyga/Bio-VI-BERT/main/Val.7z\n",
        "!7z x /content/Val.7z"
      ],
      "execution_count": 22,
      "outputs": [
        {
          "output_type": "stream",
          "text": [
            "\n",
            "7-Zip [64] 16.02 : Copyright (c) 1999-2016 Igor Pavlov : 2016-05-21\n",
            "p7zip Version 16.02 (locale=en_US.UTF-8,Utf16=on,HugeFiles=on,64 bits,2 CPUs Intel(R) Xeon(R) CPU @ 2.20GHz (406F0),ASM,AES-NI)\n",
            "\n",
            "Scanning the drive for archives:\n",
            "  0M Scan /content/\b\b\b\b\b\b\b\b\b\b\b\b\b\b\b\b\b\b\b                   \b\b\b\b\b\b\b\b\b\b\b\b\b\b\b\b\b\b\b1 file, 4593856 bytes (4487 KiB)\n",
            "\n",
            "Extracting archive: /content/Val.7z\n",
            "--\n",
            "Path = /content/Val.7z\n",
            "Type = 7z\n",
            "Physical Size = 4593856\n",
            "Headers Size = 5093\n",
            "Method = LZMA2:6m\n",
            "Solid = +\n",
            "Blocks = 1\n",
            "\n",
            "  0%\b\b\b\b    \b\b\b\b 67% 17\b\b\b\b\b\b\b       \b\b\b\b\b\b\bEverything is Ok\n",
            "\n",
            "Folders: 17\n",
            "Files: 486\n",
            "Size:       5092491\n",
            "Compressed: 4593856\n"
          ],
          "name": "stdout"
        }
      ]
    },
    {
      "cell_type": "code",
      "metadata": {
        "id": "yVc3_O_n_In6"
      },
      "source": [
        "import timm\n",
        "import pandas as pd\n",
        "import numpy as np\n",
        "import torch.nn as nn\n",
        "import torch\n",
        "from torch.utils.data import Dataset, DataLoader, sampler\n",
        "from sklearn.preprocessing import LabelEncoder\n",
        "import os\n",
        "from sklearn.model_selection import train_test_split\n",
        "from glob import glob\n",
        "from PIL import Image\n",
        "from torchvision import transforms"
      ],
      "execution_count": 3,
      "outputs": []
    },
    {
      "cell_type": "markdown",
      "metadata": {
        "id": "aAHwzGXx_7y-"
      },
      "source": [
        "## Cleaning and getting a final data"
      ]
    },
    {
      "cell_type": "code",
      "metadata": {
        "id": "gtJ3g1lcVah5"
      },
      "source": [
        "## Getting images(file path) from the directories \n",
        "\n",
        "imgs = []\n",
        "for path, subdirs, files in os.walk('./Dataset'):\n",
        "    for name in files:\n",
        "        imgs.append(os.path.join(path, name))\n",
        "imgs = [x for x in imgs if '.csv' not in x]"
      ],
      "execution_count": null,
      "outputs": []
    },
    {
      "cell_type": "code",
      "metadata": {
        "id": "C1zUOBkABzv6",
        "colab": {
          "base_uri": "https://localhost:8080/",
          "height": 299
        },
        "outputId": "34487b94-c178-457c-d47b-23b4b8ca75ba"
      },
      "source": [
        "data = pd.read_excel(\"/content/Dataset/all_meta_data.xlsx\")\n",
        "data.head()"
      ],
      "execution_count": null,
      "outputs": [
        {
          "output_type": "execute_result",
          "data": {
            "text/html": [
              "<div>\n",
              "<style scoped>\n",
              "    .dataframe tbody tr th:only-of-type {\n",
              "        vertical-align: middle;\n",
              "    }\n",
              "\n",
              "    .dataframe tbody tr th {\n",
              "        vertical-align: top;\n",
              "    }\n",
              "\n",
              "    .dataframe thead th {\n",
              "        text-align: right;\n",
              "    }\n",
              "</style>\n",
              "<table border=\"1\" class=\"dataframe\">\n",
              "  <thead>\n",
              "    <tr style=\"text-align: right;\">\n",
              "      <th></th>\n",
              "      <th>phylum</th>\n",
              "      <th>class</th>\n",
              "      <th>genus</th>\n",
              "      <th>species</th>\n",
              "      <th>form</th>\n",
              "      <th>sample</th>\n",
              "      <th>image_name</th>\n",
              "      <th>image_url</th>\n",
              "      <th>img_path</th>\n",
              "    </tr>\n",
              "  </thead>\n",
              "  <tbody>\n",
              "    <tr>\n",
              "      <th>0</th>\n",
              "      <td>Nematoda</td>\n",
              "      <td>Chromadorea</td>\n",
              "      <td>Enterobius</td>\n",
              "      <td>Enterobius vermicularis</td>\n",
              "      <td>egg</td>\n",
              "      <td>intestinal tissue</td>\n",
              "      <td>Evermicularis_worm4_HB.jpg</td>\n",
              "      <td>https://www.cdc.gov//dpdx/enterobiasis/images/...</td>\n",
              "      <td>./Dataset/Enterobius/Evermicularis_worm4_HB.jpg</td>\n",
              "    </tr>\n",
              "    <tr>\n",
              "      <th>1</th>\n",
              "      <td>Nematoda</td>\n",
              "      <td>Chromadorea</td>\n",
              "      <td>Enterobius</td>\n",
              "      <td>Enterobius vermicularis</td>\n",
              "      <td>egg</td>\n",
              "      <td>intestinal tissue</td>\n",
              "      <td>Evermicularis_egg_HBa.jpg</td>\n",
              "      <td>https://www.cdc.gov//dpdx/enterobiasis/images/...</td>\n",
              "      <td>./Dataset/Enterobius/Evermicularis_egg_HBa.jpg</td>\n",
              "    </tr>\n",
              "    <tr>\n",
              "      <th>2</th>\n",
              "      <td>Nematoda</td>\n",
              "      <td>Chromadorea</td>\n",
              "      <td>Enterobius</td>\n",
              "      <td>Enterobius vermicularis</td>\n",
              "      <td>egg</td>\n",
              "      <td>intestinal tissue</td>\n",
              "      <td>Evermicularis_egg_wtmt.jpg</td>\n",
              "      <td>https://www.cdc.gov//dpdx/enterobiasis/images/...</td>\n",
              "      <td>./Dataset/Enterobius/Evermicularis_egg_wtmt.jpg</td>\n",
              "    </tr>\n",
              "    <tr>\n",
              "      <th>3</th>\n",
              "      <td>Nematoda</td>\n",
              "      <td>Chromadorea</td>\n",
              "      <td>Enterobius</td>\n",
              "      <td>Enterobius vermicularis</td>\n",
              "      <td>egg</td>\n",
              "      <td>intestinal tissue</td>\n",
              "      <td>Evermicularis_SC_egg.jpg</td>\n",
              "      <td>https://www.cdc.gov//dpdx/enterobiasis/images/...</td>\n",
              "      <td>./Dataset/Enterobius/Evermicularis_SC_egg.jpg</td>\n",
              "    </tr>\n",
              "    <tr>\n",
              "      <th>4</th>\n",
              "      <td>Nematoda</td>\n",
              "      <td>Chromadorea</td>\n",
              "      <td>Enterobius</td>\n",
              "      <td>Enterobius vermicularis</td>\n",
              "      <td>egg</td>\n",
              "      <td>intestinal tissue</td>\n",
              "      <td>Evermicularis_egg_UVa.jpg</td>\n",
              "      <td>https://www.cdc.gov//dpdx/enterobiasis/images/...</td>\n",
              "      <td>./Dataset/Enterobius/Evermicularis_egg_UVa.jpg</td>\n",
              "    </tr>\n",
              "  </tbody>\n",
              "</table>\n",
              "</div>"
            ],
            "text/plain": [
              "     phylum  ...                                         img_path\n",
              "0  Nematoda  ...  ./Dataset/Enterobius/Evermicularis_worm4_HB.jpg\n",
              "1  Nematoda  ...   ./Dataset/Enterobius/Evermicularis_egg_HBa.jpg\n",
              "2  Nematoda  ...  ./Dataset/Enterobius/Evermicularis_egg_wtmt.jpg\n",
              "3  Nematoda  ...    ./Dataset/Enterobius/Evermicularis_SC_egg.jpg\n",
              "4  Nematoda  ...   ./Dataset/Enterobius/Evermicularis_egg_UVa.jpg\n",
              "\n",
              "[5 rows x 9 columns]"
            ]
          },
          "metadata": {
            "tags": []
          },
          "execution_count": 36
        }
      ]
    },
    {
      "cell_type": "code",
      "metadata": {
        "id": "BE14KjiYrYJQ"
      },
      "source": [
        "data = pd.read_csv('/content/parasites.csv')"
      ],
      "execution_count": null,
      "outputs": []
    },
    {
      "cell_type": "code",
      "metadata": {
        "id": "vfWcSctI3opb",
        "colab": {
          "base_uri": "https://localhost:8080/"
        },
        "outputId": "ba5b94ba-561e-42f3-d88f-a2752eaee002"
      },
      "source": [
        "data['species'].value_counts()"
      ],
      "execution_count": null,
      "outputs": [
        {
          "output_type": "execute_result",
          "data": {
            "text/plain": [
              "Plasmodium malariae          185\n",
              "Cyclospora cayetanensis      185\n",
              "Entamoeba histolytica        180\n",
              "Ascaris lumbricoides         180\n",
              "Plasmodium vivax             180\n",
              "Plasmodium falciparum        180\n",
              "Giardia duodenalis           180\n",
              "Plasmodium ovale             170\n",
              "Strongyloides stercoralis    110\n",
              "Dibothriocephalus latus      105\n",
              "Trichuris Trichuria           95\n",
              "Enterobius vermicularis       90\n",
              "Toxocara canis                85\n",
              "Ancyclostoma sp               85\n",
              "Sarcocystis sp                80\n",
              "Cryptosporidium sp            80\n",
              "Plasmodium knowlesi           75\n",
              "Hymenolepis nana              70\n",
              "Toxoplasma gondii             65\n",
              "Trichinella sp                65\n",
              "Name: species, dtype: int64"
            ]
          },
          "metadata": {
            "tags": []
          },
          "execution_count": 7
        }
      ]
    },
    {
      "cell_type": "code",
      "metadata": {
        "id": "a6alRZD53aIS"
      },
      "source": [
        ""
      ],
      "execution_count": null,
      "outputs": []
    },
    {
      "cell_type": "code",
      "metadata": {
        "id": "FheC4ZueOlm3"
      },
      "source": [
        "# data = [x for _,x in data.groupby('species') if len(x)>15]\n",
        "\n",
        "# data = pd.concat(data,ignore_index=True)\n",
        "\n",
        "label_encoders = dict()\n",
        "labels = [\"phylum\",\"class\",\"species\",\"form\",\"sample\"]\n",
        "for x in labels:\n",
        "  le = LabelEncoder()\n",
        "  data[f'{x}_label'] = le.fit_transform(data[x])\n",
        "  label_encoders[x] = le"
      ],
      "execution_count": null,
      "outputs": []
    },
    {
      "cell_type": "code",
      "metadata": {
        "id": "ZT3lIa4_r--y"
      },
      "source": [
        "train, val = train_test_split(\n",
        "    data, test_size=0.25, random_state=2021,stratify = data['species'])"
      ],
      "execution_count": null,
      "outputs": []
    },
    {
      "cell_type": "code",
      "metadata": {
        "id": "KjwGMBtPtNtw"
      },
      "source": [
        "train.to_csv('/content/train.csv',index = False)\n",
        "\n",
        "val.to_csv('/content/val.csv',index = False)"
      ],
      "execution_count": null,
      "outputs": []
    },
    {
      "cell_type": "markdown",
      "metadata": {
        "id": "w6hX47gsnFLM"
      },
      "source": [
        "# Labeling"
      ]
    },
    {
      "cell_type": "code",
      "metadata": {
        "id": "6gUGCXDYnbmQ"
      },
      "source": [
        "train = pd.read_csv(\"/content/train/train.csv\")\n",
        "\n",
        "val = pd.read_csv(\"/content/val/val.csv\")"
      ],
      "execution_count": 23,
      "outputs": []
    },
    {
      "cell_type": "code",
      "metadata": {
        "id": "7NoWw_pKoSFc"
      },
      "source": [
        "le = LabelEncoder()\n",
        "train['phylum_label'] = le.fit_transform(train['phylum'])\n",
        "\n",
        "val['phylum_label'] = le.transform(val['phylum'])"
      ],
      "execution_count": 38,
      "outputs": []
    },
    {
      "cell_type": "markdown",
      "metadata": {
        "id": "7QNo2DKUAAgm"
      },
      "source": [
        "# Dataset Function"
      ]
    },
    {
      "cell_type": "code",
      "metadata": {
        "id": "oKnT8M_dRKN5"
      },
      "source": [
        "train = train[train['species']!='na']\n",
        "val = val[val['species']!='na']"
      ],
      "execution_count": null,
      "outputs": []
    },
    {
      "cell_type": "code",
      "metadata": {
        "id": "XqrBFBMPP6bd"
      },
      "source": [
        "from PIL import Image\n",
        "from glob import glob\n",
        "images = [x for x in glob('./val/*/*') if 'val.csv' not in x]\n",
        "for i in images:\n",
        "  Image.open(i).convert('RGB').save(i)"
      ],
      "execution_count": null,
      "outputs": []
    },
    {
      "cell_type": "code",
      "metadata": {
        "id": "pwlngCcEpgHE"
      },
      "source": [
        "train['img_path'] = train['img_path'].str.replace('/train','./train')\n",
        "val['img_path'] = val['img_path'].str.replace('/content','./val')"
      ],
      "execution_count": null,
      "outputs": []
    },
    {
      "cell_type": "code",
      "metadata": {
        "id": "kPUz2T2qEXTS"
      },
      "source": [
        "class SpeciesDataset(Dataset):\n",
        "  def __init__(self,csv_file,transform):\n",
        "    super().__init__()\n",
        "    csv = csv_file[['phylum_label','img_path']]\n",
        "    self.labels = csv['phylum_label'].values\n",
        "\n",
        "    self.images = csv['img_path'].values\n",
        "    self.transform = transform\n",
        "\n",
        "    # self.LE = LabelEncoder()\n",
        "    # self.labels = self.LE.fit_transform(labels)    \n",
        "\n",
        "  def __len__(self):\n",
        "    # return size of dataset\n",
        "    return len(self.images)\n",
        "\n",
        "  def __getitem__(self, index):\n",
        "    img = Image.open(self.images[index])\n",
        "    img = self.transform(img)\n",
        "\n",
        "    label = self.labels[index]\n",
        "\n",
        "    return img, torch.LongTensor([label])"
      ],
      "execution_count": 39,
      "outputs": []
    },
    {
      "cell_type": "code",
      "metadata": {
        "id": "wOL5NtArJ8QY"
      },
      "source": [
        "\n",
        "train_transformer = transforms.Compose([\n",
        "        transforms.Resize((224,224)),\n",
        "        transforms.ToTensor(),\n",
        "        transforms.Normalize([0.5, 0.5, 0.5], [0.5, 0.5, 0.5])\n",
        "    ])\n",
        "\n",
        "val_transformer = transforms.Compose([\n",
        "        transforms.Resize((224,224)),\n",
        "#         transforms.CenterCrop(224),\n",
        "        transforms.ToTensor(),\n",
        "        transforms.Normalize([0.5, 0.5, 0.5], [0.5, 0.5, 0.5])\n",
        "    ])"
      ],
      "execution_count": 5,
      "outputs": []
    },
    {
      "cell_type": "code",
      "metadata": {
        "id": "vocVY95JLSOp",
        "colab": {
          "base_uri": "https://localhost:8080/"
        },
        "outputId": "f659d227-6acc-4dda-ba06-20c34c0c3ad4"
      },
      "source": [
        "5*245,5*710"
      ],
      "execution_count": 42,
      "outputs": [
        {
          "output_type": "execute_result",
          "data": {
            "text/plain": [
              "(1225, 3550)"
            ]
          },
          "metadata": {
            "tags": []
          },
          "execution_count": 42
        }
      ]
    },
    {
      "cell_type": "code",
      "metadata": {
        "colab": {
          "base_uri": "https://localhost:8080/"
        },
        "id": "rwCsILbgV82I",
        "outputId": "21f6ec4f-d2f1-4980-ac13-9a4e1d47dbac"
      },
      "source": [
        "train['phylum'].value_counts()"
      ],
      "execution_count": 41,
      "outputs": [
        {
          "output_type": "execute_result",
          "data": {
            "text/plain": [
              "Apicomplexa          710\n",
              "Nematoda             380\n",
              "Platyhelminthes      160\n",
              "Sarcomastigophora    100\n",
              "Amoebozoa            100\n",
              "Name: phylum, dtype: int64"
            ]
          },
          "metadata": {
            "tags": []
          },
          "execution_count": 41
        }
      ]
    },
    {
      "cell_type": "code",
      "metadata": {
        "id": "v0NXmSK2EFKh"
      },
      "source": [
        "class_counts = train['phylum_label'].value_counts().to_dict()\n",
        "weights = torch.tensor([1/class_counts[label] for label in train['phylum_label'].values])\n",
        "\n",
        "train_dataset = SpeciesDataset(train,transform=train_transformer)\n",
        "train_loader = torch.utils.data.DataLoader(train_dataset,batch_size=64,\n",
        "                                           sampler=torch.utils.data.WeightedRandomSampler(weights,num_samples=3550))\n",
        "\n",
        "class_counts = val['phylum_label'].value_counts().to_dict()\n",
        "weights = torch.tensor([1/class_counts[label] for label in val['phylum_label'].values])\n",
        "\n",
        "val_dataset = SpeciesDataset(val,transform=val_transformer)\n",
        "val_loader = torch.utils.data.DataLoader(val_dataset,batch_size=51,\n",
        "                                         sampler=torch.utils.data.WeightedRandomSampler(weights,num_samples=1225))"
      ],
      "execution_count": 43,
      "outputs": []
    },
    {
      "cell_type": "markdown",
      "metadata": {
        "id": "pxAzMc2BGE1t"
      },
      "source": [
        "# VIT Base Imagenet 21k"
      ]
    },
    {
      "cell_type": "code",
      "metadata": {
        "id": "EIKsyXp9ovmY"
      },
      "source": [
        ""
      ],
      "execution_count": null,
      "outputs": []
    },
    {
      "cell_type": "code",
      "metadata": {
        "id": "hsLYwbAJ3YFH"
      },
      "source": [
        "vi = timm.models.vision_transformer.vit_base_patch16_224_in21k(pretrained=True,num_classes = 512)\n",
        "vi"
      ],
      "execution_count": null,
      "outputs": []
    },
    {
      "cell_type": "code",
      "metadata": {
        "id": "YfPnYIMvI7O2"
      },
      "source": [
        "class ViT(nn.Module):\n",
        "  def __init__(self,num_classes_classifier=20):\n",
        "    super().__init__()\n",
        "    self.img_transformer = timm.models.vision_transformer.vit_base_patch16_224_in21k(pretrained=True,num_classes = 0)\n",
        "    self.fc1 = nn.Linear(768,512)\n",
        "    # self.drop = nn.Dropout(0.4)\n",
        "    self.norm = nn.BatchNorm1d(512)\n",
        "    self.classifier = nn.Linear(512,num_classes_classifier)\n",
        "\n",
        "  def forward(self,img):\n",
        "    repr = self.img_transformer(img)\n",
        "    repr = torch.relu(self.fc1(repr))\n",
        "    # repr = self.drop(repr)\n",
        "    repr = self.norm(repr)\n",
        "    output = self.classifier(repr)\n",
        "\n",
        "    return output  "
      ],
      "execution_count": 29,
      "outputs": []
    },
    {
      "cell_type": "code",
      "metadata": {
        "colab": {
          "base_uri": "https://localhost:8080/"
        },
        "id": "dsTr23UFCSxy",
        "outputId": "8409c42e-61dc-47e3-f7bf-627a18266a99"
      },
      "source": [
        "model = ViT(num_classes_classifier=5)"
      ],
      "execution_count": 44,
      "outputs": [
        {
          "output_type": "stream",
          "text": [
            "Removing representation layer for fine-tuning.\n"
          ],
          "name": "stderr"
        }
      ]
    },
    {
      "cell_type": "code",
      "metadata": {
        "cellView": "form",
        "id": "BUVEtoVMamFa"
      },
      "source": [
        "#@title EarlyStopping\n",
        "class EarlyStopping(object):\n",
        "    def __init__(self, mode='min', min_delta=0, patience=10, percentage=False):\n",
        "        self.mode = mode\n",
        "        self.min_delta = min_delta\n",
        "        self.patience = patience\n",
        "        self.best = None\n",
        "        self.num_bad_epochs = 0\n",
        "        self.is_better = None\n",
        "        self._init_is_better(mode, min_delta, percentage)\n",
        "\n",
        "        if patience == 0:\n",
        "            self.is_better = lambda a, b: True\n",
        "            self.step = lambda a: False\n",
        "\n",
        "    def step(self, metrics):\n",
        "        if self.best is None:\n",
        "            self.best = metrics\n",
        "            return False\n",
        "\n",
        "        if torch.isnan(metrics):\n",
        "            return True\n",
        "\n",
        "        if self.is_better(metrics, self.best):\n",
        "            self.num_bad_epochs = 0\n",
        "            self.best = metrics\n",
        "        else:\n",
        "            self.num_bad_epochs += 1\n",
        "\n",
        "        if self.num_bad_epochs >= self.patience:\n",
        "            return True\n",
        "\n",
        "        return False\n",
        "\n",
        "    def _init_is_better(self, mode, min_delta, percentage):\n",
        "        if mode not in {'min', 'max'}:\n",
        "            raise ValueError('mode ' + mode + ' is unknown!')\n",
        "        if not percentage:\n",
        "            if mode == 'min':\n",
        "                self.is_better = lambda a, best: a < best - min_delta\n",
        "            if mode == 'max':\n",
        "                self.is_better = lambda a, best: a > best + min_delta\n",
        "        else:\n",
        "            if mode == 'min':\n",
        "                self.is_better = lambda a, best: a < best - (\n",
        "                            best * min_delta / 100)\n",
        "            if mode == 'max':\n",
        "                self.is_better = lambda a, best: a > best + (\n",
        "                            best * min_delta / 100)"
      ],
      "execution_count": null,
      "outputs": []
    },
    {
      "cell_type": "code",
      "metadata": {
        "colab": {
          "base_uri": "https://localhost:8080/"
        },
        "id": "K3np-P80EPVK",
        "outputId": "b58759aa-fbbe-4165-84d4-308fdeb1c5d6"
      },
      "source": [
        "device = torch.device('cuda')\n",
        "optim = torch.optim.Adam(filter(lambda p: p.requires_grad, model.parameters()),lr = 1e-4)\n",
        "loss_fn = nn.CrossEntropyLoss().to(device)\n",
        "patience = 10\n",
        "best_acc = -np.inf\n",
        "\n",
        "model.to(device)\n",
        "\n",
        "train_losses = []\n",
        "train_accs = []\n",
        "val_losses = []\n",
        "val_accs = []\n",
        "for epoch in range(100):\n",
        "  train_epoch_loss = 0\n",
        "  train_epoch_acc = 0\n",
        "  model.train()\n",
        "  steps = 0\n",
        "  for idx, batch in enumerate(train_loader):\n",
        "    image, target = batch\n",
        "    image = image.to(device)\n",
        "    target = target.flatten().to(device)\n",
        "\n",
        "    optim.zero_grad()\n",
        "\n",
        "    prediction = model(image)\n",
        "    # print(prediction,target)\n",
        "    loss = loss_fn(prediction, target)\n",
        "\n",
        "    num_corrects = (prediction.argmax(dim=1).view(target.size()).data == target.data).sum()\n",
        "    acc = 100.0 * (num_corrects/target.size(0))\n",
        "    loss.backward()\n",
        "    optim.step()\n",
        "    steps += 1\n",
        "    \n",
        "    # if steps % 6 == 0:\n",
        "    #     print (f'\\t Train - Epoch: {epoch+1}, Idx: {idx+1}, Training Loss: {loss.item():.4f}, Training Accuracy: {acc.item(): .2f}%')\n",
        "    \n",
        "    train_epoch_loss += loss.item()\n",
        "    train_epoch_acc += acc.item()\n",
        "\n",
        "  val_epoch_loss = 0\n",
        "  val_epoch_acc = 0\n",
        "  model.eval()\n",
        "  val_steps = 0\n",
        "  with torch.no_grad():\n",
        "    for idx, batch in enumerate(val_loader):\n",
        "      image, target = batch\n",
        "      image = image.to(device)\n",
        "      target = target.flatten().to(device)\n",
        "\n",
        "      prediction = model(image)\n",
        "      loss = loss_fn(prediction, target)\n",
        "      \n",
        "      num_corrects = (prediction.argmax(dim=1).view(target.size()).data == target.data).sum()\n",
        "      acc = 100.0 * (num_corrects/target.size(0))\n",
        "\n",
        "      val_epoch_loss += loss.item()\n",
        "      val_epoch_acc += acc.item()\n",
        "      val_steps +=1\n",
        "\n",
        "  \n",
        "  val_epoch_loss /=val_steps\n",
        "  val_epoch_acc /=val_steps\n",
        "  \n",
        "  print(f\"Epoch: {epoch+1:02}, Train Loss: {train_epoch_loss/steps:.3f}, Train Acc: {train_epoch_acc/steps:.2f}%, Val. Loss: {val_epoch_loss:.3f}, Val. Acc: {val_epoch_acc:.2f}% \\n{90*'='}\")\n",
        "  \n",
        "  if val_epoch_acc > best_acc:\n",
        "    \n",
        "    print(f'\\r\\t{best_acc:.3f} --> {val_epoch_acc:.3f}  Updating')\n",
        "    best_acc = val_epoch_acc\n",
        "    torch.save(model.state_dict(),'vit-base.bin')\n",
        "    patience = 10\n",
        "    train_losses.append(train_epoch_loss/steps)\n",
        "    train_accs.append(train_epoch_acc/steps)\n",
        "\n",
        "    val_losses.append(val_epoch_loss)\n",
        "    val_accs.append(val_epoch_acc)\n",
        "    \n",
        "  if val_epoch_acc < best_acc:\n",
        "    patience -=1\n",
        "    print(f'\\r\\t Patience -> {patience}')\n",
        "  if patience<=0:\n",
        "    print(f'\\r\\tPatience complete! Best Acc is {best_acc:.3f}')\n",
        "    break\n",
        "  "
      ],
      "execution_count": 45,
      "outputs": [
        {
          "output_type": "stream",
          "text": [
            "Epoch: 01, Train Loss: 0.271, Train Acc: 91.46%, Val. Loss: 0.525, Val. Acc: 81.33% \n",
            "==========================================================================================\n",
            "\t-inf --> 81.333  Updating\n",
            "Epoch: 02, Train Loss: 0.013, Train Acc: 99.80%, Val. Loss: 0.511, Val. Acc: 81.73% \n",
            "==========================================================================================\n",
            "\t81.333 --> 81.725  Updating\n",
            "Epoch: 03, Train Loss: 0.003, Train Acc: 100.00%, Val. Loss: 0.509, Val. Acc: 82.59% \n",
            "==========================================================================================\n",
            "\t81.725 --> 82.588  Updating\n",
            "Epoch: 04, Train Loss: 0.002, Train Acc: 100.00%, Val. Loss: 0.586, Val. Acc: 82.43% \n",
            "==========================================================================================\n",
            "\t Patience -> 9\n",
            "Epoch: 05, Train Loss: 0.001, Train Acc: 100.00%, Val. Loss: 0.612, Val. Acc: 81.73% \n",
            "==========================================================================================\n",
            "\t Patience -> 8\n",
            "Epoch: 06, Train Loss: 0.001, Train Acc: 100.00%, Val. Loss: 0.565, Val. Acc: 83.84% \n",
            "==========================================================================================\n",
            "\t82.588 --> 83.843  Updating\n",
            "Epoch: 07, Train Loss: 0.001, Train Acc: 100.00%, Val. Loss: 0.749, Val. Acc: 79.37% \n",
            "==========================================================================================\n",
            "\t Patience -> 9\n",
            "Epoch: 08, Train Loss: 0.001, Train Acc: 100.00%, Val. Loss: 0.703, Val. Acc: 80.78% \n",
            "==========================================================================================\n",
            "\t Patience -> 8\n",
            "Epoch: 09, Train Loss: 0.000, Train Acc: 100.00%, Val. Loss: 0.645, Val. Acc: 81.96% \n",
            "==========================================================================================\n",
            "\t Patience -> 7\n",
            "Epoch: 10, Train Loss: 0.000, Train Acc: 100.00%, Val. Loss: 0.700, Val. Acc: 81.25% \n",
            "==========================================================================================\n",
            "\t Patience -> 6\n",
            "Epoch: 11, Train Loss: 0.000, Train Acc: 100.00%, Val. Loss: 0.627, Val. Acc: 84.78% \n",
            "==========================================================================================\n",
            "\t83.843 --> 84.784  Updating\n",
            "Epoch: 12, Train Loss: 0.000, Train Acc: 100.00%, Val. Loss: 0.731, Val. Acc: 79.69% \n",
            "==========================================================================================\n",
            "\t Patience -> 9\n",
            "Epoch: 13, Train Loss: 0.000, Train Acc: 100.00%, Val. Loss: 0.736, Val. Acc: 82.90% \n",
            "==========================================================================================\n",
            "\t Patience -> 8\n",
            "Epoch: 14, Train Loss: 0.000, Train Acc: 100.00%, Val. Loss: 0.716, Val. Acc: 82.90% \n",
            "==========================================================================================\n",
            "\t Patience -> 7\n",
            "Epoch: 15, Train Loss: 0.000, Train Acc: 100.00%, Val. Loss: 0.847, Val. Acc: 82.51% \n",
            "==========================================================================================\n",
            "\t Patience -> 6\n",
            "Epoch: 16, Train Loss: 0.000, Train Acc: 100.00%, Val. Loss: 0.783, Val. Acc: 81.96% \n",
            "==========================================================================================\n",
            "\t Patience -> 5\n",
            "Epoch: 17, Train Loss: 0.000, Train Acc: 100.00%, Val. Loss: 0.714, Val. Acc: 83.14% \n",
            "==========================================================================================\n",
            "\t Patience -> 4\n",
            "Epoch: 18, Train Loss: 0.000, Train Acc: 100.00%, Val. Loss: 0.859, Val. Acc: 80.55% \n",
            "==========================================================================================\n",
            "\t Patience -> 3\n",
            "Epoch: 19, Train Loss: 0.000, Train Acc: 100.00%, Val. Loss: 0.972, Val. Acc: 78.75% \n",
            "==========================================================================================\n",
            "\t Patience -> 2\n",
            "Epoch: 20, Train Loss: 0.000, Train Acc: 100.00%, Val. Loss: 0.676, Val. Acc: 83.84% \n",
            "==========================================================================================\n",
            "\t Patience -> 1\n",
            "Epoch: 21, Train Loss: 0.000, Train Acc: 100.00%, Val. Loss: 0.771, Val. Acc: 83.37% \n",
            "==========================================================================================\n",
            "\t Patience -> 0\n",
            "\tPatience complete! Best Acc is 84.784\n"
          ],
          "name": "stdout"
        }
      ]
    },
    {
      "cell_type": "code",
      "metadata": {
        "colab": {
          "base_uri": "https://localhost:8080/",
          "height": 839
        },
        "id": "dcRzXaRdFOpx",
        "outputId": "1b2dab35-4790-43fd-c277-84d863641e73"
      },
      "source": [
        "import matplotlib.pyplot as plt\n",
        "plt.style.use('ggplot')\n",
        "plt.figure(figsize=(10,7))\n",
        "plt.plot(train_losses,label='Training Loss')\n",
        "plt.plot(val_losses,label='Validation Loss')\n",
        "plt.legend()\n",
        "plt.show()\n",
        "\n",
        "plt.figure(figsize=(10,7))\n",
        "plt.plot(train_accs,label='Training Accuracy')\n",
        "plt.plot(val_accs,label='Validation Accuracy')\n",
        "plt.legend()\n",
        "plt.show()"
      ],
      "execution_count": 46,
      "outputs": [
        {
          "output_type": "display_data",
          "data": {
            "image/png": "[encoded data removed]",
            "text/plain": [
              "<Figure size 720x504 with 1 Axes>"
            ]
          },
          "metadata": {
            "tags": []
          }
        },
        {
          "output_type": "display_data",
          "data": {
            "image/png": "[encoded data removed]",
            "text/plain": [
              "<Figure size 720x504 with 1 Axes>"
            ]
          },
          "metadata": {
            "tags": []
          }
        }
      ]
    },
    {
      "cell_type": "code",
      "metadata": {
        "colab": {
          "base_uri": "https://localhost:8080/"
        },
        "id": "hF8i7CFxU_iM",
        "outputId": "dae54da2-d8bb-451b-be1f-5e4a799a3005"
      },
      "source": [
        "from sklearn.metrics import classification_report, confusion_matrix\n",
        "\n",
        "val_dataset = SpeciesDataset(val,transform=val_transformer)\n",
        "val_loader = torch.utils.data.DataLoader(val_dataset,batch_size=615)\n",
        "\n",
        "model.load_state_dict(torch.load('vit-base.bin'))\n",
        "model.cuda()\n",
        "with torch.no_grad():\n",
        "  image,target = next(iter(val_loader))\n",
        "  image = image.to(device)\n",
        "  target = target.flatten().to(device)\n",
        "\n",
        "  prediction = model(image)\n",
        "\n",
        "prediction = prediction.argmax(dim=1).view(target.size()).cpu().numpy()\n",
        "target = target.cpu().numpy()\n",
        "\n",
        "print(classification_report(target,prediction,target_names=le.classes_))"
      ],
      "execution_count": 47,
      "outputs": [
        {
          "output_type": "stream",
          "text": [
            "                   precision    recall  f1-score   support\n",
            "\n",
            "        Amoebozoa       0.89      0.94      0.92        35\n",
            "      Apicomplexa       0.95      0.98      0.97       245\n",
            "         Nematoda       0.84      0.98      0.91       120\n",
            "  Platyhelminthes       0.88      0.42      0.57        50\n",
            "Sarcomastigophora       0.90      0.80      0.85        35\n",
            "\n",
            "         accuracy                           0.91       485\n",
            "        macro avg       0.89      0.83      0.84       485\n",
            "     weighted avg       0.91      0.91      0.90       485\n",
            "\n"
          ],
          "name": "stdout"
        }
      ]
    },
    {
      "cell_type": "code",
      "metadata": {
        "colab": {
          "base_uri": "https://localhost:8080/",
          "height": 428
        },
        "id": "syP7FzReiPxc",
        "outputId": "1595603f-b2bb-4d77-814a-4048630c4427"
      },
      "source": [
        "import seaborn as sn\n",
        "import pandas as pd\n",
        "import matplotlib.pyplot as plt\n",
        "confusion = confusion_matrix(target,prediction)\n",
        "df_cm = pd.DataFrame(confusion, index = le.classes_,\n",
        "                  columns = le.classes_)\n",
        "plt.figure(figsize = (10,7))\n",
        "sn.heatmap(df_cm, annot=True)\n",
        "plt.show()"
      ],
      "execution_count": 48,
      "outputs": [
        {
          "output_type": "display_data",
          "data": {
            "image/png": "[encoded data removed]",
            "text/plain": [
              "<Figure size 720x504 with 2 Axes>"
            ]
          },
          "metadata": {
            "tags": []
          }
        }
      ]
    }
  ]
}