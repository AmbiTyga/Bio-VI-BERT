{
  "nbformat": 4,
  "nbformat_minor": 0,
  "metadata": {
    "colab": {
      "name": "Pre-trained Image Transformer",
      "provenance": [],
      "collapsed_sections": [],
      "toc_visible": true,
      "machine_shape": "hm",
      "include_colab_link": true
    },
    "kernelspec": {
      "name": "python3",
      "display_name": "Python 3"
    },
    "accelerator": "GPU"
  },
  "cells": [
    {
      "cell_type": "markdown",
      "metadata": {
        "id": "view-in-github",
        "colab_type": "text"
      },
      "source": [
        "<a href=\"https://colab.research.google.com/github/AmbiTyga/Bio-VI-BERT/blob/main/Multi-label-Classifier.ipynb\" target=\"_parent\"><img src=\"https://colab.research.google.com/assets/colab-badge.svg\" alt=\"Open In Colab\"/></a>"
      ]
    },
    {
      "cell_type": "code",
      "metadata": {
        "id": "399tkRUuCe_0",
        "colab": {
          "base_uri": "https://localhost:8080/"
        },
        "outputId": "278ef627-7b42-4440-80b6-fcbe91f31709"
      },
      "source": [
        "!pip install timm==0.4.5 -q"
      ],
      "execution_count": 1,
      "outputs": [
        {
          "output_type": "stream",
          "text": [
            "\u001b[?25l\r\u001b[K     |█▏                              | 10kB 19.8MB/s eta 0:00:01\r\u001b[K     |██▎                             | 20kB 12.5MB/s eta 0:00:01\r\u001b[K     |███▍                            | 30kB 9.3MB/s eta 0:00:01\r\u001b[K     |████▋                           | 40kB 8.3MB/s eta 0:00:01\r\u001b[K     |█████▊                          | 51kB 5.1MB/s eta 0:00:01\r\u001b[K     |██████▉                         | 61kB 4.9MB/s eta 0:00:01\r\u001b[K     |████████                        | 71kB 5.4MB/s eta 0:00:01\r\u001b[K     |█████████▏                      | 81kB 5.9MB/s eta 0:00:01\r\u001b[K     |██████████▎                     | 92kB 5.9MB/s eta 0:00:01\r\u001b[K     |███████████▍                    | 102kB 6.3MB/s eta 0:00:01\r\u001b[K     |████████████▌                   | 112kB 6.3MB/s eta 0:00:01\r\u001b[K     |█████████████▊                  | 122kB 6.3MB/s eta 0:00:01\r\u001b[K     |██████████████▉                 | 133kB 6.3MB/s eta 0:00:01\r\u001b[K     |████████████████                | 143kB 6.3MB/s eta 0:00:01\r\u001b[K     |█████████████████               | 153kB 6.3MB/s eta 0:00:01\r\u001b[K     |██████████████████▎             | 163kB 6.3MB/s eta 0:00:01\r\u001b[K     |███████████████████▍            | 174kB 6.3MB/s eta 0:00:01\r\u001b[K     |████████████████████▌           | 184kB 6.3MB/s eta 0:00:01\r\u001b[K     |█████████████████████▋          | 194kB 6.3MB/s eta 0:00:01\r\u001b[K     |██████████████████████▉         | 204kB 6.3MB/s eta 0:00:01\r\u001b[K     |████████████████████████        | 215kB 6.3MB/s eta 0:00:01\r\u001b[K     |█████████████████████████       | 225kB 6.3MB/s eta 0:00:01\r\u001b[K     |██████████████████████████▏     | 235kB 6.3MB/s eta 0:00:01\r\u001b[K     |███████████████████████████▍    | 245kB 6.3MB/s eta 0:00:01\r\u001b[K     |████████████████████████████▌   | 256kB 6.3MB/s eta 0:00:01\r\u001b[K     |█████████████████████████████▋  | 266kB 6.3MB/s eta 0:00:01\r\u001b[K     |██████████████████████████████▉ | 276kB 6.3MB/s eta 0:00:01\r\u001b[K     |████████████████████████████████| 286kB 6.3MB/s eta 0:00:01\r\u001b[K     |████████████████████████████████| 296kB 6.3MB/s \n",
            "\u001b[?25h"
          ],
          "name": "stdout"
        }
      ]
    },
    {
      "cell_type": "code",
      "metadata": {
        "colab": {
          "base_uri": "https://localhost:8080/"
        },
        "id": "eVjc4Kju84S5",
        "outputId": "5af4ab3c-d079-4212-876f-ba0a1d3533da"
      },
      "source": [
        "!wget https://raw.githubusercontent.com/AmbiTyga/Bio-VI-BERT/main/Train.7z\n",
        "!7z x /content/Train.7z"
      ],
      "execution_count": 2,
      "outputs": [
        {
          "output_type": "stream",
          "text": [
            "--2021-04-16 14:53:02--  https://raw.githubusercontent.com/AmbiTyga/Bio-VI-BERT/main/Train.7z\n",
            "Resolving raw.githubusercontent.com (raw.githubusercontent.com)... 185.199.108.133, 185.199.109.133, 185.199.110.133, ...\n",
            "Connecting to raw.githubusercontent.com (raw.githubusercontent.com)|185.199.108.133|:443... connected.\n",
            "HTTP request sent, awaiting response... 200 OK\n",
            "Length: 16048162 (15M) [application/octet-stream]\n",
            "Saving to: ‘Train.7z’\n",
            "\n",
            "Train.7z            100%[===================>]  15.30M  47.9MB/s    in 0.3s    \n",
            "\n",
            "2021-04-16 14:53:03 (47.9 MB/s) - ‘Train.7z’ saved [16048162/16048162]\n",
            "\n",
            "\n",
            "7-Zip [64] 16.02 : Copyright (c) 1999-2016 Igor Pavlov : 2016-05-21\n",
            "p7zip Version 16.02 (locale=en_US.UTF-8,Utf16=on,HugeFiles=on,64 bits,2 CPUs Intel(R) Xeon(R) CPU @ 2.30GHz (306F0),ASM,AES-NI)\n",
            "\n",
            "Scanning the drive for archives:\n",
            "  0M Scan /content/\b\b\b\b\b\b\b\b\b\b\b\b\b\b\b\b\b\b\b                   \b\b\b\b\b\b\b\b\b\b\b\b\b\b\b\b\b\b\b1 file, 16048162 bytes (16 MiB)\n",
            "\n",
            "Extracting archive: /content/Train.7z\n",
            "--\n",
            "Path = /content/Train.7z\n",
            "Type = 7z\n",
            "Physical Size = 16048162\n",
            "Headers Size = 15031\n",
            "Method = LZMA2:24\n",
            "Solid = +\n",
            "Blocks = 1\n",
            "\n",
            "  0%\b\b\b\b    \b\b\b\b 18% 21\b\b\b\b\b\b\b       \b\b\b\b\b\b\b 37% 377 - train/Dibothriocephalus latus/Diph_GP_1_111.jpg\b\b\b\b\b\b\b\b\b\b\b\b\b\b\b\b\b\b\b\b\b\b\b\b\b\b\b\b\b\b\b\b\b\b\b\b\b\b\b\b\b\b\b\b\b\b\b\b\b\b\b\b\b\b\b\b\b\b                                                          \b\b\b\b\b\b\b\b\b\b\b\b\b\b\b\b\b\b\b\b\b\b\b\b\b\b\b\b\b\b\b\b\b\b\b\b\b\b\b\b\b\b\b\b\b\b\b\b\b\b\b\b\b\b\b\b\b\b 57% 744 - train/Giardia duodenalis/Giardia_cyst_tric9_3_190.jpg\b\b\b\b\b\b\b\b\b\b\b\b\b\b\b\b\b\b\b\b\b\b\b\b\b\b\b\b\b\b\b\b\b\b\b\b\b\b\b\b\b\b\b\b\b\b\b\b\b\b\b\b\b\b\b\b\b\b\b\b\b\b\b\b                                                                \b\b\b\b\b\b\b\b\b\b\b\b\b\b\b\b\b\b\b\b\b\b\b\b\b\b\b\b\b\b\b\b\b\b\b\b\b\b\b\b\b\b\b\b\b\b\b\b\b\b\b\b\b\b\b\b\b\b\b\b\b\b\b\b 77% 1213 - train/Plasmodium ovale/Po_rings_thinB_2_327.jpg\b\b\b\b\b\b\b\b\b\b\b\b\b\b\b\b\b\b\b\b\b\b\b\b\b\b\b\b\b\b\b\b\b\b\b\b\b\b\b\b\b\b\b\b\b\b\b\b\b\b\b\b\b\b\b\b\b\b\b                                                           \b\b\b\b\b\b\b\b\b\b\b\b\b\b\b\b\b\b\b\b\b\b\b\b\b\b\b\b\b\b\b\b\b\b\b\b\b\b\b\b\b\b\b\b\b\b\b\b\b\b\b\b\b\b\b\b\b\b\b 90% 1400 - train/Plasmodium vivax/Pv_schizont_thinD_4_354.jpg\b\b\b\b\b\b\b\b\b\b\b\b\b\b\b\b\b\b\b\b\b\b\b\b\b\b\b\b\b\b\b\b\b\b\b\b\b\b\b\b\b\b\b\b\b\b\b\b\b\b\b\b\b\b\b\b\b\b\b\b\b\b                                                              \b\b\b\b\b\b\b\b\b\b\b\b\b\b\b\b\b\b\b\b\b\b\b\b\b\b\b\b\b\b\b\b\b\b\b\b\b\b\b\b\b\b\b\b\b\b\b\b\b\b\b\b\b\b\b\b\b\b\b\b\b\bEverything is Ok\n",
            "\n",
            "Folders: 21\n",
            "Files: 1666\n",
            "Size:       17978268\n",
            "Compressed: 16048162\n"
          ],
          "name": "stdout"
        }
      ]
    },
    {
      "cell_type": "code",
      "metadata": {
        "id": "0K3nmmNSCsza",
        "colab": {
          "base_uri": "https://localhost:8080/"
        },
        "outputId": "ad36a68c-06f4-41d7-8ead-90b39926a5ee"
      },
      "source": [
        "!wget https://raw.githubusercontent.com/AmbiTyga/Bio-VI-BERT/main/Val.7z\n",
        "!7z x /content/Val.7z"
      ],
      "execution_count": 3,
      "outputs": [
        {
          "output_type": "stream",
          "text": [
            "--2021-04-16 14:53:05--  https://raw.githubusercontent.com/AmbiTyga/Bio-VI-BERT/main/Val.7z\n",
            "Resolving raw.githubusercontent.com (raw.githubusercontent.com)... 185.199.108.133, 185.199.109.133, 185.199.110.133, ...\n",
            "Connecting to raw.githubusercontent.com (raw.githubusercontent.com)|185.199.108.133|:443... connected.\n",
            "HTTP request sent, awaiting response... 200 OK\n",
            "Length: 5118157 (4.9M) [application/octet-stream]\n",
            "Saving to: ‘Val.7z’\n",
            "\n",
            "Val.7z              100%[===================>]   4.88M  29.5MB/s    in 0.2s    \n",
            "\n",
            "2021-04-16 14:53:05 (29.5 MB/s) - ‘Val.7z’ saved [5118157/5118157]\n",
            "\n",
            "\n",
            "7-Zip [64] 16.02 : Copyright (c) 1999-2016 Igor Pavlov : 2016-05-21\n",
            "p7zip Version 16.02 (locale=en_US.UTF-8,Utf16=on,HugeFiles=on,64 bits,2 CPUs Intel(R) Xeon(R) CPU @ 2.30GHz (306F0),ASM,AES-NI)\n",
            "\n",
            "Scanning the drive for archives:\n",
            "  0M Scan /content/\b\b\b\b\b\b\b\b\b\b\b\b\b\b\b\b\b\b\b                   \b\b\b\b\b\b\b\b\b\b\b\b\b\b\b\b\b\b\b1 file, 5118157 bytes (4999 KiB)\n",
            "\n",
            "Extracting archive: /content/Val.7z\n",
            "--\n",
            "Path = /content/Val.7z\n",
            "Type = 7z\n",
            "Physical Size = 5118157\n",
            "Headers Size = 5943\n",
            "Method = LZMA2:6m\n",
            "Solid = +\n",
            "Blocks = 1\n",
            "\n",
            "  0%\b\b\b\b    \b\b\b\b 60% 21\b\b\b\b\b\b\b       \b\b\b\b\b\b\bEverything is Ok\n",
            "\n",
            "Folders: 21\n",
            "Files: 556\n",
            "Size:       5704411\n",
            "Compressed: 5118157\n"
          ],
          "name": "stdout"
        }
      ]
    },
    {
      "cell_type": "code",
      "metadata": {
        "id": "yVc3_O_n_In6"
      },
      "source": [
        "import timm\n",
        "import pandas as pd\n",
        "import numpy as np\n",
        "import torch.nn as nn\n",
        "import torch\n",
        "from torch.utils.data import Dataset, DataLoader, sampler\n",
        "from sklearn.preprocessing import LabelEncoder\n",
        "import os,time\n",
        "from math import fsum\n",
        "from sklearn.model_selection import train_test_split\n",
        "from glob import glob\n",
        "from PIL import Image\n",
        "from torchvision import transforms"
      ],
      "execution_count": 4,
      "outputs": []
    },
    {
      "cell_type": "markdown",
      "metadata": {
        "id": "aAHwzGXx_7y-"
      },
      "source": [
        "## Cleaning and getting a final data"
      ]
    },
    {
      "cell_type": "code",
      "metadata": {
        "id": "aObD7UFjoJZR"
      },
      "source": [
        "from PIL import Image\n",
        "from glob import glob\n",
        "images = [x for x in glob('./val/*/*') if 'val.csv' not in x]\n",
        "for i in images:\n",
        "  Image.open(i).convert('RGB').save(i)"
      ],
      "execution_count": null,
      "outputs": []
    },
    {
      "cell_type": "code",
      "metadata": {
        "id": "2H1f9w06nA78"
      },
      "source": [
        "labels = [\"phylum\",\"class\",\"species\",\"form\",\"sample\"]\n",
        "\n",
        "train = pd.read_csv('/content/train/train.csv')\n",
        "val = pd.read_csv('/content/val/val.csv')\n",
        "\n",
        "train = train[train['species']!='na']\n",
        "val = val[val['species']!='na']"
      ],
      "execution_count": 15,
      "outputs": []
    },
    {
      "cell_type": "code",
      "metadata": {
        "id": "RvqUZNOLVljR"
      },
      "source": [
        "label_encoders = dict()\n",
        "for x in labels:\n",
        "  le = LabelEncoder()\n",
        "  train[f'{x}_label'] = le.fit_transform(train[x])\n",
        "  val[f'{x}_label'] = le.transform(val[x])\n",
        "  label_encoders[x] = le"
      ],
      "execution_count": 16,
      "outputs": []
    },
    {
      "cell_type": "code",
      "metadata": {
        "id": "KjwGMBtPtNtw"
      },
      "source": [
        "train.to_csv('/content/train.csv',index = False)\n",
        "\n",
        "val.to_csv('/content/val.csv',index = False)"
      ],
      "execution_count": 17,
      "outputs": []
    },
    {
      "cell_type": "markdown",
      "metadata": {
        "id": "7QNo2DKUAAgm"
      },
      "source": [
        "# Dataset Objects"
      ]
    },
    {
      "cell_type": "code",
      "metadata": {
        "id": "wOL5NtArJ8QY"
      },
      "source": [
        "transformer = transforms.Compose([\n",
        "        transforms.Resize((224,224)),\n",
        "#         transforms.CenterCrop(224),\n",
        "        transforms.ToTensor(),\n",
        "        transforms.Normalize([0.5, 0.5, 0.5], [0.5, 0.5, 0.5])\n",
        "    ])"
      ],
      "execution_count": 8,
      "outputs": []
    },
    {
      "cell_type": "code",
      "metadata": {
        "id": "4x2bbh_0n-YT"
      },
      "source": [
        "class MultiDataset(Dataset):\n",
        "  def __init__(self,dataFrame,label_encoders,transform=None):\n",
        "    self.data = dataFrame\n",
        "    self.transform = transform\n",
        "    self.labels = [\"phylum_label\",\"class_label\",\"species_label\",\"form_label\",\"sample_label\"]\n",
        "    self.label_encoder = label_encoders\n",
        "    self.nclasses = self.get_nclasses()\n",
        "    total = fsum(self.nclasses.values())\n",
        "\n",
        "    self.weights = {k:v/total for k,v in self.nclasses.items()}\n",
        "\n",
        "  def __len__(self):\n",
        "    return len(self.data)\n",
        "\n",
        "  def __getitem__(self, idx):\n",
        "    img_path = self.data.loc[idx,\"img_path\"]\n",
        "    image = Image.open(img_path)\n",
        "    image = self.transform(image)\n",
        "    labels = self.data.loc[idx,self.labels].to_dict()\n",
        "    for label in labels:\n",
        "      labels[label] = torch.tensor(labels[label],dtype = torch.long)\n",
        "            \n",
        "    dict_data = {\n",
        "    'image': image,\n",
        "    'labels': labels\n",
        "    }\n",
        "    return dict_data\n",
        "  \n",
        "  # def get_label_encode(self):\n",
        "  #   d=dict()\n",
        "  #   for label in self.labels:            \n",
        "  #       le = LabelEncoder()\n",
        "  #       self.data[label]=le.fit_transform(self.data[label])\n",
        "  #       d[label]=le\n",
        "  #   return d\n",
        "    \n",
        "  def get_nclasses(self):\n",
        "    return self.data[self.labels].nunique().to_dict()"
      ],
      "execution_count": 9,
      "outputs": []
    },
    {
      "cell_type": "markdown",
      "metadata": {
        "id": "hKI3EnppZcNW"
      },
      "source": [
        "# Multi-label Classification"
      ]
    },
    {
      "cell_type": "code",
      "metadata": {
        "id": "0cJUGGT3d4-n"
      },
      "source": [
        "class MultiViT(nn.Module):\n",
        "  def __init__(self,nclasses,labels):\n",
        "    super(MultiViT,self).__init__()\n",
        "\n",
        "\n",
        "    self.img_transformer = timm.models.vision_transformer.vit_base_patch16_224_in21k(pretrained=True,num_classes = 0)\n",
        "    # self.img_transformer.load_state_dict(torch.load(vit_path))\n",
        "    self.fc1 = nn.Linear(768,3*768)\n",
        "    self.mha = nn.MultiheadAttention(embed_dim = 768,\n",
        "                                     num_heads = 6,\n",
        "                                     dropout = 0.38,\n",
        "                                     bias = False)\n",
        "    # for param in self.img_transformer.parameters():\n",
        "    #   param.requires_grad = False\n",
        "    # self.drop = nn.Dropout(0.38)\n",
        "    self.classifiers = nn.ModuleDict()\n",
        "    for label in labels:\n",
        "      self.classifiers[label]=nn.Sequential(nn.Linear(768,512),\n",
        "                                            nn.ReLU(),\n",
        "                                            nn.Linear(512,nclasses[label]))\n",
        "\n",
        "    \n",
        "  def forward(self,x):\n",
        "    x=self.img_transformer(x)\n",
        "    x = self.fc1(x)\n",
        "    x = F.relu(x)\n",
        "    x = x.unsqueeze(dim = 0)\n",
        "    q, k, v = x.split(768,dim = 2)\n",
        "    z,_ = self.mha(q,k,v)\n",
        "    z = z.squeeze(dim = 0)\n",
        "    \n",
        "\n",
        "    # x=self.drop(x)\n",
        "    y=dict()\n",
        "    for label in self.classifiers.keys():\n",
        "        y[label]=self.classifiers[label](z)\n",
        "    # print(y.keys())\n",
        "    return y\n"
      ],
      "execution_count": 28,
      "outputs": []
    },
    {
      "cell_type": "code",
      "metadata": {
        "id": "o-nKia0Gn2Vt"
      },
      "source": [
        "train = pd.read_csv(\"/content/train.csv\")\n",
        "val = pd.read_csv(\"/content/val.csv\")\n",
        "\n",
        "train_dataset = MultiDataset(train,label_encoders,transformer)\n",
        "val_dataset = MultiDataset(val,label_encoders,transformer)\n",
        "\n",
        "train_loader = DataLoader(train_dataset,batch_size=24)\n",
        "val_loader = DataLoader(val_dataset,batch_size=17)"
      ],
      "execution_count": 18,
      "outputs": []
    },
    {
      "cell_type": "code",
      "metadata": {
        "id": "NB_vgLAOqkGF",
        "colab": {
          "base_uri": "https://localhost:8080/"
        },
        "outputId": "b437a25d-b280-4562-ed46-62f015e8fd02"
      },
      "source": [
        "device = torch.device('cuda')\n",
        "multimodel = MultiViT(train_dataset.nclasses,train_dataset.labels)\n",
        "multimodel.to(device)\n",
        "loss_fn = nn.CrossEntropyLoss()\n",
        "optim = torch.optim.Adam(filter(lambda p: p.requires_grad, multimodel.parameters()),lr = 1e-4)"
      ],
      "execution_count": 29,
      "outputs": [
        {
          "output_type": "stream",
          "text": [
            "Removing representation layer for fine-tuning.\n"
          ],
          "name": "stderr"
        }
      ]
    },
    {
      "cell_type": "code",
      "metadata": {
        "id": "kg4Q2q1ErlXN"
      },
      "source": [
        "#@title Training Functions\n",
        "def get_loss(out,labels,loss_fn,weights):\n",
        "    loss=0\n",
        "    for label in labels:\n",
        "        loss+=loss_fn(out[label],labels[label])*weights[label]\n",
        "    return loss\n",
        "\n",
        "\n",
        "def cal_accuracy(out,labels,batch_size,epoch_acc):\n",
        "    for key in out:\n",
        "        q=(out[key].detach().argmax(axis=1)==labels[key]).sum().item()/batch_size\n",
        "        if not key in epoch_acc.keys():\n",
        "            epoch_acc[key]=q\n",
        "        else:\n",
        "            epoch_acc[key]+=q\n",
        "    return epoch_acc\n",
        "\n",
        "\n",
        "def get_avg_acc(epoch_acc,loader):\n",
        "    acc=0\n",
        "    for key in epoch_acc:\n",
        "        epoch_acc[key]/=len(loader)\n",
        "        acc+=epoch_acc[key]\n",
        "        \n",
        "    return acc/len(epoch_acc),epoch_acc\n",
        "\n",
        "def evaluate(model,loss_fn,loader):\n",
        "    model.eval()\n",
        "    epoch_acc={}\n",
        "    epoch_loss=0\n",
        "    with torch.no_grad():\n",
        "      for batch in loader:\n",
        "          img=batch[\"image\"].to(device)\n",
        "          labels=batch[\"labels\"]\n",
        "          for key in labels:\n",
        "              labels[key]=labels[key].to(device)\n",
        "          \n",
        "          out=model(img)\n",
        "          loss=get_loss(out,labels,loss_fn,loader.dataset.weights)\n",
        "          epoch_loss+=loss.item()\n",
        "          epoch_acc=cal_accuracy(out,labels,img.shape[0],epoch_acc)\n",
        "        \n",
        "    avg_acc,epoch_acc=get_avg_acc(epoch_acc,loader)\n",
        "    return (epoch_loss/len(loader),avg_acc,epoch_acc)\n",
        "\n",
        "def train_model(model, loss_fn, opt,trainloader,valloader, num_epochs=1):\n",
        "    stop_value = 10\n",
        "    since = time.time()\n",
        "    best_model=\"\"\n",
        "    max_loss=np.inf\n",
        "    train={\"loss\":[],\"avg\":[],\"individual\":[]}\n",
        "    val={\"loss\":[],\"avg\":[],\"individual\":[]}\n",
        "    for epoch in range(num_epochs):\n",
        "        print(\"-\"*50)\n",
        "        print('Epoch {} of {}'.format(epoch+1, num_epochs))\n",
        "        epoch_loss=0\n",
        "        epoch_acc={}\n",
        "        model.train()\n",
        "        # Iterate over data.\n",
        "        for i,data in enumerate(trainloader):\n",
        "            opt.zero_grad()\n",
        "            img=data[\"image\"].to(device)\n",
        "            labels=data[\"labels\"]\n",
        "            for key in labels:\n",
        "                labels[key]=labels[key].to(device)\n",
        "            \n",
        "\n",
        "            out=model(img)\n",
        "            # print(out,labels,sep = '\\n\\n')\n",
        "            loss=get_loss(out,labels,loss_fn,trainloader.dataset.weights)\n",
        "            epoch_loss+=loss.detach().item()\n",
        "            loss.backward()\n",
        "            opt.step()\n",
        "            epoch_acc=cal_accuracy(out,labels,img.shape[0],epoch_acc)\n",
        "            \n",
        "        val_result=evaluate(model,loss_fn,valloader)\n",
        "        avg_acc,epoch_acc=get_avg_acc(epoch_acc,trainloader)\n",
        "        avg_loss=epoch_loss/len(trainloader)\n",
        "        print('Train')\n",
        "        print(f\"Loss: {avg_loss:.3f}\\nAccuracy:\\n\\tEach_label_acc->{epoch_acc}\\n\\tAvg acc->{avg_acc:.3f}\\n\")\n",
        "        print(\"-\"*200)\n",
        "        print(\"Validation\")\n",
        "        print(f\"Loss: {val_result[0]:.3f}\\nAccuracy: Each_label_acc->{val_result[2]}\\n\\tAvg acc->{val_result[1]:.3f}\")\n",
        "        \n",
        "        if val_result[0]<max_loss:\n",
        "          train[\"avg\"].append(avg_acc)\n",
        "          train[\"individual\"].append(epoch_acc)\n",
        "          train[\"loss\"].append(avg_loss)\n",
        "        \n",
        "          val[\"avg\"].append(val_result[1])\n",
        "          val[\"individual\"].append(val_result[2])\n",
        "          val[\"loss\"].append(val_result[0])\n",
        "        \n",
        "          max_loss=val_result[0]\n",
        "          torch.save(model.state_dict(),'multimodal.bin')\n",
        "          print('Saving weights')\n",
        "          stop_value = 10\n",
        "        if val_result[0]>max_loss:\n",
        "          stop_value -=1\n",
        "          print(f'Patience - {stop_value}')\n",
        "\n",
        "        if stop_value<=0:\n",
        "          print(\"\\nStopping\")\n",
        "          return train,val,best_model,max_loss \n",
        "        print(\"-\"*100)\n",
        "    time_elapsed = time.time() - since\n",
        "    print('Training complete in {:.0f}m {:.0f}s'.format(time_elapsed // 60, time_elapsed % 60))\n",
        "    return train,val,best_model,max_loss"
      ],
      "execution_count": 13,
      "outputs": []
    },
    {
      "cell_type": "code",
      "metadata": {
        "id": "9mNrujYelwgb",
        "colab": {
          "base_uri": "https://localhost:8080/"
        },
        "outputId": "01141d5a-3c15-498f-e5ac-b7638d8274c6"
      },
      "source": [
        "train,val,best_model,best_acc=train_model(multimodel, loss_fn, optim,train_loader,val_loader,num_epochs=140)"
      ],
      "execution_count": 31,
      "outputs": [
        {
          "output_type": "stream",
          "text": [
            "--------------------------------------------------\n",
            "Epoch 1 of 140\n",
            "Train\n",
            "Loss: 0.036\n",
            "Accuracy:\n",
            "\tEach_label_acc->{'phylum_label': 0.9952380952380951, 'class_label': 0.9952380952380951, 'species_label': 0.9958333333333332, 'form_label': 0.9946428571428572, 'sample_label': 0.994047619047619}\n",
            "\tAvg acc->0.995\n",
            "\n",
            "--------------------------------------------------------------------------------------------------------------------------------------------------------------------------------------------------------\n",
            "Validation\n",
            "Loss: 0.932\n",
            "Accuracy: Each_label_acc->{'phylum_label': 0.878787878787879, 'class_label': 0.8360071301247773, 'species_label': 0.704748014908443, 'form_label': 0.7254901960784316, 'sample_label': 0.8698752228163994}\n",
            "\tAvg acc->0.803\n",
            "Saving weights\n",
            "----------------------------------------------------------------------------------------------------\n",
            "--------------------------------------------------\n",
            "Epoch 2 of 140\n",
            "Train\n",
            "Loss: 0.032\n",
            "Accuracy:\n",
            "\tEach_label_acc->{'phylum_label': 0.9982142857142857, 'class_label': 0.9982142857142857, 'species_label': 0.9970238095238096, 'form_label': 0.9958333333333335, 'sample_label': 0.9952380952380953}\n",
            "\tAvg acc->0.997\n",
            "\n",
            "--------------------------------------------------------------------------------------------------------------------------------------------------------------------------------------------------------\n",
            "Validation\n",
            "Loss: 0.968\n",
            "Accuracy: Each_label_acc->{'phylum_label': 0.8823529411764708, 'class_label': 0.8467023172905526, 'species_label': 0.6948630691946202, 'form_label': 0.7397504456327989, 'sample_label': 0.8663101604278075}\n",
            "\tAvg acc->0.806\n",
            "Patience - 9\n",
            "----------------------------------------------------------------------------------------------------\n",
            "--------------------------------------------------\n",
            "Epoch 3 of 140\n",
            "Train\n",
            "Loss: 0.035\n",
            "Accuracy:\n",
            "\tEach_label_acc->{'phylum_label': 0.9946428571428572, 'class_label': 0.993452380952381, 'species_label': 0.9952380952380953, 'form_label': 0.9940476190476192, 'sample_label': 0.9952380952380953}\n",
            "\tAvg acc->0.995\n",
            "\n",
            "--------------------------------------------------------------------------------------------------------------------------------------------------------------------------------------------------------\n",
            "Validation\n",
            "Loss: 0.954\n",
            "Accuracy: Each_label_acc->{'phylum_label': 0.880570409982175, 'class_label': 0.8467023172905528, 'species_label': 0.6887052341597797, 'form_label': 0.7201426024955441, 'sample_label': 0.8663101604278076}\n",
            "\tAvg acc->0.800\n",
            "Patience - 8\n",
            "----------------------------------------------------------------------------------------------------\n",
            "--------------------------------------------------\n",
            "Epoch 4 of 140\n",
            "Train\n",
            "Loss: 0.022\n",
            "Accuracy:\n",
            "\tEach_label_acc->{'phylum_label': 0.9988095238095237, 'class_label': 0.999404761904762, 'species_label': 0.9988095238095239, 'form_label': 0.9988095238095237, 'sample_label': 0.9976190476190477}\n",
            "\tAvg acc->0.999\n",
            "\n",
            "--------------------------------------------------------------------------------------------------------------------------------------------------------------------------------------------------------\n",
            "Validation\n",
            "Loss: 1.007\n",
            "Accuracy: Each_label_acc->{'phylum_label': 0.8787878787878789, 'class_label': 0.8591800356506241, 'species_label': 0.6904877653540757, 'form_label': 0.7450980392156866, 'sample_label': 0.8716577540106953}\n",
            "\tAvg acc->0.809\n",
            "Patience - 7\n",
            "----------------------------------------------------------------------------------------------------\n",
            "--------------------------------------------------\n",
            "Epoch 5 of 140\n",
            "Train\n",
            "Loss: 0.019\n",
            "Accuracy:\n",
            "\tEach_label_acc->{'phylum_label': 0.9988095238095239, 'class_label': 0.9988095238095239, 'species_label': 0.9982142857142857, 'form_label': 0.9976190476190477, 'sample_label': 0.9958333333333335}\n",
            "\tAvg acc->0.998\n",
            "\n",
            "--------------------------------------------------------------------------------------------------------------------------------------------------------------------------------------------------------\n",
            "Validation\n",
            "Loss: 1.032\n",
            "Accuracy: Each_label_acc->{'phylum_label': 0.8859180035650625, 'class_label': 0.8431372549019609, 'species_label': 0.6851401717711878, 'form_label': 0.7272727272727276, 'sample_label': 0.859180035650624}\n",
            "\tAvg acc->0.800\n",
            "Patience - 6\n",
            "----------------------------------------------------------------------------------------------------\n",
            "--------------------------------------------------\n",
            "Epoch 6 of 140\n",
            "Train\n",
            "Loss: 0.030\n",
            "Accuracy:\n",
            "\tEach_label_acc->{'phylum_label': 0.9958333333333332, 'class_label': 0.9958333333333332, 'species_label': 0.9958333333333335, 'form_label': 0.9922619047619049, 'sample_label': 0.9940476190476192}\n",
            "\tAvg acc->0.995\n",
            "\n",
            "--------------------------------------------------------------------------------------------------------------------------------------------------------------------------------------------------------\n",
            "Validation\n",
            "Loss: 1.086\n",
            "Accuracy: Each_label_acc->{'phylum_label': 0.86096256684492, 'class_label': 0.8235294117647061, 'species_label': 0.6635877491492468, 'form_label': 0.7237076648841357, 'sample_label': 0.8573975044563282}\n",
            "\tAvg acc->0.786\n",
            "Patience - 5\n",
            "----------------------------------------------------------------------------------------------------\n",
            "--------------------------------------------------\n",
            "Epoch 7 of 140\n",
            "Train\n",
            "Loss: 0.026\n",
            "Accuracy:\n",
            "\tEach_label_acc->{'phylum_label': 0.9970238095238096, 'class_label': 0.9958333333333335, 'species_label': 0.9970238095238096, 'form_label': 0.9946428571428572, 'sample_label': 0.9958333333333335}\n",
            "\tAvg acc->0.996\n",
            "\n",
            "--------------------------------------------------------------------------------------------------------------------------------------------------------------------------------------------------------\n",
            "Validation\n",
            "Loss: 1.156\n",
            "Accuracy: Each_label_acc->{'phylum_label': 0.880570409982175, 'class_label': 0.8377896613190732, 'species_label': 0.6546750931777671, 'form_label': 0.7397504456327989, 'sample_label': 0.8538324420677362}\n",
            "\tAvg acc->0.793\n",
            "Patience - 4\n",
            "----------------------------------------------------------------------------------------------------\n",
            "--------------------------------------------------\n",
            "Epoch 8 of 140\n",
            "Train\n",
            "Loss: 0.035\n",
            "Accuracy:\n",
            "\tEach_label_acc->{'phylum_label': 0.9964285714285714, 'class_label': 0.9918650793650792, 'species_label': 0.9934523809523809, 'form_label': 0.9898809523809524, 'sample_label': 0.9940476190476192}\n",
            "\tAvg acc->0.993\n",
            "\n",
            "--------------------------------------------------------------------------------------------------------------------------------------------------------------------------------------------------------\n",
            "Validation\n",
            "Loss: 1.044\n",
            "Accuracy: Each_label_acc->{'phylum_label': 0.8698752228163995, 'class_label': 0.8413547237076651, 'species_label': 0.6663425700858857, 'form_label': 0.7237076648841357, 'sample_label': 0.8573975044563281}\n",
            "\tAvg acc->0.792\n",
            "Patience - 3\n",
            "----------------------------------------------------------------------------------------------------\n",
            "--------------------------------------------------\n",
            "Epoch 9 of 140\n",
            "Train\n",
            "Loss: 0.024\n",
            "Accuracy:\n",
            "\tEach_label_acc->{'phylum_label': 0.9988095238095237, 'class_label': 0.996626984126984, 'species_label': 0.9976190476190475, 'form_label': 0.994047619047619, 'sample_label': 0.9964285714285714}\n",
            "\tAvg acc->0.997\n",
            "\n",
            "--------------------------------------------------------------------------------------------------------------------------------------------------------------------------------------------------------\n",
            "Validation\n",
            "Loss: 1.165\n",
            "Accuracy: Each_label_acc->{'phylum_label': 0.8752228163992871, 'class_label': 0.8368173715767301, 'species_label': 0.6558094312105007, 'form_label': 0.700534759358289, 'sample_label': 0.8698752228163994}\n",
            "\tAvg acc->0.788\n",
            "Patience - 2\n",
            "----------------------------------------------------------------------------------------------------\n",
            "--------------------------------------------------\n",
            "Epoch 10 of 140\n",
            "Train\n",
            "Loss: 0.213\n",
            "Accuracy:\n",
            "\tEach_label_acc->{'phylum_label': 0.9748015873015874, 'class_label': 0.9666666666666669, 'species_label': 0.9204365079365081, 'form_label': 0.899007936507936, 'sample_label': 0.973611111111111}\n",
            "\tAvg acc->0.947\n",
            "\n",
            "--------------------------------------------------------------------------------------------------------------------------------------------------------------------------------------------------------\n",
            "Validation\n",
            "Loss: 2.624\n",
            "Accuracy: Each_label_acc->{'phylum_label': 0.7002106627775079, 'class_label': 0.6467347269486308, 'species_label': 0.4120888024631339, 'form_label': 0.5422135796467348, 'sample_label': 0.7259763409496031}\n",
            "\tAvg acc->0.605\n",
            "Patience - 1\n",
            "----------------------------------------------------------------------------------------------------\n",
            "--------------------------------------------------\n",
            "Epoch 11 of 140\n",
            "Train\n",
            "Loss: 1.197\n",
            "Accuracy:\n",
            "\tEach_label_acc->{'phylum_label': 0.7793650793650794, 'class_label': 0.7424603174603175, 'species_label': 0.583730158730159, 'form_label': 0.636904761904762, 'sample_label': 0.7732142857142857}\n",
            "\tAvg acc->0.703\n",
            "\n",
            "--------------------------------------------------------------------------------------------------------------------------------------------------------------------------------------------------------\n",
            "Validation\n",
            "Loss: 1.538\n",
            "Accuracy: Each_label_acc->{'phylum_label': 0.7718360071301249, 'class_label': 0.7058823529411764, 'species_label': 0.5256846540268999, 'form_label': 0.700534759358289, 'sample_label': 0.7180359747204667}\n",
            "\tAvg acc->0.684\n",
            "Patience - 0\n",
            "\n",
            "Stopping\n"
          ],
          "name": "stdout"
        }
      ]
    },
    {
      "cell_type": "code",
      "metadata": {
        "id": "PDdWfleZmC5r",
        "colab": {
          "base_uri": "https://localhost:8080/"
        },
        "outputId": "310ee6db-df39-44ee-b548-7cd21fee949c"
      },
      "source": [
        "multimodel = MultiViT(train_dataset.nclasses,train_dataset.labels)\n",
        "multimodel.load_state_dict(torch.load('/content/multimodal.bin'))\n",
        "multimodel.to(device)\n",
        "preds, true = [],[]\n",
        "val_loader = DataLoader(val_dataset,batch_size=17)\n",
        "multimodel.eval()\n",
        "with torch.no_grad():\n",
        "  for batch in val_loader:\n",
        "    img, labels = batch['image'], batch['labels']\n",
        "    img = img.to(device)\n",
        "    pred = multimodel(img)\n",
        "    preds.append(pred)\n",
        "    true.append(labels)\n"
      ],
      "execution_count": 32,
      "outputs": [
        {
          "output_type": "stream",
          "text": [
            "Removing representation layer for fine-tuning.\n"
          ],
          "name": "stderr"
        }
      ]
    },
    {
      "cell_type": "code",
      "metadata": {
        "id": "m7E8QiIZmCgs"
      },
      "source": [
        "y_pred = {'phylum_label':[], 'class_label':[], 'species_label':[], 'form_label':[], 'sample_label':[]}\n",
        "y_true = {'phylum_label':[], 'class_label':[], 'species_label':[], 'form_label':[], 'sample_label':[]}"
      ],
      "execution_count": 25,
      "outputs": []
    },
    {
      "cell_type": "code",
      "metadata": {
        "id": "Wkxi154slzil"
      },
      "source": [
        "for i in range(len(preds)):\n",
        "  for key in y_pred:\n",
        "    y_pred[key].extend(preds[i][key].argmax(axis = 1).cpu().tolist())\n",
        "    y_true[key].extend(true[i][key].tolist())"
      ],
      "execution_count": 26,
      "outputs": []
    },
    {
      "cell_type": "code",
      "metadata": {
        "id": "UkNAEHunxo_2",
        "colab": {
          "base_uri": "https://localhost:8080/"
        },
        "outputId": "21f1e4c7-d639-49b3-c176-791dbc51548c"
      },
      "source": [
        "np.unique(y_pred[label])"
      ],
      "execution_count": null,
      "outputs": [
        {
          "output_type": "execute_result",
          "data": {
            "text/plain": [
              "array([0, 1, 2, 3, 4])"
            ]
          },
          "metadata": {
            "tags": []
          },
          "execution_count": 32
        }
      ]
    },
    {
      "cell_type": "code",
      "metadata": {
        "id": "wW17V9KexncD",
        "colab": {
          "base_uri": "https://localhost:8080/"
        },
        "outputId": "76d512c5-db0c-429e-a301-381b81bbaa7e"
      },
      "source": [
        "label_encoders['form'].inverse_transform(np.unique(y_pred['form_label']))"
      ],
      "execution_count": null,
      "outputs": [
        {
          "output_type": "execute_result",
          "data": {
            "text/plain": [
              "array(['adult', 'cyst', 'egg', 'gametocyte', 'larva', 'oocysts',\n",
              "       'sarcocysts', 'schizont', 'trophozoites'], dtype=object)"
            ]
          },
          "metadata": {
            "tags": []
          },
          "execution_count": 41
        }
      ]
    },
    {
      "cell_type": "code",
      "metadata": {
        "id": "cvCOtSk9kVmU",
        "colab": {
          "base_uri": "https://localhost:8080/"
        },
        "outputId": "8436a2d9-7663-44d4-cecf-690ef76de0b7"
      },
      "source": [
        "from sklearn.metrics import classification_report, confusion_matrix\n",
        "y = '_label'\n",
        "for label in y_pred:\n",
        "  label_le = label.replace(y,'')\n",
        "  classes = label_encoders[label_le].inverse_transform(np.unique(y_true[label]))\n",
        "  print(f\"\\nClassification Report for {label}:\\n\")\n",
        "  # try:\n",
        "  print(classification_report(y_true[label],y_pred[label],target_names=classes))\n",
        "  # except Exception as e:\n",
        "  #   print(classification_report(y_true[label],y_pred[label]))\n",
        "  print('='*95)"
      ],
      "execution_count": 27,
      "outputs": [
        {
          "output_type": "stream",
          "text": [
            "\n",
            "Classification Report for phylum_label:\n",
            "\n",
            "                   precision    recall  f1-score   support\n",
            "\n",
            "        Amoebozoa       0.83      0.83      0.83        35\n",
            "      Apicomplexa       0.96      0.98      0.97       255\n",
            "         Nematoda       0.85      0.81      0.83       150\n",
            "  Platyhelminthes       0.81      0.86      0.84        80\n",
            "Sarcomastigophora       0.93      0.80      0.86        35\n",
            "\n",
            "         accuracy                           0.90       555\n",
            "        macro avg       0.88      0.86      0.87       555\n",
            "     weighted avg       0.90      0.90      0.90       555\n",
            "\n",
            "===============================================================================================\n",
            "\n",
            "Classification Report for class_label:\n",
            "\n",
            "               precision    recall  f1-score   support\n",
            "\n",
            " Aconoidasida       1.00      0.98      0.99       180\n",
            "      Cestoda       0.86      0.78      0.82        65\n",
            "  Chromadorea       0.72      0.78      0.75       125\n",
            "  Conoidasida       0.84      0.97      0.90        75\n",
            "      Enoplea       0.65      0.44      0.52        25\n",
            "Rhabditophora       0.88      1.00      0.94        15\n",
            "    Tubulinea       0.84      0.77      0.81        35\n",
            "Zooflagellate       0.86      0.71      0.78        35\n",
            "\n",
            "     accuracy                           0.86       555\n",
            "    macro avg       0.83      0.81      0.81       555\n",
            " weighted avg       0.86      0.86      0.86       555\n",
            "\n",
            "===============================================================================================\n",
            "\n",
            "Classification Report for species_label:\n",
            "\n",
            "                           precision    recall  f1-score   support\n",
            "\n",
            "          Ancyclostoma sp       0.21      0.30      0.24        20\n",
            "     Ascaris lumbricoides       0.71      0.49      0.58        35\n",
            "       Cryptosporidium sp       0.71      0.85      0.77        20\n",
            "  Cyclospora cayetanensis       1.00      0.94      0.97        35\n",
            "  Dibothriocephalus latus       0.70      0.56      0.62        25\n",
            "  Echinococcus granulosus       0.86      0.80      0.83        15\n",
            "    Entamoeba histolytica       0.87      0.77      0.82        35\n",
            "  Enterobius vermicularis       0.30      0.24      0.27        25\n",
            "        Fasciola hepatica       0.58      1.00      0.73        15\n",
            "       Giardia duodenalis       0.87      0.57      0.69        35\n",
            "          Hymenolepis spp       0.95      0.80      0.87        25\n",
            "    Plasmodium falciparum       0.78      0.80      0.79        50\n",
            "      Plasmodium knowlesi       0.59      0.88      0.71        25\n",
            "      Plasmodium malariae       0.86      0.69      0.76        35\n",
            "         Plasmodium ovale       0.44      0.55      0.49        20\n",
            "         Plasmodium vivax       0.76      0.62      0.68        50\n",
            "           Sarcocystis sp       0.59      1.00      0.74        20\n",
            "Strongyloides stercoralis       0.75      0.48      0.59        25\n",
            "           Toxocara canis       0.45      0.90      0.60        20\n",
            "      Trichuris Trichuria       0.44      0.32      0.37        25\n",
            "\n",
            "                 accuracy                           0.67       555\n",
            "                macro avg       0.67      0.68      0.66       555\n",
            "             weighted avg       0.70      0.67      0.67       555\n",
            "\n",
            "===============================================================================================\n",
            "\n",
            "Classification Report for form_label:\n",
            "\n",
            "              precision    recall  f1-score   support\n",
            "\n",
            "       adult       0.77      0.88      0.82        95\n",
            "        cyst       0.84      0.80      0.82        45\n",
            "         egg       0.93      0.84      0.88        90\n",
            "  gametocyte       0.15      0.40      0.22        20\n",
            "       larva       0.47      0.53      0.50        30\n",
            "     oocysts       0.82      0.95      0.88        65\n",
            "    ookinete       0.00      0.00      0.00         5\n",
            "  sarcocysts       0.67      1.00      0.80        10\n",
            "    schizont       0.93      0.87      0.90        45\n",
            "trophozoites       0.89      0.59      0.71       150\n",
            "\n",
            "    accuracy                           0.76       555\n",
            "   macro avg       0.65      0.69      0.65       555\n",
            "weighted avg       0.80      0.76      0.77       555\n",
            "\n",
            "===============================================================================================\n",
            "\n",
            "Classification Report for sample_label:\n",
            "\n",
            "                precision    recall  f1-score   support\n",
            "\n",
            "     bile duct       0.67      0.80      0.73         5\n",
            "         blood       0.99      0.99      0.99       180\n",
            "         feces       0.94      0.83      0.88       145\n",
            "     intestine       0.55      0.65      0.59        65\n",
            "    intestine        0.65      0.94      0.77        35\n",
            "         liver       0.67      0.50      0.57        20\n",
            "         lungs       0.00      0.00      0.00        10\n",
            "macro-organism       1.00      1.00      1.00         5\n",
            " muscle tissue       0.67      1.00      0.80        10\n",
            "            na       1.00      1.00      1.00         5\n",
            "     wet mount       0.94      0.88      0.91        75\n",
            "\n",
            "      accuracy                           0.85       555\n",
            "     macro avg       0.73      0.78      0.75       555\n",
            "  weighted avg       0.86      0.85      0.85       555\n",
            "\n",
            "===============================================================================================\n"
          ],
          "name": "stdout"
        },
        {
          "output_type": "stream",
          "text": [
            "/usr/local/lib/python3.7/dist-packages/sklearn/metrics/_classification.py:1272: UndefinedMetricWarning: Precision and F-score are ill-defined and being set to 0.0 in labels with no predicted samples. Use `zero_division` parameter to control this behavior.\n",
            "  _warn_prf(average, modifier, msg_start, len(result))\n"
          ],
          "name": "stderr"
        }
      ]
    },
    {
      "cell_type": "code",
      "metadata": {
        "id": "8Pw9BIhZyljN"
      },
      "source": [
        ""
      ],
      "execution_count": null,
      "outputs": []
    }
  ]
}