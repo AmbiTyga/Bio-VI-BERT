{
  "nbformat": 4,
  "nbformat_minor": 0,
  "metadata": {
    "colab": {
      "name": "Pre-trained Image Transformer",
      "provenance": [],
      "collapsed_sections": [],
      "toc_visible": true,
      "machine_shape": "hm",
      "include_colab_link": true
    },
    "kernelspec": {
      "name": "python3",
      "display_name": "Python 3"
    },
    "accelerator": "GPU"
  },
  "cells": [
    {
      "cell_type": "markdown",
      "metadata": {
        "id": "view-in-github",
        "colab_type": "text"
      },
      "source": [
        "<a href=\"https://colab.research.google.com/github/AmbiTyga/Bio-VI-BERT/blob/main/Multi-label-Classifier.ipynb\" target=\"_parent\"><img src=\"https://colab.research.google.com/assets/colab-badge.svg\" alt=\"Open In Colab\"/></a>"
      ]
    },
    {
      "cell_type": "code",
      "metadata": {
        "id": "399tkRUuCe_0",
        "colab": {
          "base_uri": "https://localhost:8080/"
        },
        "outputId": "0b1c4645-f08f-4068-aa4d-0b02069a0a4d"
      },
      "source": [
        "!pip install timm==0.4.5 -q"
      ],
      "execution_count": 2,
      "outputs": [
        {
          "output_type": "stream",
          "text": [
            "\u001b[?25l\r\u001b[K     |█▏                              | 10kB 17.2MB/s eta 0:00:01\r\u001b[K     |██▎                             | 20kB 22.3MB/s eta 0:00:01\r\u001b[K     |███▍                            | 30kB 17.8MB/s eta 0:00:01\r\u001b[K     |████▋                           | 40kB 16.0MB/s eta 0:00:01\r\u001b[K     |█████▊                          | 51kB 12.4MB/s eta 0:00:01\r\u001b[K     |██████▉                         | 61kB 14.1MB/s eta 0:00:01\r\u001b[K     |████████                        | 71kB 10.9MB/s eta 0:00:01\r\u001b[K     |█████████▏                      | 81kB 11.7MB/s eta 0:00:01\r\u001b[K     |██████████▎                     | 92kB 11.7MB/s eta 0:00:01\r\u001b[K     |███████████▍                    | 102kB 11.7MB/s eta 0:00:01\r\u001b[K     |████████████▌                   | 112kB 11.7MB/s eta 0:00:01\r\u001b[K     |█████████████▊                  | 122kB 11.7MB/s eta 0:00:01\r\u001b[K     |██████████████▉                 | 133kB 11.7MB/s eta 0:00:01\r\u001b[K     |████████████████                | 143kB 11.7MB/s eta 0:00:01\r\u001b[K     |█████████████████               | 153kB 11.7MB/s eta 0:00:01\r\u001b[K     |██████████████████▎             | 163kB 11.7MB/s eta 0:00:01\r\u001b[K     |███████████████████▍            | 174kB 11.7MB/s eta 0:00:01\r\u001b[K     |████████████████████▌           | 184kB 11.7MB/s eta 0:00:01\r\u001b[K     |█████████████████████▋          | 194kB 11.7MB/s eta 0:00:01\r\u001b[K     |██████████████████████▉         | 204kB 11.7MB/s eta 0:00:01\r\u001b[K     |████████████████████████        | 215kB 11.7MB/s eta 0:00:01\r\u001b[K     |█████████████████████████       | 225kB 11.7MB/s eta 0:00:01\r\u001b[K     |██████████████████████████▏     | 235kB 11.7MB/s eta 0:00:01\r\u001b[K     |███████████████████████████▍    | 245kB 11.7MB/s eta 0:00:01\r\u001b[K     |████████████████████████████▌   | 256kB 11.7MB/s eta 0:00:01\r\u001b[K     |█████████████████████████████▋  | 266kB 11.7MB/s eta 0:00:01\r\u001b[K     |██████████████████████████████▉ | 276kB 11.7MB/s eta 0:00:01\r\u001b[K     |████████████████████████████████| 286kB 11.7MB/s eta 0:00:01\r\u001b[K     |████████████████████████████████| 296kB 11.7MB/s \n",
            "\u001b[?25h"
          ],
          "name": "stdout"
        }
      ]
    },
    {
      "cell_type": "code",
      "metadata": {
        "colab": {
          "base_uri": "https://localhost:8080/"
        },
        "id": "eVjc4Kju84S5",
        "outputId": "ac6e7ade-6907-43f2-81c9-5b848e22e819"
      },
      "source": [
        "!wget https://raw.githubusercontent.com/AmbiTyga/Bio-VI-BERT/main/Train.7z\n",
        "!7z x /content/Train.7z"
      ],
      "execution_count": 3,
      "outputs": [
        {
          "output_type": "stream",
          "text": [
            "--2021-04-16 10:37:14--  https://raw.githubusercontent.com/AmbiTyga/Bio-VI-BERT/main/Train.7z\n",
            "Resolving raw.githubusercontent.com (raw.githubusercontent.com)... 185.199.108.133, 185.199.109.133, 185.199.110.133, ...\n",
            "Connecting to raw.githubusercontent.com (raw.githubusercontent.com)|185.199.108.133|:443... connected.\n",
            "HTTP request sent, awaiting response... 200 OK\n",
            "Length: 21599892 (21M) [application/octet-stream]\n",
            "Saving to: ‘Train.7z’\n",
            "\n",
            "Train.7z            100%[===================>]  20.60M   110MB/s    in 0.2s    \n",
            "\n",
            "2021-04-16 10:37:15 (110 MB/s) - ‘Train.7z’ saved [21599892/21599892]\n",
            "\n",
            "\n",
            "7-Zip [64] 16.02 : Copyright (c) 1999-2016 Igor Pavlov : 2016-05-21\n",
            "p7zip Version 16.02 (locale=en_US.UTF-8,Utf16=on,HugeFiles=on,64 bits,2 CPUs Intel(R) Xeon(R) CPU @ 2.30GHz (306F0),ASM,AES-NI)\n",
            "\n",
            "Scanning the drive for archives:\n",
            "  0M Scan /content/\b\b\b\b\b\b\b\b\b\b\b\b\b\b\b\b\b\b\b                   \b\b\b\b\b\b\b\b\b\b\b\b\b\b\b\b\b\b\b1 file, 21599892 bytes (21 MiB)\n",
            "\n",
            "Extracting archive: /content/Train.7z\n",
            "--\n",
            "Path = /content/Train.7z\n",
            "Type = 7z\n",
            "Physical Size = 21599892\n",
            "Headers Size = 14592\n",
            "Method = LZMA2:24\n",
            "Solid = +\n",
            "Blocks = 1\n",
            "\n",
            "  0%\b\b\b\b    \b\b\b\b 13% 20\b\b\b\b\b\b\b       \b\b\b\b\b\b\b 27% 368 - train/Cyclospora cayetanensis/T_3_71.jpg\b\b\b\b\b\b\b\b\b\b\b\b\b\b\b\b\b\b\b\b\b\b\b\b\b\b\b\b\b\b\b\b\b\b\b\b\b\b\b\b\b\b\b\b\b\b\b\b\b\b\b                                                   \b\b\b\b\b\b\b\b\b\b\b\b\b\b\b\b\b\b\b\b\b\b\b\b\b\b\b\b\b\b\b\b\b\b\b\b\b\b\b\b\b\b\b\b\b\b\b\b\b\b\b 43% 591 - train/Entamoeba histolytica/T_3_143.jpg\b\b\b\b\b\b\b\b\b\b\b\b\b\b\b\b\b\b\b\b\b\b\b\b\b\b\b\b\b\b\b\b\b\b\b\b\b\b\b\b\b\b\b\b\b\b\b\b\b\b                                                  \b\b\b\b\b\b\b\b\b\b\b\b\b\b\b\b\b\b\b\b\b\b\b\b\b\b\b\b\b\b\b\b\b\b\b\b\b\b\b\b\b\b\b\b\b\b\b\b\b\b 57% 829 - train/Giardia duodenalis/T_4_211.jpg\b\b\b\b\b\b\b\b\b\b\b\b\b\b\b\b\b\b\b\b\b\b\b\b\b\b\b\b\b\b\b\b\b\b\b\b\b\b\b\b\b\b\b\b\b\b\b                                               \b\b\b\b\b\b\b\b\b\b\b\b\b\b\b\b\b\b\b\b\b\b\b\b\b\b\b\b\b\b\b\b\b\b\b\b\b\b\b\b\b\b\b\b\b\b\b 67% 1246 - train/Plasmodium malariae/T_4_322.jpg\b\b\b\b\b\b\b\b\b\b\b\b\b\b\b\b\b\b\b\b\b\b\b\b\b\b\b\b\b\b\b\b\b\b\b\b\b\b\b\b\b\b\b\b\b\b\b\b\b                                                 \b\b\b\b\b\b\b\b\b\b\b\b\b\b\b\b\b\b\b\b\b\b\b\b\b\b\b\b\b\b\b\b\b\b\b\b\b\b\b\b\b\b\b\b\b\b\b\b\b 82% 1286 - train/Plasmodium ovale/T_1_342.jpg\b\b\b\b\b\b\b\b\b\b\b\b\b\b\b\b\b\b\b\b\b\b\b\b\b\b\b\b\b\b\b\b\b\b\b\b\b\b\b\b\b\b\b\b\b\b                                              \b\b\b\b\b\b\b\b\b\b\b\b\b\b\b\b\b\b\b\b\b\b\b\b\b\b\b\b\b\b\b\b\b\b\b\b\b\b\b\b\b\b\b\b\b\b 96% 1700 - train/Toxocara canis/T_3_451.jpg\b\b\b\b\b\b\b\b\b\b\b\b\b\b\b\b\b\b\b\b\b\b\b\b\b\b\b\b\b\b\b\b\b\b\b\b\b\b\b\b\b\b\b\b                                            \b\b\b\b\b\b\b\b\b\b\b\b\b\b\b\b\b\b\b\b\b\b\b\b\b\b\b\b\b\b\b\b\b\b\b\b\b\b\b\b\b\b\b\bEverything is Ok\n",
            "\n",
            "Folders: 20\n",
            "Files: 1951\n",
            "Size:       24379880\n",
            "Compressed: 21599892\n"
          ],
          "name": "stdout"
        }
      ]
    },
    {
      "cell_type": "code",
      "metadata": {
        "id": "0K3nmmNSCsza",
        "colab": {
          "base_uri": "https://localhost:8080/"
        },
        "outputId": "4b4f0634-0491-416b-d276-1c2eb78c9345"
      },
      "source": [
        "!wget https://raw.githubusercontent.com/AmbiTyga/Bio-VI-BERT/main/Val.7z\n",
        "!7z x /content/Val.7z"
      ],
      "execution_count": 4,
      "outputs": [
        {
          "output_type": "stream",
          "text": [
            "--2021-04-16 10:37:17--  https://raw.githubusercontent.com/AmbiTyga/Bio-VI-BERT/main/Val.7z\n",
            "Resolving raw.githubusercontent.com (raw.githubusercontent.com)... 185.199.108.133, 185.199.109.133, 185.199.110.133, ...\n",
            "Connecting to raw.githubusercontent.com (raw.githubusercontent.com)|185.199.108.133|:443... connected.\n",
            "HTTP request sent, awaiting response... 200 OK\n",
            "Length: 4849556 (4.6M) [application/octet-stream]\n",
            "Saving to: ‘Val.7z’\n",
            "\n",
            "Val.7z              100%[===================>]   4.62M  --.-KB/s    in 0.09s   \n",
            "\n",
            "2021-04-16 10:37:18 (49.5 MB/s) - ‘Val.7z’ saved [4849556/4849556]\n",
            "\n",
            "\n",
            "7-Zip [64] 16.02 : Copyright (c) 1999-2016 Igor Pavlov : 2016-05-21\n",
            "p7zip Version 16.02 (locale=en_US.UTF-8,Utf16=on,HugeFiles=on,64 bits,2 CPUs Intel(R) Xeon(R) CPU @ 2.30GHz (306F0),ASM,AES-NI)\n",
            "\n",
            "Scanning the drive for archives:\n",
            "  0M Scan /content/\b\b\b\b\b\b\b\b\b\b\b\b\b\b\b\b\b\b\b                   \b\b\b\b\b\b\b\b\b\b\b\b\b\b\b\b\b\b\b1 file, 4849556 bytes (4736 KiB)\n",
            "\n",
            "Extracting archive: /content/Val.7z\n",
            "--\n",
            "Path = /content/Val.7z\n",
            "Type = 7z\n",
            "Physical Size = 4849556\n",
            "Headers Size = 2370\n",
            "Method = LZMA2:6m\n",
            "Solid = +\n",
            "Blocks = 1\n",
            "\n",
            "  0%\b\b\b\b    \b\b\b\b 65% 23 - val/Ancyclostoma sp/Hookworm_tissue_BAM2.jpg.jpg\b\b\b\b\b\b\b\b\b\b\b\b\b\b\b\b\b\b\b\b\b\b\b\b\b\b\b\b\b\b\b\b\b\b\b\b\b\b\b\b\b\b\b\b\b\b\b\b\b\b\b\b\b\b\b\b\b\b                                                          \b\b\b\b\b\b\b\b\b\b\b\b\b\b\b\b\b\b\b\b\b\b\b\b\b\b\b\b\b\b\b\b\b\b\b\b\b\b\b\b\b\b\b\b\b\b\b\b\b\b\b\b\b\b\b\b\b\bEverything is Ok\n",
            "\n",
            "Folders: 20\n",
            "Files: 132\n",
            "Size:       5949144\n",
            "Compressed: 4849556\n"
          ],
          "name": "stdout"
        }
      ]
    },
    {
      "cell_type": "code",
      "metadata": {
        "id": "yVc3_O_n_In6"
      },
      "source": [
        "import timm\n",
        "import pandas as pd\n",
        "import numpy as np\n",
        "import torch.nn as nn\n",
        "import torch\n",
        "from torch.utils.data import Dataset, DataLoader, sampler\n",
        "from sklearn.preprocessing import LabelEncoder\n",
        "import os,time\n",
        "from math import fsum\n",
        "from sklearn.model_selection import train_test_split\n",
        "from glob import glob\n",
        "from PIL import Image\n",
        "from torchvision import transforms"
      ],
      "execution_count": 5,
      "outputs": []
    },
    {
      "cell_type": "markdown",
      "metadata": {
        "id": "aAHwzGXx_7y-"
      },
      "source": [
        "## Cleaning and getting a final data"
      ]
    },
    {
      "cell_type": "code",
      "metadata": {
        "id": "aObD7UFjoJZR"
      },
      "source": [
        "from PIL import Image\n",
        "from glob import glob\n",
        "images = [x for x in glob('./val/*/*') if 'val.csv' not in x]\n",
        "for i in images:\n",
        "  Image.open(i).convert('RGB').save(i)"
      ],
      "execution_count": 9,
      "outputs": []
    },
    {
      "cell_type": "code",
      "metadata": {
        "id": "2H1f9w06nA78"
      },
      "source": [
        "labels = [\"phylum\",\"class\",\"species\",\"form\",\"sample\"]\n",
        "\n",
        "train = pd.read_csv('/content/train/train.csv')\n",
        "val = pd.read_csv('/content/val/val.csv')\n",
        "\n",
        "train = train[train['species']!='na']\n",
        "val = val[val['species']!='na']\n",
        "\n",
        "train['img_path'] = train['img_path'].str.replace('/train','./train')\n",
        "val['img_path'] = val['img_path'].str.replace('/content','./val')"
      ],
      "execution_count": 10,
      "outputs": []
    },
    {
      "cell_type": "code",
      "metadata": {
        "id": "RvqUZNOLVljR"
      },
      "source": [
        "label_encoders = dict()\n",
        "for x in labels:\n",
        "  le = LabelEncoder()\n",
        "  train[f'{x}_label'] = le.fit_transform(train[x])\n",
        "  val[f'{x}_label'] = le.transform(val[x])\n",
        "  label_encoders[x] = le"
      ],
      "execution_count": 11,
      "outputs": []
    },
    {
      "cell_type": "code",
      "metadata": {
        "id": "KjwGMBtPtNtw"
      },
      "source": [
        "train.to_csv('/content/train.csv',index = False)\n",
        "\n",
        "val.to_csv('/content/val.csv',index = False)"
      ],
      "execution_count": 12,
      "outputs": []
    },
    {
      "cell_type": "markdown",
      "metadata": {
        "id": "7QNo2DKUAAgm"
      },
      "source": [
        "# Dataset Objects"
      ]
    },
    {
      "cell_type": "code",
      "metadata": {
        "id": "wOL5NtArJ8QY"
      },
      "source": [
        "transformer = transforms.Compose([\n",
        "        transforms.Resize((224,224)),\n",
        "#         transforms.CenterCrop(224),\n",
        "        transforms.ToTensor(),\n",
        "        transforms.Normalize([0.5, 0.5, 0.5], [0.5, 0.5, 0.5])\n",
        "    ])"
      ],
      "execution_count": 6,
      "outputs": []
    },
    {
      "cell_type": "code",
      "metadata": {
        "id": "4x2bbh_0n-YT"
      },
      "source": [
        "class MultiDataset(Dataset):\n",
        "  def __init__(self,dataFrame,label_encoders,transform=None):\n",
        "    self.data = dataFrame\n",
        "    self.transform = transform\n",
        "    self.labels = [\"phylum_label\",\"class_label\",\"species_label\",\"form_label\",\"sample_label\"]\n",
        "    self.label_encoder = label_encoders\n",
        "    self.nclasses = self.get_nclasses()\n",
        "    total = fsum(self.nclasses.values())\n",
        "\n",
        "    self.weights = {k:v/total for k,v in self.nclasses.items()}\n",
        "\n",
        "  def __len__(self):\n",
        "    return len(self.data)\n",
        "\n",
        "  def __getitem__(self, idx):\n",
        "    img_path = self.data.loc[idx,\"img_path\"]\n",
        "    image = Image.open(img_path)\n",
        "    image = self.transform(image)\n",
        "    labels = self.data.loc[idx,self.labels].to_dict()\n",
        "    for label in labels:\n",
        "      labels[label] = torch.tensor(labels[label],dtype = torch.long)\n",
        "            \n",
        "    dict_data = {\n",
        "    'image': image,\n",
        "    'labels': labels\n",
        "    }\n",
        "    return dict_data\n",
        "  \n",
        "  # def get_label_encode(self):\n",
        "  #   d=dict()\n",
        "  #   for label in self.labels:            \n",
        "  #       le = LabelEncoder()\n",
        "  #       self.data[label]=le.fit_transform(self.data[label])\n",
        "  #       d[label]=le\n",
        "  #   return d\n",
        "    \n",
        "  def get_nclasses(self):\n",
        "    return self.data[self.labels].nunique().to_dict()"
      ],
      "execution_count": 7,
      "outputs": []
    },
    {
      "cell_type": "markdown",
      "metadata": {
        "id": "hKI3EnppZcNW"
      },
      "source": [
        "# Multi-label Classification"
      ]
    },
    {
      "cell_type": "code",
      "metadata": {
        "id": "0cJUGGT3d4-n"
      },
      "source": [
        "class MultiViT(nn.Module):\n",
        "  def __init__(self,nclasses,labels):\n",
        "    super(MultiViT,self).__init__()\n",
        "\n",
        "\n",
        "    self.img_transformer = timm.models.vision_transformer.vit_base_patch16_224_in21k(pretrained=True,num_classes = 0)\n",
        "    # self.img_transformer.load_state_dict(torch.load(vit_path))\n",
        "    self.fc1 = nn.Linear(768,3*768)\n",
        "    self.mha = nn.MultiheadAttention(768,6,0.38,False)\n",
        "    # for param in self.img_transformer.parameters():\n",
        "    #   param.requires_grad = False\n",
        "    self.drop = nn.Dropout(0.38)\n",
        "    self.classifiers = nn.ModuleDict()\n",
        "    for label in labels:\n",
        "      self.classifiers[label]=nn.Sequential(nn.BatchNorm1d(512),\n",
        "                                            nn.Linear(512,nclasses[label]))\n",
        "\n",
        "    \n",
        "  def forward(self,x):\n",
        "    x=self.img_transformer(x)\n",
        "    x = self.fc1(x)\n",
        "    x = x.unsqueeze(dim = 0)\n",
        "    q, k, v = x.split(768,dim = 2)\n",
        "    z,_ = self.mha(q,k,v)\n",
        "    z = z.squeeze(dim = 0)\n",
        "    \n",
        "\n",
        "    # x=self.drop(x)\n",
        "    y=dict()\n",
        "    for label in self.classifiers.keys():\n",
        "        y[label]=self.classifiers[label](z)\n",
        "    # print(y.keys())\n",
        "    return y\n"
      ],
      "execution_count": 8,
      "outputs": []
    },
    {
      "cell_type": "code",
      "metadata": {
        "id": "o-nKia0Gn2Vt"
      },
      "source": [
        "train = pd.read_csv(\"/content/train.csv\")\n",
        "val = pd.read_csv(\"/content/val.csv\")\n",
        "\n",
        "train_dataset = MultiDataset(train,label_encoders,transformer)\n",
        "val_dataset = MultiDataset(val,label_encoders,transformer)\n",
        "\n",
        "train_loader = DataLoader(train_dataset,batch_size=24)\n",
        "val_loader = DataLoader(val_dataset,batch_size=17)"
      ],
      "execution_count": 13,
      "outputs": []
    },
    {
      "cell_type": "code",
      "metadata": {
        "id": "NB_vgLAOqkGF",
        "colab": {
          "base_uri": "https://localhost:8080/"
        },
        "outputId": "c3f586bc-5008-47c0-a946-5a71b5d4cf92"
      },
      "source": [
        "device = torch.device('cuda')\n",
        "multimodel = MultiViT(train_dataset.nclasses,train_dataset.labels)\n",
        "multimodel.to(device)\n",
        "loss_fn = nn.CrossEntropyLoss()\n",
        "optim = torch.optim.Adam(filter(lambda p: p.requires_grad, multimodel.parameters()),lr = 1e-4)"
      ],
      "execution_count": 14,
      "outputs": [
        {
          "output_type": "stream",
          "text": [
            "Removing representation layer for fine-tuning.\n",
            "Downloading: \"https://github.com/rwightman/pytorch-image-models/releases/download/v0.1-vitjx/jx_vit_base_patch16_224_in21k-e5005f0a.pth\" to /root/.cache/torch/hub/checkpoints/jx_vit_base_patch16_224_in21k-e5005f0a.pth\n"
          ],
          "name": "stderr"
        }
      ]
    },
    {
      "cell_type": "code",
      "metadata": {
        "id": "kg4Q2q1ErlXN"
      },
      "source": [
        "#@title Training Functions\n",
        "def get_loss(out,labels,loss_fn,weights):\n",
        "    loss=0\n",
        "    for label in labels:\n",
        "        loss+=loss_fn(out[label],labels[label])*weights[label]\n",
        "    return loss\n",
        "\n",
        "\n",
        "def cal_accuracy(out,labels,batch_size,epoch_acc):\n",
        "    for key in out:\n",
        "        q=(out[key].detach().argmax(axis=1)==labels[key]).sum().item()/batch_size\n",
        "        if not key in epoch_acc.keys():\n",
        "            epoch_acc[key]=q\n",
        "        else:\n",
        "            epoch_acc[key]+=q\n",
        "    return epoch_acc\n",
        "\n",
        "\n",
        "def get_avg_acc(epoch_acc,loader):\n",
        "    acc=0\n",
        "    for key in epoch_acc:\n",
        "        epoch_acc[key]/=len(loader)\n",
        "        acc+=epoch_acc[key]\n",
        "        \n",
        "    return acc/len(epoch_acc),epoch_acc\n",
        "\n",
        "def evaluate(model,loss_fn,loader):\n",
        "    model.eval()\n",
        "    epoch_acc={}\n",
        "    epoch_loss=0\n",
        "    with torch.no_grad():\n",
        "      for batch in loader:\n",
        "          img=batch[\"image\"].to(device)\n",
        "          labels=batch[\"labels\"]\n",
        "          for key in labels:\n",
        "              labels[key]=labels[key].to(device)\n",
        "          \n",
        "          out=model(img)\n",
        "          loss=get_loss(out,labels,loss_fn,loader.dataset.weights)\n",
        "          epoch_loss+=loss.item()\n",
        "          epoch_acc=cal_accuracy(out,labels,img.shape[0],epoch_acc)\n",
        "        \n",
        "    avg_acc,epoch_acc=get_avg_acc(epoch_acc,loader)\n",
        "    return (epoch_loss/len(loader),avg_acc,epoch_acc)\n",
        "\n",
        "def train_model(model, loss_fn, opt,trainloader,valloader, num_epochs=1):\n",
        "    stop_value = 10\n",
        "    since = time.time()\n",
        "    best_model=\"\"\n",
        "    max_loss=np.inf\n",
        "    train={\"loss\":[],\"avg\":[],\"individual\":[]}\n",
        "    val={\"loss\":[],\"avg\":[],\"individual\":[]}\n",
        "    for epoch in range(num_epochs):\n",
        "        print(\"-\"*50)\n",
        "        print('Epoch {} of {}'.format(epoch+1, num_epochs))\n",
        "        epoch_loss=0\n",
        "        epoch_acc={}\n",
        "        model.train()\n",
        "        # Iterate over data.\n",
        "        for i,data in enumerate(trainloader):\n",
        "            opt.zero_grad()\n",
        "            img=data[\"image\"].to(device)\n",
        "            labels=data[\"labels\"]\n",
        "            for key in labels:\n",
        "                labels[key]=labels[key].to(device)\n",
        "            \n",
        "\n",
        "            out=model(img)\n",
        "            # print(out,labels,sep = '\\n\\n')\n",
        "            loss=get_loss(out,labels,loss_fn,trainloader.dataset.weights)\n",
        "            epoch_loss+=loss.detach().item()\n",
        "            loss.backward()\n",
        "            opt.step()\n",
        "            epoch_acc=cal_accuracy(out,labels,img.shape[0],epoch_acc)\n",
        "            \n",
        "        val_result=evaluate(model,loss_fn,valloader)\n",
        "        avg_acc,epoch_acc=get_avg_acc(epoch_acc,trainloader)\n",
        "        avg_loss=epoch_loss/len(trainloader)\n",
        "        print('Train')\n",
        "        print(f\"Loss: {avg_loss:.3f}\\nAccuracy:\\n\\tEach_label_acc->{epoch_acc}\\n\\tAvg acc->{avg_acc:.3f}\\n\")\n",
        "        print(\"-\"*200)\n",
        "        print(\"Validation\")\n",
        "        print(f\"Loss: {val_result[0]:.3f}\\nAccuracy: Each_label_acc->{val_result[2]}\\n\\tAvg acc->{val_result[1]:.3f}\")\n",
        "        \n",
        "        if val_result[0]<max_loss:\n",
        "          train[\"avg\"].append(avg_acc)\n",
        "          train[\"individual\"].append(epoch_acc)\n",
        "          train[\"loss\"].append(avg_loss)\n",
        "        \n",
        "          val[\"avg\"].append(val_result[1])\n",
        "          val[\"individual\"].append(val_result[2])\n",
        "          val[\"loss\"].append(val_result[0])\n",
        "        \n",
        "          max_loss=val_result[0]\n",
        "          torch.save(model.state_dict(),'multimodal.bin')\n",
        "          print('Saving weights')\n",
        "          stop_value = 10\n",
        "        if val_result[0]>max_loss:\n",
        "          stop_value -=1\n",
        "          print(f'Patience - {stop_value}')\n",
        "\n",
        "        if stop_value<=0:\n",
        "          print(\"\\nStopping\")\n",
        "          return train,val,best_model,max_loss \n",
        "        print(\"-\"*100)\n",
        "    time_elapsed = time.time() - since\n",
        "    print('Training complete in {:.0f}m {:.0f}s'.format(time_elapsed // 60, time_elapsed % 60))\n",
        "    return train,val,best_model,max_loss"
      ],
      "execution_count": null,
      "outputs": []
    },
    {
      "cell_type": "code",
      "metadata": {
        "id": "9mNrujYelwgb",
        "colab": {
          "base_uri": "https://localhost:8080/"
        },
        "outputId": "c94c1b83-6945-41b4-88fc-1848bfa14908"
      },
      "source": [
        "train,val,best_model,best_acc=train_model(multimodel, loss_fn, optim,train_loader,val_loader,num_epochs=140)"
      ],
      "execution_count": null,
      "outputs": [
        {
          "output_type": "stream",
          "text": [
            "--------------------------------------------------\n",
            "Epoch 1 of 140\n",
            "Train\n",
            "Loss: 0.036\n",
            "Accuracy:\n",
            "\tEach_label_acc->{'phylum_label': 0.9904279279279278, 'class_label': 0.9915540540540541, 'species_label': 1.0, 'form_label': 1.0, 'sample_label': 0.9904279279279278}\n",
            "\tAvg acc->0.994\n",
            "\n",
            "--------------------------------------------------------------------------------------------------------------------------------------------------------------------------------------------------------\n",
            "Validation\n",
            "Loss: 0.616\n",
            "Accuracy: Each_label_acc->{'phylum_label': 0.9075630252100841, 'class_label': 0.8739495798319327, 'species_label': 0.7394957983193278, 'form_label': 0.8067226890756302, 'sample_label': 0.9075630252100841}\n",
            "\tAvg acc->0.847\n",
            "Saving weights\n",
            "----------------------------------------------------------------------------------------------------\n",
            "--------------------------------------------------\n",
            "Epoch 2 of 140\n",
            "Train\n",
            "Loss: 0.033\n",
            "Accuracy:\n",
            "\tEach_label_acc->{'phylum_label': 0.9876126126126126, 'class_label': 0.9921171171171171, 'species_label': 1.0, 'form_label': 1.0, 'sample_label': 0.9921171171171171}\n",
            "\tAvg acc->0.994\n",
            "\n",
            "--------------------------------------------------------------------------------------------------------------------------------------------------------------------------------------------------------\n",
            "Validation\n",
            "Loss: 0.596\n",
            "Accuracy: Each_label_acc->{'phylum_label': 0.9159663865546219, 'class_label': 0.8823529411764707, 'species_label': 0.7563025210084033, 'form_label': 0.8067226890756302, 'sample_label': 0.9075630252100841}\n",
            "\tAvg acc->0.854\n",
            "Saving weights\n",
            "----------------------------------------------------------------------------------------------------\n",
            "--------------------------------------------------\n",
            "Epoch 3 of 140\n",
            "Train\n",
            "Loss: 0.032\n",
            "Accuracy:\n",
            "\tEach_label_acc->{'phylum_label': 0.9887387387387389, 'class_label': 0.9926801801801801, 'species_label': 1.0, 'form_label': 1.0, 'sample_label': 0.9921171171171171}\n",
            "\tAvg acc->0.995\n",
            "\n",
            "--------------------------------------------------------------------------------------------------------------------------------------------------------------------------------------------------------\n",
            "Validation\n",
            "Loss: 0.630\n",
            "Accuracy: Each_label_acc->{'phylum_label': 0.8991596638655464, 'class_label': 0.8739495798319327, 'species_label': 0.7478991596638656, 'form_label': 0.7899159663865545, 'sample_label': 0.9243697478991597}\n",
            "\tAvg acc->0.847\n",
            "Patience - 9\n",
            "----------------------------------------------------------------------------------------------------\n",
            "--------------------------------------------------\n",
            "Epoch 4 of 140\n",
            "Train\n",
            "Loss: 0.031\n",
            "Accuracy:\n",
            "\tEach_label_acc->{'phylum_label': 0.9864864864864865, 'class_label': 0.9921171171171171, 'species_label': 1.0, 'form_label': 1.0, 'sample_label': 0.9926801801801801}\n",
            "\tAvg acc->0.994\n",
            "\n",
            "--------------------------------------------------------------------------------------------------------------------------------------------------------------------------------------------------------\n",
            "Validation\n",
            "Loss: 0.598\n",
            "Accuracy: Each_label_acc->{'phylum_label': 0.9159663865546219, 'class_label': 0.8907563025210085, 'species_label': 0.7563025210084036, 'form_label': 0.815126050420168, 'sample_label': 0.9159663865546219}\n",
            "\tAvg acc->0.859\n",
            "Patience - 8\n",
            "----------------------------------------------------------------------------------------------------\n",
            "--------------------------------------------------\n",
            "Epoch 5 of 140\n",
            "Train\n",
            "Loss: 0.030\n",
            "Accuracy:\n",
            "\tEach_label_acc->{'phylum_label': 0.9859234234234233, 'class_label': 0.9915540540540541, 'species_label': 1.0, 'form_label': 1.0, 'sample_label': 0.9909909909909911}\n",
            "\tAvg acc->0.994\n",
            "\n",
            "--------------------------------------------------------------------------------------------------------------------------------------------------------------------------------------------------------\n",
            "Validation\n",
            "Loss: 0.617\n",
            "Accuracy: Each_label_acc->{'phylum_label': 0.8991596638655464, 'class_label': 0.8739495798319327, 'species_label': 0.73109243697479, 'form_label': 0.8067226890756302, 'sample_label': 0.9075630252100841}\n",
            "\tAvg acc->0.844\n",
            "Patience - 7\n",
            "----------------------------------------------------------------------------------------------------\n",
            "--------------------------------------------------\n",
            "Epoch 6 of 140\n",
            "Train\n",
            "Loss: 0.028\n",
            "Accuracy:\n",
            "\tEach_label_acc->{'phylum_label': 0.990427927927928, 'class_label': 0.9926801801801801, 'species_label': 1.0, 'form_label': 1.0, 'sample_label': 0.9926801801801801}\n",
            "\tAvg acc->0.995\n",
            "\n",
            "--------------------------------------------------------------------------------------------------------------------------------------------------------------------------------------------------------\n",
            "Validation\n",
            "Loss: 0.637\n",
            "Accuracy: Each_label_acc->{'phylum_label': 0.9075630252100841, 'class_label': 0.8739495798319327, 'species_label': 0.7394957983193278, 'form_label': 0.7983193277310924, 'sample_label': 0.907563025210084}\n",
            "\tAvg acc->0.845\n",
            "Patience - 6\n",
            "----------------------------------------------------------------------------------------------------\n",
            "--------------------------------------------------\n",
            "Epoch 7 of 140\n",
            "Train\n",
            "Loss: 0.028\n",
            "Accuracy:\n",
            "\tEach_label_acc->{'phylum_label': 0.9864864864864865, 'class_label': 0.9915540540540541, 'species_label': 1.0, 'form_label': 1.0, 'sample_label': 0.990990990990991}\n",
            "\tAvg acc->0.994\n",
            "\n",
            "--------------------------------------------------------------------------------------------------------------------------------------------------------------------------------------------------------\n",
            "Validation\n",
            "Loss: 0.597\n",
            "Accuracy: Each_label_acc->{'phylum_label': 0.9159663865546219, 'class_label': 0.8907563025210085, 'species_label': 0.7563025210084033, 'form_label': 0.8067226890756302, 'sample_label': 0.9243697478991597}\n",
            "\tAvg acc->0.859\n",
            "Patience - 5\n",
            "----------------------------------------------------------------------------------------------------\n",
            "--------------------------------------------------\n",
            "Epoch 8 of 140\n",
            "Train\n",
            "Loss: 0.028\n",
            "Accuracy:\n",
            "\tEach_label_acc->{'phylum_label': 0.9870495495495496, 'class_label': 0.9932432432432432, 'species_label': 1.0, 'form_label': 0.999436936936937, 'sample_label': 0.9943693693693693}\n",
            "\tAvg acc->0.995\n",
            "\n",
            "--------------------------------------------------------------------------------------------------------------------------------------------------------------------------------------------------------\n",
            "Validation\n",
            "Loss: 0.679\n",
            "Accuracy: Each_label_acc->{'phylum_label': 0.9075630252100841, 'class_label': 0.8823529411764705, 'species_label': 0.7563025210084036, 'form_label': 0.7815126050420168, 'sample_label': 0.9075630252100841}\n",
            "\tAvg acc->0.847\n",
            "Patience - 4\n",
            "----------------------------------------------------------------------------------------------------\n",
            "--------------------------------------------------\n",
            "Epoch 9 of 140\n",
            "Train\n",
            "Loss: 0.027\n",
            "Accuracy:\n",
            "\tEach_label_acc->{'phylum_label': 0.9859234234234235, 'class_label': 0.9932432432432432, 'species_label': 1.0, 'form_label': 1.0, 'sample_label': 0.9926801801801801}\n",
            "\tAvg acc->0.994\n",
            "\n",
            "--------------------------------------------------------------------------------------------------------------------------------------------------------------------------------------------------------\n",
            "Validation\n",
            "Loss: 0.687\n",
            "Accuracy: Each_label_acc->{'phylum_label': 0.9159663865546219, 'class_label': 0.857142857142857, 'species_label': 0.7310924369747899, 'form_label': 0.815126050420168, 'sample_label': 0.9243697478991597}\n",
            "\tAvg acc->0.849\n",
            "Patience - 3\n",
            "----------------------------------------------------------------------------------------------------\n",
            "--------------------------------------------------\n",
            "Epoch 10 of 140\n",
            "Train\n",
            "Loss: 0.026\n",
            "Accuracy:\n",
            "\tEach_label_acc->{'phylum_label': 0.990990990990991, 'class_label': 0.9938063063063064, 'species_label': 1.0, 'form_label': 0.999436936936937, 'sample_label': 0.9926801801801801}\n",
            "\tAvg acc->0.995\n",
            "\n",
            "--------------------------------------------------------------------------------------------------------------------------------------------------------------------------------------------------------\n",
            "Validation\n",
            "Loss: 0.648\n",
            "Accuracy: Each_label_acc->{'phylum_label': 0.9159663865546219, 'class_label': 0.8823529411764707, 'species_label': 0.7394957983193278, 'form_label': 0.8067226890756302, 'sample_label': 0.9075630252100841}\n",
            "\tAvg acc->0.850\n",
            "Patience - 2\n",
            "----------------------------------------------------------------------------------------------------\n",
            "--------------------------------------------------\n",
            "Epoch 11 of 140\n",
            "Train\n",
            "Loss: 0.025\n",
            "Accuracy:\n",
            "\tEach_label_acc->{'phylum_label': 0.990427927927928, 'class_label': 0.9932432432432432, 'species_label': 1.0, 'form_label': 1.0, 'sample_label': 0.9926801801801801}\n",
            "\tAvg acc->0.995\n",
            "\n",
            "--------------------------------------------------------------------------------------------------------------------------------------------------------------------------------------------------------\n",
            "Validation\n",
            "Loss: 0.658\n",
            "Accuracy: Each_label_acc->{'phylum_label': 0.9159663865546219, 'class_label': 0.8823529411764705, 'species_label': 0.7310924369747899, 'form_label': 0.7983193277310924, 'sample_label': 0.9159663865546219}\n",
            "\tAvg acc->0.849\n",
            "Patience - 1\n",
            "----------------------------------------------------------------------------------------------------\n",
            "--------------------------------------------------\n",
            "Epoch 12 of 140\n",
            "Train\n",
            "Loss: 0.024\n",
            "Accuracy:\n",
            "\tEach_label_acc->{'phylum_label': 0.9876126126126128, 'class_label': 0.9938063063063064, 'species_label': 1.0, 'form_label': 1.0, 'sample_label': 0.9915540540540541}\n",
            "\tAvg acc->0.995\n",
            "\n",
            "--------------------------------------------------------------------------------------------------------------------------------------------------------------------------------------------------------\n",
            "Validation\n",
            "Loss: 0.628\n",
            "Accuracy: Each_label_acc->{'phylum_label': 0.9243697478991597, 'class_label': 0.8907563025210085, 'species_label': 0.7478991596638656, 'form_label': 0.7899159663865546, 'sample_label': 0.9243697478991597}\n",
            "\tAvg acc->0.855\n",
            "Patience - 0\n",
            "\n",
            "Stopping\n"
          ],
          "name": "stdout"
        }
      ]
    },
    {
      "cell_type": "code",
      "metadata": {
        "id": "PDdWfleZmC5r",
        "colab": {
          "base_uri": "https://localhost:8080/"
        },
        "outputId": "250e9fad-1dd7-4148-c04f-43d5d0f6c602"
      },
      "source": [
        "multimodel = MultiViT(train_dataset.nclasses,train_dataset.labels)\n",
        "multimodel.load_state_dict(torch.load('/content/multimodal.bin'))\n",
        "multimodel.to(device)\n",
        "preds, true = [],[]\n",
        "val_loader = DataLoader(val_dataset,batch_size=17)\n",
        "multimodel.eval()\n",
        "with torch.no_grad():\n",
        "  for batch in val_loader:\n",
        "    img, labels = batch['image'], batch['labels']\n",
        "    img = img.to(device)\n",
        "    pred = multimodel(img)\n",
        "    preds.append(pred)\n",
        "    true.append(labels)\n"
      ],
      "execution_count": null,
      "outputs": [
        {
          "output_type": "stream",
          "text": [
            "Removing representation layer for fine-tuning.\n"
          ],
          "name": "stderr"
        }
      ]
    },
    {
      "cell_type": "code",
      "metadata": {
        "id": "m7E8QiIZmCgs"
      },
      "source": [
        "y_pred = {'phylum_label':[], 'class_label':[], 'species_label':[], 'form_label':[], 'sample_label':[]}\n",
        "y_true = {'phylum_label':[], 'class_label':[], 'species_label':[], 'form_label':[], 'sample_label':[]}"
      ],
      "execution_count": null,
      "outputs": []
    },
    {
      "cell_type": "code",
      "metadata": {
        "id": "Wkxi154slzil"
      },
      "source": [
        "for i in range(len(preds)):\n",
        "  for key in y_pred:\n",
        "    y_pred[key].extend(preds[i][key].argmax(axis = 1).cpu().tolist())\n",
        "    y_true[key].extend(true[i][key].tolist())"
      ],
      "execution_count": null,
      "outputs": []
    },
    {
      "cell_type": "code",
      "metadata": {
        "id": "UkNAEHunxo_2",
        "colab": {
          "base_uri": "https://localhost:8080/"
        },
        "outputId": "21f1e4c7-d639-49b3-c176-791dbc51548c"
      },
      "source": [
        "np.unique(y_pred[label])"
      ],
      "execution_count": null,
      "outputs": [
        {
          "output_type": "execute_result",
          "data": {
            "text/plain": [
              "array([0, 1, 2, 3, 4])"
            ]
          },
          "metadata": {
            "tags": []
          },
          "execution_count": 32
        }
      ]
    },
    {
      "cell_type": "code",
      "metadata": {
        "id": "wW17V9KexncD",
        "colab": {
          "base_uri": "https://localhost:8080/"
        },
        "outputId": "76d512c5-db0c-429e-a301-381b81bbaa7e"
      },
      "source": [
        "label_encoders['form'].inverse_transform(np.unique(y_pred['form_label']))"
      ],
      "execution_count": null,
      "outputs": [
        {
          "output_type": "execute_result",
          "data": {
            "text/plain": [
              "array(['adult', 'cyst', 'egg', 'gametocyte', 'larva', 'oocysts',\n",
              "       'sarcocysts', 'schizont', 'trophozoites'], dtype=object)"
            ]
          },
          "metadata": {
            "tags": []
          },
          "execution_count": 41
        }
      ]
    },
    {
      "cell_type": "code",
      "metadata": {
        "id": "cvCOtSk9kVmU",
        "colab": {
          "base_uri": "https://localhost:8080/"
        },
        "outputId": "89f3924a-035a-40da-e8ea-50c8b68f07d5"
      },
      "source": [
        "from sklearn.metrics import classification_report, confusion_matrix\n",
        "y = '_label'\n",
        "for label in y_pred:\n",
        "  label_le = label.replace(y,'')\n",
        "  classes = label_encoders[label_le].inverse_transform(np.unique(y_true[label]))\n",
        "  print(f\"\\nClassification Report for {label}:\\n\")\n",
        "  # try:\n",
        "  print(classification_report(y_true[label],y_pred[label],target_names=classes))\n",
        "  # except Exception as e:\n",
        "  #   print(classification_report(y_true[label],y_pred[label]))\n",
        "  print('='*95)"
      ],
      "execution_count": null,
      "outputs": [
        {
          "output_type": "stream",
          "text": [
            "\n",
            "Classification Report for phylum_label:\n",
            "\n",
            "                   precision    recall  f1-score   support\n",
            "\n",
            "        Amoebozoa       1.00      0.78      0.88         9\n",
            "      Apicomplexa       0.95      1.00      0.97        57\n",
            "         Nematoda       0.89      0.94      0.91        33\n",
            "  Platyhelminthes       0.70      0.64      0.67        11\n",
            "Sarcomastigophora       1.00      0.78      0.88         9\n",
            "\n",
            "         accuracy                           0.92       119\n",
            "        macro avg       0.91      0.83      0.86       119\n",
            "     weighted avg       0.92      0.92      0.91       119\n",
            "\n",
            "===============================================================================================\n",
            "\n",
            "Classification Report for class_label:\n",
            "\n",
            "               precision    recall  f1-score   support\n",
            "\n",
            " Aconoidasida       1.00      0.97      0.99        40\n",
            "      Cestoda       0.70      0.64      0.67        11\n",
            "  Chromadorea       0.79      0.93      0.85        28\n",
            "  Conoidasida       0.81      1.00      0.89        17\n",
            "      Enoplea       1.00      0.40      0.57         5\n",
            "    Tubulinea       1.00      0.78      0.88         9\n",
            "Zooflagellate       1.00      0.78      0.88         9\n",
            "\n",
            "     accuracy                           0.88       119\n",
            "    macro avg       0.90      0.79      0.82       119\n",
            " weighted avg       0.90      0.88      0.88       119\n",
            "\n",
            "===============================================================================================\n",
            "\n",
            "Classification Report for species_label:\n",
            "\n",
            "                           precision    recall  f1-score   support\n",
            "\n",
            "          Ancyclostoma sp       1.00      0.50      0.67         4\n",
            "     Ascaris lumbricoides       0.78      0.78      0.78         9\n",
            "       Cryptosporidium sp       0.80      1.00      0.89         4\n",
            "  Cyclospora cayetanensis       0.90      1.00      0.95         9\n",
            "  Dibothriocephalus latus       0.67      0.80      0.73         5\n",
            "    Entamoeba histolytica       1.00      0.78      0.88         9\n",
            "  Enterobius vermicularis       0.50      0.60      0.55         5\n",
            "       Giardia duodenalis       1.00      0.89      0.94         9\n",
            "          Hymenolepis spp       0.71      0.83      0.77         6\n",
            "    Plasmodium falciparum       0.78      0.78      0.78         9\n",
            "      Plasmodium knowlesi       0.75      0.75      0.75         4\n",
            "      Plasmodium malariae       0.88      0.78      0.82         9\n",
            "         Plasmodium ovale       0.56      0.56      0.56         9\n",
            "         Plasmodium vivax       0.67      0.67      0.67         9\n",
            "           Sarcocystis sp       0.50      0.75      0.60         4\n",
            "Strongyloides stercoralis       0.71      0.83      0.77         6\n",
            "           Toxocara canis       0.60      0.75      0.67         4\n",
            "      Trichuris Trichuria       1.00      0.40      0.57         5\n",
            "\n",
            "                 accuracy                           0.76       119\n",
            "                macro avg       0.77      0.75      0.74       119\n",
            "             weighted avg       0.78      0.76      0.76       119\n",
            "\n",
            "===============================================================================================\n",
            "\n",
            "Classification Report for form_label:\n",
            "\n",
            "              precision    recall  f1-score   support\n",
            "\n",
            "       adult       0.88      0.88      0.88        16\n",
            "        cyst       0.78      0.70      0.74        10\n",
            "         egg       0.82      0.90      0.86        20\n",
            "  gametocyte       0.64      0.64      0.64        14\n",
            "       larva       0.86      0.75      0.80         8\n",
            "     oocysts       0.82      1.00      0.90        14\n",
            "    ookinete       0.00      0.00      0.00         2\n",
            "  sarcocysts       0.75      1.00      0.86         3\n",
            "    schizont       0.78      0.88      0.82         8\n",
            "trophozoites       0.86      0.75      0.80        24\n",
            "\n",
            "    accuracy                           0.81       119\n",
            "   macro avg       0.72      0.75      0.73       119\n",
            "weighted avg       0.79      0.81      0.80       119\n",
            "\n",
            "===============================================================================================\n",
            "\n",
            "Classification Report for sample_label:\n",
            "\n",
            "               precision    recall  f1-score   support\n",
            "\n",
            "        blood       1.00      0.97      0.99        40\n",
            "        feces       0.84      0.97      0.90        32\n",
            "    intestine       0.86      0.86      0.86        14\n",
            "   intestine        0.80      0.67      0.73         6\n",
            "        lungs       0.50      0.50      0.50         2\n",
            "muscle tissue       0.75      1.00      0.86         3\n",
            "           na       1.00      0.67      0.80         3\n",
            "       sputum       0.00      0.00      0.00         1\n",
            "    wet mount       1.00      0.89      0.94        18\n",
            "\n",
            "     accuracy                           0.91       119\n",
            "    macro avg       0.75      0.72      0.73       119\n",
            " weighted avg       0.91      0.91      0.90       119\n",
            "\n",
            "===============================================================================================\n"
          ],
          "name": "stdout"
        },
        {
          "output_type": "stream",
          "text": [
            "/usr/local/lib/python3.7/dist-packages/sklearn/metrics/_classification.py:1272: UndefinedMetricWarning: Precision and F-score are ill-defined and being set to 0.0 in labels with no predicted samples. Use `zero_division` parameter to control this behavior.\n",
            "  _warn_prf(average, modifier, msg_start, len(result))\n"
          ],
          "name": "stderr"
        }
      ]
    },
    {
      "cell_type": "code",
      "metadata": {
        "id": "8Pw9BIhZyljN"
      },
      "source": [
        ""
      ],
      "execution_count": null,
      "outputs": []
    }
  ]
}