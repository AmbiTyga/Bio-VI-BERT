{
  "nbformat": 4,
  "nbformat_minor": 0,
  "metadata": {
    "colab": {
      "name": "Pre-trained Image Transformer",
      "provenance": [],
      "collapsed_sections": [],
      "toc_visible": true,
      "machine_shape": "hm",
      "include_colab_link": true
    },
    "kernelspec": {
      "name": "python3",
      "display_name": "Python 3"
    },
    "accelerator": "GPU"
  },
  "cells": [
    {
      "cell_type": "markdown",
      "metadata": {
        "id": "view-in-github",
        "colab_type": "text"
      },
      "source": [
        "<a href=\"https://colab.research.google.com/github/AmbiTyga/Bio-VI-BERT/blob/main/Multi-label-Classifier.ipynb\" target=\"_parent\"><img src=\"https://colab.research.google.com/assets/colab-badge.svg\" alt=\"Open In Colab\"/></a>"
      ]
    },
    {
      "cell_type": "code",
      "metadata": {
        "id": "399tkRUuCe_0",
        "colab": {
          "base_uri": "https://localhost:8080/"
        },
        "outputId": "0ebf6405-698d-4154-db9c-7fb9febcd1c6"
      },
      "source": [
        "!pip install timm==0.4.5 -q"
      ],
      "execution_count": 1,
      "outputs": [
        {
          "output_type": "stream",
          "text": [
            "\u001b[?25l\r\u001b[K     |█▏                              | 10kB 26.4MB/s eta 0:00:01\r\u001b[K     |██▎                             | 20kB 17.3MB/s eta 0:00:01\r\u001b[K     |███▍                            | 30kB 10.2MB/s eta 0:00:01\r\u001b[K     |████▋                           | 40kB 8.6MB/s eta 0:00:01\r\u001b[K     |█████▊                          | 51kB 3.9MB/s eta 0:00:01\r\u001b[K     |██████▉                         | 61kB 4.3MB/s eta 0:00:01\r\u001b[K     |████████                        | 71kB 4.8MB/s eta 0:00:01\r\u001b[K     |█████████▏                      | 81kB 5.0MB/s eta 0:00:01\r\u001b[K     |██████████▎                     | 92kB 5.2MB/s eta 0:00:01\r\u001b[K     |███████████▍                    | 102kB 5.7MB/s eta 0:00:01\r\u001b[K     |████████████▌                   | 112kB 5.7MB/s eta 0:00:01\r\u001b[K     |█████████████▊                  | 122kB 5.7MB/s eta 0:00:01\r\u001b[K     |██████████████▉                 | 133kB 5.7MB/s eta 0:00:01\r\u001b[K     |████████████████                | 143kB 5.7MB/s eta 0:00:01\r\u001b[K     |█████████████████               | 153kB 5.7MB/s eta 0:00:01\r\u001b[K     |██████████████████▎             | 163kB 5.7MB/s eta 0:00:01\r\u001b[K     |███████████████████▍            | 174kB 5.7MB/s eta 0:00:01\r\u001b[K     |████████████████████▌           | 184kB 5.7MB/s eta 0:00:01\r\u001b[K     |█████████████████████▋          | 194kB 5.7MB/s eta 0:00:01\r\u001b[K     |██████████████████████▉         | 204kB 5.7MB/s eta 0:00:01\r\u001b[K     |████████████████████████        | 215kB 5.7MB/s eta 0:00:01\r\u001b[K     |█████████████████████████       | 225kB 5.7MB/s eta 0:00:01\r\u001b[K     |██████████████████████████▏     | 235kB 5.7MB/s eta 0:00:01\r\u001b[K     |███████████████████████████▍    | 245kB 5.7MB/s eta 0:00:01\r\u001b[K     |████████████████████████████▌   | 256kB 5.7MB/s eta 0:00:01\r\u001b[K     |█████████████████████████████▋  | 266kB 5.7MB/s eta 0:00:01\r\u001b[K     |██████████████████████████████▉ | 276kB 5.7MB/s eta 0:00:01\r\u001b[K     |████████████████████████████████| 286kB 5.7MB/s eta 0:00:01\r\u001b[K     |████████████████████████████████| 296kB 5.7MB/s \n",
            "\u001b[?25h"
          ],
          "name": "stdout"
        }
      ]
    },
    {
      "cell_type": "code",
      "metadata": {
        "colab": {
          "base_uri": "https://localhost:8080/"
        },
        "id": "eVjc4Kju84S5",
        "outputId": "68d94f74-e366-4294-bd6f-ca19033a36b7"
      },
      "source": [
        "!wget https://raw.githubusercontent.com/AmbiTyga/Bio-VI-BERT/main/Train.7z\n",
        "!7z x /content/Train.7z"
      ],
      "execution_count": 2,
      "outputs": [
        {
          "output_type": "stream",
          "text": [
            "--2021-04-17 12:40:04--  https://raw.githubusercontent.com/AmbiTyga/Bio-VI-BERT/main/Train.7z\n",
            "Resolving raw.githubusercontent.com (raw.githubusercontent.com)... 185.199.108.133, 185.199.109.133, 185.199.110.133, ...\n",
            "Connecting to raw.githubusercontent.com (raw.githubusercontent.com)|185.199.108.133|:443... connected.\n",
            "HTTP request sent, awaiting response... 200 OK\n",
            "Length: 14936063 (14M) [application/octet-stream]\n",
            "Saving to: ‘Train.7z’\n",
            "\n",
            "Train.7z            100%[===================>]  14.24M  36.6MB/s    in 0.4s    \n",
            "\n",
            "2021-04-17 12:40:05 (36.6 MB/s) - ‘Train.7z’ saved [14936063/14936063]\n",
            "\n",
            "\n",
            "7-Zip [64] 16.02 : Copyright (c) 1999-2016 Igor Pavlov : 2016-05-21\n",
            "p7zip Version 16.02 (locale=en_US.UTF-8,Utf16=on,HugeFiles=on,64 bits,2 CPUs Intel(R) Xeon(R) CPU @ 2.30GHz (306F0),ASM,AES-NI)\n",
            "\n",
            "Scanning the drive for archives:\n",
            "  0M Scan /content/\b\b\b\b\b\b\b\b\b\b\b\b\b\b\b\b\b\b\b                   \b\b\b\b\b\b\b\b\b\b\b\b\b\b\b\b\b\b\b1 file, 14936063 bytes (15 MiB)\n",
            "\n",
            "Extracting archive: /content/Train.7z\n",
            "--\n",
            "Path = /content/Train.7z\n",
            "Type = 7z\n",
            "Physical Size = 14936063\n",
            "Headers Size = 14274\n",
            "Method = LZMA2:24\n",
            "Solid = +\n",
            "Blocks = 1\n",
            "\n",
            "  0%\b\b\b\b    \b\b\b\b 20% 19\b\b\b\b\b\b\b       \b\b\b\b\b\b\b 40% 386 - train/Dibothriocephalus latus/Diph_egg_3_2_100.jpg\b\b\b\b\b\b\b\b\b\b\b\b\b\b\b\b\b\b\b\b\b\b\b\b\b\b\b\b\b\b\b\b\b\b\b\b\b\b\b\b\b\b\b\b\b\b\b\b\b\b\b\b\b\b\b\b\b\b\b\b\b                                                             \b\b\b\b\b\b\b\b\b\b\b\b\b\b\b\b\b\b\b\b\b\b\b\b\b\b\b\b\b\b\b\b\b\b\b\b\b\b\b\b\b\b\b\b\b\b\b\b\b\b\b\b\b\b\b\b\b\b\b\b\b 62% 779 - train/Hymenolepis spp/H_nana_egg_wtmt_OR_0_196.jpg\b\b\b\b\b\b\b\b\b\b\b\b\b\b\b\b\b\b\b\b\b\b\b\b\b\b\b\b\b\b\b\b\b\b\b\b\b\b\b\b\b\b\b\b\b\b\b\b\b\b\b\b\b\b\b\b\b\b\b\b\b                                                             \b\b\b\b\b\b\b\b\b\b\b\b\b\b\b\b\b\b\b\b\b\b\b\b\b\b\b\b\b\b\b\b\b\b\b\b\b\b\b\b\b\b\b\b\b\b\b\b\b\b\b\b\b\b\b\b\b\b\b\b\b 83% 1262 - train/Plasmodium vivax/Pv_rings_thinC_3_318.jpg\b\b\b\b\b\b\b\b\b\b\b\b\b\b\b\b\b\b\b\b\b\b\b\b\b\b\b\b\b\b\b\b\b\b\b\b\b\b\b\b\b\b\b\b\b\b\b\b\b\b\b\b\b\b\b\b\b\b\b                                                           \b\b\b\b\b\b\b\b\b\b\b\b\b\b\b\b\b\b\b\b\b\b\b\b\b\b\b\b\b\b\b\b\b\b\b\b\b\b\b\b\b\b\b\b\b\b\b\b\b\b\b\b\b\b\b\b\b\b\bEverything is Ok\n",
            "\n",
            "Folders: 19\n",
            "Files: 1591\n",
            "Size:       16785742\n",
            "Compressed: 14936063\n"
          ],
          "name": "stdout"
        }
      ]
    },
    {
      "cell_type": "code",
      "metadata": {
        "id": "0K3nmmNSCsza",
        "colab": {
          "base_uri": "https://localhost:8080/"
        },
        "outputId": "fbca4ef4-830e-4f6e-905a-541ea62e273d"
      },
      "source": [
        "!wget https://raw.githubusercontent.com/AmbiTyga/Bio-VI-BERT/main/Val.7z\n",
        "!7z x /content/Val.7z"
      ],
      "execution_count": 3,
      "outputs": [
        {
          "output_type": "stream",
          "text": [
            "--2021-04-17 12:40:07--  https://raw.githubusercontent.com/AmbiTyga/Bio-VI-BERT/main/Val.7z\n",
            "Resolving raw.githubusercontent.com (raw.githubusercontent.com)... 185.199.108.133, 185.199.109.133, 185.199.110.133, ...\n",
            "Connecting to raw.githubusercontent.com (raw.githubusercontent.com)|185.199.108.133|:443... connected.\n",
            "HTTP request sent, awaiting response... 200 OK\n",
            "Length: 5031652 (4.8M) [application/octet-stream]\n",
            "Saving to: ‘Val.7z’\n",
            "\n",
            "Val.7z              100%[===================>]   4.80M  24.7MB/s    in 0.2s    \n",
            "\n",
            "2021-04-17 12:40:09 (24.7 MB/s) - ‘Val.7z’ saved [5031652/5031652]\n",
            "\n",
            "\n",
            "7-Zip [64] 16.02 : Copyright (c) 1999-2016 Igor Pavlov : 2016-05-21\n",
            "p7zip Version 16.02 (locale=en_US.UTF-8,Utf16=on,HugeFiles=on,64 bits,2 CPUs Intel(R) Xeon(R) CPU @ 2.30GHz (306F0),ASM,AES-NI)\n",
            "\n",
            "Scanning the drive for archives:\n",
            "  0M Scan /content/\b\b\b\b\b\b\b\b\b\b\b\b\b\b\b\b\b\b\b                   \b\b\b\b\b\b\b\b\b\b\b\b\b\b\b\b\b\b\b1 file, 5031652 bytes (4914 KiB)\n",
            "\n",
            "Extracting archive: /content/Val.7z\n",
            "--\n",
            "Path = /content/Val.7z\n",
            "Type = 7z\n",
            "Physical Size = 5031652\n",
            "Headers Size = 5607\n",
            "Method = LZMA2:6m\n",
            "Solid = +\n",
            "Blocks = 1\n",
            "\n",
            "  0%\b\b\b\b    \b\b\b\b 61% 19\b\b\b\b\b\b\b       \b\b\b\b\b\b\bEverything is Ok\n",
            "\n",
            "Folders: 19\n",
            "Files: 531\n",
            "Size:       5581885\n",
            "Compressed: 5031652\n"
          ],
          "name": "stdout"
        }
      ]
    },
    {
      "cell_type": "code",
      "metadata": {
        "id": "yVc3_O_n_In6"
      },
      "source": [
        "import timm\n",
        "import pandas as pd\n",
        "import numpy as np\n",
        "import torch.nn as nn\n",
        "import torch\n",
        "from torch.utils.data import Dataset, DataLoader, sampler\n",
        "from sklearn.preprocessing import LabelEncoder\n",
        "import os,time\n",
        "from math import fsum\n",
        "from sklearn.model_selection import train_test_split\n",
        "from glob import glob\n",
        "from PIL import Image\n",
        "from torchvision import transforms\n",
        "import torch.functional as F"
      ],
      "execution_count": 4,
      "outputs": []
    },
    {
      "cell_type": "code",
      "metadata": {
        "id": "8TPJLZX99Ju7"
      },
      "source": [
        "!rm -r train val"
      ],
      "execution_count": 5,
      "outputs": []
    },
    {
      "cell_type": "markdown",
      "metadata": {
        "id": "aAHwzGXx_7y-"
      },
      "source": [
        "## Cleaning and getting a final data"
      ]
    },
    {
      "cell_type": "code",
      "metadata": {
        "id": "aObD7UFjoJZR"
      },
      "source": [
        "from PIL import Image\n",
        "from glob import glob\n",
        "images = [x for x in glob('./val/*/*') if 'val.csv' not in x]\n",
        "for i in images:\n",
        "  Image.open(i).convert('RGB').save(i)"
      ],
      "execution_count": 5,
      "outputs": []
    },
    {
      "cell_type": "code",
      "metadata": {
        "id": "2H1f9w06nA78"
      },
      "source": [
        "labels = [\"phylum\",\"class\",\"species\",\"form\",\"sample\"]\n",
        "\n",
        "train = pd.read_csv('/content/train/train.csv')\n",
        "val = pd.read_csv('/content/val/val.csv')"
      ],
      "execution_count": 6,
      "outputs": []
    },
    {
      "cell_type": "code",
      "metadata": {
        "id": "RvqUZNOLVljR"
      },
      "source": [
        "label_encoders = dict()\n",
        "for x in labels:\n",
        "  le = LabelEncoder()\n",
        "  train[f'{x}_label'] = le.fit_transform(train[x])\n",
        "  val[f'{x}_label'] = le.transform(val[x])\n",
        "  label_encoders[x] = le"
      ],
      "execution_count": 7,
      "outputs": []
    },
    {
      "cell_type": "code",
      "metadata": {
        "id": "KjwGMBtPtNtw"
      },
      "source": [
        "train.to_csv('/content/train.csv',index = False)\n",
        "\n",
        "val.to_csv('/content/val.csv',index = False)"
      ],
      "execution_count": 8,
      "outputs": []
    },
    {
      "cell_type": "code",
      "metadata": {
        "id": "SENdJ8uvZLwt",
        "outputId": "b478f551-3d25-4833-a56c-db30d015b014",
        "colab": {
          "base_uri": "https://localhost:8080/"
        }
      },
      "source": [
        "for col in labels:\n",
        "  print(50*'-'+col+50*'-')\n",
        "  print(train[col].nunique(),val[col].nunique(),sep=' -> ')"
      ],
      "execution_count": 9,
      "outputs": [
        {
          "output_type": "stream",
          "text": [
            "--------------------------------------------------phylum--------------------------------------------------\n",
            "5 -> 5\n",
            "--------------------------------------------------class--------------------------------------------------\n",
            "7 -> 7\n",
            "--------------------------------------------------species--------------------------------------------------\n",
            "18 -> 18\n",
            "--------------------------------------------------form--------------------------------------------------\n",
            "9 -> 9\n",
            "--------------------------------------------------sample--------------------------------------------------\n",
            "9 -> 9\n"
          ],
          "name": "stdout"
        }
      ]
    },
    {
      "cell_type": "markdown",
      "metadata": {
        "id": "7QNo2DKUAAgm"
      },
      "source": [
        "# Dataset Objects"
      ]
    },
    {
      "cell_type": "code",
      "metadata": {
        "id": "wOL5NtArJ8QY"
      },
      "source": [
        "transformer = transforms.Compose([\n",
        "        transforms.Resize((224,224)),\n",
        "#         transforms.CenterCrop(224),\n",
        "        transforms.ToTensor(),\n",
        "        transforms.Normalize([0.5, 0.5, 0.5], [0.5, 0.5, 0.5])\n",
        "    ])\n"
      ],
      "execution_count": 10,
      "outputs": []
    },
    {
      "cell_type": "code",
      "metadata": {
        "id": "4x2bbh_0n-YT"
      },
      "source": [
        "class MultiDataset(Dataset):\n",
        "  def __init__(self,dataFrame,label_encoders,transform=None):\n",
        "    self.data = dataFrame\n",
        "    self.transform = transform\n",
        "    self.labels = [\"phylum_label\",\"class_label\",\"species_label\",\"form_label\",\"sample_label\"]\n",
        "    # self.labels = [\"species_label\"]\n",
        "    self.label_encoder = label_encoders\n",
        "    self.nclasses = self.get_nclasses()\n",
        "    total = fsum(self.nclasses.values())\n",
        "\n",
        "    self.weights = {k:v/total for k,v in self.nclasses.items()}\n",
        "\n",
        "  def __len__(self):\n",
        "    return len(self.data)\n",
        "\n",
        "  def __getitem__(self, idx):\n",
        "    img_path = self.data.loc[idx,\"img_path\"]\n",
        "    image = Image.open(img_path)\n",
        "    image = self.transform(image)\n",
        "    labels = self.data.loc[idx,self.labels].to_dict()\n",
        "    for label in labels:\n",
        "      labels[label] = torch.tensor(labels[label],dtype = torch.long)\n",
        "            \n",
        "    dict_data = {\n",
        "    'image': image,\n",
        "    'labels': labels\n",
        "    }\n",
        "    return dict_data\n",
        "  \n",
        "  # def get_label_encode(self):\n",
        "  #   d=dict()\n",
        "  #   for label in self.labels:            \n",
        "  #       le = LabelEncoder()\n",
        "  #       self.data[label]=le.fit_transform(self.data[label])\n",
        "  #       d[label]=le\n",
        "  #   return d\n",
        "    \n",
        "  def get_nclasses(self):\n",
        "    return self.data[self.labels].nunique().to_dict()"
      ],
      "execution_count": 11,
      "outputs": []
    },
    {
      "cell_type": "markdown",
      "metadata": {
        "id": "hKI3EnppZcNW"
      },
      "source": [
        "# Multi-label Classification"
      ]
    },
    {
      "cell_type": "code",
      "metadata": {
        "id": "0cJUGGT3d4-n"
      },
      "source": [
        "class MultiViT(nn.Module):\n",
        "  def __init__(self,nclasses,labels):\n",
        "    super(MultiViT,self).__init__()\n",
        "\n",
        "\n",
        "    self.img_transformer = timm.models.vision_transformer.vit_base_patch16_224_in21k(pretrained=True,num_classes = 0)\n",
        "    \n",
        "    self.dividers = nn.ModuleList()\n",
        "\n",
        "    for label in labels:\n",
        "      self.dividers.append(nn.Linear(768,512))\n",
        "\n",
        "    \n",
        "    self.fc1 = nn.Linear(512,3*512,bias = False)\n",
        "    self.mha = nn.MultiheadAttention(embed_dim = 512,\n",
        "                                     num_heads = 8)\n",
        "    self.classifiers = nn.ModuleDict()\n",
        "\n",
        "    for label in labels:\n",
        "      self.classifiers[label]=nn.Sequential(nn.BatchNorm1d(512),\n",
        "                                            nn.Linear(512,nclasses[label]))\n",
        "\n",
        "    \n",
        "  def forward(self,x):\n",
        "    x=self.img_transformer(x)\n",
        "    # x = nn.ReLU()(x)\n",
        "    z = []\n",
        "    for i in range(len(self.dividers)):\n",
        "      l = self.dividers[i](x)\n",
        "      l = l.unsqueeze(dim = 0)\n",
        "      z.append(l)\n",
        "    x = torch.cat(z,dim = 0)\n",
        "    x = self.fc1(x)\n",
        "    q, k, v = x.split(512,dim = 2)\n",
        "    z,_ = self.mha(q,k,v)\n",
        "    \n",
        "    y=dict()\n",
        "    for label,c in zip(self.classifiers.keys(),z):\n",
        "        y[label]=self.classifiers[label](c)\n",
        "    return y\n"
      ],
      "execution_count": 12,
      "outputs": []
    },
    {
      "cell_type": "code",
      "metadata": {
        "id": "o-nKia0Gn2Vt"
      },
      "source": [
        "train = pd.read_csv(\"/content/train.csv\")\n",
        "val = pd.read_csv(\"/content/val.csv\")"
      ],
      "execution_count": 13,
      "outputs": []
    },
    {
      "cell_type": "code",
      "metadata": {
        "id": "Qnne1XoYqpGx",
        "outputId": "81546282-0233-46c6-99ae-6b28b46f7902",
        "colab": {
          "base_uri": "https://localhost:8080/"
        }
      },
      "source": [
        "18*135"
      ],
      "execution_count": 17,
      "outputs": [
        {
          "output_type": "execute_result",
          "data": {
            "text/plain": [
              "2430"
            ]
          },
          "metadata": {
            "tags": []
          },
          "execution_count": 17
        }
      ]
    },
    {
      "cell_type": "code",
      "metadata": {
        "id": "bS4PKDBAmMJv",
        "outputId": "1f8a8932-8895-4722-8f81-6722524d510a",
        "colab": {
          "base_uri": "https://localhost:8080/"
        }
      },
      "source": [
        "train['species'].value_counts()"
      ],
      "execution_count": 16,
      "outputs": [
        {
          "output_type": "execute_result",
          "data": {
            "text/plain": [
              "Plasmodium falciparum        135\n",
              "Plasmodium vivax             135\n",
              "Cyclospora cayetanensis      115\n",
              "Plasmodium malariae          110\n",
              "Ascaris lumbricoides         110\n",
              "Entamoeba histolytica        100\n",
              "Giardia duodenalis           100\n",
              "Plasmodium ovale             100\n",
              "Strongyloides stercoralis     85\n",
              "Dibothriocephalus latus       80\n",
              "Hymenolepis spp               80\n",
              "Trichuris Trichuria           70\n",
              "Toxocara canis                65\n",
              "Ancyclostoma sp.              65\n",
              "Enterobius vermicularis       65\n",
              "Cryptosporidium sp.           60\n",
              "Sarcocystis sp.               60\n",
              "Plasmodium knowlesi           55\n",
              "Name: species, dtype: int64"
            ]
          },
          "metadata": {
            "tags": []
          },
          "execution_count": 16
        }
      ]
    },
    {
      "cell_type": "code",
      "metadata": {
        "id": "pkxSenfkWO5J"
      },
      "source": [
        "class_counts = train['species_label'].value_counts().to_dict()\n",
        "weights = torch.tensor([1/class_counts[label] for label in train['species_label'].values])\n",
        "\n",
        "train_dataset = MultiDataset(train,label_encoders,transformer)\n",
        "train_loader = torch.utils.data.DataLoader(train_dataset,batch_size=51,\n",
        "                                           sampler=torch.utils.data.WeightedRandomSampler(weights,num_samples=2430))\n",
        "\n",
        "class_counts = val['species_label'].value_counts().to_dict()\n",
        "weights = torch.tensor([1/class_counts[label] for label in val['species_label'].values])\n",
        "\n",
        "val_dataset = MultiDataset(val,label_encoders,transformer)\n",
        "val_loader = torch.utils.data.DataLoader(val_dataset,batch_size=51,\n",
        "                                         sampler=torch.utils.data.WeightedRandomSampler(weights,num_samples=810))"
      ],
      "execution_count": 18,
      "outputs": []
    },
    {
      "cell_type": "code",
      "metadata": {
        "id": "NB_vgLAOqkGF",
        "colab": {
          "base_uri": "https://localhost:8080/"
        },
        "outputId": "477286df-e5bd-4642-876e-c333d6901642"
      },
      "source": [
        "device = torch.device('cuda')\n",
        "multimodel = MultiViT(train_dataset.nclasses,train_dataset.labels)\n",
        "multimodel.to(device)\n",
        "loss_fn = nn.CrossEntropyLoss()\n",
        "optim = torch.optim.Adam(filter(lambda p: p.requires_grad, multimodel.parameters()),lr = 1e-4)"
      ],
      "execution_count": 19,
      "outputs": [
        {
          "output_type": "stream",
          "text": [
            "Removing representation layer for fine-tuning.\n",
            "Downloading: \"https://github.com/rwightman/pytorch-image-models/releases/download/v0.1-vitjx/jx_vit_base_patch16_224_in21k-e5005f0a.pth\" to /root/.cache/torch/hub/checkpoints/jx_vit_base_patch16_224_in21k-e5005f0a.pth\n"
          ],
          "name": "stderr"
        }
      ]
    },
    {
      "cell_type": "code",
      "metadata": {
        "id": "kg4Q2q1ErlXN"
      },
      "source": [
        "#@title Training Functions\n",
        "def get_loss(out,labels,loss_fn,weights):\n",
        "    loss=0\n",
        "    for label in labels:\n",
        "        loss+=loss_fn(out[label],labels[label])*weights[label]\n",
        "    return loss\n",
        "\n",
        "\n",
        "def cal_accuracy(out,labels,batch_size,epoch_acc):\n",
        "    for key in out:\n",
        "        q=(out[key].detach().argmax(axis=1)==labels[key]).sum().item()/batch_size\n",
        "        if not key in epoch_acc.keys():\n",
        "            epoch_acc[key]=q\n",
        "        else:\n",
        "            epoch_acc[key]+=q\n",
        "    return epoch_acc\n",
        "\n",
        "\n",
        "def get_avg_acc(epoch_acc,loader):\n",
        "    acc=0\n",
        "    for key in epoch_acc:\n",
        "        epoch_acc[key]/=len(loader)\n",
        "        acc+=epoch_acc[key]\n",
        "        \n",
        "    return acc/len(epoch_acc),epoch_acc\n",
        "\n",
        "def evaluate(model,loss_fn,loader):\n",
        "    model.eval()\n",
        "    epoch_acc={}\n",
        "    epoch_loss=0\n",
        "    with torch.no_grad():\n",
        "      for batch in loader:\n",
        "          img=batch[\"image\"].to(device)\n",
        "          labels=batch[\"labels\"]\n",
        "          for key in labels:\n",
        "              labels[key]=labels[key].to(device)\n",
        "          \n",
        "          out=model(img)\n",
        "          loss=get_loss(out,labels,loss_fn,loader.dataset.weights)\n",
        "          epoch_loss+=loss.item()\n",
        "          epoch_acc=cal_accuracy(out,labels,img.shape[0],epoch_acc)\n",
        "        \n",
        "    avg_acc,epoch_acc=get_avg_acc(epoch_acc,loader)\n",
        "    return (epoch_loss/len(loader),avg_acc,epoch_acc)\n",
        "\n",
        "def train_model(model, loss_fn, opt,trainloader,valloader, num_epochs=1):\n",
        "    stop_value = 10\n",
        "    since = time.time()\n",
        "    best_model=\"\"\n",
        "    # max_loss=np.inf\n",
        "    max_acc = 0.836\n",
        "    train={\"loss\":[],\"avg\":[],\"individual\":[]}\n",
        "    val={\"loss\":[],\"avg\":[],\"individual\":[]}\n",
        "    for epoch in range(num_epochs):\n",
        "        print(\"-\"*50)\n",
        "        print('Epoch {} of {}'.format(epoch+1, num_epochs))\n",
        "        epoch_loss=0\n",
        "        epoch_acc={}\n",
        "        model.train()\n",
        "        # Iterate over data.\n",
        "        for i,data in enumerate(trainloader):\n",
        "            opt.zero_grad()\n",
        "            img=data[\"image\"].to(device)\n",
        "            labels=data[\"labels\"]\n",
        "            for key in labels:\n",
        "                labels[key]=labels[key].to(device)\n",
        "            \n",
        "\n",
        "            out=model(img)\n",
        "            # print(out,labels,sep = '\\n\\n')\n",
        "            loss=get_loss(out,labels,loss_fn,trainloader.dataset.weights)\n",
        "            epoch_loss+=loss.detach().item()\n",
        "            loss.backward()\n",
        "            opt.step()\n",
        "            epoch_acc=cal_accuracy(out,labels,img.shape[0],epoch_acc)\n",
        "            \n",
        "        val_result=evaluate(model,loss_fn,valloader)\n",
        "        avg_acc,epoch_acc=get_avg_acc(epoch_acc,trainloader)\n",
        "        avg_loss=epoch_loss/len(trainloader)\n",
        "        print('Train')\n",
        "        print(f\"Loss: {avg_loss:.3f}\\nAccuracy:\\n\\tEach_label_acc->{epoch_acc}\\n\\tAvg acc->{avg_acc:.3f}\\n\")\n",
        "        print(\"-\"*100)\n",
        "        print(\"Validation\")\n",
        "        print(f\"Loss: {val_result[0]:.3f}\\nAccuracy: Each_label_acc->{val_result[2]}\\n\\tAvg acc->{val_result[1]:.3f}\")\n",
        "        \n",
        "        if val_result[1]>max_acc:\n",
        "          train[\"avg\"].append(avg_acc)\n",
        "          train[\"individual\"].append(epoch_acc)\n",
        "          train[\"loss\"].append(avg_loss)\n",
        "        \n",
        "          val[\"avg\"].append(val_result[1])\n",
        "          val[\"individual\"].append(val_result[2])\n",
        "          val[\"loss\"].append(val_result[0])\n",
        "        \n",
        "          max_acc=val_result[1]\n",
        "          torch.save(model.state_dict(),'multimodal.bin')\n",
        "          print(f'Saving weights with avg_acc -> {max_acc:.3f}')\n",
        "\n",
        "          stop_value = 10\n",
        "        if val_result[1]<max_acc:\n",
        "          stop_value -=1\n",
        "          print(f'Patience - {stop_value} max_avg_acc -> {max_acc:.3f} and epoch_acc -> {val_result[1]}')\n",
        "\n",
        "        if stop_value<=0:\n",
        "          print(\"\\nStopping\")\n",
        "          return train,val,best_model,max_acc\n",
        "        print(\"-\"*100)\n",
        "    time_elapsed = time.time() - since\n",
        "    print('Training complete in {:.0f}m {:.0f}s'.format(time_elapsed // 60, time_elapsed % 60))\n",
        "    return train,val,best_model,max_loss"
      ],
      "execution_count": 28,
      "outputs": []
    },
    {
      "cell_type": "code",
      "metadata": {
        "id": "9mNrujYelwgb",
        "colab": {
          "base_uri": "https://localhost:8080/"
        },
        "outputId": "e9bcda76-2189-4245-f15b-b52d3d2acb23"
      },
      "source": [
        "train,val,best_model,best_acc=train_model(multimodel, loss_fn, optim,train_loader,val_loader,num_epochs=140)"
      ],
      "execution_count": null,
      "outputs": [
        {
          "output_type": "stream",
          "text": [
            "--------------------------------------------------\n",
            "Epoch 1 of 140\n",
            "Train\n",
            "Loss: 0.005\n",
            "Accuracy:\n",
            "\tEach_label_acc->{'phylum_label': 1.0, 'class_label': 1.0, 'species_label': 1.0, 'form_label': 0.9975490196078428, 'sample_label': 1.0}\n",
            "\tAvg acc->1.000\n",
            "\n",
            "----------------------------------------------------------------------------------------------------\n",
            "Validation\n",
            "Loss: 0.760\n",
            "Accuracy: Each_label_acc->{'phylum_label': 0.9080882352941178, 'class_label': 0.8731617647058826, 'species_label': 0.6856617647058824, 'form_label': 0.8180147058823533, 'sample_label': 0.8878676470588237}\n",
            "\tAvg acc->0.835\n",
            "Patience - 9 max_avg_acc -> 0.836 and epoch_acc -> 0.8345588235294119\n",
            "----------------------------------------------------------------------------------------------------\n",
            "--------------------------------------------------\n",
            "Epoch 2 of 140\n",
            "Train\n",
            "Loss: 0.005\n",
            "Accuracy:\n",
            "\tEach_label_acc->{'phylum_label': 1.0, 'class_label': 1.0, 'species_label': 1.0, 'form_label': 0.9983660130718954, 'sample_label': 1.0}\n",
            "\tAvg acc->1.000\n",
            "\n",
            "----------------------------------------------------------------------------------------------------\n",
            "Validation\n",
            "Loss: 0.776\n",
            "Accuracy: Each_label_acc->{'phylum_label': 0.9080882352941178, 'class_label': 0.8713235294117649, 'species_label': 0.6875000000000001, 'form_label': 0.8216911764705885, 'sample_label': 0.8786764705882355}\n",
            "\tAvg acc->0.833\n",
            "Patience - 8 max_avg_acc -> 0.836 and epoch_acc -> 0.8334558823529413\n",
            "----------------------------------------------------------------------------------------------------\n",
            "--------------------------------------------------\n",
            "Epoch 3 of 140\n",
            "Train\n",
            "Loss: 0.005\n",
            "Accuracy:\n",
            "\tEach_label_acc->{'phylum_label': 1.0, 'class_label': 1.0, 'species_label': 1.0, 'form_label': 0.9963235294117645, 'sample_label': 1.0}\n",
            "\tAvg acc->0.999\n",
            "\n",
            "----------------------------------------------------------------------------------------------------\n",
            "Validation\n",
            "Loss: 0.774\n",
            "Accuracy: Each_label_acc->{'phylum_label': 0.9062500000000001, 'class_label': 0.8731617647058826, 'species_label': 0.6838235294117646, 'form_label': 0.8198529411764709, 'sample_label': 0.8750000000000002}\n",
            "\tAvg acc->0.832\n",
            "Patience - 7 max_avg_acc -> 0.836 and epoch_acc -> 0.8316176470588237\n",
            "----------------------------------------------------------------------------------------------------\n",
            "--------------------------------------------------\n",
            "Epoch 4 of 140\n"
          ],
          "name": "stdout"
        }
      ]
    },
    {
      "cell_type": "code",
      "metadata": {
        "id": "PDdWfleZmC5r",
        "colab": {
          "base_uri": "https://localhost:8080/"
        },
        "outputId": "ddc868cb-6695-45e2-da07-16831836a990"
      },
      "source": [
        "multimodel = MultiViT(train_dataset.nclasses,train_dataset.labels)\n",
        "multimodel.load_state_dict(torch.load('/content/multimodal.bin'))\n",
        "multimodel.to(device)\n",
        "preds, true = [],[]\n",
        "val_loader = DataLoader(val_dataset,batch_size=17)\n",
        "multimodel.eval()\n",
        "with torch.no_grad():\n",
        "  for batch in val_loader:\n",
        "    img, labels = batch['image'], batch['labels']\n",
        "    img = img.to(device)\n",
        "    pred = multimodel(img)\n",
        "    preds.append(pred)\n",
        "    true.append(labels)\n"
      ],
      "execution_count": 22,
      "outputs": [
        {
          "output_type": "stream",
          "text": [
            "Removing representation layer for fine-tuning.\n"
          ],
          "name": "stderr"
        }
      ]
    },
    {
      "cell_type": "code",
      "metadata": {
        "id": "m7E8QiIZmCgs"
      },
      "source": [
        "y_pred = {'phylum_label':[], 'class_label':[], 'species_label':[], 'form_label':[], 'sample_label':[]}\n",
        "y_true = {'phylum_label':[], 'class_label':[], 'species_label':[], 'form_label':[], 'sample_label':[]}"
      ],
      "execution_count": 23,
      "outputs": []
    },
    {
      "cell_type": "code",
      "metadata": {
        "id": "Wkxi154slzil"
      },
      "source": [
        "for i in range(len(preds)):\n",
        "  for key in y_pred:\n",
        "    y_pred[key].extend(preds[i][key].argmax(axis = 1).cpu().tolist())\n",
        "    y_true[key].extend(true[i][key].tolist())"
      ],
      "execution_count": 24,
      "outputs": []
    },
    {
      "cell_type": "code",
      "metadata": {
        "id": "cvCOtSk9kVmU",
        "colab": {
          "base_uri": "https://localhost:8080/"
        },
        "outputId": "fb69b9c5-3e68-4146-dcae-b8775f056623"
      },
      "source": [
        "from sklearn.metrics import classification_report, confusion_matrix\n",
        "y = '_label'\n",
        "for label in y_pred:\n",
        "  label_le = label.replace(y,'')\n",
        "  classes = label_encoders[label_le].inverse_transform(np.unique(y_true[label]))\n",
        "  print(f\"\\nClassification Report for {label}:\\n\")\n",
        "  # try:\n",
        "  print(classification_report(y_true[label],y_pred[label],target_names=classes))\n",
        "  # except Exception as e:\n",
        "  #   print(classification_report(y_true[label],y_pred[label]))\n",
        "  print('='*95)"
      ],
      "execution_count": 26,
      "outputs": [
        {
          "output_type": "stream",
          "text": [
            "\n",
            "Classification Report for phylum_label:\n",
            "\n",
            "                   precision    recall  f1-score   support\n",
            "\n",
            "        Amoebozoa       1.00      0.89      0.94        35\n",
            "      Apicomplexa       0.93      0.98      0.95       260\n",
            "         Nematoda       0.87      0.89      0.88       150\n",
            "  Platyhelminthes       0.82      0.64      0.72        50\n",
            "Sarcomastigophora       0.88      0.86      0.87        35\n",
            "\n",
            "         accuracy                           0.91       530\n",
            "        macro avg       0.90      0.85      0.87       530\n",
            "     weighted avg       0.90      0.91      0.90       530\n",
            "\n",
            "===============================================================================================\n",
            "\n",
            "Classification Report for class_label:\n",
            "\n",
            "               precision    recall  f1-score   support\n",
            "\n",
            " Aconoidasida       0.98      1.00      0.99       185\n",
            "      Cestoda       0.74      0.68      0.71        50\n",
            "  Chromadorea       0.76      0.80      0.78       125\n",
            "  Conoidasida       0.81      0.97      0.88        75\n",
            "      Enoplea       0.75      0.36      0.49        25\n",
            "    Tubulinea       1.00      0.89      0.94        35\n",
            "Zooflagellate       1.00      0.86      0.92        35\n",
            "\n",
            "     accuracy                           0.87       530\n",
            "    macro avg       0.86      0.79      0.82       530\n",
            " weighted avg       0.87      0.87      0.87       530\n",
            "\n",
            "===============================================================================================\n",
            "\n",
            "Classification Report for species_label:\n",
            "\n",
            "                           precision    recall  f1-score   support\n",
            "\n",
            "         Ancyclostoma sp.       0.70      0.35      0.47        20\n",
            "     Ascaris lumbricoides       0.60      0.51      0.55        35\n",
            "      Cryptosporidium sp.       0.75      0.75      0.75        20\n",
            "  Cyclospora cayetanensis       0.72      0.97      0.83        35\n",
            "  Dibothriocephalus latus       0.52      0.64      0.57        25\n",
            "    Entamoeba histolytica       0.97      0.91      0.94        35\n",
            "  Enterobius vermicularis       0.45      0.36      0.40        25\n",
            "       Giardia duodenalis       0.97      0.86      0.91        35\n",
            "          Hymenolepis spp       1.00      0.92      0.96        25\n",
            "    Plasmodium falciparum       0.58      0.58      0.58        45\n",
            "      Plasmodium knowlesi       0.72      0.90      0.80        20\n",
            "      Plasmodium malariae       0.71      0.60      0.65        40\n",
            "         Plasmodium ovale       0.69      0.57      0.62        35\n",
            "         Plasmodium vivax       0.70      0.87      0.77        45\n",
            "          Sarcocystis sp.       0.65      0.65      0.65        20\n",
            "Strongyloides stercoralis       0.37      0.56      0.44        25\n",
            "           Toxocara canis       0.83      0.75      0.79        20\n",
            "      Trichuris Trichuria       0.50      0.40      0.44        25\n",
            "\n",
            "                 accuracy                           0.68       530\n",
            "                macro avg       0.69      0.68      0.67       530\n",
            "             weighted avg       0.69      0.68      0.68       530\n",
            "\n",
            "===============================================================================================\n",
            "\n",
            "Classification Report for form_label:\n",
            "\n",
            "              precision    recall  f1-score   support\n",
            "\n",
            "       adult       0.95      0.86      0.90        90\n",
            "        cyst       0.84      0.78      0.81        40\n",
            "         egg       0.80      0.94      0.87        70\n",
            "  gametocyte       0.76      0.71      0.74        55\n",
            "       larva       0.76      0.55      0.64        40\n",
            "     oocysts       0.81      0.97      0.88        65\n",
            "  sarcocysts       0.64      0.90      0.75        10\n",
            "    schizont       0.65      0.88      0.75        25\n",
            "trophozoites       0.84      0.77      0.80       135\n",
            "\n",
            "    accuracy                           0.82       530\n",
            "   macro avg       0.78      0.82      0.79       530\n",
            "weighted avg       0.82      0.82      0.81       530\n",
            "\n",
            "===============================================================================================\n",
            "\n",
            "Classification Report for sample_label:\n",
            "\n",
            "               precision    recall  f1-score   support\n",
            "\n",
            "        blood       0.97      1.00      0.99       185\n",
            "        feces       0.77      0.92      0.84       125\n",
            "    intestine       0.87      0.84      0.85       100\n",
            "        liver       0.00      0.00      0.00         5\n",
            "        lungs       1.00      0.20      0.33        20\n",
            "muscle tissue       0.64      0.90      0.75        10\n",
            "           na       0.50      0.20      0.29         5\n",
            "       sputum       1.00      0.40      0.57         5\n",
            "    wet mount       0.96      0.92      0.94        75\n",
            "\n",
            "     accuracy                           0.88       530\n",
            "    macro avg       0.75      0.60      0.62       530\n",
            " weighted avg       0.88      0.88      0.87       530\n",
            "\n",
            "===============================================================================================\n"
          ],
          "name": "stdout"
        },
        {
          "output_type": "stream",
          "text": [
            "/usr/local/lib/python3.7/dist-packages/sklearn/metrics/_classification.py:1272: UndefinedMetricWarning: Precision and F-score are ill-defined and being set to 0.0 in labels with no predicted samples. Use `zero_division` parameter to control this behavior.\n",
            "  _warn_prf(average, modifier, msg_start, len(result))\n"
          ],
          "name": "stderr"
        }
      ]
    }
  ]
}