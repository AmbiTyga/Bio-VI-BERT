{
  "nbformat": 4,
  "nbformat_minor": 0,
  "metadata": {
    "colab": {
      "name": "Pre-trained Image Transformer",
      "provenance": [],
      "collapsed_sections": [],
      "machine_shape": "hm",
      "include_colab_link": true
    },
    "kernelspec": {
      "name": "python3",
      "display_name": "Python 3"
    },
    "accelerator": "GPU"
  },
  "cells": [
    {
      "cell_type": "markdown",
      "metadata": {
        "id": "view-in-github",
        "colab_type": "text"
      },
      "source": [
        "<a href=\"https://colab.research.google.com/github/AmbiTyga/Bio-VI-BERT/blob/main/Swin-Multi-label-Classifier.ipynb\" target=\"_parent\"><img src=\"https://colab.research.google.com/assets/colab-badge.svg\" alt=\"Open In Colab\"/></a>"
      ]
    },
    {
      "cell_type": "code",
      "metadata": {
        "id": "399tkRUuCe_0",
        "colab": {
          "base_uri": "https://localhost:8080/"
        },
        "outputId": "b87db845-f3fc-4e2d-94d2-e7fa719593a2"
      },
      "source": [
        "!pip install git+https://github.com/rwightman/pytorch-image-models.git -q"
      ],
      "execution_count": 1,
      "outputs": [
        {
          "output_type": "stream",
          "text": [
            "Collecting git+https://github.com/rwightman/pytorch-image-models.git\n",
            "  Cloning https://github.com/rwightman/pytorch-image-models.git to /tmp/pip-req-build-pcuzgv03\n",
            "  Running command git clone -q https://github.com/rwightman/pytorch-image-models.git /tmp/pip-req-build-pcuzgv03\n",
            "Requirement already satisfied: torch>=1.4 in /usr/local/lib/python3.7/dist-packages (from timm==0.4.8) (1.8.1+cu101)\n",
            "Requirement already satisfied: torchvision in /usr/local/lib/python3.7/dist-packages (from timm==0.4.8) (0.9.1+cu101)\n",
            "Requirement already satisfied: numpy in /usr/local/lib/python3.7/dist-packages (from torch>=1.4->timm==0.4.8) (1.19.5)\n",
            "Requirement already satisfied: typing-extensions in /usr/local/lib/python3.7/dist-packages (from torch>=1.4->timm==0.4.8) (3.7.4.3)\n",
            "Requirement already satisfied: pillow>=4.1.1 in /usr/local/lib/python3.7/dist-packages (from torchvision->timm==0.4.8) (7.1.2)\n",
            "Building wheels for collected packages: timm\n",
            "  Building wheel for timm (setup.py) ... \u001b[?25l\u001b[?25hdone\n",
            "  Created wheel for timm: filename=timm-0.4.8-cp37-none-any.whl size=328820 sha256=03f87de53dc1033867f6c241d2dd2d651496020295def50b2803493dc035edbf\n",
            "  Stored in directory: /tmp/pip-ephem-wheel-cache-xgzmkwy8/wheels/20/b8/27/66bb141495c14daa67474754678277959ca333a352dab313a5\n",
            "Successfully built timm\n",
            "Installing collected packages: timm\n",
            "  Found existing installation: timm 0.4.5\n",
            "    Uninstalling timm-0.4.5:\n",
            "      Successfully uninstalled timm-0.4.5\n",
            "Successfully installed timm-0.4.8\n"
          ],
          "name": "stdout"
        }
      ]
    },
    {
      "cell_type": "code",
      "metadata": {
        "id": "ymZskRuExedH"
      },
      "source": [
        "import timm"
      ],
      "execution_count": 2,
      "outputs": []
    },
    {
      "cell_type": "code",
      "metadata": {
        "colab": {
          "base_uri": "https://localhost:8080/"
        },
        "id": "eVjc4Kju84S5",
        "outputId": "96d9a151-3481-44ee-99fe-c05f750c8fc1"
      },
      "source": [
        "!wget https://raw.githubusercontent.com/AmbiTyga/Bio-VI-BERT/main/Train.7z\n",
        "!7z x /content/Train.7z"
      ],
      "execution_count": 4,
      "outputs": [
        {
          "output_type": "stream",
          "text": [
            "--2021-04-19 06:18:39--  https://raw.githubusercontent.com/AmbiTyga/Bio-VI-BERT/main/Train.7z\n",
            "Resolving raw.githubusercontent.com (raw.githubusercontent.com)... 185.199.110.133, 185.199.111.133, 185.199.109.133, ...\n",
            "Connecting to raw.githubusercontent.com (raw.githubusercontent.com)|185.199.110.133|:443... connected.\n",
            "HTTP request sent, awaiting response... 200 OK\n",
            "Length: 13524763 (13M) [application/octet-stream]\n",
            "Saving to: ‘Train.7z’\n",
            "\n",
            "Train.7z            100%[===================>]  12.90M  47.2MB/s    in 0.3s    \n",
            "\n",
            "2021-04-19 06:18:39 (47.2 MB/s) - ‘Train.7z’ saved [13524763/13524763]\n",
            "\n",
            "\n",
            "7-Zip [64] 16.02 : Copyright (c) 1999-2016 Igor Pavlov : 2016-05-21\n",
            "p7zip Version 16.02 (locale=en_US.UTF-8,Utf16=on,HugeFiles=on,64 bits,2 CPUs Intel(R) Xeon(R) CPU @ 2.20GHz (406F0),ASM,AES-NI)\n",
            "\n",
            "Scanning the drive for archives:\n",
            "  0M Scan /content/\b\b\b\b\b\b\b\b\b\b\b\b\b\b\b\b\b\b\b                   \b\b\b\b\b\b\b\b\b\b\b\b\b\b\b\b\b\b\b1 file, 13524763 bytes (13 MiB)\n",
            "\n",
            "Extracting archive: /content/Train.7z\n",
            "--\n",
            "Path = /content/Train.7z\n",
            "Type = 7z\n",
            "Physical Size = 13524763\n",
            "Headers Size = 13084\n",
            "Method = LZMA2:24\n",
            "Solid = +\n",
            "Blocks = 1\n",
            "\n",
            "  0%\b\b\b\b    \b\b\b\b 22% 17\b\b\b\b\b\b\b       \b\b\b\b\b\b\b 44% 377 - train/Dibothriocephalus latus/Diph_egg_2_0_99.jpg\b\b\b\b\b\b\b\b\b\b\b\b\b\b\b\b\b\b\b\b\b\b\b\b\b\b\b\b\b\b\b\b\b\b\b\b\b\b\b\b\b\b\b\b\b\b\b\b\b\b\b\b\b\b\b\b\b\b\b\b                                                            \b\b\b\b\b\b\b\b\b\b\b\b\b\b\b\b\b\b\b\b\b\b\b\b\b\b\b\b\b\b\b\b\b\b\b\b\b\b\b\b\b\b\b\b\b\b\b\b\b\b\b\b\b\b\b\b\b\b\b\b 68% 771 - train/Hymenolepis spp/H_nana_egg_wtmt4_4_193.jpg\b\b\b\b\b\b\b\b\b\b\b\b\b\b\b\b\b\b\b\b\b\b\b\b\b\b\b\b\b\b\b\b\b\b\b\b\b\b\b\b\b\b\b\b\b\b\b\b\b\b\b\b\b\b\b\b\b\b\b                                                           \b\b\b\b\b\b\b\b\b\b\b\b\b\b\b\b\b\b\b\b\b\b\b\b\b\b\b\b\b\b\b\b\b\b\b\b\b\b\b\b\b\b\b\b\b\b\b\b\b\b\b\b\b\b\b\b\b\b\b 92% 1262 - train/Plasmodium vivax/Pv_troph_thinE_0_309.jpg\b\b\b\b\b\b\b\b\b\b\b\b\b\b\b\b\b\b\b\b\b\b\b\b\b\b\b\b\b\b\b\b\b\b\b\b\b\b\b\b\b\b\b\b\b\b\b\b\b\b\b\b\b\b\b\b\b\b\b                                                           \b\b\b\b\b\b\b\b\b\b\b\b\b\b\b\b\b\b\b\b\b\b\b\b\b\b\b\b\b\b\b\b\b\b\b\b\b\b\b\b\b\b\b\b\b\b\b\b\b\b\b\b\b\b\b\b\b\b\bEverything is Ok\n",
            "\n",
            "Folders: 17\n",
            "Files: 1451\n",
            "Size:       15238342\n",
            "Compressed: 13524763\n"
          ],
          "name": "stdout"
        }
      ]
    },
    {
      "cell_type": "code",
      "metadata": {
        "id": "0K3nmmNSCsza",
        "colab": {
          "base_uri": "https://localhost:8080/"
        },
        "outputId": "e189499c-463d-4c8d-cee3-728a8554e91b"
      },
      "source": [
        "!wget https://raw.githubusercontent.com/AmbiTyga/Bio-VI-BERT/main/Val.7z\n",
        "!7z x /content/Val.7z"
      ],
      "execution_count": 6,
      "outputs": [
        {
          "output_type": "stream",
          "text": [
            "--2021-04-19 06:18:56--  https://raw.githubusercontent.com/AmbiTyga/Bio-VI-BERT/main/Val.7z\n",
            "Resolving raw.githubusercontent.com (raw.githubusercontent.com)... 185.199.109.133, 185.199.111.133, 185.199.108.133, ...\n",
            "Connecting to raw.githubusercontent.com (raw.githubusercontent.com)|185.199.109.133|:443... connected.\n",
            "HTTP request sent, awaiting response... 200 OK\n",
            "Length: 4593856 (4.4M) [application/octet-stream]\n",
            "Saving to: ‘Val.7z’\n",
            "\n",
            "Val.7z              100%[===================>]   4.38M  --.-KB/s    in 0.1s    \n",
            "\n",
            "2021-04-19 06:18:57 (31.5 MB/s) - ‘Val.7z’ saved [4593856/4593856]\n",
            "\n",
            "\n",
            "7-Zip [64] 16.02 : Copyright (c) 1999-2016 Igor Pavlov : 2016-05-21\n",
            "p7zip Version 16.02 (locale=en_US.UTF-8,Utf16=on,HugeFiles=on,64 bits,2 CPUs Intel(R) Xeon(R) CPU @ 2.20GHz (406F0),ASM,AES-NI)\n",
            "\n",
            "Scanning the drive for archives:\n",
            "  0M Scan /content/\b\b\b\b\b\b\b\b\b\b\b\b\b\b\b\b\b\b\b                   \b\b\b\b\b\b\b\b\b\b\b\b\b\b\b\b\b\b\b1 file, 4593856 bytes (4487 KiB)\n",
            "\n",
            "Extracting archive: /content/Val.7z\n",
            "--\n",
            "Path = /content/Val.7z\n",
            "Type = 7z\n",
            "Physical Size = 4593856\n",
            "Headers Size = 5093\n",
            "Method = LZMA2:6m\n",
            "Solid = +\n",
            "Blocks = 1\n",
            "\n",
            "  0%\b\b\b\b    \b\b\b\b 67% 17\b\b\b\b\b\b\b       \b\b\b\b\b\b\bEverything is Ok\n",
            "\n",
            "Folders: 17\n",
            "Files: 486\n",
            "Size:       5092491\n",
            "Compressed: 4593856\n"
          ],
          "name": "stdout"
        }
      ]
    },
    {
      "cell_type": "code",
      "metadata": {
        "id": "yVc3_O_n_In6"
      },
      "source": [
        "import timm\n",
        "import pandas as pd\n",
        "import numpy as np\n",
        "import torch.nn as nn\n",
        "import torch\n",
        "from torch.utils.data import Dataset, DataLoader, sampler\n",
        "from sklearn.preprocessing import LabelEncoder\n",
        "import os,time\n",
        "from math import fsum\n",
        "from sklearn.model_selection import train_test_split\n",
        "from glob import glob\n",
        "from PIL import Image\n",
        "from torchvision import transforms\n",
        "import torch.functional as F"
      ],
      "execution_count": 7,
      "outputs": []
    },
    {
      "cell_type": "code",
      "metadata": {
        "id": "8TPJLZX99Ju7"
      },
      "source": [
        "!rm -r train val"
      ],
      "execution_count": null,
      "outputs": []
    },
    {
      "cell_type": "markdown",
      "metadata": {
        "id": "aAHwzGXx_7y-"
      },
      "source": [
        "## Cleaning and getting a final data"
      ]
    },
    {
      "cell_type": "code",
      "metadata": {
        "id": "aObD7UFjoJZR"
      },
      "source": [
        "from PIL import Image\n",
        "from glob import glob\n",
        "images = [x for x in glob('./val/*/*') if 'val.csv' not in x]\n",
        "for i in images:\n",
        "  Image.open(i).convert('RGB').save(i)"
      ],
      "execution_count": 8,
      "outputs": []
    },
    {
      "cell_type": "code",
      "metadata": {
        "id": "2H1f9w06nA78"
      },
      "source": [
        "labels = [\"phylum\",\"class\",\"species\",\"form\",\"sample\"]\n",
        "\n",
        "train = pd.read_csv('/content/train/train.csv')\n",
        "val = pd.read_csv('/content/val/val.csv')"
      ],
      "execution_count": 13,
      "outputs": []
    },
    {
      "cell_type": "code",
      "metadata": {
        "id": "RvqUZNOLVljR"
      },
      "source": [
        "label_encoders = dict()\n",
        "for x in labels:\n",
        "  le = LabelEncoder()\n",
        "  train[f'{x}_label'] = le.fit_transform(train[x])\n",
        "  val[f'{x}_label'] = le.transform(val[x])\n",
        "  label_encoders[x] = le"
      ],
      "execution_count": 14,
      "outputs": []
    },
    {
      "cell_type": "code",
      "metadata": {
        "id": "KjwGMBtPtNtw"
      },
      "source": [
        "train.to_csv('/content/train.csv',index = False)\n",
        "\n",
        "val.to_csv('/content/val.csv',index = False)"
      ],
      "execution_count": 15,
      "outputs": []
    },
    {
      "cell_type": "code",
      "metadata": {
        "id": "SENdJ8uvZLwt",
        "colab": {
          "base_uri": "https://localhost:8080/"
        },
        "outputId": "4ddbadc0-c711-4946-cd73-570eafb2578a"
      },
      "source": [
        "for col in labels:\n",
        "  print(50*'-'+col+50*'-')\n",
        "  print(train[col].nunique(),val[col].nunique(),sep=' -> ')"
      ],
      "execution_count": null,
      "outputs": [
        {
          "output_type": "stream",
          "text": [
            "--------------------------------------------------phylum--------------------------------------------------\n",
            "5 -> 5\n",
            "--------------------------------------------------class--------------------------------------------------\n",
            "7 -> 7\n",
            "--------------------------------------------------species--------------------------------------------------\n",
            "16 -> 16\n",
            "--------------------------------------------------form--------------------------------------------------\n",
            "9 -> 9\n",
            "--------------------------------------------------sample--------------------------------------------------\n",
            "6 -> 6\n"
          ],
          "name": "stdout"
        }
      ]
    },
    {
      "cell_type": "markdown",
      "metadata": {
        "id": "7QNo2DKUAAgm"
      },
      "source": [
        "# Dataset Objects"
      ]
    },
    {
      "cell_type": "code",
      "metadata": {
        "id": "wOL5NtArJ8QY"
      },
      "source": [
        "transformer = transforms.Compose([\n",
        "        transforms.Resize((224,224)),\n",
        "#         transforms.CenterCrop(224),\n",
        "        transforms.ToTensor(),\n",
        "        transforms.Normalize([0.5, 0.5, 0.5], [0.5, 0.5, 0.5])\n",
        "    ])\n"
      ],
      "execution_count": 9,
      "outputs": []
    },
    {
      "cell_type": "code",
      "metadata": {
        "id": "4x2bbh_0n-YT"
      },
      "source": [
        "class MultiDataset(Dataset):\n",
        "  def __init__(self,dataFrame,label_encoders,transform=None):\n",
        "    self.data = dataFrame\n",
        "    self.transform = transform\n",
        "    self.labels = [\"phylum_label\",\"class_label\",\"species_label\",\"form_label\",\"sample_label\"]\n",
        "    # self.labels = [\"species_label\"]\n",
        "    self.label_encoder = label_encoders\n",
        "    self.nclasses = self.get_nclasses()\n",
        "    total = fsum(self.nclasses.values())\n",
        "\n",
        "    self.weights = {k:v/total for k,v in self.nclasses.items()}\n",
        "\n",
        "  def __len__(self):\n",
        "    return len(self.data)\n",
        "\n",
        "  def __getitem__(self, idx):\n",
        "    img_path = self.data.loc[idx,\"img_path\"]\n",
        "    image = Image.open(img_path)\n",
        "    image = self.transform(image)\n",
        "    labels = self.data.loc[idx,self.labels].to_dict()\n",
        "    for label in labels:\n",
        "      labels[label] = torch.tensor(labels[label],dtype = torch.long)\n",
        "            \n",
        "    dict_data = {\n",
        "    'image': image,\n",
        "    'labels': labels\n",
        "    }\n",
        "    return dict_data\n",
        "  \n",
        "  # def get_label_encode(self):\n",
        "  #   d=dict()\n",
        "  #   for label in self.labels:            \n",
        "  #       le = LabelEncoder()\n",
        "  #       self.data[label]=le.fit_transform(self.data[label])\n",
        "  #       d[label]=le\n",
        "  #   return d\n",
        "    \n",
        "  def get_nclasses(self):\n",
        "    return self.data[self.labels].nunique().to_dict()"
      ],
      "execution_count": 10,
      "outputs": []
    },
    {
      "cell_type": "markdown",
      "metadata": {
        "id": "hKI3EnppZcNW"
      },
      "source": [
        "# Multi-label Classification"
      ]
    },
    {
      "cell_type": "code",
      "metadata": {
        "id": "0cJUGGT3d4-n"
      },
      "source": [
        "class MultiSwinT(nn.Module):\n",
        "  def __init__(self,nclasses,labels):\n",
        "    super(MultiViT,self).__init__()\n",
        "\n",
        "\n",
        "    self.img_transformer = timm.models.swin_transformer.swin_base_patch4_window7_224(pretrained=True,num_classes = 0)\n",
        "    \n",
        "    self.dividers = nn.ModuleList()\n",
        "\n",
        "    for label in labels:\n",
        "      self.dividers.append(nn.Linear(1024,512))\n",
        "\n",
        "    \n",
        "    self.fc1 = nn.Linear(512,3*512,bias = False)\n",
        "    self.mha = nn.MultiheadAttention(embed_dim = 512,\n",
        "                                     num_heads = 8)\n",
        "    self.classifiers = nn.ModuleDict()\n",
        "\n",
        "    for label in labels:\n",
        "      self.classifiers[label]=nn.Sequential(nn.BatchNorm1d(512),\n",
        "                                            nn.Linear(512,nclasses[label]))\n",
        "\n",
        "    \n",
        "  def forward(self,x):\n",
        "    x=self.img_transformer(x)\n",
        "    # x = nn.ReLU()(x)\n",
        "    z = []\n",
        "    for i in range(len(self.dividers)):\n",
        "      l = self.dividers[i](x)\n",
        "      l = l.unsqueeze(dim = 0)\n",
        "      z.append(l)\n",
        "    x = torch.cat(z,dim = 0)\n",
        "    x = self.fc1(x)\n",
        "    q, k, v = x.split(512,dim = 2)\n",
        "    z,_ = self.mha(q,k,v)\n",
        "    \n",
        "    y=dict()\n",
        "    for label,c in zip(self.classifiers.keys(),z):\n",
        "        y[label]=self.classifiers[label](c)\n",
        "    return y\n"
      ],
      "execution_count": 11,
      "outputs": []
    },
    {
      "cell_type": "code",
      "metadata": {
        "id": "o-nKia0Gn2Vt"
      },
      "source": [
        "train = pd.read_csv(\"/content/train.csv\")\n",
        "val = pd.read_csv(\"/content/val.csv\")"
      ],
      "execution_count": 16,
      "outputs": []
    },
    {
      "cell_type": "code",
      "metadata": {
        "id": "Qnne1XoYqpGx",
        "colab": {
          "base_uri": "https://localhost:8080/"
        },
        "outputId": "a7249589-da57-46c1-855f-2bd32515c7b8"
      },
      "source": [
        "16*135,16*45"
      ],
      "execution_count": 17,
      "outputs": [
        {
          "output_type": "execute_result",
          "data": {
            "text/plain": [
              "(2160, 720)"
            ]
          },
          "metadata": {
            "tags": []
          },
          "execution_count": 17
        }
      ]
    },
    {
      "cell_type": "code",
      "metadata": {
        "id": "bS4PKDBAmMJv",
        "colab": {
          "base_uri": "https://localhost:8080/"
        },
        "outputId": "ed85de6e-f8f3-402e-d42d-23b18c432015"
      },
      "source": [
        "val['species'].value_counts()"
      ],
      "execution_count": 18,
      "outputs": [
        {
          "output_type": "execute_result",
          "data": {
            "text/plain": [
              "Plasmodium vivax             45\n",
              "Plasmodium falciparum        45\n",
              "Cyclospora cayetanensis      40\n",
              "Plasmodium malariae          40\n",
              "Entamoeba histolytica        35\n",
              "Ascaris lumbricoides         35\n",
              "Giardia duodenalis           35\n",
              "Plasmodium ovale             35\n",
              "Trichuris Trichuria          25\n",
              "Hymenolepis spp              25\n",
              "Dibothriocephalus latus      25\n",
              "Enterobius vermicularis      20\n",
              "Sarcocystis sp.              20\n",
              "Cryptosporidium sp.          20\n",
              "Strongyloides stercoralis    20\n",
              "Ancyclostoma sp.             20\n",
              "Name: species, dtype: int64"
            ]
          },
          "metadata": {
            "tags": []
          },
          "execution_count": 18
        }
      ]
    },
    {
      "cell_type": "code",
      "metadata": {
        "id": "pkxSenfkWO5J"
      },
      "source": [
        "class_counts = train['species_label'].value_counts().to_dict()\n",
        "weights = torch.tensor([1/class_counts[label] for label in train['species_label'].values])\n",
        "\n",
        "train_dataset = MultiDataset(train,label_encoders,transformer)\n",
        "train_loader = torch.utils.data.DataLoader(train_dataset,batch_size=51,\n",
        "                                           sampler=torch.utils.data.WeightedRandomSampler(weights,num_samples=2160))\n",
        "\n",
        "class_counts = val['species_label'].value_counts().to_dict()\n",
        "weights = torch.tensor([1/class_counts[label] for label in val['species_label'].values])\n",
        "\n",
        "val_dataset = MultiDataset(val,label_encoders,transformer)\n",
        "val_loader = torch.utils.data.DataLoader(val_dataset,batch_size=51,\n",
        "                                         sampler=torch.utils.data.WeightedRandomSampler(weights,num_samples=720))"
      ],
      "execution_count": 19,
      "outputs": []
    },
    {
      "cell_type": "code",
      "metadata": {
        "id": "NB_vgLAOqkGF"
      },
      "source": [
        "device = torch.device('cuda')\n",
        "multimodel = MultiSwinT(train_dataset.nclasses,train_dataset.labels)\n",
        "multimodel.to(device)\n",
        "loss_fn = nn.CrossEntropyLoss()\n",
        "optim = torch.optim.Adam(filter(lambda p: p.requires_grad, multimodel.parameters()),lr = 1e-4)"
      ],
      "execution_count": 20,
      "outputs": []
    },
    {
      "cell_type": "code",
      "metadata": {
        "id": "kg4Q2q1ErlXN"
      },
      "source": [
        "#@title Training Functions\n",
        "def get_loss(out,labels,loss_fn,weights):\n",
        "    loss=0\n",
        "    for label in labels:\n",
        "        loss+=loss_fn(out[label],labels[label])*weights[label]\n",
        "    return loss\n",
        "\n",
        "\n",
        "def cal_accuracy(out,labels,batch_size,epoch_acc):\n",
        "    for key in out:\n",
        "        q=(out[key].detach().argmax(axis=1)==labels[key]).sum().item()/batch_size\n",
        "        if not key in epoch_acc.keys():\n",
        "            epoch_acc[key]=q\n",
        "        else:\n",
        "            epoch_acc[key]+=q\n",
        "    return epoch_acc\n",
        "\n",
        "\n",
        "def get_avg_acc(epoch_acc,loader):\n",
        "    acc=0\n",
        "    for key in epoch_acc:\n",
        "        epoch_acc[key]/=len(loader)\n",
        "        acc+=epoch_acc[key]\n",
        "        \n",
        "    return acc/len(epoch_acc),epoch_acc\n",
        "\n",
        "def evaluate(model,loss_fn,loader):\n",
        "    model.eval()\n",
        "    epoch_acc={}\n",
        "    epoch_loss=0\n",
        "    with torch.no_grad():\n",
        "      for batch in loader:\n",
        "          img=batch[\"image\"].to(device)\n",
        "          labels=batch[\"labels\"]\n",
        "          for key in labels:\n",
        "              labels[key]=labels[key].to(device)\n",
        "          \n",
        "          out=model(img)\n",
        "          loss=get_loss(out,labels,loss_fn,loader.dataset.weights)\n",
        "          epoch_loss+=loss.item()\n",
        "          epoch_acc=cal_accuracy(out,labels,img.shape[0],epoch_acc)\n",
        "        \n",
        "    avg_acc,epoch_acc=get_avg_acc(epoch_acc,loader)\n",
        "    return (epoch_loss/len(loader),avg_acc,epoch_acc)\n",
        "\n",
        "def train_model(model, loss_fn, opt,trainloader,valloader, num_epochs=1):\n",
        "    stop_value = 10\n",
        "    since = time.time()\n",
        "    best_model=\"\"\n",
        "    # max_loss=np.inf\n",
        "    max_acc = 0.888\n",
        "    train={\"loss\":[],\"avg\":[],\"individual\":[]}\n",
        "    val={\"loss\":[],\"avg\":[],\"individual\":[]}\n",
        "    for epoch in range(num_epochs):\n",
        "        print(\"-\"*50)\n",
        "        print('Epoch {} of {}'.format(epoch+1, num_epochs))\n",
        "        epoch_loss=0\n",
        "        epoch_acc={}\n",
        "        model.train()\n",
        "        # Iterate over data.\n",
        "        for i,data in enumerate(trainloader):\n",
        "            opt.zero_grad()\n",
        "            img=data[\"image\"].to(device)\n",
        "            labels=data[\"labels\"]\n",
        "            for key in labels:\n",
        "                labels[key]=labels[key].to(device)\n",
        "            \n",
        "\n",
        "            out=model(img)\n",
        "            # print(out,labels,sep = '\\n\\n')\n",
        "            loss=get_loss(out,labels,loss_fn,trainloader.dataset.weights)\n",
        "            epoch_loss+=loss.detach().item()\n",
        "            loss.backward()\n",
        "            opt.step()\n",
        "            epoch_acc=cal_accuracy(out,labels,img.shape[0],epoch_acc)\n",
        "            \n",
        "        val_result=evaluate(model,loss_fn,valloader)\n",
        "        avg_acc,epoch_acc=get_avg_acc(epoch_acc,trainloader)\n",
        "        avg_loss=epoch_loss/len(trainloader)\n",
        "        print('Train')\n",
        "        print(f\"Loss: {avg_loss:.3f}\\nAccuracy:\\n\\tEach_label_acc->{epoch_acc}\\n\\tAvg acc->{avg_acc:.3f}\\n\")\n",
        "        print(\"-\"*100)\n",
        "        print(\"Validation\")\n",
        "        print(f\"Loss: {val_result[0]:.3f}\\nAccuracy: Each_label_acc->{val_result[2]}\\n\\tAvg acc->{val_result[1]:.3f}\")\n",
        "        \n",
        "        if val_result[1]>max_acc:\n",
        "          train[\"avg\"].append(avg_acc)\n",
        "          train[\"individual\"].append(epoch_acc)\n",
        "          train[\"loss\"].append(avg_loss)\n",
        "        \n",
        "          val[\"avg\"].append(val_result[1])\n",
        "          val[\"individual\"].append(val_result[2])\n",
        "          val[\"loss\"].append(val_result[0])\n",
        "        \n",
        "          max_acc=val_result[1]\n",
        "          torch.save(model.state_dict(),'multimodal.bin')\n",
        "          print(f'Saving weights with avg_acc -> {max_acc:.3f}')\n",
        "\n",
        "          stop_value = 10\n",
        "        if val_result[1]<max_acc:\n",
        "          stop_value -=1\n",
        "          print(f'Patience - {stop_value} max_avg_acc -> {max_acc:.3f} and epoch_acc -> {val_result[1]:.3f}')\n",
        "\n",
        "        if stop_value<=0:\n",
        "          print(\"\\nStopping\")\n",
        "          return train,val,best_model,max_acc\n",
        "        print(\"-\"*100)\n",
        "    time_elapsed = time.time() - since\n",
        "    print('Training complete in {:.0f}m {:.0f}s'.format(time_elapsed // 60, time_elapsed % 60))\n",
        "    return train,val,best_model,max_loss"
      ],
      "execution_count": 23,
      "outputs": []
    },
    {
      "cell_type": "code",
      "metadata": {
        "id": "9mNrujYelwgb",
        "colab": {
          "base_uri": "https://localhost:8080/"
        },
        "outputId": "c5005df6-d800-4640-c75f-5a48ada04964"
      },
      "source": [
        "train_out,val_out,best_model,best_acc=train_model(multimodel, loss_fn, optim,train_loader,val_loader,num_epochs=140)"
      ],
      "execution_count": 24,
      "outputs": [
        {
          "output_type": "stream",
          "text": [
            "--------------------------------------------------\n",
            "Epoch 1 of 140\n",
            "Train\n",
            "Loss: 0.022\n",
            "Accuracy:\n",
            "\tEach_label_acc->{'phylum_label': 0.9990880072959416, 'class_label': 1.0, 'species_label': 0.9917920656634746, 'form_label': 0.9913360693114452, 'sample_label': 1.0}\n",
            "\tAvg acc->0.996\n",
            "\n",
            "----------------------------------------------------------------------------------------------------\n",
            "Validation\n",
            "Loss: 0.629\n",
            "Accuracy: Each_label_acc->{'phylum_label': 0.9385620915032681, 'class_label': 0.8941176470588237, 'species_label': 0.7248366013071897, 'form_label': 0.8607843137254904, 'sample_label': 0.8941176470588237}\n",
            "\tAvg acc->0.862\n",
            "Patience - 9 max_avg_acc -> 0.888 and epoch_acc -> 0.862\n",
            "----------------------------------------------------------------------------------------------------\n",
            "--------------------------------------------------\n",
            "Epoch 2 of 140\n",
            "Train\n",
            "Loss: 0.013\n",
            "Accuracy:\n",
            "\tEach_label_acc->{'phylum_label': 1.0, 'class_label': 0.9990880072959415, 'species_label': 0.9972640218878249, 'form_label': 0.9936160510715912, 'sample_label': 0.9995440036479707}\n",
            "\tAvg acc->0.998\n",
            "\n",
            "----------------------------------------------------------------------------------------------------\n",
            "Validation\n",
            "Loss: 0.573\n",
            "Accuracy: Each_label_acc->{'phylum_label': 0.9183006535947714, 'class_label': 0.8934640522875819, 'species_label': 0.7104575163398691, 'form_label': 0.8457516339869283, 'sample_label': 0.8849673202614381}\n",
            "\tAvg acc->0.851\n",
            "Patience - 8 max_avg_acc -> 0.888 and epoch_acc -> 0.851\n",
            "----------------------------------------------------------------------------------------------------\n",
            "--------------------------------------------------\n",
            "Epoch 3 of 140\n",
            "Train\n",
            "Loss: 0.006\n",
            "Accuracy:\n",
            "\tEach_label_acc->{'phylum_label': 1.0, 'class_label': 1.0, 'species_label': 0.9990880072959416, 'form_label': 0.9972640218878249, 'sample_label': 1.0}\n",
            "\tAvg acc->0.999\n",
            "\n",
            "----------------------------------------------------------------------------------------------------\n",
            "Validation\n",
            "Loss: 0.513\n",
            "Accuracy: Each_label_acc->{'phylum_label': 0.9078431372549022, 'class_label': 0.9000000000000002, 'species_label': 0.7620915032679739, 'form_label': 0.8875816993464054, 'sample_label': 0.9032679738562094}\n",
            "\tAvg acc->0.872\n",
            "Patience - 7 max_avg_acc -> 0.888 and epoch_acc -> 0.872\n",
            "----------------------------------------------------------------------------------------------------\n",
            "--------------------------------------------------\n",
            "Epoch 4 of 140\n",
            "Train\n",
            "Loss: 0.004\n",
            "Accuracy:\n",
            "\tEach_label_acc->{'phylum_label': 1.0, 'class_label': 1.0, 'species_label': 1.0, 'form_label': 0.997720018239854, 'sample_label': 1.0}\n",
            "\tAvg acc->1.000\n",
            "\n",
            "----------------------------------------------------------------------------------------------------\n",
            "Validation\n",
            "Loss: 0.607\n",
            "Accuracy: Each_label_acc->{'phylum_label': 0.9156862745098041, 'class_label': 0.877777777777778, 'species_label': 0.7228758169934639, 'form_label': 0.8679738562091505, 'sample_label': 0.908496732026144}\n",
            "\tAvg acc->0.859\n",
            "Patience - 6 max_avg_acc -> 0.888 and epoch_acc -> 0.859\n",
            "----------------------------------------------------------------------------------------------------\n",
            "--------------------------------------------------\n",
            "Epoch 5 of 140\n",
            "Train\n",
            "Loss: 0.004\n",
            "Accuracy:\n",
            "\tEach_label_acc->{'phylum_label': 1.0, 'class_label': 1.0, 'species_label': 1.0, 'form_label': 0.9968080255357956, 'sample_label': 1.0}\n",
            "\tAvg acc->0.999\n",
            "\n",
            "----------------------------------------------------------------------------------------------------\n",
            "Validation\n",
            "Loss: 0.509\n",
            "Accuracy: Each_label_acc->{'phylum_label': 0.9326797385620916, 'class_label': 0.908496732026144, 'species_label': 0.7549019607843136, 'form_label': 0.8908496732026145, 'sample_label': 0.9222222222222224}\n",
            "\tAvg acc->0.882\n",
            "Patience - 5 max_avg_acc -> 0.888 and epoch_acc -> 0.882\n",
            "----------------------------------------------------------------------------------------------------\n",
            "--------------------------------------------------\n",
            "Epoch 6 of 140\n",
            "Train\n",
            "Loss: 0.004\n",
            "Accuracy:\n",
            "\tEach_label_acc->{'phylum_label': 1.0, 'class_label': 1.0, 'species_label': 1.0, 'form_label': 0.9972640218878247, 'sample_label': 1.0}\n",
            "\tAvg acc->0.999\n",
            "\n",
            "----------------------------------------------------------------------------------------------------\n",
            "Validation\n",
            "Loss: 0.501\n",
            "Accuracy: Each_label_acc->{'phylum_label': 0.9333333333333335, 'class_label': 0.9150326797385623, 'species_label': 0.7816993464052285, 'form_label': 0.9176470588235296, 'sample_label': 0.9032679738562093}\n",
            "\tAvg acc->0.890\n",
            "Saving weights with avg_acc -> 0.890\n",
            "----------------------------------------------------------------------------------------------------\n",
            "--------------------------------------------------\n",
            "Epoch 7 of 140\n",
            "Train\n",
            "Loss: 0.003\n",
            "Accuracy:\n",
            "\tEach_label_acc->{'phylum_label': 1.0, 'class_label': 1.0, 'species_label': 0.9995440036479707, 'form_label': 0.9963520291837664, 'sample_label': 1.0}\n",
            "\tAvg acc->0.999\n",
            "\n",
            "----------------------------------------------------------------------------------------------------\n",
            "Validation\n",
            "Loss: 0.537\n",
            "Accuracy: Each_label_acc->{'phylum_label': 0.9346405228758171, 'class_label': 0.89281045751634, 'species_label': 0.7745098039215687, 'form_label': 0.8993464052287583, 'sample_label': 0.9071895424836602}\n",
            "\tAvg acc->0.882\n",
            "Patience - 9 max_avg_acc -> 0.890 and epoch_acc -> 0.882\n",
            "----------------------------------------------------------------------------------------------------\n",
            "--------------------------------------------------\n",
            "Epoch 8 of 140\n",
            "Train\n",
            "Loss: 0.005\n",
            "Accuracy:\n",
            "\tEach_label_acc->{'phylum_label': 1.0, 'class_label': 1.0, 'species_label': 0.9995440036479709, 'form_label': 0.995440036479708, 'sample_label': 1.0}\n",
            "\tAvg acc->0.999\n",
            "\n",
            "----------------------------------------------------------------------------------------------------\n",
            "Validation\n",
            "Loss: 0.618\n",
            "Accuracy: Each_label_acc->{'phylum_label': 0.9215686274509806, 'class_label': 0.89281045751634, 'species_label': 0.7398692810457518, 'form_label': 0.8673202614379086, 'sample_label': 0.8862745098039218}\n",
            "\tAvg acc->0.862\n",
            "Patience - 8 max_avg_acc -> 0.890 and epoch_acc -> 0.862\n",
            "----------------------------------------------------------------------------------------------------\n",
            "--------------------------------------------------\n",
            "Epoch 9 of 140\n",
            "Train\n",
            "Loss: 0.005\n",
            "Accuracy:\n",
            "\tEach_label_acc->{'phylum_label': 1.0, 'class_label': 1.0, 'species_label': 1.0, 'form_label': 0.9949840401276787, 'sample_label': 1.0}\n",
            "\tAvg acc->0.999\n",
            "\n",
            "----------------------------------------------------------------------------------------------------\n",
            "Validation\n",
            "Loss: 0.606\n",
            "Accuracy: Each_label_acc->{'phylum_label': 0.9372549019607844, 'class_label': 0.8823529411764708, 'species_label': 0.730718954248366, 'form_label': 0.9098039215686277, 'sample_label': 0.8941176470588237}\n",
            "\tAvg acc->0.871\n",
            "Patience - 7 max_avg_acc -> 0.890 and epoch_acc -> 0.871\n",
            "----------------------------------------------------------------------------------------------------\n",
            "--------------------------------------------------\n",
            "Epoch 10 of 140\n",
            "Train\n",
            "Loss: 0.003\n",
            "Accuracy:\n",
            "\tEach_label_acc->{'phylum_label': 1.0, 'class_label': 1.0, 'species_label': 0.9990880072959416, 'form_label': 0.9977200182398541, 'sample_label': 0.9990880072959416}\n",
            "\tAvg acc->0.999\n",
            "\n",
            "----------------------------------------------------------------------------------------------------\n",
            "Validation\n",
            "Loss: 0.548\n",
            "Accuracy: Each_label_acc->{'phylum_label': 0.9699346405228759, 'class_label': 0.9189542483660132, 'species_label': 0.7686274509803919, 'form_label': 0.8954248366013073, 'sample_label': 0.9013071895424838}\n",
            "\tAvg acc->0.891\n",
            "Saving weights with avg_acc -> 0.891\n",
            "----------------------------------------------------------------------------------------------------\n",
            "--------------------------------------------------\n",
            "Epoch 11 of 140\n",
            "Train\n",
            "Loss: 0.027\n",
            "Accuracy:\n",
            "\tEach_label_acc->{'phylum_label': 0.9901200790393675, 'class_label': 0.9950600395196837, 'species_label': 0.9922480620155036, 'form_label': 0.9918680650554791, 'sample_label': 0.9945280437756495}\n",
            "\tAvg acc->0.993\n",
            "\n",
            "----------------------------------------------------------------------------------------------------\n",
            "Validation\n",
            "Loss: 0.741\n",
            "Accuracy: Each_label_acc->{'phylum_label': 0.900653594771242, 'class_label': 0.8379084967320262, 'species_label': 0.6901960784313724, 'form_label': 0.8267973856209153, 'sample_label': 0.8816993464052291}\n",
            "\tAvg acc->0.827\n",
            "Patience - 9 max_avg_acc -> 0.891 and epoch_acc -> 0.827\n",
            "----------------------------------------------------------------------------------------------------\n",
            "--------------------------------------------------\n",
            "Epoch 12 of 140\n",
            "Train\n",
            "Loss: 0.079\n",
            "Accuracy:\n",
            "\tEach_label_acc->{'phylum_label': 0.9744642042863655, 'class_label': 0.9794801641586866, 'species_label': 0.9799361605107159, 'form_label': 0.9772001823985405, 'sample_label': 0.9886000911992702}\n",
            "\tAvg acc->0.980\n",
            "\n",
            "----------------------------------------------------------------------------------------------------\n",
            "Validation\n",
            "Loss: 0.809\n",
            "Accuracy: Each_label_acc->{'phylum_label': 0.9215686274509806, 'class_label': 0.8640522875816995, 'species_label': 0.6797385620915033, 'form_label': 0.8065359477124182, 'sample_label': 0.900653594771242}\n",
            "\tAvg acc->0.835\n",
            "Patience - 8 max_avg_acc -> 0.891 and epoch_acc -> 0.835\n",
            "----------------------------------------------------------------------------------------------------\n",
            "--------------------------------------------------\n",
            "Epoch 13 of 140\n",
            "Train\n",
            "Loss: 0.033\n",
            "Accuracy:\n",
            "\tEach_label_acc->{'phylum_label': 0.9972640218878249, 'class_label': 0.9927040583675331, 'species_label': 0.9904240766073871, 'form_label': 0.9872321021431826, 'sample_label': 0.9949840401276789}\n",
            "\tAvg acc->0.993\n",
            "\n",
            "----------------------------------------------------------------------------------------------------\n",
            "Validation\n",
            "Loss: 0.881\n",
            "Accuracy: Each_label_acc->{'phylum_label': 0.8764705882352942, 'class_label': 0.8111111111111112, 'species_label': 0.6738562091503267, 'form_label': 0.8104575163398693, 'sample_label': 0.9098039215686277}\n",
            "\tAvg acc->0.816\n",
            "Patience - 7 max_avg_acc -> 0.891 and epoch_acc -> 0.816\n",
            "----------------------------------------------------------------------------------------------------\n",
            "--------------------------------------------------\n",
            "Epoch 14 of 140\n",
            "Train\n",
            "Loss: 0.024\n",
            "Accuracy:\n",
            "\tEach_label_acc->{'phylum_label': 0.9981760145918831, 'class_label': 0.9949840401276789, 'species_label': 0.9895880832953337, 'form_label': 0.9922480620155036, 'sample_label': 0.9986320109439124}\n",
            "\tAvg acc->0.995\n",
            "\n",
            "----------------------------------------------------------------------------------------------------\n",
            "Validation\n",
            "Loss: 0.848\n",
            "Accuracy: Each_label_acc->{'phylum_label': 0.8705882352941178, 'class_label': 0.8183006535947714, 'species_label': 0.6516339869281046, 'form_label': 0.8496732026143792, 'sample_label': 0.8614379084967322}\n",
            "\tAvg acc->0.810\n",
            "Patience - 6 max_avg_acc -> 0.891 and epoch_acc -> 0.810\n",
            "----------------------------------------------------------------------------------------------------\n",
            "--------------------------------------------------\n",
            "Epoch 15 of 140\n",
            "Train\n",
            "Loss: 0.038\n",
            "Accuracy:\n",
            "\tEach_label_acc->{'phylum_label': 0.9936160510715911, 'class_label': 0.9945280437756499, 'species_label': 0.9908800729594164, 'form_label': 0.9858641130870951, 'sample_label': 0.997720018239854}\n",
            "\tAvg acc->0.993\n",
            "\n",
            "----------------------------------------------------------------------------------------------------\n",
            "Validation\n",
            "Loss: 0.958\n",
            "Accuracy: Each_label_acc->{'phylum_label': 0.8745098039215687, 'class_label': 0.8627450980392158, 'species_label': 0.6607843137254901, 'form_label': 0.7986928104575164, 'sample_label': 0.8901960784313728}\n",
            "\tAvg acc->0.817\n",
            "Patience - 5 max_avg_acc -> 0.891 and epoch_acc -> 0.817\n",
            "----------------------------------------------------------------------------------------------------\n",
            "--------------------------------------------------\n",
            "Epoch 16 of 140\n",
            "Train\n",
            "Loss: 0.021\n",
            "Accuracy:\n",
            "\tEach_label_acc->{'phylum_label': 1.0, 'class_label': 1.0, 'species_label': 0.9908800729594162, 'form_label': 0.992704058367533, 'sample_label': 1.0}\n",
            "\tAvg acc->0.997\n",
            "\n",
            "----------------------------------------------------------------------------------------------------\n",
            "Validation\n",
            "Loss: 0.665\n",
            "Accuracy: Each_label_acc->{'phylum_label': 0.8986928104575166, 'class_label': 0.8732026143790852, 'species_label': 0.7346405228758172, 'form_label': 0.8352941176470589, 'sample_label': 0.8849673202614381}\n",
            "\tAvg acc->0.845\n",
            "Patience - 4 max_avg_acc -> 0.891 and epoch_acc -> 0.845\n",
            "----------------------------------------------------------------------------------------------------\n",
            "--------------------------------------------------\n",
            "Epoch 17 of 140\n",
            "Train\n",
            "Loss: 0.005\n",
            "Accuracy:\n",
            "\tEach_label_acc->{'phylum_label': 1.0, 'class_label': 1.0, 'species_label': 0.9995440036479709, 'form_label': 0.9949840401276789, 'sample_label': 1.0}\n",
            "\tAvg acc->0.999\n",
            "\n",
            "----------------------------------------------------------------------------------------------------\n",
            "Validation\n",
            "Loss: 0.685\n",
            "Accuracy: Each_label_acc->{'phylum_label': 0.9333333333333335, 'class_label': 0.8823529411764708, 'species_label': 0.7006535947712417, 'form_label': 0.8444444444444446, 'sample_label': 0.8836601307189544}\n",
            "\tAvg acc->0.849\n",
            "Patience - 3 max_avg_acc -> 0.891 and epoch_acc -> 0.849\n",
            "----------------------------------------------------------------------------------------------------\n",
            "--------------------------------------------------\n",
            "Epoch 18 of 140\n",
            "Train\n",
            "Loss: 0.004\n",
            "Accuracy:\n",
            "\tEach_label_acc->{'phylum_label': 1.0, 'class_label': 1.0, 'species_label': 1.0, 'form_label': 0.9968080255357955, 'sample_label': 1.0}\n",
            "\tAvg acc->0.999\n",
            "\n",
            "----------------------------------------------------------------------------------------------------\n",
            "Validation\n",
            "Loss: 0.855\n",
            "Accuracy: Each_label_acc->{'phylum_label': 0.9209150326797387, 'class_label': 0.8699346405228758, 'species_label': 0.6836601307189542, 'form_label': 0.8019607843137256, 'sample_label': 0.8627450980392157}\n",
            "\tAvg acc->0.828\n",
            "Patience - 2 max_avg_acc -> 0.891 and epoch_acc -> 0.828\n",
            "----------------------------------------------------------------------------------------------------\n",
            "--------------------------------------------------\n",
            "Epoch 19 of 140\n",
            "Train\n",
            "Loss: 0.003\n",
            "Accuracy:\n",
            "\tEach_label_acc->{'phylum_label': 1.0, 'class_label': 1.0, 'species_label': 1.0, 'form_label': 0.997720018239854, 'sample_label': 1.0}\n",
            "\tAvg acc->1.000\n",
            "\n",
            "----------------------------------------------------------------------------------------------------\n",
            "Validation\n",
            "Loss: 0.878\n",
            "Accuracy: Each_label_acc->{'phylum_label': 0.8915032679738564, 'class_label': 0.8483660130718955, 'species_label': 0.7098039215686274, 'form_label': 0.7947712418300654, 'sample_label': 0.8614379084967322}\n",
            "\tAvg acc->0.821\n",
            "Patience - 1 max_avg_acc -> 0.891 and epoch_acc -> 0.821\n",
            "----------------------------------------------------------------------------------------------------\n",
            "--------------------------------------------------\n",
            "Epoch 20 of 140\n",
            "Train\n",
            "Loss: 0.002\n",
            "Accuracy:\n",
            "\tEach_label_acc->{'phylum_label': 1.0, 'class_label': 1.0, 'species_label': 1.0, 'form_label': 0.9981760145918831, 'sample_label': 1.0}\n",
            "\tAvg acc->1.000\n",
            "\n",
            "----------------------------------------------------------------------------------------------------\n",
            "Validation\n",
            "Loss: 0.844\n",
            "Accuracy: Each_label_acc->{'phylum_label': 0.9228758169934642, 'class_label': 0.8705882352941178, 'species_label': 0.6803921568627449, 'form_label': 0.8130718954248367, 'sample_label': 0.8450980392156864}\n",
            "\tAvg acc->0.826\n",
            "Patience - 0 max_avg_acc -> 0.891 and epoch_acc -> 0.826\n",
            "\n",
            "Stopping\n"
          ],
          "name": "stdout"
        }
      ]
    },
    {
      "cell_type": "code",
      "metadata": {
        "id": "PDdWfleZmC5r"
      },
      "source": [
        "multimodel = MultiSwinT(train_dataset.nclasses,train_dataset.labels)\n",
        "multimodel.load_state_dict(torch.load('/content/multimodal.bin'))\n",
        "multimodel.to(device)\n",
        "preds, true = [],[]\n",
        "val_loader = DataLoader(val_dataset,batch_size=17)\n",
        "multimodel.eval()\n",
        "with torch.no_grad():\n",
        "  for batch in val_loader:\n",
        "    img, labels = batch['image'], batch['labels']\n",
        "    img = img.to(device)\n",
        "    pred = multimodel(img)\n",
        "    preds.append(pred)\n",
        "    true.append(labels)\n"
      ],
      "execution_count": 25,
      "outputs": []
    },
    {
      "cell_type": "code",
      "metadata": {
        "id": "m7E8QiIZmCgs"
      },
      "source": [
        "y_pred = {'phylum_label':[], 'class_label':[], 'species_label':[], 'form_label':[], 'sample_label':[]}\n",
        "y_true = {'phylum_label':[], 'class_label':[], 'species_label':[], 'form_label':[], 'sample_label':[]}"
      ],
      "execution_count": 26,
      "outputs": []
    },
    {
      "cell_type": "code",
      "metadata": {
        "id": "Wkxi154slzil"
      },
      "source": [
        "for i in range(len(preds)):\n",
        "  for key in y_pred:\n",
        "    y_pred[key].extend(preds[i][key].argmax(axis = 1).cpu().tolist())\n",
        "    y_true[key].extend(true[i][key].tolist())"
      ],
      "execution_count": 27,
      "outputs": []
    },
    {
      "cell_type": "code",
      "metadata": {
        "id": "cvCOtSk9kVmU",
        "colab": {
          "base_uri": "https://localhost:8080/"
        },
        "outputId": "126b4b40-068f-4ce8-8288-79f93ae53798"
      },
      "source": [
        "from sklearn.metrics import classification_report, confusion_matrix\n",
        "y = '_label'\n",
        "for label in y_pred:\n",
        "  label_le = label.replace(y,'')\n",
        "  classes = label_encoders[label_le].inverse_transform(np.unique(y_true[label]))\n",
        "  print(f\"\\nClassification Report for {label}:\\n\")\n",
        "  # try:\n",
        "  print(classification_report(y_true[label],y_pred[label],target_names=classes))\n",
        "  # except Exception as e:\n",
        "  #   print(classification_report(y_true[label],y_pred[label]))\n",
        "  print('='*95)"
      ],
      "execution_count": 28,
      "outputs": [
        {
          "output_type": "stream",
          "text": [
            "\n",
            "Classification Report for phylum_label:\n",
            "\n",
            "                   precision    recall  f1-score   support\n",
            "\n",
            "        Amoebozoa       0.94      0.89      0.91        35\n",
            "      Apicomplexa       0.97      0.99      0.98       245\n",
            "         Nematoda       0.94      0.96      0.95       120\n",
            "  Platyhelminthes       0.86      0.84      0.85        50\n",
            "Sarcomastigophora       1.00      0.86      0.92        35\n",
            "\n",
            "         accuracy                           0.95       485\n",
            "        macro avg       0.94      0.91      0.92       485\n",
            "     weighted avg       0.95      0.95      0.95       485\n",
            "\n",
            "===============================================================================================\n",
            "\n",
            "Classification Report for class_label:\n",
            "\n",
            "               precision    recall  f1-score   support\n",
            "\n",
            " Aconoidasida       0.97      0.99      0.98       165\n",
            "      Cestoda       0.80      0.88      0.84        50\n",
            "  Chromadorea       0.89      0.89      0.89        95\n",
            "  Conoidasida       0.96      1.00      0.98        80\n",
            "      Enoplea       0.75      0.60      0.67        25\n",
            "    Tubulinea       0.94      0.91      0.93        35\n",
            "Zooflagellate       1.00      0.86      0.92        35\n",
            "\n",
            "     accuracy                           0.93       485\n",
            "    macro avg       0.90      0.88      0.89       485\n",
            " weighted avg       0.93      0.93      0.92       485\n",
            "\n",
            "===============================================================================================\n",
            "\n",
            "Classification Report for species_label:\n",
            "\n",
            "                           precision    recall  f1-score   support\n",
            "\n",
            "         Ancyclostoma sp.       1.00      0.90      0.95        20\n",
            "     Ascaris lumbricoides       0.93      0.77      0.84        35\n",
            "      Cryptosporidium sp.       0.74      0.70      0.72        20\n",
            "  Cyclospora cayetanensis       0.82      0.90      0.86        40\n",
            "  Dibothriocephalus latus       0.63      0.68      0.65        25\n",
            "    Entamoeba histolytica       0.97      0.91      0.94        35\n",
            "  Enterobius vermicularis       0.48      0.55      0.51        20\n",
            "       Giardia duodenalis       1.00      0.86      0.92        35\n",
            "          Hymenolepis spp       0.90      0.76      0.83        25\n",
            "    Plasmodium falciparum       0.79      0.76      0.77        45\n",
            "      Plasmodium malariae       0.73      0.47      0.58        40\n",
            "         Plasmodium ovale       0.64      0.60      0.62        35\n",
            "         Plasmodium vivax       0.48      0.78      0.59        45\n",
            "          Sarcocystis sp.       1.00      0.95      0.97        20\n",
            "Strongyloides stercoralis       0.75      0.75      0.75        20\n",
            "      Trichuris Trichuria       0.74      0.80      0.77        25\n",
            "\n",
            "                 accuracy                           0.76       485\n",
            "                macro avg       0.79      0.76      0.77       485\n",
            "             weighted avg       0.78      0.76      0.76       485\n",
            "\n",
            "===============================================================================================\n",
            "\n",
            "Classification Report for form_label:\n",
            "\n",
            "              precision    recall  f1-score   support\n",
            "\n",
            "       adult       0.89      0.85      0.87        55\n",
            "        cyst       1.00      0.89      0.94        45\n",
            "         egg       0.89      0.96      0.92        80\n",
            "  gametocyte       0.96      0.63      0.76        35\n",
            "       larva       0.73      0.69      0.71        35\n",
            "     oocysts       0.95      0.99      0.97        70\n",
            "  sarcocysts       1.00      1.00      1.00        10\n",
            "    schizont       0.78      0.93      0.85        55\n",
            "trophozoites       0.83      0.84      0.84       100\n",
            "\n",
            "    accuracy                           0.87       485\n",
            "   macro avg       0.89      0.86      0.87       485\n",
            "weighted avg       0.88      0.87      0.87       485\n",
            "\n",
            "===============================================================================================\n",
            "\n",
            "Classification Report for sample_label:\n",
            "\n",
            "               precision    recall  f1-score   support\n",
            "\n",
            "        blood       0.93      1.00      0.96       165\n",
            "        feces       0.87      0.96      0.91       150\n",
            "    intestine       0.83      0.79      0.81        70\n",
            "        lungs       1.00      0.33      0.50        15\n",
            "muscle tissue       1.00      1.00      1.00        10\n",
            "    wet mount       0.97      0.79      0.87        75\n",
            "\n",
            "     accuracy                           0.90       485\n",
            "    macro avg       0.93      0.81      0.84       485\n",
            " weighted avg       0.91      0.90      0.90       485\n",
            "\n",
            "===============================================================================================\n"
          ],
          "name": "stdout"
        }
      ]
    }
  ]
}