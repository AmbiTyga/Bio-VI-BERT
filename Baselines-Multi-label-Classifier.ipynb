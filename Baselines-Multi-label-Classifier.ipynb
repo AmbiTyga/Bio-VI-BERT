{
  "nbformat": 4,
  "nbformat_minor": 0,
  "metadata": {
    "colab": {
      "name": "Pre-trained Image Transformer",
      "provenance": [],
      "collapsed_sections": [],
      "toc_visible": true,
      "machine_shape": "hm",
      "include_colab_link": true
    },
    "kernelspec": {
      "name": "python3",
      "display_name": "Python 3"
    },
    "accelerator": "GPU"
  },
  "cells": [
    {
      "cell_type": "markdown",
      "metadata": {
        "id": "view-in-github",
        "colab_type": "text"
      },
      "source": [
        "<a href=\"https://colab.research.google.com/github/AmbiTyga/Bio-VI-BERT/blob/main/Baselines-Multi-label-Classifier.ipynb\" target=\"_parent\"><img src=\"https://colab.research.google.com/assets/colab-badge.svg\" alt=\"Open In Colab\"/></a>"
      ]
    },
    {
      "cell_type": "code",
      "metadata": {
        "id": "399tkRUuCe_0",
        "colab": {
          "base_uri": "https://localhost:8080/"
        },
        "outputId": "7181e1c0-c260-4a11-b3dc-a1ac3a71773c"
      },
      "source": [
        "!pip install git+https://github.com/rwightman/pytorch-image-models.git -q"
      ],
      "execution_count": null,
      "outputs": [
        {
          "output_type": "stream",
          "text": [
            "  Building wheel for timm (setup.py) ... \u001b[?25l\u001b[?25hdone\n"
          ],
          "name": "stdout"
        }
      ]
    },
    {
      "cell_type": "code",
      "metadata": {
        "colab": {
          "base_uri": "https://localhost:8080/"
        },
        "id": "eVjc4Kju84S5",
        "outputId": "b3c768fb-6eb6-45c3-eed3-85b97f31b745"
      },
      "source": [
        "!wget https://raw.githubusercontent.com/AmbiTyga/Bio-VI-BERT/main/Train.7z\n",
        "!7z x /content/Train.7z"
      ],
      "execution_count": null,
      "outputs": [
        {
          "output_type": "stream",
          "text": [
            "--2021-04-19 08:21:22--  https://raw.githubusercontent.com/AmbiTyga/Bio-VI-BERT/main/Train.7z\n",
            "Resolving raw.githubusercontent.com (raw.githubusercontent.com)... 185.199.111.133, 185.199.108.133, 185.199.109.133, ...\n",
            "Connecting to raw.githubusercontent.com (raw.githubusercontent.com)|185.199.111.133|:443... connected.\n",
            "HTTP request sent, awaiting response... 200 OK\n",
            "Length: 13524763 (13M) [application/octet-stream]\n",
            "Saving to: ‘Train.7z’\n",
            "\n",
            "Train.7z            100%[===================>]  12.90M  36.3MB/s    in 0.4s    \n",
            "\n",
            "2021-04-19 08:21:23 (36.3 MB/s) - ‘Train.7z’ saved [13524763/13524763]\n",
            "\n",
            "\n",
            "7-Zip [64] 16.02 : Copyright (c) 1999-2016 Igor Pavlov : 2016-05-21\n",
            "p7zip Version 16.02 (locale=en_US.UTF-8,Utf16=on,HugeFiles=on,64 bits,2 CPUs Intel(R) Xeon(R) CPU @ 2.20GHz (406F0),ASM,AES-NI)\n",
            "\n",
            "Scanning the drive for archives:\n",
            "  0M Scan /content/\b\b\b\b\b\b\b\b\b\b\b\b\b\b\b\b\b\b\b                   \b\b\b\b\b\b\b\b\b\b\b\b\b\b\b\b\b\b\b1 file, 13524763 bytes (13 MiB)\n",
            "\n",
            "Extracting archive: /content/Train.7z\n",
            "--\n",
            "Path = /content/Train.7z\n",
            "Type = 7z\n",
            "Physical Size = 13524763\n",
            "Headers Size = 13084\n",
            "Method = LZMA2:24\n",
            "Solid = +\n",
            "Blocks = 1\n",
            "\n",
            "  0%\b\b\b\b    \b\b\b\b 22% 17\b\b\b\b\b\b\b       \b\b\b\b\b\b\b 44% 377 - train/Dibothriocephalus latus/Diph_egg_2_0_99.jpg\b\b\b\b\b\b\b\b\b\b\b\b\b\b\b\b\b\b\b\b\b\b\b\b\b\b\b\b\b\b\b\b\b\b\b\b\b\b\b\b\b\b\b\b\b\b\b\b\b\b\b\b\b\b\b\b\b\b\b\b                                                            \b\b\b\b\b\b\b\b\b\b\b\b\b\b\b\b\b\b\b\b\b\b\b\b\b\b\b\b\b\b\b\b\b\b\b\b\b\b\b\b\b\b\b\b\b\b\b\b\b\b\b\b\b\b\b\b\b\b\b\b 68% 771 - train/Hymenolepis spp/H_nana_egg_wtmt4_4_193.jpg\b\b\b\b\b\b\b\b\b\b\b\b\b\b\b\b\b\b\b\b\b\b\b\b\b\b\b\b\b\b\b\b\b\b\b\b\b\b\b\b\b\b\b\b\b\b\b\b\b\b\b\b\b\b\b\b\b\b\b                                                           \b\b\b\b\b\b\b\b\b\b\b\b\b\b\b\b\b\b\b\b\b\b\b\b\b\b\b\b\b\b\b\b\b\b\b\b\b\b\b\b\b\b\b\b\b\b\b\b\b\b\b\b\b\b\b\b\b\b\b 92% 1262 - train/Plasmodium vivax/Pv_troph_thinE_0_309.jpg\b\b\b\b\b\b\b\b\b\b\b\b\b\b\b\b\b\b\b\b\b\b\b\b\b\b\b\b\b\b\b\b\b\b\b\b\b\b\b\b\b\b\b\b\b\b\b\b\b\b\b\b\b\b\b\b\b\b\b                                                           \b\b\b\b\b\b\b\b\b\b\b\b\b\b\b\b\b\b\b\b\b\b\b\b\b\b\b\b\b\b\b\b\b\b\b\b\b\b\b\b\b\b\b\b\b\b\b\b\b\b\b\b\b\b\b\b\b\b\bEverything is Ok\n",
            "\n",
            "Folders: 17\n",
            "Files: 1451\n",
            "Size:       15238342\n",
            "Compressed: 13524763\n"
          ],
          "name": "stdout"
        }
      ]
    },
    {
      "cell_type": "code",
      "metadata": {
        "id": "0K3nmmNSCsza",
        "colab": {
          "base_uri": "https://localhost:8080/"
        },
        "outputId": "45f597b0-23c2-4820-c527-05416475bc56"
      },
      "source": [
        "!wget https://raw.githubusercontent.com/AmbiTyga/Bio-VI-BERT/main/Val.7z\n",
        "!7z x /content/Val.7z"
      ],
      "execution_count": null,
      "outputs": [
        {
          "output_type": "stream",
          "text": [
            "--2021-04-19 08:21:24--  https://raw.githubusercontent.com/AmbiTyga/Bio-VI-BERT/main/Val.7z\n",
            "Resolving raw.githubusercontent.com (raw.githubusercontent.com)... 185.199.109.133, 185.199.110.133, 185.199.108.133, ...\n",
            "Connecting to raw.githubusercontent.com (raw.githubusercontent.com)|185.199.109.133|:443... connected.\n",
            "HTTP request sent, awaiting response... 200 OK\n",
            "Length: 4593856 (4.4M) [application/octet-stream]\n",
            "Saving to: ‘Val.7z’\n",
            "\n",
            "Val.7z              100%[===================>]   4.38M  --.-KB/s    in 0.1s    \n",
            "\n",
            "2021-04-19 08:21:24 (42.3 MB/s) - ‘Val.7z’ saved [4593856/4593856]\n",
            "\n",
            "\n",
            "7-Zip [64] 16.02 : Copyright (c) 1999-2016 Igor Pavlov : 2016-05-21\n",
            "p7zip Version 16.02 (locale=en_US.UTF-8,Utf16=on,HugeFiles=on,64 bits,2 CPUs Intel(R) Xeon(R) CPU @ 2.20GHz (406F0),ASM,AES-NI)\n",
            "\n",
            "Scanning the drive for archives:\n",
            "  0M Scan /content/\b\b\b\b\b\b\b\b\b\b\b\b\b\b\b\b\b\b\b                   \b\b\b\b\b\b\b\b\b\b\b\b\b\b\b\b\b\b\b1 file, 4593856 bytes (4487 KiB)\n",
            "\n",
            "Extracting archive: /content/Val.7z\n",
            "--\n",
            "Path = /content/Val.7z\n",
            "Type = 7z\n",
            "Physical Size = 4593856\n",
            "Headers Size = 5093\n",
            "Method = LZMA2:6m\n",
            "Solid = +\n",
            "Blocks = 1\n",
            "\n",
            "  0%\b\b\b\b    \b\b\b\b 67% 17\b\b\b\b\b\b\b       \b\b\b\b\b\b\bEverything is Ok\n",
            "\n",
            "Folders: 17\n",
            "Files: 486\n",
            "Size:       5092491\n",
            "Compressed: 4593856\n"
          ],
          "name": "stdout"
        }
      ]
    },
    {
      "cell_type": "code",
      "metadata": {
        "id": "yVc3_O_n_In6"
      },
      "source": [
        "import timm\n",
        "import pandas as pd\n",
        "import numpy as np\n",
        "import torch.nn as nn\n",
        "import torch\n",
        "from torch.utils.data import Dataset, DataLoader, sampler\n",
        "from sklearn.preprocessing import LabelEncoder\n",
        "import os,time\n",
        "from math import fsum\n",
        "from sklearn.model_selection import train_test_split\n",
        "from glob import glob\n",
        "from PIL import Image\n",
        "from torchvision import transforms\n",
        "import torch.functional as F"
      ],
      "execution_count": null,
      "outputs": []
    },
    {
      "cell_type": "code",
      "metadata": {
        "id": "8TPJLZX99Ju7"
      },
      "source": [
        "!rm -r train val"
      ],
      "execution_count": null,
      "outputs": []
    },
    {
      "cell_type": "markdown",
      "metadata": {
        "id": "aAHwzGXx_7y-"
      },
      "source": [
        "## Cleaning and getting a final data"
      ]
    },
    {
      "cell_type": "code",
      "metadata": {
        "id": "aObD7UFjoJZR"
      },
      "source": [
        "from PIL import Image\n",
        "from glob import glob\n",
        "images = [x for x in glob('./val/*/*') if 'val.csv' not in x]\n",
        "for i in images:\n",
        "  Image.open(i).convert('RGB').save(i)"
      ],
      "execution_count": null,
      "outputs": []
    },
    {
      "cell_type": "code",
      "metadata": {
        "id": "2H1f9w06nA78"
      },
      "source": [
        "labels = [\"phylum\",\"class\",\"species\",\"form\",\"sample\"]\n",
        "\n",
        "train = pd.read_csv('/content/train/train.csv')\n",
        "val = pd.read_csv('/content/val/val.csv')"
      ],
      "execution_count": null,
      "outputs": []
    },
    {
      "cell_type": "code",
      "metadata": {
        "id": "RvqUZNOLVljR"
      },
      "source": [
        "label_encoders = dict()\n",
        "for x in labels:\n",
        "  le = LabelEncoder()\n",
        "  train[f'{x}_label'] = le.fit_transform(train[x])\n",
        "  val[f'{x}_label'] = le.transform(val[x])\n",
        "  label_encoders[x] = le"
      ],
      "execution_count": null,
      "outputs": []
    },
    {
      "cell_type": "code",
      "metadata": {
        "id": "KjwGMBtPtNtw"
      },
      "source": [
        "train.to_csv('/content/train.csv',index = False)\n",
        "\n",
        "val.to_csv('/content/val.csv',index = False)"
      ],
      "execution_count": null,
      "outputs": []
    },
    {
      "cell_type": "code",
      "metadata": {
        "id": "SENdJ8uvZLwt",
        "colab": {
          "base_uri": "https://localhost:8080/"
        },
        "outputId": "4ddbadc0-c711-4946-cd73-570eafb2578a"
      },
      "source": [
        "for col in labels:\n",
        "  print(50*'-'+col+50*'-')\n",
        "  print(train[col].nunique(),val[col].nunique(),sep=' -> ')"
      ],
      "execution_count": null,
      "outputs": [
        {
          "output_type": "stream",
          "text": [
            "--------------------------------------------------phylum--------------------------------------------------\n",
            "5 -> 5\n",
            "--------------------------------------------------class--------------------------------------------------\n",
            "7 -> 7\n",
            "--------------------------------------------------species--------------------------------------------------\n",
            "16 -> 16\n",
            "--------------------------------------------------form--------------------------------------------------\n",
            "9 -> 9\n",
            "--------------------------------------------------sample--------------------------------------------------\n",
            "6 -> 6\n"
          ],
          "name": "stdout"
        }
      ]
    },
    {
      "cell_type": "markdown",
      "metadata": {
        "id": "7QNo2DKUAAgm"
      },
      "source": [
        "# Dataset Objects"
      ]
    },
    {
      "cell_type": "code",
      "metadata": {
        "id": "wOL5NtArJ8QY"
      },
      "source": [
        "train_transformer = transforms.Compose([\n",
        "        transforms.Resize((256,256)),\n",
        "#         transforms.CenterCrop(224),\n",
        "        transforms.ToTensor(),\n",
        "        transforms.Normalize([0.5, 0.5, 0.5], [0.5, 0.5, 0.5])\n",
        "    ])\n",
        "\n",
        "val_transformer = transforms.Compose([\n",
        "        transforms.Resize((320,320)),\n",
        "#         transforms.CenterCrop(224),\n",
        "        transforms.ToTensor(),\n",
        "        transforms.Normalize([0.5, 0.5, 0.5], [0.5, 0.5, 0.5])\n",
        "    ])\n"
      ],
      "execution_count": null,
      "outputs": []
    },
    {
      "cell_type": "code",
      "metadata": {
        "id": "4x2bbh_0n-YT"
      },
      "source": [
        "class MultiDataset(Dataset):\n",
        "  def __init__(self,dataFrame,label_encoders,transform=None):\n",
        "    self.data = dataFrame\n",
        "    self.transform = transform\n",
        "    self.labels = [\"phylum_label\",\"class_label\",\"species_label\",\"form_label\",\"sample_label\"]\n",
        "    # self.labels = [\"species_label\"]\n",
        "    self.label_encoder = label_encoders\n",
        "    self.nclasses = self.get_nclasses()\n",
        "    total = fsum(self.nclasses.values())\n",
        "\n",
        "    self.weights = {k:v/total for k,v in self.nclasses.items()}\n",
        "\n",
        "  def __len__(self):\n",
        "    return len(self.data)\n",
        "\n",
        "  def __getitem__(self, idx):\n",
        "    img_path = self.data.loc[idx,\"img_path\"]\n",
        "    image = Image.open(img_path)\n",
        "    image = self.transform(image)\n",
        "    labels = self.data.loc[idx,self.labels].to_dict()\n",
        "    for label in labels:\n",
        "      labels[label] = torch.tensor(labels[label],dtype = torch.long)\n",
        "            \n",
        "    dict_data = {\n",
        "    'image': image,\n",
        "    'labels': labels\n",
        "    }\n",
        "    return dict_data\n",
        "  \n",
        "  # def get_label_encode(self):\n",
        "  #   d=dict()\n",
        "  #   for label in self.labels:            \n",
        "  #       le = LabelEncoder()\n",
        "  #       self.data[label]=le.fit_transform(self.data[label])\n",
        "  #       d[label]=le\n",
        "  #   return d\n",
        "    \n",
        "  def get_nclasses(self):\n",
        "    return self.data[self.labels].nunique().to_dict()"
      ],
      "execution_count": null,
      "outputs": []
    },
    {
      "cell_type": "markdown",
      "metadata": {
        "id": "xL6_VKE4Hpik"
      },
      "source": [
        "# BaseLines"
      ]
    },
    {
      "cell_type": "markdown",
      "metadata": {
        "id": "hKI3EnppZcNW"
      },
      "source": [
        "## Resnet200d Multi-label Classification"
      ]
    },
    {
      "cell_type": "code",
      "metadata": {
        "id": "0cJUGGT3d4-n"
      },
      "source": [
        "class MultiResNet(nn.Module):\n",
        "  def __init__(self,nclasses,labels):\n",
        "    super(MultiResNet,self).__init__()\n",
        "\n",
        "\n",
        "    self.img_transformer = timm.models.resnet.resnet200d(pretrained=True,num_classes = 0)\n",
        "    \n",
        "    self.dividers = nn.ModuleList()\n",
        "\n",
        "    for label in labels:\n",
        "      self.dividers.append(nn.Sequential(nn.Linear(2048,1024),\n",
        "                                         nn.ReLU(),\n",
        "                                         nn.Linear(1024,512)))\n",
        "\n",
        "    \n",
        "    self.fc1 = nn.Linear(512,3*512,bias = False)\n",
        "    self.mha = nn.MultiheadAttention(embed_dim = 512,\n",
        "                                     num_heads = 8)\n",
        "    self.classifiers = nn.ModuleDict()\n",
        "\n",
        "    for label in labels:\n",
        "      self.classifiers[label]=nn.Sequential(nn.BatchNorm1d(512),\n",
        "                                            nn.Linear(512,nclasses[label]))\n",
        "\n",
        "    \n",
        "  def forward(self,x):\n",
        "    x=self.img_transformer(x)\n",
        "    # x = nn.ReLU()(x)\n",
        "    z = []\n",
        "    for i in range(len(self.dividers)):\n",
        "      l = self.dividers[i](x)\n",
        "      l = l.unsqueeze(dim = 0)\n",
        "      z.append(l)\n",
        "    x = torch.cat(z,dim = 0)\n",
        "    x = self.fc1(x)\n",
        "    q, k, v = x.split(512,dim = 2)\n",
        "    z,_ = self.mha(q,k,v)\n",
        "    \n",
        "    y=dict()\n",
        "    for label,c in zip(self.classifiers.keys(),z):\n",
        "        y[label]=self.classifiers[label](c)\n",
        "    return y\n"
      ],
      "execution_count": null,
      "outputs": []
    },
    {
      "cell_type": "code",
      "metadata": {
        "id": "pkxSenfkWO5J"
      },
      "source": [
        "class_counts = train['species_label'].value_counts().to_dict()\n",
        "weights = torch.tensor([1/class_counts[label] for label in train['species_label'].values])\n",
        "\n",
        "train_dataset = MultiDataset(train,label_encoders,train_transformer)\n",
        "train_loader = torch.utils.data.DataLoader(train_dataset,batch_size=32,\n",
        "                                           sampler=torch.utils.data.WeightedRandomSampler(weights,num_samples=2160))\n",
        "\n",
        "class_counts = val['species_label'].value_counts().to_dict()\n",
        "weights = torch.tensor([1/class_counts[label] for label in val['species_label'].values])\n",
        "\n",
        "val_dataset = MultiDataset(val,label_encoders,val_transformer)\n",
        "val_loader = torch.utils.data.DataLoader(val_dataset,batch_size=16,\n",
        "                                         sampler=torch.utils.data.WeightedRandomSampler(weights,num_samples=720))"
      ],
      "execution_count": null,
      "outputs": []
    },
    {
      "cell_type": "code",
      "metadata": {
        "id": "NB_vgLAOqkGF"
      },
      "source": [
        "device = torch.device('cuda')\n",
        "multimodel = MultiResNet(train_dataset.nclasses,train_dataset.labels)\n",
        "multimodel.to(device)\n",
        "loss_fn = nn.CrossEntropyLoss()\n",
        "optim = torch.optim.Adam(filter(lambda p: p.requires_grad, multimodel.parameters()),lr = 1e-4)"
      ],
      "execution_count": null,
      "outputs": []
    },
    {
      "cell_type": "code",
      "metadata": {
        "id": "kg4Q2q1ErlXN",
        "cellView": "form"
      },
      "source": [
        "#@title Training Functions\n",
        "def get_loss(out,labels,loss_fn,weights):\n",
        "    loss=0\n",
        "    for label in labels:\n",
        "        loss+=loss_fn(out[label],labels[label])*weights[label]\n",
        "    return loss\n",
        "\n",
        "\n",
        "def cal_accuracy(out,labels,batch_size,epoch_acc):\n",
        "    for key in out:\n",
        "        q=(out[key].detach().argmax(axis=1)==labels[key]).sum().item()/batch_size\n",
        "        if not key in epoch_acc.keys():\n",
        "            epoch_acc[key]=q\n",
        "        else:\n",
        "            epoch_acc[key]+=q\n",
        "    return epoch_acc\n",
        "\n",
        "\n",
        "def get_avg_acc(epoch_acc,loader):\n",
        "    acc=0\n",
        "    for key in epoch_acc:\n",
        "        epoch_acc[key]/=len(loader)\n",
        "        acc+=epoch_acc[key]\n",
        "        \n",
        "    return acc/len(epoch_acc),epoch_acc\n",
        "\n",
        "def evaluate(model,loss_fn,loader):\n",
        "    model.eval()\n",
        "    epoch_acc={}\n",
        "    epoch_loss=0\n",
        "    with torch.no_grad():\n",
        "      for batch in loader:\n",
        "          img=batch[\"image\"].to(device)\n",
        "          labels=batch[\"labels\"]\n",
        "          for key in labels:\n",
        "              labels[key]=labels[key].to(device)\n",
        "          \n",
        "          out=model(img)\n",
        "          loss=get_loss(out,labels,loss_fn,loader.dataset.weights)\n",
        "          epoch_loss+=loss.item()\n",
        "          epoch_acc=cal_accuracy(out,labels,img.shape[0],epoch_acc)\n",
        "        \n",
        "    avg_acc,epoch_acc=get_avg_acc(epoch_acc,loader)\n",
        "    return (epoch_loss/len(loader),avg_acc,epoch_acc)\n",
        "\n",
        "def train_model(model, loss_fn, opt,trainloader,valloader, num_epochs=1):\n",
        "    stop_value = 10\n",
        "    since = time.time()\n",
        "    best_model=\"\"\n",
        "    # max_loss=np.inf\n",
        "    max_acc = 0.803\n",
        "    train={\"loss\":[],\"avg\":[],\"individual\":[]}\n",
        "    val={\"loss\":[],\"avg\":[],\"individual\":[]}\n",
        "    for epoch in range(num_epochs):\n",
        "        print(\"-\"*50)\n",
        "        print('Epoch {} of {}'.format(epoch+1, num_epochs))\n",
        "        epoch_loss=0\n",
        "        epoch_acc={}\n",
        "        model.train()\n",
        "        # Iterate over data.\n",
        "        for i,data in enumerate(trainloader):\n",
        "            opt.zero_grad()\n",
        "            img=data[\"image\"].to(device)\n",
        "            labels=data[\"labels\"]\n",
        "            for key in labels:\n",
        "                labels[key]=labels[key].to(device)\n",
        "            \n",
        "\n",
        "            out=model(img)\n",
        "            # print(out,labels,sep = '\\n\\n')\n",
        "            loss=get_loss(out,labels,loss_fn,trainloader.dataset.weights)\n",
        "            epoch_loss+=loss.detach().item()\n",
        "            loss.backward()\n",
        "            opt.step()\n",
        "            epoch_acc=cal_accuracy(out,labels,img.shape[0],epoch_acc)\n",
        "            \n",
        "        val_result=evaluate(model,loss_fn,valloader)\n",
        "        avg_acc,epoch_acc=get_avg_acc(epoch_acc,trainloader)\n",
        "        avg_loss=epoch_loss/len(trainloader)\n",
        "        print('Train')\n",
        "        print(f\"Loss: {avg_loss:.3f}\\nAccuracy:\\n\\tEach_label_acc->{epoch_acc}\\n\\tAvg acc->{avg_acc:.3f}\\n\")\n",
        "        print(\"-\"*100)\n",
        "        print(\"Validation\")\n",
        "        print(f\"Loss: {val_result[0]:.3f}\\nAccuracy: Each_label_acc->{val_result[2]}\\n\\tAvg acc->{val_result[1]:.3f}\")\n",
        "        \n",
        "        if val_result[1]>max_acc:\n",
        "          train[\"avg\"].append(avg_acc)\n",
        "          train[\"individual\"].append(epoch_acc)\n",
        "          train[\"loss\"].append(avg_loss)\n",
        "        \n",
        "          val[\"avg\"].append(val_result[1])\n",
        "          val[\"individual\"].append(val_result[2])\n",
        "          val[\"loss\"].append(val_result[0])\n",
        "        \n",
        "          max_acc=val_result[1]\n",
        "          torch.save(model.state_dict(),'multimodal.bin')\n",
        "          print(f'Saving weights with avg_acc -> {max_acc:.3f}')\n",
        "\n",
        "          stop_value = 10\n",
        "        if val_result[1]<max_acc:\n",
        "          stop_value -=1\n",
        "          print(f'Patience - {stop_value} max_avg_acc -> {max_acc:.3f} and epoch_acc -> {val_result[1]:.3f}')\n",
        "\n",
        "        if stop_value<=0:\n",
        "          print(\"\\nStopping\")\n",
        "          return train,val,best_model,max_acc\n",
        "        print(\"-\"*100)\n",
        "    time_elapsed = time.time() - since\n",
        "    print('Training complete in {:.0f}m {:.0f}s'.format(time_elapsed // 60, time_elapsed % 60))\n",
        "    return train,val,best_model,max_loss"
      ],
      "execution_count": null,
      "outputs": []
    },
    {
      "cell_type": "code",
      "metadata": {
        "id": "9mNrujYelwgb",
        "colab": {
          "base_uri": "https://localhost:8080/"
        },
        "outputId": "ad83e5d4-4366-4c5e-fcf3-c7d733a92faa"
      },
      "source": [
        "train_out,val_out,best_model,best_acc=train_model(multimodel, loss_fn, optim,train_loader,val_loader,num_epochs=140)"
      ],
      "execution_count": null,
      "outputs": [
        {
          "output_type": "stream",
          "text": [
            "--------------------------------------------------\n",
            "Epoch 1 of 140\n",
            "Train\n",
            "Loss: 0.027\n",
            "Accuracy:\n",
            "\tEach_label_acc->{'phylum_label': 1.0, 'class_label': 1.0, 'species_label': 0.9995404411764706, 'form_label': 0.9958639705882353, 'sample_label': 1.0}\n",
            "\tAvg acc->0.999\n",
            "\n",
            "----------------------------------------------------------------------------------------------------\n",
            "Validation\n",
            "Loss: 0.783\n",
            "Accuracy: Each_label_acc->{'phylum_label': 0.9127789046653144, 'class_label': 0.8742393509127789, 'species_label': 0.6779355420329053, 'form_label': 0.7554654045526259, 'sample_label': 0.8275862068965518}\n",
            "\tAvg acc->0.810\n",
            "Saving weights with avg_acc -> 0.810\n",
            "----------------------------------------------------------------------------------------------------\n",
            "--------------------------------------------------\n",
            "Epoch 2 of 140\n",
            "Train\n",
            "Loss: 0.030\n",
            "Accuracy:\n",
            "\tEach_label_acc->{'phylum_label': 0.9995404411764706, 'class_label': 1.0, 'species_label': 1.0, 'form_label': 0.9940257352941176, 'sample_label': 1.0}\n",
            "\tAvg acc->0.999\n",
            "\n",
            "----------------------------------------------------------------------------------------------------\n",
            "Validation\n",
            "Loss: 0.771\n",
            "Accuracy: Each_label_acc->{'phylum_label': 0.922920892494929, 'class_label': 0.872210953346856, 'species_label': 0.6901059274284428, 'form_label': 0.7613252197430699, 'sample_label': 0.8296146044624748}\n",
            "\tAvg acc->0.815\n",
            "Saving weights with avg_acc -> 0.815\n",
            "----------------------------------------------------------------------------------------------------\n",
            "--------------------------------------------------\n",
            "Epoch 3 of 140\n",
            "Train\n",
            "Loss: 0.026\n",
            "Accuracy:\n",
            "\tEach_label_acc->{'phylum_label': 1.0, 'class_label': 1.0, 'species_label': 0.9990808823529411, 'form_label': 0.9949448529411765, 'sample_label': 0.9995404411764706}\n",
            "\tAvg acc->0.999\n",
            "\n",
            "----------------------------------------------------------------------------------------------------\n",
            "Validation\n",
            "Loss: 0.770\n",
            "Accuracy: Each_label_acc->{'phylum_label': 0.9290060851926978, 'class_label': 0.8843813387423936, 'species_label': 0.6860491322965969, 'form_label': 0.7615505972503946, 'sample_label': 0.8336713995943206}\n",
            "\tAvg acc->0.819\n",
            "Saving weights with avg_acc -> 0.819\n",
            "----------------------------------------------------------------------------------------------------\n",
            "--------------------------------------------------\n",
            "Epoch 4 of 140\n",
            "Train\n",
            "Loss: 0.028\n",
            "Accuracy:\n",
            "\tEach_label_acc->{'phylum_label': 1.0, 'class_label': 1.0, 'species_label': 0.9990808823529411, 'form_label': 0.9940257352941176, 'sample_label': 0.9986213235294118}\n",
            "\tAvg acc->0.998\n",
            "\n",
            "----------------------------------------------------------------------------------------------------\n",
            "Validation\n",
            "Loss: 0.770\n",
            "Accuracy: Each_label_acc->{'phylum_label': 0.9188640973630832, 'class_label': 0.8742393509127789, 'species_label': 0.6799639395988282, 'form_label': 0.7453234167230114, 'sample_label': 0.8356997971602435}\n",
            "\tAvg acc->0.811\n",
            "Patience - 9 max_avg_acc -> 0.819 and epoch_acc -> 0.811\n",
            "----------------------------------------------------------------------------------------------------\n",
            "--------------------------------------------------\n",
            "Epoch 5 of 140\n",
            "Train\n",
            "Loss: 0.028\n",
            "Accuracy:\n",
            "\tEach_label_acc->{'phylum_label': 1.0, 'class_label': 1.0, 'species_label': 0.9986213235294118, 'form_label': 0.9931066176470589, 'sample_label': 0.9995404411764706}\n",
            "\tAvg acc->0.998\n",
            "\n",
            "----------------------------------------------------------------------------------------------------\n",
            "Validation\n",
            "Loss: 0.776\n",
            "Accuracy: Each_label_acc->{'phylum_label': 0.9148073022312373, 'class_label': 0.8661257606490872, 'species_label': 0.6759071444669824, 'form_label': 0.7595221996844718, 'sample_label': 0.8377281947261664}\n",
            "\tAvg acc->0.811\n",
            "Patience - 8 max_avg_acc -> 0.819 and epoch_acc -> 0.811\n",
            "----------------------------------------------------------------------------------------------------\n",
            "--------------------------------------------------\n",
            "Epoch 6 of 140\n",
            "Train\n",
            "Loss: 0.030\n",
            "Accuracy:\n",
            "\tEach_label_acc->{'phylum_label': 1.0, 'class_label': 1.0, 'species_label': 0.9995404411764706, 'form_label': 0.9908088235294118, 'sample_label': 0.9990808823529411}\n",
            "\tAvg acc->0.998\n",
            "\n",
            "----------------------------------------------------------------------------------------------------\n",
            "Validation\n",
            "Loss: 0.780\n",
            "Accuracy: Each_label_acc->{'phylum_label': 0.9107505070993915, 'class_label': 0.8661257606490872, 'species_label': 0.6982195176921344, 'form_label': 0.759296822177147, 'sample_label': 0.8174442190669373}\n",
            "\tAvg acc->0.810\n",
            "Patience - 7 max_avg_acc -> 0.819 and epoch_acc -> 0.810\n",
            "----------------------------------------------------------------------------------------------------\n",
            "--------------------------------------------------\n",
            "Epoch 7 of 140\n",
            "Train\n",
            "Loss: 0.027\n",
            "Accuracy:\n",
            "\tEach_label_acc->{'phylum_label': 0.9995404411764706, 'class_label': 1.0, 'species_label': 0.9990808823529411, 'form_label': 0.9954044117647058, 'sample_label': 0.9995404411764706}\n",
            "\tAvg acc->0.999\n",
            "\n",
            "----------------------------------------------------------------------------------------------------\n",
            "Validation\n",
            "Loss: 0.776\n",
            "Accuracy: Each_label_acc->{'phylum_label': 0.9168356997971603, 'class_label': 0.8640973630831643, 'species_label': 0.6718503493351365, 'form_label': 0.7635789948163175, 'sample_label': 0.8296146044624748}\n",
            "\tAvg acc->0.809\n",
            "Patience - 6 max_avg_acc -> 0.819 and epoch_acc -> 0.809\n",
            "----------------------------------------------------------------------------------------------------\n",
            "--------------------------------------------------\n",
            "Epoch 8 of 140\n",
            "Train\n",
            "Loss: 0.029\n",
            "Accuracy:\n",
            "\tEach_label_acc->{'phylum_label': 1.0, 'class_label': 1.0, 'species_label': 1.0, 'form_label': 0.9921875, 'sample_label': 0.9990808823529411}\n",
            "\tAvg acc->0.998\n",
            "\n",
            "----------------------------------------------------------------------------------------------------\n",
            "Validation\n",
            "Loss: 0.771\n",
            "Accuracy: Each_label_acc->{'phylum_label': 0.9208924949290062, 'class_label': 0.8803245436105477, 'species_label': 0.6718503493351364, 'form_label': 0.7694388100067616, 'sample_label': 0.8275862068965518}\n",
            "\tAvg acc->0.814\n",
            "Patience - 5 max_avg_acc -> 0.819 and epoch_acc -> 0.814\n",
            "----------------------------------------------------------------------------------------------------\n",
            "--------------------------------------------------\n",
            "Epoch 9 of 140\n",
            "Train\n",
            "Loss: 0.028\n",
            "Accuracy:\n",
            "\tEach_label_acc->{'phylum_label': 1.0, 'class_label': 1.0, 'species_label': 0.9995404411764706, 'form_label': 0.9912683823529411, 'sample_label': 0.9986213235294118}\n",
            "\tAvg acc->0.998\n",
            "\n",
            "----------------------------------------------------------------------------------------------------\n",
            "Validation\n",
            "Loss: 0.779\n",
            "Accuracy: Each_label_acc->{'phylum_label': 0.9168356997971603, 'class_label': 0.8661257606490873, 'species_label': 0.6819923371647512, 'form_label': 0.7716925850800093, 'sample_label': 0.8356997971602435}\n",
            "\tAvg acc->0.814\n",
            "Patience - 4 max_avg_acc -> 0.819 and epoch_acc -> 0.814\n",
            "----------------------------------------------------------------------------------------------------\n",
            "--------------------------------------------------\n",
            "Epoch 10 of 140\n",
            "Train\n",
            "Loss: 0.027\n",
            "Accuracy:\n",
            "\tEach_label_acc->{'phylum_label': 1.0, 'class_label': 1.0, 'species_label': 0.9990808823529411, 'form_label': 0.9944852941176471, 'sample_label': 0.9995404411764706}\n",
            "\tAvg acc->0.999\n",
            "\n",
            "----------------------------------------------------------------------------------------------------\n",
            "Validation\n",
            "Loss: 0.784\n",
            "Accuracy: Each_label_acc->{'phylum_label': 0.9148073022312374, 'class_label': 0.8600405679513186, 'species_label': 0.6801893171061529, 'form_label': 0.7514086094207802, 'sample_label': 0.8316430020283977}\n",
            "\tAvg acc->0.808\n",
            "Patience - 3 max_avg_acc -> 0.819 and epoch_acc -> 0.808\n",
            "----------------------------------------------------------------------------------------------------\n",
            "--------------------------------------------------\n",
            "Epoch 11 of 140\n",
            "Train\n",
            "Loss: 0.028\n",
            "Accuracy:\n",
            "\tEach_label_acc->{'phylum_label': 0.9995404411764706, 'class_label': 1.0, 'species_label': 0.9977022058823529, 'form_label': 0.9940257352941176, 'sample_label': 1.0}\n",
            "\tAvg acc->0.998\n",
            "\n",
            "----------------------------------------------------------------------------------------------------\n",
            "Validation\n",
            "Loss: 0.780\n",
            "Accuracy: Each_label_acc->{'phylum_label': 0.9148073022312374, 'class_label': 0.8701825557809332, 'species_label': 0.6759071444669824, 'form_label': 0.7674104124408386, 'sample_label': 0.8275862068965518}\n",
            "\tAvg acc->0.811\n",
            "Patience - 2 max_avg_acc -> 0.819 and epoch_acc -> 0.811\n",
            "----------------------------------------------------------------------------------------------------\n",
            "--------------------------------------------------\n",
            "Epoch 12 of 140\n",
            "Train\n",
            "Loss: 0.027\n",
            "Accuracy:\n",
            "\tEach_label_acc->{'phylum_label': 1.0, 'class_label': 1.0, 'species_label': 0.9990808823529411, 'form_label': 0.9958639705882353, 'sample_label': 1.0}\n",
            "\tAvg acc->0.999\n",
            "\n",
            "----------------------------------------------------------------------------------------------------\n",
            "Validation\n",
            "Loss: 0.775\n",
            "Accuracy: Each_label_acc->{'phylum_label': 0.9148073022312374, 'class_label': 0.8661257606490873, 'species_label': 0.6819923371647509, 'form_label': 0.7473518142889343, 'sample_label': 0.8235294117647061}\n",
            "\tAvg acc->0.807\n",
            "Patience - 1 max_avg_acc -> 0.819 and epoch_acc -> 0.807\n",
            "----------------------------------------------------------------------------------------------------\n",
            "--------------------------------------------------\n",
            "Epoch 13 of 140\n",
            "Train\n",
            "Loss: 0.028\n",
            "Accuracy:\n",
            "\tEach_label_acc->{'phylum_label': 0.9995404411764706, 'class_label': 1.0, 'species_label': 0.9986213235294118, 'form_label': 0.9935661764705882, 'sample_label': 0.9995404411764706}\n",
            "\tAvg acc->0.998\n",
            "\n",
            "----------------------------------------------------------------------------------------------------\n",
            "Validation\n",
            "Loss: 0.793\n",
            "Accuracy: Each_label_acc->{'phylum_label': 0.9107505070993915, 'class_label': 0.8681541582150103, 'species_label': 0.6677935542032906, 'form_label': 0.7554654045526259, 'sample_label': 0.8215010141987831}\n",
            "\tAvg acc->0.805\n",
            "Patience - 0 max_avg_acc -> 0.819 and epoch_acc -> 0.805\n",
            "\n",
            "Stopping\n"
          ],
          "name": "stdout"
        }
      ]
    },
    {
      "cell_type": "code",
      "metadata": {
        "id": "PDdWfleZmC5r"
      },
      "source": [
        "multimodel = MultiResNet(train_dataset.nclasses,train_dataset.labels)\n",
        "multimodel.load_state_dict(torch.load('/content/multimodal.bin'))\n",
        "multimodel.to(device)\n",
        "preds, true = [],[]\n",
        "val_loader = DataLoader(val_dataset,batch_size=17)\n",
        "multimodel.eval()\n",
        "with torch.no_grad():\n",
        "  for batch in val_loader:\n",
        "    img, labels = batch['image'], batch['labels']\n",
        "    img = img.to(device)\n",
        "    pred = multimodel(img)\n",
        "    preds.append(pred)\n",
        "    true.append(labels)\n"
      ],
      "execution_count": null,
      "outputs": []
    },
    {
      "cell_type": "code",
      "metadata": {
        "id": "m7E8QiIZmCgs"
      },
      "source": [
        "y_pred = {'phylum_label':[], 'class_label':[], 'species_label':[], 'form_label':[], 'sample_label':[]}\n",
        "y_true = {'phylum_label':[], 'class_label':[], 'species_label':[], 'form_label':[], 'sample_label':[]}"
      ],
      "execution_count": null,
      "outputs": []
    },
    {
      "cell_type": "code",
      "metadata": {
        "id": "Wkxi154slzil"
      },
      "source": [
        "for i in range(len(preds)):\n",
        "  for key in y_pred:\n",
        "    y_pred[key].extend(preds[i][key].argmax(axis = 1).cpu().tolist())\n",
        "    y_true[key].extend(true[i][key].tolist())"
      ],
      "execution_count": null,
      "outputs": []
    },
    {
      "cell_type": "code",
      "metadata": {
        "id": "cvCOtSk9kVmU",
        "colab": {
          "base_uri": "https://localhost:8080/"
        },
        "outputId": "a5299b54-423d-425a-baaf-886b9ee6807f"
      },
      "source": [
        "from sklearn.metrics import classification_report, confusion_matrix\n",
        "y = '_label'\n",
        "for label in y_pred:\n",
        "  label_le = label.replace(y,'')\n",
        "  classes = label_encoders[label_le].inverse_transform(np.unique(y_true[label]))\n",
        "  print(f\"\\nClassification Report for {label}:\\n\")\n",
        "  # try:\n",
        "  print(classification_report(y_true[label],y_pred[label],target_names=classes))\n",
        "  # except Exception as e:\n",
        "  #   print(classification_report(y_true[label],y_pred[label]))\n",
        "  print('='*95)"
      ],
      "execution_count": null,
      "outputs": [
        {
          "output_type": "stream",
          "text": [
            "\n",
            "Classification Report for phylum_label:\n",
            "\n",
            "                   precision    recall  f1-score   support\n",
            "\n",
            "        Amoebozoa       0.89      0.89      0.89        35\n",
            "      Apicomplexa       0.94      1.00      0.97       245\n",
            "         Nematoda       0.91      0.97      0.94       120\n",
            "  Platyhelminthes       0.92      0.70      0.80        50\n",
            "Sarcomastigophora       1.00      0.69      0.81        35\n",
            "\n",
            "         accuracy                           0.93       485\n",
            "        macro avg       0.93      0.85      0.88       485\n",
            "     weighted avg       0.93      0.93      0.92       485\n",
            "\n",
            "===============================================================================================\n",
            "\n",
            "Classification Report for class_label:\n",
            "\n",
            "               precision    recall  f1-score   support\n",
            "\n",
            " Aconoidasida       0.93      1.00      0.96       165\n",
            "      Cestoda       0.97      0.72      0.83        50\n",
            "  Chromadorea       0.81      0.85      0.83        95\n",
            "  Conoidasida       0.91      0.96      0.93        80\n",
            "      Enoplea       0.54      0.56      0.55        25\n",
            "    Tubulinea       0.91      0.86      0.88        35\n",
            "Zooflagellate       0.96      0.71      0.82        35\n",
            "\n",
            "     accuracy                           0.88       485\n",
            "    macro avg       0.86      0.81      0.83       485\n",
            " weighted avg       0.89      0.88      0.88       485\n",
            "\n",
            "===============================================================================================\n",
            "\n",
            "Classification Report for species_label:\n",
            "\n",
            "                           precision    recall  f1-score   support\n",
            "\n",
            "         Ancyclostoma sp.       0.42      0.55      0.48        20\n",
            "     Ascaris lumbricoides       0.88      0.83      0.85        35\n",
            "      Cryptosporidium sp.       0.89      0.40      0.55        20\n",
            "  Cyclospora cayetanensis       0.71      1.00      0.83        40\n",
            "  Dibothriocephalus latus       0.81      0.68      0.74        25\n",
            "    Entamoeba histolytica       0.87      0.94      0.90        35\n",
            "  Enterobius vermicularis       0.42      0.25      0.31        20\n",
            "       Giardia duodenalis       1.00      0.69      0.81        35\n",
            "          Hymenolepis spp       0.94      0.60      0.73        25\n",
            "    Plasmodium falciparum       0.78      0.71      0.74        45\n",
            "      Plasmodium malariae       0.67      0.70      0.68        40\n",
            "         Plasmodium ovale       0.35      0.49      0.41        35\n",
            "         Plasmodium vivax       0.51      0.56      0.53        45\n",
            "          Sarcocystis sp.       1.00      0.80      0.89        20\n",
            "Strongyloides stercoralis       0.78      0.70      0.74        20\n",
            "      Trichuris Trichuria       0.50      0.72      0.59        25\n",
            "\n",
            "                 accuracy                           0.68       485\n",
            "                macro avg       0.72      0.66      0.68       485\n",
            "             weighted avg       0.72      0.68      0.69       485\n",
            "\n",
            "===============================================================================================\n",
            "\n",
            "Classification Report for form_label:\n",
            "\n",
            "              precision    recall  f1-score   support\n",
            "\n",
            "       adult       0.73      0.65      0.69        55\n",
            "        cyst       0.90      0.60      0.72        45\n",
            "         egg       0.88      0.88      0.88        80\n",
            "  gametocyte       0.47      0.69      0.56        35\n",
            "       larva       0.72      0.80      0.76        35\n",
            "     oocysts       0.80      0.99      0.88        70\n",
            "  sarcocysts       1.00      1.00      1.00        10\n",
            "    schizont       0.91      0.55      0.68        55\n",
            "trophozoites       0.72      0.77      0.74       100\n",
            "\n",
            "    accuracy                           0.76       485\n",
            "   macro avg       0.79      0.77      0.77       485\n",
            "weighted avg       0.78      0.76      0.76       485\n",
            "\n",
            "===============================================================================================\n",
            "\n",
            "Classification Report for sample_label:\n",
            "\n",
            "               precision    recall  f1-score   support\n",
            "\n",
            "        blood       0.94      0.98      0.96       165\n",
            "        feces       0.72      0.93      0.81       150\n",
            "    intestine       0.76      0.59      0.66        70\n",
            "        lungs       1.00      0.27      0.42        15\n",
            "muscle tissue       1.00      1.00      1.00        10\n",
            "    wet mount       0.90      0.63      0.74        75\n",
            "\n",
            "     accuracy                           0.83       485\n",
            "    macro avg       0.89      0.73      0.77       485\n",
            " weighted avg       0.84      0.83      0.82       485\n",
            "\n",
            "===============================================================================================\n"
          ],
          "name": "stdout"
        }
      ]
    }
  ]
}