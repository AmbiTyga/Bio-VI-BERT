{
  "nbformat": 4,
  "nbformat_minor": 0,
  "metadata": {
    "colab": {
      "name": "Pre-trained Image Transformer",
      "provenance": [],
      "collapsed_sections": [],
      "machine_shape": "hm",
      "include_colab_link": true
    },
    "kernelspec": {
      "name": "python3",
      "display_name": "Python 3"
    },
    "accelerator": "GPU"
  },
  "cells": [
    {
      "cell_type": "markdown",
      "metadata": {
        "id": "view-in-github",
        "colab_type": "text"
      },
      "source": [
        "<a href=\"https://colab.research.google.com/github/AmbiTyga/Bio-VI-BERT/blob/main/Pre_trained_Image_Transformer.ipynb\" target=\"_parent\"><img src=\"https://colab.research.google.com/assets/colab-badge.svg\" alt=\"Open In Colab\"/></a>"
      ]
    },
    {
      "cell_type": "code",
      "metadata": {
        "cellView": "form",
        "id": "BUVEtoVMamFa"
      },
      "source": [
        "#@title EarlyStopping\r\n",
        "class EarlyStopping(object):\r\n",
        "    def __init__(self, mode='min', min_delta=0, patience=10, percentage=False):\r\n",
        "        self.mode = mode\r\n",
        "        self.min_delta = min_delta\r\n",
        "        self.patience = patience\r\n",
        "        self.best = None\r\n",
        "        self.num_bad_epochs = 0\r\n",
        "        self.is_better = None\r\n",
        "        self._init_is_better(mode, min_delta, percentage)\r\n",
        "\r\n",
        "        if patience == 0:\r\n",
        "            self.is_better = lambda a, b: True\r\n",
        "            self.step = lambda a: False\r\n",
        "\r\n",
        "    def step(self, metrics):\r\n",
        "        if self.best is None:\r\n",
        "            self.best = metrics\r\n",
        "            return False\r\n",
        "\r\n",
        "        if torch.isnan(metrics):\r\n",
        "            return True\r\n",
        "\r\n",
        "        if self.is_better(metrics, self.best):\r\n",
        "            self.num_bad_epochs = 0\r\n",
        "            self.best = metrics\r\n",
        "        else:\r\n",
        "            self.num_bad_epochs += 1\r\n",
        "\r\n",
        "        if self.num_bad_epochs >= self.patience:\r\n",
        "            return True\r\n",
        "\r\n",
        "        return False\r\n",
        "\r\n",
        "    def _init_is_better(self, mode, min_delta, percentage):\r\n",
        "        if mode not in {'min', 'max'}:\r\n",
        "            raise ValueError('mode ' + mode + ' is unknown!')\r\n",
        "        if not percentage:\r\n",
        "            if mode == 'min':\r\n",
        "                self.is_better = lambda a, best: a < best - min_delta\r\n",
        "            if mode == 'max':\r\n",
        "                self.is_better = lambda a, best: a > best + min_delta\r\n",
        "        else:\r\n",
        "            if mode == 'min':\r\n",
        "                self.is_better = lambda a, best: a < best - (\r\n",
        "                            best * min_delta / 100)\r\n",
        "            if mode == 'max':\r\n",
        "                self.is_better = lambda a, best: a > best + (\r\n",
        "                            best * min_delta / 100)"
      ],
      "execution_count": 1,
      "outputs": []
    },
    {
      "cell_type": "code",
      "metadata": {
        "id": "lK7qSJkK8HBe",
        "outputId": "4b4a0a27-a781-4414-c49e-100b07b9a41c",
        "colab": {
          "base_uri": "https://localhost:8080/"
        }
      },
      "source": [
        "!git clone https://github.com/rwightman/pytorch-image-models.git\r\n",
        "%cd pytorch-image-models\r\n",
        "!pip install -r requirements.txt -q\r\n",
        "!python setup.py install -q\r\n",
        "%cd ..\r\n",
        "\r\n",
        "import os\r\n",
        "os.kill(os.getpid(), 9)\r\n",
        "# Restart Runtime"
      ],
      "execution_count": null,
      "outputs": [
        {
          "output_type": "stream",
          "text": [
            "Cloning into 'pytorch-image-models'...\n",
            "remote: Enumerating objects: 942, done.\u001b[K\n",
            "remote: Counting objects: 100% (942/942), done.\u001b[K\n",
            "remote: Compressing objects: 100% (90/90), done.\u001b[K\n",
            "remote: Total 5744 (delta 724), reused 915 (delta 707), pack-reused 4802\u001b[K\n",
            "Receiving objects: 100% (5744/5744), 16.74 MiB | 31.34 MiB/s, done.\n",
            "Resolving deltas: 100% (4196/4196), done.\n",
            "/content/pytorch-image-models\n",
            "running install\n",
            "running bdist_egg\n",
            "running egg_info\n",
            "creating timm.egg-info\n",
            "writing timm.egg-info/PKG-INFO\n",
            "writing dependency_links to timm.egg-info/dependency_links.txt\n",
            "writing requirements to timm.egg-info/requires.txt\n",
            "writing top-level names to timm.egg-info/top_level.txt\n",
            "writing manifest file 'timm.egg-info/SOURCES.txt'\n",
            "reading manifest template 'MANIFEST.in'\n",
            "writing manifest file 'timm.egg-info/SOURCES.txt'\n",
            "installing library code to build/bdist.linux-x86_64/egg\n",
            "running install_lib\n",
            "running build_py\n",
            "creating build\n",
            "creating build/lib\n",
            "creating build/lib/timm\n",
            "copying timm/version.py -> build/lib/timm\n",
            "copying timm/__init__.py -> build/lib/timm\n",
            "creating build/lib/timm/data\n",
            "copying timm/data/random_erasing.py -> build/lib/timm/data\n",
            "copying timm/data/real_labels.py -> build/lib/timm/data\n",
            "copying timm/data/constants.py -> build/lib/timm/data\n",
            "copying timm/data/mixup.py -> build/lib/timm/data\n",
            "copying timm/data/tf_preprocessing.py -> build/lib/timm/data\n",
            "copying timm/data/auto_augment.py -> build/lib/timm/data\n",
            "copying timm/data/dataset.py -> build/lib/timm/data\n",
            "copying timm/data/config.py -> build/lib/timm/data\n",
            "copying timm/data/distributed_sampler.py -> build/lib/timm/data\n",
            "copying timm/data/transforms.py -> build/lib/timm/data\n",
            "copying timm/data/loader.py -> build/lib/timm/data\n",
            "copying timm/data/transforms_factory.py -> build/lib/timm/data\n",
            "copying timm/data/dataset_factory.py -> build/lib/timm/data\n",
            "copying timm/data/__init__.py -> build/lib/timm/data\n",
            "creating build/lib/timm/loss\n",
            "copying timm/loss/cross_entropy.py -> build/lib/timm/loss\n",
            "copying timm/loss/asymmetric_loss.py -> build/lib/timm/loss\n",
            "copying timm/loss/jsd.py -> build/lib/timm/loss\n",
            "copying timm/loss/__init__.py -> build/lib/timm/loss\n",
            "creating build/lib/timm/models\n",
            "copying timm/models/vgg.py -> build/lib/timm/models\n",
            "copying timm/models/sknet.py -> build/lib/timm/models\n",
            "copying timm/models/nfnet.py -> build/lib/timm/models\n",
            "copying timm/models/gluon_xception.py -> build/lib/timm/models\n",
            "copying timm/models/efficientnet_blocks.py -> build/lib/timm/models\n",
            "copying timm/models/hrnet.py -> build/lib/timm/models\n",
            "copying timm/models/inception_v4.py -> build/lib/timm/models\n",
            "copying timm/models/factory.py -> build/lib/timm/models\n",
            "copying timm/models/mobilenetv3.py -> build/lib/timm/models\n",
            "copying timm/models/res2net.py -> build/lib/timm/models\n",
            "copying timm/models/byobnet.py -> build/lib/timm/models\n",
            "copying timm/models/gluon_resnet.py -> build/lib/timm/models\n",
            "copying timm/models/resnest.py -> build/lib/timm/models\n",
            "copying timm/models/regnet.py -> build/lib/timm/models\n",
            "copying timm/models/hardcorenas.py -> build/lib/timm/models\n",
            "copying timm/models/cspnet.py -> build/lib/timm/models\n",
            "copying timm/models/pnasnet.py -> build/lib/timm/models\n",
            "copying timm/models/senet.py -> build/lib/timm/models\n",
            "copying timm/models/inception_resnet_v2.py -> build/lib/timm/models\n",
            "copying timm/models/xception_aligned.py -> build/lib/timm/models\n",
            "copying timm/models/features.py -> build/lib/timm/models\n",
            "copying timm/models/resnet.py -> build/lib/timm/models\n",
            "copying timm/models/efficientnet_builder.py -> build/lib/timm/models\n",
            "copying timm/models/xception.py -> build/lib/timm/models\n",
            "copying timm/models/vision_transformer.py -> build/lib/timm/models\n",
            "copying timm/models/dpn.py -> build/lib/timm/models\n",
            "copying timm/models/tresnet.py -> build/lib/timm/models\n",
            "copying timm/models/efficientnet.py -> build/lib/timm/models\n",
            "copying timm/models/vovnet.py -> build/lib/timm/models\n",
            "copying timm/models/selecsls.py -> build/lib/timm/models\n",
            "copying timm/models/densenet.py -> build/lib/timm/models\n",
            "copying timm/models/inception_v3.py -> build/lib/timm/models\n",
            "copying timm/models/dla.py -> build/lib/timm/models\n",
            "copying timm/models/registry.py -> build/lib/timm/models\n",
            "copying timm/models/rexnet.py -> build/lib/timm/models\n",
            "copying timm/models/__init__.py -> build/lib/timm/models\n",
            "copying timm/models/nasnet.py -> build/lib/timm/models\n",
            "copying timm/models/helpers.py -> build/lib/timm/models\n",
            "copying timm/models/resnetv2.py -> build/lib/timm/models\n",
            "creating build/lib/timm/utils\n",
            "copying timm/utils/model_ema.py -> build/lib/timm/utils\n",
            "copying timm/utils/model.py -> build/lib/timm/utils\n",
            "copying timm/utils/misc.py -> build/lib/timm/utils\n",
            "copying timm/utils/jit.py -> build/lib/timm/utils\n",
            "copying timm/utils/clip_grad.py -> build/lib/timm/utils\n",
            "copying timm/utils/distributed.py -> build/lib/timm/utils\n",
            "copying timm/utils/cuda.py -> build/lib/timm/utils\n",
            "copying timm/utils/checkpoint_saver.py -> build/lib/timm/utils\n",
            "copying timm/utils/agc.py -> build/lib/timm/utils\n",
            "copying timm/utils/metrics.py -> build/lib/timm/utils\n",
            "copying timm/utils/log.py -> build/lib/timm/utils\n",
            "copying timm/utils/summary.py -> build/lib/timm/utils\n",
            "copying timm/utils/__init__.py -> build/lib/timm/utils\n",
            "creating build/lib/timm/optim\n",
            "copying timm/optim/adamp.py -> build/lib/timm/optim\n",
            "copying timm/optim/adahessian.py -> build/lib/timm/optim\n",
            "copying timm/optim/sgdp.py -> build/lib/timm/optim\n",
            "copying timm/optim/adamw.py -> build/lib/timm/optim\n",
            "copying timm/optim/rmsprop_tf.py -> build/lib/timm/optim\n",
            "copying timm/optim/novograd.py -> build/lib/timm/optim\n",
            "copying timm/optim/lookahead.py -> build/lib/timm/optim\n",
            "copying timm/optim/adafactor.py -> build/lib/timm/optim\n",
            "copying timm/optim/nadam.py -> build/lib/timm/optim\n",
            "copying timm/optim/radam.py -> build/lib/timm/optim\n",
            "copying timm/optim/optim_factory.py -> build/lib/timm/optim\n",
            "copying timm/optim/nvnovograd.py -> build/lib/timm/optim\n",
            "copying timm/optim/__init__.py -> build/lib/timm/optim\n",
            "creating build/lib/timm/scheduler\n",
            "copying timm/scheduler/scheduler_factory.py -> build/lib/timm/scheduler\n",
            "copying timm/scheduler/tanh_lr.py -> build/lib/timm/scheduler\n",
            "copying timm/scheduler/cosine_lr.py -> build/lib/timm/scheduler\n",
            "copying timm/scheduler/step_lr.py -> build/lib/timm/scheduler\n",
            "copying timm/scheduler/scheduler.py -> build/lib/timm/scheduler\n",
            "copying timm/scheduler/__init__.py -> build/lib/timm/scheduler\n",
            "copying timm/scheduler/plateau_lr.py -> build/lib/timm/scheduler\n",
            "creating build/lib/timm/data/parsers\n",
            "copying timm/data/parsers/parser_tfds.py -> build/lib/timm/data/parsers\n",
            "copying timm/data/parsers/constants.py -> build/lib/timm/data/parsers\n",
            "copying timm/data/parsers/class_map.py -> build/lib/timm/data/parsers\n",
            "copying timm/data/parsers/parser_image_in_tar.py -> build/lib/timm/data/parsers\n",
            "copying timm/data/parsers/parser.py -> build/lib/timm/data/parsers\n",
            "copying timm/data/parsers/parser_image_tar.py -> build/lib/timm/data/parsers\n",
            "copying timm/data/parsers/parser_image_folder.py -> build/lib/timm/data/parsers\n",
            "copying timm/data/parsers/__init__.py -> build/lib/timm/data/parsers\n",
            "copying timm/data/parsers/parser_factory.py -> build/lib/timm/data/parsers\n",
            "creating build/lib/timm/models/layers\n",
            "copying timm/models/layers/activations_me.py -> build/lib/timm/models/layers\n",
            "copying timm/models/layers/activations_jit.py -> build/lib/timm/models/layers\n",
            "copying timm/models/layers/se.py -> build/lib/timm/models/layers\n",
            "copying timm/models/layers/blur_pool.py -> build/lib/timm/models/layers\n",
            "copying timm/models/layers/activations.py -> build/lib/timm/models/layers\n",
            "copying timm/models/layers/create_norm_act.py -> build/lib/timm/models/layers\n",
            "copying timm/models/layers/evo_norm.py -> build/lib/timm/models/layers\n",
            "copying timm/models/layers/separable_conv.py -> build/lib/timm/models/layers\n",
            "copying timm/models/layers/split_batchnorm.py -> build/lib/timm/models/layers\n",
            "copying timm/models/layers/conv_bn_act.py -> build/lib/timm/models/layers\n",
            "copying timm/models/layers/anti_aliasing.py -> build/lib/timm/models/layers\n",
            "copying timm/models/layers/eca.py -> build/lib/timm/models/layers\n",
            "copying timm/models/layers/classifier.py -> build/lib/timm/models/layers\n",
            "copying timm/models/layers/padding.py -> build/lib/timm/models/layers\n",
            "copying timm/models/layers/norm_act.py -> build/lib/timm/models/layers\n",
            "copying timm/models/layers/mixed_conv2d.py -> build/lib/timm/models/layers\n",
            "copying timm/models/layers/space_to_depth.py -> build/lib/timm/models/layers\n",
            "copying timm/models/layers/split_attn.py -> build/lib/timm/models/layers\n",
            "copying timm/models/layers/create_conv2d.py -> build/lib/timm/models/layers\n",
            "copying timm/models/layers/cond_conv2d.py -> build/lib/timm/models/layers\n",
            "copying timm/models/layers/config.py -> build/lib/timm/models/layers\n",
            "copying timm/models/layers/selective_kernel.py -> build/lib/timm/models/layers\n",
            "copying timm/models/layers/adaptive_avgmax_pool.py -> build/lib/timm/models/layers\n",
            "copying timm/models/layers/pool2d_same.py -> build/lib/timm/models/layers\n",
            "copying timm/models/layers/linear.py -> build/lib/timm/models/layers\n",
            "copying timm/models/layers/cbam.py -> build/lib/timm/models/layers\n",
            "copying timm/models/layers/test_time_pool.py -> build/lib/timm/models/layers\n",
            "copying timm/models/layers/weight_init.py -> build/lib/timm/models/layers\n",
            "copying timm/models/layers/create_act.py -> build/lib/timm/models/layers\n",
            "copying timm/models/layers/drop.py -> build/lib/timm/models/layers\n",
            "copying timm/models/layers/median_pool.py -> build/lib/timm/models/layers\n",
            "copying timm/models/layers/__init__.py -> build/lib/timm/models/layers\n",
            "copying timm/models/layers/inplace_abn.py -> build/lib/timm/models/layers\n",
            "copying timm/models/layers/create_attn.py -> build/lib/timm/models/layers\n",
            "copying timm/models/layers/helpers.py -> build/lib/timm/models/layers\n",
            "copying timm/models/layers/conv2d_same.py -> build/lib/timm/models/layers\n",
            "copying timm/models/layers/std_conv.py -> build/lib/timm/models/layers\n",
            "creating build/lib/timm/models/pruned\n",
            "copying timm/models/pruned/ecaresnet101d_pruned.txt -> build/lib/timm/models/pruned\n",
            "copying timm/models/pruned/ecaresnet50d_pruned.txt -> build/lib/timm/models/pruned\n",
            "copying timm/models/pruned/efficientnet_b1_pruned.txt -> build/lib/timm/models/pruned\n",
            "copying timm/models/pruned/efficientnet_b2_pruned.txt -> build/lib/timm/models/pruned\n",
            "copying timm/models/pruned/efficientnet_b3_pruned.txt -> build/lib/timm/models/pruned\n",
            "creating build/bdist.linux-x86_64\n",
            "creating build/bdist.linux-x86_64/egg\n",
            "creating build/bdist.linux-x86_64/egg/timm\n",
            "creating build/bdist.linux-x86_64/egg/timm/data\n",
            "creating build/bdist.linux-x86_64/egg/timm/data/parsers\n",
            "copying build/lib/timm/data/parsers/parser_tfds.py -> build/bdist.linux-x86_64/egg/timm/data/parsers\n",
            "copying build/lib/timm/data/parsers/constants.py -> build/bdist.linux-x86_64/egg/timm/data/parsers\n",
            "copying build/lib/timm/data/parsers/class_map.py -> build/bdist.linux-x86_64/egg/timm/data/parsers\n",
            "copying build/lib/timm/data/parsers/parser_image_in_tar.py -> build/bdist.linux-x86_64/egg/timm/data/parsers\n",
            "copying build/lib/timm/data/parsers/parser.py -> build/bdist.linux-x86_64/egg/timm/data/parsers\n",
            "copying build/lib/timm/data/parsers/parser_image_tar.py -> build/bdist.linux-x86_64/egg/timm/data/parsers\n",
            "copying build/lib/timm/data/parsers/parser_image_folder.py -> build/bdist.linux-x86_64/egg/timm/data/parsers\n",
            "copying build/lib/timm/data/parsers/__init__.py -> build/bdist.linux-x86_64/egg/timm/data/parsers\n",
            "copying build/lib/timm/data/parsers/parser_factory.py -> build/bdist.linux-x86_64/egg/timm/data/parsers\n",
            "copying build/lib/timm/data/random_erasing.py -> build/bdist.linux-x86_64/egg/timm/data\n",
            "copying build/lib/timm/data/real_labels.py -> build/bdist.linux-x86_64/egg/timm/data\n",
            "copying build/lib/timm/data/constants.py -> build/bdist.linux-x86_64/egg/timm/data\n",
            "copying build/lib/timm/data/mixup.py -> build/bdist.linux-x86_64/egg/timm/data\n",
            "copying build/lib/timm/data/tf_preprocessing.py -> build/bdist.linux-x86_64/egg/timm/data\n",
            "copying build/lib/timm/data/auto_augment.py -> build/bdist.linux-x86_64/egg/timm/data\n",
            "copying build/lib/timm/data/dataset.py -> build/bdist.linux-x86_64/egg/timm/data\n",
            "copying build/lib/timm/data/config.py -> build/bdist.linux-x86_64/egg/timm/data\n",
            "copying build/lib/timm/data/distributed_sampler.py -> build/bdist.linux-x86_64/egg/timm/data\n",
            "copying build/lib/timm/data/transforms.py -> build/bdist.linux-x86_64/egg/timm/data\n",
            "copying build/lib/timm/data/loader.py -> build/bdist.linux-x86_64/egg/timm/data\n",
            "copying build/lib/timm/data/transforms_factory.py -> build/bdist.linux-x86_64/egg/timm/data\n",
            "copying build/lib/timm/data/dataset_factory.py -> build/bdist.linux-x86_64/egg/timm/data\n",
            "copying build/lib/timm/data/__init__.py -> build/bdist.linux-x86_64/egg/timm/data\n",
            "creating build/bdist.linux-x86_64/egg/timm/loss\n",
            "copying build/lib/timm/loss/cross_entropy.py -> build/bdist.linux-x86_64/egg/timm/loss\n",
            "copying build/lib/timm/loss/asymmetric_loss.py -> build/bdist.linux-x86_64/egg/timm/loss\n",
            "copying build/lib/timm/loss/jsd.py -> build/bdist.linux-x86_64/egg/timm/loss\n",
            "copying build/lib/timm/loss/__init__.py -> build/bdist.linux-x86_64/egg/timm/loss\n",
            "creating build/bdist.linux-x86_64/egg/timm/models\n",
            "copying build/lib/timm/models/vgg.py -> build/bdist.linux-x86_64/egg/timm/models\n",
            "copying build/lib/timm/models/sknet.py -> build/bdist.linux-x86_64/egg/timm/models\n",
            "copying build/lib/timm/models/nfnet.py -> build/bdist.linux-x86_64/egg/timm/models\n",
            "copying build/lib/timm/models/gluon_xception.py -> build/bdist.linux-x86_64/egg/timm/models\n",
            "copying build/lib/timm/models/efficientnet_blocks.py -> build/bdist.linux-x86_64/egg/timm/models\n",
            "copying build/lib/timm/models/hrnet.py -> build/bdist.linux-x86_64/egg/timm/models\n",
            "creating build/bdist.linux-x86_64/egg/timm/models/layers\n",
            "copying build/lib/timm/models/layers/activations_me.py -> build/bdist.linux-x86_64/egg/timm/models/layers\n",
            "copying build/lib/timm/models/layers/activations_jit.py -> build/bdist.linux-x86_64/egg/timm/models/layers\n",
            "copying build/lib/timm/models/layers/se.py -> build/bdist.linux-x86_64/egg/timm/models/layers\n",
            "copying build/lib/timm/models/layers/blur_pool.py -> build/bdist.linux-x86_64/egg/timm/models/layers\n",
            "copying build/lib/timm/models/layers/activations.py -> build/bdist.linux-x86_64/egg/timm/models/layers\n",
            "copying build/lib/timm/models/layers/create_norm_act.py -> build/bdist.linux-x86_64/egg/timm/models/layers\n",
            "copying build/lib/timm/models/layers/evo_norm.py -> build/bdist.linux-x86_64/egg/timm/models/layers\n",
            "copying build/lib/timm/models/layers/separable_conv.py -> build/bdist.linux-x86_64/egg/timm/models/layers\n",
            "copying build/lib/timm/models/layers/split_batchnorm.py -> build/bdist.linux-x86_64/egg/timm/models/layers\n",
            "copying build/lib/timm/models/layers/conv_bn_act.py -> build/bdist.linux-x86_64/egg/timm/models/layers\n",
            "copying build/lib/timm/models/layers/anti_aliasing.py -> build/bdist.linux-x86_64/egg/timm/models/layers\n",
            "copying build/lib/timm/models/layers/eca.py -> build/bdist.linux-x86_64/egg/timm/models/layers\n",
            "copying build/lib/timm/models/layers/classifier.py -> build/bdist.linux-x86_64/egg/timm/models/layers\n",
            "copying build/lib/timm/models/layers/padding.py -> build/bdist.linux-x86_64/egg/timm/models/layers\n",
            "copying build/lib/timm/models/layers/norm_act.py -> build/bdist.linux-x86_64/egg/timm/models/layers\n",
            "copying build/lib/timm/models/layers/mixed_conv2d.py -> build/bdist.linux-x86_64/egg/timm/models/layers\n",
            "copying build/lib/timm/models/layers/space_to_depth.py -> build/bdist.linux-x86_64/egg/timm/models/layers\n",
            "copying build/lib/timm/models/layers/split_attn.py -> build/bdist.linux-x86_64/egg/timm/models/layers\n",
            "copying build/lib/timm/models/layers/create_conv2d.py -> build/bdist.linux-x86_64/egg/timm/models/layers\n",
            "copying build/lib/timm/models/layers/cond_conv2d.py -> build/bdist.linux-x86_64/egg/timm/models/layers\n",
            "copying build/lib/timm/models/layers/config.py -> build/bdist.linux-x86_64/egg/timm/models/layers\n",
            "copying build/lib/timm/models/layers/selective_kernel.py -> build/bdist.linux-x86_64/egg/timm/models/layers\n",
            "copying build/lib/timm/models/layers/adaptive_avgmax_pool.py -> build/bdist.linux-x86_64/egg/timm/models/layers\n",
            "copying build/lib/timm/models/layers/pool2d_same.py -> build/bdist.linux-x86_64/egg/timm/models/layers\n",
            "copying build/lib/timm/models/layers/linear.py -> build/bdist.linux-x86_64/egg/timm/models/layers\n",
            "copying build/lib/timm/models/layers/cbam.py -> build/bdist.linux-x86_64/egg/timm/models/layers\n",
            "copying build/lib/timm/models/layers/test_time_pool.py -> build/bdist.linux-x86_64/egg/timm/models/layers\n",
            "copying build/lib/timm/models/layers/weight_init.py -> build/bdist.linux-x86_64/egg/timm/models/layers\n",
            "copying build/lib/timm/models/layers/create_act.py -> build/bdist.linux-x86_64/egg/timm/models/layers\n",
            "copying build/lib/timm/models/layers/drop.py -> build/bdist.linux-x86_64/egg/timm/models/layers\n",
            "copying build/lib/timm/models/layers/median_pool.py -> build/bdist.linux-x86_64/egg/timm/models/layers\n",
            "copying build/lib/timm/models/layers/__init__.py -> build/bdist.linux-x86_64/egg/timm/models/layers\n",
            "copying build/lib/timm/models/layers/inplace_abn.py -> build/bdist.linux-x86_64/egg/timm/models/layers\n",
            "copying build/lib/timm/models/layers/create_attn.py -> build/bdist.linux-x86_64/egg/timm/models/layers\n",
            "copying build/lib/timm/models/layers/helpers.py -> build/bdist.linux-x86_64/egg/timm/models/layers\n",
            "copying build/lib/timm/models/layers/conv2d_same.py -> build/bdist.linux-x86_64/egg/timm/models/layers\n",
            "copying build/lib/timm/models/layers/std_conv.py -> build/bdist.linux-x86_64/egg/timm/models/layers\n",
            "copying build/lib/timm/models/inception_v4.py -> build/bdist.linux-x86_64/egg/timm/models\n",
            "copying build/lib/timm/models/factory.py -> build/bdist.linux-x86_64/egg/timm/models\n",
            "copying build/lib/timm/models/mobilenetv3.py -> build/bdist.linux-x86_64/egg/timm/models\n",
            "copying build/lib/timm/models/res2net.py -> build/bdist.linux-x86_64/egg/timm/models\n",
            "copying build/lib/timm/models/byobnet.py -> build/bdist.linux-x86_64/egg/timm/models\n",
            "copying build/lib/timm/models/gluon_resnet.py -> build/bdist.linux-x86_64/egg/timm/models\n",
            "copying build/lib/timm/models/resnest.py -> build/bdist.linux-x86_64/egg/timm/models\n",
            "copying build/lib/timm/models/regnet.py -> build/bdist.linux-x86_64/egg/timm/models\n",
            "copying build/lib/timm/models/hardcorenas.py -> build/bdist.linux-x86_64/egg/timm/models\n",
            "copying build/lib/timm/models/cspnet.py -> build/bdist.linux-x86_64/egg/timm/models\n",
            "creating build/bdist.linux-x86_64/egg/timm/models/pruned\n",
            "copying build/lib/timm/models/pruned/efficientnet_b1_pruned.txt -> build/bdist.linux-x86_64/egg/timm/models/pruned\n",
            "copying build/lib/timm/models/pruned/efficientnet_b3_pruned.txt -> build/bdist.linux-x86_64/egg/timm/models/pruned\n",
            "copying build/lib/timm/models/pruned/ecaresnet50d_pruned.txt -> build/bdist.linux-x86_64/egg/timm/models/pruned\n",
            "copying build/lib/timm/models/pruned/ecaresnet101d_pruned.txt -> build/bdist.linux-x86_64/egg/timm/models/pruned\n",
            "copying build/lib/timm/models/pruned/efficientnet_b2_pruned.txt -> build/bdist.linux-x86_64/egg/timm/models/pruned\n",
            "copying build/lib/timm/models/pnasnet.py -> build/bdist.linux-x86_64/egg/timm/models\n",
            "copying build/lib/timm/models/senet.py -> build/bdist.linux-x86_64/egg/timm/models\n",
            "copying build/lib/timm/models/inception_resnet_v2.py -> build/bdist.linux-x86_64/egg/timm/models\n",
            "copying build/lib/timm/models/xception_aligned.py -> build/bdist.linux-x86_64/egg/timm/models\n",
            "copying build/lib/timm/models/features.py -> build/bdist.linux-x86_64/egg/timm/models\n",
            "copying build/lib/timm/models/resnet.py -> build/bdist.linux-x86_64/egg/timm/models\n",
            "copying build/lib/timm/models/efficientnet_builder.py -> build/bdist.linux-x86_64/egg/timm/models\n",
            "copying build/lib/timm/models/xception.py -> build/bdist.linux-x86_64/egg/timm/models\n",
            "copying build/lib/timm/models/vision_transformer.py -> build/bdist.linux-x86_64/egg/timm/models\n",
            "copying build/lib/timm/models/dpn.py -> build/bdist.linux-x86_64/egg/timm/models\n",
            "copying build/lib/timm/models/tresnet.py -> build/bdist.linux-x86_64/egg/timm/models\n",
            "copying build/lib/timm/models/efficientnet.py -> build/bdist.linux-x86_64/egg/timm/models\n",
            "copying build/lib/timm/models/vovnet.py -> build/bdist.linux-x86_64/egg/timm/models\n",
            "copying build/lib/timm/models/selecsls.py -> build/bdist.linux-x86_64/egg/timm/models\n",
            "copying build/lib/timm/models/densenet.py -> build/bdist.linux-x86_64/egg/timm/models\n",
            "copying build/lib/timm/models/inception_v3.py -> build/bdist.linux-x86_64/egg/timm/models\n",
            "copying build/lib/timm/models/dla.py -> build/bdist.linux-x86_64/egg/timm/models\n",
            "copying build/lib/timm/models/registry.py -> build/bdist.linux-x86_64/egg/timm/models\n",
            "copying build/lib/timm/models/rexnet.py -> build/bdist.linux-x86_64/egg/timm/models\n",
            "copying build/lib/timm/models/__init__.py -> build/bdist.linux-x86_64/egg/timm/models\n",
            "copying build/lib/timm/models/nasnet.py -> build/bdist.linux-x86_64/egg/timm/models\n",
            "copying build/lib/timm/models/helpers.py -> build/bdist.linux-x86_64/egg/timm/models\n",
            "copying build/lib/timm/models/resnetv2.py -> build/bdist.linux-x86_64/egg/timm/models\n",
            "copying build/lib/timm/version.py -> build/bdist.linux-x86_64/egg/timm\n",
            "creating build/bdist.linux-x86_64/egg/timm/utils\n",
            "copying build/lib/timm/utils/model_ema.py -> build/bdist.linux-x86_64/egg/timm/utils\n",
            "copying build/lib/timm/utils/model.py -> build/bdist.linux-x86_64/egg/timm/utils\n",
            "copying build/lib/timm/utils/misc.py -> build/bdist.linux-x86_64/egg/timm/utils\n",
            "copying build/lib/timm/utils/jit.py -> build/bdist.linux-x86_64/egg/timm/utils\n",
            "copying build/lib/timm/utils/clip_grad.py -> build/bdist.linux-x86_64/egg/timm/utils\n",
            "copying build/lib/timm/utils/distributed.py -> build/bdist.linux-x86_64/egg/timm/utils\n",
            "copying build/lib/timm/utils/cuda.py -> build/bdist.linux-x86_64/egg/timm/utils\n",
            "copying build/lib/timm/utils/checkpoint_saver.py -> build/bdist.linux-x86_64/egg/timm/utils\n",
            "copying build/lib/timm/utils/agc.py -> build/bdist.linux-x86_64/egg/timm/utils\n",
            "copying build/lib/timm/utils/metrics.py -> build/bdist.linux-x86_64/egg/timm/utils\n",
            "copying build/lib/timm/utils/log.py -> build/bdist.linux-x86_64/egg/timm/utils\n",
            "copying build/lib/timm/utils/summary.py -> build/bdist.linux-x86_64/egg/timm/utils\n",
            "copying build/lib/timm/utils/__init__.py -> build/bdist.linux-x86_64/egg/timm/utils\n",
            "creating build/bdist.linux-x86_64/egg/timm/optim\n",
            "copying build/lib/timm/optim/adamp.py -> build/bdist.linux-x86_64/egg/timm/optim\n",
            "copying build/lib/timm/optim/adahessian.py -> build/bdist.linux-x86_64/egg/timm/optim\n",
            "copying build/lib/timm/optim/sgdp.py -> build/bdist.linux-x86_64/egg/timm/optim\n",
            "copying build/lib/timm/optim/adamw.py -> build/bdist.linux-x86_64/egg/timm/optim\n",
            "copying build/lib/timm/optim/rmsprop_tf.py -> build/bdist.linux-x86_64/egg/timm/optim\n",
            "copying build/lib/timm/optim/novograd.py -> build/bdist.linux-x86_64/egg/timm/optim\n",
            "copying build/lib/timm/optim/lookahead.py -> build/bdist.linux-x86_64/egg/timm/optim\n",
            "copying build/lib/timm/optim/adafactor.py -> build/bdist.linux-x86_64/egg/timm/optim\n",
            "copying build/lib/timm/optim/nadam.py -> build/bdist.linux-x86_64/egg/timm/optim\n",
            "copying build/lib/timm/optim/radam.py -> build/bdist.linux-x86_64/egg/timm/optim\n",
            "copying build/lib/timm/optim/optim_factory.py -> build/bdist.linux-x86_64/egg/timm/optim\n",
            "copying build/lib/timm/optim/nvnovograd.py -> build/bdist.linux-x86_64/egg/timm/optim\n",
            "copying build/lib/timm/optim/__init__.py -> build/bdist.linux-x86_64/egg/timm/optim\n",
            "creating build/bdist.linux-x86_64/egg/timm/scheduler\n",
            "copying build/lib/timm/scheduler/scheduler_factory.py -> build/bdist.linux-x86_64/egg/timm/scheduler\n",
            "copying build/lib/timm/scheduler/tanh_lr.py -> build/bdist.linux-x86_64/egg/timm/scheduler\n",
            "copying build/lib/timm/scheduler/cosine_lr.py -> build/bdist.linux-x86_64/egg/timm/scheduler\n",
            "copying build/lib/timm/scheduler/step_lr.py -> build/bdist.linux-x86_64/egg/timm/scheduler\n",
            "copying build/lib/timm/scheduler/scheduler.py -> build/bdist.linux-x86_64/egg/timm/scheduler\n",
            "copying build/lib/timm/scheduler/__init__.py -> build/bdist.linux-x86_64/egg/timm/scheduler\n",
            "copying build/lib/timm/scheduler/plateau_lr.py -> build/bdist.linux-x86_64/egg/timm/scheduler\n",
            "copying build/lib/timm/__init__.py -> build/bdist.linux-x86_64/egg/timm\n",
            "byte-compiling build/bdist.linux-x86_64/egg/timm/data/parsers/parser_tfds.py to parser_tfds.cpython-37.pyc\n",
            "byte-compiling build/bdist.linux-x86_64/egg/timm/data/parsers/constants.py to constants.cpython-37.pyc\n",
            "byte-compiling build/bdist.linux-x86_64/egg/timm/data/parsers/class_map.py to class_map.cpython-37.pyc\n",
            "byte-compiling build/bdist.linux-x86_64/egg/timm/data/parsers/parser_image_in_tar.py to parser_image_in_tar.cpython-37.pyc\n",
            "byte-compiling build/bdist.linux-x86_64/egg/timm/data/parsers/parser.py to parser.cpython-37.pyc\n",
            "byte-compiling build/bdist.linux-x86_64/egg/timm/data/parsers/parser_image_tar.py to parser_image_tar.cpython-37.pyc\n",
            "byte-compiling build/bdist.linux-x86_64/egg/timm/data/parsers/parser_image_folder.py to parser_image_folder.cpython-37.pyc\n",
            "byte-compiling build/bdist.linux-x86_64/egg/timm/data/parsers/__init__.py to __init__.cpython-37.pyc\n",
            "byte-compiling build/bdist.linux-x86_64/egg/timm/data/parsers/parser_factory.py to parser_factory.cpython-37.pyc\n",
            "byte-compiling build/bdist.linux-x86_64/egg/timm/data/random_erasing.py to random_erasing.cpython-37.pyc\n",
            "byte-compiling build/bdist.linux-x86_64/egg/timm/data/real_labels.py to real_labels.cpython-37.pyc\n",
            "byte-compiling build/bdist.linux-x86_64/egg/timm/data/constants.py to constants.cpython-37.pyc\n",
            "byte-compiling build/bdist.linux-x86_64/egg/timm/data/mixup.py to mixup.cpython-37.pyc\n",
            "byte-compiling build/bdist.linux-x86_64/egg/timm/data/tf_preprocessing.py to tf_preprocessing.cpython-37.pyc\n",
            "byte-compiling build/bdist.linux-x86_64/egg/timm/data/auto_augment.py to auto_augment.cpython-37.pyc\n",
            "byte-compiling build/bdist.linux-x86_64/egg/timm/data/dataset.py to dataset.cpython-37.pyc\n",
            "byte-compiling build/bdist.linux-x86_64/egg/timm/data/config.py to config.cpython-37.pyc\n",
            "byte-compiling build/bdist.linux-x86_64/egg/timm/data/distributed_sampler.py to distributed_sampler.cpython-37.pyc\n",
            "byte-compiling build/bdist.linux-x86_64/egg/timm/data/transforms.py to transforms.cpython-37.pyc\n",
            "byte-compiling build/bdist.linux-x86_64/egg/timm/data/loader.py to loader.cpython-37.pyc\n",
            "byte-compiling build/bdist.linux-x86_64/egg/timm/data/transforms_factory.py to transforms_factory.cpython-37.pyc\n",
            "byte-compiling build/bdist.linux-x86_64/egg/timm/data/dataset_factory.py to dataset_factory.cpython-37.pyc\n",
            "byte-compiling build/bdist.linux-x86_64/egg/timm/data/__init__.py to __init__.cpython-37.pyc\n",
            "byte-compiling build/bdist.linux-x86_64/egg/timm/loss/cross_entropy.py to cross_entropy.cpython-37.pyc\n",
            "byte-compiling build/bdist.linux-x86_64/egg/timm/loss/asymmetric_loss.py to asymmetric_loss.cpython-37.pyc\n",
            "byte-compiling build/bdist.linux-x86_64/egg/timm/loss/jsd.py to jsd.cpython-37.pyc\n",
            "byte-compiling build/bdist.linux-x86_64/egg/timm/loss/__init__.py to __init__.cpython-37.pyc\n",
            "byte-compiling build/bdist.linux-x86_64/egg/timm/models/vgg.py to vgg.cpython-37.pyc\n",
            "byte-compiling build/bdist.linux-x86_64/egg/timm/models/sknet.py to sknet.cpython-37.pyc\n",
            "byte-compiling build/bdist.linux-x86_64/egg/timm/models/nfnet.py to nfnet.cpython-37.pyc\n",
            "byte-compiling build/bdist.linux-x86_64/egg/timm/models/gluon_xception.py to gluon_xception.cpython-37.pyc\n",
            "byte-compiling build/bdist.linux-x86_64/egg/timm/models/efficientnet_blocks.py to efficientnet_blocks.cpython-37.pyc\n",
            "byte-compiling build/bdist.linux-x86_64/egg/timm/models/hrnet.py to hrnet.cpython-37.pyc\n",
            "byte-compiling build/bdist.linux-x86_64/egg/timm/models/layers/activations_me.py to activations_me.cpython-37.pyc\n",
            "byte-compiling build/bdist.linux-x86_64/egg/timm/models/layers/activations_jit.py to activations_jit.cpython-37.pyc\n",
            "byte-compiling build/bdist.linux-x86_64/egg/timm/models/layers/se.py to se.cpython-37.pyc\n",
            "byte-compiling build/bdist.linux-x86_64/egg/timm/models/layers/blur_pool.py to blur_pool.cpython-37.pyc\n",
            "byte-compiling build/bdist.linux-x86_64/egg/timm/models/layers/activations.py to activations.cpython-37.pyc\n",
            "byte-compiling build/bdist.linux-x86_64/egg/timm/models/layers/create_norm_act.py to create_norm_act.cpython-37.pyc\n",
            "byte-compiling build/bdist.linux-x86_64/egg/timm/models/layers/evo_norm.py to evo_norm.cpython-37.pyc\n",
            "byte-compiling build/bdist.linux-x86_64/egg/timm/models/layers/separable_conv.py to separable_conv.cpython-37.pyc\n",
            "byte-compiling build/bdist.linux-x86_64/egg/timm/models/layers/split_batchnorm.py to split_batchnorm.cpython-37.pyc\n",
            "byte-compiling build/bdist.linux-x86_64/egg/timm/models/layers/conv_bn_act.py to conv_bn_act.cpython-37.pyc\n",
            "byte-compiling build/bdist.linux-x86_64/egg/timm/models/layers/anti_aliasing.py to anti_aliasing.cpython-37.pyc\n",
            "byte-compiling build/bdist.linux-x86_64/egg/timm/models/layers/eca.py to eca.cpython-37.pyc\n",
            "byte-compiling build/bdist.linux-x86_64/egg/timm/models/layers/classifier.py to classifier.cpython-37.pyc\n",
            "byte-compiling build/bdist.linux-x86_64/egg/timm/models/layers/padding.py to padding.cpython-37.pyc\n",
            "byte-compiling build/bdist.linux-x86_64/egg/timm/models/layers/norm_act.py to norm_act.cpython-37.pyc\n",
            "byte-compiling build/bdist.linux-x86_64/egg/timm/models/layers/mixed_conv2d.py to mixed_conv2d.cpython-37.pyc\n",
            "byte-compiling build/bdist.linux-x86_64/egg/timm/models/layers/space_to_depth.py to space_to_depth.cpython-37.pyc\n",
            "byte-compiling build/bdist.linux-x86_64/egg/timm/models/layers/split_attn.py to split_attn.cpython-37.pyc\n",
            "byte-compiling build/bdist.linux-x86_64/egg/timm/models/layers/create_conv2d.py to create_conv2d.cpython-37.pyc\n",
            "byte-compiling build/bdist.linux-x86_64/egg/timm/models/layers/cond_conv2d.py to cond_conv2d.cpython-37.pyc\n",
            "byte-compiling build/bdist.linux-x86_64/egg/timm/models/layers/config.py to config.cpython-37.pyc\n",
            "byte-compiling build/bdist.linux-x86_64/egg/timm/models/layers/selective_kernel.py to selective_kernel.cpython-37.pyc\n",
            "byte-compiling build/bdist.linux-x86_64/egg/timm/models/layers/adaptive_avgmax_pool.py to adaptive_avgmax_pool.cpython-37.pyc\n",
            "byte-compiling build/bdist.linux-x86_64/egg/timm/models/layers/pool2d_same.py to pool2d_same.cpython-37.pyc\n",
            "byte-compiling build/bdist.linux-x86_64/egg/timm/models/layers/linear.py to linear.cpython-37.pyc\n",
            "byte-compiling build/bdist.linux-x86_64/egg/timm/models/layers/cbam.py to cbam.cpython-37.pyc\n",
            "byte-compiling build/bdist.linux-x86_64/egg/timm/models/layers/test_time_pool.py to test_time_pool.cpython-37.pyc\n",
            "byte-compiling build/bdist.linux-x86_64/egg/timm/models/layers/weight_init.py to weight_init.cpython-37.pyc\n",
            "byte-compiling build/bdist.linux-x86_64/egg/timm/models/layers/create_act.py to create_act.cpython-37.pyc\n",
            "byte-compiling build/bdist.linux-x86_64/egg/timm/models/layers/drop.py to drop.cpython-37.pyc\n",
            "byte-compiling build/bdist.linux-x86_64/egg/timm/models/layers/median_pool.py to median_pool.cpython-37.pyc\n",
            "byte-compiling build/bdist.linux-x86_64/egg/timm/models/layers/__init__.py to __init__.cpython-37.pyc\n",
            "byte-compiling build/bdist.linux-x86_64/egg/timm/models/layers/inplace_abn.py to inplace_abn.cpython-37.pyc\n",
            "byte-compiling build/bdist.linux-x86_64/egg/timm/models/layers/create_attn.py to create_attn.cpython-37.pyc\n",
            "byte-compiling build/bdist.linux-x86_64/egg/timm/models/layers/helpers.py to helpers.cpython-37.pyc\n",
            "byte-compiling build/bdist.linux-x86_64/egg/timm/models/layers/conv2d_same.py to conv2d_same.cpython-37.pyc\n",
            "byte-compiling build/bdist.linux-x86_64/egg/timm/models/layers/std_conv.py to std_conv.cpython-37.pyc\n",
            "byte-compiling build/bdist.linux-x86_64/egg/timm/models/inception_v4.py to inception_v4.cpython-37.pyc\n",
            "byte-compiling build/bdist.linux-x86_64/egg/timm/models/factory.py to factory.cpython-37.pyc\n",
            "byte-compiling build/bdist.linux-x86_64/egg/timm/models/mobilenetv3.py to mobilenetv3.cpython-37.pyc\n",
            "byte-compiling build/bdist.linux-x86_64/egg/timm/models/res2net.py to res2net.cpython-37.pyc\n",
            "byte-compiling build/bdist.linux-x86_64/egg/timm/models/byobnet.py to byobnet.cpython-37.pyc\n",
            "byte-compiling build/bdist.linux-x86_64/egg/timm/models/gluon_resnet.py to gluon_resnet.cpython-37.pyc\n",
            "byte-compiling build/bdist.linux-x86_64/egg/timm/models/resnest.py to resnest.cpython-37.pyc\n",
            "byte-compiling build/bdist.linux-x86_64/egg/timm/models/regnet.py to regnet.cpython-37.pyc\n",
            "byte-compiling build/bdist.linux-x86_64/egg/timm/models/hardcorenas.py to hardcorenas.cpython-37.pyc\n",
            "byte-compiling build/bdist.linux-x86_64/egg/timm/models/cspnet.py to cspnet.cpython-37.pyc\n",
            "byte-compiling build/bdist.linux-x86_64/egg/timm/models/pnasnet.py to pnasnet.cpython-37.pyc\n",
            "byte-compiling build/bdist.linux-x86_64/egg/timm/models/senet.py to senet.cpython-37.pyc\n",
            "byte-compiling build/bdist.linux-x86_64/egg/timm/models/inception_resnet_v2.py to inception_resnet_v2.cpython-37.pyc\n",
            "byte-compiling build/bdist.linux-x86_64/egg/timm/models/xception_aligned.py to xception_aligned.cpython-37.pyc\n",
            "byte-compiling build/bdist.linux-x86_64/egg/timm/models/features.py to features.cpython-37.pyc\n",
            "byte-compiling build/bdist.linux-x86_64/egg/timm/models/resnet.py to resnet.cpython-37.pyc\n",
            "byte-compiling build/bdist.linux-x86_64/egg/timm/models/efficientnet_builder.py to efficientnet_builder.cpython-37.pyc\n",
            "byte-compiling build/bdist.linux-x86_64/egg/timm/models/xception.py to xception.cpython-37.pyc\n",
            "byte-compiling build/bdist.linux-x86_64/egg/timm/models/vision_transformer.py to vision_transformer.cpython-37.pyc\n",
            "byte-compiling build/bdist.linux-x86_64/egg/timm/models/dpn.py to dpn.cpython-37.pyc\n",
            "byte-compiling build/bdist.linux-x86_64/egg/timm/models/tresnet.py to tresnet.cpython-37.pyc\n",
            "byte-compiling build/bdist.linux-x86_64/egg/timm/models/efficientnet.py to efficientnet.cpython-37.pyc\n",
            "byte-compiling build/bdist.linux-x86_64/egg/timm/models/vovnet.py to vovnet.cpython-37.pyc\n",
            "byte-compiling build/bdist.linux-x86_64/egg/timm/models/selecsls.py to selecsls.cpython-37.pyc\n",
            "byte-compiling build/bdist.linux-x86_64/egg/timm/models/densenet.py to densenet.cpython-37.pyc\n",
            "byte-compiling build/bdist.linux-x86_64/egg/timm/models/inception_v3.py to inception_v3.cpython-37.pyc\n",
            "byte-compiling build/bdist.linux-x86_64/egg/timm/models/dla.py to dla.cpython-37.pyc\n",
            "byte-compiling build/bdist.linux-x86_64/egg/timm/models/registry.py to registry.cpython-37.pyc\n",
            "byte-compiling build/bdist.linux-x86_64/egg/timm/models/rexnet.py to rexnet.cpython-37.pyc\n",
            "byte-compiling build/bdist.linux-x86_64/egg/timm/models/__init__.py to __init__.cpython-37.pyc\n",
            "byte-compiling build/bdist.linux-x86_64/egg/timm/models/nasnet.py to nasnet.cpython-37.pyc\n",
            "byte-compiling build/bdist.linux-x86_64/egg/timm/models/helpers.py to helpers.cpython-37.pyc\n",
            "byte-compiling build/bdist.linux-x86_64/egg/timm/models/resnetv2.py to resnetv2.cpython-37.pyc\n",
            "byte-compiling build/bdist.linux-x86_64/egg/timm/version.py to version.cpython-37.pyc\n",
            "byte-compiling build/bdist.linux-x86_64/egg/timm/utils/model_ema.py to model_ema.cpython-37.pyc\n",
            "byte-compiling build/bdist.linux-x86_64/egg/timm/utils/model.py to model.cpython-37.pyc\n",
            "byte-compiling build/bdist.linux-x86_64/egg/timm/utils/misc.py to misc.cpython-37.pyc\n",
            "byte-compiling build/bdist.linux-x86_64/egg/timm/utils/jit.py to jit.cpython-37.pyc\n",
            "byte-compiling build/bdist.linux-x86_64/egg/timm/utils/clip_grad.py to clip_grad.cpython-37.pyc\n",
            "byte-compiling build/bdist.linux-x86_64/egg/timm/utils/distributed.py to distributed.cpython-37.pyc\n",
            "byte-compiling build/bdist.linux-x86_64/egg/timm/utils/cuda.py to cuda.cpython-37.pyc\n",
            "byte-compiling build/bdist.linux-x86_64/egg/timm/utils/checkpoint_saver.py to checkpoint_saver.cpython-37.pyc\n",
            "byte-compiling build/bdist.linux-x86_64/egg/timm/utils/agc.py to agc.cpython-37.pyc\n",
            "byte-compiling build/bdist.linux-x86_64/egg/timm/utils/metrics.py to metrics.cpython-37.pyc\n",
            "byte-compiling build/bdist.linux-x86_64/egg/timm/utils/log.py to log.cpython-37.pyc\n",
            "byte-compiling build/bdist.linux-x86_64/egg/timm/utils/summary.py to summary.cpython-37.pyc\n",
            "byte-compiling build/bdist.linux-x86_64/egg/timm/utils/__init__.py to __init__.cpython-37.pyc\n",
            "byte-compiling build/bdist.linux-x86_64/egg/timm/optim/adamp.py to adamp.cpython-37.pyc\n",
            "byte-compiling build/bdist.linux-x86_64/egg/timm/optim/adahessian.py to adahessian.cpython-37.pyc\n",
            "byte-compiling build/bdist.linux-x86_64/egg/timm/optim/sgdp.py to sgdp.cpython-37.pyc\n",
            "byte-compiling build/bdist.linux-x86_64/egg/timm/optim/adamw.py to adamw.cpython-37.pyc\n",
            "byte-compiling build/bdist.linux-x86_64/egg/timm/optim/rmsprop_tf.py to rmsprop_tf.cpython-37.pyc\n",
            "byte-compiling build/bdist.linux-x86_64/egg/timm/optim/novograd.py to novograd.cpython-37.pyc\n",
            "byte-compiling build/bdist.linux-x86_64/egg/timm/optim/lookahead.py to lookahead.cpython-37.pyc\n",
            "byte-compiling build/bdist.linux-x86_64/egg/timm/optim/adafactor.py to adafactor.cpython-37.pyc\n",
            "byte-compiling build/bdist.linux-x86_64/egg/timm/optim/nadam.py to nadam.cpython-37.pyc\n",
            "byte-compiling build/bdist.linux-x86_64/egg/timm/optim/radam.py to radam.cpython-37.pyc\n",
            "byte-compiling build/bdist.linux-x86_64/egg/timm/optim/optim_factory.py to optim_factory.cpython-37.pyc\n",
            "byte-compiling build/bdist.linux-x86_64/egg/timm/optim/nvnovograd.py to nvnovograd.cpython-37.pyc\n",
            "byte-compiling build/bdist.linux-x86_64/egg/timm/optim/__init__.py to __init__.cpython-37.pyc\n",
            "byte-compiling build/bdist.linux-x86_64/egg/timm/scheduler/scheduler_factory.py to scheduler_factory.cpython-37.pyc\n",
            "byte-compiling build/bdist.linux-x86_64/egg/timm/scheduler/tanh_lr.py to tanh_lr.cpython-37.pyc\n",
            "byte-compiling build/bdist.linux-x86_64/egg/timm/scheduler/cosine_lr.py to cosine_lr.cpython-37.pyc\n",
            "byte-compiling build/bdist.linux-x86_64/egg/timm/scheduler/step_lr.py to step_lr.cpython-37.pyc\n",
            "byte-compiling build/bdist.linux-x86_64/egg/timm/scheduler/scheduler.py to scheduler.cpython-37.pyc\n",
            "byte-compiling build/bdist.linux-x86_64/egg/timm/scheduler/__init__.py to __init__.cpython-37.pyc\n",
            "byte-compiling build/bdist.linux-x86_64/egg/timm/scheduler/plateau_lr.py to plateau_lr.cpython-37.pyc\n",
            "byte-compiling build/bdist.linux-x86_64/egg/timm/__init__.py to __init__.cpython-37.pyc\n",
            "creating build/bdist.linux-x86_64/egg/EGG-INFO\n",
            "copying timm.egg-info/PKG-INFO -> build/bdist.linux-x86_64/egg/EGG-INFO\n",
            "copying timm.egg-info/SOURCES.txt -> build/bdist.linux-x86_64/egg/EGG-INFO\n",
            "copying timm.egg-info/dependency_links.txt -> build/bdist.linux-x86_64/egg/EGG-INFO\n",
            "copying timm.egg-info/requires.txt -> build/bdist.linux-x86_64/egg/EGG-INFO\n",
            "copying timm.egg-info/top_level.txt -> build/bdist.linux-x86_64/egg/EGG-INFO\n",
            "zip_safe flag not set; analyzing archive contents...\n",
            "timm.models.__pycache__.helpers.cpython-37: module references __file__\n",
            "creating dist\n",
            "creating 'dist/timm-0.4.5-py3.7.egg' and adding 'build/bdist.linux-x86_64/egg' to it\n",
            "removing 'build/bdist.linux-x86_64/egg' (and everything under it)\n",
            "Processing timm-0.4.5-py3.7.egg\n",
            "creating /usr/local/lib/python3.7/dist-packages/timm-0.4.5-py3.7.egg\n",
            "Extracting timm-0.4.5-py3.7.egg to /usr/local/lib/python3.7/dist-packages\n",
            "Adding timm 0.4.5 to easy-install.pth file\n",
            "\n",
            "Installed /usr/local/lib/python3.7/dist-packages/timm-0.4.5-py3.7.egg\n",
            "Processing dependencies for timm==0.4.5\n",
            "Searching for torchvision==0.9.0+cu101\n",
            "Best match: torchvision 0.9.0+cu101\n",
            "Adding torchvision 0.9.0+cu101 to easy-install.pth file\n",
            "\n",
            "Using /usr/local/lib/python3.7/dist-packages\n",
            "Searching for torch==1.8.0+cu101\n",
            "Best match: torch 1.8.0+cu101\n",
            "Adding torch 1.8.0+cu101 to easy-install.pth file\n",
            "Installing convert-caffe2-to-onnx script to /usr/local/bin\n",
            "Installing convert-onnx-to-caffe2 script to /usr/local/bin\n",
            "\n",
            "Using /usr/local/lib/python3.7/dist-packages\n",
            "Searching for Pillow==7.0.0\n",
            "Best match: Pillow 7.0.0\n",
            "Adding Pillow 7.0.0 to easy-install.pth file\n",
            "\n",
            "Using /usr/local/lib/python3.7/dist-packages\n",
            "Searching for numpy==1.19.5\n",
            "Best match: numpy 1.19.5\n",
            "Adding numpy 1.19.5 to easy-install.pth file\n",
            "Installing f2py script to /usr/local/bin\n",
            "Installing f2py3 script to /usr/local/bin\n",
            "Installing f2py3.7 script to /usr/local/bin\n",
            "\n",
            "Using /usr/local/lib/python3.7/dist-packages\n",
            "Searching for typing-extensions==3.7.4.3\n",
            "Best match: typing-extensions 3.7.4.3\n",
            "Adding typing-extensions 3.7.4.3 to easy-install.pth file\n",
            "\n",
            "Using /usr/local/lib/python3.7/dist-packages\n",
            "Finished processing dependencies for timm==0.4.5\n"
          ],
          "name": "stdout"
        }
      ]
    },
    {
      "cell_type": "code",
      "metadata": {
        "colab": {
          "base_uri": "https://localhost:8080/"
        },
        "id": "eVjc4Kju84S5",
        "outputId": "98d3c0ec-6f9a-40a9-87db-c06d347a60c9"
      },
      "source": [
        "!wget https://raw.githubusercontent.com/AmbiTyga/Bio-VI-BERT/main/Dataset.7z\r\n",
        "!7z x /content/Dataset.7z"
      ],
      "execution_count": null,
      "outputs": [
        {
          "output_type": "stream",
          "text": [
            "--2021-03-12 09:53:47--  https://raw.githubusercontent.com/AmbiTyga/Bio-VI-BERT/main/Dataset.7z\n",
            "Resolving raw.githubusercontent.com (raw.githubusercontent.com)... 185.199.108.133, 185.199.109.133, 185.199.110.133, ...\n",
            "Connecting to raw.githubusercontent.com (raw.githubusercontent.com)|185.199.108.133|:443... connected.\n",
            "HTTP request sent, awaiting response... 200 OK\n",
            "Length: 20035294 (19M) [application/octet-stream]\n",
            "Saving to: ‘Dataset.7z’\n",
            "\n",
            "Dataset.7z          100%[===================>]  19.11M  43.8MB/s    in 0.4s    \n",
            "\n",
            "2021-03-12 09:53:49 (43.8 MB/s) - ‘Dataset.7z’ saved [20035294/20035294]\n",
            "\n",
            "\n",
            "7-Zip [64] 16.02 : Copyright (c) 1999-2016 Igor Pavlov : 2016-05-21\n",
            "p7zip Version 16.02 (locale=en_US.UTF-8,Utf16=on,HugeFiles=on,64 bits,4 CPUs Intel(R) Xeon(R) CPU @ 2.30GHz (306F0),ASM,AES-NI)\n",
            "\n",
            "Scanning the drive for archives:\n",
            "  0M Scan /content/\b\b\b\b\b\b\b\b\b\b\b\b\b\b\b\b\b\b\b                   \b\b\b\b\b\b\b\b\b\b\b\b\b\b\b\b\b\b\b1 file, 20035294 bytes (20 MiB)\n",
            "\n",
            "Extracting archive: /content/Dataset.7z\n",
            "--\n",
            "Path = /content/Dataset.7z\n",
            "Type = 7z\n",
            "Physical Size = 20035294\n",
            "Headers Size = 7334\n",
            "Method = LZMA2:24\n",
            "Solid = +\n",
            "Blocks = 1\n",
            "\n",
            "  0%\b\b\b\b    \b\b\b\b 14% 119 - Dataset/Cryptosporidium/Cryptosporidium_sp4.jpg\b\b\b\b\b\b\b\b\b\b\b\b\b\b\b\b\b\b\b\b\b\b\b\b\b\b\b\b\b\b\b\b\b\b\b\b\b\b\b\b\b\b\b\b\b\b\b\b\b\b\b\b\b\b\b\b\b\b                                                          \b\b\b\b\b\b\b\b\b\b\b\b\b\b\b\b\b\b\b\b\b\b\b\b\b\b\b\b\b\b\b\b\b\b\b\b\b\b\b\b\b\b\b\b\b\b\b\b\b\b\b\b\b\b\b\b\b\b 39% 201 - Dataset/Echinococcus/EchinococcusCellNetix_D.jpg\b\b\b\b\b\b\b\b\b\b\b\b\b\b\b\b\b\b\b\b\b\b\b\b\b\b\b\b\b\b\b\b\b\b\b\b\b\b\b\b\b\b\b\b\b\b\b\b\b\b\b\b\b\b\b\b\b\b\b                                                           \b\b\b\b\b\b\b\b\b\b\b\b\b\b\b\b\b\b\b\b\b\b\b\b\b\b\b\b\b\b\b\b\b\b\b\b\b\b\b\b\b\b\b\b\b\b\b\b\b\b\b\b\b\b\b\b\b\b\b 54% 339 - Dataset/Plasmodium/Pf_gametocyte_thinF.jpg\b\b\b\b\b\b\b\b\b\b\b\b\b\b\b\b\b\b\b\b\b\b\b\b\b\b\b\b\b\b\b\b\b\b\b\b\b\b\b\b\b\b\b\b\b\b\b\b\b\b\b\b\b                                                     \b\b\b\b\b\b\b\b\b\b\b\b\b\b\b\b\b\b\b\b\b\b\b\b\b\b\b\b\b\b\b\b\b\b\b\b\b\b\b\b\b\b\b\b\b\b\b\b\b\b\b\b\b 72% 441 - Dataset/Plasmodium/Po_troph_thinA.jpg\b\b\b\b\b\b\b\b\b\b\b\b\b\b\b\b\b\b\b\b\b\b\b\b\b\b\b\b\b\b\b\b\b\b\b\b\b\b\b\b\b\b\b\b\b\b\b\b                                                \b\b\b\b\b\b\b\b\b\b\b\b\b\b\b\b\b\b\b\b\b\b\b\b\b\b\b\b\b\b\b\b\b\b\b\b\b\b\b\b\b\b\b\b\b\b\b\b 94% 524 - Dataset/Strongyloides/SfB\b\b\b\b\b\b\b\b\b\b\b\b\b\b\b\b\b\b\b\b\b\b\b\b\b\b\b\b\b\b\b\b\b\b\b\b                                    \b\b\b\b\b\b\b\b\b\b\b\b\b\b\b\b\b\b\b\b\b\b\b\b\b\b\b\b\b\b\b\b\b\b\b\bEverything is Ok\n",
            "\n",
            "Folders: 23\n",
            "Files: 583\n",
            "Size:       24502474\n",
            "Compressed: 20035294\n"
          ],
          "name": "stdout"
        }
      ]
    },
    {
      "cell_type": "code",
      "metadata": {
        "id": "CweK-BHdaa-4",
        "outputId": "02205737-04f8-4455-92a4-f40c8114c5f6",
        "colab": {
          "base_uri": "https://localhost:8080/"
        }
      },
      "source": [
        "!7z x /content/Parasites.7z"
      ],
      "execution_count": 6,
      "outputs": [
        {
          "output_type": "stream",
          "text": [
            "\n",
            "7-Zip [64] 16.02 : Copyright (c) 1999-2016 Igor Pavlov : 2016-05-21\n",
            "p7zip Version 16.02 (locale=en_US.UTF-8,Utf16=on,HugeFiles=on,64 bits,4 CPUs Intel(R) Xeon(R) CPU @ 2.20GHz (406F0),ASM,AES-NI)\n",
            "\n",
            "Scanning the drive for archives:\n",
            "  0M Scan /content/\b\b\b\b\b\b\b\b\b\b\b\b\b\b\b\b\b\b\b                   \b\b\b\b\b\b\b\b\b\b\b\b\b\b\b\b\b\b\b1 file, 27175604 bytes (26 MiB)\n",
            "\n",
            "Extracting archive: /content/Parasites.7z\n",
            "--\n",
            "Path = /content/Parasites.7z\n",
            "Type = 7z\n",
            "Physical Size = 27175604\n",
            "Headers Size = 17541\n",
            "Method = LZMA2:24\n",
            "Solid = +\n",
            "Blocks = 1\n",
            "\n",
            "  0%\b\b\b\b    \b\b\b\b 10% 21\b\b\b\b\b\b\b       \b\b\b\b\b\b\b 22% 342 - Parasites/Cryptosporidium sp/T_3_61.jpg\b\b\b\b\b\b\b\b\b\b\b\b\b\b\b\b\b\b\b\b\b\b\b\b\b\b\b\b\b\b\b\b\b\b\b\b\b\b\b\b\b\b\b\b\b\b\b\b\b\b                                                  \b\b\b\b\b\b\b\b\b\b\b\b\b\b\b\b\b\b\b\b\b\b\b\b\b\b\b\b\b\b\b\b\b\b\b\b\b\b\b\b\b\b\b\b\b\b\b\b\b\b 33% 673 - Parasites/Entamoeba histolytica/T_0_144.jpg\b\b\b\b\b\b\b\b\b\b\b\b\b\b\b\b\b\b\b\b\b\b\b\b\b\b\b\b\b\b\b\b\b\b\b\b\b\b\b\b\b\b\b\b\b\b\b\b\b\b\b\b\b\b                                                      \b\b\b\b\b\b\b\b\b\b\b\b\b\b\b\b\b\b\b\b\b\b\b\b\b\b\b\b\b\b\b\b\b\b\b\b\b\b\b\b\b\b\b\b\b\b\b\b\b\b\b\b\b\b 45% 841 - Parasites/Enterobius vermicularis/T_0_168.jpg\b\b\b\b\b\b\b\b\b\b\b\b\b\b\b\b\b\b\b\b\b\b\b\b\b\b\b\b\b\b\b\b\b\b\b\b\b\b\b\b\b\b\b\b\b\b\b\b\b\b\b\b\b\b\b\b                                                        \b\b\b\b\b\b\b\b\b\b\b\b\b\b\b\b\b\b\b\b\b\b\b\b\b\b\b\b\b\b\b\b\b\b\b\b\b\b\b\b\b\b\b\b\b\b\b\b\b\b\b\b\b\b\b\b 56% 1125 - Parasites/Hymenolepis nana/T_1_222.jpg\b\b\b\b\b\b\b\b\b\b\b\b\b\b\b\b\b\b\b\b\b\b\b\b\b\b\b\b\b\b\b\b\b\b\b\b\b\b\b\b\b\b\b\b\b\b\b\b\b\b                                                  \b\b\b\b\b\b\b\b\b\b\b\b\b\b\b\b\b\b\b\b\b\b\b\b\b\b\b\b\b\b\b\b\b\b\b\b\b\b\b\b\b\b\b\b\b\b\b\b\b\b 64% 1126 - Parasites/Hymenolepis nana/T_1_223.jpg\b\b\b\b\b\b\b\b\b\b\b\b\b\b\b\b\b\b\b\b\b\b\b\b\b\b\b\b\b\b\b\b\b\b\b\b\b\b\b\b\b\b\b\b\b\b\b\b\b\b                                                  \b\b\b\b\b\b\b\b\b\b\b\b\b\b\b\b\b\b\b\b\b\b\b\b\b\b\b\b\b\b\b\b\b\b\b\b\b\b\b\b\b\b\b\b\b\b\b\b\b\b 80% 1608 - Parasites/Plasmodium malariae/T_4_311.jpg\b\b\b\b\b\b\b\b\b\b\b\b\b\b\b\b\b\b\b\b\b\b\b\b\b\b\b\b\b\b\b\b\b\b\b\b\b\b\b\b\b\b\b\b\b\b\b\b\b\b\b\b\b                                                     \b\b\b\b\b\b\b\b\b\b\b\b\b\b\b\b\b\b\b\b\b\b\b\b\b\b\b\b\b\b\b\b\b\b\b\b\b\b\b\b\b\b\b\b\b\b\b\b\b\b\b\b\b 92% 2060 - Parasites/Strongyloides stercoralis/T_0_419.jpg\b\b\b\b\b\b\b\b\b\b\b\b\b\b\b\b\b\b\b\b\b\b\b\b\b\b\b\b\b\b\b\b\b\b\b\b\b\b\b\b\b\b\b\b\b\b\b\b\b\b\b\b\b\b\b\b\b\b\b                                                           \b\b\b\b\b\b\b\b\b\b\b\b\b\b\b\b\b\b\b\b\b\b\b\b\b\b\b\b\b\b\b\b\b\b\b\b\b\b\b\b\b\b\b\b\b\b\b\b\b\b\b\b\b\b\b\b\b\b\bEverything is Ok\n",
            "\n",
            "Folders: 21\n",
            "Files: 2446\n",
            "Size:       30584149\n",
            "Compressed: 27175604\n"
          ],
          "name": "stdout"
        }
      ]
    },
    {
      "cell_type": "code",
      "metadata": {
        "id": "yVc3_O_n_In6"
      },
      "source": [
        "import timm\r\n",
        "import pandas as pd\r\n",
        "import numpy as np\r\n",
        "import torch.nn as nn\r\n",
        "import torch\r\n",
        "from torch.utils.data import Dataset, DataLoader, sampler\r\n",
        "from sklearn.preprocessing import LabelEncoder\r\n",
        "import os\r\n",
        "from sklearn.model_selection import train_test_split\r\n",
        "from glob import glob\r\n",
        "from PIL import Image\r\n",
        "from torchvision import transforms"
      ],
      "execution_count": 2,
      "outputs": []
    },
    {
      "cell_type": "markdown",
      "metadata": {
        "id": "aAHwzGXx_7y-"
      },
      "source": [
        "## Cleaning and getting a final data"
      ]
    },
    {
      "cell_type": "code",
      "metadata": {
        "id": "gtJ3g1lcVah5"
      },
      "source": [
        "## Getting images(file path) from the directories \r\n",
        "\r\n",
        "imgs = []\r\n",
        "for path, subdirs, files in os.walk('./Dataset'):\r\n",
        "    for name in files:\r\n",
        "        imgs.append(os.path.join(path, name))\r\n",
        "imgs = [x for x in imgs if '.csv' not in x]"
      ],
      "execution_count": null,
      "outputs": []
    },
    {
      "cell_type": "code",
      "metadata": {
        "id": "C1zUOBkABzv6",
        "colab": {
          "base_uri": "https://localhost:8080/",
          "height": 299
        },
        "outputId": "34487b94-c178-457c-d47b-23b4b8ca75ba"
      },
      "source": [
        "data = pd.read_excel(\"/content/Dataset/all_meta_data.xlsx\")\r\n",
        "data.head()"
      ],
      "execution_count": null,
      "outputs": [
        {
          "output_type": "execute_result",
          "data": {
            "text/html": [
              "<div>\n",
              "<style scoped>\n",
              "    .dataframe tbody tr th:only-of-type {\n",
              "        vertical-align: middle;\n",
              "    }\n",
              "\n",
              "    .dataframe tbody tr th {\n",
              "        vertical-align: top;\n",
              "    }\n",
              "\n",
              "    .dataframe thead th {\n",
              "        text-align: right;\n",
              "    }\n",
              "</style>\n",
              "<table border=\"1\" class=\"dataframe\">\n",
              "  <thead>\n",
              "    <tr style=\"text-align: right;\">\n",
              "      <th></th>\n",
              "      <th>phylum</th>\n",
              "      <th>class</th>\n",
              "      <th>genus</th>\n",
              "      <th>species</th>\n",
              "      <th>form</th>\n",
              "      <th>sample</th>\n",
              "      <th>image_name</th>\n",
              "      <th>image_url</th>\n",
              "      <th>img_path</th>\n",
              "    </tr>\n",
              "  </thead>\n",
              "  <tbody>\n",
              "    <tr>\n",
              "      <th>0</th>\n",
              "      <td>Nematoda</td>\n",
              "      <td>Chromadorea</td>\n",
              "      <td>Enterobius</td>\n",
              "      <td>Enterobius vermicularis</td>\n",
              "      <td>egg</td>\n",
              "      <td>intestinal tissue</td>\n",
              "      <td>Evermicularis_worm4_HB.jpg</td>\n",
              "      <td>https://www.cdc.gov//dpdx/enterobiasis/images/...</td>\n",
              "      <td>./Dataset/Enterobius/Evermicularis_worm4_HB.jpg</td>\n",
              "    </tr>\n",
              "    <tr>\n",
              "      <th>1</th>\n",
              "      <td>Nematoda</td>\n",
              "      <td>Chromadorea</td>\n",
              "      <td>Enterobius</td>\n",
              "      <td>Enterobius vermicularis</td>\n",
              "      <td>egg</td>\n",
              "      <td>intestinal tissue</td>\n",
              "      <td>Evermicularis_egg_HBa.jpg</td>\n",
              "      <td>https://www.cdc.gov//dpdx/enterobiasis/images/...</td>\n",
              "      <td>./Dataset/Enterobius/Evermicularis_egg_HBa.jpg</td>\n",
              "    </tr>\n",
              "    <tr>\n",
              "      <th>2</th>\n",
              "      <td>Nematoda</td>\n",
              "      <td>Chromadorea</td>\n",
              "      <td>Enterobius</td>\n",
              "      <td>Enterobius vermicularis</td>\n",
              "      <td>egg</td>\n",
              "      <td>intestinal tissue</td>\n",
              "      <td>Evermicularis_egg_wtmt.jpg</td>\n",
              "      <td>https://www.cdc.gov//dpdx/enterobiasis/images/...</td>\n",
              "      <td>./Dataset/Enterobius/Evermicularis_egg_wtmt.jpg</td>\n",
              "    </tr>\n",
              "    <tr>\n",
              "      <th>3</th>\n",
              "      <td>Nematoda</td>\n",
              "      <td>Chromadorea</td>\n",
              "      <td>Enterobius</td>\n",
              "      <td>Enterobius vermicularis</td>\n",
              "      <td>egg</td>\n",
              "      <td>intestinal tissue</td>\n",
              "      <td>Evermicularis_SC_egg.jpg</td>\n",
              "      <td>https://www.cdc.gov//dpdx/enterobiasis/images/...</td>\n",
              "      <td>./Dataset/Enterobius/Evermicularis_SC_egg.jpg</td>\n",
              "    </tr>\n",
              "    <tr>\n",
              "      <th>4</th>\n",
              "      <td>Nematoda</td>\n",
              "      <td>Chromadorea</td>\n",
              "      <td>Enterobius</td>\n",
              "      <td>Enterobius vermicularis</td>\n",
              "      <td>egg</td>\n",
              "      <td>intestinal tissue</td>\n",
              "      <td>Evermicularis_egg_UVa.jpg</td>\n",
              "      <td>https://www.cdc.gov//dpdx/enterobiasis/images/...</td>\n",
              "      <td>./Dataset/Enterobius/Evermicularis_egg_UVa.jpg</td>\n",
              "    </tr>\n",
              "  </tbody>\n",
              "</table>\n",
              "</div>"
            ],
            "text/plain": [
              "     phylum  ...                                         img_path\n",
              "0  Nematoda  ...  ./Dataset/Enterobius/Evermicularis_worm4_HB.jpg\n",
              "1  Nematoda  ...   ./Dataset/Enterobius/Evermicularis_egg_HBa.jpg\n",
              "2  Nematoda  ...  ./Dataset/Enterobius/Evermicularis_egg_wtmt.jpg\n",
              "3  Nematoda  ...    ./Dataset/Enterobius/Evermicularis_SC_egg.jpg\n",
              "4  Nematoda  ...   ./Dataset/Enterobius/Evermicularis_egg_UVa.jpg\n",
              "\n",
              "[5 rows x 9 columns]"
            ]
          },
          "metadata": {
            "tags": []
          },
          "execution_count": 36
        }
      ]
    },
    {
      "cell_type": "code",
      "metadata": {
        "id": "BE14KjiYrYJQ"
      },
      "source": [
        "data = pd.read_csv('/content/parasites.csv')"
      ],
      "execution_count": 7,
      "outputs": []
    },
    {
      "cell_type": "code",
      "metadata": {
        "id": "vfWcSctI3opb",
        "outputId": "ba5b94ba-561e-42f3-d88f-a2752eaee002",
        "colab": {
          "base_uri": "https://localhost:8080/"
        }
      },
      "source": [
        "data['species'].value_counts()"
      ],
      "execution_count": 7,
      "outputs": [
        {
          "output_type": "execute_result",
          "data": {
            "text/plain": [
              "Plasmodium malariae          185\n",
              "Cyclospora cayetanensis      185\n",
              "Entamoeba histolytica        180\n",
              "Ascaris lumbricoides         180\n",
              "Plasmodium vivax             180\n",
              "Plasmodium falciparum        180\n",
              "Giardia duodenalis           180\n",
              "Plasmodium ovale             170\n",
              "Strongyloides stercoralis    110\n",
              "Dibothriocephalus latus      105\n",
              "Trichuris Trichuria           95\n",
              "Enterobius vermicularis       90\n",
              "Toxocara canis                85\n",
              "Ancyclostoma sp               85\n",
              "Sarcocystis sp                80\n",
              "Cryptosporidium sp            80\n",
              "Plasmodium knowlesi           75\n",
              "Hymenolepis nana              70\n",
              "Toxoplasma gondii             65\n",
              "Trichinella sp                65\n",
              "Name: species, dtype: int64"
            ]
          },
          "metadata": {
            "tags": []
          },
          "execution_count": 7
        }
      ]
    },
    {
      "cell_type": "code",
      "metadata": {
        "id": "a6alRZD53aIS"
      },
      "source": [
        ""
      ],
      "execution_count": null,
      "outputs": []
    },
    {
      "cell_type": "code",
      "metadata": {
        "id": "FheC4ZueOlm3"
      },
      "source": [
        "# data = [x for _,x in data.groupby('species') if len(x)>15]\r\n",
        "\r\n",
        "# data = pd.concat(data,ignore_index=True)\r\n",
        "\r\n",
        "label_encoders = dict()\r\n",
        "labels = [\"phylum\",\"class\",\"species\",\"form\",\"sample\"]\r\n",
        "for x in labels:\r\n",
        "  le = LabelEncoder()\r\n",
        "  data[f'{x}_label'] = le.fit_transform(data[x])\r\n",
        "  label_encoders[x] = le"
      ],
      "execution_count": 8,
      "outputs": []
    },
    {
      "cell_type": "code",
      "metadata": {
        "id": "ZT3lIa4_r--y"
      },
      "source": [
        "train, val = train_test_split(\r\n",
        "    data, test_size=0.25, random_state=2021,stratify = data['species'])"
      ],
      "execution_count": 9,
      "outputs": []
    },
    {
      "cell_type": "code",
      "metadata": {
        "id": "KjwGMBtPtNtw"
      },
      "source": [
        "train.to_csv('/content/train.csv',index = False)\r\n",
        "\r\n",
        "val.to_csv('/content/val.csv',index = False)"
      ],
      "execution_count": 10,
      "outputs": []
    },
    {
      "cell_type": "markdown",
      "metadata": {
        "id": "7QNo2DKUAAgm"
      },
      "source": [
        "# Dataset Function"
      ]
    },
    {
      "cell_type": "code",
      "metadata": {
        "id": "kPUz2T2qEXTS"
      },
      "source": [
        "class SpeciesDataset(Dataset):\r\n",
        "  def __init__(self,csv_file,transform):\r\n",
        "    super().__init__()\r\n",
        "    csv = pd.read_csv(csv_file)[['species_label','img_path']]\r\n",
        "    self.labels = csv['species_label'].values\r\n",
        "\r\n",
        "    self.images = csv['img_path'].values\r\n",
        "    self.transform = transform\r\n",
        "\r\n",
        "    # self.LE = LabelEncoder()\r\n",
        "    # self.labels = self.LE.fit_transform(labels)    \r\n",
        "\r\n",
        "  def __len__(self):\r\n",
        "    # return size of dataset\r\n",
        "    return len(self.images)\r\n",
        "\r\n",
        "  def __getitem__(self, index):\r\n",
        "    img = Image.open(self.images[index])\r\n",
        "    img = self.transform(img)\r\n",
        "\r\n",
        "    label = self.labels[index]\r\n",
        "\r\n",
        "    return img, torch.LongTensor([label])"
      ],
      "execution_count": 3,
      "outputs": []
    },
    {
      "cell_type": "code",
      "metadata": {
        "id": "wOL5NtArJ8QY"
      },
      "source": [
        "\r\n",
        "train_transformer = transforms.Compose([\r\n",
        "        transforms.Resize((224,224)),\r\n",
        "        transforms.ToTensor(),\r\n",
        "        transforms.Normalize([0.485, 0.456, 0.406], [0.229, 0.224, 0.225])\r\n",
        "    ])\r\n",
        "\r\n",
        "val_transformer = transforms.Compose([\r\n",
        "        transforms.Resize((224,224)),\r\n",
        "#         transforms.CenterCrop(224),\r\n",
        "        transforms.ToTensor(),\r\n",
        "        transforms.Normalize([0.485, 0.456, 0.406], [0.229, 0.224, 0.225])\r\n",
        "    ])"
      ],
      "execution_count": 4,
      "outputs": []
    },
    {
      "cell_type": "code",
      "metadata": {
        "id": "ueO4tM-hbzIj",
        "outputId": "a67656d2-3454-401e-d475-0fd1cda07e03",
        "colab": {
          "base_uri": "https://localhost:8080/"
        }
      },
      "source": [
        "46*20"
      ],
      "execution_count": 16,
      "outputs": [
        {
          "output_type": "execute_result",
          "data": {
            "text/plain": [
              "920"
            ]
          },
          "metadata": {
            "tags": []
          },
          "execution_count": 16
        }
      ]
    },
    {
      "cell_type": "code",
      "metadata": {
        "id": "mxVLcqj2b9d-"
      },
      "source": [
        "2*2*3*3*17"
      ],
      "execution_count": null,
      "outputs": []
    },
    {
      "cell_type": "code",
      "metadata": {
        "id": "3UIWwBq532zq",
        "colab": {
          "base_uri": "https://localhost:8080/"
        },
        "outputId": "8c6135ee-9555-4e59-a605-60d3e6cde43f"
      },
      "source": [
        "val['species'].shape"
      ],
      "execution_count": 17,
      "outputs": [
        {
          "output_type": "execute_result",
          "data": {
            "text/plain": [
              "(612,)"
            ]
          },
          "metadata": {
            "tags": []
          },
          "execution_count": 17
        }
      ]
    },
    {
      "cell_type": "code",
      "metadata": {
        "id": "v0NXmSK2EFKh"
      },
      "source": [
        "class_counts = train['species_label'].value_counts().to_dict()\r\n",
        "weights = torch.tensor([1/class_counts[label] for label in train['species_label'].values])\r\n",
        "\r\n",
        "train_dataset = SpeciesDataset('/content/train.csv',transform=train_transformer)\r\n",
        "train_loader = torch.utils.data.DataLoader(train_dataset,batch_size=64,\r\n",
        "                                           sampler=torch.utils.data.WeightedRandomSampler(weights,num_samples=2780))\r\n",
        "\r\n",
        "val = pd.read_csv('/content/val.csv')\r\n",
        "class_counts = val['species_label'].value_counts().to_dict()\r\n",
        "weights = torch.tensor([1/class_counts[label] for label in val['species_label'].values])\r\n",
        "\r\n",
        "val_dataset = SpeciesDataset('/content/val.csv',transform=val_transformer)\r\n",
        "val_loader = torch.utils.data.DataLoader(val_dataset,batch_size=51,\r\n",
        "                                         sampler=torch.utils.data.WeightedRandomSampler(weights,num_samples=920))"
      ],
      "execution_count": 11,
      "outputs": []
    },
    {
      "cell_type": "markdown",
      "metadata": {
        "id": "pxAzMc2BGE1t"
      },
      "source": [
        "# VIT Base Imagenet 21k"
      ]
    },
    {
      "cell_type": "code",
      "metadata": {
        "id": "hsLYwbAJ3YFH"
      },
      "source": [
        "vi = timm.models.vision_transformer.vit_base_patch16_224_in21k(pretrained=True,num_classes = 512)\r\n",
        "vi"
      ],
      "execution_count": null,
      "outputs": []
    },
    {
      "cell_type": "code",
      "metadata": {
        "id": "YfPnYIMvI7O2"
      },
      "source": [
        "class ViT(nn.Module):\r\n",
        "  def __init__(self,num_classes_classifier=20):\r\n",
        "    super().__init__()\r\n",
        "    self.img_transformer = timm.models.vision_transformer.vit_base_patch16_224_in21k(pretrained=True,num_classes = 0)\r\n",
        "    self.fc1 = nn.Linear(768,512)\r\n",
        "    self.drop = nn.Dropout(0.4)\r\n",
        "    self.classifier = nn.Linear(512,num_classes_classifier)\r\n",
        "\r\n",
        "  def forward(self,img):\r\n",
        "    repr = self.img_transformer(img)\r\n",
        "    repr = self.fc1(repr)\r\n",
        "    repr = self.drop(repr)\r\n",
        "    output = self.classifier(repr)\r\n",
        "\r\n",
        "    return output  "
      ],
      "execution_count": 12,
      "outputs": []
    },
    {
      "cell_type": "code",
      "metadata": {
        "colab": {
          "base_uri": "https://localhost:8080/"
        },
        "id": "dsTr23UFCSxy",
        "outputId": "6e086d00-141c-4a43-8d03-42b3d0e5e5c2"
      },
      "source": [
        "model = ViT()"
      ],
      "execution_count": 13,
      "outputs": [
        {
          "output_type": "stream",
          "text": [
            "Removing representation layer for fine-tuning.\n"
          ],
          "name": "stderr"
        }
      ]
    },
    {
      "cell_type": "code",
      "metadata": {
        "colab": {
          "base_uri": "https://localhost:8080/"
        },
        "id": "wzW89TkNhGf5",
        "outputId": "15efd7d1-f6cd-4eb6-b06b-b8c73876ab07"
      },
      "source": [
        "model.load_state_dict(torch.load('vit-base.bin'))"
      ],
      "execution_count": null,
      "outputs": [
        {
          "output_type": "execute_result",
          "data": {
            "text/plain": [
              "<All keys matched successfully>"
            ]
          },
          "metadata": {
            "tags": []
          },
          "execution_count": 25
        }
      ]
    },
    {
      "cell_type": "code",
      "metadata": {
        "colab": {
          "base_uri": "https://localhost:8080/"
        },
        "id": "K3np-P80EPVK",
        "outputId": "3f6e75f8-1a35-4bbb-9463-5bbd0c732bca"
      },
      "source": [
        "device = torch.device('cuda')\r\n",
        "optim = torch.optim.Adam(filter(lambda p: p.requires_grad, model.parameters()),lr = 1e-4)\r\n",
        "loss_fn = nn.CrossEntropyLoss().to(device)\r\n",
        "es = EarlyStopping(patience = 10)\r\n",
        "es.best = np.inf\r\n",
        "\r\n",
        "model.to(device)\r\n",
        "\r\n",
        "train_losses = []\r\n",
        "train_accs = []\r\n",
        "val_losses = []\r\n",
        "val_accs = []\r\n",
        "for epoch in range(100):\r\n",
        "  train_epoch_loss = 0\r\n",
        "  train_epoch_acc = 0\r\n",
        "  model.train()\r\n",
        "  steps = 0\r\n",
        "  for idx, batch in enumerate(train_loader):\r\n",
        "    image, target = batch\r\n",
        "    image = image.to(device)\r\n",
        "    target = target.flatten().to(device)\r\n",
        "\r\n",
        "    optim.zero_grad()\r\n",
        "\r\n",
        "    prediction = model(image)\r\n",
        "    # print(prediction,target)\r\n",
        "    loss = loss_fn(prediction, target)\r\n",
        "\r\n",
        "    num_corrects = (prediction.argmax(dim=1).view(target.size()).data == target.data).sum()\r\n",
        "    acc = 100.0 * (num_corrects/target.size(0))\r\n",
        "    loss.backward()\r\n",
        "    optim.step()\r\n",
        "    steps += 1\r\n",
        "    \r\n",
        "    # if steps % 6 == 0:\r\n",
        "    #     print (f'\\t Train - Epoch: {epoch+1}, Idx: {idx+1}, Training Loss: {loss.item():.4f}, Training Accuracy: {acc.item(): .2f}%')\r\n",
        "    \r\n",
        "    train_epoch_loss += loss.item()\r\n",
        "    train_epoch_acc += acc.item()\r\n",
        "\r\n",
        "  val_epoch_loss = 0\r\n",
        "  val_epoch_acc = 0\r\n",
        "  model.eval()\r\n",
        "  val_steps = 0\r\n",
        "  with torch.no_grad():\r\n",
        "    for idx, batch in enumerate(val_loader):\r\n",
        "      image, target = batch\r\n",
        "      image = image.to(device)\r\n",
        "      target = target.flatten().to(device)\r\n",
        "\r\n",
        "      prediction = model(image)\r\n",
        "      loss = loss_fn(prediction, target)\r\n",
        "      \r\n",
        "      num_corrects = (prediction.argmax(dim=1).view(target.size()).data == target.data).sum()\r\n",
        "      acc = 100.0 * (num_corrects/target.size(0))\r\n",
        "\r\n",
        "      val_epoch_loss += loss.item()\r\n",
        "      val_epoch_acc += acc.item()\r\n",
        "      val_steps +=1\r\n",
        "\r\n",
        "  \r\n",
        "  val_epoch_loss /=val_steps\r\n",
        "  val_epoch_acc /=val_steps\r\n",
        "\r\n",
        "  # val_losses.append(val_epoch_loss)\r\n",
        "  # val_accs.append(val_epoch_acc)\r\n",
        "  \r\n",
        "  print(f\"Epoch: {epoch+1:02}, Train Loss: {train_epoch_loss/steps:.3f}, Train Acc: {train_epoch_acc/steps:.2f}%, Val. Loss: {val_epoch_loss:.3f}, Val. Acc: {val_epoch_acc:.2f}% \\n{90*'='}\")\r\n",
        "  \r\n",
        "  if val_epoch_loss < es.best:\r\n",
        "    best_loss = val_epoch_loss\r\n",
        "    print(f'\\r\\t{es.best:.3f} --> {best_loss:.3f}  Updating')\r\n",
        "    torch.save(model.state_dict(),'vit-base.bin')\r\n",
        "\r\n",
        "    train_losses.append(train_epoch_loss/steps)\r\n",
        "    train_accs.append(train_epoch_acc/steps)\r\n",
        "\r\n",
        "    val_losses.append(val_epoch_loss)\r\n",
        "    val_accs.append(val_epoch_acc)\r\n",
        "    \r\n",
        "  if es.step(torch.tensor(val_epoch_loss)):\r\n",
        "    print(f'\\r\\tPatience complete! Best Loss is {es.best:.3f}')\r\n",
        "    break\r\n",
        "  if val_epoch_loss > best_loss:\r\n",
        "    print(f'\\r\\t Patience -> {es.patience - es.num_bad_epochs}')"
      ],
      "execution_count": 14,
      "outputs": [
        {
          "output_type": "stream",
          "text": [
            "Epoch: 01, Train Loss: 2.521, Train Acc: 46.03%, Val. Loss: 2.013, Val. Acc: 68.21% \n",
            "==========================================================================================\n",
            "\tinf --> 2.013  Updating\n",
            "Epoch: 02, Train Loss: 1.380, Train Acc: 80.45%, Val. Loss: 1.003, Val. Acc: 81.68% \n",
            "==========================================================================================\n",
            "\t2.013 --> 1.003  Updating\n",
            "Epoch: 03, Train Loss: 0.538, Train Acc: 93.39%, Val. Loss: 0.455, Val. Acc: 91.33% \n",
            "==========================================================================================\n",
            "\t1.003 --> 0.455  Updating\n",
            "Epoch: 04, Train Loss: 0.232, Train Acc: 96.54%, Val. Loss: 0.404, Val. Acc: 89.06% \n",
            "==========================================================================================\n",
            "\t0.455 --> 0.404  Updating\n",
            "Epoch: 05, Train Loss: 0.109, Train Acc: 98.54%, Val. Loss: 0.227, Val. Acc: 93.91% \n",
            "==========================================================================================\n",
            "\t0.404 --> 0.227  Updating\n",
            "Epoch: 06, Train Loss: 0.087, Train Acc: 98.47%, Val. Loss: 0.430, Val. Acc: 87.36% \n",
            "==========================================================================================\n",
            "\t Patience -> 9\n",
            "Epoch: 07, Train Loss: 0.071, Train Acc: 98.72%, Val. Loss: 0.321, Val. Acc: 90.92% \n",
            "==========================================================================================\n",
            "\t Patience -> 8\n",
            "Epoch: 08, Train Loss: 0.029, Train Acc: 99.72%, Val. Loss: 0.165, Val. Acc: 95.36% \n",
            "==========================================================================================\n",
            "\t0.227 --> 0.165  Updating\n",
            "Epoch: 09, Train Loss: 0.018, Train Acc: 99.89%, Val. Loss: 0.203, Val. Acc: 92.11% \n",
            "==========================================================================================\n",
            "\t Patience -> 9\n",
            "Epoch: 10, Train Loss: 0.068, Train Acc: 98.54%, Val. Loss: 0.284, Val. Acc: 91.85% \n",
            "==========================================================================================\n",
            "\t Patience -> 8\n",
            "Epoch: 11, Train Loss: 0.034, Train Acc: 99.40%, Val. Loss: 0.348, Val. Acc: 89.32% \n",
            "==========================================================================================\n",
            "\t Patience -> 7\n",
            "Epoch: 12, Train Loss: 0.024, Train Acc: 99.72%, Val. Loss: 0.297, Val. Acc: 91.43% \n",
            "==========================================================================================\n",
            "\t Patience -> 6\n",
            "Epoch: 13, Train Loss: 0.026, Train Acc: 99.50%, Val. Loss: 0.258, Val. Acc: 92.88% \n",
            "==========================================================================================\n",
            "\t Patience -> 5\n",
            "Epoch: 14, Train Loss: 0.012, Train Acc: 99.75%, Val. Loss: 0.324, Val. Acc: 92.26% \n",
            "==========================================================================================\n",
            "\t Patience -> 4\n",
            "Epoch: 15, Train Loss: 0.013, Train Acc: 99.82%, Val. Loss: 0.171, Val. Acc: 95.46% \n",
            "==========================================================================================\n",
            "\t Patience -> 3\n",
            "Epoch: 16, Train Loss: 0.030, Train Acc: 99.24%, Val. Loss: 0.263, Val. Acc: 92.26% \n",
            "==========================================================================================\n",
            "\t Patience -> 2\n",
            "Epoch: 17, Train Loss: 0.069, Train Acc: 98.40%, Val. Loss: 0.412, Val. Acc: 89.47% \n",
            "==========================================================================================\n",
            "\t Patience -> 1\n",
            "Epoch: 18, Train Loss: 0.035, Train Acc: 99.25%, Val. Loss: 0.186, Val. Acc: 94.53% \n",
            "==========================================================================================\n",
            "\tPatience complete! Best Loss is 0.165\n"
          ],
          "name": "stdout"
        }
      ]
    },
    {
      "cell_type": "code",
      "metadata": {
        "colab": {
          "base_uri": "https://localhost:8080/",
          "height": 839
        },
        "id": "dcRzXaRdFOpx",
        "outputId": "f40e31bc-2747-462c-a6f2-8363d67485a1"
      },
      "source": [
        "import matplotlib.pyplot as plt\r\n",
        "plt.style.use('ggplot')\r\n",
        "plt.figure(figsize=(10,7))\r\n",
        "plt.plot(train_losses,label='Training Loss')\r\n",
        "plt.plot(val_losses,label='Validation Loss')\r\n",
        "plt.legend()\r\n",
        "plt.show()\r\n",
        "\r\n",
        "plt.figure(figsize=(10,7))\r\n",
        "plt.plot(train_accs,label='Training Accuracy')\r\n",
        "plt.plot(val_accs,label='Validation Accuracy')\r\n",
        "plt.legend()\r\n",
        "plt.show()"
      ],
      "execution_count": 15,
      "outputs": [
        {
          "output_type": "display_data",
          "data": {
            "image/png": "[encoded data removed]",
            "text/plain": [
              "<Figure size 720x504 with 1 Axes>"
            ]
          },
          "metadata": {
            "tags": []
          }
        },
        {
          "output_type": "display_data",
          "data": {
            "image/png": "[encoded data removed]",
            "text/plain": [
              "<Figure size 720x504 with 1 Axes>"
            ]
          },
          "metadata": {
            "tags": []
          }
        }
      ]
    },
    {
      "cell_type": "code",
      "metadata": {
        "id": "xo2Sewr5hYh2",
        "colab": {
          "base_uri": "https://localhost:8080/"
        },
        "outputId": "5889efb7-bbf6-4511-bc9c-62251efab029"
      },
      "source": [
        "val.shape"
      ],
      "execution_count": null,
      "outputs": [
        {
          "output_type": "execute_result",
          "data": {
            "text/plain": [
              "(104, 14)"
            ]
          },
          "metadata": {
            "tags": []
          },
          "execution_count": 53
        }
      ]
    },
    {
      "cell_type": "code",
      "metadata": {
        "colab": {
          "base_uri": "https://localhost:8080/"
        },
        "id": "hF8i7CFxU_iM",
        "outputId": "fc232c15-463c-4dc1-af87-f6c35268bd1e"
      },
      "source": [
        "from sklearn.metrics import classification_report, confusion_matrix\r\n",
        "\r\n",
        "val_dataset = SpeciesDataset('/content/val.csv',transform=val_transformer)\r\n",
        "val_loader = torch.utils.data.DataLoader(val_dataset,batch_size=612)\r\n",
        "\r\n",
        "model.load_state_dict(torch.load('vit-base.bin'))\r\n",
        "model.cuda()\r\n",
        "with torch.no_grad():\r\n",
        "  image,target = next(iter(val_loader))\r\n",
        "  image = image.to(device)\r\n",
        "  target = target.flatten().to(device)\r\n",
        "\r\n",
        "  prediction = model(image)\r\n",
        "\r\n",
        "prediction = prediction.argmax(dim=1).view(target.size()).cpu().numpy()\r\n",
        "target = target.cpu().numpy()\r\n",
        "\r\n",
        "print(classification_report(target,prediction,target_names=label_encoders['species'].classes_))"
      ],
      "execution_count": 16,
      "outputs": [
        {
          "output_type": "stream",
          "text": [
            "                           precision    recall  f1-score   support\n",
            "\n",
            "          Ancyclostoma sp       1.00      0.95      0.98        21\n",
            "     Ascaris lumbricoides       1.00      0.98      0.99        45\n",
            "       Cryptosporidium sp       0.83      1.00      0.91        20\n",
            "  Cyclospora cayetanensis       0.85      0.98      0.91        46\n",
            "  Dibothriocephalus latus       0.96      1.00      0.98        26\n",
            "    Entamoeba histolytica       0.98      0.91      0.94        45\n",
            "  Enterobius vermicularis       0.96      1.00      0.98        23\n",
            "       Giardia duodenalis       1.00      0.91      0.95        45\n",
            "         Hymenolepis nana       1.00      1.00      1.00        18\n",
            "    Plasmodium falciparum       0.83      0.98      0.90        45\n",
            "      Plasmodium knowlesi       1.00      0.95      0.97        19\n",
            "      Plasmodium malariae       0.97      0.83      0.89        46\n",
            "         Plasmodium ovale       0.91      0.91      0.91        43\n",
            "         Plasmodium vivax       0.89      0.93      0.91        45\n",
            "           Sarcocystis sp       0.94      0.85      0.89        20\n",
            "Strongyloides stercoralis       1.00      1.00      1.00        28\n",
            "           Toxocara canis       1.00      0.95      0.98        21\n",
            "        Toxoplasma gondii       1.00      0.94      0.97        16\n",
            "           Trichinella sp       1.00      1.00      1.00        16\n",
            "      Trichuris Trichuria       1.00      0.92      0.96        24\n",
            "\n",
            "                 accuracy                           0.94       612\n",
            "                macro avg       0.96      0.95      0.95       612\n",
            "             weighted avg       0.95      0.94      0.94       612\n",
            "\n"
          ],
          "name": "stdout"
        }
      ]
    },
    {
      "cell_type": "code",
      "metadata": {
        "colab": {
          "base_uri": "https://localhost:8080/",
          "height": 546
        },
        "id": "syP7FzReiPxc",
        "outputId": "198a10d7-cad9-4560-f11b-ae4c8f7e673d"
      },
      "source": [
        "import seaborn as sn\r\n",
        "import pandas as pd\r\n",
        "import matplotlib.pyplot as plt\r\n",
        "confusion = confusion_matrix(target,prediction)\r\n",
        "df_cm = pd.DataFrame(confusion, index = label_encoders['species'].classes_,\r\n",
        "                  columns = label_encoders['species'].classes_)\r\n",
        "plt.figure(figsize = (10,7))\r\n",
        "sn.heatmap(df_cm, annot=True)\r\n",
        "plt.show()"
      ],
      "execution_count": 17,
      "outputs": [
        {
          "output_type": "display_data",
          "data": {
            "image/png": "[encoded data removed]",
            "text/plain": [
              "<Figure size 720x504 with 2 Axes>"
            ]
          },
          "metadata": {
            "tags": []
          }
        }
      ]
    },
    {
      "cell_type": "markdown",
      "metadata": {
        "id": "fwxkRWGzGKW0"
      },
      "source": [
        "# VIT Resnet50 Imagenet 21k"
      ]
    },
    {
      "cell_type": "code",
      "metadata": {
        "id": "VvBDOG-bGKW6"
      },
      "source": [
        "class ViResNet50(nn.Module):\r\n",
        "  def __init__(self,num_classes_classifier=16):\r\n",
        "    super().__init__()\r\n",
        "    self.img_transformer = timm.models.vision_transformer.vit_base_resnet50_224_in21k(pretrained=True,num_classes = 512)\r\n",
        "    self.drop = nn.Dropout(0.4)\r\n",
        "    self.classifier = nn.Linear(512,num_classes_classifier)\r\n",
        "\r\n",
        "  def forward(self,img):\r\n",
        "    repr = self.img_transformer(img)\r\n",
        "    repr = self.drop(repr)\r\n",
        "    output = self.classifier(repr)\r\n",
        "\r\n",
        "    return output  "
      ],
      "execution_count": null,
      "outputs": []
    },
    {
      "cell_type": "code",
      "metadata": {
        "id": "s3BCkeXDKlZ5",
        "colab": {
          "base_uri": "https://localhost:8080/"
        },
        "outputId": "e828bf0e-e58f-4d66-952f-7891b4e75d81"
      },
      "source": [
        "model = ViResNet50()"
      ],
      "execution_count": null,
      "outputs": [
        {
          "output_type": "stream",
          "text": [
            "Removing representation layer for fine-tuning.\n"
          ],
          "name": "stderr"
        }
      ]
    },
    {
      "cell_type": "code",
      "metadata": {
        "colab": {
          "base_uri": "https://localhost:8080/"
        },
        "id": "mzk4ZLhSGKW6",
        "outputId": "6ff975e1-08a8-4e0d-ff1f-c4151732412a"
      },
      "source": [
        "model.load_state_dict(torch.load('vit-resnet.bin'))"
      ],
      "execution_count": null,
      "outputs": [
        {
          "output_type": "execute_result",
          "data": {
            "text/plain": [
              "<All keys matched successfully>"
            ]
          },
          "metadata": {
            "tags": []
          },
          "execution_count": 109
        }
      ]
    },
    {
      "cell_type": "code",
      "metadata": {
        "colab": {
          "base_uri": "https://localhost:8080/"
        },
        "id": "cBFOoiubGKW7",
        "outputId": "8b8c5626-951e-41f6-93ef-59e158327ed9"
      },
      "source": [
        "torch.seed()"
      ],
      "execution_count": null,
      "outputs": [
        {
          "output_type": "execute_result",
          "data": {
            "text/plain": [
              "14185017976319700136"
            ]
          },
          "metadata": {
            "tags": []
          },
          "execution_count": 100
        }
      ]
    },
    {
      "cell_type": "code",
      "metadata": {
        "colab": {
          "base_uri": "https://localhost:8080/"
        },
        "id": "cXdHccnRGKW7",
        "outputId": "f362528f-0d13-426b-c97f-2c2fadbf7809"
      },
      "source": [
        "device = torch.device('cuda')\r\n",
        "optim = torch.optim.Adam(filter(lambda p: p.requires_grad, model.parameters()),lr = 1e-4)\r\n",
        "loss_fn = nn.CrossEntropyLoss().to(device)\r\n",
        "es = EarlyStopping(patience = 10)\r\n",
        "es.best = np.inf\r\n",
        "\r\n",
        "model.cuda()\r\n",
        "\r\n",
        "train_losses = []\r\n",
        "train_accs = []\r\n",
        "val_losses = []\r\n",
        "val_accs = []\r\n",
        "for epoch in range(100):\r\n",
        "  train_epoch_loss = 0\r\n",
        "  train_epoch_acc = 0\r\n",
        "  model.train()\r\n",
        "  steps = 0\r\n",
        "  for idx, batch in enumerate(train_loader):\r\n",
        "    image, target = batch\r\n",
        "    image = image.to(device)\r\n",
        "    target = target.flatten().to(device)\r\n",
        "\r\n",
        "    optim.zero_grad()\r\n",
        "\r\n",
        "    prediction = model(image)\r\n",
        "    # print(prediction,target)\r\n",
        "    loss = loss_fn(prediction, target)\r\n",
        "    loss.backward()\r\n",
        "\r\n",
        "    num_corrects = (prediction.argmax(dim=1).view(target.size()).data == target.data).sum()\r\n",
        "    acc = 100.0 * (num_corrects/target.size(0))\r\n",
        "    optim.step()\r\n",
        "    steps += 1\r\n",
        "    \r\n",
        "    # if steps % 6 == 0:\r\n",
        "    #     print (f'\\t Train - Epoch: {epoch+1}, Idx: {idx+1}, Training Loss: {loss.item():.4f}, Training Accuracy: {acc.item(): .2f}%')\r\n",
        "    \r\n",
        "    train_epoch_loss += loss.item()\r\n",
        "    train_epoch_acc += acc.item()\r\n",
        "\r\n",
        "  val_epoch_loss = 0\r\n",
        "  val_epoch_acc = 0\r\n",
        "  model.eval()\r\n",
        "  val_steps = 0\r\n",
        "  with torch.no_grad():\r\n",
        "    for idx, batch in enumerate(val_loader):\r\n",
        "      image, target = batch\r\n",
        "      image = image.to(device)\r\n",
        "      target = target.flatten().to(device)\r\n",
        "\r\n",
        "      prediction = model(image)\r\n",
        "      loss = loss_fn(prediction, target)\r\n",
        "      \r\n",
        "      num_corrects = (prediction.argmax(dim=1).view(target.size()).data == target.data).sum()\r\n",
        "      acc = 100.0 * (num_corrects/target.size(0))\r\n",
        "\r\n",
        "      val_epoch_loss += loss.item()\r\n",
        "      val_epoch_acc += acc.item()\r\n",
        "      val_steps +=1\r\n",
        "\r\n",
        "  \r\n",
        "  val_epoch_loss /=val_steps\r\n",
        "  val_epoch_acc /=val_steps\r\n",
        "\r\n",
        "  # val_losses.append(val_epoch_loss)\r\n",
        "  # val_accs.append(val_epoch_acc)\r\n",
        "  \r\n",
        "  print(f\"Epoch: {epoch+1:02}, Train Loss: {train_epoch_loss/steps:.3f}, Train Acc: {train_epoch_acc/steps:.2f}%, Val. Loss: {val_epoch_loss:.3f}, Val. Acc: {val_epoch_acc:.2f}% \\n{90*'='}\")\r\n",
        "  \r\n",
        "  if val_epoch_loss < es.best:\r\n",
        "    best_loss = val_epoch_loss\r\n",
        "    print(f'\\r\\t{es.best:.3f} --> {best_loss:.3f}  Updating')\r\n",
        "    torch.save(model.state_dict(),'vit-resnet.bin')\r\n",
        "\r\n",
        "    train_losses.append(train_epoch_loss/steps)\r\n",
        "    train_accs.append(train_epoch_acc/steps)\r\n",
        "\r\n",
        "    val_losses.append(val_epoch_loss)\r\n",
        "    val_accs.append(val_epoch_acc)\r\n",
        "    \r\n",
        "  if es.step(torch.tensor(val_epoch_loss)):\r\n",
        "    print(f'\\r\\tPatience complete! Best Loss is {es.best:.3f}')\r\n",
        "    break\r\n",
        "  if val_epoch_loss > best_loss:\r\n",
        "    print(f'\\r\\t Patience -> {es.patience - es.num_bad_epochs}')"
      ],
      "execution_count": null,
      "outputs": [
        {
          "output_type": "stream",
          "text": [
            "Epoch: 01, Train Loss: 0.056, Train Acc: 100.00%, Val. Loss: 0.882, Val. Acc: 77.16% \n",
            "==========================================================================================\n",
            "\tinf --> 0.882  Updating\n",
            "Epoch: 02, Train Loss: 0.030, Train Acc: 100.00%, Val. Loss: 0.729, Val. Acc: 77.84% \n",
            "==========================================================================================\n",
            "\t0.882 --> 0.729  Updating\n",
            "Epoch: 03, Train Loss: 0.064, Train Acc: 98.30%, Val. Loss: 0.969, Val. Acc: 72.84% \n",
            "==========================================================================================\n",
            "\t Patience -> 9\n",
            "Epoch: 04, Train Loss: 0.055, Train Acc: 98.48%, Val. Loss: 1.109, Val. Acc: 77.35% \n",
            "==========================================================================================\n",
            "\t Patience -> 8\n",
            "Epoch: 05, Train Loss: 0.076, Train Acc: 97.73%, Val. Loss: 1.067, Val. Acc: 73.33% \n",
            "==========================================================================================\n",
            "\t Patience -> 7\n",
            "Epoch: 06, Train Loss: 0.075, Train Acc: 98.30%, Val. Loss: 0.908, Val. Acc: 73.14% \n",
            "==========================================================================================\n",
            "\t Patience -> 6\n",
            "Epoch: 07, Train Loss: 0.019, Train Acc: 99.81%, Val. Loss: 1.118, Val. Acc: 74.51% \n",
            "==========================================================================================\n",
            "\t Patience -> 5\n",
            "Epoch: 08, Train Loss: 0.031, Train Acc: 99.43%, Val. Loss: 1.098, Val. Acc: 77.55% \n",
            "==========================================================================================\n",
            "\t Patience -> 4\n",
            "Epoch: 09, Train Loss: 0.014, Train Acc: 100.00%, Val. Loss: 1.031, Val. Acc: 80.00% \n",
            "==========================================================================================\n",
            "\t Patience -> 3\n",
            "Epoch: 10, Train Loss: 0.028, Train Acc: 99.62%, Val. Loss: 1.501, Val. Acc: 62.75% \n",
            "==========================================================================================\n",
            "\t Patience -> 2\n",
            "Epoch: 11, Train Loss: 0.035, Train Acc: 99.24%, Val. Loss: 0.848, Val. Acc: 82.55% \n",
            "==========================================================================================\n",
            "\t Patience -> 1\n",
            "Epoch: 12, Train Loss: 0.009, Train Acc: 99.81%, Val. Loss: 0.704, Val. Acc: 85.59% \n",
            "==========================================================================================\n",
            "\t0.729 --> 0.704  Updating\n",
            "Epoch: 13, Train Loss: 0.011, Train Acc: 99.62%, Val. Loss: 1.366, Val. Acc: 68.43% \n",
            "==========================================================================================\n",
            "\t Patience -> 9\n",
            "Epoch: 14, Train Loss: 0.022, Train Acc: 99.62%, Val. Loss: 1.665, Val. Acc: 70.10% \n",
            "==========================================================================================\n",
            "\t Patience -> 8\n",
            "Epoch: 15, Train Loss: 0.013, Train Acc: 99.81%, Val. Loss: 1.416, Val. Acc: 65.78% \n",
            "==========================================================================================\n",
            "\t Patience -> 7\n",
            "Epoch: 16, Train Loss: 0.004, Train Acc: 100.00%, Val. Loss: 1.213, Val. Acc: 70.29% \n",
            "==========================================================================================\n",
            "\t Patience -> 6\n",
            "Epoch: 17, Train Loss: 0.004, Train Acc: 100.00%, Val. Loss: 1.032, Val. Acc: 77.35% \n",
            "==========================================================================================\n",
            "\t Patience -> 5\n",
            "Epoch: 18, Train Loss: 0.003, Train Acc: 100.00%, Val. Loss: 1.610, Val. Acc: 72.65% \n",
            "==========================================================================================\n",
            "\t Patience -> 4\n",
            "Epoch: 19, Train Loss: 0.003, Train Acc: 100.00%, Val. Loss: 1.228, Val. Acc: 70.49% \n",
            "==========================================================================================\n",
            "\t Patience -> 3\n",
            "Epoch: 20, Train Loss: 0.002, Train Acc: 100.00%, Val. Loss: 1.235, Val. Acc: 76.18% \n",
            "==========================================================================================\n",
            "\t Patience -> 2\n",
            "Epoch: 21, Train Loss: 0.002, Train Acc: 100.00%, Val. Loss: 1.382, Val. Acc: 74.02% \n",
            "==========================================================================================\n",
            "\t Patience -> 1\n",
            "Epoch: 22, Train Loss: 0.002, Train Acc: 100.00%, Val. Loss: 1.675, Val. Acc: 69.51% \n",
            "==========================================================================================\n",
            "\tPatience complete! Best Loss is 0.704\n"
          ],
          "name": "stdout"
        }
      ]
    },
    {
      "cell_type": "code",
      "metadata": {
        "colab": {
          "base_uri": "https://localhost:8080/",
          "height": 839
        },
        "id": "pOJuJWNTGKW8",
        "outputId": "b642391b-f0ab-4684-8f17-36dea57400bf"
      },
      "source": [
        "import matplotlib.pyplot as plt\r\n",
        "plt.style.use('ggplot')\r\n",
        "plt.figure(figsize=(10,7))\r\n",
        "plt.plot(train_losses,label='Training Loss')\r\n",
        "plt.plot(val_losses,label='Validation Loss')\r\n",
        "plt.legend()\r\n",
        "plt.show()\r\n",
        "\r\n",
        "plt.figure(figsize=(10,7))\r\n",
        "plt.plot(train_accs,label='Training Accuracy')\r\n",
        "plt.plot(val_accs,label='Validation Accuracy')\r\n",
        "plt.legend()\r\n",
        "plt.show()"
      ],
      "execution_count": null,
      "outputs": [
        {
          "output_type": "display_data",
          "data": {
            "image/png": "[encoded data removed]",
            "text/plain": [
              "<Figure size 720x504 with 1 Axes>"
            ]
          },
          "metadata": {
            "tags": []
          }
        },
        {
          "output_type": "display_data",
          "data": {
            "image/png": "[encoded data removed]",
            "text/plain": [
              "<Figure size 720x504 with 1 Axes>"
            ]
          },
          "metadata": {
            "tags": []
          }
        }
      ]
    },
    {
      "cell_type": "code",
      "metadata": {
        "colab": {
          "base_uri": "https://localhost:8080/"
        },
        "id": "ldmJkyZPGKW8",
        "outputId": "c1686fc9-aa71-4491-b8c6-349235fbe539"
      },
      "source": [
        "from sklearn.metrics import classification_report, confusion_matrix\r\n",
        "\r\n",
        "val_dataset = SpeciesDataset('/content/val.csv',transform=val_transformer)\r\n",
        "val_loader = torch.utils.data.DataLoader(val_dataset,batch_size=51)\r\n",
        "model.load_state_dict(torch.load('vit-resnet.bin'))\r\n",
        "model.cuda()\r\n",
        "with torch.no_grad():\r\n",
        "  image,target = next(iter(val_loader))\r\n",
        "  image = image.to(device)\r\n",
        "  target = target.flatten().to(device)\r\n",
        "\r\n",
        "  prediction = model(image)\r\n",
        "\r\n",
        "prediction = prediction.argmax(dim=1).view(target.size()).cpu().numpy()\r\n",
        "target = target.cpu().numpy()\r\n",
        "\r\n",
        "print(classification_report(target,prediction,target_names=val_dataset.LE.classes_))"
      ],
      "execution_count": null,
      "outputs": [
        {
          "output_type": "stream",
          "text": [
            "                           precision    recall  f1-score   support\n",
            "\n",
            "         Ancyclostoma sp.       1.00      0.50      0.67         2\n",
            "     Ascaris lumbricoides       1.00      1.00      1.00         4\n",
            "      Cryptosporidium sp.       1.00      1.00      1.00         2\n",
            "  Cyclospora cayetanensis       1.00      1.00      1.00         4\n",
            "  Dibothriocephalus latus       1.00      1.00      1.00         3\n",
            "   Entamoeba histolytica]       0.80      1.00      0.89         4\n",
            "  Enterobius vermicularis       0.50      0.50      0.50         2\n",
            "       Giardia duodenalis       1.00      0.75      0.86         4\n",
            "    Plasmodium falciparum       1.00      0.80      0.89         5\n",
            "      Plasmodium malariae       0.60      0.75      0.67         4\n",
            "         Plasmodium ovale       0.50      1.00      0.67         3\n",
            "         Plasmodium vivax       1.00      0.60      0.75         5\n",
            "          Sarcocystis sp.       1.00      1.00      1.00         2\n",
            "Strongyloides stercoralis       0.50      0.67      0.57         3\n",
            "           Toxocara canis       1.00      1.00      1.00         2\n",
            "      Trichuris Trichuria       1.00      0.50      0.67         2\n",
            "\n",
            "                 accuracy                           0.82        51\n",
            "                macro avg       0.87      0.82      0.82        51\n",
            "             weighted avg       0.87      0.82      0.83        51\n",
            "\n"
          ],
          "name": "stdout"
        }
      ]
    },
    {
      "cell_type": "code",
      "metadata": {
        "colab": {
          "base_uri": "https://localhost:8080/",
          "height": 546
        },
        "id": "fyKHP0L9GKW8",
        "outputId": "d8db8bba-f99a-4c0b-fd7a-8ef229331984"
      },
      "source": [
        "import seaborn as sn\r\n",
        "import pandas as pd\r\n",
        "import matplotlib.pyplot as plt\r\n",
        "confusion = confusion_matrix(target,prediction)\r\n",
        "df_cm = pd.DataFrame(confusion, index = val_dataset.LE.classes_,\r\n",
        "                  columns = val_dataset.LE.classes_)\r\n",
        "plt.figure(figsize = (10,7))\r\n",
        "sn.heatmap(df_cm, annot=True)\r\n",
        "plt.show()"
      ],
      "execution_count": null,
      "outputs": [
        {
          "output_type": "display_data",
          "data": {
            "image/png": "[encoded data removed]",
            "text/plain": [
              "<Figure size 720x504 with 2 Axes>"
            ]
          },
          "metadata": {
            "tags": []
          }
        }
      ]
    },
    {
      "cell_type": "code",
      "metadata": {
        "id": "F33zBEGolnnN"
      },
      "source": [
        ""
      ],
      "execution_count": null,
      "outputs": []
    }
  ]
}