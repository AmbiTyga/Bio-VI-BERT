{
  "nbformat": 4,
  "nbformat_minor": 0,
  "metadata": {
    "colab": {
      "name": "Pre-trained Image Transformer",
      "provenance": [],
      "collapsed_sections": [],
      "machine_shape": "hm",
      "include_colab_link": true
    },
    "kernelspec": {
      "name": "python3",
      "display_name": "Python 3"
    },
    "accelerator": "GPU"
  },
  "cells": [
    {
      "cell_type": "markdown",
      "metadata": {
        "id": "view-in-github",
        "colab_type": "text"
      },
      "source": [
        "<a href=\"https://colab.research.google.com/github/AmbiTyga/Bio-VI-BERT/blob/main/Pre_trained_Image_Transformer.ipynb\" target=\"_parent\"><img src=\"https://colab.research.google.com/assets/colab-badge.svg\" alt=\"Open In Colab\"/></a>"
      ]
    },
    {
      "cell_type": "code",
      "metadata": {
        "cellView": "form",
        "id": "BUVEtoVMamFa"
      },
      "source": [
        "#@title EarlyStopping\r\n",
        "class EarlyStopping(object):\r\n",
        "    def __init__(self, mode='min', min_delta=0, patience=10, percentage=False):\r\n",
        "        self.mode = mode\r\n",
        "        self.min_delta = min_delta\r\n",
        "        self.patience = patience\r\n",
        "        self.best = None\r\n",
        "        self.num_bad_epochs = 0\r\n",
        "        self.is_better = None\r\n",
        "        self._init_is_better(mode, min_delta, percentage)\r\n",
        "\r\n",
        "        if patience == 0:\r\n",
        "            self.is_better = lambda a, b: True\r\n",
        "            self.step = lambda a: False\r\n",
        "\r\n",
        "    def step(self, metrics):\r\n",
        "        if self.best is None:\r\n",
        "            self.best = metrics\r\n",
        "            return False\r\n",
        "\r\n",
        "        if torch.isnan(metrics):\r\n",
        "            return True\r\n",
        "\r\n",
        "        if self.is_better(metrics, self.best):\r\n",
        "            self.num_bad_epochs = 0\r\n",
        "            self.best = metrics\r\n",
        "        else:\r\n",
        "            self.num_bad_epochs += 1\r\n",
        "\r\n",
        "        if self.num_bad_epochs >= self.patience:\r\n",
        "            return True\r\n",
        "\r\n",
        "        return False\r\n",
        "\r\n",
        "    def _init_is_better(self, mode, min_delta, percentage):\r\n",
        "        if mode not in {'min', 'max'}:\r\n",
        "            raise ValueError('mode ' + mode + ' is unknown!')\r\n",
        "        if not percentage:\r\n",
        "            if mode == 'min':\r\n",
        "                self.is_better = lambda a, best: a < best - min_delta\r\n",
        "            if mode == 'max':\r\n",
        "                self.is_better = lambda a, best: a > best + min_delta\r\n",
        "        else:\r\n",
        "            if mode == 'min':\r\n",
        "                self.is_better = lambda a, best: a < best - (\r\n",
        "                            best * min_delta / 100)\r\n",
        "            if mode == 'max':\r\n",
        "                self.is_better = lambda a, best: a > best + (\r\n",
        "                            best * min_delta / 100)"
      ],
      "execution_count": 1,
      "outputs": []
    },
    {
      "cell_type": "code",
      "metadata": {
        "colab": {
          "base_uri": "https://localhost:8080/"
        },
        "id": "lK7qSJkK8HBe",
        "outputId": "8a789513-1e2b-4db5-8150-53fe3e06c653"
      },
      "source": [
        "!git clone https://github.com/rwightman/pytorch-image-models.git\r\n",
        "%cd pytorch-image-models\r\n",
        "!pip install -r requirements.txt -q\r\n",
        "!python setup.py install -q\r\n",
        "%cd ..\r\n",
        "\r\n",
        "import os\r\n",
        "os.kill(os.getpid(), 9)\r\n",
        "# Restart Runtime"
      ],
      "execution_count": null,
      "outputs": [
        {
          "output_type": "stream",
          "text": [
            "Cloning into 'pytorch-image-models'...\n",
            "remote: Enumerating objects: 22, done.\u001b[K\n",
            "remote: Counting objects: 100% (22/22), done.\u001b[K\n",
            "remote: Compressing objects: 100% (18/18), done.\u001b[K\n",
            "remote: Total 4594 (delta 5), reused 19 (delta 4), pack-reused 4572\u001b[K\n",
            "Receiving objects: 100% (4594/4594), 15.78 MiB | 11.52 MiB/s, done.\n",
            "Resolving deltas: 100% (3303/3303), done.\n",
            "/content/pytorch-image-models\n",
            "running install\n",
            "running bdist_egg\n",
            "running egg_info\n",
            "creating timm.egg-info\n",
            "writing timm.egg-info/PKG-INFO\n",
            "writing dependency_links to timm.egg-info/dependency_links.txt\n",
            "writing requirements to timm.egg-info/requires.txt\n",
            "writing top-level names to timm.egg-info/top_level.txt\n",
            "writing manifest file 'timm.egg-info/SOURCES.txt'\n",
            "reading manifest template 'MANIFEST.in'\n",
            "writing manifest file 'timm.egg-info/SOURCES.txt'\n",
            "installing library code to build/bdist.linux-x86_64/egg\n",
            "running install_lib\n",
            "running build_py\n",
            "creating build\n",
            "creating build/lib\n",
            "creating build/lib/timm\n",
            "copying timm/version.py -> build/lib/timm\n",
            "copying timm/__init__.py -> build/lib/timm\n",
            "creating build/lib/timm/models\n",
            "copying timm/models/nasnet.py -> build/lib/timm/models\n",
            "copying timm/models/hrnet.py -> build/lib/timm/models\n",
            "copying timm/models/selecsls.py -> build/lib/timm/models\n",
            "copying timm/models/features.py -> build/lib/timm/models\n",
            "copying timm/models/resnet.py -> build/lib/timm/models\n",
            "copying timm/models/registry.py -> build/lib/timm/models\n",
            "copying timm/models/byobnet.py -> build/lib/timm/models\n",
            "copying timm/models/mobilenetv3.py -> build/lib/timm/models\n",
            "copying timm/models/efficientnet.py -> build/lib/timm/models\n",
            "copying timm/models/dla.py -> build/lib/timm/models\n",
            "copying timm/models/resnetv2.py -> build/lib/timm/models\n",
            "copying timm/models/helpers.py -> build/lib/timm/models\n",
            "copying timm/models/vision_transformer.py -> build/lib/timm/models\n",
            "copying timm/models/tresnet.py -> build/lib/timm/models\n",
            "copying timm/models/res2net.py -> build/lib/timm/models\n",
            "copying timm/models/densenet.py -> build/lib/timm/models\n",
            "copying timm/models/senet.py -> build/lib/timm/models\n",
            "copying timm/models/inception_v3.py -> build/lib/timm/models\n",
            "copying timm/models/factory.py -> build/lib/timm/models\n",
            "copying timm/models/inception_v4.py -> build/lib/timm/models\n",
            "copying timm/models/rexnet.py -> build/lib/timm/models\n",
            "copying timm/models/vovnet.py -> build/lib/timm/models\n",
            "copying timm/models/sknet.py -> build/lib/timm/models\n",
            "copying timm/models/efficientnet_blocks.py -> build/lib/timm/models\n",
            "copying timm/models/gluon_xception.py -> build/lib/timm/models\n",
            "copying timm/models/resnest.py -> build/lib/timm/models\n",
            "copying timm/models/xception.py -> build/lib/timm/models\n",
            "copying timm/models/regnet.py -> build/lib/timm/models\n",
            "copying timm/models/xception_aligned.py -> build/lib/timm/models\n",
            "copying timm/models/cspnet.py -> build/lib/timm/models\n",
            "copying timm/models/gluon_resnet.py -> build/lib/timm/models\n",
            "copying timm/models/dpn.py -> build/lib/timm/models\n",
            "copying timm/models/vgg.py -> build/lib/timm/models\n",
            "copying timm/models/efficientnet_builder.py -> build/lib/timm/models\n",
            "copying timm/models/pnasnet.py -> build/lib/timm/models\n",
            "copying timm/models/nfnet.py -> build/lib/timm/models\n",
            "copying timm/models/inception_resnet_v2.py -> build/lib/timm/models\n",
            "copying timm/models/__init__.py -> build/lib/timm/models\n",
            "creating build/lib/timm/optim\n",
            "copying timm/optim/adamw.py -> build/lib/timm/optim\n",
            "copying timm/optim/rmsprop_tf.py -> build/lib/timm/optim\n",
            "copying timm/optim/radam.py -> build/lib/timm/optim\n",
            "copying timm/optim/nadam.py -> build/lib/timm/optim\n",
            "copying timm/optim/lookahead.py -> build/lib/timm/optim\n",
            "copying timm/optim/novograd.py -> build/lib/timm/optim\n",
            "copying timm/optim/nvnovograd.py -> build/lib/timm/optim\n",
            "copying timm/optim/adafactor.py -> build/lib/timm/optim\n",
            "copying timm/optim/adamp.py -> build/lib/timm/optim\n",
            "copying timm/optim/optim_factory.py -> build/lib/timm/optim\n",
            "copying timm/optim/adahessian.py -> build/lib/timm/optim\n",
            "copying timm/optim/sgdp.py -> build/lib/timm/optim\n",
            "copying timm/optim/__init__.py -> build/lib/timm/optim\n",
            "creating build/lib/timm/utils\n",
            "copying timm/utils/summary.py -> build/lib/timm/utils\n",
            "copying timm/utils/log.py -> build/lib/timm/utils\n",
            "copying timm/utils/misc.py -> build/lib/timm/utils\n",
            "copying timm/utils/model.py -> build/lib/timm/utils\n",
            "copying timm/utils/checkpoint_saver.py -> build/lib/timm/utils\n",
            "copying timm/utils/metrics.py -> build/lib/timm/utils\n",
            "copying timm/utils/jit.py -> build/lib/timm/utils\n",
            "copying timm/utils/distributed.py -> build/lib/timm/utils\n",
            "copying timm/utils/agc.py -> build/lib/timm/utils\n",
            "copying timm/utils/model_ema.py -> build/lib/timm/utils\n",
            "copying timm/utils/cuda.py -> build/lib/timm/utils\n",
            "copying timm/utils/clip_grad.py -> build/lib/timm/utils\n",
            "copying timm/utils/__init__.py -> build/lib/timm/utils\n",
            "creating build/lib/timm/scheduler\n",
            "copying timm/scheduler/scheduler_factory.py -> build/lib/timm/scheduler\n",
            "copying timm/scheduler/scheduler.py -> build/lib/timm/scheduler\n",
            "copying timm/scheduler/tanh_lr.py -> build/lib/timm/scheduler\n",
            "copying timm/scheduler/step_lr.py -> build/lib/timm/scheduler\n",
            "copying timm/scheduler/plateau_lr.py -> build/lib/timm/scheduler\n",
            "copying timm/scheduler/cosine_lr.py -> build/lib/timm/scheduler\n",
            "copying timm/scheduler/__init__.py -> build/lib/timm/scheduler\n",
            "creating build/lib/timm/loss\n",
            "copying timm/loss/asymmetric_loss.py -> build/lib/timm/loss\n",
            "copying timm/loss/cross_entropy.py -> build/lib/timm/loss\n",
            "copying timm/loss/jsd.py -> build/lib/timm/loss\n",
            "copying timm/loss/__init__.py -> build/lib/timm/loss\n",
            "creating build/lib/timm/data\n",
            "copying timm/data/loader.py -> build/lib/timm/data\n",
            "copying timm/data/random_erasing.py -> build/lib/timm/data\n",
            "copying timm/data/transforms.py -> build/lib/timm/data\n",
            "copying timm/data/auto_augment.py -> build/lib/timm/data\n",
            "copying timm/data/dataset_factory.py -> build/lib/timm/data\n",
            "copying timm/data/config.py -> build/lib/timm/data\n",
            "copying timm/data/constants.py -> build/lib/timm/data\n",
            "copying timm/data/real_labels.py -> build/lib/timm/data\n",
            "copying timm/data/dataset.py -> build/lib/timm/data\n",
            "copying timm/data/tf_preprocessing.py -> build/lib/timm/data\n",
            "copying timm/data/distributed_sampler.py -> build/lib/timm/data\n",
            "copying timm/data/mixup.py -> build/lib/timm/data\n",
            "copying timm/data/transforms_factory.py -> build/lib/timm/data\n",
            "copying timm/data/__init__.py -> build/lib/timm/data\n",
            "creating build/lib/timm/models/layers\n",
            "copying timm/models/layers/eca.py -> build/lib/timm/models/layers\n",
            "copying timm/models/layers/selective_kernel.py -> build/lib/timm/models/layers\n",
            "copying timm/models/layers/blur_pool.py -> build/lib/timm/models/layers\n",
            "copying timm/models/layers/median_pool.py -> build/lib/timm/models/layers\n",
            "copying timm/models/layers/activations_jit.py -> build/lib/timm/models/layers\n",
            "copying timm/models/layers/separable_conv.py -> build/lib/timm/models/layers\n",
            "copying timm/models/layers/cbam.py -> build/lib/timm/models/layers\n",
            "copying timm/models/layers/anti_aliasing.py -> build/lib/timm/models/layers\n",
            "copying timm/models/layers/split_batchnorm.py -> build/lib/timm/models/layers\n",
            "copying timm/models/layers/mixed_conv2d.py -> build/lib/timm/models/layers\n",
            "copying timm/models/layers/norm_act.py -> build/lib/timm/models/layers\n",
            "copying timm/models/layers/pool2d_same.py -> build/lib/timm/models/layers\n",
            "copying timm/models/layers/create_act.py -> build/lib/timm/models/layers\n",
            "copying timm/models/layers/config.py -> build/lib/timm/models/layers\n",
            "copying timm/models/layers/create_attn.py -> build/lib/timm/models/layers\n",
            "copying timm/models/layers/activations_me.py -> build/lib/timm/models/layers\n",
            "copying timm/models/layers/linear.py -> build/lib/timm/models/layers\n",
            "copying timm/models/layers/create_conv2d.py -> build/lib/timm/models/layers\n",
            "copying timm/models/layers/helpers.py -> build/lib/timm/models/layers\n",
            "copying timm/models/layers/drop.py -> build/lib/timm/models/layers\n",
            "copying timm/models/layers/se.py -> build/lib/timm/models/layers\n",
            "copying timm/models/layers/padding.py -> build/lib/timm/models/layers\n",
            "copying timm/models/layers/conv2d_same.py -> build/lib/timm/models/layers\n",
            "copying timm/models/layers/adaptive_avgmax_pool.py -> build/lib/timm/models/layers\n",
            "copying timm/models/layers/split_attn.py -> build/lib/timm/models/layers\n",
            "copying timm/models/layers/activations.py -> build/lib/timm/models/layers\n",
            "copying timm/models/layers/space_to_depth.py -> build/lib/timm/models/layers\n",
            "copying timm/models/layers/classifier.py -> build/lib/timm/models/layers\n",
            "copying timm/models/layers/inplace_abn.py -> build/lib/timm/models/layers\n",
            "copying timm/models/layers/cond_conv2d.py -> build/lib/timm/models/layers\n",
            "copying timm/models/layers/create_norm_act.py -> build/lib/timm/models/layers\n",
            "copying timm/models/layers/weight_init.py -> build/lib/timm/models/layers\n",
            "copying timm/models/layers/conv_bn_act.py -> build/lib/timm/models/layers\n",
            "copying timm/models/layers/evo_norm.py -> build/lib/timm/models/layers\n",
            "copying timm/models/layers/std_conv.py -> build/lib/timm/models/layers\n",
            "copying timm/models/layers/__init__.py -> build/lib/timm/models/layers\n",
            "copying timm/models/layers/test_time_pool.py -> build/lib/timm/models/layers\n",
            "creating build/lib/timm/data/parsers\n",
            "copying timm/data/parsers/parser_image_in_tar.py -> build/lib/timm/data/parsers\n",
            "copying timm/data/parsers/parser.py -> build/lib/timm/data/parsers\n",
            "copying timm/data/parsers/constants.py -> build/lib/timm/data/parsers\n",
            "copying timm/data/parsers/parser_tfds.py -> build/lib/timm/data/parsers\n",
            "copying timm/data/parsers/parser_image_folder.py -> build/lib/timm/data/parsers\n",
            "copying timm/data/parsers/parser_factory.py -> build/lib/timm/data/parsers\n",
            "copying timm/data/parsers/class_map.py -> build/lib/timm/data/parsers\n",
            "copying timm/data/parsers/__init__.py -> build/lib/timm/data/parsers\n",
            "copying timm/data/parsers/parser_image_tar.py -> build/lib/timm/data/parsers\n",
            "creating build/lib/timm/models/pruned\n",
            "copying timm/models/pruned/ecaresnet101d_pruned.txt -> build/lib/timm/models/pruned\n",
            "copying timm/models/pruned/ecaresnet50d_pruned.txt -> build/lib/timm/models/pruned\n",
            "copying timm/models/pruned/efficientnet_b1_pruned.txt -> build/lib/timm/models/pruned\n",
            "copying timm/models/pruned/efficientnet_b2_pruned.txt -> build/lib/timm/models/pruned\n",
            "copying timm/models/pruned/efficientnet_b3_pruned.txt -> build/lib/timm/models/pruned\n",
            "creating build/bdist.linux-x86_64\n",
            "creating build/bdist.linux-x86_64/egg\n",
            "creating build/bdist.linux-x86_64/egg/timm\n",
            "creating build/bdist.linux-x86_64/egg/timm/models\n",
            "copying build/lib/timm/models/nasnet.py -> build/bdist.linux-x86_64/egg/timm/models\n",
            "copying build/lib/timm/models/hrnet.py -> build/bdist.linux-x86_64/egg/timm/models\n",
            "copying build/lib/timm/models/selecsls.py -> build/bdist.linux-x86_64/egg/timm/models\n",
            "copying build/lib/timm/models/features.py -> build/bdist.linux-x86_64/egg/timm/models\n",
            "copying build/lib/timm/models/resnet.py -> build/bdist.linux-x86_64/egg/timm/models\n",
            "copying build/lib/timm/models/registry.py -> build/bdist.linux-x86_64/egg/timm/models\n",
            "copying build/lib/timm/models/byobnet.py -> build/bdist.linux-x86_64/egg/timm/models\n",
            "copying build/lib/timm/models/mobilenetv3.py -> build/bdist.linux-x86_64/egg/timm/models\n",
            "copying build/lib/timm/models/efficientnet.py -> build/bdist.linux-x86_64/egg/timm/models\n",
            "copying build/lib/timm/models/dla.py -> build/bdist.linux-x86_64/egg/timm/models\n",
            "copying build/lib/timm/models/resnetv2.py -> build/bdist.linux-x86_64/egg/timm/models\n",
            "copying build/lib/timm/models/helpers.py -> build/bdist.linux-x86_64/egg/timm/models\n",
            "copying build/lib/timm/models/vision_transformer.py -> build/bdist.linux-x86_64/egg/timm/models\n",
            "copying build/lib/timm/models/tresnet.py -> build/bdist.linux-x86_64/egg/timm/models\n",
            "copying build/lib/timm/models/res2net.py -> build/bdist.linux-x86_64/egg/timm/models\n",
            "copying build/lib/timm/models/densenet.py -> build/bdist.linux-x86_64/egg/timm/models\n",
            "creating build/bdist.linux-x86_64/egg/timm/models/layers\n",
            "copying build/lib/timm/models/layers/eca.py -> build/bdist.linux-x86_64/egg/timm/models/layers\n",
            "copying build/lib/timm/models/layers/selective_kernel.py -> build/bdist.linux-x86_64/egg/timm/models/layers\n",
            "copying build/lib/timm/models/layers/blur_pool.py -> build/bdist.linux-x86_64/egg/timm/models/layers\n",
            "copying build/lib/timm/models/layers/median_pool.py -> build/bdist.linux-x86_64/egg/timm/models/layers\n",
            "copying build/lib/timm/models/layers/activations_jit.py -> build/bdist.linux-x86_64/egg/timm/models/layers\n",
            "copying build/lib/timm/models/layers/separable_conv.py -> build/bdist.linux-x86_64/egg/timm/models/layers\n",
            "copying build/lib/timm/models/layers/cbam.py -> build/bdist.linux-x86_64/egg/timm/models/layers\n",
            "copying build/lib/timm/models/layers/anti_aliasing.py -> build/bdist.linux-x86_64/egg/timm/models/layers\n",
            "copying build/lib/timm/models/layers/split_batchnorm.py -> build/bdist.linux-x86_64/egg/timm/models/layers\n",
            "copying build/lib/timm/models/layers/mixed_conv2d.py -> build/bdist.linux-x86_64/egg/timm/models/layers\n",
            "copying build/lib/timm/models/layers/norm_act.py -> build/bdist.linux-x86_64/egg/timm/models/layers\n",
            "copying build/lib/timm/models/layers/pool2d_same.py -> build/bdist.linux-x86_64/egg/timm/models/layers\n",
            "copying build/lib/timm/models/layers/create_act.py -> build/bdist.linux-x86_64/egg/timm/models/layers\n",
            "copying build/lib/timm/models/layers/config.py -> build/bdist.linux-x86_64/egg/timm/models/layers\n",
            "copying build/lib/timm/models/layers/create_attn.py -> build/bdist.linux-x86_64/egg/timm/models/layers\n",
            "copying build/lib/timm/models/layers/activations_me.py -> build/bdist.linux-x86_64/egg/timm/models/layers\n",
            "copying build/lib/timm/models/layers/linear.py -> build/bdist.linux-x86_64/egg/timm/models/layers\n",
            "copying build/lib/timm/models/layers/create_conv2d.py -> build/bdist.linux-x86_64/egg/timm/models/layers\n",
            "copying build/lib/timm/models/layers/helpers.py -> build/bdist.linux-x86_64/egg/timm/models/layers\n",
            "copying build/lib/timm/models/layers/drop.py -> build/bdist.linux-x86_64/egg/timm/models/layers\n",
            "copying build/lib/timm/models/layers/se.py -> build/bdist.linux-x86_64/egg/timm/models/layers\n",
            "copying build/lib/timm/models/layers/padding.py -> build/bdist.linux-x86_64/egg/timm/models/layers\n",
            "copying build/lib/timm/models/layers/conv2d_same.py -> build/bdist.linux-x86_64/egg/timm/models/layers\n",
            "copying build/lib/timm/models/layers/adaptive_avgmax_pool.py -> build/bdist.linux-x86_64/egg/timm/models/layers\n",
            "copying build/lib/timm/models/layers/split_attn.py -> build/bdist.linux-x86_64/egg/timm/models/layers\n",
            "copying build/lib/timm/models/layers/activations.py -> build/bdist.linux-x86_64/egg/timm/models/layers\n",
            "copying build/lib/timm/models/layers/space_to_depth.py -> build/bdist.linux-x86_64/egg/timm/models/layers\n",
            "copying build/lib/timm/models/layers/classifier.py -> build/bdist.linux-x86_64/egg/timm/models/layers\n",
            "copying build/lib/timm/models/layers/inplace_abn.py -> build/bdist.linux-x86_64/egg/timm/models/layers\n",
            "copying build/lib/timm/models/layers/cond_conv2d.py -> build/bdist.linux-x86_64/egg/timm/models/layers\n",
            "copying build/lib/timm/models/layers/create_norm_act.py -> build/bdist.linux-x86_64/egg/timm/models/layers\n",
            "copying build/lib/timm/models/layers/weight_init.py -> build/bdist.linux-x86_64/egg/timm/models/layers\n",
            "copying build/lib/timm/models/layers/conv_bn_act.py -> build/bdist.linux-x86_64/egg/timm/models/layers\n",
            "copying build/lib/timm/models/layers/evo_norm.py -> build/bdist.linux-x86_64/egg/timm/models/layers\n",
            "copying build/lib/timm/models/layers/std_conv.py -> build/bdist.linux-x86_64/egg/timm/models/layers\n",
            "copying build/lib/timm/models/layers/__init__.py -> build/bdist.linux-x86_64/egg/timm/models/layers\n",
            "copying build/lib/timm/models/layers/test_time_pool.py -> build/bdist.linux-x86_64/egg/timm/models/layers\n",
            "creating build/bdist.linux-x86_64/egg/timm/models/pruned\n",
            "copying build/lib/timm/models/pruned/ecaresnet101d_pruned.txt -> build/bdist.linux-x86_64/egg/timm/models/pruned\n",
            "copying build/lib/timm/models/pruned/efficientnet_b2_pruned.txt -> build/bdist.linux-x86_64/egg/timm/models/pruned\n",
            "copying build/lib/timm/models/pruned/efficientnet_b3_pruned.txt -> build/bdist.linux-x86_64/egg/timm/models/pruned\n",
            "copying build/lib/timm/models/pruned/ecaresnet50d_pruned.txt -> build/bdist.linux-x86_64/egg/timm/models/pruned\n",
            "copying build/lib/timm/models/pruned/efficientnet_b1_pruned.txt -> build/bdist.linux-x86_64/egg/timm/models/pruned\n",
            "copying build/lib/timm/models/senet.py -> build/bdist.linux-x86_64/egg/timm/models\n",
            "copying build/lib/timm/models/inception_v3.py -> build/bdist.linux-x86_64/egg/timm/models\n",
            "copying build/lib/timm/models/factory.py -> build/bdist.linux-x86_64/egg/timm/models\n",
            "copying build/lib/timm/models/inception_v4.py -> build/bdist.linux-x86_64/egg/timm/models\n",
            "copying build/lib/timm/models/rexnet.py -> build/bdist.linux-x86_64/egg/timm/models\n",
            "copying build/lib/timm/models/vovnet.py -> build/bdist.linux-x86_64/egg/timm/models\n",
            "copying build/lib/timm/models/sknet.py -> build/bdist.linux-x86_64/egg/timm/models\n",
            "copying build/lib/timm/models/efficientnet_blocks.py -> build/bdist.linux-x86_64/egg/timm/models\n",
            "copying build/lib/timm/models/gluon_xception.py -> build/bdist.linux-x86_64/egg/timm/models\n",
            "copying build/lib/timm/models/resnest.py -> build/bdist.linux-x86_64/egg/timm/models\n",
            "copying build/lib/timm/models/xception.py -> build/bdist.linux-x86_64/egg/timm/models\n",
            "copying build/lib/timm/models/regnet.py -> build/bdist.linux-x86_64/egg/timm/models\n",
            "copying build/lib/timm/models/xception_aligned.py -> build/bdist.linux-x86_64/egg/timm/models\n",
            "copying build/lib/timm/models/cspnet.py -> build/bdist.linux-x86_64/egg/timm/models\n",
            "copying build/lib/timm/models/gluon_resnet.py -> build/bdist.linux-x86_64/egg/timm/models\n",
            "copying build/lib/timm/models/dpn.py -> build/bdist.linux-x86_64/egg/timm/models\n",
            "copying build/lib/timm/models/vgg.py -> build/bdist.linux-x86_64/egg/timm/models\n",
            "copying build/lib/timm/models/efficientnet_builder.py -> build/bdist.linux-x86_64/egg/timm/models\n",
            "copying build/lib/timm/models/pnasnet.py -> build/bdist.linux-x86_64/egg/timm/models\n",
            "copying build/lib/timm/models/nfnet.py -> build/bdist.linux-x86_64/egg/timm/models\n",
            "copying build/lib/timm/models/inception_resnet_v2.py -> build/bdist.linux-x86_64/egg/timm/models\n",
            "copying build/lib/timm/models/__init__.py -> build/bdist.linux-x86_64/egg/timm/models\n",
            "creating build/bdist.linux-x86_64/egg/timm/optim\n",
            "copying build/lib/timm/optim/adamw.py -> build/bdist.linux-x86_64/egg/timm/optim\n",
            "copying build/lib/timm/optim/rmsprop_tf.py -> build/bdist.linux-x86_64/egg/timm/optim\n",
            "copying build/lib/timm/optim/radam.py -> build/bdist.linux-x86_64/egg/timm/optim\n",
            "copying build/lib/timm/optim/nadam.py -> build/bdist.linux-x86_64/egg/timm/optim\n",
            "copying build/lib/timm/optim/lookahead.py -> build/bdist.linux-x86_64/egg/timm/optim\n",
            "copying build/lib/timm/optim/novograd.py -> build/bdist.linux-x86_64/egg/timm/optim\n",
            "copying build/lib/timm/optim/nvnovograd.py -> build/bdist.linux-x86_64/egg/timm/optim\n",
            "copying build/lib/timm/optim/adafactor.py -> build/bdist.linux-x86_64/egg/timm/optim\n",
            "copying build/lib/timm/optim/adamp.py -> build/bdist.linux-x86_64/egg/timm/optim\n",
            "copying build/lib/timm/optim/optim_factory.py -> build/bdist.linux-x86_64/egg/timm/optim\n",
            "copying build/lib/timm/optim/adahessian.py -> build/bdist.linux-x86_64/egg/timm/optim\n",
            "copying build/lib/timm/optim/sgdp.py -> build/bdist.linux-x86_64/egg/timm/optim\n",
            "copying build/lib/timm/optim/__init__.py -> build/bdist.linux-x86_64/egg/timm/optim\n",
            "creating build/bdist.linux-x86_64/egg/timm/utils\n",
            "copying build/lib/timm/utils/summary.py -> build/bdist.linux-x86_64/egg/timm/utils\n",
            "copying build/lib/timm/utils/log.py -> build/bdist.linux-x86_64/egg/timm/utils\n",
            "copying build/lib/timm/utils/misc.py -> build/bdist.linux-x86_64/egg/timm/utils\n",
            "copying build/lib/timm/utils/model.py -> build/bdist.linux-x86_64/egg/timm/utils\n",
            "copying build/lib/timm/utils/checkpoint_saver.py -> build/bdist.linux-x86_64/egg/timm/utils\n",
            "copying build/lib/timm/utils/metrics.py -> build/bdist.linux-x86_64/egg/timm/utils\n",
            "copying build/lib/timm/utils/jit.py -> build/bdist.linux-x86_64/egg/timm/utils\n",
            "copying build/lib/timm/utils/distributed.py -> build/bdist.linux-x86_64/egg/timm/utils\n",
            "copying build/lib/timm/utils/agc.py -> build/bdist.linux-x86_64/egg/timm/utils\n",
            "copying build/lib/timm/utils/model_ema.py -> build/bdist.linux-x86_64/egg/timm/utils\n",
            "copying build/lib/timm/utils/cuda.py -> build/bdist.linux-x86_64/egg/timm/utils\n",
            "copying build/lib/timm/utils/clip_grad.py -> build/bdist.linux-x86_64/egg/timm/utils\n",
            "copying build/lib/timm/utils/__init__.py -> build/bdist.linux-x86_64/egg/timm/utils\n",
            "creating build/bdist.linux-x86_64/egg/timm/scheduler\n",
            "copying build/lib/timm/scheduler/scheduler_factory.py -> build/bdist.linux-x86_64/egg/timm/scheduler\n",
            "copying build/lib/timm/scheduler/scheduler.py -> build/bdist.linux-x86_64/egg/timm/scheduler\n",
            "copying build/lib/timm/scheduler/tanh_lr.py -> build/bdist.linux-x86_64/egg/timm/scheduler\n",
            "copying build/lib/timm/scheduler/step_lr.py -> build/bdist.linux-x86_64/egg/timm/scheduler\n",
            "copying build/lib/timm/scheduler/plateau_lr.py -> build/bdist.linux-x86_64/egg/timm/scheduler\n",
            "copying build/lib/timm/scheduler/cosine_lr.py -> build/bdist.linux-x86_64/egg/timm/scheduler\n",
            "copying build/lib/timm/scheduler/__init__.py -> build/bdist.linux-x86_64/egg/timm/scheduler\n",
            "copying build/lib/timm/version.py -> build/bdist.linux-x86_64/egg/timm\n",
            "creating build/bdist.linux-x86_64/egg/timm/loss\n",
            "copying build/lib/timm/loss/asymmetric_loss.py -> build/bdist.linux-x86_64/egg/timm/loss\n",
            "copying build/lib/timm/loss/cross_entropy.py -> build/bdist.linux-x86_64/egg/timm/loss\n",
            "copying build/lib/timm/loss/jsd.py -> build/bdist.linux-x86_64/egg/timm/loss\n",
            "copying build/lib/timm/loss/__init__.py -> build/bdist.linux-x86_64/egg/timm/loss\n",
            "creating build/bdist.linux-x86_64/egg/timm/data\n",
            "copying build/lib/timm/data/loader.py -> build/bdist.linux-x86_64/egg/timm/data\n",
            "copying build/lib/timm/data/random_erasing.py -> build/bdist.linux-x86_64/egg/timm/data\n",
            "copying build/lib/timm/data/transforms.py -> build/bdist.linux-x86_64/egg/timm/data\n",
            "copying build/lib/timm/data/auto_augment.py -> build/bdist.linux-x86_64/egg/timm/data\n",
            "copying build/lib/timm/data/dataset_factory.py -> build/bdist.linux-x86_64/egg/timm/data\n",
            "copying build/lib/timm/data/config.py -> build/bdist.linux-x86_64/egg/timm/data\n",
            "copying build/lib/timm/data/constants.py -> build/bdist.linux-x86_64/egg/timm/data\n",
            "copying build/lib/timm/data/real_labels.py -> build/bdist.linux-x86_64/egg/timm/data\n",
            "copying build/lib/timm/data/dataset.py -> build/bdist.linux-x86_64/egg/timm/data\n",
            "copying build/lib/timm/data/tf_preprocessing.py -> build/bdist.linux-x86_64/egg/timm/data\n",
            "copying build/lib/timm/data/distributed_sampler.py -> build/bdist.linux-x86_64/egg/timm/data\n",
            "copying build/lib/timm/data/mixup.py -> build/bdist.linux-x86_64/egg/timm/data\n",
            "copying build/lib/timm/data/transforms_factory.py -> build/bdist.linux-x86_64/egg/timm/data\n",
            "creating build/bdist.linux-x86_64/egg/timm/data/parsers\n",
            "copying build/lib/timm/data/parsers/parser_image_in_tar.py -> build/bdist.linux-x86_64/egg/timm/data/parsers\n",
            "copying build/lib/timm/data/parsers/parser.py -> build/bdist.linux-x86_64/egg/timm/data/parsers\n",
            "copying build/lib/timm/data/parsers/constants.py -> build/bdist.linux-x86_64/egg/timm/data/parsers\n",
            "copying build/lib/timm/data/parsers/parser_tfds.py -> build/bdist.linux-x86_64/egg/timm/data/parsers\n",
            "copying build/lib/timm/data/parsers/parser_image_folder.py -> build/bdist.linux-x86_64/egg/timm/data/parsers\n",
            "copying build/lib/timm/data/parsers/parser_factory.py -> build/bdist.linux-x86_64/egg/timm/data/parsers\n",
            "copying build/lib/timm/data/parsers/class_map.py -> build/bdist.linux-x86_64/egg/timm/data/parsers\n",
            "copying build/lib/timm/data/parsers/__init__.py -> build/bdist.linux-x86_64/egg/timm/data/parsers\n",
            "copying build/lib/timm/data/parsers/parser_image_tar.py -> build/bdist.linux-x86_64/egg/timm/data/parsers\n",
            "copying build/lib/timm/data/__init__.py -> build/bdist.linux-x86_64/egg/timm/data\n",
            "copying build/lib/timm/__init__.py -> build/bdist.linux-x86_64/egg/timm\n",
            "byte-compiling build/bdist.linux-x86_64/egg/timm/models/nasnet.py to nasnet.cpython-37.pyc\n",
            "byte-compiling build/bdist.linux-x86_64/egg/timm/models/hrnet.py to hrnet.cpython-37.pyc\n",
            "byte-compiling build/bdist.linux-x86_64/egg/timm/models/selecsls.py to selecsls.cpython-37.pyc\n",
            "byte-compiling build/bdist.linux-x86_64/egg/timm/models/features.py to features.cpython-37.pyc\n",
            "byte-compiling build/bdist.linux-x86_64/egg/timm/models/resnet.py to resnet.cpython-37.pyc\n",
            "byte-compiling build/bdist.linux-x86_64/egg/timm/models/registry.py to registry.cpython-37.pyc\n",
            "byte-compiling build/bdist.linux-x86_64/egg/timm/models/byobnet.py to byobnet.cpython-37.pyc\n",
            "byte-compiling build/bdist.linux-x86_64/egg/timm/models/mobilenetv3.py to mobilenetv3.cpython-37.pyc\n",
            "byte-compiling build/bdist.linux-x86_64/egg/timm/models/efficientnet.py to efficientnet.cpython-37.pyc\n",
            "byte-compiling build/bdist.linux-x86_64/egg/timm/models/dla.py to dla.cpython-37.pyc\n",
            "byte-compiling build/bdist.linux-x86_64/egg/timm/models/resnetv2.py to resnetv2.cpython-37.pyc\n",
            "byte-compiling build/bdist.linux-x86_64/egg/timm/models/helpers.py to helpers.cpython-37.pyc\n",
            "byte-compiling build/bdist.linux-x86_64/egg/timm/models/vision_transformer.py to vision_transformer.cpython-37.pyc\n",
            "byte-compiling build/bdist.linux-x86_64/egg/timm/models/tresnet.py to tresnet.cpython-37.pyc\n",
            "byte-compiling build/bdist.linux-x86_64/egg/timm/models/res2net.py to res2net.cpython-37.pyc\n",
            "byte-compiling build/bdist.linux-x86_64/egg/timm/models/densenet.py to densenet.cpython-37.pyc\n",
            "byte-compiling build/bdist.linux-x86_64/egg/timm/models/layers/eca.py to eca.cpython-37.pyc\n",
            "byte-compiling build/bdist.linux-x86_64/egg/timm/models/layers/selective_kernel.py to selective_kernel.cpython-37.pyc\n",
            "byte-compiling build/bdist.linux-x86_64/egg/timm/models/layers/blur_pool.py to blur_pool.cpython-37.pyc\n",
            "byte-compiling build/bdist.linux-x86_64/egg/timm/models/layers/median_pool.py to median_pool.cpython-37.pyc\n",
            "byte-compiling build/bdist.linux-x86_64/egg/timm/models/layers/activations_jit.py to activations_jit.cpython-37.pyc\n",
            "byte-compiling build/bdist.linux-x86_64/egg/timm/models/layers/separable_conv.py to separable_conv.cpython-37.pyc\n",
            "byte-compiling build/bdist.linux-x86_64/egg/timm/models/layers/cbam.py to cbam.cpython-37.pyc\n",
            "byte-compiling build/bdist.linux-x86_64/egg/timm/models/layers/anti_aliasing.py to anti_aliasing.cpython-37.pyc\n",
            "byte-compiling build/bdist.linux-x86_64/egg/timm/models/layers/split_batchnorm.py to split_batchnorm.cpython-37.pyc\n",
            "byte-compiling build/bdist.linux-x86_64/egg/timm/models/layers/mixed_conv2d.py to mixed_conv2d.cpython-37.pyc\n",
            "byte-compiling build/bdist.linux-x86_64/egg/timm/models/layers/norm_act.py to norm_act.cpython-37.pyc\n",
            "byte-compiling build/bdist.linux-x86_64/egg/timm/models/layers/pool2d_same.py to pool2d_same.cpython-37.pyc\n",
            "byte-compiling build/bdist.linux-x86_64/egg/timm/models/layers/create_act.py to create_act.cpython-37.pyc\n",
            "byte-compiling build/bdist.linux-x86_64/egg/timm/models/layers/config.py to config.cpython-37.pyc\n",
            "byte-compiling build/bdist.linux-x86_64/egg/timm/models/layers/create_attn.py to create_attn.cpython-37.pyc\n",
            "byte-compiling build/bdist.linux-x86_64/egg/timm/models/layers/activations_me.py to activations_me.cpython-37.pyc\n",
            "byte-compiling build/bdist.linux-x86_64/egg/timm/models/layers/linear.py to linear.cpython-37.pyc\n",
            "byte-compiling build/bdist.linux-x86_64/egg/timm/models/layers/create_conv2d.py to create_conv2d.cpython-37.pyc\n",
            "byte-compiling build/bdist.linux-x86_64/egg/timm/models/layers/helpers.py to helpers.cpython-37.pyc\n",
            "byte-compiling build/bdist.linux-x86_64/egg/timm/models/layers/drop.py to drop.cpython-37.pyc\n",
            "byte-compiling build/bdist.linux-x86_64/egg/timm/models/layers/se.py to se.cpython-37.pyc\n",
            "byte-compiling build/bdist.linux-x86_64/egg/timm/models/layers/padding.py to padding.cpython-37.pyc\n",
            "byte-compiling build/bdist.linux-x86_64/egg/timm/models/layers/conv2d_same.py to conv2d_same.cpython-37.pyc\n",
            "byte-compiling build/bdist.linux-x86_64/egg/timm/models/layers/adaptive_avgmax_pool.py to adaptive_avgmax_pool.cpython-37.pyc\n",
            "byte-compiling build/bdist.linux-x86_64/egg/timm/models/layers/split_attn.py to split_attn.cpython-37.pyc\n",
            "byte-compiling build/bdist.linux-x86_64/egg/timm/models/layers/activations.py to activations.cpython-37.pyc\n",
            "byte-compiling build/bdist.linux-x86_64/egg/timm/models/layers/space_to_depth.py to space_to_depth.cpython-37.pyc\n",
            "byte-compiling build/bdist.linux-x86_64/egg/timm/models/layers/classifier.py to classifier.cpython-37.pyc\n",
            "byte-compiling build/bdist.linux-x86_64/egg/timm/models/layers/inplace_abn.py to inplace_abn.cpython-37.pyc\n",
            "byte-compiling build/bdist.linux-x86_64/egg/timm/models/layers/cond_conv2d.py to cond_conv2d.cpython-37.pyc\n",
            "byte-compiling build/bdist.linux-x86_64/egg/timm/models/layers/create_norm_act.py to create_norm_act.cpython-37.pyc\n",
            "byte-compiling build/bdist.linux-x86_64/egg/timm/models/layers/weight_init.py to weight_init.cpython-37.pyc\n",
            "byte-compiling build/bdist.linux-x86_64/egg/timm/models/layers/conv_bn_act.py to conv_bn_act.cpython-37.pyc\n",
            "byte-compiling build/bdist.linux-x86_64/egg/timm/models/layers/evo_norm.py to evo_norm.cpython-37.pyc\n",
            "byte-compiling build/bdist.linux-x86_64/egg/timm/models/layers/std_conv.py to std_conv.cpython-37.pyc\n",
            "byte-compiling build/bdist.linux-x86_64/egg/timm/models/layers/__init__.py to __init__.cpython-37.pyc\n",
            "byte-compiling build/bdist.linux-x86_64/egg/timm/models/layers/test_time_pool.py to test_time_pool.cpython-37.pyc\n",
            "byte-compiling build/bdist.linux-x86_64/egg/timm/models/senet.py to senet.cpython-37.pyc\n",
            "byte-compiling build/bdist.linux-x86_64/egg/timm/models/inception_v3.py to inception_v3.cpython-37.pyc\n",
            "byte-compiling build/bdist.linux-x86_64/egg/timm/models/factory.py to factory.cpython-37.pyc\n",
            "byte-compiling build/bdist.linux-x86_64/egg/timm/models/inception_v4.py to inception_v4.cpython-37.pyc\n",
            "byte-compiling build/bdist.linux-x86_64/egg/timm/models/rexnet.py to rexnet.cpython-37.pyc\n",
            "byte-compiling build/bdist.linux-x86_64/egg/timm/models/vovnet.py to vovnet.cpython-37.pyc\n",
            "byte-compiling build/bdist.linux-x86_64/egg/timm/models/sknet.py to sknet.cpython-37.pyc\n",
            "byte-compiling build/bdist.linux-x86_64/egg/timm/models/efficientnet_blocks.py to efficientnet_blocks.cpython-37.pyc\n",
            "byte-compiling build/bdist.linux-x86_64/egg/timm/models/gluon_xception.py to gluon_xception.cpython-37.pyc\n",
            "byte-compiling build/bdist.linux-x86_64/egg/timm/models/resnest.py to resnest.cpython-37.pyc\n",
            "byte-compiling build/bdist.linux-x86_64/egg/timm/models/xception.py to xception.cpython-37.pyc\n",
            "byte-compiling build/bdist.linux-x86_64/egg/timm/models/regnet.py to regnet.cpython-37.pyc\n",
            "byte-compiling build/bdist.linux-x86_64/egg/timm/models/xception_aligned.py to xception_aligned.cpython-37.pyc\n",
            "byte-compiling build/bdist.linux-x86_64/egg/timm/models/cspnet.py to cspnet.cpython-37.pyc\n",
            "byte-compiling build/bdist.linux-x86_64/egg/timm/models/gluon_resnet.py to gluon_resnet.cpython-37.pyc\n",
            "byte-compiling build/bdist.linux-x86_64/egg/timm/models/dpn.py to dpn.cpython-37.pyc\n",
            "byte-compiling build/bdist.linux-x86_64/egg/timm/models/vgg.py to vgg.cpython-37.pyc\n",
            "byte-compiling build/bdist.linux-x86_64/egg/timm/models/efficientnet_builder.py to efficientnet_builder.cpython-37.pyc\n",
            "byte-compiling build/bdist.linux-x86_64/egg/timm/models/pnasnet.py to pnasnet.cpython-37.pyc\n",
            "byte-compiling build/bdist.linux-x86_64/egg/timm/models/nfnet.py to nfnet.cpython-37.pyc\n",
            "byte-compiling build/bdist.linux-x86_64/egg/timm/models/inception_resnet_v2.py to inception_resnet_v2.cpython-37.pyc\n",
            "byte-compiling build/bdist.linux-x86_64/egg/timm/models/__init__.py to __init__.cpython-37.pyc\n",
            "byte-compiling build/bdist.linux-x86_64/egg/timm/optim/adamw.py to adamw.cpython-37.pyc\n",
            "byte-compiling build/bdist.linux-x86_64/egg/timm/optim/rmsprop_tf.py to rmsprop_tf.cpython-37.pyc\n",
            "byte-compiling build/bdist.linux-x86_64/egg/timm/optim/radam.py to radam.cpython-37.pyc\n",
            "byte-compiling build/bdist.linux-x86_64/egg/timm/optim/nadam.py to nadam.cpython-37.pyc\n",
            "byte-compiling build/bdist.linux-x86_64/egg/timm/optim/lookahead.py to lookahead.cpython-37.pyc\n",
            "byte-compiling build/bdist.linux-x86_64/egg/timm/optim/novograd.py to novograd.cpython-37.pyc\n",
            "byte-compiling build/bdist.linux-x86_64/egg/timm/optim/nvnovograd.py to nvnovograd.cpython-37.pyc\n",
            "byte-compiling build/bdist.linux-x86_64/egg/timm/optim/adafactor.py to adafactor.cpython-37.pyc\n",
            "byte-compiling build/bdist.linux-x86_64/egg/timm/optim/adamp.py to adamp.cpython-37.pyc\n",
            "byte-compiling build/bdist.linux-x86_64/egg/timm/optim/optim_factory.py to optim_factory.cpython-37.pyc\n",
            "byte-compiling build/bdist.linux-x86_64/egg/timm/optim/adahessian.py to adahessian.cpython-37.pyc\n",
            "byte-compiling build/bdist.linux-x86_64/egg/timm/optim/sgdp.py to sgdp.cpython-37.pyc\n",
            "byte-compiling build/bdist.linux-x86_64/egg/timm/optim/__init__.py to __init__.cpython-37.pyc\n",
            "byte-compiling build/bdist.linux-x86_64/egg/timm/utils/summary.py to summary.cpython-37.pyc\n",
            "byte-compiling build/bdist.linux-x86_64/egg/timm/utils/log.py to log.cpython-37.pyc\n",
            "byte-compiling build/bdist.linux-x86_64/egg/timm/utils/misc.py to misc.cpython-37.pyc\n",
            "byte-compiling build/bdist.linux-x86_64/egg/timm/utils/model.py to model.cpython-37.pyc\n",
            "byte-compiling build/bdist.linux-x86_64/egg/timm/utils/checkpoint_saver.py to checkpoint_saver.cpython-37.pyc\n",
            "byte-compiling build/bdist.linux-x86_64/egg/timm/utils/metrics.py to metrics.cpython-37.pyc\n",
            "byte-compiling build/bdist.linux-x86_64/egg/timm/utils/jit.py to jit.cpython-37.pyc\n",
            "byte-compiling build/bdist.linux-x86_64/egg/timm/utils/distributed.py to distributed.cpython-37.pyc\n",
            "byte-compiling build/bdist.linux-x86_64/egg/timm/utils/agc.py to agc.cpython-37.pyc\n",
            "byte-compiling build/bdist.linux-x86_64/egg/timm/utils/model_ema.py to model_ema.cpython-37.pyc\n",
            "byte-compiling build/bdist.linux-x86_64/egg/timm/utils/cuda.py to cuda.cpython-37.pyc\n",
            "byte-compiling build/bdist.linux-x86_64/egg/timm/utils/clip_grad.py to clip_grad.cpython-37.pyc\n",
            "byte-compiling build/bdist.linux-x86_64/egg/timm/utils/__init__.py to __init__.cpython-37.pyc\n",
            "byte-compiling build/bdist.linux-x86_64/egg/timm/scheduler/scheduler_factory.py to scheduler_factory.cpython-37.pyc\n",
            "byte-compiling build/bdist.linux-x86_64/egg/timm/scheduler/scheduler.py to scheduler.cpython-37.pyc\n",
            "byte-compiling build/bdist.linux-x86_64/egg/timm/scheduler/tanh_lr.py to tanh_lr.cpython-37.pyc\n",
            "byte-compiling build/bdist.linux-x86_64/egg/timm/scheduler/step_lr.py to step_lr.cpython-37.pyc\n",
            "byte-compiling build/bdist.linux-x86_64/egg/timm/scheduler/plateau_lr.py to plateau_lr.cpython-37.pyc\n",
            "byte-compiling build/bdist.linux-x86_64/egg/timm/scheduler/cosine_lr.py to cosine_lr.cpython-37.pyc\n",
            "byte-compiling build/bdist.linux-x86_64/egg/timm/scheduler/__init__.py to __init__.cpython-37.pyc\n",
            "byte-compiling build/bdist.linux-x86_64/egg/timm/version.py to version.cpython-37.pyc\n",
            "byte-compiling build/bdist.linux-x86_64/egg/timm/loss/asymmetric_loss.py to asymmetric_loss.cpython-37.pyc\n",
            "byte-compiling build/bdist.linux-x86_64/egg/timm/loss/cross_entropy.py to cross_entropy.cpython-37.pyc\n",
            "byte-compiling build/bdist.linux-x86_64/egg/timm/loss/jsd.py to jsd.cpython-37.pyc\n",
            "byte-compiling build/bdist.linux-x86_64/egg/timm/loss/__init__.py to __init__.cpython-37.pyc\n",
            "byte-compiling build/bdist.linux-x86_64/egg/timm/data/loader.py to loader.cpython-37.pyc\n",
            "byte-compiling build/bdist.linux-x86_64/egg/timm/data/random_erasing.py to random_erasing.cpython-37.pyc\n",
            "byte-compiling build/bdist.linux-x86_64/egg/timm/data/transforms.py to transforms.cpython-37.pyc\n",
            "byte-compiling build/bdist.linux-x86_64/egg/timm/data/auto_augment.py to auto_augment.cpython-37.pyc\n",
            "byte-compiling build/bdist.linux-x86_64/egg/timm/data/dataset_factory.py to dataset_factory.cpython-37.pyc\n",
            "byte-compiling build/bdist.linux-x86_64/egg/timm/data/config.py to config.cpython-37.pyc\n",
            "byte-compiling build/bdist.linux-x86_64/egg/timm/data/constants.py to constants.cpython-37.pyc\n",
            "byte-compiling build/bdist.linux-x86_64/egg/timm/data/real_labels.py to real_labels.cpython-37.pyc\n",
            "byte-compiling build/bdist.linux-x86_64/egg/timm/data/dataset.py to dataset.cpython-37.pyc\n",
            "byte-compiling build/bdist.linux-x86_64/egg/timm/data/tf_preprocessing.py to tf_preprocessing.cpython-37.pyc\n",
            "byte-compiling build/bdist.linux-x86_64/egg/timm/data/distributed_sampler.py to distributed_sampler.cpython-37.pyc\n",
            "byte-compiling build/bdist.linux-x86_64/egg/timm/data/mixup.py to mixup.cpython-37.pyc\n",
            "byte-compiling build/bdist.linux-x86_64/egg/timm/data/transforms_factory.py to transforms_factory.cpython-37.pyc\n",
            "byte-compiling build/bdist.linux-x86_64/egg/timm/data/parsers/parser_image_in_tar.py to parser_image_in_tar.cpython-37.pyc\n",
            "byte-compiling build/bdist.linux-x86_64/egg/timm/data/parsers/parser.py to parser.cpython-37.pyc\n",
            "byte-compiling build/bdist.linux-x86_64/egg/timm/data/parsers/constants.py to constants.cpython-37.pyc\n",
            "byte-compiling build/bdist.linux-x86_64/egg/timm/data/parsers/parser_tfds.py to parser_tfds.cpython-37.pyc\n",
            "byte-compiling build/bdist.linux-x86_64/egg/timm/data/parsers/parser_image_folder.py to parser_image_folder.cpython-37.pyc\n",
            "byte-compiling build/bdist.linux-x86_64/egg/timm/data/parsers/parser_factory.py to parser_factory.cpython-37.pyc\n",
            "byte-compiling build/bdist.linux-x86_64/egg/timm/data/parsers/class_map.py to class_map.cpython-37.pyc\n",
            "byte-compiling build/bdist.linux-x86_64/egg/timm/data/parsers/__init__.py to __init__.cpython-37.pyc\n",
            "byte-compiling build/bdist.linux-x86_64/egg/timm/data/parsers/parser_image_tar.py to parser_image_tar.cpython-37.pyc\n",
            "byte-compiling build/bdist.linux-x86_64/egg/timm/data/__init__.py to __init__.cpython-37.pyc\n",
            "byte-compiling build/bdist.linux-x86_64/egg/timm/__init__.py to __init__.cpython-37.pyc\n",
            "creating build/bdist.linux-x86_64/egg/EGG-INFO\n",
            "copying timm.egg-info/PKG-INFO -> build/bdist.linux-x86_64/egg/EGG-INFO\n",
            "copying timm.egg-info/SOURCES.txt -> build/bdist.linux-x86_64/egg/EGG-INFO\n",
            "copying timm.egg-info/dependency_links.txt -> build/bdist.linux-x86_64/egg/EGG-INFO\n",
            "copying timm.egg-info/requires.txt -> build/bdist.linux-x86_64/egg/EGG-INFO\n",
            "copying timm.egg-info/top_level.txt -> build/bdist.linux-x86_64/egg/EGG-INFO\n",
            "zip_safe flag not set; analyzing archive contents...\n",
            "timm.models.__pycache__.helpers.cpython-37: module references __file__\n",
            "creating dist\n",
            "creating 'dist/timm-0.4.4-py3.7.egg' and adding 'build/bdist.linux-x86_64/egg' to it\n",
            "removing 'build/bdist.linux-x86_64/egg' (and everything under it)\n",
            "Processing timm-0.4.4-py3.7.egg\n",
            "creating /usr/local/lib/python3.7/dist-packages/timm-0.4.4-py3.7.egg\n",
            "Extracting timm-0.4.4-py3.7.egg to /usr/local/lib/python3.7/dist-packages\n",
            "Adding timm 0.4.4 to easy-install.pth file\n",
            "\n",
            "Installed /usr/local/lib/python3.7/dist-packages/timm-0.4.4-py3.7.egg\n",
            "Processing dependencies for timm==0.4.4\n",
            "Searching for torchvision==0.8.2+cu101\n",
            "Best match: torchvision 0.8.2+cu101\n",
            "Adding torchvision 0.8.2+cu101 to easy-install.pth file\n",
            "\n",
            "Using /usr/local/lib/python3.7/dist-packages\n",
            "Searching for torch==1.7.1+cu101\n",
            "Best match: torch 1.7.1+cu101\n",
            "Adding torch 1.7.1+cu101 to easy-install.pth file\n",
            "Installing convert-caffe2-to-onnx script to /usr/local/bin\n",
            "Installing convert-onnx-to-caffe2 script to /usr/local/bin\n",
            "\n",
            "Using /usr/local/lib/python3.7/dist-packages\n",
            "Searching for numpy==1.19.5\n",
            "Best match: numpy 1.19.5\n",
            "Adding numpy 1.19.5 to easy-install.pth file\n",
            "Installing f2py script to /usr/local/bin\n",
            "Installing f2py3 script to /usr/local/bin\n",
            "Installing f2py3.7 script to /usr/local/bin\n",
            "\n",
            "Using /usr/local/lib/python3.7/dist-packages\n",
            "Searching for Pillow==7.0.0\n",
            "Best match: Pillow 7.0.0\n",
            "Adding Pillow 7.0.0 to easy-install.pth file\n",
            "\n",
            "Using /usr/local/lib/python3.7/dist-packages\n",
            "Searching for typing-extensions==3.7.4.3\n",
            "Best match: typing-extensions 3.7.4.3\n",
            "Adding typing-extensions 3.7.4.3 to easy-install.pth file\n",
            "\n",
            "Using /usr/local/lib/python3.7/dist-packages\n",
            "Finished processing dependencies for timm==0.4.4\n"
          ],
          "name": "stdout"
        }
      ]
    },
    {
      "cell_type": "code",
      "metadata": {
        "colab": {
          "base_uri": "https://localhost:8080/"
        },
        "id": "eVjc4Kju84S5",
        "outputId": "e808b50a-a4bb-4cd9-db3b-ef35009d5e75"
      },
      "source": [
        "!wget https://raw.githubusercontent.com/AmbiTyga/Bio-VI-BERT/main/Dataset.7z\r\n",
        "!7z x /content/Dataset.7z"
      ],
      "execution_count": 2,
      "outputs": [
        {
          "output_type": "stream",
          "text": [
            "--2021-03-02 16:22:56--  https://raw.githubusercontent.com/AmbiTyga/Bio-VI-BERT/main/Dataset.7z\n",
            "Resolving raw.githubusercontent.com (raw.githubusercontent.com)... 185.199.108.133, 185.199.109.133, 185.199.110.133, ...\n",
            "Connecting to raw.githubusercontent.com (raw.githubusercontent.com)|185.199.108.133|:443... connected.\n",
            "HTTP request sent, awaiting response... 200 OK\n",
            "Length: 17231696 (16M) [application/octet-stream]\n",
            "Saving to: ‘Dataset.7z’\n",
            "\n",
            "Dataset.7z          100%[===================>]  16.43M  55.5MB/s    in 0.3s    \n",
            "\n",
            "2021-03-02 16:22:57 (55.5 MB/s) - ‘Dataset.7z’ saved [17231696/17231696]\n",
            "\n",
            "\n",
            "7-Zip [64] 16.02 : Copyright (c) 1999-2016 Igor Pavlov : 2016-05-21\n",
            "p7zip Version 16.02 (locale=en_US.UTF-8,Utf16=on,HugeFiles=on,64 bits,4 CPUs Intel(R) Xeon(R) CPU @ 2.20GHz (406F0),ASM,AES-NI)\n",
            "\n",
            "Scanning the drive for archives:\n",
            "  0M Scan /content/\b\b\b\b\b\b\b\b\b\b\b\b\b\b\b\b\b\b\b                   \b\b\b\b\b\b\b\b\b\b\b\b\b\b\b\b\b\b\b1 file, 17231696 bytes (17 MiB)\n",
            "\n",
            "Extracting archive: /content/Dataset.7z\n",
            "--\n",
            "Path = /content/Dataset.7z\n",
            "Type = 7z\n",
            "Physical Size = 17231696\n",
            "Headers Size = 6422\n",
            "Method = LZMA2:24\n",
            "Solid = +\n",
            "Blocks = 1\n",
            "\n",
            "  0%\b\b\b\b    \b\b\b\b 18% 24 - Dataset/Ancylostoma/Aduodenale_head_A.jpg\b\b\b\b\b\b\b\b\b\b\b\b\b\b\b\b\b\b\b\b\b\b\b\b\b\b\b\b\b\b\b\b\b\b\b\b\b\b\b\b\b\b\b\b\b\b\b\b\b\b\b                                                   \b\b\b\b\b\b\b\b\b\b\b\b\b\b\b\b\b\b\b\b\b\b\b\b\b\b\b\b\b\b\b\b\b\b\b\b\b\b\b\b\b\b\b\b\b\b\b\b\b\b\b 35% 144 - Dataset/Dibothriocephalus/Diphyllobothrium_tissue_WA_500x2.jpg\b\b\b\b\b\b\b\b\b\b\b\b\b\b\b\b\b\b\b\b\b\b\b\b\b\b\b\b\b\b\b\b\b\b\b\b\b\b\b\b\b\b\b\b\b\b\b\b\b\b\b\b\b\b\b\b\b\b\b\b\b\b\b\b\b\b\b\b\b\b\b\b\b                                                                         \b\b\b\b\b\b\b\b\b\b\b\b\b\b\b\b\b\b\b\b\b\b\b\b\b\b\b\b\b\b\b\b\b\b\b\b\b\b\b\b\b\b\b\b\b\b\b\b\b\b\b\b\b\b\b\b\b\b\b\b\b\b\b\b\b\b\b\b\b\b\b\b\b 53% 252 - Dataset/Giardia/Giardia_cyst_tric6.jpg\b\b\b\b\b\b\b\b\b\b\b\b\b\b\b\b\b\b\b\b\b\b\b\b\b\b\b\b\b\b\b\b\b\b\b\b\b\b\b\b\b\b\b\b\b\b\b\b\b                                                 \b\b\b\b\b\b\b\b\b\b\b\b\b\b\b\b\b\b\b\b\b\b\b\b\b\b\b\b\b\b\b\b\b\b\b\b\b\b\b\b\b\b\b\b\b\b\b\b\b 73% 355 - Dataset/Plasmodium/Pm_gametocyte_thinB.jpg\b\b\b\b\b\b\b\b\b\b\b\b\b\b\b\b\b\b\b\b\b\b\b\b\b\b\b\b\b\b\b\b\b\b\b\b\b\b\b\b\b\b\b\b\b\b\b\b\b\b\b\b\b                                                     \b\b\b\b\b\b\b\b\b\b\b\b\b\b\b\b\b\b\b\b\b\b\b\b\b\b\b\b\b\b\b\b\b\b\b\b\b\b\b\b\b\b\b\b\b\b\b\b\b\b\b\b\b 98% 548 - Dataset/Trichuris/T_trichiura_CHA_B.jpg\b\b\b\b\b\b\b\b\b\b\b\b\b\b\b\b\b\b\b\b\b\b\b\b\b\b\b\b\b\b\b\b\b\b\b\b\b\b\b\b\b\b\b\b\b\b\b\b\b\b                                                  \b\b\b\b\b\b\b\b\b\b\b\b\b\b\b\b\b\b\b\b\b\b\b\b\b\b\b\b\b\b\b\b\b\b\b\b\b\b\b\b\b\b\b\b\b\b\b\b\b\bEverything is Ok\n",
            "\n",
            "Folders: 23\n",
            "Files: 528\n",
            "Size:       21325876\n",
            "Compressed: 17231696\n"
          ],
          "name": "stdout"
        }
      ]
    },
    {
      "cell_type": "code",
      "metadata": {
        "id": "yVc3_O_n_In6"
      },
      "source": [
        "import timm\r\n",
        "import pandas as pd\r\n",
        "import numpy as np\r\n",
        "import torch.nn as nn\r\n",
        "import torch\r\n",
        "from torch.utils.data import Dataset, DataLoader, sampler\r\n",
        "from sklearn.preprocessing import LabelEncoder\r\n",
        "import os\r\n",
        "from sklearn.model_selection import train_test_split\r\n",
        "\r\n",
        "from PIL import Image\r\n",
        "from torchvision import transforms"
      ],
      "execution_count": 3,
      "outputs": []
    },
    {
      "cell_type": "markdown",
      "metadata": {
        "id": "aAHwzGXx_7y-"
      },
      "source": [
        "## Cleaning and getting a final data"
      ]
    },
    {
      "cell_type": "code",
      "metadata": {
        "id": "gtJ3g1lcVah5"
      },
      "source": [
        "## Getting images(file path) from the directories \r\n",
        "\r\n",
        "imgs = []\r\n",
        "for path, subdirs, files in os.walk('./Dataset'):\r\n",
        "    for name in files:\r\n",
        "        imgs.append(os.path.join(path, name))\r\n",
        "imgs = [x for x in imgs if '.jpg' in x]"
      ],
      "execution_count": 4,
      "outputs": []
    },
    {
      "cell_type": "code",
      "metadata": {
        "id": "C1zUOBkABzv6",
        "colab": {
          "base_uri": "https://localhost:8080/",
          "height": 298
        },
        "outputId": "36144a0a-e646-4bb0-a0eb-54773c9c28c2"
      },
      "source": [
        "data = pd.read_csv(\"/content/Dataset/all_meta_data.csv\")\r\n",
        "data.head()"
      ],
      "execution_count": 5,
      "outputs": [
        {
          "output_type": "execute_result",
          "data": {
            "text/html": [
              "<div>\n",
              "<style scoped>\n",
              "    .dataframe tbody tr th:only-of-type {\n",
              "        vertical-align: middle;\n",
              "    }\n",
              "\n",
              "    .dataframe tbody tr th {\n",
              "        vertical-align: top;\n",
              "    }\n",
              "\n",
              "    .dataframe thead th {\n",
              "        text-align: right;\n",
              "    }\n",
              "</style>\n",
              "<table border=\"1\" class=\"dataframe\">\n",
              "  <thead>\n",
              "    <tr style=\"text-align: right;\">\n",
              "      <th></th>\n",
              "      <th>phylum</th>\n",
              "      <th>class</th>\n",
              "      <th>genus</th>\n",
              "      <th>species</th>\n",
              "      <th>form</th>\n",
              "      <th>sample</th>\n",
              "      <th>image_name</th>\n",
              "      <th>image_url</th>\n",
              "      <th>img_path</th>\n",
              "    </tr>\n",
              "  </thead>\n",
              "  <tbody>\n",
              "    <tr>\n",
              "      <th>0</th>\n",
              "      <td>Nematoda</td>\n",
              "      <td>Chromadorea</td>\n",
              "      <td>Enterobius</td>\n",
              "      <td>Enterobius vermicularis</td>\n",
              "      <td>egg</td>\n",
              "      <td>intestinal tissue</td>\n",
              "      <td>Evermicularis_worm4_HB.jpg</td>\n",
              "      <td>https://www.cdc.gov//dpdx/enterobiasis/images/...</td>\n",
              "      <td>./Dataset/Enterobius/Evermicularis_worm4_HB.jpg</td>\n",
              "    </tr>\n",
              "    <tr>\n",
              "      <th>1</th>\n",
              "      <td>Nematoda</td>\n",
              "      <td>Chromadorea</td>\n",
              "      <td>Enterobius</td>\n",
              "      <td>Enterobius vermicularis</td>\n",
              "      <td>egg</td>\n",
              "      <td>intestinal tissue</td>\n",
              "      <td>Evermicularis_egg_HBa.jpg</td>\n",
              "      <td>https://www.cdc.gov//dpdx/enterobiasis/images/...</td>\n",
              "      <td>./Dataset/Enterobius/Evermicularis_egg_HBa.jpg</td>\n",
              "    </tr>\n",
              "    <tr>\n",
              "      <th>2</th>\n",
              "      <td>Nematoda</td>\n",
              "      <td>Chromadorea</td>\n",
              "      <td>Enterobius</td>\n",
              "      <td>Enterobius vermicularis</td>\n",
              "      <td>egg</td>\n",
              "      <td>intestinal tissue</td>\n",
              "      <td>Evermicularis_egg_wtmt.jpg</td>\n",
              "      <td>https://www.cdc.gov//dpdx/enterobiasis/images/...</td>\n",
              "      <td>./Dataset/Enterobius/Evermicularis_egg_wtmt.jpg</td>\n",
              "    </tr>\n",
              "    <tr>\n",
              "      <th>3</th>\n",
              "      <td>Nematoda</td>\n",
              "      <td>Chromadorea</td>\n",
              "      <td>Enterobius</td>\n",
              "      <td>Enterobius vermicularis</td>\n",
              "      <td>egg</td>\n",
              "      <td>intestinal tissue</td>\n",
              "      <td>Evermicularis_SC_egg.jpg</td>\n",
              "      <td>https://www.cdc.gov//dpdx/enterobiasis/images/...</td>\n",
              "      <td>./Dataset/Enterobius/Evermicularis_SC_egg.jpg</td>\n",
              "    </tr>\n",
              "    <tr>\n",
              "      <th>4</th>\n",
              "      <td>Nematoda</td>\n",
              "      <td>Chromadorea</td>\n",
              "      <td>Enterobius</td>\n",
              "      <td>Enterobius vermicularis</td>\n",
              "      <td>egg</td>\n",
              "      <td>intestinal tissue</td>\n",
              "      <td>Evermicularis_egg_UVa.jpg</td>\n",
              "      <td>https://www.cdc.gov//dpdx/enterobiasis/images/...</td>\n",
              "      <td>./Dataset/Enterobius/Evermicularis_egg_UVa.jpg</td>\n",
              "    </tr>\n",
              "  </tbody>\n",
              "</table>\n",
              "</div>"
            ],
            "text/plain": [
              "     phylum  ...                                         img_path\n",
              "0  Nematoda  ...  ./Dataset/Enterobius/Evermicularis_worm4_HB.jpg\n",
              "1  Nematoda  ...   ./Dataset/Enterobius/Evermicularis_egg_HBa.jpg\n",
              "2  Nematoda  ...  ./Dataset/Enterobius/Evermicularis_egg_wtmt.jpg\n",
              "3  Nematoda  ...    ./Dataset/Enterobius/Evermicularis_SC_egg.jpg\n",
              "4  Nematoda  ...   ./Dataset/Enterobius/Evermicularis_egg_UVa.jpg\n",
              "\n",
              "[5 rows x 9 columns]"
            ]
          },
          "metadata": {
            "tags": []
          },
          "execution_count": 5
        }
      ]
    },
    {
      "cell_type": "code",
      "metadata": {
        "id": "1-vLckKFYxvU"
      },
      "source": [
        "# Dropping unnecessary datapoints\r\n",
        "def check_file(x):\r\n",
        "  if x not in imgs:\r\n",
        "    return 'N\\A'\r\n",
        "  else:\r\n",
        "    return x\r\n",
        "\r\n",
        "\r\n",
        "data['img_path'] = data['img_path'].apply(check_file)\r\n",
        "data.drop(index = data[data['img_path']=='N\\A'].index,inplace = True)\r\n",
        "data.to_csv('/content/Parasitesv1.csv',index=False)"
      ],
      "execution_count": 6,
      "outputs": []
    },
    {
      "cell_type": "code",
      "metadata": {
        "id": "IIVJ8GlTlV78"
      },
      "source": [
        "data = pd.read_csv('/content/Parasitesv1.csv')"
      ],
      "execution_count": 18,
      "outputs": []
    },
    {
      "cell_type": "code",
      "metadata": {
        "id": "FheC4ZueOlm3"
      },
      "source": [
        "data = [x for _,x in data.groupby('species') if len(x)>15]\r\n",
        "\r\n",
        "data = pd.concat(data,ignore_index=True)"
      ],
      "execution_count": 19,
      "outputs": []
    },
    {
      "cell_type": "code",
      "metadata": {
        "id": "ZT3lIa4_r--y"
      },
      "source": [
        "train, val = train_test_split(\r\n",
        "    data, test_size=0.13, random_state=2021,stratify = data['species'])"
      ],
      "execution_count": 20,
      "outputs": []
    },
    {
      "cell_type": "code",
      "metadata": {
        "id": "KjwGMBtPtNtw"
      },
      "source": [
        "train.to_csv('/content/train.csv',index = False)\r\n",
        "\r\n",
        "val.to_csv('/content/val.csv',index = False)"
      ],
      "execution_count": 21,
      "outputs": []
    },
    {
      "cell_type": "markdown",
      "metadata": {
        "id": "7QNo2DKUAAgm"
      },
      "source": [
        "# Dataset Function"
      ]
    },
    {
      "cell_type": "code",
      "metadata": {
        "id": "kPUz2T2qEXTS"
      },
      "source": [
        "class SpeciesDataset(Dataset):\r\n",
        "  def __init__(self,csv_file,transform):\r\n",
        "    super().__init__()\r\n",
        "    csv = pd.read_csv(csv_file)[['species','img_path']]\r\n",
        "    labels = csv['species'].values\r\n",
        "\r\n",
        "    self.images = csv['img_path'].values\r\n",
        "    self.transform = transform\r\n",
        "\r\n",
        "    self.LE = LabelEncoder()\r\n",
        "    self.labels = self.LE.fit_transform(labels)    \r\n",
        "\r\n",
        "  def __len__(self):\r\n",
        "    # return size of dataset\r\n",
        "    return len(self.images)\r\n",
        "\r\n",
        "  def __getitem__(self, index):\r\n",
        "    img = Image.open(self.images[index])\r\n",
        "    img = self.transform(img)\r\n",
        "\r\n",
        "    label = self.labels[index]\r\n",
        "\r\n",
        "    return img, torch.LongTensor([label])"
      ],
      "execution_count": 10,
      "outputs": []
    },
    {
      "cell_type": "code",
      "metadata": {
        "id": "wOL5NtArJ8QY"
      },
      "source": [
        "\r\n",
        "train_transformer = transforms.Compose([\r\n",
        "        transforms.Resize((224,224)),\r\n",
        "        transforms.RandomHorizontalFlip(),\r\n",
        "        # transforms.\r\n",
        "        # transforms.ColorJitter(hue=.05, saturation=.05),\r\n",
        "        transforms.RandomRotation(90),\r\n",
        "        transforms.ToTensor(),\r\n",
        "        transforms.Normalize([0.485, 0.456, 0.406], [0.229, 0.224, 0.225])\r\n",
        "    ])\r\n",
        "\r\n",
        "val_transformer = transforms.Compose([\r\n",
        "        transforms.Resize((224,224)),\r\n",
        "#         transforms.CenterCrop(224),\r\n",
        "        transforms.ToTensor(),\r\n",
        "        transforms.Normalize([0.485, 0.456, 0.406], [0.229, 0.224, 0.225])\r\n",
        "    ])"
      ],
      "execution_count": 11,
      "outputs": []
    },
    {
      "cell_type": "code",
      "metadata": {
        "colab": {
          "base_uri": "https://localhost:8080/"
        },
        "id": "6L-Tfv7_hkOz",
        "outputId": "66c7e84f-16d3-45e3-84c2-19a7884d5f73"
      },
      "source": [
        "len(val)"
      ],
      "execution_count": 43,
      "outputs": [
        {
          "output_type": "execute_result",
          "data": {
            "text/plain": [
              "48"
            ]
          },
          "metadata": {
            "tags": []
          },
          "execution_count": 43
        }
      ]
    },
    {
      "cell_type": "code",
      "metadata": {
        "id": "v0NXmSK2EFKh"
      },
      "source": [
        "train_dataset = SpeciesDataset('/content/train.csv',transform=train_transformer)\r\n",
        "train_loader = torch.utils.data.DataLoader(train_dataset,batch_size=2)\r\n",
        "\r\n",
        "val_dataset = SpeciesDataset('/content/val.csv',transform=val_transformer)\r\n",
        "val_loader = torch.utils.data.DataLoader(val_dataset,batch_size=48)"
      ],
      "execution_count": 54,
      "outputs": []
    },
    {
      "cell_type": "markdown",
      "metadata": {
        "id": "pxAzMc2BGE1t"
      },
      "source": [
        "# VIT Base Imagenet 21k"
      ]
    },
    {
      "cell_type": "code",
      "metadata": {
        "id": "YfPnYIMvI7O2"
      },
      "source": [
        "class ViT(nn.Module):\r\n",
        "  def __init__(self,num_classes_classifier=15):\r\n",
        "    super().__init__()\r\n",
        "    self.img_transformer = timm.models.vision_transformer.vit_base_patch16_224_in21k(pretrained=True,num_classes = 512)\r\n",
        "    self.drop = nn.Dropout(0.4)\r\n",
        "    self.classifier = nn.Linear(512,num_classes_classifier)\r\n",
        "\r\n",
        "  def forward(self,img):\r\n",
        "    repr = self.img_transformer(img)\r\n",
        "    repr = self.drop(repr)\r\n",
        "    output = self.classifier(repr)\r\n",
        "\r\n",
        "    return output  "
      ],
      "execution_count": 80,
      "outputs": []
    },
    {
      "cell_type": "code",
      "metadata": {
        "colab": {
          "base_uri": "https://localhost:8080/"
        },
        "id": "dsTr23UFCSxy",
        "outputId": "b40a2b17-d9ac-41ff-82c5-89c2a8ab1804"
      },
      "source": [
        "model = ViT()"
      ],
      "execution_count": 81,
      "outputs": [
        {
          "output_type": "stream",
          "text": [
            "Removing representation layer for fine-tuning.\n"
          ],
          "name": "stderr"
        }
      ]
    },
    {
      "cell_type": "code",
      "metadata": {
        "colab": {
          "base_uri": "https://localhost:8080/"
        },
        "id": "wzW89TkNhGf5",
        "outputId": "b2723740-a49b-40a0-c54c-5877fc06f76a"
      },
      "source": [
        "model.load_state_dict(torch.load('vit_resnet.bin'))"
      ],
      "execution_count": 90,
      "outputs": [
        {
          "output_type": "execute_result",
          "data": {
            "text/plain": [
              "<All keys matched successfully>"
            ]
          },
          "metadata": {
            "tags": []
          },
          "execution_count": 90
        }
      ]
    },
    {
      "cell_type": "code",
      "metadata": {
        "colab": {
          "base_uri": "https://localhost:8080/"
        },
        "id": "mD_G8yJ9CStY",
        "outputId": "86d72d3c-fc7a-47c1-8134-3b61e414d747"
      },
      "source": [
        "torch.seed()"
      ],
      "execution_count": 91,
      "outputs": [
        {
          "output_type": "execute_result",
          "data": {
            "text/plain": [
              "2718668111938001523"
            ]
          },
          "metadata": {
            "tags": []
          },
          "execution_count": 91
        }
      ]
    },
    {
      "cell_type": "code",
      "metadata": {
        "colab": {
          "base_uri": "https://localhost:8080/"
        },
        "id": "K3np-P80EPVK",
        "outputId": "cc7daca9-cf47-4d53-edda-499f3168d4db"
      },
      "source": [
        "device = torch.device('cuda')\r\n",
        "# optim = torch.optim.Adam(filter(lambda p: p.requires_grad, model.parameters()),lr = 1e-4)\r\n",
        "loss_fn = nn.CrossEntropyLoss().to(device)\r\n",
        "es = EarlyStopping(patience = 10)\r\n",
        "es.best = 0.960\r\n",
        "\r\n",
        "model.cuda()\r\n",
        "\r\n",
        "# train_losses = []\r\n",
        "# train_accs = []\r\n",
        "# val_losses = []\r\n",
        "# val_accs = []\r\n",
        "for epoch in range(100):\r\n",
        "  train_epoch_loss = 0\r\n",
        "  train_epoch_acc = 0\r\n",
        "  model.train()\r\n",
        "  steps = 0\r\n",
        "  for idx, batch in enumerate(train_loader):\r\n",
        "    image, target = batch\r\n",
        "    image = image.to(device)\r\n",
        "    target = target.flatten().to(device)\r\n",
        "\r\n",
        "    optim.zero_grad()\r\n",
        "\r\n",
        "    prediction = model(image)\r\n",
        "    # print(prediction,target)\r\n",
        "    loss = loss_fn(prediction, target)\r\n",
        "\r\n",
        "    num_corrects = (prediction.argmax(dim=1).view(target.size()).data == target.data).sum()\r\n",
        "    acc = 100.0 * (num_corrects/target.size(0))\r\n",
        "    loss.backward()\r\n",
        "    optim.step()\r\n",
        "    steps += 1\r\n",
        "    \r\n",
        "    # if steps % 6 == 0:\r\n",
        "    #     print (f'\\t Train - Epoch: {epoch+1}, Idx: {idx+1}, Training Loss: {loss.item():.4f}, Training Accuracy: {acc.item(): .2f}%')\r\n",
        "    \r\n",
        "    train_epoch_loss += loss.item()\r\n",
        "    train_epoch_acc += acc.item()\r\n",
        "\r\n",
        "  val_epoch_loss = 0\r\n",
        "  val_epoch_acc = 0\r\n",
        "  model.eval()\r\n",
        "  val_steps = 0\r\n",
        "  with torch.no_grad():\r\n",
        "    for idx, batch in enumerate(val_loader):\r\n",
        "      image, target = batch\r\n",
        "      image = image.to(device)\r\n",
        "      target = target.flatten().to(device)\r\n",
        "\r\n",
        "      prediction = model(image)\r\n",
        "      loss = loss_fn(prediction, target)\r\n",
        "      \r\n",
        "      num_corrects = (prediction.argmax(dim=1).view(target.size()).data == target.data).sum()\r\n",
        "      acc = 100.0 * (num_corrects/target.size(0))\r\n",
        "\r\n",
        "      val_epoch_loss += loss.item()\r\n",
        "      val_epoch_acc += acc.item()\r\n",
        "      val_steps +=1\r\n",
        "\r\n",
        "  \r\n",
        "  val_epoch_loss /=val_steps\r\n",
        "  val_epoch_acc /=val_steps\r\n",
        "\r\n",
        "  # val_losses.append(val_epoch_loss)\r\n",
        "  # val_accs.append(val_epoch_acc)\r\n",
        "  \r\n",
        "  print(f\"Epoch: {epoch+1:02}, Train Loss: {train_epoch_loss/steps:.3f}, Train Acc: {train_epoch_acc/steps:.2f}%, Val. Loss: {val_epoch_loss:.3f}, Val. Acc: {val_epoch_acc:.2f}% \\n{90*'='}\")\r\n",
        "  \r\n",
        "  if val_epoch_loss < es.best:\r\n",
        "    best_loss = val_epoch_loss\r\n",
        "    print(f'\\r\\t{es.best:.3f} --> {best_loss:.3f}  Updating')\r\n",
        "    torch.save(model.state_dict(),'vit-base.bin')\r\n",
        "\r\n",
        "    train_losses.append(train_epoch_loss/steps)\r\n",
        "    train_accs.append(train_epoch_acc/steps)\r\n",
        "\r\n",
        "    val_losses.append(val_epoch_loss)\r\n",
        "    val_accs.append(val_epoch_acc)\r\n",
        "    \r\n",
        "  if es.step(torch.tensor(val_epoch_loss)):\r\n",
        "    print(f'\\r\\tPatience complete! Best Loss is {es.best:.3f}')\r\n",
        "    break\r\n",
        "  if val_epoch_loss > best_loss:\r\n",
        "    print(f'\\r\\t Patience -> {es.patience - es.num_bad_epochs}')"
      ],
      "execution_count": 92,
      "outputs": [
        {
          "output_type": "stream",
          "text": [
            "Epoch: 01, Train Loss: 0.111, Train Acc: 97.45%, Val. Loss: 1.135, Val. Acc: 62.50% \n",
            "==========================================================================================\n",
            "\t Patience -> 9\n",
            "Epoch: 02, Train Loss: 0.123, Train Acc: 96.50%, Val. Loss: 1.236, Val. Acc: 62.50% \n",
            "==========================================================================================\n",
            "\t Patience -> 8\n",
            "Epoch: 03, Train Loss: 0.187, Train Acc: 94.59%, Val. Loss: 1.480, Val. Acc: 64.58% \n",
            "==========================================================================================\n",
            "\t Patience -> 7\n",
            "Epoch: 04, Train Loss: 0.140, Train Acc: 97.77%, Val. Loss: 1.644, Val. Acc: 60.42% \n",
            "==========================================================================================\n",
            "\t Patience -> 6\n",
            "Epoch: 05, Train Loss: 0.341, Train Acc: 88.85%, Val. Loss: 1.737, Val. Acc: 58.33% \n",
            "==========================================================================================\n",
            "\t Patience -> 5\n",
            "Epoch: 06, Train Loss: 0.263, Train Acc: 92.99%, Val. Loss: 1.559, Val. Acc: 60.42% \n",
            "==========================================================================================\n",
            "\t Patience -> 4\n",
            "Epoch: 07, Train Loss: 0.334, Train Acc: 89.49%, Val. Loss: 1.996, Val. Acc: 58.33% \n",
            "==========================================================================================\n",
            "\t Patience -> 3\n",
            "Epoch: 08, Train Loss: 0.162, Train Acc: 95.86%, Val. Loss: 1.852, Val. Acc: 50.00% \n",
            "==========================================================================================\n",
            "\t Patience -> 2\n",
            "Epoch: 09, Train Loss: 0.118, Train Acc: 95.54%, Val. Loss: 1.875, Val. Acc: 60.42% \n",
            "==========================================================================================\n",
            "\t Patience -> 1\n",
            "Epoch: 10, Train Loss: 0.464, Train Acc: 85.35%, Val. Loss: 1.661, Val. Acc: 62.50% \n",
            "==========================================================================================\n",
            "\tPatience complete! Best Loss is 0.960\n"
          ],
          "name": "stdout"
        }
      ]
    },
    {
      "cell_type": "code",
      "metadata": {
        "colab": {
          "base_uri": "https://localhost:8080/",
          "height": 1000
        },
        "id": "dcRzXaRdFOpx",
        "outputId": "0694546a-2789-4add-c219-644e0fd231fe"
      },
      "source": [
        "import matplotlib.pyplot as plt\r\n",
        "\r\n",
        "plt.figure(figsize=(15,10))\r\n",
        "plt.plot(train_losses,label='Training Loss')\r\n",
        "plt.plot(val_losses,label='Validation Loss')\r\n",
        "plt.show()\r\n",
        "\r\n",
        "plt.figure(figsize=(15,10))\r\n",
        "plt.plot(train_accs,label='Training Accuracy')\r\n",
        "plt.plot(val_accs,label='Validation Accuracy')\r\n",
        "plt.show()"
      ],
      "execution_count": 93,
      "outputs": [
        {
          "output_type": "display_data",
          "data": {
            "image/png": "[encoded data removed]",
            "text/plain": [
              "<Figure size 1080x720 with 1 Axes>"
            ]
          },
          "metadata": {
            "tags": [],
            "needs_background": "light"
          }
        },
        {
          "output_type": "display_data",
          "data": {
            "image/png": "[encoded data removed]",
            "text/plain": [
              "<Figure size 1080x720 with 1 Axes>"
            ]
          },
          "metadata": {
            "tags": [],
            "needs_background": "light"
          }
        }
      ]
    },
    {
      "cell_type": "code",
      "metadata": {
        "colab": {
          "base_uri": "https://localhost:8080/"
        },
        "id": "hF8i7CFxU_iM",
        "outputId": "58f48ca1-403a-4ff9-e76a-04360560c3fa"
      },
      "source": [
        "from sklearn.metrics import classification_report, confusion_matrix\r\n",
        "\r\n",
        "model.load_state_dict(torch.load('vit-base.bin'))\r\n",
        "model.cuda()\r\n",
        "with torch.no_grad():\r\n",
        "  image,target = next(iter(val_loader))\r\n",
        "  image = image.to(device)\r\n",
        "  target = target.flatten().to(device)\r\n",
        "\r\n",
        "  prediction = model(image)\r\n",
        "\r\n",
        "prediction = prediction.argmax(dim=1).view(target.size()).cpu().numpy()\r\n",
        "target = target.cpu().numpy()\r\n",
        "\r\n",
        "print(classification_report(target,prediction,target_names=val_dataset.LE.classes_))"
      ],
      "execution_count": 94,
      "outputs": [
        {
          "output_type": "stream",
          "text": [
            "                           precision    recall  f1-score   support\n",
            "\n",
            "         Ancyclostoma sp.       1.00      1.00      1.00         2\n",
            "     Ascaris lumbricoides       0.57      1.00      0.73         4\n",
            "      Cryptosporidium sp.       0.00      0.00      0.00         2\n",
            "  Cyclospora cayetanensis       0.75      0.75      0.75         4\n",
            "  Dibothriocephalus latus       1.00      0.67      0.80         3\n",
            "   Entamoeba histolytica]       1.00      1.00      1.00         3\n",
            "  Enterobius vermicularis       1.00      1.00      1.00         2\n",
            "       Giardia duodenalis       1.00      0.75      0.86         4\n",
            "    Plasmodium falciparum       0.62      1.00      0.77         5\n",
            "      Plasmodium malariae       0.60      0.75      0.67         4\n",
            "         Plasmodium ovale       1.00      0.25      0.40         4\n",
            "         Plasmodium vivax       0.75      0.60      0.67         5\n",
            "          Sarcocystis sp.       1.00      1.00      1.00         2\n",
            "Strongyloides stercoralis       0.67      1.00      0.80         2\n",
            "      Trichuris Trichuria       1.00      0.50      0.67         2\n",
            "\n",
            "                 accuracy                           0.75        48\n",
            "                macro avg       0.80      0.75      0.74        48\n",
            "             weighted avg       0.79      0.75      0.73        48\n",
            "\n"
          ],
          "name": "stdout"
        }
      ]
    },
    {
      "cell_type": "code",
      "metadata": {
        "colab": {
          "base_uri": "https://localhost:8080/",
          "height": 546
        },
        "id": "syP7FzReiPxc",
        "outputId": "f856ee4d-39b3-49ac-d60b-0775f3f3d35e"
      },
      "source": [
        "import seaborn as sn\r\n",
        "import pandas as pd\r\n",
        "import matplotlib.pyplot as plt\r\n",
        "confusion = confusion_matrix(target,prediction)\r\n",
        "df_cm = pd.DataFrame(confusion, index = val_dataset.LE.classes_,\r\n",
        "                  columns = val_dataset.LE.classes_)\r\n",
        "plt.figure(figsize = (10,7))\r\n",
        "sn.heatmap(df_cm, annot=True)\r\n",
        "plt.show()"
      ],
      "execution_count": 95,
      "outputs": [
        {
          "output_type": "display_data",
          "data": {
            "image/png": "[encoded data removed]",
            "text/plain": [
              "<Figure size 720x504 with 2 Axes>"
            ]
          },
          "metadata": {
            "tags": [],
            "needs_background": "light"
          }
        }
      ]
    },
    {
      "cell_type": "markdown",
      "metadata": {
        "id": "fwxkRWGzGKW0"
      },
      "source": [
        "# VIT Resnet50 Imagenet 21k"
      ]
    },
    {
      "cell_type": "code",
      "metadata": {
        "id": "VvBDOG-bGKW6"
      },
      "source": [
        "class ViResNet50(nn.Module):\r\n",
        "  def __init__(self,num_classes_classifier=15):\r\n",
        "    super().__init__()\r\n",
        "    self.img_transformer = timm.models.vision_transformer.vit_base_resnet50_224_in21k(pretrained=True,num_classes = 512)\r\n",
        "    self.drop = nn.Dropout(0.4)\r\n",
        "    self.classifier = nn.Linear(512,num_classes_classifier)\r\n",
        "\r\n",
        "  def forward(self,img):\r\n",
        "    repr = self.img_transformer(img)\r\n",
        "    repr = self.drop(repr)\r\n",
        "    output = self.classifier(repr)\r\n",
        "\r\n",
        "    return output  "
      ],
      "execution_count": 102,
      "outputs": []
    },
    {
      "cell_type": "code",
      "metadata": {
        "id": "s3BCkeXDKlZ5",
        "outputId": "fbaf3d75-1a1c-436b-8262-7b27c7717ca4",
        "colab": {
          "base_uri": "https://localhost:8080/"
        }
      },
      "source": [
        "model = ViResNet50()"
      ],
      "execution_count": 103,
      "outputs": [
        {
          "output_type": "stream",
          "text": [
            "Removing representation layer for fine-tuning.\n"
          ],
          "name": "stderr"
        }
      ]
    },
    {
      "cell_type": "code",
      "metadata": {
        "colab": {
          "base_uri": "https://localhost:8080/"
        },
        "id": "mzk4ZLhSGKW6",
        "outputId": "6ff975e1-08a8-4e0d-ff1f-c4151732412a"
      },
      "source": [
        "model.load_state_dict(torch.load('vit-resnet.bin'))"
      ],
      "execution_count": 109,
      "outputs": [
        {
          "output_type": "execute_result",
          "data": {
            "text/plain": [
              "<All keys matched successfully>"
            ]
          },
          "metadata": {
            "tags": []
          },
          "execution_count": 109
        }
      ]
    },
    {
      "cell_type": "code",
      "metadata": {
        "colab": {
          "base_uri": "https://localhost:8080/"
        },
        "id": "cBFOoiubGKW7",
        "outputId": "8b8c5626-951e-41f6-93ef-59e158327ed9"
      },
      "source": [
        "torch.seed()"
      ],
      "execution_count": 100,
      "outputs": [
        {
          "output_type": "execute_result",
          "data": {
            "text/plain": [
              "14185017976319700136"
            ]
          },
          "metadata": {
            "tags": []
          },
          "execution_count": 100
        }
      ]
    },
    {
      "cell_type": "code",
      "metadata": {
        "colab": {
          "base_uri": "https://localhost:8080/"
        },
        "id": "cXdHccnRGKW7",
        "outputId": "85324abb-7265-4415-ee1e-2954f80ce5e7"
      },
      "source": [
        "device = torch.device('cuda')\r\n",
        "# optim = torch.optim.Adam(filter(lambda p: p.requires_grad, model.parameters()),lr = 1e-4)\r\n",
        "loss_fn = nn.CrossEntropyLoss().to(device)\r\n",
        "es = EarlyStopping(patience = 10)\r\n",
        "es.best = 1.273\r\n",
        "\r\n",
        "model.cuda()\r\n",
        "\r\n",
        "# train_losses = []\r\n",
        "# train_accs = []\r\n",
        "# val_losses = []\r\n",
        "# val_accs = []\r\n",
        "for epoch in range(100):\r\n",
        "  train_epoch_loss = 0\r\n",
        "  train_epoch_acc = 0\r\n",
        "  model.train()\r\n",
        "  steps = 0\r\n",
        "  for idx, batch in enumerate(train_loader):\r\n",
        "    image, target = batch\r\n",
        "    image = image.to(device)\r\n",
        "    target = target.flatten().to(device)\r\n",
        "\r\n",
        "    optim.zero_grad()\r\n",
        "\r\n",
        "    prediction = model(image)\r\n",
        "    # print(prediction,target)\r\n",
        "    loss = loss_fn(prediction, target)\r\n",
        "\r\n",
        "    num_corrects = (prediction.argmax(dim=1).view(target.size()).data == target.data).sum()\r\n",
        "    acc = 100.0 * (num_corrects/target.size(0))\r\n",
        "    loss.backward()\r\n",
        "    optim.step()\r\n",
        "    steps += 1\r\n",
        "    \r\n",
        "    # if steps % 6 == 0:\r\n",
        "    #     print (f'\\t Train - Epoch: {epoch+1}, Idx: {idx+1}, Training Loss: {loss.item():.4f}, Training Accuracy: {acc.item(): .2f}%')\r\n",
        "    \r\n",
        "    train_epoch_loss += loss.item()\r\n",
        "    train_epoch_acc += acc.item()\r\n",
        "\r\n",
        "  val_epoch_loss = 0\r\n",
        "  val_epoch_acc = 0\r\n",
        "  model.eval()\r\n",
        "  val_steps = 0\r\n",
        "  with torch.no_grad():\r\n",
        "    for idx, batch in enumerate(val_loader):\r\n",
        "      image, target = batch\r\n",
        "      image = image.to(device)\r\n",
        "      target = target.flatten().to(device)\r\n",
        "\r\n",
        "      prediction = model(image)\r\n",
        "      loss = loss_fn(prediction, target)\r\n",
        "      \r\n",
        "      num_corrects = (prediction.argmax(dim=1).view(target.size()).data == target.data).sum()\r\n",
        "      acc = 100.0 * (num_corrects/target.size(0))\r\n",
        "\r\n",
        "      val_epoch_loss += loss.item()\r\n",
        "      val_epoch_acc += acc.item()\r\n",
        "      val_steps +=1\r\n",
        "\r\n",
        "  \r\n",
        "  val_epoch_loss /=val_steps\r\n",
        "  val_epoch_acc /=val_steps\r\n",
        "\r\n",
        "  # val_losses.append(val_epoch_loss)\r\n",
        "  # val_accs.append(val_epoch_acc)\r\n",
        "  \r\n",
        "  print(f\"Epoch: {epoch+1:02}, Train Loss: {train_epoch_loss/steps:.3f}, Train Acc: {train_epoch_acc/steps:.2f}%, Val. Loss: {val_epoch_loss:.3f}, Val. Acc: {val_epoch_acc:.2f}% \\n{90*'='}\")\r\n",
        "  \r\n",
        "  if val_epoch_loss < es.best:\r\n",
        "    best_loss = val_epoch_loss\r\n",
        "    print(f'\\r\\t{es.best:.3f} --> {best_loss:.3f}  Updating')\r\n",
        "    torch.save(model.state_dict(),'vit-resnet.bin')\r\n",
        "\r\n",
        "    train_losses.append(train_epoch_loss/steps)\r\n",
        "    train_accs.append(train_epoch_acc/steps)\r\n",
        "\r\n",
        "    val_losses.append(val_epoch_loss)\r\n",
        "    val_accs.append(val_epoch_acc)\r\n",
        "    \r\n",
        "  if es.step(torch.tensor(val_epoch_loss)):\r\n",
        "    print(f'\\r\\tPatience complete! Best Loss is {es.best:.3f}')\r\n",
        "    break\r\n",
        "  if val_epoch_loss > best_loss:\r\n",
        "    print(f'\\r\\t Patience -> {es.patience - es.num_bad_epochs}')"
      ],
      "execution_count": 110,
      "outputs": [
        {
          "output_type": "stream",
          "text": [
            "Epoch: 01, Train Loss: 0.458, Train Acc: 85.99%, Val. Loss: 1.435, Val. Acc: 64.58% \n",
            "==========================================================================================\n",
            "\t Patience -> 9\n",
            "Epoch: 02, Train Loss: 0.521, Train Acc: 83.44%, Val. Loss: 1.725, Val. Acc: 62.50% \n",
            "==========================================================================================\n",
            "\t Patience -> 8\n",
            "Epoch: 03, Train Loss: 0.139, Train Acc: 95.54%, Val. Loss: 1.365, Val. Acc: 66.67% \n",
            "==========================================================================================\n",
            "\t Patience -> 7\n",
            "Epoch: 04, Train Loss: 0.152, Train Acc: 95.22%, Val. Loss: 1.795, Val. Acc: 62.50% \n",
            "==========================================================================================\n",
            "\t Patience -> 6\n",
            "Epoch: 05, Train Loss: 0.432, Train Acc: 89.17%, Val. Loss: 2.065, Val. Acc: 58.33% \n",
            "==========================================================================================\n",
            "\t Patience -> 5\n",
            "Epoch: 06, Train Loss: 0.431, Train Acc: 87.58%, Val. Loss: 1.969, Val. Acc: 64.58% \n",
            "==========================================================================================\n",
            "\t Patience -> 4\n",
            "Epoch: 07, Train Loss: 0.374, Train Acc: 90.13%, Val. Loss: 1.198, Val. Acc: 66.67% \n",
            "==========================================================================================\n",
            "\t1.273 --> 1.198  Updating\n",
            "Epoch: 08, Train Loss: 0.208, Train Acc: 93.63%, Val. Loss: 1.425, Val. Acc: 66.67% \n",
            "==========================================================================================\n",
            "\t Patience -> 9\n",
            "Epoch: 09, Train Loss: 0.163, Train Acc: 93.95%, Val. Loss: 2.020, Val. Acc: 62.50% \n",
            "==========================================================================================\n",
            "\t Patience -> 8\n",
            "Epoch: 10, Train Loss: 0.150, Train Acc: 95.22%, Val. Loss: 1.622, Val. Acc: 62.50% \n",
            "==========================================================================================\n",
            "\t Patience -> 7\n",
            "Epoch: 11, Train Loss: 0.146, Train Acc: 94.90%, Val. Loss: 1.540, Val. Acc: 58.33% \n",
            "==========================================================================================\n",
            "\t Patience -> 6\n",
            "Epoch: 12, Train Loss: 0.353, Train Acc: 90.45%, Val. Loss: 1.384, Val. Acc: 66.67% \n",
            "==========================================================================================\n",
            "\t Patience -> 5\n",
            "Epoch: 13, Train Loss: 0.145, Train Acc: 94.27%, Val. Loss: 1.606, Val. Acc: 68.75% \n",
            "==========================================================================================\n",
            "\t Patience -> 4\n",
            "Epoch: 14, Train Loss: 0.065, Train Acc: 98.73%, Val. Loss: 1.557, Val. Acc: 68.75% \n",
            "==========================================================================================\n",
            "\t Patience -> 3\n",
            "Epoch: 15, Train Loss: 0.055, Train Acc: 99.04%, Val. Loss: 1.130, Val. Acc: 72.92% \n",
            "==========================================================================================\n",
            "\t1.198 --> 1.130  Updating\n",
            "Epoch: 16, Train Loss: 0.010, Train Acc: 100.00%, Val. Loss: 1.403, Val. Acc: 70.83% \n",
            "==========================================================================================\n",
            "\t Patience -> 9\n",
            "Epoch: 17, Train Loss: 0.006, Train Acc: 100.00%, Val. Loss: 1.515, Val. Acc: 68.75% \n",
            "==========================================================================================\n",
            "\t Patience -> 8\n",
            "Epoch: 18, Train Loss: 0.142, Train Acc: 96.50%, Val. Loss: 1.517, Val. Acc: 62.50% \n",
            "==========================================================================================\n",
            "\t Patience -> 7\n",
            "Epoch: 19, Train Loss: 0.645, Train Acc: 81.21%, Val. Loss: 2.046, Val. Acc: 54.17% \n",
            "==========================================================================================\n",
            "\t Patience -> 6\n",
            "Epoch: 20, Train Loss: 0.373, Train Acc: 88.85%, Val. Loss: 2.328, Val. Acc: 54.17% \n",
            "==========================================================================================\n",
            "\t Patience -> 5\n",
            "Epoch: 21, Train Loss: 0.395, Train Acc: 87.58%, Val. Loss: 1.673, Val. Acc: 62.50% \n",
            "==========================================================================================\n",
            "\t Patience -> 4\n",
            "Epoch: 22, Train Loss: 0.266, Train Acc: 92.04%, Val. Loss: 1.876, Val. Acc: 62.50% \n",
            "==========================================================================================\n",
            "\t Patience -> 3\n",
            "Epoch: 23, Train Loss: 0.106, Train Acc: 97.45%, Val. Loss: 1.940, Val. Acc: 62.50% \n",
            "==========================================================================================\n",
            "\t Patience -> 2\n",
            "Epoch: 24, Train Loss: 0.309, Train Acc: 92.04%, Val. Loss: 2.085, Val. Acc: 54.17% \n",
            "==========================================================================================\n",
            "\t Patience -> 1\n",
            "Epoch: 25, Train Loss: 0.145, Train Acc: 95.54%, Val. Loss: 1.774, Val. Acc: 68.75% \n",
            "==========================================================================================\n",
            "\tPatience complete! Best Loss is 1.130\n"
          ],
          "name": "stdout"
        }
      ]
    },
    {
      "cell_type": "code",
      "metadata": {
        "colab": {
          "base_uri": "https://localhost:8080/",
          "height": 1000
        },
        "id": "pOJuJWNTGKW8",
        "outputId": "abae4613-34da-47b8-84ef-c2c61ad6f838"
      },
      "source": [
        "import matplotlib.pyplot as plt\r\n",
        "\r\n",
        "plt.figure(figsize=(15,10))\r\n",
        "plt.plot(train_losses,label='Training Loss')\r\n",
        "plt.plot(val_losses,label='Validation Loss')\r\n",
        "plt.show()\r\n",
        "\r\n",
        "plt.figure(figsize=(15,10))\r\n",
        "plt.plot(train_accs,label='Training Accuracy')\r\n",
        "plt.plot(val_accs,label='Validation Accuracy')\r\n",
        "plt.show()"
      ],
      "execution_count": 111,
      "outputs": [
        {
          "output_type": "display_data",
          "data": {
            "image/png": "[encoded data removed]",
            "text/plain": [
              "<Figure size 1080x720 with 1 Axes>"
            ]
          },
          "metadata": {
            "tags": [],
            "needs_background": "light"
          }
        },
        {
          "output_type": "display_data",
          "data": {
            "image/png": "[encoded data removed]",
            "text/plain": [
              "<Figure size 1080x720 with 1 Axes>"
            ]
          },
          "metadata": {
            "tags": [],
            "needs_background": "light"
          }
        }
      ]
    },
    {
      "cell_type": "code",
      "metadata": {
        "colab": {
          "base_uri": "https://localhost:8080/"
        },
        "id": "ldmJkyZPGKW8",
        "outputId": "e14e6e44-4a25-49ef-cf37-8d454f52f0cb"
      },
      "source": [
        "from sklearn.metrics import classification_report, confusion_matrix\r\n",
        "\r\n",
        "model.load_state_dict(torch.load('vit-resnet.bin'))\r\n",
        "model.cuda()\r\n",
        "with torch.no_grad():\r\n",
        "  image,target = next(iter(val_loader))\r\n",
        "  image = image.to(device)\r\n",
        "  target = target.flatten().to(device)\r\n",
        "\r\n",
        "  prediction = model(image)\r\n",
        "\r\n",
        "prediction = prediction.argmax(dim=1).view(target.size()).cpu().numpy()\r\n",
        "target = target.cpu().numpy()\r\n",
        "\r\n",
        "print(classification_report(target,prediction,target_names=val_dataset.LE.classes_))"
      ],
      "execution_count": 112,
      "outputs": [
        {
          "output_type": "stream",
          "text": [
            "                           precision    recall  f1-score   support\n",
            "\n",
            "         Ancyclostoma sp.       0.50      0.50      0.50         2\n",
            "     Ascaris lumbricoides       0.67      1.00      0.80         4\n",
            "      Cryptosporidium sp.       0.33      0.50      0.40         2\n",
            "  Cyclospora cayetanensis       0.80      1.00      0.89         4\n",
            "  Dibothriocephalus latus       1.00      1.00      1.00         3\n",
            "   Entamoeba histolytica]       1.00      1.00      1.00         3\n",
            "  Enterobius vermicularis       1.00      0.50      0.67         2\n",
            "       Giardia duodenalis       1.00      0.75      0.86         4\n",
            "    Plasmodium falciparum       0.56      1.00      0.71         5\n",
            "      Plasmodium malariae       1.00      0.25      0.40         4\n",
            "         Plasmodium ovale       0.50      0.25      0.33         4\n",
            "         Plasmodium vivax       0.67      0.80      0.73         5\n",
            "          Sarcocystis sp.       1.00      0.50      0.67         2\n",
            "Strongyloides stercoralis       1.00      0.50      0.67         2\n",
            "      Trichuris Trichuria       1.00      1.00      1.00         2\n",
            "\n",
            "                 accuracy                           0.73        48\n",
            "                macro avg       0.80      0.70      0.71        48\n",
            "             weighted avg       0.78      0.73      0.71        48\n",
            "\n"
          ],
          "name": "stdout"
        }
      ]
    },
    {
      "cell_type": "code",
      "metadata": {
        "colab": {
          "base_uri": "https://localhost:8080/",
          "height": 546
        },
        "id": "fyKHP0L9GKW8",
        "outputId": "92eb0393-95a5-40bc-8598-213d3d5fd477"
      },
      "source": [
        "import seaborn as sn\r\n",
        "import pandas as pd\r\n",
        "import matplotlib.pyplot as plt\r\n",
        "confusion = confusion_matrix(target,prediction)\r\n",
        "df_cm = pd.DataFrame(confusion, index = val_dataset.LE.classes_,\r\n",
        "                  columns = val_dataset.LE.classes_)\r\n",
        "plt.figure(figsize = (10,7))\r\n",
        "sn.heatmap(df_cm, annot=True)\r\n",
        "plt.show()"
      ],
      "execution_count": 113,
      "outputs": [
        {
          "output_type": "display_data",
          "data": {
            "image/png": "[encoded data removed]",
            "text/plain": [
              "<Figure size 720x504 with 2 Axes>"
            ]
          },
          "metadata": {
            "tags": [],
            "needs_background": "light"
          }
        }
      ]
    }
  ]
}