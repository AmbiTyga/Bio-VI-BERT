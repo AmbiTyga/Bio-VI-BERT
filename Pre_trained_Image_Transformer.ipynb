{
  "nbformat": 4,
  "nbformat_minor": 0,
  "metadata": {
    "colab": {
      "name": "Pre-trained Image Transformer",
      "provenance": [],
      "collapsed_sections": [],
      "toc_visible": true,
      "machine_shape": "hm",
      "include_colab_link": true
    },
    "kernelspec": {
      "name": "python3",
      "display_name": "Python 3"
    },
    "accelerator": "GPU"
  },
  "cells": [
    {
      "cell_type": "markdown",
      "metadata": {
        "id": "view-in-github",
        "colab_type": "text"
      },
      "source": [
        "<a href=\"https://colab.research.google.com/github/AmbiTyga/Bio-VI-BERT/blob/main/Pre_trained_Image_Transformer.ipynb\" target=\"_parent\"><img src=\"https://colab.research.google.com/assets/colab-badge.svg\" alt=\"Open In Colab\"/></a>"
      ]
    },
    {
      "cell_type": "code",
      "metadata": {
        "id": "lK7qSJkK8HBe",
        "colab": {
          "base_uri": "https://localhost:8080/"
        },
        "outputId": "0d79f1c6-7a1a-47e5-bc71-41ac114098cb"
      },
      "source": [
        "!git clone https://github.com/rwightman/pytorch-image-models.git\n",
        "%cd pytorch-image-models\n",
        "!pip install -r requirements.txt -q\n",
        "!python setup.py install -q\n",
        "%cd ..\n",
        "\n",
        "import os\n",
        "os.kill(os.getpid(), 9)\n",
        "# Restart Runtime"
      ],
      "execution_count": null,
      "outputs": [
        {
          "output_type": "stream",
          "text": [
            "Cloning into 'pytorch-image-models'...\n",
            "remote: Enumerating objects: 37, done.\u001b[K\n",
            "remote: Counting objects: 100% (37/37), done.\u001b[K\n",
            "remote: Compressing objects: 100% (30/30), done.\u001b[K\n",
            "remote: Total 5859 (delta 14), reused 15 (delta 6), pack-reused 5822\u001b[K\n",
            "Receiving objects: 100% (5859/5859), 16.84 MiB | 12.14 MiB/s, done.\n",
            "Resolving deltas: 100% (4283/4283), done.\n",
            "/content/pytorch-image-models\n",
            "running install\n",
            "running bdist_egg\n",
            "running egg_info\n",
            "creating timm.egg-info\n",
            "writing timm.egg-info/PKG-INFO\n",
            "writing dependency_links to timm.egg-info/dependency_links.txt\n",
            "writing requirements to timm.egg-info/requires.txt\n",
            "writing top-level names to timm.egg-info/top_level.txt\n",
            "writing manifest file 'timm.egg-info/SOURCES.txt'\n",
            "reading manifest template 'MANIFEST.in'\n",
            "writing manifest file 'timm.egg-info/SOURCES.txt'\n",
            "installing library code to build/bdist.linux-x86_64/egg\n",
            "running install_lib\n",
            "running build_py\n",
            "creating build\n",
            "creating build/lib\n",
            "creating build/lib/timm\n",
            "copying timm/version.py -> build/lib/timm\n",
            "copying timm/__init__.py -> build/lib/timm\n",
            "creating build/lib/timm/models\n",
            "copying timm/models/helpers.py -> build/lib/timm/models\n",
            "copying timm/models/inception_v3.py -> build/lib/timm/models\n",
            "copying timm/models/__init__.py -> build/lib/timm/models\n",
            "copying timm/models/vision_transformer.py -> build/lib/timm/models\n",
            "copying timm/models/res2net.py -> build/lib/timm/models\n",
            "copying timm/models/sknet.py -> build/lib/timm/models\n",
            "copying timm/models/features.py -> build/lib/timm/models\n",
            "copying timm/models/mobilenetv3.py -> build/lib/timm/models\n",
            "copying timm/models/hrnet.py -> build/lib/timm/models\n",
            "copying timm/models/dla.py -> build/lib/timm/models\n",
            "copying timm/models/dpn.py -> build/lib/timm/models\n",
            "copying timm/models/nfnet.py -> build/lib/timm/models\n",
            "copying timm/models/xception.py -> build/lib/timm/models\n",
            "copying timm/models/factory.py -> build/lib/timm/models\n",
            "copying timm/models/resnetv2.py -> build/lib/timm/models\n",
            "copying timm/models/cspnet.py -> build/lib/timm/models\n",
            "copying timm/models/registry.py -> build/lib/timm/models\n",
            "copying timm/models/resnest.py -> build/lib/timm/models\n",
            "copying timm/models/selecsls.py -> build/lib/timm/models\n",
            "copying timm/models/densenet.py -> build/lib/timm/models\n",
            "copying timm/models/nasnet.py -> build/lib/timm/models\n",
            "copying timm/models/efficientnet_blocks.py -> build/lib/timm/models\n",
            "copying timm/models/efficientnet_builder.py -> build/lib/timm/models\n",
            "copying timm/models/resnet.py -> build/lib/timm/models\n",
            "copying timm/models/hub.py -> build/lib/timm/models\n",
            "copying timm/models/gluon_xception.py -> build/lib/timm/models\n",
            "copying timm/models/gluon_resnet.py -> build/lib/timm/models\n",
            "copying timm/models/byobnet.py -> build/lib/timm/models\n",
            "copying timm/models/senet.py -> build/lib/timm/models\n",
            "copying timm/models/rexnet.py -> build/lib/timm/models\n",
            "copying timm/models/inception_v4.py -> build/lib/timm/models\n",
            "copying timm/models/inception_resnet_v2.py -> build/lib/timm/models\n",
            "copying timm/models/hardcorenas.py -> build/lib/timm/models\n",
            "copying timm/models/vgg.py -> build/lib/timm/models\n",
            "copying timm/models/vovnet.py -> build/lib/timm/models\n",
            "copying timm/models/regnet.py -> build/lib/timm/models\n",
            "copying timm/models/pnasnet.py -> build/lib/timm/models\n",
            "copying timm/models/tresnet.py -> build/lib/timm/models\n",
            "copying timm/models/efficientnet.py -> build/lib/timm/models\n",
            "copying timm/models/xception_aligned.py -> build/lib/timm/models\n",
            "creating build/lib/timm/scheduler\n",
            "copying timm/scheduler/step_lr.py -> build/lib/timm/scheduler\n",
            "copying timm/scheduler/__init__.py -> build/lib/timm/scheduler\n",
            "copying timm/scheduler/plateau_lr.py -> build/lib/timm/scheduler\n",
            "copying timm/scheduler/tanh_lr.py -> build/lib/timm/scheduler\n",
            "copying timm/scheduler/cosine_lr.py -> build/lib/timm/scheduler\n",
            "copying timm/scheduler/scheduler_factory.py -> build/lib/timm/scheduler\n",
            "copying timm/scheduler/scheduler.py -> build/lib/timm/scheduler\n",
            "creating build/lib/timm/loss\n",
            "copying timm/loss/__init__.py -> build/lib/timm/loss\n",
            "copying timm/loss/cross_entropy.py -> build/lib/timm/loss\n",
            "copying timm/loss/jsd.py -> build/lib/timm/loss\n",
            "copying timm/loss/asymmetric_loss.py -> build/lib/timm/loss\n",
            "creating build/lib/timm/utils\n",
            "copying timm/utils/misc.py -> build/lib/timm/utils\n",
            "copying timm/utils/checkpoint_saver.py -> build/lib/timm/utils\n",
            "copying timm/utils/__init__.py -> build/lib/timm/utils\n",
            "copying timm/utils/jit.py -> build/lib/timm/utils\n",
            "copying timm/utils/metrics.py -> build/lib/timm/utils\n",
            "copying timm/utils/distributed.py -> build/lib/timm/utils\n",
            "copying timm/utils/model_ema.py -> build/lib/timm/utils\n",
            "copying timm/utils/cuda.py -> build/lib/timm/utils\n",
            "copying timm/utils/log.py -> build/lib/timm/utils\n",
            "copying timm/utils/model.py -> build/lib/timm/utils\n",
            "copying timm/utils/agc.py -> build/lib/timm/utils\n",
            "copying timm/utils/summary.py -> build/lib/timm/utils\n",
            "copying timm/utils/clip_grad.py -> build/lib/timm/utils\n",
            "creating build/lib/timm/data\n",
            "copying timm/data/loader.py -> build/lib/timm/data\n",
            "copying timm/data/tf_preprocessing.py -> build/lib/timm/data\n",
            "copying timm/data/__init__.py -> build/lib/timm/data\n",
            "copying timm/data/distributed_sampler.py -> build/lib/timm/data\n",
            "copying timm/data/real_labels.py -> build/lib/timm/data\n",
            "copying timm/data/dataset.py -> build/lib/timm/data\n",
            "copying timm/data/transforms.py -> build/lib/timm/data\n",
            "copying timm/data/config.py -> build/lib/timm/data\n",
            "copying timm/data/constants.py -> build/lib/timm/data\n",
            "copying timm/data/random_erasing.py -> build/lib/timm/data\n",
            "copying timm/data/dataset_factory.py -> build/lib/timm/data\n",
            "copying timm/data/mixup.py -> build/lib/timm/data\n",
            "copying timm/data/auto_augment.py -> build/lib/timm/data\n",
            "copying timm/data/transforms_factory.py -> build/lib/timm/data\n",
            "creating build/lib/timm/optim\n",
            "copying timm/optim/__init__.py -> build/lib/timm/optim\n",
            "copying timm/optim/radam.py -> build/lib/timm/optim\n",
            "copying timm/optim/sgdp.py -> build/lib/timm/optim\n",
            "copying timm/optim/nvnovograd.py -> build/lib/timm/optim\n",
            "copying timm/optim/nadam.py -> build/lib/timm/optim\n",
            "copying timm/optim/adahessian.py -> build/lib/timm/optim\n",
            "copying timm/optim/adamp.py -> build/lib/timm/optim\n",
            "copying timm/optim/novograd.py -> build/lib/timm/optim\n",
            "copying timm/optim/adafactor.py -> build/lib/timm/optim\n",
            "copying timm/optim/adamw.py -> build/lib/timm/optim\n",
            "copying timm/optim/lookahead.py -> build/lib/timm/optim\n",
            "copying timm/optim/rmsprop_tf.py -> build/lib/timm/optim\n",
            "copying timm/optim/optim_factory.py -> build/lib/timm/optim\n",
            "creating build/lib/timm/models/layers\n",
            "copying timm/models/layers/selective_kernel.py -> build/lib/timm/models/layers\n",
            "copying timm/models/layers/helpers.py -> build/lib/timm/models/layers\n",
            "copying timm/models/layers/split_attn.py -> build/lib/timm/models/layers\n",
            "copying timm/models/layers/__init__.py -> build/lib/timm/models/layers\n",
            "copying timm/models/layers/create_conv2d.py -> build/lib/timm/models/layers\n",
            "copying timm/models/layers/create_act.py -> build/lib/timm/models/layers\n",
            "copying timm/models/layers/eca.py -> build/lib/timm/models/layers\n",
            "copying timm/models/layers/create_norm_act.py -> build/lib/timm/models/layers\n",
            "copying timm/models/layers/evo_norm.py -> build/lib/timm/models/layers\n",
            "copying timm/models/layers/inplace_abn.py -> build/lib/timm/models/layers\n",
            "copying timm/models/layers/linear.py -> build/lib/timm/models/layers\n",
            "copying timm/models/layers/activations.py -> build/lib/timm/models/layers\n",
            "copying timm/models/layers/space_to_depth.py -> build/lib/timm/models/layers\n",
            "copying timm/models/layers/conv2d_same.py -> build/lib/timm/models/layers\n",
            "copying timm/models/layers/test_time_pool.py -> build/lib/timm/models/layers\n",
            "copying timm/models/layers/anti_aliasing.py -> build/lib/timm/models/layers\n",
            "copying timm/models/layers/classifier.py -> build/lib/timm/models/layers\n",
            "copying timm/models/layers/config.py -> build/lib/timm/models/layers\n",
            "copying timm/models/layers/se.py -> build/lib/timm/models/layers\n",
            "copying timm/models/layers/pool2d_same.py -> build/lib/timm/models/layers\n",
            "copying timm/models/layers/mixed_conv2d.py -> build/lib/timm/models/layers\n",
            "copying timm/models/layers/cbam.py -> build/lib/timm/models/layers\n",
            "copying timm/models/layers/cond_conv2d.py -> build/lib/timm/models/layers\n",
            "copying timm/models/layers/norm_act.py -> build/lib/timm/models/layers\n",
            "copying timm/models/layers/blur_pool.py -> build/lib/timm/models/layers\n",
            "copying timm/models/layers/split_batchnorm.py -> build/lib/timm/models/layers\n",
            "copying timm/models/layers/weight_init.py -> build/lib/timm/models/layers\n",
            "copying timm/models/layers/separable_conv.py -> build/lib/timm/models/layers\n",
            "copying timm/models/layers/median_pool.py -> build/lib/timm/models/layers\n",
            "copying timm/models/layers/create_attn.py -> build/lib/timm/models/layers\n",
            "copying timm/models/layers/padding.py -> build/lib/timm/models/layers\n",
            "copying timm/models/layers/activations_jit.py -> build/lib/timm/models/layers\n",
            "copying timm/models/layers/conv_bn_act.py -> build/lib/timm/models/layers\n",
            "copying timm/models/layers/adaptive_avgmax_pool.py -> build/lib/timm/models/layers\n",
            "copying timm/models/layers/drop.py -> build/lib/timm/models/layers\n",
            "copying timm/models/layers/activations_me.py -> build/lib/timm/models/layers\n",
            "copying timm/models/layers/std_conv.py -> build/lib/timm/models/layers\n",
            "creating build/lib/timm/data/parsers\n",
            "copying timm/data/parsers/parser_image_folder.py -> build/lib/timm/data/parsers\n",
            "copying timm/data/parsers/__init__.py -> build/lib/timm/data/parsers\n",
            "copying timm/data/parsers/parser_image_tar.py -> build/lib/timm/data/parsers\n",
            "copying timm/data/parsers/class_map.py -> build/lib/timm/data/parsers\n",
            "copying timm/data/parsers/constants.py -> build/lib/timm/data/parsers\n",
            "copying timm/data/parsers/parser_image_in_tar.py -> build/lib/timm/data/parsers\n",
            "copying timm/data/parsers/parser.py -> build/lib/timm/data/parsers\n",
            "copying timm/data/parsers/parser_tfds.py -> build/lib/timm/data/parsers\n",
            "copying timm/data/parsers/parser_factory.py -> build/lib/timm/data/parsers\n",
            "creating build/lib/timm/models/pruned\n",
            "copying timm/models/pruned/ecaresnet101d_pruned.txt -> build/lib/timm/models/pruned\n",
            "copying timm/models/pruned/ecaresnet50d_pruned.txt -> build/lib/timm/models/pruned\n",
            "copying timm/models/pruned/efficientnet_b1_pruned.txt -> build/lib/timm/models/pruned\n",
            "copying timm/models/pruned/efficientnet_b2_pruned.txt -> build/lib/timm/models/pruned\n",
            "copying timm/models/pruned/efficientnet_b3_pruned.txt -> build/lib/timm/models/pruned\n",
            "creating build/bdist.linux-x86_64\n",
            "creating build/bdist.linux-x86_64/egg\n",
            "creating build/bdist.linux-x86_64/egg/timm\n",
            "copying build/lib/timm/version.py -> build/bdist.linux-x86_64/egg/timm\n",
            "copying build/lib/timm/__init__.py -> build/bdist.linux-x86_64/egg/timm\n",
            "creating build/bdist.linux-x86_64/egg/timm/models\n",
            "copying build/lib/timm/models/helpers.py -> build/bdist.linux-x86_64/egg/timm/models\n",
            "copying build/lib/timm/models/inception_v3.py -> build/bdist.linux-x86_64/egg/timm/models\n",
            "copying build/lib/timm/models/__init__.py -> build/bdist.linux-x86_64/egg/timm/models\n",
            "copying build/lib/timm/models/vision_transformer.py -> build/bdist.linux-x86_64/egg/timm/models\n",
            "creating build/bdist.linux-x86_64/egg/timm/models/layers\n",
            "copying build/lib/timm/models/layers/selective_kernel.py -> build/bdist.linux-x86_64/egg/timm/models/layers\n",
            "copying build/lib/timm/models/layers/helpers.py -> build/bdist.linux-x86_64/egg/timm/models/layers\n",
            "copying build/lib/timm/models/layers/split_attn.py -> build/bdist.linux-x86_64/egg/timm/models/layers\n",
            "copying build/lib/timm/models/layers/__init__.py -> build/bdist.linux-x86_64/egg/timm/models/layers\n",
            "copying build/lib/timm/models/layers/create_conv2d.py -> build/bdist.linux-x86_64/egg/timm/models/layers\n",
            "copying build/lib/timm/models/layers/create_act.py -> build/bdist.linux-x86_64/egg/timm/models/layers\n",
            "copying build/lib/timm/models/layers/eca.py -> build/bdist.linux-x86_64/egg/timm/models/layers\n",
            "copying build/lib/timm/models/layers/create_norm_act.py -> build/bdist.linux-x86_64/egg/timm/models/layers\n",
            "copying build/lib/timm/models/layers/evo_norm.py -> build/bdist.linux-x86_64/egg/timm/models/layers\n",
            "copying build/lib/timm/models/layers/inplace_abn.py -> build/bdist.linux-x86_64/egg/timm/models/layers\n",
            "copying build/lib/timm/models/layers/linear.py -> build/bdist.linux-x86_64/egg/timm/models/layers\n",
            "copying build/lib/timm/models/layers/activations.py -> build/bdist.linux-x86_64/egg/timm/models/layers\n",
            "copying build/lib/timm/models/layers/space_to_depth.py -> build/bdist.linux-x86_64/egg/timm/models/layers\n",
            "copying build/lib/timm/models/layers/conv2d_same.py -> build/bdist.linux-x86_64/egg/timm/models/layers\n",
            "copying build/lib/timm/models/layers/test_time_pool.py -> build/bdist.linux-x86_64/egg/timm/models/layers\n",
            "copying build/lib/timm/models/layers/anti_aliasing.py -> build/bdist.linux-x86_64/egg/timm/models/layers\n",
            "copying build/lib/timm/models/layers/classifier.py -> build/bdist.linux-x86_64/egg/timm/models/layers\n",
            "copying build/lib/timm/models/layers/config.py -> build/bdist.linux-x86_64/egg/timm/models/layers\n",
            "copying build/lib/timm/models/layers/se.py -> build/bdist.linux-x86_64/egg/timm/models/layers\n",
            "copying build/lib/timm/models/layers/pool2d_same.py -> build/bdist.linux-x86_64/egg/timm/models/layers\n",
            "copying build/lib/timm/models/layers/mixed_conv2d.py -> build/bdist.linux-x86_64/egg/timm/models/layers\n",
            "copying build/lib/timm/models/layers/cbam.py -> build/bdist.linux-x86_64/egg/timm/models/layers\n",
            "copying build/lib/timm/models/layers/cond_conv2d.py -> build/bdist.linux-x86_64/egg/timm/models/layers\n",
            "copying build/lib/timm/models/layers/norm_act.py -> build/bdist.linux-x86_64/egg/timm/models/layers\n",
            "copying build/lib/timm/models/layers/blur_pool.py -> build/bdist.linux-x86_64/egg/timm/models/layers\n",
            "copying build/lib/timm/models/layers/split_batchnorm.py -> build/bdist.linux-x86_64/egg/timm/models/layers\n",
            "copying build/lib/timm/models/layers/weight_init.py -> build/bdist.linux-x86_64/egg/timm/models/layers\n",
            "copying build/lib/timm/models/layers/separable_conv.py -> build/bdist.linux-x86_64/egg/timm/models/layers\n",
            "copying build/lib/timm/models/layers/median_pool.py -> build/bdist.linux-x86_64/egg/timm/models/layers\n",
            "copying build/lib/timm/models/layers/create_attn.py -> build/bdist.linux-x86_64/egg/timm/models/layers\n",
            "copying build/lib/timm/models/layers/padding.py -> build/bdist.linux-x86_64/egg/timm/models/layers\n",
            "copying build/lib/timm/models/layers/activations_jit.py -> build/bdist.linux-x86_64/egg/timm/models/layers\n",
            "copying build/lib/timm/models/layers/conv_bn_act.py -> build/bdist.linux-x86_64/egg/timm/models/layers\n",
            "copying build/lib/timm/models/layers/adaptive_avgmax_pool.py -> build/bdist.linux-x86_64/egg/timm/models/layers\n",
            "copying build/lib/timm/models/layers/drop.py -> build/bdist.linux-x86_64/egg/timm/models/layers\n",
            "copying build/lib/timm/models/layers/activations_me.py -> build/bdist.linux-x86_64/egg/timm/models/layers\n",
            "copying build/lib/timm/models/layers/std_conv.py -> build/bdist.linux-x86_64/egg/timm/models/layers\n",
            "copying build/lib/timm/models/res2net.py -> build/bdist.linux-x86_64/egg/timm/models\n",
            "copying build/lib/timm/models/sknet.py -> build/bdist.linux-x86_64/egg/timm/models\n",
            "copying build/lib/timm/models/features.py -> build/bdist.linux-x86_64/egg/timm/models\n",
            "copying build/lib/timm/models/mobilenetv3.py -> build/bdist.linux-x86_64/egg/timm/models\n",
            "copying build/lib/timm/models/hrnet.py -> build/bdist.linux-x86_64/egg/timm/models\n",
            "copying build/lib/timm/models/dla.py -> build/bdist.linux-x86_64/egg/timm/models\n",
            "copying build/lib/timm/models/dpn.py -> build/bdist.linux-x86_64/egg/timm/models\n",
            "copying build/lib/timm/models/nfnet.py -> build/bdist.linux-x86_64/egg/timm/models\n",
            "copying build/lib/timm/models/xception.py -> build/bdist.linux-x86_64/egg/timm/models\n",
            "copying build/lib/timm/models/factory.py -> build/bdist.linux-x86_64/egg/timm/models\n",
            "copying build/lib/timm/models/resnetv2.py -> build/bdist.linux-x86_64/egg/timm/models\n",
            "copying build/lib/timm/models/cspnet.py -> build/bdist.linux-x86_64/egg/timm/models\n",
            "copying build/lib/timm/models/registry.py -> build/bdist.linux-x86_64/egg/timm/models\n",
            "copying build/lib/timm/models/resnest.py -> build/bdist.linux-x86_64/egg/timm/models\n",
            "copying build/lib/timm/models/selecsls.py -> build/bdist.linux-x86_64/egg/timm/models\n",
            "copying build/lib/timm/models/densenet.py -> build/bdist.linux-x86_64/egg/timm/models\n",
            "copying build/lib/timm/models/nasnet.py -> build/bdist.linux-x86_64/egg/timm/models\n",
            "copying build/lib/timm/models/efficientnet_blocks.py -> build/bdist.linux-x86_64/egg/timm/models\n",
            "copying build/lib/timm/models/efficientnet_builder.py -> build/bdist.linux-x86_64/egg/timm/models\n",
            "copying build/lib/timm/models/resnet.py -> build/bdist.linux-x86_64/egg/timm/models\n",
            "copying build/lib/timm/models/hub.py -> build/bdist.linux-x86_64/egg/timm/models\n",
            "creating build/bdist.linux-x86_64/egg/timm/models/pruned\n",
            "copying build/lib/timm/models/pruned/ecaresnet50d_pruned.txt -> build/bdist.linux-x86_64/egg/timm/models/pruned\n",
            "copying build/lib/timm/models/pruned/efficientnet_b3_pruned.txt -> build/bdist.linux-x86_64/egg/timm/models/pruned\n",
            "copying build/lib/timm/models/pruned/efficientnet_b2_pruned.txt -> build/bdist.linux-x86_64/egg/timm/models/pruned\n",
            "copying build/lib/timm/models/pruned/ecaresnet101d_pruned.txt -> build/bdist.linux-x86_64/egg/timm/models/pruned\n",
            "copying build/lib/timm/models/pruned/efficientnet_b1_pruned.txt -> build/bdist.linux-x86_64/egg/timm/models/pruned\n",
            "copying build/lib/timm/models/gluon_xception.py -> build/bdist.linux-x86_64/egg/timm/models\n",
            "copying build/lib/timm/models/gluon_resnet.py -> build/bdist.linux-x86_64/egg/timm/models\n",
            "copying build/lib/timm/models/byobnet.py -> build/bdist.linux-x86_64/egg/timm/models\n",
            "copying build/lib/timm/models/senet.py -> build/bdist.linux-x86_64/egg/timm/models\n",
            "copying build/lib/timm/models/rexnet.py -> build/bdist.linux-x86_64/egg/timm/models\n",
            "copying build/lib/timm/models/inception_v4.py -> build/bdist.linux-x86_64/egg/timm/models\n",
            "copying build/lib/timm/models/inception_resnet_v2.py -> build/bdist.linux-x86_64/egg/timm/models\n",
            "copying build/lib/timm/models/hardcorenas.py -> build/bdist.linux-x86_64/egg/timm/models\n",
            "copying build/lib/timm/models/vgg.py -> build/bdist.linux-x86_64/egg/timm/models\n",
            "copying build/lib/timm/models/vovnet.py -> build/bdist.linux-x86_64/egg/timm/models\n",
            "copying build/lib/timm/models/regnet.py -> build/bdist.linux-x86_64/egg/timm/models\n",
            "copying build/lib/timm/models/pnasnet.py -> build/bdist.linux-x86_64/egg/timm/models\n",
            "copying build/lib/timm/models/tresnet.py -> build/bdist.linux-x86_64/egg/timm/models\n",
            "copying build/lib/timm/models/efficientnet.py -> build/bdist.linux-x86_64/egg/timm/models\n",
            "copying build/lib/timm/models/xception_aligned.py -> build/bdist.linux-x86_64/egg/timm/models\n",
            "creating build/bdist.linux-x86_64/egg/timm/scheduler\n",
            "copying build/lib/timm/scheduler/step_lr.py -> build/bdist.linux-x86_64/egg/timm/scheduler\n",
            "copying build/lib/timm/scheduler/__init__.py -> build/bdist.linux-x86_64/egg/timm/scheduler\n",
            "copying build/lib/timm/scheduler/plateau_lr.py -> build/bdist.linux-x86_64/egg/timm/scheduler\n",
            "copying build/lib/timm/scheduler/tanh_lr.py -> build/bdist.linux-x86_64/egg/timm/scheduler\n",
            "copying build/lib/timm/scheduler/cosine_lr.py -> build/bdist.linux-x86_64/egg/timm/scheduler\n",
            "copying build/lib/timm/scheduler/scheduler_factory.py -> build/bdist.linux-x86_64/egg/timm/scheduler\n",
            "copying build/lib/timm/scheduler/scheduler.py -> build/bdist.linux-x86_64/egg/timm/scheduler\n",
            "creating build/bdist.linux-x86_64/egg/timm/loss\n",
            "copying build/lib/timm/loss/__init__.py -> build/bdist.linux-x86_64/egg/timm/loss\n",
            "copying build/lib/timm/loss/cross_entropy.py -> build/bdist.linux-x86_64/egg/timm/loss\n",
            "copying build/lib/timm/loss/jsd.py -> build/bdist.linux-x86_64/egg/timm/loss\n",
            "copying build/lib/timm/loss/asymmetric_loss.py -> build/bdist.linux-x86_64/egg/timm/loss\n",
            "creating build/bdist.linux-x86_64/egg/timm/utils\n",
            "copying build/lib/timm/utils/misc.py -> build/bdist.linux-x86_64/egg/timm/utils\n",
            "copying build/lib/timm/utils/checkpoint_saver.py -> build/bdist.linux-x86_64/egg/timm/utils\n",
            "copying build/lib/timm/utils/__init__.py -> build/bdist.linux-x86_64/egg/timm/utils\n",
            "copying build/lib/timm/utils/jit.py -> build/bdist.linux-x86_64/egg/timm/utils\n",
            "copying build/lib/timm/utils/metrics.py -> build/bdist.linux-x86_64/egg/timm/utils\n",
            "copying build/lib/timm/utils/distributed.py -> build/bdist.linux-x86_64/egg/timm/utils\n",
            "copying build/lib/timm/utils/model_ema.py -> build/bdist.linux-x86_64/egg/timm/utils\n",
            "copying build/lib/timm/utils/cuda.py -> build/bdist.linux-x86_64/egg/timm/utils\n",
            "copying build/lib/timm/utils/log.py -> build/bdist.linux-x86_64/egg/timm/utils\n",
            "copying build/lib/timm/utils/model.py -> build/bdist.linux-x86_64/egg/timm/utils\n",
            "copying build/lib/timm/utils/agc.py -> build/bdist.linux-x86_64/egg/timm/utils\n",
            "copying build/lib/timm/utils/summary.py -> build/bdist.linux-x86_64/egg/timm/utils\n",
            "copying build/lib/timm/utils/clip_grad.py -> build/bdist.linux-x86_64/egg/timm/utils\n",
            "creating build/bdist.linux-x86_64/egg/timm/data\n",
            "creating build/bdist.linux-x86_64/egg/timm/data/parsers\n",
            "copying build/lib/timm/data/parsers/parser_image_folder.py -> build/bdist.linux-x86_64/egg/timm/data/parsers\n",
            "copying build/lib/timm/data/parsers/__init__.py -> build/bdist.linux-x86_64/egg/timm/data/parsers\n",
            "copying build/lib/timm/data/parsers/parser_image_tar.py -> build/bdist.linux-x86_64/egg/timm/data/parsers\n",
            "copying build/lib/timm/data/parsers/class_map.py -> build/bdist.linux-x86_64/egg/timm/data/parsers\n",
            "copying build/lib/timm/data/parsers/constants.py -> build/bdist.linux-x86_64/egg/timm/data/parsers\n",
            "copying build/lib/timm/data/parsers/parser_image_in_tar.py -> build/bdist.linux-x86_64/egg/timm/data/parsers\n",
            "copying build/lib/timm/data/parsers/parser.py -> build/bdist.linux-x86_64/egg/timm/data/parsers\n",
            "copying build/lib/timm/data/parsers/parser_tfds.py -> build/bdist.linux-x86_64/egg/timm/data/parsers\n",
            "copying build/lib/timm/data/parsers/parser_factory.py -> build/bdist.linux-x86_64/egg/timm/data/parsers\n",
            "copying build/lib/timm/data/loader.py -> build/bdist.linux-x86_64/egg/timm/data\n",
            "copying build/lib/timm/data/tf_preprocessing.py -> build/bdist.linux-x86_64/egg/timm/data\n",
            "copying build/lib/timm/data/__init__.py -> build/bdist.linux-x86_64/egg/timm/data\n",
            "copying build/lib/timm/data/distributed_sampler.py -> build/bdist.linux-x86_64/egg/timm/data\n",
            "copying build/lib/timm/data/real_labels.py -> build/bdist.linux-x86_64/egg/timm/data\n",
            "copying build/lib/timm/data/dataset.py -> build/bdist.linux-x86_64/egg/timm/data\n",
            "copying build/lib/timm/data/transforms.py -> build/bdist.linux-x86_64/egg/timm/data\n",
            "copying build/lib/timm/data/config.py -> build/bdist.linux-x86_64/egg/timm/data\n",
            "copying build/lib/timm/data/constants.py -> build/bdist.linux-x86_64/egg/timm/data\n",
            "copying build/lib/timm/data/random_erasing.py -> build/bdist.linux-x86_64/egg/timm/data\n",
            "copying build/lib/timm/data/dataset_factory.py -> build/bdist.linux-x86_64/egg/timm/data\n",
            "copying build/lib/timm/data/mixup.py -> build/bdist.linux-x86_64/egg/timm/data\n",
            "copying build/lib/timm/data/auto_augment.py -> build/bdist.linux-x86_64/egg/timm/data\n",
            "copying build/lib/timm/data/transforms_factory.py -> build/bdist.linux-x86_64/egg/timm/data\n",
            "creating build/bdist.linux-x86_64/egg/timm/optim\n",
            "copying build/lib/timm/optim/__init__.py -> build/bdist.linux-x86_64/egg/timm/optim\n",
            "copying build/lib/timm/optim/radam.py -> build/bdist.linux-x86_64/egg/timm/optim\n",
            "copying build/lib/timm/optim/sgdp.py -> build/bdist.linux-x86_64/egg/timm/optim\n",
            "copying build/lib/timm/optim/nvnovograd.py -> build/bdist.linux-x86_64/egg/timm/optim\n",
            "copying build/lib/timm/optim/nadam.py -> build/bdist.linux-x86_64/egg/timm/optim\n",
            "copying build/lib/timm/optim/adahessian.py -> build/bdist.linux-x86_64/egg/timm/optim\n",
            "copying build/lib/timm/optim/adamp.py -> build/bdist.linux-x86_64/egg/timm/optim\n",
            "copying build/lib/timm/optim/novograd.py -> build/bdist.linux-x86_64/egg/timm/optim\n",
            "copying build/lib/timm/optim/adafactor.py -> build/bdist.linux-x86_64/egg/timm/optim\n",
            "copying build/lib/timm/optim/adamw.py -> build/bdist.linux-x86_64/egg/timm/optim\n",
            "copying build/lib/timm/optim/lookahead.py -> build/bdist.linux-x86_64/egg/timm/optim\n",
            "copying build/lib/timm/optim/rmsprop_tf.py -> build/bdist.linux-x86_64/egg/timm/optim\n",
            "copying build/lib/timm/optim/optim_factory.py -> build/bdist.linux-x86_64/egg/timm/optim\n",
            "byte-compiling build/bdist.linux-x86_64/egg/timm/version.py to version.cpython-37.pyc\n",
            "byte-compiling build/bdist.linux-x86_64/egg/timm/__init__.py to __init__.cpython-37.pyc\n",
            "byte-compiling build/bdist.linux-x86_64/egg/timm/models/helpers.py to helpers.cpython-37.pyc\n",
            "byte-compiling build/bdist.linux-x86_64/egg/timm/models/inception_v3.py to inception_v3.cpython-37.pyc\n",
            "byte-compiling build/bdist.linux-x86_64/egg/timm/models/__init__.py to __init__.cpython-37.pyc\n",
            "byte-compiling build/bdist.linux-x86_64/egg/timm/models/vision_transformer.py to vision_transformer.cpython-37.pyc\n",
            "byte-compiling build/bdist.linux-x86_64/egg/timm/models/layers/selective_kernel.py to selective_kernel.cpython-37.pyc\n",
            "byte-compiling build/bdist.linux-x86_64/egg/timm/models/layers/helpers.py to helpers.cpython-37.pyc\n",
            "byte-compiling build/bdist.linux-x86_64/egg/timm/models/layers/split_attn.py to split_attn.cpython-37.pyc\n",
            "byte-compiling build/bdist.linux-x86_64/egg/timm/models/layers/__init__.py to __init__.cpython-37.pyc\n",
            "byte-compiling build/bdist.linux-x86_64/egg/timm/models/layers/create_conv2d.py to create_conv2d.cpython-37.pyc\n",
            "byte-compiling build/bdist.linux-x86_64/egg/timm/models/layers/create_act.py to create_act.cpython-37.pyc\n",
            "byte-compiling build/bdist.linux-x86_64/egg/timm/models/layers/eca.py to eca.cpython-37.pyc\n",
            "byte-compiling build/bdist.linux-x86_64/egg/timm/models/layers/create_norm_act.py to create_norm_act.cpython-37.pyc\n",
            "byte-compiling build/bdist.linux-x86_64/egg/timm/models/layers/evo_norm.py to evo_norm.cpython-37.pyc\n",
            "byte-compiling build/bdist.linux-x86_64/egg/timm/models/layers/inplace_abn.py to inplace_abn.cpython-37.pyc\n",
            "byte-compiling build/bdist.linux-x86_64/egg/timm/models/layers/linear.py to linear.cpython-37.pyc\n",
            "byte-compiling build/bdist.linux-x86_64/egg/timm/models/layers/activations.py to activations.cpython-37.pyc\n",
            "byte-compiling build/bdist.linux-x86_64/egg/timm/models/layers/space_to_depth.py to space_to_depth.cpython-37.pyc\n",
            "byte-compiling build/bdist.linux-x86_64/egg/timm/models/layers/conv2d_same.py to conv2d_same.cpython-37.pyc\n",
            "byte-compiling build/bdist.linux-x86_64/egg/timm/models/layers/test_time_pool.py to test_time_pool.cpython-37.pyc\n",
            "byte-compiling build/bdist.linux-x86_64/egg/timm/models/layers/anti_aliasing.py to anti_aliasing.cpython-37.pyc\n",
            "byte-compiling build/bdist.linux-x86_64/egg/timm/models/layers/classifier.py to classifier.cpython-37.pyc\n",
            "byte-compiling build/bdist.linux-x86_64/egg/timm/models/layers/config.py to config.cpython-37.pyc\n",
            "byte-compiling build/bdist.linux-x86_64/egg/timm/models/layers/se.py to se.cpython-37.pyc\n",
            "byte-compiling build/bdist.linux-x86_64/egg/timm/models/layers/pool2d_same.py to pool2d_same.cpython-37.pyc\n",
            "byte-compiling build/bdist.linux-x86_64/egg/timm/models/layers/mixed_conv2d.py to mixed_conv2d.cpython-37.pyc\n",
            "byte-compiling build/bdist.linux-x86_64/egg/timm/models/layers/cbam.py to cbam.cpython-37.pyc\n",
            "byte-compiling build/bdist.linux-x86_64/egg/timm/models/layers/cond_conv2d.py to cond_conv2d.cpython-37.pyc\n",
            "byte-compiling build/bdist.linux-x86_64/egg/timm/models/layers/norm_act.py to norm_act.cpython-37.pyc\n",
            "byte-compiling build/bdist.linux-x86_64/egg/timm/models/layers/blur_pool.py to blur_pool.cpython-37.pyc\n",
            "byte-compiling build/bdist.linux-x86_64/egg/timm/models/layers/split_batchnorm.py to split_batchnorm.cpython-37.pyc\n",
            "byte-compiling build/bdist.linux-x86_64/egg/timm/models/layers/weight_init.py to weight_init.cpython-37.pyc\n",
            "byte-compiling build/bdist.linux-x86_64/egg/timm/models/layers/separable_conv.py to separable_conv.cpython-37.pyc\n",
            "byte-compiling build/bdist.linux-x86_64/egg/timm/models/layers/median_pool.py to median_pool.cpython-37.pyc\n",
            "byte-compiling build/bdist.linux-x86_64/egg/timm/models/layers/create_attn.py to create_attn.cpython-37.pyc\n",
            "byte-compiling build/bdist.linux-x86_64/egg/timm/models/layers/padding.py to padding.cpython-37.pyc\n",
            "byte-compiling build/bdist.linux-x86_64/egg/timm/models/layers/activations_jit.py to activations_jit.cpython-37.pyc\n",
            "byte-compiling build/bdist.linux-x86_64/egg/timm/models/layers/conv_bn_act.py to conv_bn_act.cpython-37.pyc\n",
            "byte-compiling build/bdist.linux-x86_64/egg/timm/models/layers/adaptive_avgmax_pool.py to adaptive_avgmax_pool.cpython-37.pyc\n",
            "byte-compiling build/bdist.linux-x86_64/egg/timm/models/layers/drop.py to drop.cpython-37.pyc\n",
            "byte-compiling build/bdist.linux-x86_64/egg/timm/models/layers/activations_me.py to activations_me.cpython-37.pyc\n",
            "byte-compiling build/bdist.linux-x86_64/egg/timm/models/layers/std_conv.py to std_conv.cpython-37.pyc\n",
            "byte-compiling build/bdist.linux-x86_64/egg/timm/models/res2net.py to res2net.cpython-37.pyc\n",
            "byte-compiling build/bdist.linux-x86_64/egg/timm/models/sknet.py to sknet.cpython-37.pyc\n",
            "byte-compiling build/bdist.linux-x86_64/egg/timm/models/features.py to features.cpython-37.pyc\n",
            "byte-compiling build/bdist.linux-x86_64/egg/timm/models/mobilenetv3.py to mobilenetv3.cpython-37.pyc\n",
            "byte-compiling build/bdist.linux-x86_64/egg/timm/models/hrnet.py to hrnet.cpython-37.pyc\n",
            "byte-compiling build/bdist.linux-x86_64/egg/timm/models/dla.py to dla.cpython-37.pyc\n",
            "byte-compiling build/bdist.linux-x86_64/egg/timm/models/dpn.py to dpn.cpython-37.pyc\n",
            "byte-compiling build/bdist.linux-x86_64/egg/timm/models/nfnet.py to nfnet.cpython-37.pyc\n",
            "byte-compiling build/bdist.linux-x86_64/egg/timm/models/xception.py to xception.cpython-37.pyc\n",
            "byte-compiling build/bdist.linux-x86_64/egg/timm/models/factory.py to factory.cpython-37.pyc\n",
            "byte-compiling build/bdist.linux-x86_64/egg/timm/models/resnetv2.py to resnetv2.cpython-37.pyc\n",
            "byte-compiling build/bdist.linux-x86_64/egg/timm/models/cspnet.py to cspnet.cpython-37.pyc\n",
            "byte-compiling build/bdist.linux-x86_64/egg/timm/models/registry.py to registry.cpython-37.pyc\n",
            "byte-compiling build/bdist.linux-x86_64/egg/timm/models/resnest.py to resnest.cpython-37.pyc\n",
            "byte-compiling build/bdist.linux-x86_64/egg/timm/models/selecsls.py to selecsls.cpython-37.pyc\n",
            "byte-compiling build/bdist.linux-x86_64/egg/timm/models/densenet.py to densenet.cpython-37.pyc\n",
            "byte-compiling build/bdist.linux-x86_64/egg/timm/models/nasnet.py to nasnet.cpython-37.pyc\n",
            "byte-compiling build/bdist.linux-x86_64/egg/timm/models/efficientnet_blocks.py to efficientnet_blocks.cpython-37.pyc\n",
            "byte-compiling build/bdist.linux-x86_64/egg/timm/models/efficientnet_builder.py to efficientnet_builder.cpython-37.pyc\n",
            "byte-compiling build/bdist.linux-x86_64/egg/timm/models/resnet.py to resnet.cpython-37.pyc\n",
            "byte-compiling build/bdist.linux-x86_64/egg/timm/models/hub.py to hub.cpython-37.pyc\n",
            "byte-compiling build/bdist.linux-x86_64/egg/timm/models/gluon_xception.py to gluon_xception.cpython-37.pyc\n",
            "byte-compiling build/bdist.linux-x86_64/egg/timm/models/gluon_resnet.py to gluon_resnet.cpython-37.pyc\n",
            "byte-compiling build/bdist.linux-x86_64/egg/timm/models/byobnet.py to byobnet.cpython-37.pyc\n",
            "byte-compiling build/bdist.linux-x86_64/egg/timm/models/senet.py to senet.cpython-37.pyc\n",
            "byte-compiling build/bdist.linux-x86_64/egg/timm/models/rexnet.py to rexnet.cpython-37.pyc\n",
            "byte-compiling build/bdist.linux-x86_64/egg/timm/models/inception_v4.py to inception_v4.cpython-37.pyc\n",
            "byte-compiling build/bdist.linux-x86_64/egg/timm/models/inception_resnet_v2.py to inception_resnet_v2.cpython-37.pyc\n",
            "byte-compiling build/bdist.linux-x86_64/egg/timm/models/hardcorenas.py to hardcorenas.cpython-37.pyc\n",
            "byte-compiling build/bdist.linux-x86_64/egg/timm/models/vgg.py to vgg.cpython-37.pyc\n",
            "byte-compiling build/bdist.linux-x86_64/egg/timm/models/vovnet.py to vovnet.cpython-37.pyc\n",
            "byte-compiling build/bdist.linux-x86_64/egg/timm/models/regnet.py to regnet.cpython-37.pyc\n",
            "byte-compiling build/bdist.linux-x86_64/egg/timm/models/pnasnet.py to pnasnet.cpython-37.pyc\n",
            "byte-compiling build/bdist.linux-x86_64/egg/timm/models/tresnet.py to tresnet.cpython-37.pyc\n",
            "byte-compiling build/bdist.linux-x86_64/egg/timm/models/efficientnet.py to efficientnet.cpython-37.pyc\n",
            "byte-compiling build/bdist.linux-x86_64/egg/timm/models/xception_aligned.py to xception_aligned.cpython-37.pyc\n",
            "byte-compiling build/bdist.linux-x86_64/egg/timm/scheduler/step_lr.py to step_lr.cpython-37.pyc\n",
            "byte-compiling build/bdist.linux-x86_64/egg/timm/scheduler/__init__.py to __init__.cpython-37.pyc\n",
            "byte-compiling build/bdist.linux-x86_64/egg/timm/scheduler/plateau_lr.py to plateau_lr.cpython-37.pyc\n",
            "byte-compiling build/bdist.linux-x86_64/egg/timm/scheduler/tanh_lr.py to tanh_lr.cpython-37.pyc\n",
            "byte-compiling build/bdist.linux-x86_64/egg/timm/scheduler/cosine_lr.py to cosine_lr.cpython-37.pyc\n",
            "byte-compiling build/bdist.linux-x86_64/egg/timm/scheduler/scheduler_factory.py to scheduler_factory.cpython-37.pyc\n",
            "byte-compiling build/bdist.linux-x86_64/egg/timm/scheduler/scheduler.py to scheduler.cpython-37.pyc\n",
            "byte-compiling build/bdist.linux-x86_64/egg/timm/loss/__init__.py to __init__.cpython-37.pyc\n",
            "byte-compiling build/bdist.linux-x86_64/egg/timm/loss/cross_entropy.py to cross_entropy.cpython-37.pyc\n",
            "byte-compiling build/bdist.linux-x86_64/egg/timm/loss/jsd.py to jsd.cpython-37.pyc\n",
            "byte-compiling build/bdist.linux-x86_64/egg/timm/loss/asymmetric_loss.py to asymmetric_loss.cpython-37.pyc\n",
            "byte-compiling build/bdist.linux-x86_64/egg/timm/utils/misc.py to misc.cpython-37.pyc\n",
            "byte-compiling build/bdist.linux-x86_64/egg/timm/utils/checkpoint_saver.py to checkpoint_saver.cpython-37.pyc\n",
            "byte-compiling build/bdist.linux-x86_64/egg/timm/utils/__init__.py to __init__.cpython-37.pyc\n",
            "byte-compiling build/bdist.linux-x86_64/egg/timm/utils/jit.py to jit.cpython-37.pyc\n",
            "byte-compiling build/bdist.linux-x86_64/egg/timm/utils/metrics.py to metrics.cpython-37.pyc\n",
            "byte-compiling build/bdist.linux-x86_64/egg/timm/utils/distributed.py to distributed.cpython-37.pyc\n",
            "byte-compiling build/bdist.linux-x86_64/egg/timm/utils/model_ema.py to model_ema.cpython-37.pyc\n",
            "byte-compiling build/bdist.linux-x86_64/egg/timm/utils/cuda.py to cuda.cpython-37.pyc\n",
            "byte-compiling build/bdist.linux-x86_64/egg/timm/utils/log.py to log.cpython-37.pyc\n",
            "byte-compiling build/bdist.linux-x86_64/egg/timm/utils/model.py to model.cpython-37.pyc\n",
            "byte-compiling build/bdist.linux-x86_64/egg/timm/utils/agc.py to agc.cpython-37.pyc\n",
            "byte-compiling build/bdist.linux-x86_64/egg/timm/utils/summary.py to summary.cpython-37.pyc\n",
            "byte-compiling build/bdist.linux-x86_64/egg/timm/utils/clip_grad.py to clip_grad.cpython-37.pyc\n",
            "byte-compiling build/bdist.linux-x86_64/egg/timm/data/parsers/parser_image_folder.py to parser_image_folder.cpython-37.pyc\n",
            "byte-compiling build/bdist.linux-x86_64/egg/timm/data/parsers/__init__.py to __init__.cpython-37.pyc\n",
            "byte-compiling build/bdist.linux-x86_64/egg/timm/data/parsers/parser_image_tar.py to parser_image_tar.cpython-37.pyc\n",
            "byte-compiling build/bdist.linux-x86_64/egg/timm/data/parsers/class_map.py to class_map.cpython-37.pyc\n",
            "byte-compiling build/bdist.linux-x86_64/egg/timm/data/parsers/constants.py to constants.cpython-37.pyc\n",
            "byte-compiling build/bdist.linux-x86_64/egg/timm/data/parsers/parser_image_in_tar.py to parser_image_in_tar.cpython-37.pyc\n",
            "byte-compiling build/bdist.linux-x86_64/egg/timm/data/parsers/parser.py to parser.cpython-37.pyc\n",
            "byte-compiling build/bdist.linux-x86_64/egg/timm/data/parsers/parser_tfds.py to parser_tfds.cpython-37.pyc\n",
            "byte-compiling build/bdist.linux-x86_64/egg/timm/data/parsers/parser_factory.py to parser_factory.cpython-37.pyc\n",
            "byte-compiling build/bdist.linux-x86_64/egg/timm/data/loader.py to loader.cpython-37.pyc\n",
            "byte-compiling build/bdist.linux-x86_64/egg/timm/data/tf_preprocessing.py to tf_preprocessing.cpython-37.pyc\n",
            "byte-compiling build/bdist.linux-x86_64/egg/timm/data/__init__.py to __init__.cpython-37.pyc\n",
            "byte-compiling build/bdist.linux-x86_64/egg/timm/data/distributed_sampler.py to distributed_sampler.cpython-37.pyc\n",
            "byte-compiling build/bdist.linux-x86_64/egg/timm/data/real_labels.py to real_labels.cpython-37.pyc\n",
            "byte-compiling build/bdist.linux-x86_64/egg/timm/data/dataset.py to dataset.cpython-37.pyc\n",
            "byte-compiling build/bdist.linux-x86_64/egg/timm/data/transforms.py to transforms.cpython-37.pyc\n",
            "byte-compiling build/bdist.linux-x86_64/egg/timm/data/config.py to config.cpython-37.pyc\n",
            "byte-compiling build/bdist.linux-x86_64/egg/timm/data/constants.py to constants.cpython-37.pyc\n",
            "byte-compiling build/bdist.linux-x86_64/egg/timm/data/random_erasing.py to random_erasing.cpython-37.pyc\n",
            "byte-compiling build/bdist.linux-x86_64/egg/timm/data/dataset_factory.py to dataset_factory.cpython-37.pyc\n",
            "byte-compiling build/bdist.linux-x86_64/egg/timm/data/mixup.py to mixup.cpython-37.pyc\n",
            "byte-compiling build/bdist.linux-x86_64/egg/timm/data/auto_augment.py to auto_augment.cpython-37.pyc\n",
            "byte-compiling build/bdist.linux-x86_64/egg/timm/data/transforms_factory.py to transforms_factory.cpython-37.pyc\n",
            "byte-compiling build/bdist.linux-x86_64/egg/timm/optim/__init__.py to __init__.cpython-37.pyc\n",
            "byte-compiling build/bdist.linux-x86_64/egg/timm/optim/radam.py to radam.cpython-37.pyc\n",
            "byte-compiling build/bdist.linux-x86_64/egg/timm/optim/sgdp.py to sgdp.cpython-37.pyc\n",
            "byte-compiling build/bdist.linux-x86_64/egg/timm/optim/nvnovograd.py to nvnovograd.cpython-37.pyc\n",
            "byte-compiling build/bdist.linux-x86_64/egg/timm/optim/nadam.py to nadam.cpython-37.pyc\n",
            "byte-compiling build/bdist.linux-x86_64/egg/timm/optim/adahessian.py to adahessian.cpython-37.pyc\n",
            "byte-compiling build/bdist.linux-x86_64/egg/timm/optim/adamp.py to adamp.cpython-37.pyc\n",
            "byte-compiling build/bdist.linux-x86_64/egg/timm/optim/novograd.py to novograd.cpython-37.pyc\n",
            "byte-compiling build/bdist.linux-x86_64/egg/timm/optim/adafactor.py to adafactor.cpython-37.pyc\n",
            "byte-compiling build/bdist.linux-x86_64/egg/timm/optim/adamw.py to adamw.cpython-37.pyc\n",
            "byte-compiling build/bdist.linux-x86_64/egg/timm/optim/lookahead.py to lookahead.cpython-37.pyc\n",
            "byte-compiling build/bdist.linux-x86_64/egg/timm/optim/rmsprop_tf.py to rmsprop_tf.cpython-37.pyc\n",
            "byte-compiling build/bdist.linux-x86_64/egg/timm/optim/optim_factory.py to optim_factory.cpython-37.pyc\n",
            "creating build/bdist.linux-x86_64/egg/EGG-INFO\n",
            "copying timm.egg-info/PKG-INFO -> build/bdist.linux-x86_64/egg/EGG-INFO\n",
            "copying timm.egg-info/SOURCES.txt -> build/bdist.linux-x86_64/egg/EGG-INFO\n",
            "copying timm.egg-info/dependency_links.txt -> build/bdist.linux-x86_64/egg/EGG-INFO\n",
            "copying timm.egg-info/requires.txt -> build/bdist.linux-x86_64/egg/EGG-INFO\n",
            "copying timm.egg-info/top_level.txt -> build/bdist.linux-x86_64/egg/EGG-INFO\n",
            "zip_safe flag not set; analyzing archive contents...\n",
            "timm.models.__pycache__.helpers.cpython-37: module references __file__\n",
            "creating dist\n",
            "creating 'dist/timm-0.4.6-py3.7.egg' and adding 'build/bdist.linux-x86_64/egg' to it\n",
            "removing 'build/bdist.linux-x86_64/egg' (and everything under it)\n",
            "Processing timm-0.4.6-py3.7.egg\n",
            "creating /usr/local/lib/python3.7/dist-packages/timm-0.4.6-py3.7.egg\n",
            "Extracting timm-0.4.6-py3.7.egg to /usr/local/lib/python3.7/dist-packages\n",
            "Adding timm 0.4.6 to easy-install.pth file\n",
            "\n",
            "Installed /usr/local/lib/python3.7/dist-packages/timm-0.4.6-py3.7.egg\n",
            "Processing dependencies for timm==0.4.6\n",
            "Searching for torchvision==0.9.0+cu101\n",
            "Best match: torchvision 0.9.0+cu101\n",
            "Adding torchvision 0.9.0+cu101 to easy-install.pth file\n",
            "\n",
            "Using /usr/local/lib/python3.7/dist-packages\n",
            "Searching for torch==1.8.0+cu101\n",
            "Best match: torch 1.8.0+cu101\n",
            "Adding torch 1.8.0+cu101 to easy-install.pth file\n",
            "Installing convert-caffe2-to-onnx script to /usr/local/bin\n",
            "Installing convert-onnx-to-caffe2 script to /usr/local/bin\n",
            "\n",
            "Using /usr/local/lib/python3.7/dist-packages\n",
            "Searching for Pillow==7.0.0\n",
            "Best match: Pillow 7.0.0\n",
            "Adding Pillow 7.0.0 to easy-install.pth file\n",
            "\n",
            "Using /usr/local/lib/python3.7/dist-packages\n",
            "Searching for numpy==1.19.5\n",
            "Best match: numpy 1.19.5\n",
            "Adding numpy 1.19.5 to easy-install.pth file\n",
            "Installing f2py script to /usr/local/bin\n",
            "Installing f2py3 script to /usr/local/bin\n",
            "Installing f2py3.7 script to /usr/local/bin\n",
            "\n",
            "Using /usr/local/lib/python3.7/dist-packages\n",
            "Searching for typing-extensions==3.7.4.3\n",
            "Best match: typing-extensions 3.7.4.3\n",
            "Adding typing-extensions 3.7.4.3 to easy-install.pth file\n",
            "\n",
            "Using /usr/local/lib/python3.7/dist-packages\n",
            "Finished processing dependencies for timm==0.4.6\n"
          ],
          "name": "stdout"
        }
      ]
    },
    {
      "cell_type": "code",
      "metadata": {
        "colab": {
          "base_uri": "https://localhost:8080/"
        },
        "id": "eVjc4Kju84S5",
        "outputId": "7c5e1bb8-2e0e-4a65-f05e-f2c53ff7b03b"
      },
      "source": [
        "!wget https://raw.githubusercontent.com/AmbiTyga/Bio-VI-BERT/main/Train.7z\n",
        "!7z x /content/Train.7z"
      ],
      "execution_count": 2,
      "outputs": [
        {
          "output_type": "stream",
          "text": [
            "--2021-03-21 09:50:32--  https://raw.githubusercontent.com/AmbiTyga/Bio-VI-BERT/main/Train.7z\n",
            "Resolving raw.githubusercontent.com (raw.githubusercontent.com)... 185.199.110.133, 185.199.111.133, 185.199.108.133, ...\n",
            "Connecting to raw.githubusercontent.com (raw.githubusercontent.com)|185.199.110.133|:443... connected.\n",
            "HTTP request sent, awaiting response... 200 OK\n",
            "Length: 21599892 (21M) [application/octet-stream]\n",
            "Saving to: ‘Train.7z’\n",
            "\n",
            "Train.7z            100%[===================>]  20.60M  45.5MB/s    in 0.5s    \n",
            "\n",
            "2021-03-21 09:50:34 (45.5 MB/s) - ‘Train.7z’ saved [21599892/21599892]\n",
            "\n",
            "\n",
            "7-Zip [64] 16.02 : Copyright (c) 1999-2016 Igor Pavlov : 2016-05-21\n",
            "p7zip Version 16.02 (locale=en_US.UTF-8,Utf16=on,HugeFiles=on,64 bits,4 CPUs Intel(R) Xeon(R) CPU @ 2.30GHz (306F0),ASM,AES-NI)\n",
            "\n",
            "Scanning the drive for archives:\n",
            "  0M Scan /content/\b\b\b\b\b\b\b\b\b\b\b\b\b\b\b\b\b\b\b                   \b\b\b\b\b\b\b\b\b\b\b\b\b\b\b\b\b\b\b1 file, 21599892 bytes (21 MiB)\n",
            "\n",
            "Extracting archive: /content/Train.7z\n",
            "--\n",
            "Path = /content/Train.7z\n",
            "Type = 7z\n",
            "Physical Size = 21599892\n",
            "Headers Size = 14592\n",
            "Method = LZMA2:24\n",
            "Solid = +\n",
            "Blocks = 1\n",
            "\n",
            "  0%\b\b\b\b    \b\b\b\b 13% 20 - train/Ancyclostoma sp/T_0_0.jpg\b\b\b\b\b\b\b\b\b\b\b\b\b\b\b\b\b\b\b\b\b\b\b\b\b\b\b\b\b\b\b\b\b\b\b\b\b\b\b\b\b                                         \b\b\b\b\b\b\b\b\b\b\b\b\b\b\b\b\b\b\b\b\b\b\b\b\b\b\b\b\b\b\b\b\b\b\b\b\b\b\b\b\b 32% 368 - train/Cyclospora cayetanensis/T_3_71.jpg\b\b\b\b\b\b\b\b\b\b\b\b\b\b\b\b\b\b\b\b\b\b\b\b\b\b\b\b\b\b\b\b\b\b\b\b\b\b\b\b\b\b\b\b\b\b\b\b\b\b\b                                                   \b\b\b\b\b\b\b\b\b\b\b\b\b\b\b\b\b\b\b\b\b\b\b\b\b\b\b\b\b\b\b\b\b\b\b\b\b\b\b\b\b\b\b\b\b\b\b\b\b\b\b 47% 591 - train/Entamoeba histolytica/T_3_143.jpg\b\b\b\b\b\b\b\b\b\b\b\b\b\b\b\b\b\b\b\b\b\b\b\b\b\b\b\b\b\b\b\b\b\b\b\b\b\b\b\b\b\b\b\b\b\b\b\b\b\b                                                  \b\b\b\b\b\b\b\b\b\b\b\b\b\b\b\b\b\b\b\b\b\b\b\b\b\b\b\b\b\b\b\b\b\b\b\b\b\b\b\b\b\b\b\b\b\b\b\b\b\b 62% 829 - train/Giardia duodenalis/T_4_211.jpg\b\b\b\b\b\b\b\b\b\b\b\b\b\b\b\b\b\b\b\b\b\b\b\b\b\b\b\b\b\b\b\b\b\b\b\b\b\b\b\b\b\b\b\b\b\b\b                                               \b\b\b\b\b\b\b\b\b\b\b\b\b\b\b\b\b\b\b\b\b\b\b\b\b\b\b\b\b\b\b\b\b\b\b\b\b\b\b\b\b\b\b\b\b\b\b 77% 1285 - train/Plasmodium ovale/T_1_341.jpg\b\b\b\b\b\b\b\b\b\b\b\b\b\b\b\b\b\b\b\b\b\b\b\b\b\b\b\b\b\b\b\b\b\b\b\b\b\b\b\b\b\b\b\b\b\b                                              \b\b\b\b\b\b\b\b\b\b\b\b\b\b\b\b\b\b\b\b\b\b\b\b\b\b\b\b\b\b\b\b\b\b\b\b\b\b\b\b\b\b\b\b\b\b 91% 1699 - train/Toxocara canis/T_3_450.jpg\b\b\b\b\b\b\b\b\b\b\b\b\b\b\b\b\b\b\b\b\b\b\b\b\b\b\b\b\b\b\b\b\b\b\b\b\b\b\b\b\b\b\b\b                                            \b\b\b\b\b\b\b\b\b\b\b\b\b\b\b\b\b\b\b\b\b\b\b\b\b\b\b\b\b\b\b\b\b\b\b\b\b\b\b\b\b\b\b\bEverything is Ok\n",
            "\n",
            "Folders: 20\n",
            "Files: 1951\n",
            "Size:       24379880\n",
            "Compressed: 21599892\n"
          ],
          "name": "stdout"
        }
      ]
    },
    {
      "cell_type": "code",
      "metadata": {
        "id": "CweK-BHdaa-4",
        "colab": {
          "base_uri": "https://localhost:8080/"
        },
        "outputId": "94889053-ae64-4ac7-ef3a-b997baa2024e"
      },
      "source": [
        "!wget https://raw.githubusercontent.com/AmbiTyga/Bio-VI-BERT/main/Val.7z\n",
        "!7z x /content/Val.7z"
      ],
      "execution_count": 3,
      "outputs": [
        {
          "output_type": "stream",
          "text": [
            "--2021-03-21 09:50:35--  https://raw.githubusercontent.com/AmbiTyga/Bio-VI-BERT/main/Val.7z\n",
            "Resolving raw.githubusercontent.com (raw.githubusercontent.com)... 185.199.108.133, 185.199.111.133, 185.199.109.133, ...\n",
            "Connecting to raw.githubusercontent.com (raw.githubusercontent.com)|185.199.108.133|:443... connected.\n",
            "HTTP request sent, awaiting response... 200 OK\n",
            "Length: 4849556 (4.6M) [application/octet-stream]\n",
            "Saving to: ‘Val.7z’\n",
            "\n",
            "Val.7z              100%[===================>]   4.62M  24.6MB/s    in 0.2s    \n",
            "\n",
            "2021-03-21 09:50:36 (24.6 MB/s) - ‘Val.7z’ saved [4849556/4849556]\n",
            "\n",
            "\n",
            "7-Zip [64] 16.02 : Copyright (c) 1999-2016 Igor Pavlov : 2016-05-21\n",
            "p7zip Version 16.02 (locale=en_US.UTF-8,Utf16=on,HugeFiles=on,64 bits,4 CPUs Intel(R) Xeon(R) CPU @ 2.30GHz (306F0),ASM,AES-NI)\n",
            "\n",
            "Scanning the drive for archives:\n",
            "  0M Scan /content/\b\b\b\b\b\b\b\b\b\b\b\b\b\b\b\b\b\b\b                   \b\b\b\b\b\b\b\b\b\b\b\b\b\b\b\b\b\b\b1 file, 4849556 bytes (4736 KiB)\n",
            "\n",
            "Extracting archive: /content/Val.7z\n",
            "--\n",
            "Path = /content/Val.7z\n",
            "Type = 7z\n",
            "Physical Size = 4849556\n",
            "Headers Size = 2370\n",
            "Method = LZMA2:6m\n",
            "Solid = +\n",
            "Blocks = 1\n",
            "\n",
            "  0%\b\b\b\b    \b\b\b\b 86% 122 - val/Sarcocystis sp/Sarcocystis_muscle_HE_MI_2_rotated.jpg.jpg\b\b\b\b\b\b\b\b\b\b\b\b\b\b\b\b\b\b\b\b\b\b\b\b\b\b\b\b\b\b\b\b\b\b\b\b\b\b\b\b\b\b\b\b\b\b\b\b\b\b\b\b\b\b\b\b\b\b\b\b\b\b\b\b\b\b\b\b\b\b\b\b                                                                        \b\b\b\b\b\b\b\b\b\b\b\b\b\b\b\b\b\b\b\b\b\b\b\b\b\b\b\b\b\b\b\b\b\b\b\b\b\b\b\b\b\b\b\b\b\b\b\b\b\b\b\b\b\b\b\b\b\b\b\b\b\b\b\b\b\b\b\b\b\b\b\bEverything is Ok\n",
            "\n",
            "Folders: 20\n",
            "Files: 132\n",
            "Size:       5949144\n",
            "Compressed: 4849556\n"
          ],
          "name": "stdout"
        }
      ]
    },
    {
      "cell_type": "code",
      "metadata": {
        "id": "yVc3_O_n_In6"
      },
      "source": [
        "import timm\n",
        "import pandas as pd\n",
        "import numpy as np\n",
        "import torch.nn as nn\n",
        "import torch\n",
        "from torch.utils.data import Dataset, DataLoader, sampler\n",
        "from sklearn.preprocessing import LabelEncoder\n",
        "import os\n",
        "from sklearn.model_selection import train_test_split\n",
        "from glob import glob\n",
        "from PIL import Image\n",
        "from torchvision import transforms"
      ],
      "execution_count": 4,
      "outputs": []
    },
    {
      "cell_type": "markdown",
      "metadata": {
        "id": "aAHwzGXx_7y-"
      },
      "source": [
        "## Cleaning and getting a final data"
      ]
    },
    {
      "cell_type": "code",
      "metadata": {
        "id": "gtJ3g1lcVah5"
      },
      "source": [
        "## Getting images(file path) from the directories \n",
        "\n",
        "imgs = []\n",
        "for path, subdirs, files in os.walk('./Dataset'):\n",
        "    for name in files:\n",
        "        imgs.append(os.path.join(path, name))\n",
        "imgs = [x for x in imgs if '.csv' not in x]"
      ],
      "execution_count": null,
      "outputs": []
    },
    {
      "cell_type": "code",
      "metadata": {
        "id": "C1zUOBkABzv6",
        "colab": {
          "base_uri": "https://localhost:8080/",
          "height": 299
        },
        "outputId": "34487b94-c178-457c-d47b-23b4b8ca75ba"
      },
      "source": [
        "data = pd.read_excel(\"/content/Dataset/all_meta_data.xlsx\")\n",
        "data.head()"
      ],
      "execution_count": null,
      "outputs": [
        {
          "output_type": "execute_result",
          "data": {
            "text/html": [
              "<div>\n",
              "<style scoped>\n",
              "    .dataframe tbody tr th:only-of-type {\n",
              "        vertical-align: middle;\n",
              "    }\n",
              "\n",
              "    .dataframe tbody tr th {\n",
              "        vertical-align: top;\n",
              "    }\n",
              "\n",
              "    .dataframe thead th {\n",
              "        text-align: right;\n",
              "    }\n",
              "</style>\n",
              "<table border=\"1\" class=\"dataframe\">\n",
              "  <thead>\n",
              "    <tr style=\"text-align: right;\">\n",
              "      <th></th>\n",
              "      <th>phylum</th>\n",
              "      <th>class</th>\n",
              "      <th>genus</th>\n",
              "      <th>species</th>\n",
              "      <th>form</th>\n",
              "      <th>sample</th>\n",
              "      <th>image_name</th>\n",
              "      <th>image_url</th>\n",
              "      <th>img_path</th>\n",
              "    </tr>\n",
              "  </thead>\n",
              "  <tbody>\n",
              "    <tr>\n",
              "      <th>0</th>\n",
              "      <td>Nematoda</td>\n",
              "      <td>Chromadorea</td>\n",
              "      <td>Enterobius</td>\n",
              "      <td>Enterobius vermicularis</td>\n",
              "      <td>egg</td>\n",
              "      <td>intestinal tissue</td>\n",
              "      <td>Evermicularis_worm4_HB.jpg</td>\n",
              "      <td>https://www.cdc.gov//dpdx/enterobiasis/images/...</td>\n",
              "      <td>./Dataset/Enterobius/Evermicularis_worm4_HB.jpg</td>\n",
              "    </tr>\n",
              "    <tr>\n",
              "      <th>1</th>\n",
              "      <td>Nematoda</td>\n",
              "      <td>Chromadorea</td>\n",
              "      <td>Enterobius</td>\n",
              "      <td>Enterobius vermicularis</td>\n",
              "      <td>egg</td>\n",
              "      <td>intestinal tissue</td>\n",
              "      <td>Evermicularis_egg_HBa.jpg</td>\n",
              "      <td>https://www.cdc.gov//dpdx/enterobiasis/images/...</td>\n",
              "      <td>./Dataset/Enterobius/Evermicularis_egg_HBa.jpg</td>\n",
              "    </tr>\n",
              "    <tr>\n",
              "      <th>2</th>\n",
              "      <td>Nematoda</td>\n",
              "      <td>Chromadorea</td>\n",
              "      <td>Enterobius</td>\n",
              "      <td>Enterobius vermicularis</td>\n",
              "      <td>egg</td>\n",
              "      <td>intestinal tissue</td>\n",
              "      <td>Evermicularis_egg_wtmt.jpg</td>\n",
              "      <td>https://www.cdc.gov//dpdx/enterobiasis/images/...</td>\n",
              "      <td>./Dataset/Enterobius/Evermicularis_egg_wtmt.jpg</td>\n",
              "    </tr>\n",
              "    <tr>\n",
              "      <th>3</th>\n",
              "      <td>Nematoda</td>\n",
              "      <td>Chromadorea</td>\n",
              "      <td>Enterobius</td>\n",
              "      <td>Enterobius vermicularis</td>\n",
              "      <td>egg</td>\n",
              "      <td>intestinal tissue</td>\n",
              "      <td>Evermicularis_SC_egg.jpg</td>\n",
              "      <td>https://www.cdc.gov//dpdx/enterobiasis/images/...</td>\n",
              "      <td>./Dataset/Enterobius/Evermicularis_SC_egg.jpg</td>\n",
              "    </tr>\n",
              "    <tr>\n",
              "      <th>4</th>\n",
              "      <td>Nematoda</td>\n",
              "      <td>Chromadorea</td>\n",
              "      <td>Enterobius</td>\n",
              "      <td>Enterobius vermicularis</td>\n",
              "      <td>egg</td>\n",
              "      <td>intestinal tissue</td>\n",
              "      <td>Evermicularis_egg_UVa.jpg</td>\n",
              "      <td>https://www.cdc.gov//dpdx/enterobiasis/images/...</td>\n",
              "      <td>./Dataset/Enterobius/Evermicularis_egg_UVa.jpg</td>\n",
              "    </tr>\n",
              "  </tbody>\n",
              "</table>\n",
              "</div>"
            ],
            "text/plain": [
              "     phylum  ...                                         img_path\n",
              "0  Nematoda  ...  ./Dataset/Enterobius/Evermicularis_worm4_HB.jpg\n",
              "1  Nematoda  ...   ./Dataset/Enterobius/Evermicularis_egg_HBa.jpg\n",
              "2  Nematoda  ...  ./Dataset/Enterobius/Evermicularis_egg_wtmt.jpg\n",
              "3  Nematoda  ...    ./Dataset/Enterobius/Evermicularis_SC_egg.jpg\n",
              "4  Nematoda  ...   ./Dataset/Enterobius/Evermicularis_egg_UVa.jpg\n",
              "\n",
              "[5 rows x 9 columns]"
            ]
          },
          "metadata": {
            "tags": []
          },
          "execution_count": 36
        }
      ]
    },
    {
      "cell_type": "code",
      "metadata": {
        "id": "BE14KjiYrYJQ"
      },
      "source": [
        "data = pd.read_csv('/content/parasites.csv')"
      ],
      "execution_count": null,
      "outputs": []
    },
    {
      "cell_type": "code",
      "metadata": {
        "id": "vfWcSctI3opb",
        "colab": {
          "base_uri": "https://localhost:8080/"
        },
        "outputId": "ba5b94ba-561e-42f3-d88f-a2752eaee002"
      },
      "source": [
        "data['species'].value_counts()"
      ],
      "execution_count": null,
      "outputs": [
        {
          "output_type": "execute_result",
          "data": {
            "text/plain": [
              "Plasmodium malariae          185\n",
              "Cyclospora cayetanensis      185\n",
              "Entamoeba histolytica        180\n",
              "Ascaris lumbricoides         180\n",
              "Plasmodium vivax             180\n",
              "Plasmodium falciparum        180\n",
              "Giardia duodenalis           180\n",
              "Plasmodium ovale             170\n",
              "Strongyloides stercoralis    110\n",
              "Dibothriocephalus latus      105\n",
              "Trichuris Trichuria           95\n",
              "Enterobius vermicularis       90\n",
              "Toxocara canis                85\n",
              "Ancyclostoma sp               85\n",
              "Sarcocystis sp                80\n",
              "Cryptosporidium sp            80\n",
              "Plasmodium knowlesi           75\n",
              "Hymenolepis nana              70\n",
              "Toxoplasma gondii             65\n",
              "Trichinella sp                65\n",
              "Name: species, dtype: int64"
            ]
          },
          "metadata": {
            "tags": []
          },
          "execution_count": 7
        }
      ]
    },
    {
      "cell_type": "code",
      "metadata": {
        "id": "a6alRZD53aIS"
      },
      "source": [
        ""
      ],
      "execution_count": null,
      "outputs": []
    },
    {
      "cell_type": "code",
      "metadata": {
        "id": "FheC4ZueOlm3"
      },
      "source": [
        "# data = [x for _,x in data.groupby('species') if len(x)>15]\n",
        "\n",
        "# data = pd.concat(data,ignore_index=True)\n",
        "\n",
        "label_encoders = dict()\n",
        "labels = [\"phylum\",\"class\",\"species\",\"form\",\"sample\"]\n",
        "for x in labels:\n",
        "  le = LabelEncoder()\n",
        "  data[f'{x}_label'] = le.fit_transform(data[x])\n",
        "  label_encoders[x] = le"
      ],
      "execution_count": null,
      "outputs": []
    },
    {
      "cell_type": "code",
      "metadata": {
        "id": "ZT3lIa4_r--y"
      },
      "source": [
        "train, val = train_test_split(\n",
        "    data, test_size=0.25, random_state=2021,stratify = data['species'])"
      ],
      "execution_count": null,
      "outputs": []
    },
    {
      "cell_type": "code",
      "metadata": {
        "id": "KjwGMBtPtNtw"
      },
      "source": [
        "train.to_csv('/content/train.csv',index = False)\n",
        "\n",
        "val.to_csv('/content/val.csv',index = False)"
      ],
      "execution_count": null,
      "outputs": []
    },
    {
      "cell_type": "markdown",
      "metadata": {
        "id": "w6hX47gsnFLM"
      },
      "source": [
        "# Labeling"
      ]
    },
    {
      "cell_type": "code",
      "metadata": {
        "id": "6gUGCXDYnbmQ"
      },
      "source": [
        "train = pd.read_csv(\"/content/train/train.csv\")\n",
        "\n",
        "val = pd.read_csv(\"/content/val/val.csv\")"
      ],
      "execution_count": 17,
      "outputs": []
    },
    {
      "cell_type": "code",
      "metadata": {
        "id": "7NoWw_pKoSFc"
      },
      "source": [
        "le = LabelEncoder()\n",
        "train['species_label'] = le.fit_transform(train['species'])\n",
        "\n",
        "val['species_label'] = le.transform(val['species'])"
      ],
      "execution_count": 18,
      "outputs": []
    },
    {
      "cell_type": "markdown",
      "metadata": {
        "id": "7QNo2DKUAAgm"
      },
      "source": [
        "# Dataset Function"
      ]
    },
    {
      "cell_type": "code",
      "metadata": {
        "id": "oKnT8M_dRKN5",
        "outputId": "de6ede49-ab52-42bb-8968-121207e576ef",
        "colab": {
          "base_uri": "https://localhost:8080/",
          "height": 35
        }
      },
      "source": [
        "s = './val/Ascaris lumbricoides/Ascaris_egg_fert2_embryo.jpg.jpg'\n",
        "s[-3:]"
      ],
      "execution_count": 26,
      "outputs": [
        {
          "output_type": "execute_result",
          "data": {
            "application/vnd.google.colaboratory.intrinsic+json": {
              "type": "string"
            },
            "text/plain": [
              "'jpg'"
            ]
          },
          "metadata": {
            "tags": []
          },
          "execution_count": 26
        }
      ]
    },
    {
      "cell_type": "code",
      "metadata": {
        "id": "XqrBFBMPP6bd"
      },
      "source": [
        "from PIL import Image\n",
        "from glob import glob\n",
        "images = [x for x in glob('./val/*/*') if 'val.csv' not in x]\n",
        "for i in images:\n",
        "  Image.open(i).convert('RGB').save(i)"
      ],
      "execution_count": 27,
      "outputs": []
    },
    {
      "cell_type": "code",
      "metadata": {
        "id": "pwlngCcEpgHE"
      },
      "source": [
        "train['img_path'] = train['img_path'].str.replace('/train','./train')\n",
        "val['img_path'] = val['img_path'].str.replace('/content','./val')"
      ],
      "execution_count": 21,
      "outputs": []
    },
    {
      "cell_type": "code",
      "metadata": {
        "id": "kPUz2T2qEXTS"
      },
      "source": [
        "class SpeciesDataset(Dataset):\n",
        "  def __init__(self,csv_file,transform):\n",
        "    super().__init__()\n",
        "    csv = csv_file[['species_label','img_path']]\n",
        "    self.labels = csv['species_label'].values\n",
        "\n",
        "    self.images = csv['img_path'].values\n",
        "    self.transform = transform\n",
        "\n",
        "    # self.LE = LabelEncoder()\n",
        "    # self.labels = self.LE.fit_transform(labels)    \n",
        "\n",
        "  def __len__(self):\n",
        "    # return size of dataset\n",
        "    return len(self.images)\n",
        "\n",
        "  def __getitem__(self, index):\n",
        "    img = Image.open(self.images[index])\n",
        "    img = self.transform(img)\n",
        "\n",
        "    label = self.labels[index]\n",
        "\n",
        "    return img, torch.LongTensor([label])"
      ],
      "execution_count": 8,
      "outputs": []
    },
    {
      "cell_type": "code",
      "metadata": {
        "id": "wOL5NtArJ8QY"
      },
      "source": [
        "\n",
        "train_transformer = transforms.Compose([\n",
        "        transforms.Resize((224,224)),\n",
        "        transforms.ToTensor(),\n",
        "        transforms.Normalize([0.485, 0.456, 0.406], [0.229, 0.224, 0.225])\n",
        "    ])\n",
        "\n",
        "val_transformer = transforms.Compose([\n",
        "        transforms.Resize((224,224)),\n",
        "#         transforms.CenterCrop(224),\n",
        "        transforms.ToTensor(),\n",
        "        transforms.Normalize([0.485, 0.456, 0.406], [0.229, 0.224, 0.225])\n",
        "    ])"
      ],
      "execution_count": 9,
      "outputs": []
    },
    {
      "cell_type": "code",
      "metadata": {
        "id": "rwCsILbgV82I",
        "outputId": "0dbd1dea-caa2-4fbd-bac8-64cc127d97a3",
        "colab": {
          "base_uri": "https://localhost:8080/"
        }
      },
      "source": [
        "val['species'].value_counts()"
      ],
      "execution_count": 29,
      "outputs": [
        {
          "output_type": "execute_result",
          "data": {
            "text/plain": [
              "na                           12\n",
              "Cyclospora cayetanensis       9\n",
              "Plasmodium malariae           9\n",
              "Plasmodium falciparum         9\n",
              "Ascaris lumbricoides          9\n",
              "Giardia duodenalis            9\n",
              "Plasmodium vivax              9\n",
              "Entamoeba histolytica         9\n",
              "Plasmodium ovale              9\n",
              "Strongyloides stercoralis     6\n",
              "Hymenolepis spp               6\n",
              "Enterobius vermicularis       5\n",
              "Trichuris Trichuria           5\n",
              "Dibothriocephalus latus       5\n",
              "Ancyclostoma sp               4\n",
              "Toxocara canis                4\n",
              "Cryptosporidium sp            4\n",
              "Plasmodium knowlesi           4\n",
              "Sarcocystis sp                4\n",
              "Name: species, dtype: int64"
            ]
          },
          "metadata": {
            "tags": []
          },
          "execution_count": 29
        }
      ]
    },
    {
      "cell_type": "code",
      "metadata": {
        "id": "v0NXmSK2EFKh"
      },
      "source": [
        "class_counts = train['species_label'].value_counts().to_dict()\n",
        "weights = torch.tensor([1/class_counts[label] for label in train['species_label'].values])\n",
        "\n",
        "train_dataset = SpeciesDataset(train,transform=train_transformer)\n",
        "train_loader = torch.utils.data.DataLoader(train_dataset,batch_size=32,\n",
        "                                           sampler=torch.utils.data.WeightedRandomSampler(weights,num_samples=2800))\n",
        "\n",
        "class_counts = val['species_label'].value_counts().to_dict()\n",
        "weights = torch.tensor([1/class_counts[label] for label in val['species_label'].values])\n",
        "\n",
        "val_dataset = SpeciesDataset(val,transform=val_transformer)\n",
        "val_loader = torch.utils.data.DataLoader(val_dataset,batch_size=51,\n",
        "                                         sampler=torch.utils.data.WeightedRandomSampler(weights,num_samples=900))"
      ],
      "execution_count": 22,
      "outputs": []
    },
    {
      "cell_type": "markdown",
      "metadata": {
        "id": "pxAzMc2BGE1t"
      },
      "source": [
        "# VIT Base Imagenet 21k"
      ]
    },
    {
      "cell_type": "code",
      "metadata": {
        "id": "EIKsyXp9ovmY"
      },
      "source": [
        ""
      ],
      "execution_count": null,
      "outputs": []
    },
    {
      "cell_type": "code",
      "metadata": {
        "id": "hsLYwbAJ3YFH"
      },
      "source": [
        "vi = timm.models.vision_transformer.vit_base_patch16_224_in21k(pretrained=True,num_classes = 512)\n",
        "vi"
      ],
      "execution_count": null,
      "outputs": []
    },
    {
      "cell_type": "code",
      "metadata": {
        "id": "YfPnYIMvI7O2"
      },
      "source": [
        "class ViT(nn.Module):\n",
        "  def __init__(self,num_classes_classifier=20):\n",
        "    super().__init__()\n",
        "    self.img_transformer = timm.models.vision_transformer.vit_base_patch16_224_in21k(pretrained=True,num_classes = 0)\n",
        "    self.fc1 = nn.Linear(768,512)\n",
        "    self.drop = nn.Dropout(0.4)\n",
        "    self.norm = nn.BatchNorm1d(512)\n",
        "    self.classifier = nn.Linear(512,num_classes_classifier)\n",
        "\n",
        "  def forward(self,img):\n",
        "    repr = self.img_transformer(img)\n",
        "    repr = torch.relu(self.fc1(repr))\n",
        "    repr = self.drop(repr)\n",
        "    repr = self.norm(repr)\n",
        "    output = self.classifier(repr)\n",
        "\n",
        "    return output  "
      ],
      "execution_count": 11,
      "outputs": []
    },
    {
      "cell_type": "code",
      "metadata": {
        "colab": {
          "base_uri": "https://localhost:8080/"
        },
        "id": "dsTr23UFCSxy",
        "outputId": "403b3bc2-22b6-4a87-fe8a-a479e0bb4833"
      },
      "source": [
        "model = ViT()"
      ],
      "execution_count": 12,
      "outputs": [
        {
          "output_type": "stream",
          "text": [
            "Removing representation layer for fine-tuning.\n",
            "Downloading: \"https://github.com/rwightman/pytorch-image-models/releases/download/v0.1-vitjx/jx_vit_base_patch16_224_in21k-e5005f0a.pth\" to /root/.cache/torch/hub/checkpoints/jx_vit_base_patch16_224_in21k-e5005f0a.pth\n"
          ],
          "name": "stderr"
        }
      ]
    },
    {
      "cell_type": "code",
      "metadata": {
        "cellView": "form",
        "id": "BUVEtoVMamFa"
      },
      "source": [
        "#@title EarlyStopping\n",
        "class EarlyStopping(object):\n",
        "    def __init__(self, mode='min', min_delta=0, patience=10, percentage=False):\n",
        "        self.mode = mode\n",
        "        self.min_delta = min_delta\n",
        "        self.patience = patience\n",
        "        self.best = None\n",
        "        self.num_bad_epochs = 0\n",
        "        self.is_better = None\n",
        "        self._init_is_better(mode, min_delta, percentage)\n",
        "\n",
        "        if patience == 0:\n",
        "            self.is_better = lambda a, b: True\n",
        "            self.step = lambda a: False\n",
        "\n",
        "    def step(self, metrics):\n",
        "        if self.best is None:\n",
        "            self.best = metrics\n",
        "            return False\n",
        "\n",
        "        if torch.isnan(metrics):\n",
        "            return True\n",
        "\n",
        "        if self.is_better(metrics, self.best):\n",
        "            self.num_bad_epochs = 0\n",
        "            self.best = metrics\n",
        "        else:\n",
        "            self.num_bad_epochs += 1\n",
        "\n",
        "        if self.num_bad_epochs >= self.patience:\n",
        "            return True\n",
        "\n",
        "        return False\n",
        "\n",
        "    def _init_is_better(self, mode, min_delta, percentage):\n",
        "        if mode not in {'min', 'max'}:\n",
        "            raise ValueError('mode ' + mode + ' is unknown!')\n",
        "        if not percentage:\n",
        "            if mode == 'min':\n",
        "                self.is_better = lambda a, best: a < best - min_delta\n",
        "            if mode == 'max':\n",
        "                self.is_better = lambda a, best: a > best + min_delta\n",
        "        else:\n",
        "            if mode == 'min':\n",
        "                self.is_better = lambda a, best: a < best - (\n",
        "                            best * min_delta / 100)\n",
        "            if mode == 'max':\n",
        "                self.is_better = lambda a, best: a > best + (\n",
        "                            best * min_delta / 100)"
      ],
      "execution_count": 16,
      "outputs": []
    },
    {
      "cell_type": "code",
      "metadata": {
        "colab": {
          "base_uri": "https://localhost:8080/"
        },
        "id": "K3np-P80EPVK",
        "outputId": "df08d35d-3001-4df6-bc36-31de844a50af"
      },
      "source": [
        "device = torch.device('cuda')\n",
        "optim = torch.optim.Adam(filter(lambda p: p.requires_grad, model.parameters()),lr = 1e-4)\n",
        "loss_fn = nn.CrossEntropyLoss().to(device)\n",
        "es = EarlyStopping(patience = 10)\n",
        "es.best = np.inf\n",
        "\n",
        "model.to(device)\n",
        "\n",
        "train_losses = []\n",
        "train_accs = []\n",
        "val_losses = []\n",
        "val_accs = []\n",
        "for epoch in range(100):\n",
        "  train_epoch_loss = 0\n",
        "  train_epoch_acc = 0\n",
        "  model.train()\n",
        "  steps = 0\n",
        "  for idx, batch in enumerate(train_loader):\n",
        "    image, target = batch\n",
        "    image = image.to(device)\n",
        "    target = target.flatten().to(device)\n",
        "\n",
        "    optim.zero_grad()\n",
        "\n",
        "    prediction = model(image)\n",
        "    # print(prediction,target)\n",
        "    loss = loss_fn(prediction, target)\n",
        "\n",
        "    num_corrects = (prediction.argmax(dim=1).view(target.size()).data == target.data).sum()\n",
        "    acc = 100.0 * (num_corrects/target.size(0))\n",
        "    loss.backward()\n",
        "    optim.step()\n",
        "    steps += 1\n",
        "    \n",
        "    # if steps % 6 == 0:\n",
        "    #     print (f'\\t Train - Epoch: {epoch+1}, Idx: {idx+1}, Training Loss: {loss.item():.4f}, Training Accuracy: {acc.item(): .2f}%')\n",
        "    \n",
        "    train_epoch_loss += loss.item()\n",
        "    train_epoch_acc += acc.item()\n",
        "\n",
        "  val_epoch_loss = 0\n",
        "  val_epoch_acc = 0\n",
        "  model.eval()\n",
        "  val_steps = 0\n",
        "  with torch.no_grad():\n",
        "    for idx, batch in enumerate(val_loader):\n",
        "      image, target = batch\n",
        "      image = image.to(device)\n",
        "      target = target.flatten().to(device)\n",
        "\n",
        "      prediction = model(image)\n",
        "      loss = loss_fn(prediction, target)\n",
        "      \n",
        "      num_corrects = (prediction.argmax(dim=1).view(target.size()).data == target.data).sum()\n",
        "      acc = 100.0 * (num_corrects/target.size(0))\n",
        "\n",
        "      val_epoch_loss += loss.item()\n",
        "      val_epoch_acc += acc.item()\n",
        "      val_steps +=1\n",
        "\n",
        "  \n",
        "  val_epoch_loss /=val_steps\n",
        "  val_epoch_acc /=val_steps\n",
        "\n",
        "  # val_losses.append(val_epoch_loss)\n",
        "  # val_accs.append(val_epoch_acc)\n",
        "  \n",
        "  print(f\"Epoch: {epoch+1:02}, Train Loss: {train_epoch_loss/steps:.3f}, Train Acc: {train_epoch_acc/steps:.2f}%, Val. Loss: {val_epoch_loss:.3f}, Val. Acc: {val_epoch_acc:.2f}% \\n{90*'='}\")\n",
        "  \n",
        "  if val_epoch_loss < es.best:\n",
        "    best_loss = val_epoch_loss\n",
        "    print(f'\\r\\t{es.best:.3f} --> {best_loss:.3f}  Updating')\n",
        "    torch.save(model.state_dict(),'vit-base.bin')\n",
        "\n",
        "    train_losses.append(train_epoch_loss/steps)\n",
        "    train_accs.append(train_epoch_acc/steps)\n",
        "\n",
        "    val_losses.append(val_epoch_loss)\n",
        "    val_accs.append(val_epoch_acc)\n",
        "    \n",
        "  if es.step(torch.tensor(val_epoch_loss)):\n",
        "    print(f'\\r\\tPatience complete! Best Loss is {es.best:.3f}')\n",
        "    break\n",
        "  if val_epoch_loss > best_loss:\n",
        "    print(f'\\r\\t Patience -> {es.patience - es.num_bad_epochs}')"
      ],
      "execution_count": 28,
      "outputs": [
        {
          "output_type": "stream",
          "text": [
            "Epoch: 01, Train Loss: 0.654, Train Acc: 86.83%, Val. Loss: 1.030, Val. Acc: 64.31% \n",
            "==========================================================================================\n",
            "\tinf --> 1.030  Updating\n",
            "Epoch: 02, Train Loss: 0.201, Train Acc: 96.63%, Val. Loss: 1.099, Val. Acc: 72.18% \n",
            "==========================================================================================\n",
            "\t Patience -> 9\n",
            "Epoch: 03, Train Loss: 0.118, Train Acc: 97.94%, Val. Loss: 0.958, Val. Acc: 72.35% \n",
            "==========================================================================================\n",
            "\t1.030 --> 0.958  Updating\n",
            "Epoch: 04, Train Loss: 0.050, Train Acc: 99.29%, Val. Loss: 1.486, Val. Acc: 64.17% \n",
            "==========================================================================================\n",
            "\t Patience -> 9\n",
            "Epoch: 05, Train Loss: 0.075, Train Acc: 98.54%, Val. Loss: 1.118, Val. Acc: 70.32% \n",
            "==========================================================================================\n",
            "\t Patience -> 8\n",
            "Epoch: 06, Train Loss: 0.045, Train Acc: 99.11%, Val. Loss: 1.052, Val. Acc: 73.61% \n",
            "==========================================================================================\n",
            "\t Patience -> 7\n",
            "Epoch: 07, Train Loss: 0.023, Train Acc: 99.68%, Val. Loss: 0.952, Val. Acc: 74.15% \n",
            "==========================================================================================\n",
            "\t0.958 --> 0.952  Updating\n",
            "Epoch: 08, Train Loss: 0.017, Train Acc: 99.86%, Val. Loss: 0.962, Val. Acc: 76.38% \n",
            "==========================================================================================\n",
            "\t Patience -> 9\n",
            "Epoch: 09, Train Loss: 0.007, Train Acc: 100.00%, Val. Loss: 1.049, Val. Acc: 75.12% \n",
            "==========================================================================================\n",
            "\t Patience -> 8\n",
            "Epoch: 10, Train Loss: 0.006, Train Acc: 100.00%, Val. Loss: 1.042, Val. Acc: 75.13% \n",
            "==========================================================================================\n",
            "\t Patience -> 7\n",
            "Epoch: 11, Train Loss: 0.005, Train Acc: 100.00%, Val. Loss: 1.061, Val. Acc: 74.92% \n",
            "==========================================================================================\n",
            "\t Patience -> 6\n",
            "Epoch: 12, Train Loss: 0.004, Train Acc: 100.00%, Val. Loss: 1.112, Val. Acc: 74.48% \n",
            "==========================================================================================\n",
            "\t Patience -> 5\n",
            "Epoch: 13, Train Loss: 0.004, Train Acc: 100.00%, Val. Loss: 0.942, Val. Acc: 77.58% \n",
            "==========================================================================================\n",
            "\t0.952 --> 0.942  Updating\n",
            "Epoch: 14, Train Loss: 0.004, Train Acc: 100.00%, Val. Loss: 1.201, Val. Acc: 71.53% \n",
            "==========================================================================================\n",
            "\t Patience -> 9\n",
            "Epoch: 15, Train Loss: 0.003, Train Acc: 100.00%, Val. Loss: 1.163, Val. Acc: 72.40% \n",
            "==========================================================================================\n",
            "\t Patience -> 8\n",
            "Epoch: 16, Train Loss: 0.003, Train Acc: 100.00%, Val. Loss: 1.053, Val. Acc: 76.02% \n",
            "==========================================================================================\n",
            "\t Patience -> 7\n",
            "Epoch: 17, Train Loss: 0.003, Train Acc: 100.00%, Val. Loss: 1.095, Val. Acc: 75.22% \n",
            "==========================================================================================\n",
            "\t Patience -> 6\n",
            "Epoch: 18, Train Loss: 0.002, Train Acc: 100.00%, Val. Loss: 1.113, Val. Acc: 75.06% \n",
            "==========================================================================================\n",
            "\t Patience -> 5\n",
            "Epoch: 19, Train Loss: 0.002, Train Acc: 100.00%, Val. Loss: 1.190, Val. Acc: 72.91% \n",
            "==========================================================================================\n",
            "\t Patience -> 4\n",
            "Epoch: 20, Train Loss: 0.002, Train Acc: 100.00%, Val. Loss: 1.197, Val. Acc: 72.85% \n",
            "==========================================================================================\n",
            "\t Patience -> 3\n",
            "Epoch: 21, Train Loss: 0.002, Train Acc: 100.00%, Val. Loss: 1.068, Val. Acc: 73.99% \n",
            "==========================================================================================\n",
            "\t Patience -> 2\n",
            "Epoch: 22, Train Loss: 0.002, Train Acc: 100.00%, Val. Loss: 1.223, Val. Acc: 72.79% \n",
            "==========================================================================================\n",
            "\t Patience -> 1\n",
            "Epoch: 23, Train Loss: 0.002, Train Acc: 100.00%, Val. Loss: 1.277, Val. Acc: 70.71% \n",
            "==========================================================================================\n",
            "\tPatience complete! Best Loss is 0.942\n"
          ],
          "name": "stdout"
        }
      ]
    },
    {
      "cell_type": "code",
      "metadata": {
        "colab": {
          "base_uri": "https://localhost:8080/",
          "height": 839
        },
        "id": "dcRzXaRdFOpx",
        "outputId": "db6cbe4c-45c6-4858-8743-c28ea3fa240d"
      },
      "source": [
        "import matplotlib.pyplot as plt\n",
        "plt.style.use('ggplot')\n",
        "plt.figure(figsize=(10,7))\n",
        "plt.plot(train_losses,label='Training Loss')\n",
        "plt.plot(val_losses,label='Validation Loss')\n",
        "plt.legend()\n",
        "plt.show()\n",
        "\n",
        "plt.figure(figsize=(10,7))\n",
        "plt.plot(train_accs,label='Training Accuracy')\n",
        "plt.plot(val_accs,label='Validation Accuracy')\n",
        "plt.legend()\n",
        "plt.show()"
      ],
      "execution_count": 30,
      "outputs": [
        {
          "output_type": "display_data",
          "data": {
            "image/png": "[encoded data removed]",
            "text/plain": [
              "<Figure size 720x504 with 1 Axes>"
            ]
          },
          "metadata": {
            "tags": []
          }
        },
        {
          "output_type": "display_data",
          "data": {
            "image/png": "[encoded data removed]",
            "text/plain": [
              "<Figure size 720x504 with 1 Axes>"
            ]
          },
          "metadata": {
            "tags": []
          }
        }
      ]
    },
    {
      "cell_type": "code",
      "metadata": {
        "id": "xo2Sewr5hYh2",
        "colab": {
          "base_uri": "https://localhost:8080/"
        },
        "outputId": "5889efb7-bbf6-4511-bc9c-62251efab029"
      },
      "source": [
        "val.shape"
      ],
      "execution_count": null,
      "outputs": [
        {
          "output_type": "execute_result",
          "data": {
            "text/plain": [
              "(104, 14)"
            ]
          },
          "metadata": {
            "tags": []
          },
          "execution_count": 53
        }
      ]
    },
    {
      "cell_type": "code",
      "metadata": {
        "colab": {
          "base_uri": "https://localhost:8080/"
        },
        "id": "hF8i7CFxU_iM",
        "outputId": "ba4d34dd-6bb9-4f89-fc76-9109c63e88e7"
      },
      "source": [
        "from sklearn.metrics import classification_report, confusion_matrix\n",
        "\n",
        "val_dataset = SpeciesDataset(val,transform=val_transformer)\n",
        "val_loader = torch.utils.data.DataLoader(val_dataset,batch_size=615)\n",
        "\n",
        "model.load_state_dict(torch.load('vit-base.bin'))\n",
        "model.cuda()\n",
        "with torch.no_grad():\n",
        "  image,target = next(iter(val_loader))\n",
        "  image = image.to(device)\n",
        "  target = target.flatten().to(device)\n",
        "\n",
        "  prediction = model(image)\n",
        "\n",
        "prediction = prediction.argmax(dim=1).view(target.size()).cpu().numpy()\n",
        "target = target.cpu().numpy()\n",
        "\n",
        "print(classification_report(target,prediction,target_names=le.classes_))"
      ],
      "execution_count": 31,
      "outputs": [
        {
          "output_type": "stream",
          "text": [
            "                           precision    recall  f1-score   support\n",
            "\n",
            "          Ancyclostoma sp       1.00      0.50      0.67         4\n",
            "     Ascaris lumbricoides       0.70      0.78      0.74         9\n",
            "       Cryptosporidium sp       1.00      1.00      1.00         4\n",
            "  Cyclospora cayetanensis       0.90      1.00      0.95         9\n",
            "  Dibothriocephalus latus       0.38      0.60      0.46         5\n",
            "    Entamoeba histolytica       1.00      0.67      0.80         9\n",
            "  Enterobius vermicularis       0.75      0.60      0.67         5\n",
            "       Giardia duodenalis       0.88      0.78      0.82         9\n",
            "          Hymenolepis spp       1.00      0.50      0.67         6\n",
            "    Plasmodium falciparum       0.83      0.56      0.67         9\n",
            "      Plasmodium knowlesi       0.67      1.00      0.80         4\n",
            "      Plasmodium malariae       1.00      0.89      0.94         9\n",
            "         Plasmodium ovale       0.45      0.56      0.50         9\n",
            "         Plasmodium vivax       0.67      0.67      0.67         9\n",
            "           Sarcocystis sp       0.80      1.00      0.89         4\n",
            "Strongyloides stercoralis       0.83      0.83      0.83         6\n",
            "           Toxocara canis       0.75      0.75      0.75         4\n",
            "      Trichuris Trichuria       0.60      0.60      0.60         5\n",
            "                       na       0.56      0.75      0.64        12\n",
            "\n",
            "                 accuracy                           0.73       131\n",
            "                macro avg       0.78      0.74      0.74       131\n",
            "             weighted avg       0.77      0.73      0.74       131\n",
            "\n"
          ],
          "name": "stdout"
        }
      ]
    },
    {
      "cell_type": "code",
      "metadata": {
        "colab": {
          "base_uri": "https://localhost:8080/",
          "height": 546
        },
        "id": "syP7FzReiPxc",
        "outputId": "158a09d2-26c1-4c25-b81f-55a41265f456"
      },
      "source": [
        "import seaborn as sn\n",
        "import pandas as pd\n",
        "import matplotlib.pyplot as plt\n",
        "confusion = confusion_matrix(target,prediction)\n",
        "df_cm = pd.DataFrame(confusion, index = le.classes_,\n",
        "                  columns = le.classes_)\n",
        "plt.figure(figsize = (10,7))\n",
        "sn.heatmap(df_cm, annot=True)\n",
        "plt.show()"
      ],
      "execution_count": 32,
      "outputs": [
        {
          "output_type": "display_data",
          "data": {
            "image/png": "[encoded data removed]",
            "text/plain": [
              "<Figure size 720x504 with 2 Axes>"
            ]
          },
          "metadata": {
            "tags": []
          }
        }
      ]
    },
    {
      "cell_type": "markdown",
      "metadata": {
        "id": "fwxkRWGzGKW0"
      },
      "source": [
        "# VIT Resnet50 Imagenet 21k"
      ]
    },
    {
      "cell_type": "code",
      "metadata": {
        "id": "VvBDOG-bGKW6"
      },
      "source": [
        "class ViResNet50(nn.Module):\n",
        "  def __init__(self,num_classes_classifier=16):\n",
        "    super().__init__()\n",
        "    self.img_transformer = timm.models.vision_transformer.vit_base_resnet50_224_in21k(pretrained=True,num_classes = 0)\n",
        "    self.fc1 = nn.Linear(768,512)\n",
        "    self.drop = nn.Dropout(0.4)\n",
        "    self.norm = nn.BatchNorm1d(512)\n",
        "    self.classifier = nn.Linear(512,num_classes_classifier)\n",
        "\n",
        "  def forward(self,img):\n",
        "    repr = self.img_transformer(img)\n",
        "    repr = torch.relu(self.fc1(repr))\n",
        "    repr = self.drop(repr)\n",
        "    repr = self.norm(repr)\n",
        "    output = self.classifier(repr)\n",
        "\n",
        "    return output  "
      ],
      "execution_count": null,
      "outputs": []
    },
    {
      "cell_type": "code",
      "metadata": {
        "id": "s3BCkeXDKlZ5",
        "colab": {
          "base_uri": "https://localhost:8080/"
        },
        "outputId": "68a6ecec-d34d-4264-ddff-51deae884413"
      },
      "source": [
        "model = ViResNet50()"
      ],
      "execution_count": null,
      "outputs": [
        {
          "output_type": "stream",
          "text": [
            "Removing representation layer for fine-tuning.\n",
            "Downloading: \"https://github.com/rwightman/pytorch-image-models/releases/download/v0.1-vitjx/jx_vit_base_resnet50_224_in21k-6f7c7740.pth\" to /root/.cache/torch/hub/checkpoints/jx_vit_base_resnet50_224_in21k-6f7c7740.pth\n"
          ],
          "name": "stderr"
        }
      ]
    },
    {
      "cell_type": "code",
      "metadata": {
        "colab": {
          "base_uri": "https://localhost:8080/"
        },
        "id": "mzk4ZLhSGKW6",
        "outputId": "6ff975e1-08a8-4e0d-ff1f-c4151732412a"
      },
      "source": [
        "model.load_state_dict(torch.load('vit-resnet.bin'))"
      ],
      "execution_count": null,
      "outputs": [
        {
          "output_type": "execute_result",
          "data": {
            "text/plain": [
              "<All keys matched successfully>"
            ]
          },
          "metadata": {
            "tags": []
          },
          "execution_count": 109
        }
      ]
    },
    {
      "cell_type": "code",
      "metadata": {
        "colab": {
          "base_uri": "https://localhost:8080/"
        },
        "id": "cBFOoiubGKW7",
        "outputId": "8b8c5626-951e-41f6-93ef-59e158327ed9"
      },
      "source": [
        "torch.seed()"
      ],
      "execution_count": null,
      "outputs": [
        {
          "output_type": "execute_result",
          "data": {
            "text/plain": [
              "14185017976319700136"
            ]
          },
          "metadata": {
            "tags": []
          },
          "execution_count": 100
        }
      ]
    },
    {
      "cell_type": "code",
      "metadata": {
        "colab": {
          "base_uri": "https://localhost:8080/",
          "height": 387
        },
        "id": "cXdHccnRGKW7",
        "outputId": "9b0e0a31-54e0-4fb9-d810-a4ba772d4984"
      },
      "source": [
        "device = torch.device('cuda')\n",
        "optim = torch.optim.Adam(filter(lambda p: p.requires_grad, model.parameters()),lr = 1e-4)\n",
        "loss_fn = nn.CrossEntropyLoss().to(device)\n",
        "es = EarlyStopping(patience = 10)\n",
        "es.best = np.inf\n",
        "\n",
        "model.cuda()\n",
        "\n",
        "train_losses = []\n",
        "train_accs = []\n",
        "val_losses = []\n",
        "val_accs = []\n",
        "for epoch in range(100):\n",
        "  train_epoch_loss = 0\n",
        "  train_epoch_acc = 0\n",
        "  model.train()\n",
        "  steps = 0\n",
        "  for idx, batch in enumerate(train_loader):\n",
        "    image, target = batch\n",
        "    image = image.to(device)\n",
        "    target = target.flatten().to(device)\n",
        "\n",
        "    optim.zero_grad()\n",
        "\n",
        "    prediction = model(image)\n",
        "    # print(prediction,target)\n",
        "    loss = loss_fn(prediction, target)\n",
        "    loss.backward()\n",
        "\n",
        "    num_corrects = (prediction.argmax(dim=1).view(target.size()).data == target.data).sum()\n",
        "    acc = 100.0 * (num_corrects/target.size(0))\n",
        "    optim.step()\n",
        "    steps += 1\n",
        "    \n",
        "    # if steps % 6 == 0:\n",
        "    #     print (f'\\t Train - Epoch: {epoch+1}, Idx: {idx+1}, Training Loss: {loss.item():.4f}, Training Accuracy: {acc.item(): .2f}%')\n",
        "    \n",
        "    train_epoch_loss += loss.item()\n",
        "    train_epoch_acc += acc.item()\n",
        "\n",
        "  val_epoch_loss = 0\n",
        "  val_epoch_acc = 0\n",
        "  model.eval()\n",
        "  val_steps = 0\n",
        "  with torch.no_grad():\n",
        "    for idx, batch in enumerate(val_loader):\n",
        "      image, target = batch\n",
        "      image = image.to(device)\n",
        "      target = target.flatten().to(device)\n",
        "\n",
        "      prediction = model(image)\n",
        "      loss = loss_fn(prediction, target)\n",
        "      \n",
        "      num_corrects = (prediction.argmax(dim=1).view(target.size()).data == target.data).sum()\n",
        "      acc = 100.0 * (num_corrects/target.size(0))\n",
        "\n",
        "      val_epoch_loss += loss.item()\n",
        "      val_epoch_acc += acc.item()\n",
        "      val_steps +=1\n",
        "\n",
        "  \n",
        "  val_epoch_loss /=val_steps\n",
        "  val_epoch_acc /=val_steps\n",
        "\n",
        "  # val_losses.append(val_epoch_loss)\n",
        "  # val_accs.append(val_epoch_acc)\n",
        "  \n",
        "  print(f\"Epoch: {epoch+1:02}, Train Loss: {train_epoch_loss/steps:.3f}, Train Acc: {train_epoch_acc/steps:.2f}%, Val. Loss: {val_epoch_loss:.3f}, Val. Acc: {val_epoch_acc:.2f}% \\n{90*'='}\")\n",
        "  \n",
        "  if val_epoch_loss < es.best:\n",
        "    best_loss = val_epoch_loss\n",
        "    print(f'\\r\\t{es.best:.3f} --> {best_loss:.3f}  Updating')\n",
        "    torch.save(model.state_dict(),'vit-resnet.bin')\n",
        "\n",
        "    train_losses.append(train_epoch_loss/steps)\n",
        "    train_accs.append(train_epoch_acc/steps)\n",
        "\n",
        "    val_losses.append(val_epoch_loss)\n",
        "    val_accs.append(val_epoch_acc)\n",
        "    \n",
        "  if es.step(torch.tensor(val_epoch_loss)):\n",
        "    print(f'\\r\\tPatience complete! Best Loss is {es.best:.3f}')\n",
        "    break\n",
        "  if val_epoch_loss > best_loss:\n",
        "    print(f'\\r\\t Patience -> {es.patience - es.num_bad_epochs}')"
      ],
      "execution_count": null,
      "outputs": [
        {
          "output_type": "error",
          "ename": "RuntimeError",
          "evalue": "ignored",
          "traceback": [
            "\u001b[0;31m---------------------------------------------------------------------------\u001b[0m",
            "\u001b[0;31mRuntimeError\u001b[0m                              Traceback (most recent call last)",
            "\u001b[0;32m<ipython-input-15-5339ea723ebe>\u001b[0m in \u001b[0;36m<module>\u001b[0;34m()\u001b[0m\n\u001b[1;32m     23\u001b[0m     \u001b[0moptim\u001b[0m\u001b[0;34m.\u001b[0m\u001b[0mzero_grad\u001b[0m\u001b[0;34m(\u001b[0m\u001b[0;34m)\u001b[0m\u001b[0;34m\u001b[0m\u001b[0;34m\u001b[0m\u001b[0m\n\u001b[1;32m     24\u001b[0m \u001b[0;34m\u001b[0m\u001b[0m\n\u001b[0;32m---> 25\u001b[0;31m     \u001b[0mprediction\u001b[0m \u001b[0;34m=\u001b[0m \u001b[0mmodel\u001b[0m\u001b[0;34m(\u001b[0m\u001b[0mimage\u001b[0m\u001b[0;34m)\u001b[0m\u001b[0;34m\u001b[0m\u001b[0;34m\u001b[0m\u001b[0m\n\u001b[0m\u001b[1;32m     26\u001b[0m     \u001b[0;31m# print(prediction,target)\u001b[0m\u001b[0;34m\u001b[0m\u001b[0;34m\u001b[0m\u001b[0;34m\u001b[0m\u001b[0m\n\u001b[1;32m     27\u001b[0m     \u001b[0mloss\u001b[0m \u001b[0;34m=\u001b[0m \u001b[0mloss_fn\u001b[0m\u001b[0;34m(\u001b[0m\u001b[0mprediction\u001b[0m\u001b[0;34m,\u001b[0m \u001b[0mtarget\u001b[0m\u001b[0;34m)\u001b[0m\u001b[0;34m\u001b[0m\u001b[0;34m\u001b[0m\u001b[0m\n",
            "\u001b[0;32m/usr/local/lib/python3.7/dist-packages/torch/nn/modules/module.py\u001b[0m in \u001b[0;36m_call_impl\u001b[0;34m(self, *input, **kwargs)\u001b[0m\n\u001b[1;32m    887\u001b[0m             \u001b[0mresult\u001b[0m \u001b[0;34m=\u001b[0m \u001b[0mself\u001b[0m\u001b[0;34m.\u001b[0m\u001b[0m_slow_forward\u001b[0m\u001b[0;34m(\u001b[0m\u001b[0;34m*\u001b[0m\u001b[0minput\u001b[0m\u001b[0;34m,\u001b[0m \u001b[0;34m**\u001b[0m\u001b[0mkwargs\u001b[0m\u001b[0;34m)\u001b[0m\u001b[0;34m\u001b[0m\u001b[0;34m\u001b[0m\u001b[0m\n\u001b[1;32m    888\u001b[0m         \u001b[0;32melse\u001b[0m\u001b[0;34m:\u001b[0m\u001b[0;34m\u001b[0m\u001b[0;34m\u001b[0m\u001b[0m\n\u001b[0;32m--> 889\u001b[0;31m             \u001b[0mresult\u001b[0m \u001b[0;34m=\u001b[0m \u001b[0mself\u001b[0m\u001b[0;34m.\u001b[0m\u001b[0mforward\u001b[0m\u001b[0;34m(\u001b[0m\u001b[0;34m*\u001b[0m\u001b[0minput\u001b[0m\u001b[0;34m,\u001b[0m \u001b[0;34m**\u001b[0m\u001b[0mkwargs\u001b[0m\u001b[0;34m)\u001b[0m\u001b[0;34m\u001b[0m\u001b[0;34m\u001b[0m\u001b[0m\n\u001b[0m\u001b[1;32m    890\u001b[0m         for hook in itertools.chain(\n\u001b[1;32m    891\u001b[0m                 \u001b[0m_global_forward_hooks\u001b[0m\u001b[0;34m.\u001b[0m\u001b[0mvalues\u001b[0m\u001b[0;34m(\u001b[0m\u001b[0;34m)\u001b[0m\u001b[0;34m,\u001b[0m\u001b[0;34m\u001b[0m\u001b[0;34m\u001b[0m\u001b[0m\n",
            "\u001b[0;32m<ipython-input-11-85edd71ff302>\u001b[0m in \u001b[0;36mforward\u001b[0;34m(self, img)\u001b[0m\n\u001b[1;32m      9\u001b[0m \u001b[0;34m\u001b[0m\u001b[0m\n\u001b[1;32m     10\u001b[0m   \u001b[0;32mdef\u001b[0m \u001b[0mforward\u001b[0m\u001b[0;34m(\u001b[0m\u001b[0mself\u001b[0m\u001b[0;34m,\u001b[0m\u001b[0mimg\u001b[0m\u001b[0;34m)\u001b[0m\u001b[0;34m:\u001b[0m\u001b[0;34m\u001b[0m\u001b[0;34m\u001b[0m\u001b[0m\n\u001b[0;32m---> 11\u001b[0;31m     \u001b[0mrepr\u001b[0m \u001b[0;34m=\u001b[0m \u001b[0mself\u001b[0m\u001b[0;34m.\u001b[0m\u001b[0mimg_transformer\u001b[0m\u001b[0;34m(\u001b[0m\u001b[0mimg\u001b[0m\u001b[0;34m)\u001b[0m\u001b[0;34m\u001b[0m\u001b[0;34m\u001b[0m\u001b[0m\n\u001b[0m\u001b[1;32m     12\u001b[0m     \u001b[0mrepr\u001b[0m \u001b[0;34m=\u001b[0m \u001b[0mtorch\u001b[0m\u001b[0;34m.\u001b[0m\u001b[0mrelu\u001b[0m\u001b[0;34m(\u001b[0m\u001b[0mself\u001b[0m\u001b[0;34m.\u001b[0m\u001b[0mfc1\u001b[0m\u001b[0;34m(\u001b[0m\u001b[0mrepr\u001b[0m\u001b[0;34m)\u001b[0m\u001b[0;34m)\u001b[0m\u001b[0;34m\u001b[0m\u001b[0;34m\u001b[0m\u001b[0m\n\u001b[1;32m     13\u001b[0m     \u001b[0mrepr\u001b[0m \u001b[0;34m=\u001b[0m \u001b[0mself\u001b[0m\u001b[0;34m.\u001b[0m\u001b[0mdrop\u001b[0m\u001b[0;34m(\u001b[0m\u001b[0mrepr\u001b[0m\u001b[0;34m)\u001b[0m\u001b[0;34m\u001b[0m\u001b[0;34m\u001b[0m\u001b[0m\n",
            "\u001b[0;32m/usr/local/lib/python3.7/dist-packages/torch/nn/modules/module.py\u001b[0m in \u001b[0;36m_call_impl\u001b[0;34m(self, *input, **kwargs)\u001b[0m\n\u001b[1;32m    887\u001b[0m             \u001b[0mresult\u001b[0m \u001b[0;34m=\u001b[0m \u001b[0mself\u001b[0m\u001b[0;34m.\u001b[0m\u001b[0m_slow_forward\u001b[0m\u001b[0;34m(\u001b[0m\u001b[0;34m*\u001b[0m\u001b[0minput\u001b[0m\u001b[0;34m,\u001b[0m \u001b[0;34m**\u001b[0m\u001b[0mkwargs\u001b[0m\u001b[0;34m)\u001b[0m\u001b[0;34m\u001b[0m\u001b[0;34m\u001b[0m\u001b[0m\n\u001b[1;32m    888\u001b[0m         \u001b[0;32melse\u001b[0m\u001b[0;34m:\u001b[0m\u001b[0;34m\u001b[0m\u001b[0;34m\u001b[0m\u001b[0m\n\u001b[0;32m--> 889\u001b[0;31m             \u001b[0mresult\u001b[0m \u001b[0;34m=\u001b[0m \u001b[0mself\u001b[0m\u001b[0;34m.\u001b[0m\u001b[0mforward\u001b[0m\u001b[0;34m(\u001b[0m\u001b[0;34m*\u001b[0m\u001b[0minput\u001b[0m\u001b[0;34m,\u001b[0m \u001b[0;34m**\u001b[0m\u001b[0mkwargs\u001b[0m\u001b[0;34m)\u001b[0m\u001b[0;34m\u001b[0m\u001b[0;34m\u001b[0m\u001b[0m\n\u001b[0m\u001b[1;32m    890\u001b[0m         for hook in itertools.chain(\n\u001b[1;32m    891\u001b[0m                 \u001b[0m_global_forward_hooks\u001b[0m\u001b[0;34m.\u001b[0m\u001b[0mvalues\u001b[0m\u001b[0;34m(\u001b[0m\u001b[0;34m)\u001b[0m\u001b[0;34m,\u001b[0m\u001b[0;34m\u001b[0m\u001b[0;34m\u001b[0m\u001b[0m\n",
            "\u001b[0;32m/usr/local/lib/python3.7/dist-packages/timm-0.4.5-py3.7.egg/timm/models/vision_transformer.py\u001b[0m in \u001b[0;36mforward\u001b[0;34m(self, x)\u001b[0m\n\u001b[1;32m    372\u001b[0m \u001b[0;34m\u001b[0m\u001b[0m\n\u001b[1;32m    373\u001b[0m     \u001b[0;32mdef\u001b[0m \u001b[0mforward\u001b[0m\u001b[0;34m(\u001b[0m\u001b[0mself\u001b[0m\u001b[0;34m,\u001b[0m \u001b[0mx\u001b[0m\u001b[0;34m)\u001b[0m\u001b[0;34m:\u001b[0m\u001b[0;34m\u001b[0m\u001b[0;34m\u001b[0m\u001b[0m\n\u001b[0;32m--> 374\u001b[0;31m         \u001b[0mx\u001b[0m \u001b[0;34m=\u001b[0m \u001b[0mself\u001b[0m\u001b[0;34m.\u001b[0m\u001b[0mforward_features\u001b[0m\u001b[0;34m(\u001b[0m\u001b[0mx\u001b[0m\u001b[0;34m)\u001b[0m\u001b[0;34m\u001b[0m\u001b[0;34m\u001b[0m\u001b[0m\n\u001b[0m\u001b[1;32m    375\u001b[0m         \u001b[0mx\u001b[0m \u001b[0;34m=\u001b[0m \u001b[0mself\u001b[0m\u001b[0;34m.\u001b[0m\u001b[0mhead\u001b[0m\u001b[0;34m(\u001b[0m\u001b[0mx\u001b[0m\u001b[0;34m)\u001b[0m\u001b[0;34m\u001b[0m\u001b[0;34m\u001b[0m\u001b[0m\n\u001b[1;32m    376\u001b[0m         \u001b[0;32mreturn\u001b[0m \u001b[0mx\u001b[0m\u001b[0;34m\u001b[0m\u001b[0;34m\u001b[0m\u001b[0m\n",
            "\u001b[0;32m/usr/local/lib/python3.7/dist-packages/timm-0.4.5-py3.7.egg/timm/models/vision_transformer.py\u001b[0m in \u001b[0;36mforward_features\u001b[0;34m(self, x)\u001b[0m\n\u001b[1;32m    357\u001b[0m     \u001b[0;32mdef\u001b[0m \u001b[0mforward_features\u001b[0m\u001b[0;34m(\u001b[0m\u001b[0mself\u001b[0m\u001b[0;34m,\u001b[0m \u001b[0mx\u001b[0m\u001b[0;34m)\u001b[0m\u001b[0;34m:\u001b[0m\u001b[0;34m\u001b[0m\u001b[0;34m\u001b[0m\u001b[0m\n\u001b[1;32m    358\u001b[0m         \u001b[0mB\u001b[0m \u001b[0;34m=\u001b[0m \u001b[0mx\u001b[0m\u001b[0;34m.\u001b[0m\u001b[0mshape\u001b[0m\u001b[0;34m[\u001b[0m\u001b[0;36m0\u001b[0m\u001b[0;34m]\u001b[0m\u001b[0;34m\u001b[0m\u001b[0;34m\u001b[0m\u001b[0m\n\u001b[0;32m--> 359\u001b[0;31m         \u001b[0mx\u001b[0m \u001b[0;34m=\u001b[0m \u001b[0mself\u001b[0m\u001b[0;34m.\u001b[0m\u001b[0mpatch_embed\u001b[0m\u001b[0;34m(\u001b[0m\u001b[0mx\u001b[0m\u001b[0;34m)\u001b[0m\u001b[0;34m\u001b[0m\u001b[0;34m\u001b[0m\u001b[0m\n\u001b[0m\u001b[1;32m    360\u001b[0m \u001b[0;34m\u001b[0m\u001b[0m\n\u001b[1;32m    361\u001b[0m         \u001b[0mcls_tokens\u001b[0m \u001b[0;34m=\u001b[0m \u001b[0mself\u001b[0m\u001b[0;34m.\u001b[0m\u001b[0mcls_token\u001b[0m\u001b[0;34m.\u001b[0m\u001b[0mexpand\u001b[0m\u001b[0;34m(\u001b[0m\u001b[0mB\u001b[0m\u001b[0;34m,\u001b[0m \u001b[0;34m-\u001b[0m\u001b[0;36m1\u001b[0m\u001b[0;34m,\u001b[0m \u001b[0;34m-\u001b[0m\u001b[0;36m1\u001b[0m\u001b[0;34m)\u001b[0m  \u001b[0;31m# stole cls_tokens impl from Phil Wang, thanks\u001b[0m\u001b[0;34m\u001b[0m\u001b[0;34m\u001b[0m\u001b[0m\n",
            "\u001b[0;32m/usr/local/lib/python3.7/dist-packages/torch/nn/modules/module.py\u001b[0m in \u001b[0;36m_call_impl\u001b[0;34m(self, *input, **kwargs)\u001b[0m\n\u001b[1;32m    887\u001b[0m             \u001b[0mresult\u001b[0m \u001b[0;34m=\u001b[0m \u001b[0mself\u001b[0m\u001b[0;34m.\u001b[0m\u001b[0m_slow_forward\u001b[0m\u001b[0;34m(\u001b[0m\u001b[0;34m*\u001b[0m\u001b[0minput\u001b[0m\u001b[0;34m,\u001b[0m \u001b[0;34m**\u001b[0m\u001b[0mkwargs\u001b[0m\u001b[0;34m)\u001b[0m\u001b[0;34m\u001b[0m\u001b[0;34m\u001b[0m\u001b[0m\n\u001b[1;32m    888\u001b[0m         \u001b[0;32melse\u001b[0m\u001b[0;34m:\u001b[0m\u001b[0;34m\u001b[0m\u001b[0;34m\u001b[0m\u001b[0m\n\u001b[0;32m--> 889\u001b[0;31m             \u001b[0mresult\u001b[0m \u001b[0;34m=\u001b[0m \u001b[0mself\u001b[0m\u001b[0;34m.\u001b[0m\u001b[0mforward\u001b[0m\u001b[0;34m(\u001b[0m\u001b[0;34m*\u001b[0m\u001b[0minput\u001b[0m\u001b[0;34m,\u001b[0m \u001b[0;34m**\u001b[0m\u001b[0mkwargs\u001b[0m\u001b[0;34m)\u001b[0m\u001b[0;34m\u001b[0m\u001b[0;34m\u001b[0m\u001b[0m\n\u001b[0m\u001b[1;32m    890\u001b[0m         for hook in itertools.chain(\n\u001b[1;32m    891\u001b[0m                 \u001b[0m_global_forward_hooks\u001b[0m\u001b[0;34m.\u001b[0m\u001b[0mvalues\u001b[0m\u001b[0;34m(\u001b[0m\u001b[0;34m)\u001b[0m\u001b[0;34m,\u001b[0m\u001b[0;34m\u001b[0m\u001b[0;34m\u001b[0m\u001b[0m\n",
            "\u001b[0;32m/usr/local/lib/python3.7/dist-packages/timm-0.4.5-py3.7.egg/timm/models/vision_transformer.py\u001b[0m in \u001b[0;36mforward\u001b[0;34m(self, x)\u001b[0m\n\u001b[1;32m    258\u001b[0m \u001b[0;34m\u001b[0m\u001b[0m\n\u001b[1;32m    259\u001b[0m     \u001b[0;32mdef\u001b[0m \u001b[0mforward\u001b[0m\u001b[0;34m(\u001b[0m\u001b[0mself\u001b[0m\u001b[0;34m,\u001b[0m \u001b[0mx\u001b[0m\u001b[0;34m)\u001b[0m\u001b[0;34m:\u001b[0m\u001b[0;34m\u001b[0m\u001b[0;34m\u001b[0m\u001b[0m\n\u001b[0;32m--> 260\u001b[0;31m         \u001b[0mx\u001b[0m \u001b[0;34m=\u001b[0m \u001b[0mself\u001b[0m\u001b[0;34m.\u001b[0m\u001b[0mbackbone\u001b[0m\u001b[0;34m(\u001b[0m\u001b[0mx\u001b[0m\u001b[0;34m)\u001b[0m\u001b[0;34m\u001b[0m\u001b[0;34m\u001b[0m\u001b[0m\n\u001b[0m\u001b[1;32m    261\u001b[0m         \u001b[0;32mif\u001b[0m \u001b[0misinstance\u001b[0m\u001b[0;34m(\u001b[0m\u001b[0mx\u001b[0m\u001b[0;34m,\u001b[0m \u001b[0;34m(\u001b[0m\u001b[0mlist\u001b[0m\u001b[0;34m,\u001b[0m \u001b[0mtuple\u001b[0m\u001b[0;34m)\u001b[0m\u001b[0;34m)\u001b[0m\u001b[0;34m:\u001b[0m\u001b[0;34m\u001b[0m\u001b[0;34m\u001b[0m\u001b[0m\n\u001b[1;32m    262\u001b[0m             \u001b[0mx\u001b[0m \u001b[0;34m=\u001b[0m \u001b[0mx\u001b[0m\u001b[0;34m[\u001b[0m\u001b[0;34m-\u001b[0m\u001b[0;36m1\u001b[0m\u001b[0;34m]\u001b[0m  \u001b[0;31m# last feature if backbone outputs list/tuple of features\u001b[0m\u001b[0;34m\u001b[0m\u001b[0;34m\u001b[0m\u001b[0m\n",
            "\u001b[0;32m/usr/local/lib/python3.7/dist-packages/torch/nn/modules/module.py\u001b[0m in \u001b[0;36m_call_impl\u001b[0;34m(self, *input, **kwargs)\u001b[0m\n\u001b[1;32m    887\u001b[0m             \u001b[0mresult\u001b[0m \u001b[0;34m=\u001b[0m \u001b[0mself\u001b[0m\u001b[0;34m.\u001b[0m\u001b[0m_slow_forward\u001b[0m\u001b[0;34m(\u001b[0m\u001b[0;34m*\u001b[0m\u001b[0minput\u001b[0m\u001b[0;34m,\u001b[0m \u001b[0;34m**\u001b[0m\u001b[0mkwargs\u001b[0m\u001b[0;34m)\u001b[0m\u001b[0;34m\u001b[0m\u001b[0;34m\u001b[0m\u001b[0m\n\u001b[1;32m    888\u001b[0m         \u001b[0;32melse\u001b[0m\u001b[0;34m:\u001b[0m\u001b[0;34m\u001b[0m\u001b[0;34m\u001b[0m\u001b[0m\n\u001b[0;32m--> 889\u001b[0;31m             \u001b[0mresult\u001b[0m \u001b[0;34m=\u001b[0m \u001b[0mself\u001b[0m\u001b[0;34m.\u001b[0m\u001b[0mforward\u001b[0m\u001b[0;34m(\u001b[0m\u001b[0;34m*\u001b[0m\u001b[0minput\u001b[0m\u001b[0;34m,\u001b[0m \u001b[0;34m**\u001b[0m\u001b[0mkwargs\u001b[0m\u001b[0;34m)\u001b[0m\u001b[0;34m\u001b[0m\u001b[0;34m\u001b[0m\u001b[0m\n\u001b[0m\u001b[1;32m    890\u001b[0m         for hook in itertools.chain(\n\u001b[1;32m    891\u001b[0m                 \u001b[0m_global_forward_hooks\u001b[0m\u001b[0;34m.\u001b[0m\u001b[0mvalues\u001b[0m\u001b[0;34m(\u001b[0m\u001b[0;34m)\u001b[0m\u001b[0;34m,\u001b[0m\u001b[0;34m\u001b[0m\u001b[0;34m\u001b[0m\u001b[0m\n",
            "\u001b[0;32m/usr/local/lib/python3.7/dist-packages/timm-0.4.5-py3.7.egg/timm/models/resnetv2.py\u001b[0m in \u001b[0;36mforward\u001b[0;34m(self, x)\u001b[0m\n\u001b[1;32m    373\u001b[0m \u001b[0;34m\u001b[0m\u001b[0m\n\u001b[1;32m    374\u001b[0m     \u001b[0;32mdef\u001b[0m \u001b[0mforward\u001b[0m\u001b[0;34m(\u001b[0m\u001b[0mself\u001b[0m\u001b[0;34m,\u001b[0m \u001b[0mx\u001b[0m\u001b[0;34m)\u001b[0m\u001b[0;34m:\u001b[0m\u001b[0;34m\u001b[0m\u001b[0;34m\u001b[0m\u001b[0m\n\u001b[0;32m--> 375\u001b[0;31m         \u001b[0mx\u001b[0m \u001b[0;34m=\u001b[0m \u001b[0mself\u001b[0m\u001b[0;34m.\u001b[0m\u001b[0mforward_features\u001b[0m\u001b[0;34m(\u001b[0m\u001b[0mx\u001b[0m\u001b[0;34m)\u001b[0m\u001b[0;34m\u001b[0m\u001b[0;34m\u001b[0m\u001b[0m\n\u001b[0m\u001b[1;32m    376\u001b[0m         \u001b[0mx\u001b[0m \u001b[0;34m=\u001b[0m \u001b[0mself\u001b[0m\u001b[0;34m.\u001b[0m\u001b[0mhead\u001b[0m\u001b[0;34m(\u001b[0m\u001b[0mx\u001b[0m\u001b[0;34m)\u001b[0m\u001b[0;34m\u001b[0m\u001b[0;34m\u001b[0m\u001b[0m\n\u001b[1;32m    377\u001b[0m         \u001b[0;32mif\u001b[0m \u001b[0;32mnot\u001b[0m \u001b[0mself\u001b[0m\u001b[0;34m.\u001b[0m\u001b[0mhead\u001b[0m\u001b[0;34m.\u001b[0m\u001b[0mglobal_pool\u001b[0m\u001b[0;34m.\u001b[0m\u001b[0mis_identity\u001b[0m\u001b[0;34m(\u001b[0m\u001b[0;34m)\u001b[0m\u001b[0;34m:\u001b[0m\u001b[0;34m\u001b[0m\u001b[0;34m\u001b[0m\u001b[0m\n",
            "\u001b[0;32m/usr/local/lib/python3.7/dist-packages/timm-0.4.5-py3.7.egg/timm/models/resnetv2.py\u001b[0m in \u001b[0;36mforward_features\u001b[0;34m(self, x)\u001b[0m\n\u001b[1;32m    367\u001b[0m \u001b[0;34m\u001b[0m\u001b[0m\n\u001b[1;32m    368\u001b[0m     \u001b[0;32mdef\u001b[0m \u001b[0mforward_features\u001b[0m\u001b[0;34m(\u001b[0m\u001b[0mself\u001b[0m\u001b[0;34m,\u001b[0m \u001b[0mx\u001b[0m\u001b[0;34m)\u001b[0m\u001b[0;34m:\u001b[0m\u001b[0;34m\u001b[0m\u001b[0;34m\u001b[0m\u001b[0m\n\u001b[0;32m--> 369\u001b[0;31m         \u001b[0mx\u001b[0m \u001b[0;34m=\u001b[0m \u001b[0mself\u001b[0m\u001b[0;34m.\u001b[0m\u001b[0mstem\u001b[0m\u001b[0;34m(\u001b[0m\u001b[0mx\u001b[0m\u001b[0;34m)\u001b[0m\u001b[0;34m\u001b[0m\u001b[0;34m\u001b[0m\u001b[0m\n\u001b[0m\u001b[1;32m    370\u001b[0m         \u001b[0mx\u001b[0m \u001b[0;34m=\u001b[0m \u001b[0mself\u001b[0m\u001b[0;34m.\u001b[0m\u001b[0mstages\u001b[0m\u001b[0;34m(\u001b[0m\u001b[0mx\u001b[0m\u001b[0;34m)\u001b[0m\u001b[0;34m\u001b[0m\u001b[0;34m\u001b[0m\u001b[0m\n\u001b[1;32m    371\u001b[0m         \u001b[0mx\u001b[0m \u001b[0;34m=\u001b[0m \u001b[0mself\u001b[0m\u001b[0;34m.\u001b[0m\u001b[0mnorm\u001b[0m\u001b[0;34m(\u001b[0m\u001b[0mx\u001b[0m\u001b[0;34m)\u001b[0m\u001b[0;34m\u001b[0m\u001b[0;34m\u001b[0m\u001b[0m\n",
            "\u001b[0;32m/usr/local/lib/python3.7/dist-packages/torch/nn/modules/module.py\u001b[0m in \u001b[0;36m_call_impl\u001b[0;34m(self, *input, **kwargs)\u001b[0m\n\u001b[1;32m    887\u001b[0m             \u001b[0mresult\u001b[0m \u001b[0;34m=\u001b[0m \u001b[0mself\u001b[0m\u001b[0;34m.\u001b[0m\u001b[0m_slow_forward\u001b[0m\u001b[0;34m(\u001b[0m\u001b[0;34m*\u001b[0m\u001b[0minput\u001b[0m\u001b[0;34m,\u001b[0m \u001b[0;34m**\u001b[0m\u001b[0mkwargs\u001b[0m\u001b[0;34m)\u001b[0m\u001b[0;34m\u001b[0m\u001b[0;34m\u001b[0m\u001b[0m\n\u001b[1;32m    888\u001b[0m         \u001b[0;32melse\u001b[0m\u001b[0;34m:\u001b[0m\u001b[0;34m\u001b[0m\u001b[0;34m\u001b[0m\u001b[0m\n\u001b[0;32m--> 889\u001b[0;31m             \u001b[0mresult\u001b[0m \u001b[0;34m=\u001b[0m \u001b[0mself\u001b[0m\u001b[0;34m.\u001b[0m\u001b[0mforward\u001b[0m\u001b[0;34m(\u001b[0m\u001b[0;34m*\u001b[0m\u001b[0minput\u001b[0m\u001b[0;34m,\u001b[0m \u001b[0;34m**\u001b[0m\u001b[0mkwargs\u001b[0m\u001b[0;34m)\u001b[0m\u001b[0;34m\u001b[0m\u001b[0;34m\u001b[0m\u001b[0m\n\u001b[0m\u001b[1;32m    890\u001b[0m         for hook in itertools.chain(\n\u001b[1;32m    891\u001b[0m                 \u001b[0m_global_forward_hooks\u001b[0m\u001b[0;34m.\u001b[0m\u001b[0mvalues\u001b[0m\u001b[0;34m(\u001b[0m\u001b[0;34m)\u001b[0m\u001b[0;34m,\u001b[0m\u001b[0;34m\u001b[0m\u001b[0;34m\u001b[0m\u001b[0m\n",
            "\u001b[0;32m/usr/local/lib/python3.7/dist-packages/torch/nn/modules/container.py\u001b[0m in \u001b[0;36mforward\u001b[0;34m(self, input)\u001b[0m\n\u001b[1;32m    117\u001b[0m     \u001b[0;32mdef\u001b[0m \u001b[0mforward\u001b[0m\u001b[0;34m(\u001b[0m\u001b[0mself\u001b[0m\u001b[0;34m,\u001b[0m \u001b[0minput\u001b[0m\u001b[0;34m)\u001b[0m\u001b[0;34m:\u001b[0m\u001b[0;34m\u001b[0m\u001b[0;34m\u001b[0m\u001b[0m\n\u001b[1;32m    118\u001b[0m         \u001b[0;32mfor\u001b[0m \u001b[0mmodule\u001b[0m \u001b[0;32min\u001b[0m \u001b[0mself\u001b[0m\u001b[0;34m:\u001b[0m\u001b[0;34m\u001b[0m\u001b[0;34m\u001b[0m\u001b[0m\n\u001b[0;32m--> 119\u001b[0;31m             \u001b[0minput\u001b[0m \u001b[0;34m=\u001b[0m \u001b[0mmodule\u001b[0m\u001b[0;34m(\u001b[0m\u001b[0minput\u001b[0m\u001b[0;34m)\u001b[0m\u001b[0;34m\u001b[0m\u001b[0;34m\u001b[0m\u001b[0m\n\u001b[0m\u001b[1;32m    120\u001b[0m         \u001b[0;32mreturn\u001b[0m \u001b[0minput\u001b[0m\u001b[0;34m\u001b[0m\u001b[0;34m\u001b[0m\u001b[0m\n\u001b[1;32m    121\u001b[0m \u001b[0;34m\u001b[0m\u001b[0m\n",
            "\u001b[0;32m/usr/local/lib/python3.7/dist-packages/torch/nn/modules/module.py\u001b[0m in \u001b[0;36m_call_impl\u001b[0;34m(self, *input, **kwargs)\u001b[0m\n\u001b[1;32m    887\u001b[0m             \u001b[0mresult\u001b[0m \u001b[0;34m=\u001b[0m \u001b[0mself\u001b[0m\u001b[0;34m.\u001b[0m\u001b[0m_slow_forward\u001b[0m\u001b[0;34m(\u001b[0m\u001b[0;34m*\u001b[0m\u001b[0minput\u001b[0m\u001b[0;34m,\u001b[0m \u001b[0;34m**\u001b[0m\u001b[0mkwargs\u001b[0m\u001b[0;34m)\u001b[0m\u001b[0;34m\u001b[0m\u001b[0;34m\u001b[0m\u001b[0m\n\u001b[1;32m    888\u001b[0m         \u001b[0;32melse\u001b[0m\u001b[0;34m:\u001b[0m\u001b[0;34m\u001b[0m\u001b[0;34m\u001b[0m\u001b[0m\n\u001b[0;32m--> 889\u001b[0;31m             \u001b[0mresult\u001b[0m \u001b[0;34m=\u001b[0m \u001b[0mself\u001b[0m\u001b[0;34m.\u001b[0m\u001b[0mforward\u001b[0m\u001b[0;34m(\u001b[0m\u001b[0;34m*\u001b[0m\u001b[0minput\u001b[0m\u001b[0;34m,\u001b[0m \u001b[0;34m**\u001b[0m\u001b[0mkwargs\u001b[0m\u001b[0;34m)\u001b[0m\u001b[0;34m\u001b[0m\u001b[0;34m\u001b[0m\u001b[0m\n\u001b[0m\u001b[1;32m    890\u001b[0m         for hook in itertools.chain(\n\u001b[1;32m    891\u001b[0m                 \u001b[0m_global_forward_hooks\u001b[0m\u001b[0;34m.\u001b[0m\u001b[0mvalues\u001b[0m\u001b[0;34m(\u001b[0m\u001b[0;34m)\u001b[0m\u001b[0;34m,\u001b[0m\u001b[0;34m\u001b[0m\u001b[0;34m\u001b[0m\u001b[0m\n",
            "\u001b[0;32m/usr/local/lib/python3.7/dist-packages/timm-0.4.5-py3.7.egg/timm/models/layers/norm_act.py\u001b[0m in \u001b[0;36mforward\u001b[0;34m(self, x)\u001b[0m\n\u001b[1;32m     81\u001b[0m \u001b[0;34m\u001b[0m\u001b[0m\n\u001b[1;32m     82\u001b[0m     \u001b[0;32mdef\u001b[0m \u001b[0mforward\u001b[0m\u001b[0;34m(\u001b[0m\u001b[0mself\u001b[0m\u001b[0;34m,\u001b[0m \u001b[0mx\u001b[0m\u001b[0;34m)\u001b[0m\u001b[0;34m:\u001b[0m\u001b[0;34m\u001b[0m\u001b[0;34m\u001b[0m\u001b[0m\n\u001b[0;32m---> 83\u001b[0;31m         \u001b[0mx\u001b[0m \u001b[0;34m=\u001b[0m \u001b[0mF\u001b[0m\u001b[0;34m.\u001b[0m\u001b[0mgroup_norm\u001b[0m\u001b[0;34m(\u001b[0m\u001b[0mx\u001b[0m\u001b[0;34m,\u001b[0m \u001b[0mself\u001b[0m\u001b[0;34m.\u001b[0m\u001b[0mnum_groups\u001b[0m\u001b[0;34m,\u001b[0m \u001b[0mself\u001b[0m\u001b[0;34m.\u001b[0m\u001b[0mweight\u001b[0m\u001b[0;34m,\u001b[0m \u001b[0mself\u001b[0m\u001b[0;34m.\u001b[0m\u001b[0mbias\u001b[0m\u001b[0;34m,\u001b[0m \u001b[0mself\u001b[0m\u001b[0;34m.\u001b[0m\u001b[0meps\u001b[0m\u001b[0;34m)\u001b[0m\u001b[0;34m\u001b[0m\u001b[0;34m\u001b[0m\u001b[0m\n\u001b[0m\u001b[1;32m     84\u001b[0m         \u001b[0mx\u001b[0m \u001b[0;34m=\u001b[0m \u001b[0mself\u001b[0m\u001b[0;34m.\u001b[0m\u001b[0mact\u001b[0m\u001b[0;34m(\u001b[0m\u001b[0mx\u001b[0m\u001b[0;34m)\u001b[0m\u001b[0;34m\u001b[0m\u001b[0;34m\u001b[0m\u001b[0m\n\u001b[1;32m     85\u001b[0m         \u001b[0;32mreturn\u001b[0m \u001b[0mx\u001b[0m\u001b[0;34m\u001b[0m\u001b[0;34m\u001b[0m\u001b[0m\n",
            "\u001b[0;32m/usr/local/lib/python3.7/dist-packages/torch/nn/functional.py\u001b[0m in \u001b[0;36mgroup_norm\u001b[0;34m(input, num_groups, weight, bias, eps)\u001b[0m\n\u001b[1;32m   2213\u001b[0m         \u001b[0;32mreturn\u001b[0m \u001b[0mhandle_torch_function\u001b[0m\u001b[0;34m(\u001b[0m\u001b[0mgroup_norm\u001b[0m\u001b[0;34m,\u001b[0m \u001b[0;34m(\u001b[0m\u001b[0minput\u001b[0m\u001b[0;34m,\u001b[0m\u001b[0;34m)\u001b[0m\u001b[0;34m,\u001b[0m \u001b[0minput\u001b[0m\u001b[0;34m,\u001b[0m \u001b[0mnum_groups\u001b[0m\u001b[0;34m,\u001b[0m \u001b[0mweight\u001b[0m\u001b[0;34m=\u001b[0m\u001b[0mweight\u001b[0m\u001b[0;34m,\u001b[0m \u001b[0mbias\u001b[0m\u001b[0;34m=\u001b[0m\u001b[0mbias\u001b[0m\u001b[0;34m,\u001b[0m \u001b[0meps\u001b[0m\u001b[0;34m=\u001b[0m\u001b[0meps\u001b[0m\u001b[0;34m)\u001b[0m\u001b[0;34m\u001b[0m\u001b[0;34m\u001b[0m\u001b[0m\n\u001b[1;32m   2214\u001b[0m     \u001b[0m_verify_batch_size\u001b[0m\u001b[0;34m(\u001b[0m\u001b[0;34m[\u001b[0m\u001b[0minput\u001b[0m\u001b[0;34m.\u001b[0m\u001b[0msize\u001b[0m\u001b[0;34m(\u001b[0m\u001b[0;36m0\u001b[0m\u001b[0;34m)\u001b[0m \u001b[0;34m*\u001b[0m \u001b[0minput\u001b[0m\u001b[0;34m.\u001b[0m\u001b[0msize\u001b[0m\u001b[0;34m(\u001b[0m\u001b[0;36m1\u001b[0m\u001b[0;34m)\u001b[0m \u001b[0;34m//\u001b[0m \u001b[0mnum_groups\u001b[0m\u001b[0;34m,\u001b[0m \u001b[0mnum_groups\u001b[0m\u001b[0;34m]\u001b[0m \u001b[0;34m+\u001b[0m \u001b[0mlist\u001b[0m\u001b[0;34m(\u001b[0m\u001b[0minput\u001b[0m\u001b[0;34m.\u001b[0m\u001b[0msize\u001b[0m\u001b[0;34m(\u001b[0m\u001b[0;34m)\u001b[0m\u001b[0;34m[\u001b[0m\u001b[0;36m2\u001b[0m\u001b[0;34m:\u001b[0m\u001b[0;34m]\u001b[0m\u001b[0;34m)\u001b[0m\u001b[0;34m)\u001b[0m\u001b[0;34m\u001b[0m\u001b[0;34m\u001b[0m\u001b[0m\n\u001b[0;32m-> 2215\u001b[0;31m     \u001b[0;32mreturn\u001b[0m \u001b[0mtorch\u001b[0m\u001b[0;34m.\u001b[0m\u001b[0mgroup_norm\u001b[0m\u001b[0;34m(\u001b[0m\u001b[0minput\u001b[0m\u001b[0;34m,\u001b[0m \u001b[0mnum_groups\u001b[0m\u001b[0;34m,\u001b[0m \u001b[0mweight\u001b[0m\u001b[0;34m,\u001b[0m \u001b[0mbias\u001b[0m\u001b[0;34m,\u001b[0m \u001b[0meps\u001b[0m\u001b[0;34m,\u001b[0m \u001b[0mtorch\u001b[0m\u001b[0;34m.\u001b[0m\u001b[0mbackends\u001b[0m\u001b[0;34m.\u001b[0m\u001b[0mcudnn\u001b[0m\u001b[0;34m.\u001b[0m\u001b[0menabled\u001b[0m\u001b[0;34m)\u001b[0m\u001b[0;34m\u001b[0m\u001b[0;34m\u001b[0m\u001b[0m\n\u001b[0m\u001b[1;32m   2216\u001b[0m \u001b[0;34m\u001b[0m\u001b[0m\n\u001b[1;32m   2217\u001b[0m \u001b[0;34m\u001b[0m\u001b[0m\n",
            "\u001b[0;31mRuntimeError\u001b[0m: CUDA out of memory. Tried to allocate 98.00 MiB (GPU 0; 15.90 GiB total capacity; 14.78 GiB already allocated; 39.75 MiB free; 14.98 GiB reserved in total by PyTorch)"
          ]
        }
      ]
    },
    {
      "cell_type": "code",
      "metadata": {
        "colab": {
          "base_uri": "https://localhost:8080/",
          "height": 839
        },
        "id": "pOJuJWNTGKW8",
        "outputId": "b642391b-f0ab-4684-8f17-36dea57400bf"
      },
      "source": [
        "import matplotlib.pyplot as plt\n",
        "plt.style.use('ggplot')\n",
        "plt.figure(figsize=(10,7))\n",
        "plt.plot(train_losses,label='Training Loss')\n",
        "plt.plot(val_losses,label='Validation Loss')\n",
        "plt.legend()\n",
        "plt.show()\n",
        "\n",
        "plt.figure(figsize=(10,7))\n",
        "plt.plot(train_accs,label='Training Accuracy')\n",
        "plt.plot(val_accs,label='Validation Accuracy')\n",
        "plt.legend()\n",
        "plt.show()"
      ],
      "execution_count": null,
      "outputs": [
        {
          "output_type": "display_data",
          "data": {
            "image/png": "[encoded data removed]",
            "text/plain": [
              "<Figure size 720x504 with 1 Axes>"
            ]
          },
          "metadata": {
            "tags": []
          }
        },
        {
          "output_type": "display_data",
          "data": {
            "image/png": "[encoded data removed]",
            "text/plain": [
              "<Figure size 720x504 with 1 Axes>"
            ]
          },
          "metadata": {
            "tags": []
          }
        }
      ]
    },
    {
      "cell_type": "code",
      "metadata": {
        "colab": {
          "base_uri": "https://localhost:8080/"
        },
        "id": "ldmJkyZPGKW8",
        "outputId": "c1686fc9-aa71-4491-b8c6-349235fbe539"
      },
      "source": [
        "from sklearn.metrics import classification_report, confusion_matrix\n",
        "\n",
        "val_dataset = SpeciesDataset('/content/val.csv',transform=val_transformer)\n",
        "val_loader = torch.utils.data.DataLoader(val_dataset,batch_size=51)\n",
        "model.load_state_dict(torch.load('vit-resnet.bin'))\n",
        "model.cuda()\n",
        "with torch.no_grad():\n",
        "  image,target = next(iter(val_loader))\n",
        "  image = image.to(device)\n",
        "  target = target.flatten().to(device)\n",
        "\n",
        "  prediction = model(image)\n",
        "\n",
        "prediction = prediction.argmax(dim=1).view(target.size()).cpu().numpy()\n",
        "target = target.cpu().numpy()\n",
        "\n",
        "print(classification_report(target,prediction,target_names=val_dataset.LE.classes_))"
      ],
      "execution_count": null,
      "outputs": [
        {
          "output_type": "stream",
          "text": [
            "                           precision    recall  f1-score   support\n",
            "\n",
            "         Ancyclostoma sp.       1.00      0.50      0.67         2\n",
            "     Ascaris lumbricoides       1.00      1.00      1.00         4\n",
            "      Cryptosporidium sp.       1.00      1.00      1.00         2\n",
            "  Cyclospora cayetanensis       1.00      1.00      1.00         4\n",
            "  Dibothriocephalus latus       1.00      1.00      1.00         3\n",
            "   Entamoeba histolytica]       0.80      1.00      0.89         4\n",
            "  Enterobius vermicularis       0.50      0.50      0.50         2\n",
            "       Giardia duodenalis       1.00      0.75      0.86         4\n",
            "    Plasmodium falciparum       1.00      0.80      0.89         5\n",
            "      Plasmodium malariae       0.60      0.75      0.67         4\n",
            "         Plasmodium ovale       0.50      1.00      0.67         3\n",
            "         Plasmodium vivax       1.00      0.60      0.75         5\n",
            "          Sarcocystis sp.       1.00      1.00      1.00         2\n",
            "Strongyloides stercoralis       0.50      0.67      0.57         3\n",
            "           Toxocara canis       1.00      1.00      1.00         2\n",
            "      Trichuris Trichuria       1.00      0.50      0.67         2\n",
            "\n",
            "                 accuracy                           0.82        51\n",
            "                macro avg       0.87      0.82      0.82        51\n",
            "             weighted avg       0.87      0.82      0.83        51\n",
            "\n"
          ],
          "name": "stdout"
        }
      ]
    },
    {
      "cell_type": "code",
      "metadata": {
        "colab": {
          "base_uri": "https://localhost:8080/",
          "height": 546
        },
        "id": "fyKHP0L9GKW8",
        "outputId": "d8db8bba-f99a-4c0b-fd7a-8ef229331984"
      },
      "source": [
        "import seaborn as sn\n",
        "import pandas as pd\n",
        "import matplotlib.pyplot as plt\n",
        "confusion = confusion_matrix(target,prediction)\n",
        "df_cm = pd.DataFrame(confusion, index = val_dataset.LE.classes_,\n",
        "                  columns = val_dataset.LE.classes_)\n",
        "plt.figure(figsize = (10,7))\n",
        "sn.heatmap(df_cm, annot=True)\n",
        "plt.show()"
      ],
      "execution_count": null,
      "outputs": [
        {
          "output_type": "display_data",
          "data": {
            "image/png": "[encoded data removed]",
            "text/plain": [
              "<Figure size 720x504 with 2 Axes>"
            ]
          },
          "metadata": {
            "tags": []
          }
        }
      ]
    },
    {
      "cell_type": "code",
      "metadata": {
        "id": "F33zBEGolnnN"
      },
      "source": [
        ""
      ],
      "execution_count": null,
      "outputs": []
    }
  ]
}