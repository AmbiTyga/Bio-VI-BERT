{
  "nbformat": 4,
  "nbformat_minor": 0,
  "metadata": {
    "colab": {
      "name": "Data Augmentation and Generation",
      "provenance": [],
      "collapsed_sections": [],
      "machine_shape": "hm",
      "include_colab_link": true
    },
    "kernelspec": {
      "name": "python3",
      "display_name": "Python 3"
    }
  },
  "cells": [
    {
      "cell_type": "markdown",
      "metadata": {
        "id": "view-in-github",
        "colab_type": "text"
      },
      "source": [
        "<a href=\"https://colab.research.google.com/github/AmbiTyga/Bio-VI-BERT/blob/main/Data_Augmentation_and_Generation.ipynb\" target=\"_parent\"><img src=\"https://colab.research.google.com/assets/colab-badge.svg\" alt=\"Open In Colab\"/></a>"
      ]
    },
    {
      "cell_type": "code",
      "metadata": {
        "id": "Ujyd_pmrHjQV",
        "colab": {
          "base_uri": "https://localhost:8080/"
        },
        "outputId": "ef97c240-f72d-49b5-c030-bf0e484066f1"
      },
      "source": [
        "!wget https://raw.githubusercontent.com/AmbiTyga/Bio-VI-BERT/main/Parasite.7z\n",
        "!7z x /content/Parasite.7z"
      ],
      "execution_count": 1,
      "outputs": [
        {
          "output_type": "stream",
          "text": [
            "--2021-04-17 08:36:05--  https://raw.githubusercontent.com/AmbiTyga/Bio-VI-BERT/main/Parasite.7z\n",
            "Resolving raw.githubusercontent.com (raw.githubusercontent.com)... 185.199.108.133, 185.199.109.133, 185.199.110.133, ...\n",
            "Connecting to raw.githubusercontent.com (raw.githubusercontent.com)|185.199.108.133|:443... connected.\n",
            "HTTP request sent, awaiting response... 200 OK\n",
            "Length: 20003284 (19M) [application/octet-stream]\n",
            "Saving to: ‘Parasite.7z’\n",
            "\n",
            "Parasite.7z         100%[===================>]  19.08M   121MB/s    in 0.2s    \n",
            "\n",
            "2021-04-17 08:36:06 (121 MB/s) - ‘Parasite.7z’ saved [20003284/20003284]\n",
            "\n",
            "\n",
            "7-Zip [64] 16.02 : Copyright (c) 1999-2016 Igor Pavlov : 2016-05-21\n",
            "p7zip Version 16.02 (locale=en_US.UTF-8,Utf16=on,HugeFiles=on,64 bits,4 CPUs Intel(R) Xeon(R) CPU @ 2.00GHz (50653),ASM,AES-NI)\n",
            "\n",
            "Scanning the drive for archives:\n",
            "  0M Scan /content/\b\b\b\b\b\b\b\b\b\b\b\b\b\b\b\b\b\b\b                   \b\b\b\b\b\b\b\b\b\b\b\b\b\b\b\b\b\b\b1 file, 20003284 bytes (20 MiB)\n",
            "\n",
            "Extracting archive: /content/Parasite.7z\n",
            "--\n",
            "Path = /content/Parasite.7z\n",
            "Type = 7z\n",
            "Physical Size = 20003284\n",
            "Headers Size = 7315\n",
            "Method = LZMA2:24\n",
            "Solid = +\n",
            "Blocks = 1\n",
            "\n",
            "  0%\b\b\b\b    \b\b\b\b 15% 23 - Dataset/all_meta_data_updated.csv\b\b\b\b\b\b\b\b\b\b\b\b\b\b\b\b\b\b\b\b\b\b\b\b\b\b\b\b\b\b\b\b\b\b\b\b\b\b\b\b\b\b\b                                           \b\b\b\b\b\b\b\b\b\b\b\b\b\b\b\b\b\b\b\b\b\b\b\b\b\b\b\b\b\b\b\b\b\b\b\b\b\b\b\b\b\b\b 29% 112 - Dataset/Cryptosporidium/Cryptosporidium_sp6.jpg\b\b\b\b\b\b\b\b\b\b\b\b\b\b\b\b\b\b\b\b\b\b\b\b\b\b\b\b\b\b\b\b\b\b\b\b\b\b\b\b\b\b\b\b\b\b\b\b\b\b\b\b\b\b\b\b\b\b                                                          \b\b\b\b\b\b\b\b\b\b\b\b\b\b\b\b\b\b\b\b\b\b\b\b\b\b\b\b\b\b\b\b\b\b\b\b\b\b\b\b\b\b\b\b\b\b\b\b\b\b\b\b\b\b\b\b\b\b 49% 202 - Dataset/Echinococcus/EchinococcusCellNetix_D.jpg\b\b\b\b\b\b\b\b\b\b\b\b\b\b\b\b\b\b\b\b\b\b\b\b\b\b\b\b\b\b\b\b\b\b\b\b\b\b\b\b\b\b\b\b\b\b\b\b\b\b\b\b\b\b\b\b\b\b\b                                                           \b\b\b\b\b\b\b\b\b\b\b\b\b\b\b\b\b\b\b\b\b\b\b\b\b\b\b\b\b\b\b\b\b\b\b\b\b\b\b\b\b\b\b\b\b\b\b\b\b\b\b\b\b\b\b\b\b\b\b 67% 338 - Dataset/Plasmodium/Pf_MaurersC.jpg\b\b\b\b\b\b\b\b\b\b\b\b\b\b\b\b\b\b\b\b\b\b\b\b\b\b\b\b\b\b\b\b\b\b\b\b\b\b\b\b\b\b\b\b\b                                             \b\b\b\b\b\b\b\b\b\b\b\b\b\b\b\b\b\b\b\b\b\b\b\b\b\b\b\b\b\b\b\b\b\b\b\b\b\b\b\b\b\b\b\b\b 83% 438 - Dataset/Plasmodium/Po_schizont_thinB.jpg\b\b\b\b\b\b\b\b\b\b\b\b\b\b\b\b\b\b\b\b\b\b\b\b\b\b\b\b\b\b\b\b\b\b\b\b\b\b\b\b\b\b\b\b\b\b\b\b\b\b\b                                                   \b\b\b\b\b\b\b\b\b\b\b\b\b\b\b\b\b\b\b\b\b\b\b\b\b\b\b\b\b\b\b\b\b\b\b\b\b\b\b\b\b\b\b\b\b\b\b\b\b\b\b 99% 529 - Dataset/Strongyloides/S_stercoralis_rhabditoid_BAM10.jpg\b\b\b\b\b\b\b\b\b\b\b\b\b\b\b\b\b\b\b\b\b\b\b\b\b\b\b\b\b\b\b\b\b\b\b\b\b\b\b\b\b\b\b\b\b\b\b\b\b\b\b\b\b\b\b\b\b\b\b\b\b\b\b\b\b\b\b                                                                   \b\b\b\b\b\b\b\b\b\b\b\b\b\b\b\b\b\b\b\b\b\b\b\b\b\b\b\b\b\b\b\b\b\b\b\b\b\b\b\b\b\b\b\b\b\b\b\b\b\b\b\b\b\b\b\b\b\b\b\b\b\b\b\b\b\b\bEverything is Ok\n",
            "\n",
            "Folders: 23\n",
            "Files: 583\n",
            "Size:       24569789\n",
            "Compressed: 20003284\n"
          ],
          "name": "stdout"
        }
      ]
    },
    {
      "cell_type": "code",
      "metadata": {
        "id": "XvnR57p_gmWy"
      },
      "source": [
        "import pandas as pd\n",
        "from sklearn.model_selection import train_test_split\n",
        "import os\n",
        "\n",
        "import torchvision\n",
        "from PIL import Image"
      ],
      "execution_count": 1,
      "outputs": []
    },
    {
      "cell_type": "code",
      "metadata": {
        "id": "JB6vuTg5hB8v"
      },
      "source": [
        "data = pd.read_csv(\"/content/Dataset/all_meta_data_updated.csv\")"
      ],
      "execution_count": 32,
      "outputs": []
    },
    {
      "cell_type": "code",
      "metadata": {
        "id": "5cWeh3W-AV_V"
      },
      "source": [
        "data.species.value_counts()"
      ],
      "execution_count": null,
      "outputs": []
    },
    {
      "cell_type": "code",
      "metadata": {
        "id": "1iEnLB7VAvfo"
      },
      "source": [
        "data.species.replace({\"Hymenolepis diminuta\":\"Hymenolepis spp\",\n",
        "                    \"Hymenolepis nana\":\"Hymenolepis spp\",\n",
        "                    \"Taenia solium\":\"na\",\n",
        "                    \"Clonorchis sinensis\":\"na\",\n",
        "                    \"Trichinella sp.\":\"na\",\n",
        "                    \"B. coli\":\"na\",\n",
        "                    \"Toxoplasma gondii\":\"na\",\n",
        "                    },inplace = True)"
      ],
      "execution_count": 33,
      "outputs": []
    },
    {
      "cell_type": "code",
      "metadata": {
        "id": "A8IzgsLK2ZIv"
      },
      "source": [
        "data = data[data['species']!='na']"
      ],
      "execution_count": 34,
      "outputs": []
    },
    {
      "cell_type": "code",
      "metadata": {
        "id": "r-3DrjVFhv8a"
      },
      "source": [
        "data['phylum'].replace({'Roundworms':'Nematoda','Flatworm':'Platyhelminthes'},inplace = True)\n",
        "data['class'].replace({'\\tConoidasida':'Conoidasida','Tapeworms':'Cestoda'},inplace = True)\n",
        "data['species'].replace({'Entamoeba histolytica]':'Entamoeba histolytica'},inplace = True)\n",
        "data['form'].replace({'rings':'trophozoites','decorticated egg':'egg'},inplace = True)\n",
        "data['sample'].replace({'intestinal tissue':'intestine', 'intestine ':'intestine'},inplace = True)"
      ],
      "execution_count": 35,
      "outputs": []
    },
    {
      "cell_type": "code",
      "metadata": {
        "id": "dSN-p6sg2ewL"
      },
      "source": [
        ""
      ],
      "execution_count": null,
      "outputs": []
    },
    {
      "cell_type": "code",
      "metadata": {
        "id": "NGRo1k4ihHKW"
      },
      "source": [
        "# data = [x for _,x in data.groupby('sample') if len(x)>4]\n",
        "\n",
        "# data = pd.concat(data,ignore_index=True)\n",
        "# data = [x for _,x in data.groupby('sample') if len(x)>2]\n",
        "\n",
        "# data = pd.concat(data,ignore_index=True)\n",
        "data = [x for _,x in data.groupby([ 'sample','phylum', 'class', 'genus', 'species', 'form']) if x.shape[0]>4]\n",
        "\n",
        "data = pd.concat(data,ignore_index=True)\n"
      ],
      "execution_count": 36,
      "outputs": []
    },
    {
      "cell_type": "code",
      "metadata": {
        "id": "-514wy5IC6ly",
        "outputId": "b8ff01e5-0d27-4d7b-98b4-fc4b5198b4f3",
        "colab": {
          "base_uri": "https://localhost:8080/"
        }
      },
      "source": [
        "data.shape"
      ],
      "execution_count": 45,
      "outputs": [
        {
          "output_type": "execute_result",
          "data": {
            "text/plain": [
              "(387, 9)"
            ]
          },
          "metadata": {
            "tags": []
          },
          "execution_count": 45
        }
      ]
    },
    {
      "cell_type": "code",
      "metadata": {
        "id": "X_TBGtM5B53e"
      },
      "source": [
        ""
      ],
      "execution_count": 27,
      "outputs": []
    },
    {
      "cell_type": "code",
      "metadata": {
        "id": "EYkWg6IvgyPb",
        "colab": {
          "base_uri": "https://localhost:8080/"
        },
        "outputId": "e1b906c9-0056-4d05-a47a-b4d7889a6532"
      },
      "source": [
        "c = 'form'\n",
        "for i in range(20):\n",
        "  print(set(train[c].unique())-set(val[c].unique()))"
      ],
      "execution_count": 44,
      "outputs": [
        {
          "output_type": "stream",
          "text": [
            "set()\n",
            "set()\n",
            "set()\n",
            "set()\n",
            "set()\n",
            "set()\n",
            "set()\n",
            "set()\n",
            "set()\n",
            "set()\n",
            "set()\n",
            "set()\n",
            "set()\n",
            "set()\n",
            "set()\n",
            "set()\n",
            "set()\n",
            "set()\n",
            "set()\n",
            "set()\n"
          ],
          "name": "stdout"
        }
      ]
    },
    {
      "cell_type": "code",
      "metadata": {
        "id": "Acydyy1LRnnR"
      },
      "source": [
        "labels =['phylum', 'class', 'genus', 'species', 'form', 'sample']\n",
        "for col in labels:\n",
        "  train,test = train_test_split(data.copy(),test_size=0.25,stratify = data[col].copy())\n",
        "  print(50*'-'+col+50*'-')\n",
        "  for x in labels:\n",
        "    print(f\"{col} -> {x}\")\n",
        "    print(set(train[x].unique())-set(test[x].unique()))\n",
        "  del train,test"
      ],
      "execution_count": null,
      "outputs": []
    },
    {
      "cell_type": "code",
      "metadata": {
        "id": "yvJDPeERhgsA"
      },
      "source": [
        "train, val = train_test_split(\n",
        "    data, test_size=0.25, random_state=2021,stratify = data['class'])"
      ],
      "execution_count": 37,
      "outputs": []
    },
    {
      "cell_type": "code",
      "metadata": {
        "id": "uAfIwDvXikB4"
      },
      "source": [
        "\n",
        "for path in data['species'].unique():\n",
        "  os.makedirs(f\"/content/train/{path}\")\n",
        "\n",
        "\n",
        "for path in data['species'].unique():\n",
        "  os.makedirs(f\"/content/val/{path}\")"
      ],
      "execution_count": 46,
      "outputs": []
    },
    {
      "cell_type": "code",
      "metadata": {
        "id": "O-79Tk-nJzOp"
      },
      "source": [
        "!rm -r train val"
      ],
      "execution_count": null,
      "outputs": []
    },
    {
      "cell_type": "code",
      "metadata": {
        "id": "bT_WhR_7iftq"
      },
      "source": [
        "t = []\n",
        "t.append(torchvision.transforms.Compose([\n",
        "        torchvision.transforms.GaussianBlur(5),\n",
        "        torchvision.transforms.RandomPerspective(p=1)]))\n",
        "\n",
        "t.append(torchvision.transforms.Compose([\n",
        "        torchvision.transforms.GaussianBlur(5),\n",
        "        torchvision.transforms.RandomVerticalFlip(p=1)]))\n",
        "\n",
        "\n",
        "t.append(torchvision.transforms.Compose([\n",
        "        torchvision.transforms.Grayscale(3),\n",
        "        torchvision.transforms.RandomVerticalFlip(p=1)]))\n",
        "\n",
        "t.append(torchvision.transforms.Compose([\n",
        "        torchvision.transforms.Grayscale(3),\n",
        "        torchvision.transforms.RandomPerspective(p=1)]))"
      ],
      "execution_count": 47,
      "outputs": []
    },
    {
      "cell_type": "code",
      "metadata": {
        "id": "PBRaMlky3T6n",
        "colab": {
          "base_uri": "https://localhost:8080/",
          "height": 299
        },
        "outputId": "1400e295-08e2-435d-90f1-da1c47aea6dc"
      },
      "source": [
        "data.head()"
      ],
      "execution_count": null,
      "outputs": [
        {
          "output_type": "execute_result",
          "data": {
            "text/html": [
              "<div>\n",
              "<style scoped>\n",
              "    .dataframe tbody tr th:only-of-type {\n",
              "        vertical-align: middle;\n",
              "    }\n",
              "\n",
              "    .dataframe tbody tr th {\n",
              "        vertical-align: top;\n",
              "    }\n",
              "\n",
              "    .dataframe thead th {\n",
              "        text-align: right;\n",
              "    }\n",
              "</style>\n",
              "<table border=\"1\" class=\"dataframe\">\n",
              "  <thead>\n",
              "    <tr style=\"text-align: right;\">\n",
              "      <th></th>\n",
              "      <th>phylum</th>\n",
              "      <th>class</th>\n",
              "      <th>genus</th>\n",
              "      <th>species</th>\n",
              "      <th>form</th>\n",
              "      <th>sample</th>\n",
              "      <th>image_name</th>\n",
              "      <th>image_url</th>\n",
              "      <th>img_path</th>\n",
              "    </tr>\n",
              "  </thead>\n",
              "  <tbody>\n",
              "    <tr>\n",
              "      <th>0</th>\n",
              "      <td>Nematoda</td>\n",
              "      <td>Chromadorea</td>\n",
              "      <td>Ancylostoma</td>\n",
              "      <td>Ancyclostoma sp</td>\n",
              "      <td>adult</td>\n",
              "      <td>intestine</td>\n",
              "      <td>Aduodenale_head_A.jpg</td>\n",
              "      <td>https://www.cdc.gov//dpdx/hookworm/images/4/Ad...</td>\n",
              "      <td>./Dataset/Ancylostoma/Aduodenale_head_A.jpg</td>\n",
              "    </tr>\n",
              "    <tr>\n",
              "      <th>1</th>\n",
              "      <td>Nematoda</td>\n",
              "      <td>Chromadorea</td>\n",
              "      <td>Ancylostoma</td>\n",
              "      <td>Ancyclostoma sp</td>\n",
              "      <td>adult</td>\n",
              "      <td>intestine</td>\n",
              "      <td>Namericanus_head_B.jpg</td>\n",
              "      <td>https://www.cdc.gov//dpdx/hookworm/images/4/Na...</td>\n",
              "      <td>./Dataset/Ancylostoma/Namericanus_head_B.jpg</td>\n",
              "    </tr>\n",
              "    <tr>\n",
              "      <th>2</th>\n",
              "      <td>Nematoda</td>\n",
              "      <td>Chromadorea</td>\n",
              "      <td>Ancylostoma</td>\n",
              "      <td>Ancyclostoma sp</td>\n",
              "      <td>adult</td>\n",
              "      <td>intestine</td>\n",
              "      <td>Hookworm_tissue_BAM1.jpg</td>\n",
              "      <td>https://www.cdc.gov//dpdx/hookworm/images/5/Ho...</td>\n",
              "      <td>./Dataset/Ancylostoma/Hookworm_tissue_BAM1.jpg</td>\n",
              "    </tr>\n",
              "    <tr>\n",
              "      <th>3</th>\n",
              "      <td>Nematoda</td>\n",
              "      <td>Chromadorea</td>\n",
              "      <td>Ancylostoma</td>\n",
              "      <td>Ancyclostoma sp</td>\n",
              "      <td>adult</td>\n",
              "      <td>intestine</td>\n",
              "      <td>Hookworm_tissue_BAM2.jpg</td>\n",
              "      <td>https://www.cdc.gov//dpdx/hookworm/images/5/Ho...</td>\n",
              "      <td>./Dataset/Ancylostoma/Hookworm_tissue_BAM2.jpg</td>\n",
              "    </tr>\n",
              "    <tr>\n",
              "      <th>4</th>\n",
              "      <td>Nematoda</td>\n",
              "      <td>Chromadorea</td>\n",
              "      <td>Ancylostoma</td>\n",
              "      <td>Ancyclostoma sp</td>\n",
              "      <td>adult</td>\n",
              "      <td>intestine</td>\n",
              "      <td>Hookworm_tissue_BAM3.jpg</td>\n",
              "      <td>https://www.cdc.gov//dpdx/hookworm/images/5/Ho...</td>\n",
              "      <td>./Dataset/Ancylostoma/Hookworm_tissue_BAM3.jpg</td>\n",
              "    </tr>\n",
              "  </tbody>\n",
              "</table>\n",
              "</div>"
            ],
            "text/plain": [
              "     phylum  ...                                        img_path\n",
              "0  Nematoda  ...     ./Dataset/Ancylostoma/Aduodenale_head_A.jpg\n",
              "1  Nematoda  ...    ./Dataset/Ancylostoma/Namericanus_head_B.jpg\n",
              "2  Nematoda  ...  ./Dataset/Ancylostoma/Hookworm_tissue_BAM1.jpg\n",
              "3  Nematoda  ...  ./Dataset/Ancylostoma/Hookworm_tissue_BAM2.jpg\n",
              "4  Nematoda  ...  ./Dataset/Ancylostoma/Hookworm_tissue_BAM3.jpg\n",
              "\n",
              "[5 rows x 9 columns]"
            ]
          },
          "metadata": {
            "tags": []
          },
          "execution_count": 18
        }
      ]
    },
    {
      "cell_type": "code",
      "metadata": {
        "id": "WSjXpnmKh9tK"
      },
      "source": [
        "def transform_save(data,index,folder):\n",
        "  img = Image.open(data[8])\n",
        "  images = [img]\n",
        "  images.extend([T(img) for T in t])\n",
        "  image_name = data[6].split('.')[0]\n",
        "  for i, image in enumerate(images):\n",
        "    image.convert('RGB').save(f\"/content/{folder}/{data[3]}/{image_name}_{i}_{index}.jpg\")\n",
        "  values = [[data[0],data[1],data[2],data[3],data[4],data[5],f\"./{folder}/{data[3]}/{image_name}_{i}_{index}.jpg\"] for i in range(len(images))]\n",
        "  return values\n",
        "\n",
        "\n",
        "def get_dataframe(dataframe,folder = 'train'):\n",
        "  new = []\n",
        "  for i in dataframe.index:\n",
        "    new.extend(transform_save(dataframe.loc[i,:].values,index =i,folder=folder))\n",
        "  return pd.DataFrame(new,columns=['phylum','class','genus','species','form','sample','img_path'])"
      ],
      "execution_count": 48,
      "outputs": []
    },
    {
      "cell_type": "code",
      "metadata": {
        "id": "jmX2igYlHKko"
      },
      "source": [
        "\n",
        "def get_val_dataframe(dataframe):\n",
        "  new = []\n",
        "  \n",
        "  for data in dataframe.values:\n",
        "    new.append([data[0],data[1],data[2],data[3],data[4],data[5],copyfile(data[8],f\"./val/{data[3]}/{data[6]}.jpg\")])\n",
        "  return pd.DataFrame(new,columns=['phylum','class','genus','species','form','sample','img_path'])"
      ],
      "execution_count": null,
      "outputs": []
    },
    {
      "cell_type": "code",
      "metadata": {
        "id": "RvTJb66g57Ez",
        "colab": {
          "base_uri": "https://localhost:8080/"
        },
        "outputId": "2c22471b-1fa6-4a04-c0c6-a5902afb9902"
      },
      "source": [
        "data.shape[0]*5/4"
      ],
      "execution_count": null,
      "outputs": [
        {
          "output_type": "execute_result",
          "data": {
            "text/plain": [
              "555.0"
            ]
          },
          "metadata": {
            "tags": []
          },
          "execution_count": 45
        }
      ]
    },
    {
      "cell_type": "code",
      "metadata": {
        "id": "P2dhnhkbi2YD"
      },
      "source": [
        "train = get_dataframe(train)"
      ],
      "execution_count": 49,
      "outputs": []
    },
    {
      "cell_type": "code",
      "metadata": {
        "id": "M2NhlqOwjQus"
      },
      "source": [
        "val = get_dataframe(val,folder = 'val')"
      ],
      "execution_count": 50,
      "outputs": []
    },
    {
      "cell_type": "code",
      "metadata": {
        "id": "2L4PsAnAjccE"
      },
      "source": [
        "train.to_csv('/content/train/train.csv',index = False)\n",
        "val.to_csv('/content/val/val.csv',index = False)"
      ],
      "execution_count": 51,
      "outputs": []
    },
    {
      "cell_type": "code",
      "metadata": {
        "id": "NxKLjSb3DGnN",
        "outputId": "b70543d4-c53a-4845-df1b-220b9e1f23f7",
        "colab": {
          "base_uri": "https://localhost:8080/"
        }
      },
      "source": [
        "labels =['phylum', 'class', 'genus', 'species', 'form', 'sample']\n",
        "for c in labels:\n",
        "  print(set(val[c].unique())-set(train[c].unique()))"
      ],
      "execution_count": 56,
      "outputs": [
        {
          "output_type": "stream",
          "text": [
            "set()\n",
            "set()\n",
            "set()\n",
            "set()\n",
            "set()\n",
            "set()\n"
          ],
          "name": "stdout"
        }
      ]
    },
    {
      "cell_type": "code",
      "metadata": {
        "id": "WIcm-djqkERM",
        "colab": {
          "base_uri": "https://localhost:8080/"
        },
        "outputId": "ad8aa367-a293-4628-bc3b-ba511631fde6"
      },
      "source": [
        "!7z a Train.7z train\n",
        "!7z a Val.7z val"
      ],
      "execution_count": 52,
      "outputs": [
        {
          "output_type": "stream",
          "text": [
            "\n",
            "7-Zip [64] 16.02 : Copyright (c) 1999-2016 Igor Pavlov : 2016-05-21\n",
            "p7zip Version 16.02 (locale=en_US.UTF-8,Utf16=on,HugeFiles=on,64 bits,4 CPUs Intel(R) Xeon(R) CPU @ 2.00GHz (50653),ASM,AES-NI)\n",
            "\n",
            "Scanning the drive:\n",
            "  0M Scan \b\b\b\b\b\b\b\b\b\b          \b\b\b\b\b\b\b\b\b\b20 folders, 1451 files, 14788717 bytes (15 MiB)\n",
            "\n",
            "Creating archive: Train.7z\n",
            "\n",
            "Items to compress: 1471\n",
            "\n",
            "  0%\b\b\b\b    \b\b\b\b  7% 150 + train/Cryptosporidium sp./Cparvum_trichrome2_BAM_0_142.jpg\b\b\b\b\b\b\b\b\b\b\b\b\b\b\b\b\b\b\b\b\b\b\b\b\b\b\b\b\b\b\b\b\b\b\b\b\b\b\b\b\b\b\b\b\b\b\b\b\b\b\b\b\b\b\b\b\b\b\b\b\b\b\b\b\b\b\b\b\b                                                                     \b\b\b\b\b\b\b\b\b\b\b\b\b\b\b\b\b\b\b\b\b\b\b\b\b\b\b\b\b\b\b\b\b\b\b\b\b\b\b\b\b\b\b\b\b\b\b\b\b\b\b\b\b\b\b\b\b\b\b\b\b\b\b\b\b\b\b\b\b 15% 286 + train/Cyclospora cayetanensis/Cyclospora_UV_Mike3_1_162.jpg\b\b\b\b\b\b\b\b\b\b\b\b\b\b\b\b\b\b\b\b\b\b\b\b\b\b\b\b\b\b\b\b\b\b\b\b\b\b\b\b\b\b\b\b\b\b\b\b\b\b\b\b\b\b\b\b\b\b\b\b\b\b\b\b\b\b\b\b\b\b                                                                      \b\b\b\b\b\b\b\b\b\b\b\b\b\b\b\b\b\b\b\b\b\b\b\b\b\b\b\b\b\b\b\b\b\b\b\b\b\b\b\b\b\b\b\b\b\b\b\b\b\b\b\b\b\b\b\b\b\b\b\b\b\b\b\b\b\b\b\b\b\b 24% 397 + train/Echinococcus granulosus/EchinococcusCellNetix_F_2_318.jpg\b\b\b\b\b\b\b\b\b\b\b\b\b\b\b\b\b\b\b\b\b\b\b\b\b\b\b\b\b\b\b\b\b\b\b\b\b\b\b\b\b\b\b\b\b\b\b\b\b\b\b\b\b\b\b\b\b\b\b\b\b\b\b\b\b\b\b\b\b\b\b\b\b\b                                                                          \b\b\b\b\b\b\b\b\b\b\b\b\b\b\b\b\b\b\b\b\b\b\b\b\b\b\b\b\b\b\b\b\b\b\b\b\b\b\b\b\b\b\b\b\b\b\b\b\b\b\b\b\b\b\b\b\b\b\b\b\b\b\b\b\b\b\b\b\b\b\b\b\b\b 33% 505 + train/Enterobius vermicularis/E_vermicularis_eggs_tissue1_0_285.jpg\b\b\b\b\b\b\b\b\b\b\b\b\b\b\b\b\b\b\b\b\b\b\b\b\b\b\b\b\b\b\b\b\b\b\b\b\b\b\b\b\b\b\b\b\b\b\b\b\b\b\b\b\b\b\b\b\b\b\b\b\b\b\b\b\b\b\b\b\b\b\b\b\b\b\b\b\b\b                                                                              \b\b\b\b\b\b\b\b\b\b\b\b\b\b\b\b\b\b\b\b\b\b\b\b\b\b\b\b\b\b\b\b\b\b\b\b\b\b\b\b\b\b\b\b\b\b\b\b\b\b\b\b\b\b\b\b\b\b\b\b\b\b\b\b\b\b\b\b\b\b\b\b\b\b\b\b\b\b 41% 616 + train/Giardia duodenalis/Giardia_cyst_tric7_1_375.jpg\b\b\b\b\b\b\b\b\b\b\b\b\b\b\b\b\b\b\b\b\b\b\b\b\b\b\b\b\b\b\b\b\b\b\b\b\b\b\b\b\b\b\b\b\b\b\b\b\b\b\b\b\b\b\b\b\b\b\b\b\b\b\b\b                                                                \b\b\b\b\b\b\b\b\b\b\b\b\b\b\b\b\b\b\b\b\b\b\b\b\b\b\b\b\b\b\b\b\b\b\b\b\b\b\b\b\b\b\b\b\b\b\b\b\b\b\b\b\b\b\b\b\b\b\b\b\b\b\b\b 49% 746 + train/Hymenolepis spp/Hnana_egg_tric_OR_1_252.jpg\b\b\b\b\b\b\b\b\b\b\b\b\b\b\b\b\b\b\b\b\b\b\b\b\b\b\b\b\b\b\b\b\b\b\b\b\b\b\b\b\b\b\b\b\b\b\b\b\b\b\b\b\b\b\b\b\b\b\b\b                                                            \b\b\b\b\b\b\b\b\b\b\b\b\b\b\b\b\b\b\b\b\b\b\b\b\b\b\b\b\b\b\b\b\b\b\b\b\b\b\b\b\b\b\b\b\b\b\b\b\b\b\b\b\b\b\b\b\b\b\b\b 58% 889 + train/Plasmodium knowlesi/Pk_rings_thin_NY3_4_42.jpg\b\b\b\b\b\b\b\b\b\b\b\b\b\b\b\b\b\b\b\b\b\b\b\b\b\b\b\b\b\b\b\b\b\b\b\b\b\b\b\b\b\b\b\b\b\b\b\b\b\b\b\b\b\b\b\b\b\b\b\b\b\b\b                                                               \b\b\b\b\b\b\b\b\b\b\b\b\b\b\b\b\b\b\b\b\b\b\b\b\b\b\b\b\b\b\b\b\b\b\b\b\b\b\b\b\b\b\b\b\b\b\b\b\b\b\b\b\b\b\b\b\b\b\b\b\b\b\b 65% 1018 + train/Plasmodium malariae/Pm_schizont_thinD_3_61.jpg\b\b\b\b\b\b\b\b\b\b\b\b\b\b\b\b\b\b\b\b\b\b\b\b\b\b\b\b\b\b\b\b\b\b\b\b\b\b\b\b\b\b\b\b\b\b\b\b\b\b\b\b\b\b\b\b\b\b\b\b\b\b\b\b                                                                \b\b\b\b\b\b\b\b\b\b\b\b\b\b\b\b\b\b\b\b\b\b\b\b\b\b\b\b\b\b\b\b\b\b\b\b\b\b\b\b\b\b\b\b\b\b\b\b\b\b\b\b\b\b\b\b\b\b\b\b\b\b\b\b 73% 1161 + train/Plasmodium vivax/Pv_ookinete_thickB_1_113.jpg\b\b\b\b\b\b\b\b\b\b\b\b\b\b\b\b\b\b\b\b\b\b\b\b\b\b\b\b\b\b\b\b\b\b\b\b\b\b\b\b\b\b\b\b\b\b\b\b\b\b\b\b\b\b\b\b\b\b\b\b\b\b\b                                                               \b\b\b\b\b\b\b\b\b\b\b\b\b\b\b\b\b\b\b\b\b\b\b\b\b\b\b\b\b\b\b\b\b\b\b\b\b\b\b\b\b\b\b\b\b\b\b\b\b\b\b\b\b\b\b\b\b\b\b\b\b\b\b 82% 1290 + train/Sarcocystis sp./Sarcocystis_UV1_400x_0_357.jpg\b\b\b\b\b\b\b\b\b\b\b\b\b\b\b\b\b\b\b\b\b\b\b\b\b\b\b\b\b\b\b\b\b\b\b\b\b\b\b\b\b\b\b\b\b\b\b\b\b\b\b\b\b\b\b\b\b\b\b\b\b\b\b\b                                                                \b\b\b\b\b\b\b\b\b\b\b\b\b\b\b\b\b\b\b\b\b\b\b\b\b\b\b\b\b\b\b\b\b\b\b\b\b\b\b\b\b\b\b\b\b\b\b\b\b\b\b\b\b\b\b\b\b\b\b\b\b\b\b\b 90% 1397 + train/Trichuris Trichuria/T_trichiura_adult_HB3_2_301.jpg\b\b\b\b\b\b\b\b\b\b\b\b\b\b\b\b\b\b\b\b\b\b\b\b\b\b\b\b\b\b\b\b\b\b\b\b\b\b\b\b\b\b\b\b\b\b\b\b\b\b\b\b\b\b\b\b\b\b\b\b\b\b\b\b\b\b\b\b\b                                                                     \b\b\b\b\b\b\b\b\b\b\b\b\b\b\b\b\b\b\b\b\b\b\b\b\b\b\b\b\b\b\b\b\b\b\b\b\b\b\b\b\b\b\b\b\b\b\b\b\b\b\b\b\b\b\b\b\b\b\b\b\b\b\b\b\b\b\b\b\b100% 1451 + train/train.csv\b\b\b\b\b\b\b\b\b\b\b\b\b\b\b\b\b\b\b\b\b\b\b\b\b\b\b                           \b\b\b\b\b\b\b\b\b\b\b\b\b\b\b\b\b\b\b\b\b\b\b\b\b\b\b\n",
            "Files read from disk: 1451\n",
            "Archive size: 13127696 bytes (13 MiB)\n",
            "Everything is Ok\n",
            "\n",
            "7-Zip [64] 16.02 : Copyright (c) 1999-2016 Igor Pavlov : 2016-05-21\n",
            "p7zip Version 16.02 (locale=en_US.UTF-8,Utf16=on,HugeFiles=on,64 bits,4 CPUs Intel(R) Xeon(R) CPU @ 2.00GHz (50653),ASM,AES-NI)\n",
            "\n",
            "Scanning the drive:\n",
            "  0M Scan \b\b\b\b\b\b\b\b\b\b          \b\b\b\b\b\b\b\b\b\b20 folders, 486 files, 4971569 bytes (4856 KiB)\n",
            "\n",
            "Creating archive: Val.7z\n",
            "\n",
            "Items to compress: 506\n",
            "\n",
            "  0%\b\b\b\b    \b\b\b\b 25% 200 + val/Giardia duodenalis/Giardia_cyst_dic2_0_367.jpg\b\b\b\b\b\b\b\b\b\b\b\b\b\b\b\b\b\b\b\b\b\b\b\b\b\b\b\b\b\b\b\b\b\b\b\b\b\b\b\b\b\b\b\b\b\b\b\b\b\b\b\b\b\b\b\b\b\b\b\b\b                                                             \b\b\b\b\b\b\b\b\b\b\b\b\b\b\b\b\b\b\b\b\b\b\b\b\b\b\b\b\b\b\b\b\b\b\b\b\b\b\b\b\b\b\b\b\b\b\b\b\b\b\b\b\b\b\b\b\b\b\b\b\b 49% 337 + val/Plasmodium malariae/Pm_schizont_thickA_2_52.jpg\b\b\b\b\b\b\b\b\b\b\b\b\b\b\b\b\b\b\b\b\b\b\b\b\b\b\b\b\b\b\b\b\b\b\b\b\b\b\b\b\b\b\b\b\b\b\b\b\b\b\b\b\b\b\b\b\b\b\b\b\b\b                                                              \b\b\b\b\b\b\b\b\b\b\b\b\b\b\b\b\b\b\b\b\b\b\b\b\b\b\b\b\b\b\b\b\b\b\b\b\b\b\b\b\b\b\b\b\b\b\b\b\b\b\b\b\b\b\b\b\b\b\b\b\b\b 75% 468 + val/Trichuris Trichuria/T_trichiura_CHA_C_3_295.jpg\b\b\b\b\b\b\b\b\b\b\b\b\b\b\b\b\b\b\b\b\b\b\b\b\b\b\b\b\b\b\b\b\b\b\b\b\b\b\b\b\b\b\b\b\b\b\b\b\b\b\b\b\b\b\b\b\b\b\b\b\b\b                                                              \b\b\b\b\b\b\b\b\b\b\b\b\b\b\b\b\b\b\b\b\b\b\b\b\b\b\b\b\b\b\b\b\b\b\b\b\b\b\b\b\b\b\b\b\b\b\b\b\b\b\b\b\b\b\b\b\b\b\b\b\b\b\n",
            "Files read from disk: 486\n",
            "Archive size: 4446959 bytes (4343 KiB)\n",
            "Everything is Ok\n"
          ],
          "name": "stdout"
        }
      ]
    },
    {
      "cell_type": "code",
      "metadata": {
        "id": "5sape2Dolcwc",
        "colab": {
          "base_uri": "https://localhost:8080/"
        },
        "outputId": "ae89c229-38b4-424c-cb5f-788f96602dc6"
      },
      "source": [
        ""
      ],
      "execution_count": 11,
      "outputs": [
        {
          "output_type": "execute_result",
          "data": {
            "text/plain": [
              "{'liver'}"
            ]
          },
          "metadata": {
            "tags": []
          },
          "execution_count": 11
        }
      ]
    },
    {
      "cell_type": "code",
      "metadata": {
        "id": "9Yx8AsTtRZHn",
        "colab": {
          "base_uri": "https://localhost:8080/"
        },
        "outputId": "f517d585-33d7-4a3e-d6f0-8acd2a3eb3e5"
      },
      "source": [
        ""
      ],
      "execution_count": 14,
      "outputs": [
        {
          "output_type": "stream",
          "text": [
            "{'liver', 'na'}\n",
            "{'liver', 'na'}\n",
            "{'liver', 'na'}\n",
            "{'liver', 'na'}\n",
            "{'liver', 'na'}\n",
            "{'liver', 'na'}\n",
            "{'liver', 'na'}\n",
            "{'liver', 'na'}\n",
            "{'liver', 'na'}\n",
            "{'liver', 'na'}\n",
            "{'liver', 'na'}\n",
            "{'liver', 'na'}\n",
            "{'liver', 'na'}\n",
            "{'liver', 'na'}\n",
            "{'liver', 'na'}\n",
            "{'liver', 'na'}\n",
            "{'liver', 'na'}\n",
            "{'liver', 'na'}\n",
            "{'liver', 'na'}\n",
            "{'liver', 'na'}\n"
          ],
          "name": "stdout"
        }
      ]
    }
  ]
}