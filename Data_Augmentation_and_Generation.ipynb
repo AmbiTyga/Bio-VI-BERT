{
  "nbformat": 4,
  "nbformat_minor": 0,
  "metadata": {
    "colab": {
      "name": "Data Augmentation and Generation",
      "provenance": [],
      "collapsed_sections": [],
      "machine_shape": "hm",
      "include_colab_link": true
    },
    "kernelspec": {
      "name": "python3",
      "display_name": "Python 3"
    }
  },
  "cells": [
    {
      "cell_type": "markdown",
      "metadata": {
        "id": "view-in-github",
        "colab_type": "text"
      },
      "source": [
        "<a href=\"https://colab.research.google.com/github/AmbiTyga/Bio-VI-BERT/blob/main/Data_Augmentation_and_Generation.ipynb\" target=\"_parent\"><img src=\"https://colab.research.google.com/assets/colab-badge.svg\" alt=\"Open In Colab\"/></a>"
      ]
    },
    {
      "cell_type": "code",
      "metadata": {
        "id": "Ujyd_pmrHjQV",
        "colab": {
          "base_uri": "https://localhost:8080/"
        },
        "outputId": "658b51a7-796b-4f08-9da9-dda66b0ea918"
      },
      "source": [
        "!wget https://raw.githubusercontent.com/AmbiTyga/Bio-VI-BERT/main/Parasite.7z\n",
        "!7z x /content/Parasite.7z"
      ],
      "execution_count": 1,
      "outputs": [
        {
          "output_type": "stream",
          "text": [
            "--2021-04-17 07:28:41--  https://raw.githubusercontent.com/AmbiTyga/Bio-VI-BERT/main/Parasite.7z\n",
            "Resolving raw.githubusercontent.com (raw.githubusercontent.com)... 185.199.108.133, 185.199.109.133, 185.199.110.133, ...\n",
            "Connecting to raw.githubusercontent.com (raw.githubusercontent.com)|185.199.108.133|:443... connected.\n",
            "HTTP request sent, awaiting response... 200 OK\n",
            "Length: 20003284 (19M) [application/octet-stream]\n",
            "Saving to: ‘Parasite.7z’\n",
            "\n",
            "Parasite.7z         100%[===================>]  19.08M  33.2MB/s    in 0.6s    \n",
            "\n",
            "2021-04-17 07:28:42 (33.2 MB/s) - ‘Parasite.7z’ saved [20003284/20003284]\n",
            "\n",
            "\n",
            "7-Zip [64] 16.02 : Copyright (c) 1999-2016 Igor Pavlov : 2016-05-21\n",
            "p7zip Version 16.02 (locale=en_US.UTF-8,Utf16=on,HugeFiles=on,64 bits,4 CPUs Intel(R) Xeon(R) CPU @ 2.30GHz (306F0),ASM,AES-NI)\n",
            "\n",
            "Scanning the drive for archives:\n",
            "  0M Scan /content/\b\b\b\b\b\b\b\b\b\b\b\b\b\b\b\b\b\b\b                   \b\b\b\b\b\b\b\b\b\b\b\b\b\b\b\b\b\b\b1 file, 20003284 bytes (20 MiB)\n",
            "\n",
            "Extracting archive: /content/Parasite.7z\n",
            "--\n",
            "Path = /content/Parasite.7z\n",
            "Type = 7z\n",
            "Physical Size = 20003284\n",
            "Headers Size = 7315\n",
            "Method = LZMA2:24\n",
            "Solid = +\n",
            "Blocks = 1\n",
            "\n",
            "  0%\b\b\b\b    \b\b\b\b 15% 23 - Dataset/all_meta_data_updated.csv\b\b\b\b\b\b\b\b\b\b\b\b\b\b\b\b\b\b\b\b\b\b\b\b\b\b\b\b\b\b\b\b\b\b\b\b\b\b\b\b\b\b\b                                           \b\b\b\b\b\b\b\b\b\b\b\b\b\b\b\b\b\b\b\b\b\b\b\b\b\b\b\b\b\b\b\b\b\b\b\b\b\b\b\b\b\b\b 29% 112 - Dataset/Cryptosporidium/Cryptosporidium_sp6.jpg\b\b\b\b\b\b\b\b\b\b\b\b\b\b\b\b\b\b\b\b\b\b\b\b\b\b\b\b\b\b\b\b\b\b\b\b\b\b\b\b\b\b\b\b\b\b\b\b\b\b\b\b\b\b\b\b\b\b                                                          \b\b\b\b\b\b\b\b\b\b\b\b\b\b\b\b\b\b\b\b\b\b\b\b\b\b\b\b\b\b\b\b\b\b\b\b\b\b\b\b\b\b\b\b\b\b\b\b\b\b\b\b\b\b\b\b\b\b 49% 202 - Dataset/Echinococcus/EchinococcusCellNetix_D.jpg\b\b\b\b\b\b\b\b\b\b\b\b\b\b\b\b\b\b\b\b\b\b\b\b\b\b\b\b\b\b\b\b\b\b\b\b\b\b\b\b\b\b\b\b\b\b\b\b\b\b\b\b\b\b\b\b\b\b\b                                                           \b\b\b\b\b\b\b\b\b\b\b\b\b\b\b\b\b\b\b\b\b\b\b\b\b\b\b\b\b\b\b\b\b\b\b\b\b\b\b\b\b\b\b\b\b\b\b\b\b\b\b\b\b\b\b\b\b\b\b 67% 338 - Dataset/Plasmodium/Pf_MaurersC.jpg\b\b\b\b\b\b\b\b\b\b\b\b\b\b\b\b\b\b\b\b\b\b\b\b\b\b\b\b\b\b\b\b\b\b\b\b\b\b\b\b\b\b\b\b\b                                             \b\b\b\b\b\b\b\b\b\b\b\b\b\b\b\b\b\b\b\b\b\b\b\b\b\b\b\b\b\b\b\b\b\b\b\b\b\b\b\b\b\b\b\b\b 83% 438 - Dataset/Plasmodium/Po_schizont_thinB.jpg\b\b\b\b\b\b\b\b\b\b\b\b\b\b\b\b\b\b\b\b\b\b\b\b\b\b\b\b\b\b\b\b\b\b\b\b\b\b\b\b\b\b\b\b\b\b\b\b\b\b\b                                                   \b\b\b\b\b\b\b\b\b\b\b\b\b\b\b\b\b\b\b\b\b\b\b\b\b\b\b\b\b\b\b\b\b\b\b\b\b\b\b\b\b\b\b\b\b\b\b\b\b\b\b 99% 534 - Dataset/Taenia/Cysticercus_B\b\b\b\b\b\b\b\b\b\b\b\b\b\b\b\b\b\b\b\b\b\b\b\b\b\b\b\b\b\b\b\b\b\b\b\b\b\b\b                                       \b\b\b\b\b\b\b\b\b\b\b\b\b\b\b\b\b\b\b\b\b\b\b\b\b\b\b\b\b\b\b\b\b\b\b\b\b\b\bEverything is Ok\n",
            "\n",
            "Folders: 23\n",
            "Files: 583\n",
            "Size:       24569789\n",
            "Compressed: 20003284\n"
          ],
          "name": "stdout"
        }
      ]
    },
    {
      "cell_type": "code",
      "metadata": {
        "id": "XvnR57p_gmWy"
      },
      "source": [
        "import pandas as pd\n",
        "from sklearn.model_selection import train_test_split\n",
        "import os\n",
        "\n",
        "import torchvision\n",
        "from PIL import Image"
      ],
      "execution_count": 2,
      "outputs": []
    },
    {
      "cell_type": "code",
      "metadata": {
        "id": "JB6vuTg5hB8v"
      },
      "source": [
        "data = pd.read_csv(\"/content/Dataset/all_meta_data_updated.csv\")"
      ],
      "execution_count": 3,
      "outputs": []
    },
    {
      "cell_type": "code",
      "metadata": {
        "id": "5cWeh3W-AV_V",
        "colab": {
          "base_uri": "https://localhost:8080/"
        },
        "outputId": "47b38156-350a-4c69-8629-3ef422264ac1"
      },
      "source": [
        "data.species.value_counts()"
      ],
      "execution_count": null,
      "outputs": [
        {
          "output_type": "execute_result",
          "data": {
            "text/plain": [
              "Plasmodium vivax               36\n",
              "Plasmodium falciparum          36\n",
              "Cyclospora cayetanensis        30\n",
              "Plasmodium malariae            30\n",
              "Ascaris lumbricoides           29\n",
              "Entamoeba histolytica          27\n",
              "Giardia duodenalis             27\n",
              "Plasmodium ovale               27\n",
              "Strongyloides stercoralis      22\n",
              "Hymenolepis spp                21\n",
              "Dibothriocephalus latus        21\n",
              "Trichuris Trichuria            19\n",
              "Enterobius vermicularis        18\n",
              "Toxocara canis                 17\n",
              "Ancyclostoma sp.               17\n",
              "Sarcocystis sp.                16\n",
              "Cryptosporidium sp.            16\n",
              "Plasmodium knowlesi            15\n",
              "Echinococcus granulosus        12\n",
              "Fasciola hepatica              11\n",
              "Dicrocoelium dendriticum        7\n",
              "Echinococcus multilocularis     4\n",
              "Strongyloides fuelleborni       3\n",
              "Name: species, dtype: int64"
            ]
          },
          "metadata": {
            "tags": []
          },
          "execution_count": 12
        }
      ]
    },
    {
      "cell_type": "code",
      "metadata": {
        "id": "1iEnLB7VAvfo",
        "colab": {
          "base_uri": "https://localhost:8080/"
        },
        "outputId": "f01f191a-8278-4cf2-bb1a-b79a5d4491a9"
      },
      "source": [
        "13+9+13+8"
      ],
      "execution_count": null,
      "outputs": [
        {
          "output_type": "execute_result",
          "data": {
            "text/plain": [
              "43"
            ]
          },
          "metadata": {
            "tags": []
          },
          "execution_count": 5
        }
      ]
    },
    {
      "cell_type": "code",
      "metadata": {
        "id": "KpZkPOzVGxYW"
      },
      "source": [
        "data.species=data.species.replace({\"Hymenolepis diminuta\":\"Hymenolepis spp\",\n",
        "                    \"Hymenolepis nana\":\"Hymenolepis spp\",\n",
        "                    \"Taenia solium\":\"na\",\n",
        "                    \"Clonorchis sinensis\":\"na\",\n",
        "                    \"Trichinella sp.\":\"na\",\n",
        "                    \"B. coli\":\"na\",\n",
        "                    \"Toxoplasma gondii\":\"na\",\n",
        "                    })"
      ],
      "execution_count": 4,
      "outputs": []
    },
    {
      "cell_type": "code",
      "metadata": {
        "id": "A8IzgsLK2ZIv"
      },
      "source": [
        "data = data[data['species']!='na']"
      ],
      "execution_count": 5,
      "outputs": []
    },
    {
      "cell_type": "code",
      "metadata": {
        "id": "r-3DrjVFhv8a"
      },
      "source": [
        "data['phylum'] = data['phylum'].replace({'Roundworms':'Nematoda','Flatworm':'Platyhelminthes'})\n",
        "data['class'] = data['class'].replace({'\\tConoidasida':'Conoidasida','Tapeworms':'Cestoda'})\n",
        "data['species'] = data['species'].replace({'Entamoeba histolytica]':'Entamoeba histolytica'})\n",
        "data['form'] = data['form'].replace({'rings':'trophozoites','decorticated egg':'egg'})\n",
        "data['sample'] = data['sample'].replace({'intestinal tissue':'intestine', 'intestine ':'intestine'})"
      ],
      "execution_count": 6,
      "outputs": []
    },
    {
      "cell_type": "code",
      "metadata": {
        "id": "dSN-p6sg2ewL"
      },
      "source": [
        ""
      ],
      "execution_count": null,
      "outputs": []
    },
    {
      "cell_type": "code",
      "metadata": {
        "id": "NGRo1k4ihHKW"
      },
      "source": [
        "# data = [x for _,x in data.groupby('form') if len(x)>4]\n",
        "\n",
        "# data = pd.concat(data,ignore_index=True)\n",
        "data = [x for _,x in data.groupby('sample') if len(x)>2]\n",
        "\n",
        "data = pd.concat(data,ignore_index=True)\n",
        "data = [x for _,x in data.groupby('species') if len(x)>12]\n",
        "\n",
        "data = pd.concat(data,ignore_index=True)\n",
        "data['species'] = data['species'].str.replace('.','')\n"
      ],
      "execution_count": 7,
      "outputs": []
    },
    {
      "cell_type": "code",
      "metadata": {
        "id": "EYkWg6IvgyPb",
        "colab": {
          "base_uri": "https://localhost:8080/"
        },
        "outputId": "344ff9d4-a405-48e1-bce1-f5283acadff2"
      },
      "source": [
        "data['genus'].value_counts()"
      ],
      "execution_count": 11,
      "outputs": [
        {
          "output_type": "execute_result",
          "data": {
            "text/plain": [
              "Plasmodium           144\n",
              "Cyclospora            30\n",
              "Ascaris               29\n",
              "Giardia               27\n",
              "Entamoeba             27\n",
              "Hymenolepis           21\n",
              "Dibothriocephalus     21\n",
              "Strongyloides         20\n",
              "Trichuris             19\n",
              "Enterobius            18\n",
              "Toxocara              17\n",
              "Ancylostoma           17\n",
              "Cryptosporidium       16\n",
              "Sarcocystis           16\n",
              "Name: genus, dtype: int64"
            ]
          },
          "metadata": {
            "tags": []
          },
          "execution_count": 11
        }
      ]
    },
    {
      "cell_type": "code",
      "metadata": {
        "id": "Acydyy1LRnnR",
        "colab": {
          "base_uri": "https://localhost:8080/"
        },
        "outputId": "61394731-30dd-4ba3-cdc7-de2bebcdadb9"
      },
      "source": [
        "labels =['phylum', 'class', 'genus', 'species', 'form', 'sample']\n",
        "for col in labels:\n",
        "  train,test = train_test_split(data.copy(),test_size=0.25,stratify = data[col])\n",
        "  print(50*'-'+col+50*'-')\n",
        "  for x in labels:\n",
        "    print(f\"{col} -> {x}\")\n",
        "    print(set(train[x].unique())-set(test[x].unique()))"
      ],
      "execution_count": 9,
      "outputs": [
        {
          "output_type": "stream",
          "text": [
            "--------------------------------------------------phylum--------------------------------------------------\n",
            "phylum -> phylum\n",
            "set()\n",
            "phylum -> class\n",
            "set()\n",
            "phylum -> genus\n",
            "set()\n",
            "phylum -> species\n",
            "set()\n",
            "phylum -> form\n",
            "set()\n",
            "phylum -> sample\n",
            "set()\n",
            "--------------------------------------------------class--------------------------------------------------\n",
            "class -> phylum\n",
            "set()\n",
            "class -> class\n",
            "set()\n",
            "class -> genus\n",
            "set()\n",
            "class -> species\n",
            "set()\n",
            "class -> form\n",
            "set()\n",
            "class -> sample\n",
            "set()\n",
            "--------------------------------------------------genus--------------------------------------------------\n",
            "genus -> phylum\n",
            "set()\n",
            "genus -> class\n",
            "set()\n",
            "genus -> genus\n",
            "set()\n",
            "genus -> species\n",
            "set()\n",
            "genus -> form\n",
            "set()\n",
            "genus -> sample\n",
            "set()\n",
            "--------------------------------------------------species--------------------------------------------------\n",
            "species -> phylum\n",
            "set()\n",
            "species -> class\n",
            "set()\n",
            "species -> genus\n",
            "set()\n",
            "species -> species\n",
            "set()\n",
            "species -> form\n",
            "set()\n",
            "species -> sample\n",
            "set()\n",
            "--------------------------------------------------form--------------------------------------------------\n",
            "form -> phylum\n",
            "set()\n",
            "form -> class\n",
            "set()\n",
            "form -> genus\n",
            "set()\n",
            "form -> species\n",
            "set()\n",
            "form -> form\n",
            "set()\n",
            "form -> sample\n",
            "set()\n",
            "--------------------------------------------------sample--------------------------------------------------\n",
            "sample -> phylum\n",
            "set()\n",
            "sample -> class\n",
            "set()\n",
            "sample -> genus\n",
            "set()\n",
            "sample -> species\n",
            "set()\n",
            "sample -> form\n",
            "set()\n",
            "sample -> sample\n",
            "set()\n"
          ],
          "name": "stdout"
        }
      ]
    },
    {
      "cell_type": "code",
      "metadata": {
        "id": "yvJDPeERhgsA"
      },
      "source": [
        "train, val = train_test_split(\n",
        "    data, test_size=0.25, random_state=2021,stratify = data['genus'])"
      ],
      "execution_count": 10,
      "outputs": []
    },
    {
      "cell_type": "code",
      "metadata": {
        "id": "uAfIwDvXikB4"
      },
      "source": [
        "\n",
        "for path in data['species'].unique():\n",
        "  os.makedirs(f\"/content/train/{path}\")\n",
        "\n",
        "\n",
        "for path in data['species'].unique():\n",
        "  os.makedirs(f\"/content/val/{path}\")"
      ],
      "execution_count": 12,
      "outputs": []
    },
    {
      "cell_type": "code",
      "metadata": {
        "id": "O-79Tk-nJzOp"
      },
      "source": [
        "!rm -r train val"
      ],
      "execution_count": null,
      "outputs": []
    },
    {
      "cell_type": "code",
      "metadata": {
        "id": "bT_WhR_7iftq"
      },
      "source": [
        "t = []\n",
        "t.append(torchvision.transforms.Compose([\n",
        "        torchvision.transforms.GaussianBlur(5),\n",
        "        torchvision.transforms.RandomPerspective(p=1)]))\n",
        "\n",
        "t.append(torchvision.transforms.Compose([\n",
        "        torchvision.transforms.GaussianBlur(5),\n",
        "        torchvision.transforms.RandomVerticalFlip(p=1)]))\n",
        "\n",
        "\n",
        "t.append(torchvision.transforms.Compose([\n",
        "        torchvision.transforms.Grayscale(3),\n",
        "        torchvision.transforms.RandomVerticalFlip(p=1)]))\n",
        "\n",
        "t.append(torchvision.transforms.Compose([\n",
        "        torchvision.transforms.Grayscale(3),\n",
        "        torchvision.transforms.RandomPerspective(p=1)]))"
      ],
      "execution_count": 13,
      "outputs": []
    },
    {
      "cell_type": "code",
      "metadata": {
        "id": "PBRaMlky3T6n",
        "colab": {
          "base_uri": "https://localhost:8080/",
          "height": 299
        },
        "outputId": "1400e295-08e2-435d-90f1-da1c47aea6dc"
      },
      "source": [
        "data.head()"
      ],
      "execution_count": null,
      "outputs": [
        {
          "output_type": "execute_result",
          "data": {
            "text/html": [
              "<div>\n",
              "<style scoped>\n",
              "    .dataframe tbody tr th:only-of-type {\n",
              "        vertical-align: middle;\n",
              "    }\n",
              "\n",
              "    .dataframe tbody tr th {\n",
              "        vertical-align: top;\n",
              "    }\n",
              "\n",
              "    .dataframe thead th {\n",
              "        text-align: right;\n",
              "    }\n",
              "</style>\n",
              "<table border=\"1\" class=\"dataframe\">\n",
              "  <thead>\n",
              "    <tr style=\"text-align: right;\">\n",
              "      <th></th>\n",
              "      <th>phylum</th>\n",
              "      <th>class</th>\n",
              "      <th>genus</th>\n",
              "      <th>species</th>\n",
              "      <th>form</th>\n",
              "      <th>sample</th>\n",
              "      <th>image_name</th>\n",
              "      <th>image_url</th>\n",
              "      <th>img_path</th>\n",
              "    </tr>\n",
              "  </thead>\n",
              "  <tbody>\n",
              "    <tr>\n",
              "      <th>0</th>\n",
              "      <td>Nematoda</td>\n",
              "      <td>Chromadorea</td>\n",
              "      <td>Ancylostoma</td>\n",
              "      <td>Ancyclostoma sp</td>\n",
              "      <td>adult</td>\n",
              "      <td>intestine</td>\n",
              "      <td>Aduodenale_head_A.jpg</td>\n",
              "      <td>https://www.cdc.gov//dpdx/hookworm/images/4/Ad...</td>\n",
              "      <td>./Dataset/Ancylostoma/Aduodenale_head_A.jpg</td>\n",
              "    </tr>\n",
              "    <tr>\n",
              "      <th>1</th>\n",
              "      <td>Nematoda</td>\n",
              "      <td>Chromadorea</td>\n",
              "      <td>Ancylostoma</td>\n",
              "      <td>Ancyclostoma sp</td>\n",
              "      <td>adult</td>\n",
              "      <td>intestine</td>\n",
              "      <td>Namericanus_head_B.jpg</td>\n",
              "      <td>https://www.cdc.gov//dpdx/hookworm/images/4/Na...</td>\n",
              "      <td>./Dataset/Ancylostoma/Namericanus_head_B.jpg</td>\n",
              "    </tr>\n",
              "    <tr>\n",
              "      <th>2</th>\n",
              "      <td>Nematoda</td>\n",
              "      <td>Chromadorea</td>\n",
              "      <td>Ancylostoma</td>\n",
              "      <td>Ancyclostoma sp</td>\n",
              "      <td>adult</td>\n",
              "      <td>intestine</td>\n",
              "      <td>Hookworm_tissue_BAM1.jpg</td>\n",
              "      <td>https://www.cdc.gov//dpdx/hookworm/images/5/Ho...</td>\n",
              "      <td>./Dataset/Ancylostoma/Hookworm_tissue_BAM1.jpg</td>\n",
              "    </tr>\n",
              "    <tr>\n",
              "      <th>3</th>\n",
              "      <td>Nematoda</td>\n",
              "      <td>Chromadorea</td>\n",
              "      <td>Ancylostoma</td>\n",
              "      <td>Ancyclostoma sp</td>\n",
              "      <td>adult</td>\n",
              "      <td>intestine</td>\n",
              "      <td>Hookworm_tissue_BAM2.jpg</td>\n",
              "      <td>https://www.cdc.gov//dpdx/hookworm/images/5/Ho...</td>\n",
              "      <td>./Dataset/Ancylostoma/Hookworm_tissue_BAM2.jpg</td>\n",
              "    </tr>\n",
              "    <tr>\n",
              "      <th>4</th>\n",
              "      <td>Nematoda</td>\n",
              "      <td>Chromadorea</td>\n",
              "      <td>Ancylostoma</td>\n",
              "      <td>Ancyclostoma sp</td>\n",
              "      <td>adult</td>\n",
              "      <td>intestine</td>\n",
              "      <td>Hookworm_tissue_BAM3.jpg</td>\n",
              "      <td>https://www.cdc.gov//dpdx/hookworm/images/5/Ho...</td>\n",
              "      <td>./Dataset/Ancylostoma/Hookworm_tissue_BAM3.jpg</td>\n",
              "    </tr>\n",
              "  </tbody>\n",
              "</table>\n",
              "</div>"
            ],
            "text/plain": [
              "     phylum  ...                                        img_path\n",
              "0  Nematoda  ...     ./Dataset/Ancylostoma/Aduodenale_head_A.jpg\n",
              "1  Nematoda  ...    ./Dataset/Ancylostoma/Namericanus_head_B.jpg\n",
              "2  Nematoda  ...  ./Dataset/Ancylostoma/Hookworm_tissue_BAM1.jpg\n",
              "3  Nematoda  ...  ./Dataset/Ancylostoma/Hookworm_tissue_BAM2.jpg\n",
              "4  Nematoda  ...  ./Dataset/Ancylostoma/Hookworm_tissue_BAM3.jpg\n",
              "\n",
              "[5 rows x 9 columns]"
            ]
          },
          "metadata": {
            "tags": []
          },
          "execution_count": 18
        }
      ]
    },
    {
      "cell_type": "code",
      "metadata": {
        "id": "WSjXpnmKh9tK"
      },
      "source": [
        "def transform_save(data,index,folder):\n",
        "  img = Image.open(data[8])\n",
        "  images = [img]\n",
        "  images.extend((T(img) for T in t))\n",
        "  image_name = data[6].split('.')[0]\n",
        "  for i, image in enumerate(images):\n",
        "    image.convert('RGB').save(f\"/content/{folder}/{data[3]}/{image_name}_{i}_{index}.jpg\")\n",
        "  values = [[data[0],data[1],data[2],data[3],data[4],data[5],f\"./{folder}/{data[3]}/{image_name}_{i}_{index}.jpg\"] for i in range(len(images))]\n",
        "  return values\n",
        "\n",
        "\n",
        "def get_dataframe(dataframe,folder = 'train'):\n",
        "  new = []\n",
        "  for i in dataframe.index:\n",
        "    new.extend(transform_save(dataframe.loc[i,:].values,index =i,folder=folder))\n",
        "  return pd.DataFrame(new,columns=['phylum','class','genus','species','form','sample','img_path'])"
      ],
      "execution_count": 14,
      "outputs": []
    },
    {
      "cell_type": "code",
      "metadata": {
        "id": "jmX2igYlHKko"
      },
      "source": [
        "\n",
        "def get_val_dataframe(dataframe):\n",
        "  new = []\n",
        "  \n",
        "  for data in dataframe.values:\n",
        "    new.append([data[0],data[1],data[2],data[3],data[4],data[5],copyfile(data[8],f\"./val/{data[3]}/{data[6]}.jpg\")])\n",
        "  return pd.DataFrame(new,columns=['phylum','class','genus','species','form','sample','img_path'])"
      ],
      "execution_count": null,
      "outputs": []
    },
    {
      "cell_type": "code",
      "metadata": {
        "id": "RvTJb66g57Ez",
        "colab": {
          "base_uri": "https://localhost:8080/"
        },
        "outputId": "2c22471b-1fa6-4a04-c0c6-a5902afb9902"
      },
      "source": [
        "data.shape[0]*5/4"
      ],
      "execution_count": null,
      "outputs": [
        {
          "output_type": "execute_result",
          "data": {
            "text/plain": [
              "555.0"
            ]
          },
          "metadata": {
            "tags": []
          },
          "execution_count": 45
        }
      ]
    },
    {
      "cell_type": "code",
      "metadata": {
        "id": "P2dhnhkbi2YD"
      },
      "source": [
        "train = get_dataframe(train)"
      ],
      "execution_count": 15,
      "outputs": []
    },
    {
      "cell_type": "code",
      "metadata": {
        "id": "M2NhlqOwjQus"
      },
      "source": [
        "val = get_dataframe(val,folder = 'val')"
      ],
      "execution_count": 16,
      "outputs": []
    },
    {
      "cell_type": "code",
      "metadata": {
        "id": "2L4PsAnAjccE"
      },
      "source": [
        "train.to_csv('/content/train/train.csv',index = False)\n",
        "val.to_csv('/content/val/val.csv',index = False)"
      ],
      "execution_count": 17,
      "outputs": []
    },
    {
      "cell_type": "code",
      "metadata": {
        "id": "WIcm-djqkERM",
        "colab": {
          "base_uri": "https://localhost:8080/"
        },
        "outputId": "b1ddad1e-f84a-43a9-9a3d-0d71ed5f276b"
      },
      "source": [
        "!7z a Train.7z train\n",
        "!7z a Val.7z val"
      ],
      "execution_count": 18,
      "outputs": [
        {
          "output_type": "stream",
          "text": [
            "\n",
            "7-Zip [64] 16.02 : Copyright (c) 1999-2016 Igor Pavlov : 2016-05-21\n",
            "p7zip Version 16.02 (locale=en_US.UTF-8,Utf16=on,HugeFiles=on,64 bits,4 CPUs Intel(R) Xeon(R) CPU @ 2.30GHz (306F0),ASM,AES-NI)\n",
            "\n",
            "Scanning the drive:\n",
            "  0M Scan \b\b\b\b\b\b\b\b\b\b          \b\b\b\b\b\b\b\b\b\b19 folders, 1581 files, 16511906 bytes (16 MiB)\n",
            "\n",
            "Creating archive: Train.7z\n",
            "\n",
            "Items to compress: 1600\n",
            "\n",
            "  0%\b\b\b\b    \b\b\b\b  5% 146 + train/Ascaris lumbricoides/Ascaris_eggs_tissue_400x_BAM2_1_45.jpg\b\b\b\b\b\b\b\b\b\b\b\b\b\b\b\b\b\b\b\b\b\b\b\b\b\b\b\b\b\b\b\b\b\b\b\b\b\b\b\b\b\b\b\b\b\b\b\b\b\b\b\b\b\b\b\b\b\b\b\b\b\b\b\b\b\b\b\b\b\b\b\b\b\b\b\b                                                                            \b\b\b\b\b\b\b\b\b\b\b\b\b\b\b\b\b\b\b\b\b\b\b\b\b\b\b\b\b\b\b\b\b\b\b\b\b\b\b\b\b\b\b\b\b\b\b\b\b\b\b\b\b\b\b\b\b\b\b\b\b\b\b\b\b\b\b\b\b\b\b\b\b\b\b\b 13% 247 + train/Cyclospora cayetanensis/Cyclospora_AF_AZ2_2_76.jpg\b\b\b\b\b\b\b\b\b\b\b\b\b\b\b\b\b\b\b\b\b\b\b\b\b\b\b\b\b\b\b\b\b\b\b\b\b\b\b\b\b\b\b\b\b\b\b\b\b\b\b\b\b\b\b\b\b\b\b\b\b\b\b\b\b\b\b                                                                   \b\b\b\b\b\b\b\b\b\b\b\b\b\b\b\b\b\b\b\b\b\b\b\b\b\b\b\b\b\b\b\b\b\b\b\b\b\b\b\b\b\b\b\b\b\b\b\b\b\b\b\b\b\b\b\b\b\b\b\b\b\b\b\b\b\b\b 21% 378 + train/Dibothriocephalus latus/D . thrium_tissue_WA_100x1_3_109.jpg\b\b\b\b\b\b\b\b\b\b\b\b\b\b\b\b\b\b\b\b\b\b\b\b\b\b\b\b\b\b\b\b\b\b\b\b\b\b\b\b\b\b\b\b\b\b\b\b\b\b\b\b\b\b\b\b\b\b\b\b\b\b\b\b\b\b\b\b\b\b\b\b\b\b\b\b\b                                                                             \b\b\b\b\b\b\b\b\b\b\b\b\b\b\b\b\b\b\b\b\b\b\b\b\b\b\b\b\b\b\b\b\b\b\b\b\b\b\b\b\b\b\b\b\b\b\b\b\b\b\b\b\b\b\b\b\b\b\b\b\b\b\b\b\b\b\b\b\b\b\b\b\b\b\b\b\b 28% 474 + train/Entamoeba histolytica/Ehistdisp_troph_tric2_4_130.jpg\b\b\b\b\b\b\b\b\b\b\b\b\b\b\b\b\b\b\b\b\b\b\b\b\b\b\b\b\b\b\b\b\b\b\b\b\b\b\b\b\b\b\b\b\b\b\b\b\b\b\b\b\b\b\b\b\b\b\b\b\b\b\b\b\b\b\b\b\b\b                                                                      \b\b\b\b\b\b\b\b\b\b\b\b\b\b\b\b\b\b\b\b\b\b\b\b\b\b\b\b\b\b\b\b\b\b\b\b\b\b\b\b\b\b\b\b\b\b\b\b\b\b\b\b\b\b\b\b\b\b\b\b\b\b\b\b\b\b\b\b\b\b 36% 585 + train/Enterobius vermicularis/Evermicularis_worm5_HB_0_153.jpg\b\b\b\b\b\b\b\b\b\b\b\b\b\b\b\b\b\b\b\b\b\b\b\b\b\b\b\b\b\b\b\b\b\b\b\b\b\b\b\b\b\b\b\b\b\b\b\b\b\b\b\b\b\b\b\b\b\b\b\b\b\b\b\b\b\b\b\b\b\b\b\b\b                                                                         \b\b\b\b\b\b\b\b\b\b\b\b\b\b\b\b\b\b\b\b\b\b\b\b\b\b\b\b\b\b\b\b\b\b\b\b\b\b\b\b\b\b\b\b\b\b\b\b\b\b\b\b\b\b\b\b\b\b\b\b\b\b\b\b\b\b\b\b\b\b\b\b\b 43% 726 + train/Hymenolepis spp/H_nana_HE1_1_200.jpg\b\b\b\b\b\b\b\b\b\b\b\b\b\b\b\b\b\b\b\b\b\b\b\b\b\b\b\b\b\b\b\b\b\b\b\b\b\b\b\b\b\b\b\b\b\b\b\b\b\b\b\b\b                                                     \b\b\b\b\b\b\b\b\b\b\b\b\b\b\b\b\b\b\b\b\b\b\b\b\b\b\b\b\b\b\b\b\b\b\b\b\b\b\b\b\b\b\b\b\b\b\b\b\b\b\b\b\b 50% 848 + train/Plasmodium falciparum/Pf_rings_thickF_3_215.jpg\b\b\b\b\b\b\b\b\b\b\b\b\b\b\b\b\b\b\b\b\b\b\b\b\b\b\b\b\b\b\b\b\b\b\b\b\b\b\b\b\b\b\b\b\b\b\b\b\b\b\b\b\b\b\b\b\b\b\b\b\b\b\b\b                                                                \b\b\b\b\b\b\b\b\b\b\b\b\b\b\b\b\b\b\b\b\b\b\b\b\b\b\b\b\b\b\b\b\b\b\b\b\b\b\b\b\b\b\b\b\b\b\b\b\b\b\b\b\b\b\b\b\b\b\b\b\b\b\b\b 58% 994 + train/Plasmodium malariae/Pm_gametocyte_thickA_4_271.jpg\b\b\b\b\b\b\b\b\b\b\b\b\b\b\b\b\b\b\b\b\b\b\b\b\b\b\b\b\b\b\b\b\b\b\b\b\b\b\b\b\b\b\b\b\b\b\b\b\b\b\b\b\b\b\b\b\b\b\b\b\b\b\b\b\b\b\b                                                                   \b\b\b\b\b\b\b\b\b\b\b\b\b\b\b\b\b\b\b\b\b\b\b\b\b\b\b\b\b\b\b\b\b\b\b\b\b\b\b\b\b\b\b\b\b\b\b\b\b\b\b\b\b\b\b\b\b\b\b\b\b\b\b\b\b\b\b 65% 1138 + train/Plasmodium ovale/Po_schizont_thickB_3_308.jpg\b\b\b\b\b\b\b\b\b\b\b\b\b\b\b\b\b\b\b\b\b\b\b\b\b\b\b\b\b\b\b\b\b\b\b\b\b\b\b\b\b\b\b\b\b\b\b\b\b\b\b\b\b\b\b\b\b\b\b\b\b\b\b                                                               \b\b\b\b\b\b\b\b\b\b\b\b\b\b\b\b\b\b\b\b\b\b\b\b\b\b\b\b\b\b\b\b\b\b\b\b\b\b\b\b\b\b\b\b\b\b\b\b\b\b\b\b\b\b\b\b\b\b\b\b\b\b\b 73% 1264 + train/Plasmodium vivax/Pv_schizont_thickA_4_341.jpg\b\b\b\b\b\b\b\b\b\b\b\b\b\b\b\b\b\b\b\b\b\b\b\b\b\b\b\b\b\b\b\b\b\b\b\b\b\b\b\b\b\b\b\b\b\b\b\b\b\b\b\b\b\b\b\b\b\b\b\b\b\b\b                                                               \b\b\b\b\b\b\b\b\b\b\b\b\b\b\b\b\b\b\b\b\b\b\b\b\b\b\b\b\b\b\b\b\b\b\b\b\b\b\b\b\b\b\b\b\b\b\b\b\b\b\b\b\b\b\b\b\b\b\b\b\b\b\b 81% 1363 + train/Sarcocystis sp/Sarcocystis_wtmt_400x3_1_3_358.jpg\b\b\b\b\b\b\b\b\b\b\b\b\b\b\b\b\b\b\b\b\b\b\b\b\b\b\b\b\b\b\b\b\b\b\b\b\b\b\b\b\b\b\b\b\b\b\b\b\b\b\b\b\b\b\b\b\b\b\b\b\b\b\b\b\b\b\b                                                                   \b\b\b\b\b\b\b\b\b\b\b\b\b\b\b\b\b\b\b\b\b\b\b\b\b\b\b\b\b\b\b\b\b\b\b\b\b\b\b\b\b\b\b\b\b\b\b\b\b\b\b\b\b\b\b\b\b\b\b\b\b\b\b\b\b\b\b 87% 1426 + train/Strongyloides stercoralis . oralis_rhabditoid_BAM9_1_371.jpg\b\b\b\b\b\b\b\b\b\b\b\b\b\b\b\b\b\b\b\b\b\b\b\b\b\b\b\b\b\b\b\b\b\b\b\b\b\b\b\b\b\b\b\b\b\b\b\b\b\b\b\b\b\b\b\b\b\b\b\b\b\b\b\b\b\b\b\b\b\b\b\b\b\b\b\b\b\b                                                                              \b\b\b\b\b\b\b\b\b\b\b\b\b\b\b\b\b\b\b\b\b\b\b\b\b\b\b\b\b\b\b\b\b\b\b\b\b\b\b\b\b\b\b\b\b\b\b\b\b\b\b\b\b\b\b\b\b\b\b\b\b\b\b\b\b\b\b\b\b\b\b\b\b\b\b\b\b\b 92% 1493 + train/Toxocara canis/Toxocara_larvae_he_3_398.jpg\b\b\b\b\b\b\b\b\b\b\b\b\b\b\b\b\b\b\b\b\b\b\b\b\b\b\b\b\b\b\b\b\b\b\b\b\b\b\b\b\b\b\b\b\b\b\b\b\b\b\b\b\b\b\b\b\b\b\b\b\b                                                             \b\b\b\b\b\b\b\b\b\b\b\b\b\b\b\b\b\b\b\b\b\b\b\b\b\b\b\b\b\b\b\b\b\b\b\b\b\b\b\b\b\b\b\b\b\b\b\b\b\b\b\b\b\b\b\b\b\b\b\b\b 97% 1571 + train/Trichuris Trichuria/Tric . ichiura_egg_atypical2_1_410.jpg\b\b\b\b\b\b\b\b\b\b\b\b\b\b\b\b\b\b\b\b\b\b\b\b\b\b\b\b\b\b\b\b\b\b\b\b\b\b\b\b\b\b\b\b\b\b\b\b\b\b\b\b\b\b\b\b\b\b\b\b\b\b\b\b\b\b\b\b\b\b\b\b\b\b\b\b                                                                            \b\b\b\b\b\b\b\b\b\b\b\b\b\b\b\b\b\b\b\b\b\b\b\b\b\b\b\b\b\b\b\b\b\b\b\b\b\b\b\b\b\b\b\b\b\b\b\b\b\b\b\b\b\b\b\b\b\b\b\b\b\b\b\b\b\b\b\b\b\b\b\b\b\b\b\b\n",
            "Files read from disk: 1581\n",
            "Archive size: 14692587 bytes (15 MiB)\n",
            "Everything is Ok\n",
            "\n",
            "7-Zip [64] 16.02 : Copyright (c) 1999-2016 Igor Pavlov : 2016-05-21\n",
            "p7zip Version 16.02 (locale=en_US.UTF-8,Utf16=on,HugeFiles=on,64 bits,4 CPUs Intel(R) Xeon(R) CPU @ 2.30GHz (306F0),ASM,AES-NI)\n",
            "\n",
            "Scanning the drive:\n",
            "  0M Scan \b\b\b\b\b\b\b\b\b\b          \b\b\b\b\b\b\b\b\b\b19 folders, 531 files, 5785113 bytes (5650 KiB)\n",
            "\n",
            "Creating archive: Val.7z\n",
            "\n",
            "Items to compress: 550\n",
            "\n",
            "  0%\b\b\b\b    \b\b\b\b 18% 171 + val/Entamoeba histolytica/tissueB_1_114.jpg\b\b\b\b\b\b\b\b\b\b\b\b\b\b\b\b\b\b\b\b\b\b\b\b\b\b\b\b\b\b\b\b\b\b\b\b\b\b\b\b\b\b\b\b\b\b\b\b\b\b\b\b\b\b                                                      \b\b\b\b\b\b\b\b\b\b\b\b\b\b\b\b\b\b\b\b\b\b\b\b\b\b\b\b\b\b\b\b\b\b\b\b\b\b\b\b\b\b\b\b\b\b\b\b\b\b\b\b\b\b 38% 284 + val/Plasmodium falciparum/Pf_rings_thickA_4_206.jpg\b\b\b\b\b\b\b\b\b\b\b\b\b\b\b\b\b\b\b\b\b\b\b\b\b\b\b\b\b\b\b\b\b\b\b\b\b\b\b\b\b\b\b\b\b\b\b\b\b\b\b\b\b\b\b\b\b\b\b\b\b\b                                                              \b\b\b\b\b\b\b\b\b\b\b\b\b\b\b\b\b\b\b\b\b\b\b\b\b\b\b\b\b\b\b\b\b\b\b\b\b\b\b\b\b\b\b\b\b\b\b\b\b\b\b\b\b\b\b\b\b\b\b\b\b\b 61% 427 + val/Plasmodium vivax/Pv_troph_thinA_2_323.jpg\b\b\b\b\b\b\b\b\b\b\b\b\b\b\b\b\b\b\b\b\b\b\b\b\b\b\b\b\b\b\b\b\b\b\b\b\b\b\b\b\b\b\b\b\b\b\b\b\b\b\b\b\b\b\b\b                                                        \b\b\b\b\b\b\b\b\b\b\b\b\b\b\b\b\b\b\b\b\b\b\b\b\b\b\b\b\b\b\b\b\b\b\b\b\b\b\b\b\b\b\b\b\b\b\b\b\b\b\b\b\b\b\b\b 85% 527 + val/Trichuris Trichuria/Trichuris_trichiura_egg_HE_OR1_2_413.jpg\b\b\b\b\b\b\b\b\b\b\b\b\b\b\b\b\b\b\b\b\b\b\b\b\b\b\b\b\b\b\b\b\b\b\b\b\b\b\b\b\b\b\b\b\b\b\b\b\b\b\b\b\b\b\b\b\b\b\b\b\b\b\b\b\b\b\b\b\b\b\b\b\b\b\b                                                                           \b\b\b\b\b\b\b\b\b\b\b\b\b\b\b\b\b\b\b\b\b\b\b\b\b\b\b\b\b\b\b\b\b\b\b\b\b\b\b\b\b\b\b\b\b\b\b\b\b\b\b\b\b\b\b\b\b\b\b\b\b\b\b\b\b\b\b\b\b\b\b\b\b\b\b\n",
            "Files read from disk: 531\n",
            "Archive size: 5201912 bytes (5080 KiB)\n",
            "Everything is Ok\n"
          ],
          "name": "stdout"
        }
      ]
    },
    {
      "cell_type": "code",
      "metadata": {
        "id": "5sape2Dolcwc"
      },
      "source": [
        ""
      ],
      "execution_count": null,
      "outputs": []
    },
    {
      "cell_type": "code",
      "metadata": {
        "id": "9Yx8AsTtRZHn"
      },
      "source": [
        ""
      ],
      "execution_count": null,
      "outputs": []
    }
  ]
}