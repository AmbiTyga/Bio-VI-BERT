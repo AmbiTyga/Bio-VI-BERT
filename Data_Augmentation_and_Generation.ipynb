{
  "nbformat": 4,
  "nbformat_minor": 0,
  "metadata": {
    "colab": {
      "name": "Data Augmentation and Generation",
      "provenance": [],
      "collapsed_sections": [],
      "machine_shape": "hm",
      "include_colab_link": true
    },
    "kernelspec": {
      "name": "python3",
      "display_name": "Python 3"
    }
  },
  "cells": [
    {
      "cell_type": "markdown",
      "metadata": {
        "id": "view-in-github",
        "colab_type": "text"
      },
      "source": [
        "<a href=\"https://colab.research.google.com/github/AmbiTyga/Bio-VI-BERT/blob/main/Data_Augmentation_and_Generation.ipynb\" target=\"_parent\"><img src=\"https://colab.research.google.com/assets/colab-badge.svg\" alt=\"Open In Colab\"/></a>"
      ]
    },
    {
      "cell_type": "code",
      "metadata": {
        "id": "Ujyd_pmrHjQV",
        "colab": {
          "base_uri": "https://localhost:8080/"
        },
        "outputId": "58c91512-414a-465e-e593-6dc8caa70ee9"
      },
      "source": [
        "!wget https://raw.githubusercontent.com/AmbiTyga/Bio-VI-BERT/main/Parasite.7z\n",
        "!7z x /content/Parasite.7z"
      ],
      "execution_count": 1,
      "outputs": [
        {
          "output_type": "stream",
          "text": [
            "--2021-04-18 05:22:22--  https://raw.githubusercontent.com/AmbiTyga/Bio-VI-BERT/main/Parasite.7z\n",
            "Resolving raw.githubusercontent.com (raw.githubusercontent.com)... 185.199.108.133, 185.199.109.133, 185.199.110.133, ...\n",
            "Connecting to raw.githubusercontent.com (raw.githubusercontent.com)|185.199.108.133|:443... connected.\n",
            "HTTP request sent, awaiting response... 200 OK\n",
            "Length: 20003284 (19M) [application/octet-stream]\n",
            "Saving to: ‘Parasite.7z’\n",
            "\n",
            "Parasite.7z         100%[===================>]  19.08M  27.0MB/s    in 0.7s    \n",
            "\n",
            "2021-04-18 05:22:23 (27.0 MB/s) - ‘Parasite.7z’ saved [20003284/20003284]\n",
            "\n",
            "\n",
            "7-Zip [64] 16.02 : Copyright (c) 1999-2016 Igor Pavlov : 2016-05-21\n",
            "p7zip Version 16.02 (locale=en_US.UTF-8,Utf16=on,HugeFiles=on,64 bits,4 CPUs Intel(R) Xeon(R) CPU @ 2.30GHz (306F0),ASM,AES-NI)\n",
            "\n",
            "Scanning the drive for archives:\n",
            "  0M Scan /content/\b\b\b\b\b\b\b\b\b\b\b\b\b\b\b\b\b\b\b                   \b\b\b\b\b\b\b\b\b\b\b\b\b\b\b\b\b\b\b1 file, 20003284 bytes (20 MiB)\n",
            "\n",
            "Extracting archive: /content/Parasite.7z\n",
            "--\n",
            "Path = /content/Parasite.7z\n",
            "Type = 7z\n",
            "Physical Size = 20003284\n",
            "Headers Size = 7315\n",
            "Method = LZMA2:24\n",
            "Solid = +\n",
            "Blocks = 1\n",
            "\n",
            "  0%\b\b\b\b    \b\b\b\b 15% 23 - Dataset/all_meta_data_updated.csv\b\b\b\b\b\b\b\b\b\b\b\b\b\b\b\b\b\b\b\b\b\b\b\b\b\b\b\b\b\b\b\b\b\b\b\b\b\b\b\b\b\b\b                                           \b\b\b\b\b\b\b\b\b\b\b\b\b\b\b\b\b\b\b\b\b\b\b\b\b\b\b\b\b\b\b\b\b\b\b\b\b\b\b\b\b\b\b 29% 112 - Dataset/Cryptosporidium/Cryptosporidium_sp6.jpg\b\b\b\b\b\b\b\b\b\b\b\b\b\b\b\b\b\b\b\b\b\b\b\b\b\b\b\b\b\b\b\b\b\b\b\b\b\b\b\b\b\b\b\b\b\b\b\b\b\b\b\b\b\b\b\b\b\b                                                          \b\b\b\b\b\b\b\b\b\b\b\b\b\b\b\b\b\b\b\b\b\b\b\b\b\b\b\b\b\b\b\b\b\b\b\b\b\b\b\b\b\b\b\b\b\b\b\b\b\b\b\b\b\b\b\b\b\b 49% 202 - Dataset/Echinococcus/EchinococcusCellNetix_D.jpg\b\b\b\b\b\b\b\b\b\b\b\b\b\b\b\b\b\b\b\b\b\b\b\b\b\b\b\b\b\b\b\b\b\b\b\b\b\b\b\b\b\b\b\b\b\b\b\b\b\b\b\b\b\b\b\b\b\b\b                                                           \b\b\b\b\b\b\b\b\b\b\b\b\b\b\b\b\b\b\b\b\b\b\b\b\b\b\b\b\b\b\b\b\b\b\b\b\b\b\b\b\b\b\b\b\b\b\b\b\b\b\b\b\b\b\b\b\b\b\b 67% 338 - Dataset/Plasmodium/Pf_MaurersC.jpg\b\b\b\b\b\b\b\b\b\b\b\b\b\b\b\b\b\b\b\b\b\b\b\b\b\b\b\b\b\b\b\b\b\b\b\b\b\b\b\b\b\b\b\b\b                                             \b\b\b\b\b\b\b\b\b\b\b\b\b\b\b\b\b\b\b\b\b\b\b\b\b\b\b\b\b\b\b\b\b\b\b\b\b\b\b\b\b\b\b\b\b 83% 438 - Dataset/Plasmodium/Po_schizont_thinB.jpg\b\b\b\b\b\b\b\b\b\b\b\b\b\b\b\b\b\b\b\b\b\b\b\b\b\b\b\b\b\b\b\b\b\b\b\b\b\b\b\b\b\b\b\b\b\b\b\b\b\b\b                                                   \b\b\b\b\b\b\b\b\b\b\b\b\b\b\b\b\b\b\b\b\b\b\b\b\b\b\b\b\b\b\b\b\b\b\b\b\b\b\b\b\b\b\b\b\b\b\b\b\b\b\b 99% 538 - Dataset/Taenia/Racemose_A\b\b\b\b\b\b\b\b\b\b\b\b\b\b\b\b\b\b\b\b\b\b\b\b\b\b\b\b\b\b\b\b\b\b\b\b                                    \b\b\b\b\b\b\b\b\b\b\b\b\b\b\b\b\b\b\b\b\b\b\b\b\b\b\b\b\b\b\b\b\b\b\b\bEverything is Ok\n",
            "\n",
            "Folders: 23\n",
            "Files: 583\n",
            "Size:       24569789\n",
            "Compressed: 20003284\n"
          ],
          "name": "stdout"
        }
      ]
    },
    {
      "cell_type": "code",
      "metadata": {
        "id": "XvnR57p_gmWy"
      },
      "source": [
        "import pandas as pd\n",
        "from sklearn.model_selection import train_test_split\n",
        "import os\n",
        "\n",
        "import torchvision\n",
        "from PIL import Image"
      ],
      "execution_count": 2,
      "outputs": []
    },
    {
      "cell_type": "code",
      "metadata": {
        "id": "5UVRGFlIzULJ"
      },
      "source": [
        "del data"
      ],
      "execution_count": null,
      "outputs": []
    },
    {
      "cell_type": "code",
      "metadata": {
        "id": "JB6vuTg5hB8v"
      },
      "source": [
        "data = pd.read_csv(\"/content/Dataset/all_meta_data_updated.csv\")"
      ],
      "execution_count": 3,
      "outputs": []
    },
    {
      "cell_type": "code",
      "metadata": {
        "id": "1iEnLB7VAvfo"
      },
      "source": [
        "data.species.replace({\"Hymenolepis diminuta\":\"Hymenolepis spp\",\n",
        "                    \"Hymenolepis nana\":\"Hymenolepis spp\",\n",
        "                    \"Taenia solium\":\"na\",\n",
        "                    \"Clonorchis sinensis\":\"na\",\n",
        "                    \"Trichinella sp.\":\"na\",\n",
        "                    \"B. coli\":\"na\",\n",
        "                    \"Toxoplasma gondii\":\"na\",\n",
        "                    },inplace = True)\n",
        "data['phylum'].replace({'Roundworms':'Nematoda','Flatworm':'Platyhelminthes'},inplace = True)\n",
        "data['class'].replace({'\\tConoidasida':'Conoidasida','Tapeworms':'Cestoda'},inplace = True)\n",
        "data['species'].replace({'Entamoeba histolytica]':'Entamoeba histolytica'},inplace = True)\n",
        "data['form'].replace({'rings':'trophozoites','decorticated egg':'egg','ookinete':'egg'},inplace = True)\n",
        "data['sample'].replace({'intestinal tissue':'intestine', 'intestine ':'intestine','sputum':'lungs'},inplace = True)"
      ],
      "execution_count": 4,
      "outputs": []
    },
    {
      "cell_type": "code",
      "metadata": {
        "id": "A8IzgsLK2ZIv"
      },
      "source": [
        "data = data[data['species']!='na']\n",
        "data = [x for _,x in data.groupby('species') if len(x)>12]\n",
        "\n",
        "data = pd.concat(data,ignore_index=True)"
      ],
      "execution_count": 6,
      "outputs": []
    },
    {
      "cell_type": "code",
      "metadata": {
        "id": "NGRo1k4ihHKW"
      },
      "source": [
        "labels = ['phylum', 'class', 'genus', 'species', 'form', 'sample']"
      ],
      "execution_count": 9,
      "outputs": []
    },
    {
      "cell_type": "code",
      "metadata": {
        "id": "-514wy5IC6ly"
      },
      "source": [
        "train, val = train_test_split(\n",
        "    data, test_size=0.25, random_state=0,stratify = data['sample'])"
      ],
      "execution_count": 7,
      "outputs": []
    },
    {
      "cell_type": "code",
      "metadata": {
        "id": "X_TBGtM5B53e",
        "colab": {
          "base_uri": "https://localhost:8080/"
        },
        "outputId": "2434adb7-43db-46dc-b0bb-2f397c890902"
      },
      "source": [
        "for col in labels:\n",
        "  print(15*'-'+col+15*'-')\n",
        "  print(set(train[col].unique())-set(val[col].unique()))\n",
        "  print(set(val[col].unique())-set(train[col].unique()))\n",
        "  print(train[col].nunique(),val[col].nunique(),sep = ' -> ')\n",
        "  print(val[col].nunique(),train[col].nunique(),sep = ' -> ')"
      ],
      "execution_count": 10,
      "outputs": [
        {
          "output_type": "stream",
          "text": [
            "---------------phylum---------------\n",
            "set()\n",
            "set()\n",
            "5 -> 5\n",
            "5 -> 5\n",
            "---------------class---------------\n",
            "set()\n",
            "set()\n",
            "7 -> 7\n",
            "7 -> 7\n",
            "---------------genus---------------\n",
            "set()\n",
            "set()\n",
            "14 -> 14\n",
            "14 -> 14\n",
            "---------------species---------------\n",
            "set()\n",
            "set()\n",
            "18 -> 18\n",
            "18 -> 18\n",
            "---------------form---------------\n",
            "set()\n",
            "set()\n",
            "9 -> 9\n",
            "9 -> 9\n",
            "---------------sample---------------\n",
            "set()\n",
            "set()\n",
            "8 -> 8\n",
            "8 -> 8\n"
          ],
          "name": "stdout"
        }
      ]
    },
    {
      "cell_type": "code",
      "metadata": {
        "id": "uAfIwDvXikB4"
      },
      "source": [
        "for path in data['species'].unique():\n",
        "  os.makedirs(f\"/content/train/{path}\")\n",
        "\n",
        "\n",
        "for path in data['species'].unique():\n",
        "  os.makedirs(f\"/content/val/{path}\")"
      ],
      "execution_count": 11,
      "outputs": []
    },
    {
      "cell_type": "code",
      "metadata": {
        "id": "bT_WhR_7iftq"
      },
      "source": [
        "t = []\n",
        "t.append(torchvision.transforms.Compose([\n",
        "        torchvision.transforms.GaussianBlur(5),\n",
        "        torchvision.transforms.RandomPerspective(p=1)]))\n",
        "\n",
        "t.append(torchvision.transforms.Compose([\n",
        "        torchvision.transforms.GaussianBlur(5),\n",
        "        torchvision.transforms.RandomVerticalFlip(p=1)]))\n",
        "\n",
        "\n",
        "t.append(torchvision.transforms.Compose([\n",
        "        torchvision.transforms.Grayscale(3),\n",
        "        torchvision.transforms.RandomVerticalFlip(p=1)]))\n",
        "\n",
        "t.append(torchvision.transforms.Compose([\n",
        "        torchvision.transforms.Grayscale(3),\n",
        "        torchvision.transforms.RandomPerspective(p=1)]))"
      ],
      "execution_count": 12,
      "outputs": []
    },
    {
      "cell_type": "code",
      "metadata": {
        "id": "WSjXpnmKh9tK"
      },
      "source": [
        "def transform_save(data,index,folder):\n",
        "  img = Image.open(data[8])\n",
        "  images = [img]\n",
        "  images.extend([T(img) for T in t])\n",
        "  image_name = data[6].split('.')[0]\n",
        "  for i, image in enumerate(images):\n",
        "    image.convert('RGB').save(f\"/content/{folder}/{data[3]}/{image_name}_{i}_{index}.jpg\")\n",
        "  values = [[data[0],data[1],data[2],data[3],data[4],data[5],f\"./{folder}/{data[3]}/{image_name}_{i}_{index}.jpg\"] for i in range(len(images))]\n",
        "  return values\n",
        "\n",
        "\n",
        "def get_dataframe(dataframe,folder = 'train'):\n",
        "  new = []\n",
        "  for i in dataframe.index:\n",
        "    new.extend(transform_save(dataframe.loc[i,:].values,index =i,folder=folder))\n",
        "  return pd.DataFrame(new,columns=['phylum','class','genus','species','form','sample','img_path'])"
      ],
      "execution_count": 13,
      "outputs": []
    },
    {
      "cell_type": "code",
      "metadata": {
        "id": "jmX2igYlHKko"
      },
      "source": [
        ""
      ],
      "execution_count": 13,
      "outputs": []
    },
    {
      "cell_type": "code",
      "metadata": {
        "id": "P2dhnhkbi2YD"
      },
      "source": [
        "train = get_dataframe(train)"
      ],
      "execution_count": 14,
      "outputs": []
    },
    {
      "cell_type": "code",
      "metadata": {
        "id": "M2NhlqOwjQus"
      },
      "source": [
        "val = get_dataframe(val,folder = 'val')"
      ],
      "execution_count": 15,
      "outputs": []
    },
    {
      "cell_type": "code",
      "metadata": {
        "id": "2L4PsAnAjccE"
      },
      "source": [
        "train.to_csv('/content/train/train.csv',index = False)\n",
        "val.to_csv('/content/val/val.csv',index = False)"
      ],
      "execution_count": 16,
      "outputs": []
    },
    {
      "cell_type": "code",
      "metadata": {
        "id": "WIcm-djqkERM",
        "colab": {
          "base_uri": "https://localhost:8080/"
        },
        "outputId": "74d038fc-26e5-4de1-e11d-cb1f70320605"
      },
      "source": [
        "!7z a Train.7z train\n",
        "!7z a Val.7z val"
      ],
      "execution_count": 17,
      "outputs": [
        {
          "output_type": "stream",
          "text": [
            "\n",
            "7-Zip [64] 16.02 : Copyright (c) 1999-2016 Igor Pavlov : 2016-05-21\n",
            "p7zip Version 16.02 (locale=en_US.UTF-8,Utf16=on,HugeFiles=on,64 bits,4 CPUs Intel(R) Xeon(R) CPU @ 2.30GHz (306F0),ASM,AES-NI)\n",
            "\n",
            "Scanning the drive:\n",
            "  0M Scan \b\b\b\b\b\b\b\b\b\b          \b\b\b\b\b\b\b\b\b\b19 folders, 1591 files, 16542206 bytes (16 MiB)\n",
            "\n",
            "Creating archive: Train.7z\n",
            "\n",
            "Items to compress: 1610\n",
            "\n",
            "  0%\b\b\b\b    \b\b\b\b  6% 153 + train/Ascaris lumbricoides/Ascaris_mouthparts_OrangeCounty_3_37.jpg\b\b\b\b\b\b\b\b\b\b\b\b\b\b\b\b\b\b\b\b\b\b\b\b\b\b\b\b\b\b\b\b\b\b\b\b\b\b\b\b\b\b\b\b\b\b\b\b\b\b\b\b\b\b\b\b\b\b\b\b\b\b\b\b\b\b\b\b\b\b\b\b\b\b\b\b\b\b                                                                              \b\b\b\b\b\b\b\b\b\b\b\b\b\b\b\b\b\b\b\b\b\b\b\b\b\b\b\b\b\b\b\b\b\b\b\b\b\b\b\b\b\b\b\b\b\b\b\b\b\b\b\b\b\b\b\b\b\b\b\b\b\b\b\b\b\b\b\b\b\b\b\b\b\b\b\b\b\b 14% 281 + train/Cyclospora cayetanensis/Cyclospora_SAF_Henry1_1_80.jpg\b\b\b\b\b\b\b\b\b\b\b\b\b\b\b\b\b\b\b\b\b\b\b\b\b\b\b\b\b\b\b\b\b\b\b\b\b\b\b\b\b\b\b\b\b\b\b\b\b\b\b\b\b\b\b\b\b\b\b\b\b\b\b\b\b\b\b\b\b\b\b                                                                       \b\b\b\b\b\b\b\b\b\b\b\b\b\b\b\b\b\b\b\b\b\b\b\b\b\b\b\b\b\b\b\b\b\b\b\b\b\b\b\b\b\b\b\b\b\b\b\b\b\b\b\b\b\b\b\b\b\b\b\b\b\b\b\b\b\b\b\b\b\b\b 22% 406 + train/Dibothriocephalus latus/Dlatum_eggs_FL_1_94.jpg\b\b\b\b\b\b\b\b\b\b\b\b\b\b\b\b\b\b\b\b\b\b\b\b\b\b\b\b\b\b\b\b\b\b\b\b\b\b\b\b\b\b\b\b\b\b\b\b\b\b\b\b\b\b\b\b\b\b\b\b\b\b\b\b                                                                \b\b\b\b\b\b\b\b\b\b\b\b\b\b\b\b\b\b\b\b\b\b\b\b\b\b\b\b\b\b\b\b\b\b\b\b\b\b\b\b\b\b\b\b\b\b\b\b\b\b\b\b\b\b\b\b\b\b\b\b\b\b\b\b 29% 511 + train/Entamoeba histolytica/Ehisto_troph_tric4_1_133.jpg\b\b\b\b\b\b\b\b\b\b\b\b\b\b\b\b\b\b\b\b\b\b\b\b\b\b\b\b\b\b\b\b\b\b\b\b\b\b\b\b\b\b\b\b\b\b\b\b\b\b\b\b\b\b\b\b\b\b\b\b\b\b\b\b\b\b\b                                                                   \b\b\b\b\b\b\b\b\b\b\b\b\b\b\b\b\b\b\b\b\b\b\b\b\b\b\b\b\b\b\b\b\b\b\b\b\b\b\b\b\b\b\b\b\b\b\b\b\b\b\b\b\b\b\b\b\b\b\b\b\b\b\b\b\b\b\b 36% 614 + train/Giardia duodenalis/Giardia_cyst_dic2_4_165.jpg\b\b\b\b\b\b\b\b\b\b\b\b\b\b\b\b\b\b\b\b\b\b\b\b\b\b\b\b\b\b\b\b\b\b\b\b\b\b\b\b\b\b\b\b\b\b\b\b\b\b\b\b\b\b\b\b\b\b\b\b\b\b\b                                                               \b\b\b\b\b\b\b\b\b\b\b\b\b\b\b\b\b\b\b\b\b\b\b\b\b\b\b\b\b\b\b\b\b\b\b\b\b\b\b\b\b\b\b\b\b\b\b\b\b\b\b\b\b\b\b\b\b\b\b\b\b\b\b 43% 732 + train/Hymenolepis spp/H_nana_adult1_2_203.jpg\b\b\b\b\b\b\b\b\b\b\b\b\b\b\b\b\b\b\b\b\b\b\b\b\b\b\b\b\b\b\b\b\b\b\b\b\b\b\b\b\b\b\b\b\b\b\b\b\b\b\b\b\b\b\b\b                                                        \b\b\b\b\b\b\b\b\b\b\b\b\b\b\b\b\b\b\b\b\b\b\b\b\b\b\b\b\b\b\b\b\b\b\b\b\b\b\b\b\b\b\b\b\b\b\b\b\b\b\b\b\b\b\b\b 50% 861 + train/Plasmodium falciparum/Pf_rings_thinD_1_209.jpg\b\b\b\b\b\b\b\b\b\b\b\b\b\b\b\b\b\b\b\b\b\b\b\b\b\b\b\b\b\b\b\b\b\b\b\b\b\b\b\b\b\b\b\b\b\b\b\b\b\b\b\b\b\b\b\b\b\b\b\b\b\b\b                                                               \b\b\b\b\b\b\b\b\b\b\b\b\b\b\b\b\b\b\b\b\b\b\b\b\b\b\b\b\b\b\b\b\b\b\b\b\b\b\b\b\b\b\b\b\b\b\b\b\b\b\b\b\b\b\b\b\b\b\b\b\b\b\b 57% 1000 + train/Plasmodium malariae/Pm_ring_thickA_0_257.jpg\b\b\b\b\b\b\b\b\b\b\b\b\b\b\b\b\b\b\b\b\b\b\b\b\b\b\b\b\b\b\b\b\b\b\b\b\b\b\b\b\b\b\b\b\b\b\b\b\b\b\b\b\b\b\b\b\b\b\b\b\b\b                                                              \b\b\b\b\b\b\b\b\b\b\b\b\b\b\b\b\b\b\b\b\b\b\b\b\b\b\b\b\b\b\b\b\b\b\b\b\b\b\b\b\b\b\b\b\b\b\b\b\b\b\b\b\b\b\b\b\b\b\b\b\b\b 64% 1145 + train/Plasmodium ovale/Po_troph_thinC_0_295.jpg\b\b\b\b\b\b\b\b\b\b\b\b\b\b\b\b\b\b\b\b\b\b\b\b\b\b\b\b\b\b\b\b\b\b\b\b\b\b\b\b\b\b\b\b\b\b\b\b\b\b\b\b\b\b\b\b\b\b\b                                                           \b\b\b\b\b\b\b\b\b\b\b\b\b\b\b\b\b\b\b\b\b\b\b\b\b\b\b\b\b\b\b\b\b\b\b\b\b\b\b\b\b\b\b\b\b\b\b\b\b\b\b\b\b\b\b\b\b\b\b 72% 1265 + train/Plasmodium vivax/Pv_schizont_thinC_0_349.jpg\b\b\b\b\b\b\b\b\b\b\b\b\b\b\b\b\b\b\b\b\b\b\b\b\b\b\b\b\b\b\b\b\b\b\b\b\b\b\b\b\b\b\b\b\b\b\b\b\b\b\b\b\b\b\b\b\b\b\b\b\b\b                                                              \b\b\b\b\b\b\b\b\b\b\b\b\b\b\b\b\b\b\b\b\b\b\b\b\b\b\b\b\b\b\b\b\b\b\b\b\b\b\b\b\b\b\b\b\b\b\b\b\b\b\b\b\b\b\b\b\b\b\b\b\b\b 80% 1366 + train/Strongyloides stercoralis/OLYMPUS DIGITAL CAMERA_1_380.jpg\b\b\b\b\b\b\b\b\b\b\b\b\b\b\b\b\b\b\b\b\b\b\b\b\b\b\b\b\b\b\b\b\b\b\b\b\b\b\b\b\b\b\b\b\b\b\b\b\b\b\b\b\b\b\b\b\b\b\b\b\b\b\b\b\b\b\b\b\b\b\b\b\b\b\b\b                                                                            \b\b\b\b\b\b\b\b\b\b\b\b\b\b\b\b\b\b\b\b\b\b\b\b\b\b\b\b\b\b\b\b\b\b\b\b\b\b\b\b\b\b\b\b\b\b\b\b\b\b\b\b\b\b\b\b\b\b\b\b\b\b\b\b\b\b\b\b\b\b\b\b\b\b\b\b 86% 1433 + train/Strongyloides stercoralis . oralis_rhabditoid_BAM7_3_369.jpg\b\b\b\b\b\b\b\b\b\b\b\b\b\b\b\b\b\b\b\b\b\b\b\b\b\b\b\b\b\b\b\b\b\b\b\b\b\b\b\b\b\b\b\b\b\b\b\b\b\b\b\b\b\b\b\b\b\b\b\b\b\b\b\b\b\b\b\b\b\b\b\b\b\b\b\b\b\b                                                                              \b\b\b\b\b\b\b\b\b\b\b\b\b\b\b\b\b\b\b\b\b\b\b\b\b\b\b\b\b\b\b\b\b\b\b\b\b\b\b\b\b\b\b\b\b\b\b\b\b\b\b\b\b\b\b\b\b\b\b\b\b\b\b\b\b\b\b\b\b\b\b\b\b\b\b\b\b\b 92% 1518 + train/Trichuris Trichuria/T_trichiura_CHA_B_3_415.jpg\b\b\b\b\b\b\b\b\b\b\b\b\b\b\b\b\b\b\b\b\b\b\b\b\b\b\b\b\b\b\b\b\b\b\b\b\b\b\b\b\b\b\b\b\b\b\b\b\b\b\b\b\b\b\b\b\b\b\b\b\b\b\b\b\b                                                                 \b\b\b\b\b\b\b\b\b\b\b\b\b\b\b\b\b\b\b\b\b\b\b\b\b\b\b\b\b\b\b\b\b\b\b\b\b\b\b\b\b\b\b\b\b\b\b\b\b\b\b\b\b\b\b\b\b\b\b\b\b\b\b\b\b100% 1591 + train/train.csv\b\b\b\b\b\b\b\b\b\b\b\b\b\b\b\b\b\b\b\b\b\b\b\b\b\b\b                           \b\b\b\b\b\b\b\b\b\b\b\b\b\b\b\b\b\b\b\b\b\b\b\b\b\b\b\n",
            "Files read from disk: 1591\n",
            "Archive size: 14690273 bytes (15 MiB)\n",
            "Everything is Ok\n",
            "\n",
            "7-Zip [64] 16.02 : Copyright (c) 1999-2016 Igor Pavlov : 2016-05-21\n",
            "p7zip Version 16.02 (locale=en_US.UTF-8,Utf16=on,HugeFiles=on,64 bits,4 CPUs Intel(R) Xeon(R) CPU @ 2.30GHz (306F0),ASM,AES-NI)\n",
            "\n",
            "Scanning the drive:\n",
            "  0M Scan \b\b\b\b\b\b\b\b\b\b          \b\b\b\b\b\b\b\b\b\b19 folders, 531 files, 5835654 bytes (5699 KiB)\n",
            "\n",
            "Creating archive: Val.7z\n",
            "\n",
            "Items to compress: 550\n",
            "\n",
            "  0%\b\b\b\b    \b\b\b\b 20% 164 + val/Enterobius vermicularis/Evermicularis_SC_posterior_4_151.jpg\b\b\b\b\b\b\b\b\b\b\b\b\b\b\b\b\b\b\b\b\b\b\b\b\b\b\b\b\b\b\b\b\b\b\b\b\b\b\b\b\b\b\b\b\b\b\b\b\b\b\b\b\b\b\b\b\b\b\b\b\b\b\b\b\b\b\b\b\b\b\b\b\b\b\b                                                                           \b\b\b\b\b\b\b\b\b\b\b\b\b\b\b\b\b\b\b\b\b\b\b\b\b\b\b\b\b\b\b\b\b\b\b\b\b\b\b\b\b\b\b\b\b\b\b\b\b\b\b\b\b\b\b\b\b\b\b\b\b\b\b\b\b\b\b\b\b\b\b\b\b\b\b 42% 287 + val/Plasmodium falciparum/Pf_rings_thickF_2_215.jpg\b\b\b\b\b\b\b\b\b\b\b\b\b\b\b\b\b\b\b\b\b\b\b\b\b\b\b\b\b\b\b\b\b\b\b\b\b\b\b\b\b\b\b\b\b\b\b\b\b\b\b\b\b\b\b\b\b\b\b\b\b\b                                                              \b\b\b\b\b\b\b\b\b\b\b\b\b\b\b\b\b\b\b\b\b\b\b\b\b\b\b\b\b\b\b\b\b\b\b\b\b\b\b\b\b\b\b\b\b\b\b\b\b\b\b\b\b\b\b\b\b\b\b\b\b\b 60% 405 + val/Plasmodium vivax/Pv_gametocyte_thinB_0_331.jpg\b\b\b\b\b\b\b\b\b\b\b\b\b\b\b\b\b\b\b\b\b\b\b\b\b\b\b\b\b\b\b\b\b\b\b\b\b\b\b\b\b\b\b\b\b\b\b\b\b\b\b\b\b\b\b\b\b\b\b\b\b                                                             \b\b\b\b\b\b\b\b\b\b\b\b\b\b\b\b\b\b\b\b\b\b\b\b\b\b\b\b\b\b\b\b\b\b\b\b\b\b\b\b\b\b\b\b\b\b\b\b\b\b\b\b\b\b\b\b\b\b\b\b\b 82% 517 + val/Trichuris Trichuria/T_trichiura_adult_HB2_2_422.jpg\b\b\b\b\b\b\b\b\b\b\b\b\b\b\b\b\b\b\b\b\b\b\b\b\b\b\b\b\b\b\b\b\b\b\b\b\b\b\b\b\b\b\b\b\b\b\b\b\b\b\b\b\b\b\b\b\b\b\b\b\b\b\b\b\b\b                                                                  \b\b\b\b\b\b\b\b\b\b\b\b\b\b\b\b\b\b\b\b\b\b\b\b\b\b\b\b\b\b\b\b\b\b\b\b\b\b\b\b\b\b\b\b\b\b\b\b\b\b\b\b\b\b\b\b\b\b\b\b\b\b\b\b\b\b\n",
            "Files read from disk: 531\n",
            "Archive size: 5299686 bytes (5176 KiB)\n",
            "Everything is Ok\n"
          ],
          "name": "stdout"
        }
      ]
    },
    {
      "cell_type": "code",
      "metadata": {
        "id": "HP8VG4Oze0CX",
        "colab": {
          "base_uri": "https://localhost:8080/"
        },
        "outputId": "1d4fc113-71ca-482b-ce60-c6c241566215"
      },
      "source": [
        "labels = ['phylum', 'class', 'genus', 'species', 'form', 'sample']\n",
        "train = pd.read_csv(\"/content/train/train.csv\")\n",
        "# train = train[train['sample']!='na']\n",
        "# train = train[train['sample']!='liver'] \n",
        "val = pd.read_csv(\"/content/val/val.csv\")\n",
        "# val = val[val['sample']!='na']\n",
        "# val = val[val['sample']!='liver']\n",
        "for col in labels:\n",
        "  print(15*'-'+col+15*'-')\n",
        "  print(train[col].nunique(),val[col].nunique(),sep=' -> ')"
      ],
      "execution_count": 18,
      "outputs": [
        {
          "output_type": "stream",
          "text": [
            "---------------phylum---------------\n",
            "5 -> 5\n",
            "---------------class---------------\n",
            "7 -> 7\n",
            "---------------genus---------------\n",
            "14 -> 14\n",
            "---------------species---------------\n",
            "18 -> 18\n",
            "---------------form---------------\n",
            "9 -> 9\n",
            "---------------sample---------------\n",
            "8 -> 8\n"
          ],
          "name": "stdout"
        }
      ]
    },
    {
      "cell_type": "code",
      "metadata": {
        "id": "q2WS8vTJm27j"
      },
      "source": [
        ""
      ],
      "execution_count": null,
      "outputs": []
    }
  ]
}