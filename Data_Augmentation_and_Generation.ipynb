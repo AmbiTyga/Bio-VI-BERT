{
  "nbformat": 4,
  "nbformat_minor": 0,
  "metadata": {
    "colab": {
      "name": "Data Augmentation and Generation",
      "provenance": [],
      "collapsed_sections": [],
      "machine_shape": "hm",
      "include_colab_link": true
    },
    "kernelspec": {
      "name": "python3",
      "display_name": "Python 3"
    }
  },
  "cells": [
    {
      "cell_type": "markdown",
      "metadata": {
        "id": "view-in-github",
        "colab_type": "text"
      },
      "source": [
        "<a href=\"https://colab.research.google.com/github/AmbiTyga/Bio-VI-BERT/blob/main/Data_Augmentation_and_Generation.ipynb\" target=\"_parent\"><img src=\"https://colab.research.google.com/assets/colab-badge.svg\" alt=\"Open In Colab\"/></a>"
      ]
    },
    {
      "cell_type": "code",
      "metadata": {
        "id": "Ujyd_pmrHjQV",
        "colab": {
          "base_uri": "https://localhost:8080/"
        },
        "outputId": "9e128727-5c5b-4741-f4f9-a4cd7318e043"
      },
      "source": [
        "!wget https://raw.githubusercontent.com/AmbiTyga/Bio-VI-BERT/main/Dataset.7z\n",
        "!7z x /content/Dataset.7z"
      ],
      "execution_count": 1,
      "outputs": [
        {
          "output_type": "stream",
          "text": [
            "--2021-03-21 09:25:11--  https://raw.githubusercontent.com/AmbiTyga/Bio-VI-BERT/main/Dataset.7z\n",
            "Resolving raw.githubusercontent.com (raw.githubusercontent.com)... 185.199.110.133, 185.199.111.133, 185.199.109.133, ...\n",
            "Connecting to raw.githubusercontent.com (raw.githubusercontent.com)|185.199.110.133|:443... connected.\n",
            "HTTP request sent, awaiting response... 200 OK\n",
            "Length: 22159364 (21M) [application/octet-stream]\n",
            "Saving to: ‘Dataset.7z’\n",
            "\n",
            "Dataset.7z          100%[===================>]  21.13M  35.2MB/s    in 0.6s    \n",
            "\n",
            "2021-03-21 09:25:12 (35.2 MB/s) - ‘Dataset.7z’ saved [22159364/22159364]\n",
            "\n",
            "\n",
            "7-Zip [64] 16.02 : Copyright (c) 1999-2016 Igor Pavlov : 2016-05-21\n",
            "p7zip Version 16.02 (locale=en_US.UTF-8,Utf16=on,HugeFiles=on,64 bits,4 CPUs Intel(R) Xeon(R) CPU @ 2.30GHz (306F0),ASM,AES-NI)\n",
            "\n",
            "Scanning the drive for archives:\n",
            "  0M Scan /content/\b\b\b\b\b\b\b\b\b\b\b\b\b\b\b\b\b\b\b                   \b\b\b\b\b\b\b\b\b\b\b\b\b\b\b\b\b\b\b1 file, 22159364 bytes (22 MiB)\n",
            "\n",
            "Extracting archive: /content/Dataset.7z\n",
            "--\n",
            "Path = /content/Dataset.7z\n",
            "Type = 7z\n",
            "Physical Size = 22159364\n",
            "Headers Size = 7630\n",
            "Method = LZMA2:24\n",
            "Solid = +\n",
            "Blocks = 1\n",
            "\n",
            "  0%\b\b\b\b    \b\b\b\b 21% 111 - Dataset/Cryptosporidium/Cryptosporidium_sp5.jpg\b\b\b\b\b\b\b\b\b\b\b\b\b\b\b\b\b\b\b\b\b\b\b\b\b\b\b\b\b\b\b\b\b\b\b\b\b\b\b\b\b\b\b\b\b\b\b\b\b\b\b\b\b\b\b\b\b\b                                                          \b\b\b\b\b\b\b\b\b\b\b\b\b\b\b\b\b\b\b\b\b\b\b\b\b\b\b\b\b\b\b\b\b\b\b\b\b\b\b\b\b\b\b\b\b\b\b\b\b\b\b\b\b\b\b\b\b\b 40% 202 - Dataset/Echinococcus/EchinococcusCellNetix_D.jpg\b\b\b\b\b\b\b\b\b\b\b\b\b\b\b\b\b\b\b\b\b\b\b\b\b\b\b\b\b\b\b\b\b\b\b\b\b\b\b\b\b\b\b\b\b\b\b\b\b\b\b\b\b\b\b\b\b\b\b                                                           \b\b\b\b\b\b\b\b\b\b\b\b\b\b\b\b\b\b\b\b\b\b\b\b\b\b\b\b\b\b\b\b\b\b\b\b\b\b\b\b\b\b\b\b\b\b\b\b\b\b\b\b\b\b\b\b\b\b\b 58% 308 - Dataset/Giardia/Giardia_troph_tric.jpg\b\b\b\b\b\b\b\b\b\b\b\b\b\b\b\b\b\b\b\b\b\b\b\b\b\b\b\b\b\b\b\b\b\b\b\b\b\b\b\b\b\b\b\b\b\b\b\b\b                                                 \b\b\b\b\b\b\b\b\b\b\b\b\b\b\b\b\b\b\b\b\b\b\b\b\b\b\b\b\b\b\b\b\b\b\b\b\b\b\b\b\b\b\b\b\b\b\b\b\b 74% 391 - Dataset/Plasmodium/Pk_schizont_thin_NY3.jpg\b\b\b\b\b\b\b\b\b\b\b\b\b\b\b\b\b\b\b\b\b\b\b\b\b\b\b\b\b\b\b\b\b\b\b\b\b\b\b\b\b\b\b\b\b\b\b\b\b\b\b\b\b\b                                                      \b\b\b\b\b\b\b\b\b\b\b\b\b\b\b\b\b\b\b\b\b\b\b\b\b\b\b\b\b\b\b\b\b\b\b\b\b\b\b\b\b\b\b\b\b\b\b\b\b\b\b\b\b\b 89% 507 - Dataset/Sarcocystis/Sarcocystis_DIC2_400x.jpg\b\b\b\b\b\b\b\b\b\b\b\b\b\b\b\b\b\b\b\b\b\b\b\b\b\b\b\b\b\b\b\b\b\b\b\b\b\b\b\b\b\b\b\b\b\b\b\b\b\b\b\b\b\b\b\b                                                        \b\b\b\b\b\b\b\b\b\b\b\b\b\b\b\b\b\b\b\b\b\b\b\b\b\b\b\b\b\b\b\b\b\b\b\b\b\b\b\b\b\b\b\b\b\b\b\b\b\b\b\b\b\b\b\bEverything is Ok\n",
            "\n",
            "Folders: 23\n",
            "Files: 601\n",
            "Size:       26736239\n",
            "Compressed: 22159364\n"
          ],
          "name": "stdout"
        }
      ]
    },
    {
      "cell_type": "code",
      "metadata": {
        "id": "XvnR57p_gmWy"
      },
      "source": [
        "import pandas as pd\n",
        "from sklearn.model_selection import train_test_split\n",
        "import os\n",
        "\n",
        "import torchvision\n",
        "from PIL import Image"
      ],
      "execution_count": 3,
      "outputs": []
    },
    {
      "cell_type": "code",
      "metadata": {
        "id": "JB6vuTg5hB8v"
      },
      "source": [
        "data = pd.read_excel(\"/content/Dataset/all_meta_data.xlsx\")"
      ],
      "execution_count": 58,
      "outputs": []
    },
    {
      "cell_type": "code",
      "metadata": {
        "id": "KpZkPOzVGxYW"
      },
      "source": [
        "data.species=data.species.replace({\"Hymenolepis diminuta\":\"Hymenolepis spp\",\n",
        "                    \"Hymenolepis nana\":\"Hymenolepis spp\",\n",
        "                    \"Taenia solium\":\"na\",\n",
        "                    \"Clonorchis sinensis\":\"na\",\n",
        "                    \"Trichinella sp.\":\"na\",\n",
        "                    \"B. coli\":\"na\",\n",
        "                    \"Toxoplasma gondii\":\"na\",\n",
        "                    })"
      ],
      "execution_count": 59,
      "outputs": []
    },
    {
      "cell_type": "code",
      "metadata": {
        "id": "r-3DrjVFhv8a"
      },
      "source": [
        "data['phylum'] = data['phylum'].replace({'Roundworms':'Nematoda','Flatworm':'Platyhelminthes'})\n",
        "data['class'] = data['class'].replace({'\\tConoidasida':'Conoidasida','Tapeworms':'Cestoda'})\n",
        "data['species'] = data['species'].replace({'Ancyclostoma sp.':'Ancyclostoma sp.','Entamoeba histolytica]':'Entamoeba histolytica'})\n",
        "data['form'] = data['form'].replace({'rings':'trophozoites','decorticated egg':'egg'})\n",
        "data['sample'] = data['sample'].replace({'intestinal tissue':'intestine', 'intestine':'intestine'})"
      ],
      "execution_count": 60,
      "outputs": []
    },
    {
      "cell_type": "code",
      "metadata": {
        "id": "NGRo1k4ihHKW"
      },
      "source": [
        "data = [x for _,x in data.groupby('species') if len(x)>12]\n",
        "\n",
        "data = pd.concat(data,ignore_index=True)\n",
        "data['species'] = data['species'].str.replace('.','')\n"
      ],
      "execution_count": 61,
      "outputs": []
    },
    {
      "cell_type": "code",
      "metadata": {
        "id": "EYkWg6IvgyPb",
        "colab": {
          "base_uri": "https://localhost:8080/"
        },
        "outputId": "5aa48c79-2982-4783-f2c7-f05e64b1ca6a"
      },
      "source": [
        "data['species'].value_counts()"
      ],
      "execution_count": 62,
      "outputs": [
        {
          "output_type": "execute_result",
          "data": {
            "text/plain": [
              "na                           49\n",
              "Cyclospora cayetanensis      37\n",
              "Plasmodium malariae          37\n",
              "Giardia duodenalis           36\n",
              "Plasmodium falciparum        36\n",
              "Ascaris lumbricoides         36\n",
              "Entamoeba histolytica        36\n",
              "Plasmodium vivax             36\n",
              "Plasmodium ovale             34\n",
              "Hymenolepis spp              23\n",
              "Strongyloides stercoralis    22\n",
              "Dibothriocephalus latus      21\n",
              "Trichuris Trichuria          19\n",
              "Enterobius vermicularis      18\n",
              "Toxocara canis               17\n",
              "Ancyclostoma sp              17\n",
              "Sarcocystis sp               16\n",
              "Cryptosporidium sp           16\n",
              "Plasmodium knowlesi          15\n",
              "Name: species, dtype: int64"
            ]
          },
          "metadata": {
            "tags": []
          },
          "execution_count": 62
        }
      ]
    },
    {
      "cell_type": "code",
      "metadata": {
        "id": "yvJDPeERhgsA"
      },
      "source": [
        "train, val = train_test_split(\n",
        "    data, test_size=0.25, random_state=2021,stratify = data['species'])"
      ],
      "execution_count": 63,
      "outputs": []
    },
    {
      "cell_type": "code",
      "metadata": {
        "id": "uAfIwDvXikB4"
      },
      "source": [
        "\n",
        "for path in data['species'].unique():\n",
        "  os.makedirs(f\"/content/train/{path}\")\n",
        "\n",
        "\n",
        "for path in data['species'].unique():\n",
        "  os.makedirs(f\"/content/val/{path}\")"
      ],
      "execution_count": 64,
      "outputs": []
    },
    {
      "cell_type": "code",
      "metadata": {
        "id": "O-79Tk-nJzOp"
      },
      "source": [
        "!rm -r train val"
      ],
      "execution_count": 57,
      "outputs": []
    },
    {
      "cell_type": "code",
      "metadata": {
        "id": "bT_WhR_7iftq"
      },
      "source": [
        "t = []\n",
        "t.append(torchvision.transforms.Compose([\n",
        "        torchvision.transforms.GaussianBlur(5),\n",
        "        torchvision.transforms.RandomPerspective(p=1)]))\n",
        "\n",
        "t.append(torchvision.transforms.Compose([\n",
        "        torchvision.transforms.GaussianBlur(5),\n",
        "        torchvision.transforms.RandomVerticalFlip(p=1)]))\n",
        "\n",
        "\n",
        "t.append(torchvision.transforms.Compose([\n",
        "        torchvision.transforms.Grayscale(3),\n",
        "        torchvision.transforms.RandomVerticalFlip(p=1)]))\n",
        "\n",
        "t.append(torchvision.transforms.Compose([\n",
        "        torchvision.transforms.Grayscale(3),\n",
        "        torchvision.transforms.RandomPerspective(p=1)]))"
      ],
      "execution_count": 65,
      "outputs": []
    },
    {
      "cell_type": "code",
      "metadata": {
        "id": "WSjXpnmKh9tK"
      },
      "source": [
        "def transform_save(data,index,folder):\n",
        "  img = Image.open(data[8])\n",
        "  images = [img]\n",
        "  images.extend((T(img) for T in t))\n",
        "  for i, image in enumerate(images):\n",
        "    image.convert('RGB').save(f\"/content/{folder}/{data[3]}/T_{i}_{index}.jpg\")\n",
        "  values = [[data[0],data[1],data[2],data[3],data[4],data[5],f\"/train/{data[3]}/T_{i}_{index}.jpg\"] for i in range(len(images))]\n",
        "  return values\n",
        "\n",
        "\n",
        "def get_dataframe(dataframe,folder = 'train'):\n",
        "  new = []\n",
        "  for i in dataframe.index:\n",
        "    new.extend(transform_save(dataframe.loc[i,:].values,index =i,folder=folder))\n",
        "  return pd.DataFrame(new,columns=['phylum','class','genus','species','form','sample','img_path'])"
      ],
      "execution_count": 66,
      "outputs": []
    },
    {
      "cell_type": "code",
      "metadata": {
        "id": "jmX2igYlHKko"
      },
      "source": [
        "\n",
        "def get_val_dataframe(dataframe):\n",
        "  new = []\n",
        "  \n",
        "  for data in dataframe.values:\n",
        "    new.append([data[0],data[1],data[2],data[3],data[4],data[5],copyfile(data[8],f\"./val/{data[3]}/{data[6]}.jpg\")])\n",
        "  return pd.DataFrame(new,columns=['phylum','class','genus','species','form','sample','img_path'])"
      ],
      "execution_count": 67,
      "outputs": []
    },
    {
      "cell_type": "code",
      "metadata": {
        "id": "P2dhnhkbi2YD"
      },
      "source": [
        "train = get_dataframe(train)"
      ],
      "execution_count": 68,
      "outputs": []
    },
    {
      "cell_type": "code",
      "metadata": {
        "id": "M2NhlqOwjQus"
      },
      "source": [
        "val = get_val_dataframe(val)"
      ],
      "execution_count": 69,
      "outputs": []
    },
    {
      "cell_type": "code",
      "metadata": {
        "id": "2L4PsAnAjccE"
      },
      "source": [
        "train.to_csv('/content/train/train.csv',index = False)\n",
        "val.to_csv('/content/val/val.csv',index = False)"
      ],
      "execution_count": 70,
      "outputs": []
    },
    {
      "cell_type": "code",
      "metadata": {
        "id": "WIcm-djqkERM",
        "colab": {
          "base_uri": "https://localhost:8080/"
        },
        "outputId": "af035d09-9a8c-453e-8ff4-9bdc74d469cc"
      },
      "source": [
        "!7z a Train.7z train\n",
        "!7z a Val.7z val"
      ],
      "execution_count": 71,
      "outputs": [
        {
          "output_type": "stream",
          "text": [
            "\n",
            "7-Zip [64] 16.02 : Copyright (c) 1999-2016 Igor Pavlov : 2016-05-21\n",
            "p7zip Version 16.02 (locale=en_US.UTF-8,Utf16=on,HugeFiles=on,64 bits,4 CPUs Intel(R) Xeon(R) CPU @ 2.30GHz (306F0),ASM,AES-NI)\n",
            "\n",
            "Scanning the drive:\n",
            "  0M Scan \b\b\b\b\b\b\b\b\b\b          \b\b\b\b\b\b\b\b\b\b20 folders, 1951 files, 24379880 bytes (24 MiB)\n",
            "\n",
            "Creating archive: Train.7z\n",
            "\n",
            "Items to compress: 1971\n",
            "\n",
            "  0%\b\b\b\b    \b\b\b\b  4% 153 + train/Ascaris lumbricoides/T_3_28.jpg\b\b\b\b\b\b\b\b\b\b\b\b\b\b\b\b\b\b\b\b\b\b\b\b\b\b\b\b\b\b\b\b\b\b\b\b\b\b\b\b\b\b\b\b\b\b\b\b                                                \b\b\b\b\b\b\b\b\b\b\b\b\b\b\b\b\b\b\b\b\b\b\b\b\b\b\b\b\b\b\b\b\b\b\b\b\b\b\b\b\b\b\b\b\b\b\b\b 10% 264 + train/Cyclospora cayetanensis/T_0_71.jpg\b\b\b\b\b\b\b\b\b\b\b\b\b\b\b\b\b\b\b\b\b\b\b\b\b\b\b\b\b\b\b\b\b\b\b\b\b\b\b\b\b\b\b\b\b\b\b\b\b\b\b                                                   \b\b\b\b\b\b\b\b\b\b\b\b\b\b\b\b\b\b\b\b\b\b\b\b\b\b\b\b\b\b\b\b\b\b\b\b\b\b\b\b\b\b\b\b\b\b\b\b\b\b\b 15% 401 + train/Dibothriocephalus latus/T_0_108.jpg\b\b\b\b\b\b\b\b\b\b\b\b\b\b\b\b\b\b\b\b\b\b\b\b\b\b\b\b\b\b\b\b\b\b\b\b\b\b\b\b\b\b\b\b\b\b\b\b\b\b\b\b                                                    \b\b\b\b\b\b\b\b\b\b\b\b\b\b\b\b\b\b\b\b\b\b\b\b\b\b\b\b\b\b\b\b\b\b\b\b\b\b\b\b\b\b\b\b\b\b\b\b\b\b\b\b 21% 497 + train/Entamoeba histolytica/T_0_151.jpg\b\b\b\b\b\b\b\b\b\b\b\b\b\b\b\b\b\b\b\b\b\b\b\b\b\b\b\b\b\b\b\b\b\b\b\b\b\b\b\b\b\b\b\b\b\b\b\b\b\b                                                  \b\b\b\b\b\b\b\b\b\b\b\b\b\b\b\b\b\b\b\b\b\b\b\b\b\b\b\b\b\b\b\b\b\b\b\b\b\b\b\b\b\b\b\b\b\b\b\b\b\b 26% 534 + train/Entamoeba histolytica/T_2_127.jpg\b\b\b\b\b\b\b\b\b\b\b\b\b\b\b\b\b\b\b\b\b\b\b\b\b\b\b\b\b\b\b\b\b\b\b\b\b\b\b\b\b\b\b\b\b\b\b\b\b\b                                                  \b\b\b\b\b\b\b\b\b\b\b\b\b\b\b\b\b\b\b\b\b\b\b\b\b\b\b\b\b\b\b\b\b\b\b\b\b\b\b\b\b\b\b\b\b\b\b\b\b\b 32% 585 + train/Entamoeba histolytica/T_3_158.jpg\b\b\b\b\b\b\b\b\b\b\b\b\b\b\b\b\b\b\b\b\b\b\b\b\b\b\b\b\b\b\b\b\b\b\b\b\b\b\b\b\b\b\b\b\b\b\b\b\b\b                                                  \b\b\b\b\b\b\b\b\b\b\b\b\b\b\b\b\b\b\b\b\b\b\b\b\b\b\b\b\b\b\b\b\b\b\b\b\b\b\b\b\b\b\b\b\b\b\b\b\b\b 37% 633 + train/Enterobius vermicularis/T_1_171.jpg\b\b\b\b\b\b\b\b\b\b\b\b\b\b\b\b\b\b\b\b\b\b\b\b\b\b\b\b\b\b\b\b\b\b\b\b\b\b\b\b\b\b\b\b\b\b\b\b\b\b\b\b                                                    \b\b\b\b\b\b\b\b\b\b\b\b\b\b\b\b\b\b\b\b\b\b\b\b\b\b\b\b\b\b\b\b\b\b\b\b\b\b\b\b\b\b\b\b\b\b\b\b\b\b\b\b 43% 727 + train/Giardia duodenalis/T_1_209.jpg\b\b\b\b\b\b\b\b\b\b\b\b\b\b\b\b\b\b\b\b\b\b\b\b\b\b\b\b\b\b\b\b\b\b\b\b\b\b\b\b\b\b\b\b\b\b\b                                               \b\b\b\b\b\b\b\b\b\b\b\b\b\b\b\b\b\b\b\b\b\b\b\b\b\b\b\b\b\b\b\b\b\b\b\b\b\b\b\b\b\b\b\b\b\b\b 48% 786 + train/Giardia duodenalis/T_3_215.jpg\b\b\b\b\b\b\b\b\b\b\b\b\b\b\b\b\b\b\b\b\b\b\b\b\b\b\b\b\b\b\b\b\b\b\b\b\b\b\b\b\b\b\b\b\b\b\b                                               \b\b\b\b\b\b\b\b\b\b\b\b\b\b\b\b\b\b\b\b\b\b\b\b\b\b\b\b\b\b\b\b\b\b\b\b\b\b\b\b\b\b\b\b\b\b\b 53% 877 + train/Hymenolepis spp/T_3_232.jpg\b\b\b\b\b\b\b\b\b\b\b\b\b\b\b\b\b\b\b\b\b\b\b\b\b\b\b\b\b\b\b\b\b\b\b\b\b\b\b\b\b\b\b\b                                            \b\b\b\b\b\b\b\b\b\b\b\b\b\b\b\b\b\b\b\b\b\b\b\b\b\b\b\b\b\b\b\b\b\b\b\b\b\b\b\b\b\b\b\b 59% 1010 + train/Plasmodium falciparum/T_4_244.jpg\b\b\b\b\b\b\b\b\b\b\b\b\b\b\b\b\b\b\b\b\b\b\b\b\b\b\b\b\b\b\b\b\b\b\b\b\b\b\b\b\b\b\b\b\b\b\b\b\b\b\b                                                   \b\b\b\b\b\b\b\b\b\b\b\b\b\b\b\b\b\b\b\b\b\b\b\b\b\b\b\b\b\b\b\b\b\b\b\b\b\b\b\b\b\b\b\b\b\b\b\b\b\b\b 64% 1141 + train/Plasmodium malariae/T_1_321.jpg\b\b\b\b\b\b\b\b\b\b\b\b\b\b\b\b\b\b\b\b\b\b\b\b\b\b\b\b\b\b\b\b\b\b\b\b\b\b\b\b\b\b\b\b\b\b\b\b\b                                                 \b\b\b\b\b\b\b\b\b\b\b\b\b\b\b\b\b\b\b\b\b\b\b\b\b\b\b\b\b\b\b\b\b\b\b\b\b\b\b\b\b\b\b\b\b\b\b\b\b 68% 1274 + train/Plasmodium ovale/T_1_355.jpg\b\b\b\b\b\b\b\b\b\b\b\b\b\b\b\b\b\b\b\b\b\b\b\b\b\b\b\b\b\b\b\b\b\b\b\b\b\b\b\b\b\b\b\b\b\b                                              \b\b\b\b\b\b\b\b\b\b\b\b\b\b\b\b\b\b\b\b\b\b\b\b\b\b\b\b\b\b\b\b\b\b\b\b\b\b\b\b\b\b\b\b\b\b 73% 1404 + train/Plasmodium vivax/T_1_392.jpg\b\b\b\b\b\b\b\b\b\b\b\b\b\b\b\b\b\b\b\b\b\b\b\b\b\b\b\b\b\b\b\b\b\b\b\b\b\b\b\b\b\b\b\b\b\b                                              \b\b\b\b\b\b\b\b\b\b\b\b\b\b\b\b\b\b\b\b\b\b\b\b\b\b\b\b\b\b\b\b\b\b\b\b\b\b\b\b\b\b\b\b\b\b 77% 1529 + train/Sarcocystis sp/T_3_401.jpg\b\b\b\b\b\b\b\b\b\b\b\b\b\b\b\b\b\b\b\b\b\b\b\b\b\b\b\b\b\b\b\b\b\b\b\b\b\b\b\b\b\b\b\b                                            \b\b\b\b\b\b\b\b\b\b\b\b\b\b\b\b\b\b\b\b\b\b\b\b\b\b\b\b\b\b\b\b\b\b\b\b\b\b\b\b\b\b\b\b 82% 1612 + train/Strongyloides stercoralis/T_3_434.jpg\b\b\b\b\b\b\b\b\b\b\b\b\b\b\b\b\b\b\b\b\b\b\b\b\b\b\b\b\b\b\b\b\b\b\b\b\b\b\b\b\b\b\b\b\b\b\b\b\b\b\b\b\b\b\b                                                       \b\b\b\b\b\b\b\b\b\b\b\b\b\b\b\b\b\b\b\b\b\b\b\b\b\b\b\b\b\b\b\b\b\b\b\b\b\b\b\b\b\b\b\b\b\b\b\b\b\b\b\b\b\b\b 86% 1707 + train/Trichuris Trichuria/T_0_469.jpg\b\b\b\b\b\b\b\b\b\b\b\b\b\b\b\b\b\b\b\b\b\b\b\b\b\b\b\b\b\b\b\b\b\b\b\b\b\b\b\b\b\b\b\b\b\b\b\b\b                                                 \b\b\b\b\b\b\b\b\b\b\b\b\b\b\b\b\b\b\b\b\b\b\b\b\b\b\b\b\b\b\b\b\b\b\b\b\b\b\b\b\b\b\b\b\b\b\b\b\b 91% 1797 + train/na/T_0_515.jpg\b\b\b\b\b\b\b\b\b\b\b\b\b\b\b\b\b\b\b\b\b\b\b\b\b\b\b\b\b\b\b\b                                \b\b\b\b\b\b\b\b\b\b\b\b\b\b\b\b\b\b\b\b\b\b\b\b\b\b\b\b\b\b\b\b 96% 1899 + train/na/T_3_503.jpg\b\b\b\b\b\b\b\b\b\b\b\b\b\b\b\b\b\b\b\b\b\b\b\b\b\b\b\b\b\b\b\b                                \b\b\b\b\b\b\b\b\b\b\b\b\b\b\b\b\b\b\b\b\b\b\b\b\b\b\b\b\b\b\b\b\n",
            "Files read from disk: 1951\n",
            "Archive size: 21599892 bytes (21 MiB)\n",
            "Everything is Ok\n",
            "\n",
            "7-Zip [64] 16.02 : Copyright (c) 1999-2016 Igor Pavlov : 2016-05-21\n",
            "p7zip Version 16.02 (locale=en_US.UTF-8,Utf16=on,HugeFiles=on,64 bits,4 CPUs Intel(R) Xeon(R) CPU @ 2.30GHz (306F0),ASM,AES-NI)\n",
            "\n",
            "Scanning the drive:\n",
            "  0M Scan \b\b\b\b\b\b\b\b\b\b          \b\b\b\b\b\b\b\b\b\b20 folders, 132 files, 5949144 bytes (5810 KiB)\n",
            "\n",
            "Creating archive: Val.7z\n",
            "\n",
            "Items to compress: 152\n",
            "\n",
            "  0%\b\b\b\b    \b\b\b\b 23% 55 + val/Hymenolepis spp/H_diminuta_proglottids_HE_BAM1.jpg.jpg\b\b\b\b\b\b\b\b\b\b\b\b\b\b\b\b\b\b\b\b\b\b\b\b\b\b\b\b\b\b\b\b\b\b\b\b\b\b\b\b\b\b\b\b\b\b\b\b\b\b\b\b\b\b\b\b\b\b\b\b\b\b\b\b\b\b\b\b                                                                    \b\b\b\b\b\b\b\b\b\b\b\b\b\b\b\b\b\b\b\b\b\b\b\b\b\b\b\b\b\b\b\b\b\b\b\b\b\b\b\b\b\b\b\b\b\b\b\b\b\b\b\b\b\b\b\b\b\b\b\b\b\b\b\b\b\b\b\b 50% 88 + val/Plasmodium ovale/Po_schizont_thinB.jpg.jpg\b\b\b\b\b\b\b\b\b\b\b\b\b\b\b\b\b\b\b\b\b\b\b\b\b\b\b\b\b\b\b\b\b\b\b\b\b\b\b\b\b\b\b\b\b\b\b\b\b\b\b\b\b\b\b\b                                                        \b\b\b\b\b\b\b\b\b\b\b\b\b\b\b\b\b\b\b\b\b\b\b\b\b\b\b\b\b\b\b\b\b\b\b\b\b\b\b\b\b\b\b\b\b\b\b\b\b\b\b\b\b\b\b\b 79% 123 + val/na/Cysticercus_D.jpg\b\b\b\b\b\b\b\b\b\b\b\b\b\b\b\b\b\b\b\b\b\b\b\b\b\b\b\b\b\b\b\b\b\b\b                                   \b\b\b\b\b\b\b\b\b\b\b\b\b\b\b\b\b\b\b\b\b\b\b\b\b\b\b\b\b\b\b\b\b\b\b\n",
            "Files read from disk: 132\n",
            "Archive size: 4849556 bytes (4736 KiB)\n",
            "Everything is Ok\n"
          ],
          "name": "stdout"
        }
      ]
    },
    {
      "cell_type": "code",
      "metadata": {
        "id": "5sape2Dolcwc"
      },
      "source": [
        ""
      ],
      "execution_count": null,
      "outputs": []
    }
  ]
}