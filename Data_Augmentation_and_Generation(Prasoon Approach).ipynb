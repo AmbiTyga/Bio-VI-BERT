{
  "nbformat": 4,
  "nbformat_minor": 0,
  "metadata": {
    "colab": {
      "name": "Data Augmentation and Generation",
      "provenance": [],
      "collapsed_sections": [],
      "machine_shape": "hm",
      "include_colab_link": true
    },
    "kernelspec": {
      "name": "python3",
      "display_name": "Python 3"
    }
  },
  "cells": [
    {
      "cell_type": "markdown",
      "metadata": {
        "id": "view-in-github",
        "colab_type": "text"
      },
      "source": [
        "<a href=\"https://colab.research.google.com/github/AmbiTyga/Bio-VI-BERT/blob/main/Data_Augmentation_and_Generation(Prasoon%20Approach).ipynb\" target=\"_parent\"><img src=\"https://colab.research.google.com/assets/colab-badge.svg\" alt=\"Open In Colab\"/></a>"
      ]
    },
    {
      "cell_type": "code",
      "metadata": {
        "id": "Ujyd_pmrHjQV",
        "colab": {
          "base_uri": "https://localhost:8080/"
        },
        "outputId": "de1145ab-7747-420a-bd3c-32dc325c6344"
      },
      "source": [
        "!wget https://raw.githubusercontent.com/AmbiTyga/Bio-VI-BERT/main/Parasite.7z\n",
        "!7z x /content/Parasite.7z"
      ],
      "execution_count": 1,
      "outputs": [
        {
          "output_type": "stream",
          "text": [
            "--2021-05-07 10:32:48--  https://raw.githubusercontent.com/AmbiTyga/Bio-VI-BERT/main/Parasite.7z\n",
            "Resolving raw.githubusercontent.com (raw.githubusercontent.com)... 185.199.108.133, 185.199.109.133, 185.199.110.133, ...\n",
            "Connecting to raw.githubusercontent.com (raw.githubusercontent.com)|185.199.108.133|:443... connected.\n",
            "HTTP request sent, awaiting response... 200 OK\n",
            "Length: 20003284 (19M) [application/octet-stream]\n",
            "Saving to: ‘Parasite.7z’\n",
            "\n",
            "Parasite.7z         100%[===================>]  19.08M  47.0MB/s    in 0.4s    \n",
            "\n",
            "2021-05-07 10:32:52 (47.0 MB/s) - ‘Parasite.7z’ saved [20003284/20003284]\n",
            "\n",
            "\n",
            "7-Zip [64] 16.02 : Copyright (c) 1999-2016 Igor Pavlov : 2016-05-21\n",
            "p7zip Version 16.02 (locale=en_US.UTF-8,Utf16=on,HugeFiles=on,64 bits,4 CPUs AMD EPYC 7B12 (830F10),ASM,AES-NI)\n",
            "\n",
            "Scanning the drive for archives:\n",
            "  0M Scan /content/\b\b\b\b\b\b\b\b\b\b\b\b\b\b\b\b\b\b\b                   \b\b\b\b\b\b\b\b\b\b\b\b\b\b\b\b\b\b\b1 file, 20003284 bytes (20 MiB)\n",
            "\n",
            "Extracting archive: /content/Parasite.7z\n",
            "--\n",
            "Path = /content/Parasite.7z\n",
            "Type = 7z\n",
            "Physical Size = 20003284\n",
            "Headers Size = 7315\n",
            "Method = LZMA2:24\n",
            "Solid = +\n",
            "Blocks = 1\n",
            "\n",
            "  0%\b\b\b\b    \b\b\b\b 24% 111 - Dataset/Cryptosporidium/Cryptosporidium_sp5.jpg\b\b\b\b\b\b\b\b\b\b\b\b\b\b\b\b\b\b\b\b\b\b\b\b\b\b\b\b\b\b\b\b\b\b\b\b\b\b\b\b\b\b\b\b\b\b\b\b\b\b\b\b\b\b\b\b\b\b                                                          \b\b\b\b\b\b\b\b\b\b\b\b\b\b\b\b\b\b\b\b\b\b\b\b\b\b\b\b\b\b\b\b\b\b\b\b\b\b\b\b\b\b\b\b\b\b\b\b\b\b\b\b\b\b\b\b\b\b 44% 202 - Dataset/Echinococcus/EchinococcusCellNetix_D.jpg\b\b\b\b\b\b\b\b\b\b\b\b\b\b\b\b\b\b\b\b\b\b\b\b\b\b\b\b\b\b\b\b\b\b\b\b\b\b\b\b\b\b\b\b\b\b\b\b\b\b\b\b\b\b\b\b\b\b\b                                                           \b\b\b\b\b\b\b\b\b\b\b\b\b\b\b\b\b\b\b\b\b\b\b\b\b\b\b\b\b\b\b\b\b\b\b\b\b\b\b\b\b\b\b\b\b\b\b\b\b\b\b\b\b\b\b\b\b\b\b 60% 338 - Dataset/Plasmodium/Pf_MaurersC.jpg\b\b\b\b\b\b\b\b\b\b\b\b\b\b\b\b\b\b\b\b\b\b\b\b\b\b\b\b\b\b\b\b\b\b\b\b\b\b\b\b\b\b\b\b\b                                             \b\b\b\b\b\b\b\b\b\b\b\b\b\b\b\b\b\b\b\b\b\b\b\b\b\b\b\b\b\b\b\b\b\b\b\b\b\b\b\b\b\b\b\b\b 78% 438 - Dataset/Plasmodium/Po_schizont_thinB.jpg\b\b\b\b\b\b\b\b\b\b\b\b\b\b\b\b\b\b\b\b\b\b\b\b\b\b\b\b\b\b\b\b\b\b\b\b\b\b\b\b\b\b\b\b\b\b\b\b\b\b\b                                                   \b\b\b\b\b\b\b\b\b\b\b\b\b\b\b\b\b\b\b\b\b\b\b\b\b\b\b\b\b\b\b\b\b\b\b\b\b\b\b\b\b\b\b\b\b\b\b\b\b\b\b 99% 529 - Dataset/Strongyloides/S_stercoralis_rhabditoid_BAM10.jpg\b\b\b\b\b\b\b\b\b\b\b\b\b\b\b\b\b\b\b\b\b\b\b\b\b\b\b\b\b\b\b\b\b\b\b\b\b\b\b\b\b\b\b\b\b\b\b\b\b\b\b\b\b\b\b\b\b\b\b\b\b\b\b\b\b\b\b                                                                   \b\b\b\b\b\b\b\b\b\b\b\b\b\b\b\b\b\b\b\b\b\b\b\b\b\b\b\b\b\b\b\b\b\b\b\b\b\b\b\b\b\b\b\b\b\b\b\b\b\b\b\b\b\b\b\b\b\b\b\b\b\b\b\b\b\b\bEverything is Ok\n",
            "\n",
            "Folders: 23\n",
            "Files: 583\n",
            "Size:       24569789\n",
            "Compressed: 20003284\n"
          ],
          "name": "stdout"
        }
      ]
    },
    {
      "cell_type": "code",
      "metadata": {
        "id": "XvnR57p_gmWy"
      },
      "source": [
        "import pandas as pd\n",
        "from sklearn.model_selection import train_test_split\n",
        "import os\n",
        "\n",
        "import torchvision\n",
        "from PIL import Image"
      ],
      "execution_count": 2,
      "outputs": []
    },
    {
      "cell_type": "code",
      "metadata": {
        "id": "5UVRGFlIzULJ"
      },
      "source": [
        "del data"
      ],
      "execution_count": null,
      "outputs": []
    },
    {
      "cell_type": "code",
      "metadata": {
        "id": "JB6vuTg5hB8v"
      },
      "source": [
        "data = pd.read_csv(\"/content/all_meta_data_updated.csv\")"
      ],
      "execution_count": 42,
      "outputs": []
    },
    {
      "cell_type": "code",
      "metadata": {
        "id": "1iEnLB7VAvfo"
      },
      "source": [
        "data.species.replace({\"Hymenolepis diminuta\":\"Hymenolepis spp\",\n",
        "                    \"Hymenolepis nana\":\"Hymenolepis spp\",\n",
        "                    # \"Taenia solium\":\"na\",\n",
        "                    # \"Clonorchis sinensis\":\"na\",\n",
        "                    # \"Trichinella sp.\":\"na\",\n",
        "                    # \"B. coli\":\"na\",\n",
        "                    # \"Toxoplasma gondii\":\"na\",\n",
        "                    },inplace = True)\n",
        "data['phylum'].replace({'Roundworms':'Nematoda','Flatworm':'Platyhelminthes'},inplace = True)\n",
        "data['class'].replace({'\\tConoidasida':'Conoidasida','Tapeworms':'Cestoda'},inplace = True)\n",
        "data['species'].replace({'Entamoeba histolytica]':'Entamoeba histolytica'},inplace = True)\n",
        "data['form'].replace({'rings':'trophozoites','decorticated egg':'egg','ookinete':'egg'},inplace = True)\n",
        "data['sample'].replace({'intestinal tissue':'intestine', 'intestine ':'intestine','sputum':'lungs'},inplace = True)"
      ],
      "execution_count": 43,
      "outputs": []
    },
    {
      "cell_type": "code",
      "metadata": {
        "id": "pnwxeyl0IVXF",
        "colab": {
          "base_uri": "https://localhost:8080/"
        },
        "outputId": "ae0f36d2-044c-4cb7-ea31-8f748e363278"
      },
      "source": [
        "data['species'].value_counts()"
      ],
      "execution_count": 44,
      "outputs": [
        {
          "output_type": "execute_result",
          "data": {
            "text/plain": [
              "Plasmodium vivax               36\n",
              "Plasmodium falciparum          36\n",
              "Cyclospora cayetanensis        30\n",
              "Plasmodium malariae            30\n",
              "Ascaris lumbricoides           29\n",
              "Plasmodium ovale               27\n",
              "Giardia duodenalis             27\n",
              "Entamoeba histolytica          27\n",
              "Strongyloides stercoralis      22\n",
              "Hymenolepis spp                21\n",
              "Dibothriocephalus latus        21\n",
              "Trichuris Trichuria            19\n",
              "Enterobius vermicularis        18\n",
              "Ancyclostoma sp.               17\n",
              "Toxocara canis                 17\n",
              "Cryptosporidium sp.            16\n",
              "Sarcocystis sp.                16\n",
              "Plasmodium knowlesi            15\n",
              "Toxoplasma gondii              13\n",
              "Trichinella sp.                13\n",
              "Echinococcus granulosus        12\n",
              "Fasciola hepatica              11\n",
              "B. coli                         9\n",
              "Clonorchis sinensis             8\n",
              "Dicrocoelium dendriticum        7\n",
              "Taenia solium                   6\n",
              "Echinococcus multilocularis     4\n",
              "Strongyloides fuelleborni       3\n",
              "Name: species, dtype: int64"
            ]
          },
          "metadata": {
            "tags": []
          },
          "execution_count": 44
        }
      ]
    },
    {
      "cell_type": "code",
      "metadata": {
        "id": "A8IzgsLK2ZIv"
      },
      "source": [
        "data = [x for _,x in data.groupby(['phylum', 'class', 'genus', 'species', 'form', 'sample']) if len(x)>=8]\n",
        "\n",
        "data = pd.concat(data,ignore_index=True)"
      ],
      "execution_count": 45,
      "outputs": []
    },
    {
      "cell_type": "code",
      "metadata": {
        "id": "2036sMO5Is0V"
      },
      "source": [
        "data = data[data['sample']!='na']\n",
        "data = data[data['sample']!='liver']"
      ],
      "execution_count": 46,
      "outputs": []
    },
    {
      "cell_type": "code",
      "metadata": {
        "id": "NGRo1k4ihHKW"
      },
      "source": [
        "labels = ['phylum', 'class', 'genus', 'species', 'form', 'sample']"
      ],
      "execution_count": 38,
      "outputs": []
    },
    {
      "cell_type": "code",
      "metadata": {
        "id": "-514wy5IC6ly"
      },
      "source": [
        "train, val = train_test_split(\n",
        "    data, test_size=0.25, random_state=0,stratify = data['species'])"
      ],
      "execution_count": 47,
      "outputs": []
    },
    {
      "cell_type": "code",
      "metadata": {
        "id": "X_TBGtM5B53e",
        "colab": {
          "base_uri": "https://localhost:8080/"
        },
        "outputId": "9bb96dbe-da5d-465b-b8f1-c696a800a1e1"
      },
      "source": [
        "for col in labels:\n",
        "  print(15*'-'+col+15*'-')\n",
        "  print(set(train[col].unique())-set(val[col].unique()))\n",
        "  print(set(val[col].unique())-set(train[col].unique()))\n",
        "  print(train[col].nunique(),val[col].nunique(),sep = ' -> ')\n",
        "  print(val[col].nunique(),train[col].nunique(),sep = ' -> ')"
      ],
      "execution_count": 48,
      "outputs": [
        {
          "output_type": "stream",
          "text": [
            "---------------phylum---------------\n",
            "set()\n",
            "set()\n",
            "5 -> 5\n",
            "5 -> 5\n",
            "---------------class---------------\n",
            "set()\n",
            "set()\n",
            "7 -> 7\n",
            "7 -> 7\n",
            "---------------genus---------------\n",
            "set()\n",
            "set()\n",
            "11 -> 11\n",
            "11 -> 11\n",
            "---------------species---------------\n",
            "set()\n",
            "set()\n",
            "15 -> 15\n",
            "15 -> 15\n",
            "---------------form---------------\n",
            "set()\n",
            "set()\n",
            "7 -> 7\n",
            "7 -> 7\n",
            "---------------sample---------------\n",
            "set()\n",
            "set()\n",
            "4 -> 4\n",
            "4 -> 4\n"
          ],
          "name": "stdout"
        }
      ]
    },
    {
      "cell_type": "code",
      "metadata": {
        "id": "lQkoJtr3ZnfA"
      },
      "source": [
        "del test,val2"
      ],
      "execution_count": 52,
      "outputs": []
    },
    {
      "cell_type": "code",
      "metadata": {
        "id": "pqCGk3KHZE_C"
      },
      "source": [
        "val2, test = train_test_split(\n",
        "    val, test_size=0.50, random_state=0,stratify = val['species'])"
      ],
      "execution_count": 53,
      "outputs": []
    },
    {
      "cell_type": "code",
      "metadata": {
        "id": "3PnaOUdZZ5_y",
        "outputId": "0c45d39f-c2c3-4b22-fefe-b56045419376",
        "colab": {
          "base_uri": "https://localhost:8080/"
        }
      },
      "source": [
        "val['form'].value_counts()"
      ],
      "execution_count": 30,
      "outputs": [
        {
          "output_type": "execute_result",
          "data": {
            "text/plain": [
              "trophozoites    20\n",
              "egg             18\n",
              "oocysts         15\n",
              "adult           12\n",
              "gametocyte      10\n",
              "larva            9\n",
              "cyst             9\n",
              "schizont         6\n",
              "sarcocysts       1\n",
              "Name: form, dtype: int64"
            ]
          },
          "metadata": {
            "tags": []
          },
          "execution_count": 30
        }
      ]
    },
    {
      "cell_type": "code",
      "metadata": {
        "colab": {
          "base_uri": "https://localhost:8080/"
        },
        "id": "s4qhRQlBZE_D",
        "outputId": "75c7cd5b-aeed-452e-cab8-c97cfe6c951f"
      },
      "source": [
        "for col in labels:\n",
        "  print(15*'-'+col+15*'-')\n",
        "  print(set(val2[col].unique())-set(test[col].unique()))\n",
        "  print(set(test[col].unique())-set(val2[col].unique()))\n",
        "  print(val2[col].nunique(),test[col].nunique(),sep = ' -> ')\n",
        "  print(test[col].nunique(),val2[col].nunique(),sep = ' -> ')"
      ],
      "execution_count": 54,
      "outputs": [
        {
          "output_type": "stream",
          "text": [
            "---------------phylum---------------\n",
            "set()\n",
            "set()\n",
            "5 -> 5\n",
            "5 -> 5\n",
            "---------------class---------------\n",
            "set()\n",
            "set()\n",
            "7 -> 7\n",
            "7 -> 7\n",
            "---------------genus---------------\n",
            "set()\n",
            "set()\n",
            "11 -> 11\n",
            "11 -> 11\n",
            "---------------species---------------\n",
            "set()\n",
            "set()\n",
            "15 -> 15\n",
            "15 -> 15\n",
            "---------------form---------------\n",
            "set()\n",
            "set()\n",
            "7 -> 7\n",
            "7 -> 7\n",
            "---------------sample---------------\n",
            "set()\n",
            "set()\n",
            "4 -> 4\n",
            "4 -> 4\n"
          ],
          "name": "stdout"
        }
      ]
    },
    {
      "cell_type": "code",
      "metadata": {
        "id": "uAfIwDvXikB4"
      },
      "source": [
        "for path in train['species'].unique():\n",
        "  os.makedirs(f\"/content/train/{path}\")\n",
        "\n",
        "\n",
        "for path in val['species'].unique():\n",
        "  os.makedirs(f\"/content/val/{path}\")\n",
        "\n",
        "for path in test['species'].unique():\n",
        "  os.makedirs(f\"/content/test/{path}\")"
      ],
      "execution_count": 64,
      "outputs": []
    },
    {
      "cell_type": "code",
      "metadata": {
        "id": "YjH6jH6rQO7G"
      },
      "source": [
        "!rm -r train val test"
      ],
      "execution_count": 63,
      "outputs": []
    },
    {
      "cell_type": "code",
      "metadata": {
        "id": "bT_WhR_7iftq"
      },
      "source": [
        "t = []\n",
        "t.append(torchvision.transforms.Compose([\n",
        "        torchvision.transforms.GaussianBlur(5),\n",
        "        torchvision.transforms.RandomPerspective(p=1)]))\n",
        "\n",
        "t.append(torchvision.transforms.Compose([\n",
        "        torchvision.transforms.GaussianBlur(5),\n",
        "        torchvision.transforms.RandomVerticalFlip(p=1)]))\n",
        "\n",
        "\n",
        "t.append(torchvision.transforms.Compose([\n",
        "        torchvision.transforms.Grayscale(3),\n",
        "        torchvision.transforms.RandomVerticalFlip(p=1)]))\n",
        "\n",
        "t.append(torchvision.transforms.Compose([\n",
        "        torchvision.transforms.Grayscale(3),\n",
        "        torchvision.transforms.RandomPerspective(p=1)]))"
      ],
      "execution_count": 58,
      "outputs": []
    },
    {
      "cell_type": "code",
      "metadata": {
        "id": "WSjXpnmKh9tK"
      },
      "source": [
        "def transform_save(data,index,folder):\n",
        "  img = Image.open(data[8])\n",
        "  images = [img]\n",
        "  images.extend([T(img) for T in t])\n",
        "  image_name = data[6].split('.')[0]\n",
        "  for i, image in enumerate(images):\n",
        "    image.convert('RGB').save(f\"/content/{folder}/{data[3]}/{image_name}_{i}_{index}.jpg\")\n",
        "  values = [[data[0],data[1],data[2],data[3],data[4],data[5],f\"./{folder}/{data[3]}/{image_name}_{i}_{index}.jpg\"] for i in range(len(images))]\n",
        "  return values\n",
        "\n",
        "\n",
        "def get_dataframe(dataframe,folder = 'train'):\n",
        "  new = []\n",
        "  for i in dataframe.index:\n",
        "    new.extend(transform_save(dataframe.loc[i,:].values,index =i,folder=folder))\n",
        "  return pd.DataFrame(new,columns=['phylum','class','genus','species','form','sample','img_path'])"
      ],
      "execution_count": 59,
      "outputs": []
    },
    {
      "cell_type": "code",
      "metadata": {
        "id": "jmX2igYlHKko"
      },
      "source": [
        ""
      ],
      "execution_count": null,
      "outputs": []
    },
    {
      "cell_type": "code",
      "metadata": {
        "id": "P2dhnhkbi2YD"
      },
      "source": [
        "train = get_dataframe(train)"
      ],
      "execution_count": 65,
      "outputs": []
    },
    {
      "cell_type": "code",
      "metadata": {
        "id": "M2NhlqOwjQus"
      },
      "source": [
        "val = get_dataframe(val,folder = 'val')"
      ],
      "execution_count": 66,
      "outputs": []
    },
    {
      "cell_type": "code",
      "metadata": {
        "id": "vWnuuqt-cCDN"
      },
      "source": [
        "test = get_dataframe(test,folder = 'test')"
      ],
      "execution_count": 67,
      "outputs": []
    },
    {
      "cell_type": "code",
      "metadata": {
        "id": "2L4PsAnAjccE"
      },
      "source": [
        "train.to_csv('/content/train/train.csv',index = False)\n",
        "val.to_csv('/content/val/val.csv',index = False)\n",
        "test.to_csv('/content/test/test.csv',index = False)"
      ],
      "execution_count": 68,
      "outputs": []
    },
    {
      "cell_type": "code",
      "metadata": {
        "id": "WIcm-djqkERM",
        "colab": {
          "base_uri": "https://localhost:8080/"
        },
        "outputId": "f1e97f55-cd0e-4b29-d8e4-7d49e1ff6b6d"
      },
      "source": [
        "!7z a TrainP.7z train\n",
        "!7z a ValP.7z val\n",
        "!7z a TestP.7z Test"
      ],
      "execution_count": 69,
      "outputs": [
        {
          "output_type": "stream",
          "text": [
            "\n",
            "7-Zip [64] 16.02 : Copyright (c) 1999-2016 Igor Pavlov : 2016-05-21\n",
            "p7zip Version 16.02 (locale=en_US.UTF-8,Utf16=on,HugeFiles=on,64 bits,4 CPUs AMD EPYC 7B12 (830F10),ASM,AES-NI)\n",
            "\n",
            "Scanning the drive:\n",
            "  0M Scan \b\b\b\b\b\b\b\b\b\b          \b\b\b\b\b\b\b\b\b\b16 folders, 1141 files, 11408082 bytes (11 MiB)\n",
            "\n",
            "Creating archive: TrainP.7z\n",
            "\n",
            "Items to compress: 1157\n",
            "\n",
            "  0%\b\b\b\b    \b\b\b\b 12% 220 + train/Cyclospora cayetanensis/Cyclospora_wetmount_HB1_0_159.jpg\b\b\b\b\b\b\b\b\b\b\b\b\b\b\b\b\b\b\b\b\b\b\b\b\b\b\b\b\b\b\b\b\b\b\b\b\b\b\b\b\b\b\b\b\b\b\b\b\b\b\b\b\b\b\b\b\b\b\b\b\b\b\b\b\b\b\b\b\b\b\b\b\b\b                                                                          \b\b\b\b\b\b\b\b\b\b\b\b\b\b\b\b\b\b\b\b\b\b\b\b\b\b\b\b\b\b\b\b\b\b\b\b\b\b\b\b\b\b\b\b\b\b\b\b\b\b\b\b\b\b\b\b\b\b\b\b\b\b\b\b\b\b\b\b\b\b\b\b\b\b 25% 357 + train/Entamoeba histolytica/Ehisto_troph_tric6_2_22.jpg\b\b\b\b\b\b\b\b\b\b\b\b\b\b\b\b\b\b\b\b\b\b\b\b\b\b\b\b\b\b\b\b\b\b\b\b\b\b\b\b\b\b\b\b\b\b\b\b\b\b\b\b\b\b\b\b\b\b\b\b\b\b\b\b\b\b                                                                  \b\b\b\b\b\b\b\b\b\b\b\b\b\b\b\b\b\b\b\b\b\b\b\b\b\b\b\b\b\b\b\b\b\b\b\b\b\b\b\b\b\b\b\b\b\b\b\b\b\b\b\b\b\b\b\b\b\b\b\b\b\b\b\b\b\b 39% 507 + train/Giardia duodenalis/Giardia_troph_kohn_2_313.jpg\b\b\b\b\b\b\b\b\b\b\b\b\b\b\b\b\b\b\b\b\b\b\b\b\b\b\b\b\b\b\b\b\b\b\b\b\b\b\b\b\b\b\b\b\b\b\b\b\b\b\b\b\b\b\b\b\b\b\b\b\b\b\b\b                                                                \b\b\b\b\b\b\b\b\b\b\b\b\b\b\b\b\b\b\b\b\b\b\b\b\b\b\b\b\b\b\b\b\b\b\b\b\b\b\b\b\b\b\b\b\b\b\b\b\b\b\b\b\b\b\b\b\b\b\b\b\b\b\b\b 54% 682 + train/Plasmodium falciparum/Pf_rings_thinB_2_40.jpg\b\b\b\b\b\b\b\b\b\b\b\b\b\b\b\b\b\b\b\b\b\b\b\b\b\b\b\b\b\b\b\b\b\b\b\b\b\b\b\b\b\b\b\b\b\b\b\b\b\b\b\b\b\b\b\b\b\b\b\b\b\b                                                              \b\b\b\b\b\b\b\b\b\b\b\b\b\b\b\b\b\b\b\b\b\b\b\b\b\b\b\b\b\b\b\b\b\b\b\b\b\b\b\b\b\b\b\b\b\b\b\b\b\b\b\b\b\b\b\b\b\b\b\b\b\b 68% 860 + train/Plasmodium ovale/Po_gametocyte_thinE_0_96.jpg\b\b\b\b\b\b\b\b\b\b\b\b\b\b\b\b\b\b\b\b\b\b\b\b\b\b\b\b\b\b\b\b\b\b\b\b\b\b\b\b\b\b\b\b\b\b\b\b\b\b\b\b\b\b\b\b\b\b\b\b\b\b                                                              \b\b\b\b\b\b\b\b\b\b\b\b\b\b\b\b\b\b\b\b\b\b\b\b\b\b\b\b\b\b\b\b\b\b\b\b\b\b\b\b\b\b\b\b\b\b\b\b\b\b\b\b\b\b\b\b\b\b\b\b\b\b 82% 1034 + train/Sarcocystis sp./Sarcocystis_DIC2_400x_4_193.jpg\b\b\b\b\b\b\b\b\b\b\b\b\b\b\b\b\b\b\b\b\b\b\b\b\b\b\b\b\b\b\b\b\b\b\b\b\b\b\b\b\b\b\b\b\b\b\b\b\b\b\b\b\b\b\b\b\b\b\b\b\b\b\b\b\b                                                                 \b\b\b\b\b\b\b\b\b\b\b\b\b\b\b\b\b\b\b\b\b\b\b\b\b\b\b\b\b\b\b\b\b\b\b\b\b\b\b\b\b\b\b\b\b\b\b\b\b\b\b\b\b\b\b\b\b\b\b\b\b\b\b\b\b 96% 1141 + train/train.csv\b\b\b\b\b\b\b\b\b\b\b\b\b\b\b\b\b\b\b\b\b\b\b\b\b\b\b                           \b\b\b\b\b\b\b\b\b\b\b\b\b\b\b\b\b\b\b\b\b\b\b\b\b\b\b\n",
            "Files read from disk: 1141\n",
            "Archive size: 10128864 bytes (9892 KiB)\n",
            "Everything is Ok\n",
            "\n",
            "7-Zip [64] 16.02 : Copyright (c) 1999-2016 Igor Pavlov : 2016-05-21\n",
            "p7zip Version 16.02 (locale=en_US.UTF-8,Utf16=on,HugeFiles=on,64 bits,4 CPUs AMD EPYC 7B12 (830F10),ASM,AES-NI)\n",
            "\n",
            "Scanning the drive:\n",
            "  0M Scan \b\b\b\b\b\b\b\b\b\b          \b\b\b\b\b\b\b\b\b\b16 folders, 386 files, 3547061 bytes (3464 KiB)\n",
            "\n",
            "Creating archive: ValP.7z\n",
            "\n",
            "Items to compress: 402\n",
            "\n",
            "  0%\b\b\b\b    \b\b\b\b 40% 242 + val/Plasmodium falciparum/Pf_troph_thinE_2_55.jpg\b\b\b\b\b\b\b\b\b\b\b\b\b\b\b\b\b\b\b\b\b\b\b\b\b\b\b\b\b\b\b\b\b\b\b\b\b\b\b\b\b\b\b\b\b\b\b\b\b\b\b\b\b\b\b\b\b\b\b\b                                                            \b\b\b\b\b\b\b\b\b\b\b\b\b\b\b\b\b\b\b\b\b\b\b\b\b\b\b\b\b\b\b\b\b\b\b\b\b\b\b\b\b\b\b\b\b\b\b\b\b\b\b\b\b\b\b\b\b\b\b\b 86% 386 + val/val.csv\b\b\b\b\b\b\b\b\b\b\b\b\b\b\b\b\b\b\b\b\b\b                      \b\b\b\b\b\b\b\b\b\b\b\b\b\b\b\b\b\b\b\b\b\b\n",
            "Files read from disk: 386\n",
            "Archive size: 3143171 bytes (3070 KiB)\n",
            "Everything is Ok\n",
            "\n",
            "7-Zip [64] 16.02 : Copyright (c) 1999-2016 Igor Pavlov : 2016-05-21\n",
            "p7zip Version 16.02 (locale=en_US.UTF-8,Utf16=on,HugeFiles=on,64 bits,4 CPUs AMD EPYC 7B12 (830F10),ASM,AES-NI)\n",
            "\n",
            "Scanning the drive:\n",
            "  0M Scan \b\b\b\b\b\b\b\b\b\b          \b\b\b\b\b\b\b\b\b\b\n",
            "WARNING: No more files\n",
            "Test\n",
            "\n",
            "0 files, 0 bytes\n",
            "\n",
            "Creating archive: TestP.7z\n",
            "\n",
            "Items to compress: 0\n",
            "\n",
            "  0%\b\b\b\b    \b\b\b\b\n",
            "Files read from disk: 0\n",
            "Archive size: 32 bytes (1 KiB)\n",
            "\n",
            "Scan WARNINGS for files and folders:\n",
            "\n",
            "Test : No more files\n",
            "----------------\n",
            "Scan WARNINGS: 1\n"
          ],
          "name": "stdout"
        }
      ]
    },
    {
      "cell_type": "code",
      "metadata": {
        "id": "HP8VG4Oze0CX",
        "colab": {
          "base_uri": "https://localhost:8080/"
        },
        "outputId": "931feea1-df24-4d7b-d301-4cae9398830f"
      },
      "source": [
        "labels = ['phylum', 'class', 'genus', 'species', 'form', 'sample']\n",
        "train = pd.read_csv(\"/content/train/train.csv\")\n",
        "# train = train[train['sample']!='na']\n",
        "# train = train[train['sample']!='liver'] \n",
        "val = pd.read_csv(\"/content/val/val.csv\")\n",
        "test = pd.read_csv(\"/content/test/test.csv\")\n",
        "# val = val[val['sample']!='na']\n",
        "# val = val[val['sample']!='liver']\n",
        "for col in labels:\n",
        "  print(15*'-'+col+15*'-')\n",
        "  print(train[col].nunique(),val[col].nunique(),test[col].nunique(),sep=' -> ')"
      ],
      "execution_count": 70,
      "outputs": [
        {
          "output_type": "stream",
          "text": [
            "---------------phylum---------------\n",
            "5 -> 5 -> 5\n",
            "---------------class---------------\n",
            "7 -> 7 -> 7\n",
            "---------------genus---------------\n",
            "11 -> 11 -> 11\n",
            "---------------species---------------\n",
            "15 -> 15 -> 15\n",
            "---------------form---------------\n",
            "7 -> 7 -> 7\n",
            "---------------sample---------------\n",
            "4 -> 4 -> 4\n"
          ],
          "name": "stdout"
        }
      ]
    },
    {
      "cell_type": "code",
      "metadata": {
        "id": "q2WS8vTJm27j"
      },
      "source": [
        ""
      ],
      "execution_count": null,
      "outputs": []
    }
  ]
}